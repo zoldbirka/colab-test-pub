{
 "cells": [
  {
   "cell_type": "markdown",
   "metadata": {
    "id": "uKn5TiKO3LHs",
    "jp-MarkdownHeadingCollapsed": true,
    "tags": []
   },
   "source": [
    "# 3. alkalom: Vezérlési szerkezetek I.\n",
    "\n",
    "- Pythonban a vezérlési szerkezetek belsejét behúzással kell jelölni.\n",
    "- Ezt a behúzást a ```Tab``` billenytű lenyomásával érhetjük el\n",
    "- Emiatt garantált, hogy a program megjelenése és logikai jelentése összhangban van."
   ]
  },
  {
   "cell_type": "markdown",
   "metadata": {},
   "source": [
    "## for ciklus:\n",
    "\n",
    "- [for ciklus a Python dokumentációban](https://docs.python.org/3/reference/compound_stmts.html#the-for-statement)\n",
    "\n",
    "- Szintaxis:\n",
    "```\n",
    "  for ELEM in SZEKVENCIA:\n",
    "      UTASÍTÁS\n",
    "```"
   ]
  },
  {
   "cell_type": "markdown",
   "metadata": {},
   "source": [
    "- Megjegyzések:\n",
    "  + A szekvencia lehet egész számok folytonos sorozata, de lehet más is (pl. sztring, tuple, lista, halmaz, szótár, megnyitott fájl).\n",
    "  + Akkor érdemes for ciklust alkalmazni, ha A) a szekvencia már rendelkezésre áll vagy B) a ciklus kezdetekor tudjuk az iterációk számát."
   ]
  },
  {
   "cell_type": "markdown",
   "metadata": {},
   "source": [
    "### 1.példa\n",
    "Írjuk ki az alábbi könyvcímeket egymás alá a képernyőre:\n",
    "\n",
    "Jane Eyre, Shirley, Agnes Grey, Üvöltő Szelek"
   ]
  },
  {
   "cell_type": "code",
   "execution_count": 25,
   "metadata": {},
   "outputs": [
    {
     "name": "stdout",
     "output_type": "stream",
     "text": [
      "Jane Eyre\n",
      "Shirley\n",
      "Agnes Grey\n",
      "Üvöltő szelek\n"
     ]
    }
   ],
   "source": [
    "# ha csak az eddigi tudásunkat alkalmazzuk\n",
    "\n",
    "konyv_lista = ['Jane Eyre', 'Shirley', 'Agnes Grey', 'Üvöltő szelek']\n",
    "\n",
    "print(konyv_lista[0])\n",
    "print(konyv_lista[1])\n",
    "print(konyv_lista[2])\n",
    "print(konyv_lista[3])"
   ]
  },
  {
   "cell_type": "code",
   "execution_count": 1,
   "metadata": {},
   "outputs": [],
   "source": [
    "# Na de mi van, ha bővül a lista tovabbi konyvekkel? \n",
    "konyv_lista = ['Jane Eyre', 'Shirley', 'Agnes Grey', 'Üvöltő szelek']\n",
    "uj_konyvek = ['Wildfell asszonya', 'Villette', 'Henry Hastings kapitány']"
   ]
  },
  {
   "cell_type": "code",
   "execution_count": 27,
   "metadata": {},
   "outputs": [
    {
     "name": "stdout",
     "output_type": "stream",
     "text": [
      "['Jane Eyre', 'Shirley', 'Agnes Grey', 'Üvöltő szelek', 'Wildfell asszonya', 'Villette', 'Henry Hastings kapitány']\n"
     ]
    }
   ],
   "source": [
    "# új könyvek hozzáfűzése az eredeti listához\n",
    "konyv_lista = konyv_lista + uj_konyvek\n",
    "print(konyv_lista)"
   ]
  },
  {
   "cell_type": "code",
   "execution_count": 2,
   "metadata": {},
   "outputs": [
    {
     "name": "stdout",
     "output_type": "stream",
     "text": [
      "['Jane Eyre', 'Shirley', 'Agnes Grey', 'Üvöltő szelek', 'Wildfell asszonya', 'Villette', 'Henry Hastings kapitány']\n"
     ]
    }
   ],
   "source": [
    "# de a hozzáfűzést is elvégezhetem for ciklussal:\n",
    "konyv_lista = ['Jane Eyre', 'Shirley', 'Agnes Grey', 'Üvöltő szelek']\n",
    "uj_konyvek = ['Wildfell asszonya', 'Villette', 'Henry Hastings kapitány']\n",
    "\n",
    "for konyv in uj_konyvek:\n",
    "    konyv_lista.append(konyv)\n",
    "\n",
    "print(konyv_lista) # ez már a cikluson kívüli utasítás!"
   ]
  },
  {
   "cell_type": "code",
   "execution_count": 28,
   "metadata": {},
   "outputs": [
    {
     "name": "stdout",
     "output_type": "stream",
     "text": [
      "Jane Eyre\n",
      "Shirley\n",
      "Agnes Grey\n",
      "Üvöltő szelek\n",
      "Wildfell asszonya\n",
      "Villette\n",
      "Henry Hastings kapitány\n"
     ]
    }
   ],
   "source": [
    "# írjuk ki a neveket for ciklussal\n",
    "for konyv in konyv_lista:\n",
    "    print(konyv)"
   ]
  },
  {
   "cell_type": "code",
   "execution_count": 29,
   "metadata": {},
   "outputs": [
    {
     "name": "stdout",
     "output_type": "stream",
     "text": [
      "1. könyv: Jane Eyre\n",
      "2. könyv: Shirley\n",
      "3. könyv: Agnes Grey\n",
      "4. könyv: Üvöltő szelek\n",
      "5. könyv: Wildfell asszonya\n",
      "6. könyv: Villette\n",
      "7. könyv: Henry Hastings kapitány\n"
     ]
    }
   ],
   "source": [
    "# sorszámozzuk a kiírt könyvcímeket\n",
    "sorszam = 1\n",
    "for konyv in konyv_lista:\n",
    "    print(str(sorszam)+\". könyv:\" , konyv)\n",
    "#    sorszam = sorszam + 1\n",
    "    sorszam += 1"
   ]
  },
  {
   "cell_type": "markdown",
   "metadata": {},
   "source": [
    "### 1.példa folytatása\n",
    "Írjuk ki az alábbi könyvcímeket egymás alá a képernyőre sorszámozva.\n",
    " - a könyvcímek után tüntessük fel az egyes címek hosszát is zárójelben\n",
    " - mekkora a könyvcímek összhosszúsága?\n",
    " - mekkora a könyvcímek átlagos hossza?"
   ]
  },
  {
   "cell_type": "code",
   "execution_count": 22,
   "metadata": {},
   "outputs": [],
   "source": [
    "konyv_lista = ['Jane Eyre', \n",
    "               'Shirley', \n",
    "               'Agnes Grey', \n",
    "               'Üvöltő szelek', \n",
    "               'Wildfell asszonya', \n",
    "               'Villette', \n",
    "               'Henry Hastings kapitány'\n",
    "               ]"
   ]
  },
  {
   "cell_type": "code",
   "execution_count": 44,
   "metadata": {},
   "outputs": [
    {
     "name": "stdout",
     "output_type": "stream",
     "text": [
      "1. könyv: Jane Eyre \t(9 karakter)\n",
      "2. könyv: Shirley \t(7 karakter)\n",
      "3. könyv: Agnes Grey \t(10 karakter)\n",
      "4. könyv: Üvöltő szelek \t(13 karakter)\n",
      "5. könyv: Wildfell asszonya \t(17 karakter)\n",
      "6. könyv: Villette \t(8 karakter)\n",
      "7. könyv: Henry Hastings kapitány \t(23 karakter)\n",
      "\n",
      "A könyvcímek összhossza:  87 karakter\n",
      "\n",
      "A könyvcímek átlagos hossza:  12.43\n"
     ]
    }
   ],
   "source": [
    "sorszam = 1\n",
    "ossz_hossz = 0\n",
    "for konyv in konyv_lista:\n",
    "    hossz = len(konyv)\n",
    "    print(str(sorszam)+\". könyv:\" , konyv, f\"\\t({hossz} karakter)\")\n",
    "    sorszam += 1\n",
    "    ossz_hossz += hossz\n",
    "atlag = ossz_hossz/len(konyv_lista)\n",
    "print()\n",
    "print(\"A könyvcímek összhossza: \", ossz_hossz, \"karakter\")\n",
    "print()\n",
    "print(\"A könyvcímek átlagos hossza: \", f'{atlag:.2f}' )"
   ]
  },
  {
   "cell_type": "markdown",
   "metadata": {},
   "source": [
    "### 2.példa\n",
    "a) Írjuk ki a képernyőre az első 10 négyzetszámot!\n",
    "\n",
    "b) Gyűjtsük össze egy listába az első 10 négyzetszámot!"
   ]
  },
  {
   "cell_type": "code",
   "execution_count": 47,
   "metadata": {},
   "outputs": [
    {
     "data": {
      "text/plain": [
       "[0, 1, 2, 3, 4, 5, 6, 7, 8, 9]"
      ]
     },
     "execution_count": 47,
     "metadata": {},
     "output_type": "execute_result"
    }
   ],
   "source": [
    "# Értéktartomány (range) létrehozása.\n",
    "list(range(10))"
   ]
  },
  {
   "cell_type": "code",
   "execution_count": 49,
   "metadata": {},
   "outputs": [
    {
     "data": {
      "text/plain": [
       "[1, 3, 5, 7, 9]"
      ]
     },
     "execution_count": 49,
     "metadata": {},
     "output_type": "execute_result"
    }
   ],
   "source": [
    "# 3 paraméter: kezdő érték (1), minél kisebb (11), mekkora lépésközzel (2) \n",
    "list(range(1, 10 + 1, 2))"
   ]
  },
  {
   "cell_type": "code",
   "execution_count": 52,
   "metadata": {},
   "outputs": [
    {
     "name": "stdout",
     "output_type": "stream",
     "text": [
      "1\n",
      "4\n",
      "9\n",
      "16\n",
      "25\n",
      "36\n",
      "49\n",
      "64\n",
      "81\n",
      "100\n"
     ]
    }
   ],
   "source": [
    "n = 10\n",
    "for elem in range(1, n + 1):\n",
    "    print(elem**2)"
   ]
  },
  {
   "cell_type": "code",
   "execution_count": 53,
   "metadata": {},
   "outputs": [
    {
     "name": "stdout",
     "output_type": "stream",
     "text": [
      "[1, 4, 9, 16, 25, 36, 49, 64, 81, 100]\n"
     ]
    }
   ],
   "source": [
    "n = 10\n",
    "negyzetszamok = []   # üres lista\n",
    "for elem in range(1, n + 1):\n",
    "    negyzetszamok.append(elem**2)\n",
    "print(negyzetszamok)"
   ]
  },
  {
   "cell_type": "markdown",
   "metadata": {},
   "source": [
    "### 3.példa\n",
    "a) Írjuk ki a képernyőre n darab * karaktert!\n",
    "\n",
    "b) Készítsünk n-szer n-es háromszöget * karakterekből!\n",
    "```\n",
    "n = 4 \n",
    "*\n",
    "**\n",
    "***\n",
    "****\n",
    "````"
   ]
  },
  {
   "cell_type": "code",
   "execution_count": 3,
   "metadata": {},
   "outputs": [
    {
     "name": "stdout",
     "output_type": "stream",
     "text": [
      "***\n",
      "***\n"
     ]
    }
   ],
   "source": [
    "# Példa: n darab * karakter kiírása.\n",
    "n = 3\n",
    "# for ciklussal\n",
    "for elem in range(n):\n",
    "    print(\"*\",end=\"\")\n",
    "\n",
    "print()\n",
    "# beépített lehetőséggel egyszerűbb\n",
    "print(\"*\"*n)  "
   ]
  },
  {
   "cell_type": "code",
   "execution_count": 58,
   "metadata": {},
   "outputs": [
    {
     "name": "stdout",
     "output_type": "stream",
     "text": [
      "*\n",
      "**\n",
      "***\n",
      "****\n"
     ]
    }
   ],
   "source": [
    "# Példa: n-szer n-es háromszög * karakterekből.\n",
    "n = 4\n",
    "for elem in range(n):\n",
    "    print(\"*\" * (elem + 1))"
   ]
  },
  {
   "cell_type": "markdown",
   "metadata": {},
   "source": [
    "### 4.példa:\n",
    "a) Számoljuk meg a magánhangzókat egy angol kisbetűs szövegben!\n",
    "\n",
    "b) Készítsünk statisztikát a magánhangzókról! Azaz külön, külön legyen meg minden magánhangzóra a darabszáma."
   ]
  },
  {
   "cell_type": "markdown",
   "metadata": {},
   "source": [
    "**a) Stratégia:** Végigmegyünk a szöveg karakterein és ha találtunk egy magánhangzót azt följegyezzük egy gyűjtő változóba."
   ]
  },
  {
   "cell_type": "code",
   "execution_count": 63,
   "metadata": {},
   "outputs": [
    {
     "name": "stdout",
     "output_type": "stream",
     "text": [
      "A magángangzók száma:  12\n"
     ]
    }
   ],
   "source": [
    "# a) Magánhangzók megszámolása (angol kisbetűs szövegben).\n",
    "text = 'This is a short text for testing the algorithm.'\n",
    "vowels = {'a', 'e', 'i', 'o', 'u'}\n",
    "\n",
    "\n",
    "v_num = 0\n",
    "for ch in text:\n",
    "    if ch in vowels:\n",
    "        v_num = v_num + 1\n",
    "print(\"A magángangzók száma: \",v_num )"
   ]
  },
  {
   "cell_type": "markdown",
   "metadata": {},
   "source": [
    "**b) Stratégia 1.:** Végigmegyünk az egyes magánhangzókon külön külön. \n",
    "\n",
    "Mindegyik magánhangzónál megvizsgáljuk, hogy hányszor szerepel a szövegben.\n",
    "\n",
    "Az eredményt (magánhangzó --> darabszám) például szótárban eltároljuk."
   ]
  },
  {
   "cell_type": "code",
   "execution_count": 2,
   "metadata": {},
   "outputs": [
    {
     "name": "stdout",
     "output_type": "stream",
     "text": [
      "{'e': 3, 'o': 3, 'a': 2, 'i': 4}\n"
     ]
    }
   ],
   "source": [
    "# b) Magánhangzók statisztikája szótárral\n",
    "text = 'This is a short text for testing the algorithm.'\n",
    "vowels = {'a', 'e', 'i', 'o', 'u'}\n",
    "\n",
    "# teljesen üres szótár feltöltése \n",
    "d = dict()\n",
    "for v in vowels:\n",
    "    for ch in text:\n",
    "        if v == ch:\n",
    "            if v in d:\n",
    "                d[v] += 1\n",
    "            else:\n",
    "                d[v] = 1\n",
    "\n",
    "print(d)"
   ]
  },
  {
   "cell_type": "markdown",
   "metadata": {},
   "source": [
    "**b) Stratégia 2.:** Készítünk egy szótárat aminek a magánhangzók a kulcsai és minden értéket kezdetben 0-ra állítunk. \n",
    "\n",
    "A szövegen végighaladva minden betűnél megvizsgáljuk, hogy szerepel-e a szótárkulcsok között. Ha igen akkor eggyel növelem a megtalált magánhangzónál szereplő értéket."
   ]
  },
  {
   "cell_type": "code",
   "execution_count": 1,
   "metadata": {},
   "outputs": [
    {
     "name": "stdout",
     "output_type": "stream",
     "text": [
      "{'e': 0, 'u': 0, 'o': 0, 'a': 0, 'i': 0}\n",
      "{'e': 3, 'u': 0, 'o': 3, 'a': 2, 'i': 4}\n"
     ]
    }
   ],
   "source": [
    "# b) Magánhangzók statisztikája szótárral (angol kisbetűs szövegben).\n",
    "text = 'This is a short text for testing the algorithm.'\n",
    "vowels = {'a', 'e', 'i', 'o', 'u'}\n",
    "\n",
    "d = dict()\n",
    "\n",
    "# üres szótár inicializálása kulcsokal\n",
    "for ch in vowels:\n",
    "    d[ch] = 0\n",
    "print(d)\n",
    "\n",
    "# adatok feltöltése\n",
    "for ch in text:\n",
    "    if ch in d:\n",
    "        d[ch] += 1\n",
    "\n",
    "print(d)"
   ]
  },
  {
   "cell_type": "markdown",
   "metadata": {},
   "source": [
    "## if (ha) utasítás \n",
    " - [if utasítás a Python dokumentációban](https://docs.python.org/3/reference/compound_stmts.html#the-if-statement)\n",
    "\n",
    "- Szintaxis:\n",
    "```\n",
    "  if FELTÉTEL1:\n",
    "      UTASÍTÁS1\n",
    "  elif FELTÉTEL2:\n",
    "      UTASÍTÁS2\n",
    "  else:\n",
    "      UTASÍTÁS3\n",
    "```\n",
    "- Megjegyzések:\n",
    "  + Több elif ág is szerepelhet.\n",
    "  + Az elif ágak és az else ág is elhagyható.\n",
    "  + Ha az utasítás 1 soros, akkor írható az if-fel elif-fel ill. az else-zel azonos sorba."
   ]
  },
  {
   "cell_type": "markdown",
   "metadata": {},
   "source": [
    "### 1.Példa: Kérsz sört?"
   ]
  },
  {
   "cell_type": "code",
   "execution_count": null,
   "metadata": {},
   "outputs": [
    {
     "name": "stdout",
     "output_type": "stream",
     "text": [
      "15 éves vagy. Nem kaphatsz sört!\n"
     ]
    }
   ],
   "source": [
    "kor = 15\n",
    "if kor >= 18:\n",
    "    print(kor,\"éves vagy. Kaphatsz sört!\")\n",
    "else:\n",
    "    print(kor,\"éves vagy. Nem kaphatsz sört!\")"
   ]
  },
  {
   "cell_type": "markdown",
   "metadata": {},
   "source": [
    "### 2.példa: Mennyi 2*4?\n",
    "Az eredmény függvényében adjunk visszajelzést:\n",
    "- \"Ügyes vagy!\"\n",
    "- \"Gyakorold még a szorzótáblát!\""
   ]
  },
  {
   "cell_type": "code",
   "execution_count": null,
   "metadata": {},
   "outputs": [
    {
     "name": "stdout",
     "output_type": "stream",
     "text": [
      "Gyakorold még a szorzótáblát!\n"
     ]
    }
   ],
   "source": [
    "n = int (input (\"Mennyi 2*4? \"))\n",
    "\n",
    "if n == 8:\n",
    "    print(\"Ügyes vagy!\")\n",
    "else:\n",
    "    print(\"Gyakorold még a szorzótáblát!\")"
   ]
  },
  {
   "cell_type": "markdown",
   "metadata": {},
   "source": [
    "## for ciklus if utasításokkal kombinálva"
   ]
  },
  {
   "cell_type": "markdown",
   "metadata": {},
   "source": [
    "### 1.példa: Számlista elemeinek vizsgálata\n",
    "Az alábbi számlistában vizsgáljuk meg az elemeket:\n",
    "- írjuk ki az adott elemet, majd utána \n",
    "- írjuk ki ha negatív\n",
    "- írjuk ki ha egyjegyű \n",
    "- írjuk ki hogy páros, vagy páratlan"
   ]
  },
  {
   "cell_type": "code",
   "execution_count": 80,
   "metadata": {},
   "outputs": [
    {
     "name": "stdout",
     "output_type": "stream",
     "text": [
      "------------------------------------------\n",
      "Számlista elemeinek vizsgálata:\n",
      "------------------------------------------\n",
      "\n",
      "Vizsgált szám: 0;\t egyjegyű, páros,\n",
      "Vizsgált szám: 99;\t páratlan,\n",
      "Vizsgált szám: -7;\t negatív, páratlan,\n",
      "Vizsgált szám: 56;\t páros,\n",
      "Vizsgált szám: 23;\t páratlan,\n",
      "Vizsgált szám: 6;\t egyjegyű, páros,\n",
      "Vizsgált szám: 1;\t egyjegyű, páratlan,\n",
      "Vizsgált szám: -5;\t negatív, páratlan,\n",
      "Vizsgált szám: 9;\t egyjegyű, páratlan,\n"
     ]
    }
   ],
   "source": [
    "print(\"-\"*42+\"\\nSzámlista elemeinek vizsgálata:\\n\"+\"-\"*42)\n",
    "számlista=[0, 99, -7, 56, 23, 6, 1, -5, 9]\n",
    "\n",
    "for szám in számlista:\n",
    "    print(\"\\nVizsgált szám:\", szám, end=';\\t')\n",
    "    \n",
    "    if szám<0:\n",
    "        print(\" negatív\", end=',')\n",
    "    # nem kell else-ág, mert csak a negatívakra akarunk figyelmeztetni\n",
    "\n",
    "    if 0<=szám<10:  \n",
    "        print(\" egyjegyű\",end=',')\n",
    "\n",
    "    # egyenlőség vizsgálata: '==' jel. Olvasása: \"Egyenlő-e\"\n",
    "    if (szám % 2)==0:    # szám % 2 = szám-nak a 2-vel vett osztási maradéka\n",
    "        print(\" páros\",end=',')\n",
    "    else:\n",
    "        print(\" páratlan\",end=',')\n",
    "print()"
   ]
  },
  {
   "cell_type": "markdown",
   "metadata": {},
   "source": [
    "### 2.példa: összetett feltételek\n",
    "- Az alábbi számlistából válogassa ki a 2-vel és 3-mal is osztható számokat!\n",
    "- Melyik számok oszthatók 7-tel úgy, hogy a négyzetük 3-mal osztva 1 maradékot ad?"
   ]
  },
  {
   "cell_type": "code",
   "execution_count": 81,
   "metadata": {},
   "outputs": [],
   "source": [
    "számlista=[0, 99, -7, 56, 23, 6, 1, -5, 9]"
   ]
  },
  {
   "cell_type": "code",
   "execution_count": 83,
   "metadata": {},
   "outputs": [
    {
     "name": "stdout",
     "output_type": "stream",
     "text": [
      "\n",
      "2-vel és 3-mal is osztható számok listája.\n",
      "0, 6, \n",
      "Melyik számok oszthatók 7-tel úgy, hogy a négyzetük 3-mal osztva 1 maradékot ad?\n",
      "7, 14, 28, 35, 49, 56, 70, 77, 91, 98, "
     ]
    }
   ],
   "source": [
    "print(\"\\n2-vel és 3-mal is osztható számok listája.\")\n",
    "for szám in számlista:\n",
    "    if (szám%2==0) and (szám%3==0): # a szám 2-vel és 3-mal is osztható\n",
    "        print(szám, end=', ')\n",
    "\n",
    "print(\"\\nMelyik számok oszthatók 7-tel úgy, hogy a négyzetük 3-mal osztva 1 maradékot ad?\")\n",
    "for szám in range(100):  # nem fix lista, hanem 0-tól 99-ig megyünk\n",
    "    if (szám % 7==0) and (szám**2 % 3 == 1): # beljebb tördelve a for miatt\n",
    "        print(szám,end=', ')  # még beljebb tördelve az if miatt"
   ]
  },
  {
   "cell_type": "markdown",
   "metadata": {
    "id": "LlA1VABE3LH1"
   },
   "source": [
    "# Feladatok"
   ]
  },
  {
   "cell_type": "markdown",
   "metadata": {},
   "source": [
    "## 1.Feladat: Másodfokú egyenlet megoldása\n",
    "Oldjuk meg az  $\\ ax^2+bx+c = 0 \\ $ alakú másodfokú egyenletet!"
   ]
  },
  {
   "cell_type": "code",
   "execution_count": 2,
   "metadata": {},
   "outputs": [
    {
     "name": "stdout",
     "output_type": "stream",
     "text": [
      "Az a*x^2 + b*x + c = 0 egyenlet megoldása.\n",
      "1.0 2.0 3.0\n",
      "A diszkrimináns értéke: -8.0\n",
      "nincs valós megoldás\n"
     ]
    }
   ],
   "source": [
    "print(\"Az a*x^2 + b*x + c = 0 egyenlet megoldása.\")\n",
    "\n",
    "# a, b és c bekérése \n",
    "a = float(input(\"a = \"))\n",
    "b = float(input(\"b = \"))\n",
    "c = float(input(\"c = \"))\n",
    "\n",
    "# bekért adatok kiírása \n",
    "\n",
    "print(a,b,c)\n",
    "# diszkrimináns  kiszámítása\n",
    "D = b*b -4*a*c\n",
    "print(\"A diszkrimináns értéke:\", D)\n",
    "# visszajelzés a diszkrimináns értékét vizsgálva \n",
    "if D > 0:\n",
    "    x1 = (-b + D**0.5)/(2*a)\n",
    "    x2 = (-b - D**0.5)/(2*a)\n",
    "    print(\"2 valós megoldás:\" , x1,x2)\n",
    "elif D == 0:\n",
    "    x1 = -b /(2*a)\n",
    "    print(\"1 valós megoldás:\" , x1)\n",
    "else:\n",
    "    print(\"nincs valós megoldás\")"
   ]
  },
  {
   "cell_type": "markdown",
   "metadata": {},
   "source": [
    "## 2.Feladat: rövid könyvcímek\n",
    "Az alábbi könyvcímeket tartalmazó listából, keressük ki a rövid (10 karakter vagy annál kevesebb) címeket.\n",
    "\n",
    "A megtalált címeket:\n",
    "- írjuk ki a képernyőre és \n",
    "- gyűjtsük össze egy ```rovid_lista``` nevű listába. "
   ]
  },
  {
   "cell_type": "code",
   "execution_count": null,
   "metadata": {},
   "outputs": [],
   "source": [
    "konyv_lista = ['Jane Eyre', \n",
    "               'Shirley', \n",
    "               'Agnes Grey', \n",
    "               'Üvöltő szelek', \n",
    "               'Wildfell asszonya', \n",
    "               'Villette', \n",
    "               'Henry Hastings kapitány'\n",
    "               ]"
   ]
  },
  {
   "cell_type": "markdown",
   "metadata": {
    "id": "VhCkQ2oY3LH6"
   },
   "source": [
    "## 3.Feladat: (négyzet)számok összege\n",
    "Írjunk programot, ami megadja az első $N$ szám összegét / négyzetösszegét:\n",
    "$$\\sum_{i=1}^{N} i=1+2+\\ldots +N=?\\qquad\\quad \\sum_{i=1}^{N} i^2=1^2+2^2+\\ldots +N^2=?$$"
   ]
  },
  {
   "cell_type": "code",
   "execution_count": null,
   "metadata": {},
   "outputs": [],
   "source": []
  },
  {
   "cell_type": "markdown",
   "metadata": {},
   "source": [
    "## 4.Feladat: Caesar-kódolás\n",
    "Készítsünk programot amely megvalósítja a Caesar kódolást. \n",
    "\n",
    "Ekkor egy számértékkel eltoljuk az abc-t.\n",
    "\n",
    "Például 1-es eltolás esetén:\n",
    "```a --> b; b --> c; ... z --> a```\n",
    "\n",
    "- Feltételezzük, hogy a szöveg latin kisbetűs és szóköz nélküli!\n",
    "- Legyen állítható az eltolás mértéke.\n",
    "\n",
    "Segítség: Ismerkedjünk meg az ```ord()``` és ```chr()``` függvényekkel!"
   ]
  },
  {
   "cell_type": "code",
   "execution_count": 4,
   "metadata": {},
   "outputs": [
    {
     "data": {
      "text/plain": [
       "(97, 122, 25)"
      ]
     },
     "execution_count": 4,
     "metadata": {},
     "output_type": "execute_result"
    }
   ],
   "source": [
    "# ord() karakter --> egészszám  \n",
    "ord(\"a\"), ord(\"z\"), ord(\"z\")-ord(\"a\")"
   ]
  },
  {
   "cell_type": "code",
   "execution_count": 5,
   "metadata": {},
   "outputs": [
    {
     "data": {
      "text/plain": [
       "'d'"
      ]
     },
     "execution_count": 5,
     "metadata": {},
     "output_type": "execute_result"
    }
   ],
   "source": [
    "# chr() egészszám --> karakter\n",
    "chr(100)"
   ]
  },
  {
   "cell_type": "code",
   "execution_count": 8,
   "metadata": {},
   "outputs": [
    {
     "data": {
      "text/plain": [
       "25"
      ]
     },
     "execution_count": 8,
     "metadata": {},
     "output_type": "execute_result"
    }
   ],
   "source": [
    "# 1. lépés: [97, 122] intervallumról átképezzük a betűket a [0,25]-re:\n",
    "betu = \"z\"\n",
    "offset = ord(\"a\")\n",
    "\n",
    "ord(betu) - offset"
   ]
  },
  {
   "cell_type": "code",
   "execution_count": 9,
   "metadata": {},
   "outputs": [
    {
     "data": {
      "text/plain": [
       "1"
      ]
     },
     "execution_count": 9,
     "metadata": {},
     "output_type": "execute_result"
    }
   ],
   "source": [
    "# 2. lépés: eltoljuk mondjuk 2-vel a számértéket, \n",
    "# majd maradékos osztással, ami 25-nél nagyobb (vagy negatív) lett az megy a [0,25] intervallum elejére:\n",
    "eltol = 2\n",
    "( ord(betu) - offset + eltol) % 26"
   ]
  },
  {
   "cell_type": "code",
   "execution_count": 10,
   "metadata": {},
   "outputs": [
    {
     "data": {
      "text/plain": [
       "'b'"
      ]
     },
     "execution_count": 10,
     "metadata": {},
     "output_type": "execute_result"
    }
   ],
   "source": [
    "# 3. lépés: visszaképezzük a [97,122] intervallumra\n",
    "# majd kiolvassuk a kapott betűt a számkódból chr() függvénnyel\n",
    "chr( ( ord(betu) - offset + eltol) % 26 + offset )"
   ]
  },
  {
   "cell_type": "code",
   "execution_count": 15,
   "metadata": {},
   "outputs": [
    {
     "name": "stdout",
     "output_type": "stream",
     "text": [
      "yhqlylglylfl\n"
     ]
    }
   ],
   "source": [
    "# Példa: Caesar-kódolás (latin kisbetűs szövegre, szóköz nélkül).\n",
    "s = 'venividivici' # az eredeti szöveg\n",
    "t = ''             # a kódolt szöveg\n",
    "eltol = 3         # eltolás\n",
    "\n",
    "offset = ord(\"a\")\n",
    "for elem in s:\n",
    "    t += chr( ( ord(elem) - offset + eltol) % 26 + offset )\n",
    "print(t)"
   ]
  },
  {
   "cell_type": "markdown",
   "metadata": {
    "id": "fHCUmX_v3LH1"
   },
   "source": [
    "## 5.Feladat: szorzótábla gyakorló\n",
    "Készítsünk egy szorzótábla gyakorló programot! Az összeszorzandó számokat random módon generáljuk. (Segítség lentebb.)\n",
    "\n",
    "[1] Írjuk ki az aktuális feladványt!\n",
    "\n",
    "[2] Kérjük be a felhasználótól az eredményt!\n",
    "\n",
    "[3] Adjunk visszajelzést az eredmény függvényében:\n",
    " - Dícsérjük meg ha jól számolt: \"Ügyes vagy!\"\n",
    " - Bíztassuk további gyakorlásra ha nem: \"Gyakolrold még a szorzótáblát!\""
   ]
  },
  {
   "cell_type": "code",
   "execution_count": null,
   "metadata": {
    "id": "Tu9JOgh_3LH2"
   },
   "outputs": [],
   "source": [
    "import random as rd"
   ]
  },
  {
   "cell_type": "code",
   "execution_count": null,
   "metadata": {
    "id": "wC58Hiso3LH2"
   },
   "outputs": [],
   "source": [
    "n = rd.randint(1,9)\n",
    "print(n)"
   ]
  },
  {
   "cell_type": "code",
   "execution_count": null,
   "metadata": {
    "id": "CfjgNgaI3LH3"
   },
   "outputs": [],
   "source": []
  },
  {
   "cell_type": "markdown",
   "metadata": {
    "id": "36wBYvMm3LH3"
   },
   "source": [
    "## 6.Feladat: Egyszerű megrendelés kezelő program\n",
    "Online sportboltunkban az alábbi raktárkészlet található. (**raktar** nevű szótár)\n",
    "\n",
    "Írjunk egy programot, ami megkérdezi, hogy mit szeretnénk vásásrolni. Majd utána megkérdezi, hogy abból hány darabot. Ha ez megvalósítható, akkor programunk vegye le raktárkészletről a megvásárolandó termékeket. \n",
    "\n",
    "Kezelje a program az alábbi eseteket is: \n",
    " - Nem is árúsítjuk az adott terméket \n",
    " - Árúsítjuk a terméket, de most nincs raktárkészleten\n",
    " - Túl sokat szeretne rendelni a vevő. Ekkor adjunk visszajelzést az elérhető darabszámról.  "
   ]
  },
  {
   "cell_type": "code",
   "execution_count": null,
   "metadata": {
    "id": "Ag63kg1o3LH3"
   },
   "outputs": [],
   "source": [
    "raktar = {\"focilabda\":10, \"jégcsákány\":1, \"pingpong ütő\": 4, \"tollaslabda\": 9, \"roller\": 3}"
   ]
  },
  {
   "cell_type": "code",
   "execution_count": null,
   "metadata": {
    "id": "SMQFQ7nx3LH4"
   },
   "outputs": [],
   "source": []
  },
  {
   "cell_type": "markdown",
   "metadata": {
    "id": "Ya1fRg9o3LH5"
   },
   "source": [
    "## 7.Feladat: Háromszög oldalak bekérése\n",
    "Írjon egy programot, ami bekéri egy háromszög 3 oldalhosszát. (a,b,c)\n",
    "A program csak a valóban szerkeszthető háromszög oldalakat fogadja el. \n",
    "\n",
    "Azaz ellenőrizze, hogy\n",
    "\n",
    " - lehetnek-e az adatok oldalhosszak? Azaz pozitívak-e a megadott számok? \n",
    " - továbbá teljesül-e a háromszög egyenlőtlenség? (Bármely két oldal összege nagyobb a harmadiknál.)\n",
    "\n",
    "Ha valamelyik feltétel sérül arról adjon visszajelzést!"
   ]
  },
  {
   "cell_type": "code",
   "execution_count": null,
   "metadata": {
    "id": "5dGS7-ku3LH5"
   },
   "outputs": [],
   "source": []
  },
  {
   "cell_type": "markdown",
   "metadata": {
    "id": "1YT20KWv3LH6"
   },
   "source": [
    "## 8. Feladat: Leibniz formula\n",
    "Írjon programot ami az alábbi formula segítségével közelíti $\\pi$ értékét!\n",
    "$$\\boxed{1\\,-\\,{\\frac {1}{3}}\\,+\\,{\\frac {1}{5}}\\,-\\,{\\frac {1}{7}}\\,+\\,{\\frac {1}{9}}\\,-\\,\\cdots \\,=\\,{\\frac {\\pi }{4}}}.$$\n",
    " - Fogalmazzuk át a fönti összeget $\\displaystyle\\sum_{i=0}^{\\infty} a_i$ alakúra.\n",
    " - Tárolja el egy listában a 10, 20, ... , 100 tagig vett összeget a tagok számával párosítva\n",
    " - írja ki a képernyőre a lista elemeit egymás alá"
   ]
  },
  {
   "cell_type": "code",
   "execution_count": null,
   "metadata": {},
   "outputs": [],
   "source": []
  }
 ],
 "metadata": {
  "colab": {
   "provenance": [
    {
     "file_id": "1mi0ka5IXZY5HV5AnBTUzSVTg9sdjwYqS",
     "timestamp": 1683043465192
    },
    {
     "file_id": "1Uw09KEcyRQFDjtf8kY4ODUFCtS_FFAf7",
     "timestamp": 1681980768561
    }
   ]
  },
  "kernelspec": {
   "display_name": "Python 3 (ipykernel)",
   "language": "python",
   "name": "python3"
  },
  "language_info": {
   "codemirror_mode": {
    "name": "ipython",
    "version": 3
   },
   "file_extension": ".py",
   "mimetype": "text/x-python",
   "name": "python",
   "nbconvert_exporter": "python",
   "pygments_lexer": "ipython3",
   "version": "3.9.15"
  }
 },
 "nbformat": 4,
 "nbformat_minor": 4
}
