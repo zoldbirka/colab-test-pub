{
 "cells": [
  {
   "cell_type": "markdown",
   "metadata": {},
   "source": [
    "[![Open In Colab](colab-badge.png)](https://colab.research.google.com/github/zoldbirka/colab-test-pub/blob/main/_merge/01_PythonBev_adat_alapmuv.ipynb)"
   ]
  },
  {
   "cell_type": "markdown",
   "metadata": {
    "id": "qZthPn-dUOCt"
   },
   "source": [
    "# Adattípusok és alapműveletek, Változók megadása\n",
    "Ismerkedés a jupyter notebook felülettel. Első python programunk.\n",
    "Adattípusok és alapműveletek: egész, valós, (komplex), sztingek, logikai, semmi (None); és műveleteik. Változók megadása, használata. \n"
   ]
  },
  {
   "cell_type": "markdown",
   "metadata": {
    "id": "PQL2m9oYtYmA"
   },
   "source": [
    "## Bevezetés"
   ]
  },
  {
   "cell_type": "markdown",
   "metadata": {
    "id": "CmPQWZ5dtYmC"
   },
   "source": [
    "### Programozási alapfogalmak\n",
    "- **Algoritmus**: Valamely feladat megoldására alkalmas véges hosszú lépéssorozat.\n",
    "  - A fogalom hétköznapi feladatokra is alkalmazható (pl. Sacher-torta készítés, könyvespolc takarítás :-).\n",
    "- **Adatszerkezet**: Adatelemek tárolására és hatékony használatára szolgáló séma (példa: lista).\n",
    "- **Programozási nyelv**: Szigorú szabályokra épülő nyelv, melynek segítségével az ember képes a számítógép felé kommunikálni az utasításait.\n",
    "- **Programozás**: Algoritmusok és adatszerkezetek megtervezése illetve megvalósításuk valamilyen programozási nyelven (kódolás)."
   ]
  },
  {
   "cell_type": "markdown",
   "metadata": {
    "id": "qL_palt2tYmD"
   },
   "source": [
    "### A Python nyelv jellemzői\n",
    "\n",
    "`+` szintaxisa tömör, elegáns<br>\n",
    "`+` könnyen tanulható (\"brain-friendly\")<br>\n",
    "`+` több 10 ezer külső csomag érhető el hozzá (https://pypi.org/)<br>\n",
    "`+` erős közösség, évente PyCon konferenciák<br>\n",
    "`+` szabadon használható, nyílt forráskódú<br>\n",
    "`+` platformfüggetlen<br>\n",
    "`+` értelmezett nyelv, típusai dinamikusak<br>\n",
    "`+` többparadigmás nyelv<br>\n",
    "`–` bizonyos feladatokhoz lassú lehet<br>\n",
    "`–` többszálú lehetőségei korlátozottak<br>"
   ]
  },
  {
   "cell_type": "markdown",
   "metadata": {
    "id": "i5S4cpeQtYmE"
   },
   "source": [
    "### Történelem\n",
    "\n",
    "- **1994**: A Python 1.0 megjelenése.\n",
    "- **2000**: A Python 2.0 megjelenése.\n",
    "- **2001**: A Python Software Foundation megalakulása.\n",
    "- **2003**: Az első PyCon konferencia.\n",
    "- **2008**: A Python 3.0 megjelenése. Nem volt kompatibilis a 2-es verzióval. Az áttérés lassan ment, de végül megtörtént.\n",
    "- **2018**: Guido van Rossum lemond a BDFL címről. Egy ötfős bizottság lesz a legfőbb döntéshozó szerv a nyelvvel kapcsolatban (lásd: PEP 8016)."
   ]
  },
  {
   "cell_type": "markdown",
   "metadata": {
    "id": "DPAdsYQElkUG"
   },
   "source": [
    "## A Jupyter Notebook környezet (Colab)"
   ]
  },
  {
   "cell_type": "markdown",
   "metadata": {
    "id": "vFn27uGBtYmE"
   },
   "source": [
    "\n",
    "- A [Jupyter Notebook](https://jupyter-notebook.readthedocs.io/en/stable/) egy böngésző alapú, interaktív munkakörnyezet.\n",
    "- Elsődlegesen a Python nyelvhez fejlesztették ki, de más programozási nyelvekkel is használható.\n",
    "- Egy notebook cellákból áll, a cellák lehetnek szöveges (Markdown) vagy kód típusúak.\n",
    "- A kódcellákat le lehet futtatni, akár többször is egymás után. A futtatás eredménye megjelenik az adott kódcella utáni kimenetben.\n",
    "- A notebook használata kétféle üzemmódban történik:\n",
    "  + Parancsmódban tudjuk elvégezni a cellaszintű műveleteket (pl. új cella beszúrása, cella törlése, cellák mozgatása, lépegetés a cellák között, stb). Néhány billentyűparancs:\n",
    "    - ```b```: Új kódcella beszúrása az aktuális cella után. (```a``` ugyan ez elé)\n",
    "    - ```m (ctrl+MM)``` : Az aktuális cella típusának átállítása szövegesre.\n",
    "    - ```dd (ctrl+MD)```: Az aktuális cella törlése.\n",
    "    - ```Enter```: Átlépés szerkesztőmódba (az aktuális cella tartalmának szerkesztése).\n",
    "  + Szerkesztőmódban tudjuk szerkeszteni a cellák tartalmát. Néhány billentyűparancs:\n",
    "    - ```Shift+Enter```: Az aktuális cella futtatása.\n",
    "    - ```Esc```: Visszalépés parancsmódba.\n",
    "- A billentyűparancsokról a Help / Keyboard Shortcuts menü ad részletesebb leírást. (Eszközök / Használható parancsok vagy  ```ctrl +MH)```)"
   ]
  },
  {
   "cell_type": "markdown",
   "metadata": {
    "id": "e5WSqSbdkIjF"
   },
   "source": [
    "## Technikai részletek"
   ]
  },
  {
   "cell_type": "markdown",
   "metadata": {
    "id": "Mwck-VLLkL4l"
   },
   "source": [
    "### Implementációk"
   ]
  },
  {
   "cell_type": "markdown",
   "metadata": {
    "id": "HIAsLfMIkOaj"
   },
   "source": [
    "- CPython ( http://python.org/ )\n",
    "- PyPy ( http://pypy.org/ )\n",
    "- IronPython ( http://ironpython.net/ )\n",
    "- Jython ( http://www.jython.org/ )\n",
    "- MicroPython ( https://micropython.org/ )"
   ]
  },
  {
   "cell_type": "markdown",
   "metadata": {
    "id": "ajcxi6uchq_z"
   },
   "source": [
    "### Telepítés"
   ]
  },
  {
   "cell_type": "markdown",
   "metadata": {
    "id": "gbxeG4Ithub6"
   },
   "source": [
    "**Windows** \n",
    "\n",
    "A legcélszerűbb egy Python disztribúciót telepíteni:\n",
    "- Anaconda ( https://www.anaconda.com/products/distribution)\n",
    "- Miniconda ( http://conda.pydata.org/miniconda.html )\n",
    "\n",
    "**Linux**\n",
    "\n",
    "Több életképes alternatíva is van:\n",
    "- A rendszer csomagkezelőjének használata.\n",
    "- Az értelmező telepítése csomagkezelővel (vagy akár forráskódból), a külső csomagok telepítése pip-pel.\n",
    "- Python disztibúció használata."
   ]
  },
  {
   "cell_type": "markdown",
   "metadata": {
    "id": "uW0QT-h1kmwL"
   },
   "source": [
    "### Fejlesztőkörnyezetek"
   ]
  },
  {
   "cell_type": "markdown",
   "metadata": {
    "id": "eKHqbTt0knnV"
   },
   "source": [
    "**nehézsúlyú**\n",
    "- PyCharm ( http://www.jetbrains.com/pycharm/ )\n",
    "- Visual Studio Code ( https://code.visualstudio.com/ )\n",
    "- PyScripter ( https://sourceforge.net/projects/pyscripter/ )\n",
    "- Spyder ( https://www.spyder-ide.org/ ) ...\n",
    "\n",
    "**könnyűsúlyú**\n",
    "- Emacs / Vim / Geany/ ...\n",
    "- IDLE (az alap Python csomag része)\n",
    "- Jupyter Notebook ..."
   ]
  },
  {
   "cell_type": "markdown",
   "metadata": {
    "id": "U7fMXredtYmF"
   },
   "source": [
    "## Egyszerű adattípusok"
   ]
  },
  {
   "cell_type": "markdown",
   "metadata": {
    "id": "uNYgaUgOtYmF"
   },
   "source": [
    "### Egész szám (int)\n",
    "- A számok között a szokásos módon végezhetünk műveleteket. (```+ - * / ```)\n",
    "- [A python dokumentációban a számokra vonatkozó rész](https://docs.python.org/3/library/stdtypes.html#numeric-types-int-float-complex)\n",
    "- Eredmény kiíratása ```print()``` függvény segítségével"
   ]
  },
  {
   "cell_type": "code",
   "execution_count": 11,
   "metadata": {
    "colab": {
     "base_uri": "https://localhost:8080/"
    },
    "executionInfo": {
     "elapsed": 474,
     "status": "ok",
     "timestamp": 1680194789614,
     "user": {
      "displayName": "Piroska Dömötör",
      "userId": "03696721308245428945"
     },
     "user_tz": -120
    },
    "id": "76krzRY8tYmG",
    "outputId": "bc705319-576f-4198-f5d3-908afc343053"
   },
   "outputs": [
    {
     "name": "stdout",
     "output_type": "stream",
     "text": [
      "6\n",
      "-2\n",
      "10\n",
      "0.4\n"
     ]
    }
   ],
   "source": [
    "# Próbálja ki a 4 alapműveletet!\n",
    "print(2 + 4)\n",
    "print(2 - 4)\n",
    "print(2 * 5)\n",
    "print(2 / 5)"
   ]
  },
  {
   "cell_type": "markdown",
   "metadata": {
    "id": "Sgokipu_tYmJ"
   },
   "source": [
    "**Megjegyzések:**\n",
    "- A szóközök nem számítanak, a fenti írásmód a PEP 8 kódolási stílust követi.\n",
    "- **A sorkezdő behúzásnak viszont jelentése van a Pythonban!**\n",
    "- A Jupyter a futtatás után megjeleníti a cella utolsó kifejezését.\n",
    "- Vesszővel elválasztva az egész sor egy gyűjtemény => Mindet kiírja\n",
    "\n",
    "**Ügyeljünk a precedenciára**! Azaz a műveletek szokásos sorrendjére!\n",
    "\n",
    "A sorrend zárójelezéssel ```()``` felülbírálható. "
   ]
  },
  {
   "cell_type": "markdown",
   "metadata": {},
   "source": [
    "**Feladat:** Számítsa ki az alábbi műveletek eredményét! \n",
    "$$\\text{(a)}\\quad \\frac{1}{3+4\\cdot 2};\\qquad \\text{(b)}\\quad \\frac{2}{3+4}\\cdot 10 + 5$$"
   ]
  },
  {
   "cell_type": "code",
   "execution_count": 12,
   "metadata": {
    "colab": {
     "base_uri": "https://localhost:8080/"
    },
    "executionInfo": {
     "elapsed": 326,
     "status": "ok",
     "timestamp": 1680194807458,
     "user": {
      "displayName": "Piroska Dömötör",
      "userId": "03696721308245428945"
     },
     "user_tz": -120
    },
    "id": "XfjCKtmNtYmJ",
    "outputId": "7d438351-5616-4d33-9f41-b3675c43b69e"
   },
   "outputs": [
    {
     "name": "stdout",
     "output_type": "stream",
     "text": [
      "0.09090909090909091\n"
     ]
    }
   ],
   "source": [
    "# (a) használjunk zárójelezést ha szükséges!\n",
    "print(1 / (3 + 4 * 2))"
   ]
  },
  {
   "cell_type": "code",
   "execution_count": 13,
   "metadata": {},
   "outputs": [
    {
     "name": "stdout",
     "output_type": "stream",
     "text": [
      "7.857142857142857\n"
     ]
    }
   ],
   "source": [
    "# (b) használjunk zárójelezést ha szükséges!\n",
    "print(2 / (3 + 4) * 10 + 5)"
   ]
  },
  {
   "cell_type": "markdown",
   "metadata": {
    "id": "4gLXHNn-DBmT"
   },
   "source": [
    "#### Egész értékű változó"
   ]
  },
  {
   "cell_type": "code",
   "execution_count": 14,
   "metadata": {
    "id": "dVQZx_-ItYmM"
   },
   "outputs": [],
   "source": [
    "# Hozzunk létre egy i nevű változót, és tegyük bele a 11 értéket!\n",
    "i = 11"
   ]
  },
  {
   "cell_type": "markdown",
   "metadata": {
    "id": "mL2sQygktYmM"
   },
   "source": [
    "**Megjegyzések:**\n",
    "- Az ```=``` az értékadás műveleti jele.\n",
    "- ```i``` változó felveszi a megadott értéket, de magának az értékadásnak nincs eredménye.\n",
    "- Emiatt a cella kimenete üres."
   ]
  },
  {
   "cell_type": "code",
   "execution_count": 15,
   "metadata": {
    "colab": {
     "base_uri": "https://localhost:8080/"
    },
    "executionInfo": {
     "elapsed": 422,
     "status": "ok",
     "timestamp": 1680194914667,
     "user": {
      "displayName": "Piroska Dömötör",
      "userId": "03696721308245428945"
     },
     "user_tz": -120
    },
    "id": "0nE0R8nbtYmO",
    "outputId": "ce3e02a7-184c-4ac3-9a16-c581fb234552"
   },
   "outputs": [
    {
     "name": "stdout",
     "output_type": "stream",
     "text": [
      "11\n"
     ]
    }
   ],
   "source": [
    "# irassuk ki a képernyőre i értékét -- print() \n",
    "print(i)"
   ]
  },
  {
   "cell_type": "code",
   "execution_count": 16,
   "metadata": {
    "colab": {
     "base_uri": "https://localhost:8080/"
    },
    "executionInfo": {
     "elapsed": 823,
     "status": "ok",
     "timestamp": 1680194932277,
     "user": {
      "displayName": "Piroska Dömötör",
      "userId": "03696721308245428945"
     },
     "user_tz": -120
    },
    "id": "opEGOpN-tYmO",
    "outputId": "d4198cd2-e5f4-4675-87ce-058eff963b6f"
   },
   "outputs": [
    {
     "name": "stdout",
     "output_type": "stream",
     "text": [
      "14\n",
      "33\n"
     ]
    }
   ],
   "source": [
    "# A változóra a továbbiakban is lehet hivatkozni.\n",
    "print(i + 3)\n",
    "print(3 * i)"
   ]
  },
  {
   "cell_type": "code",
   "execution_count": 17,
   "metadata": {
    "id": "vT-nlfgXtYmP"
   },
   "outputs": [],
   "source": [
    "# A változó értéke természetesen változtatható.\n",
    "i = 12"
   ]
  },
  {
   "cell_type": "markdown",
   "metadata": {},
   "source": [
    "Az értékadást lehet kombinálni a többi művelettel.\n",
    "\n",
    "Rövid jelölés: ```+=```, ```-=```, ```*=``` "
   ]
  },
  {
   "cell_type": "code",
   "execution_count": 1,
   "metadata": {
    "colab": {
     "base_uri": "https://localhost:8080/"
    },
    "executionInfo": {
     "elapsed": 1068,
     "status": "ok",
     "timestamp": 1680194981255,
     "user": {
      "displayName": "Piroska Dömötör",
      "userId": "03696721308245428945"
     },
     "user_tz": -120
    },
    "id": "om_K5qDitYmQ",
    "outputId": "ad6d33d1-ccab-49d9-fae6-aee754ec4ebe"
   },
   "outputs": [
    {
     "name": "stdout",
     "output_type": "stream",
     "text": [
      "10\n",
      "20\n",
      "23\n"
     ]
    }
   ],
   "source": [
    "# += *= -= használata\n",
    "i = 10\n",
    "print(i)\n",
    "i *= 2     # i = i * 2\n",
    "print(i)\n",
    "i += 3    # i = i + 3  \n",
    "print(i)"
   ]
  },
  {
   "cell_type": "markdown",
   "metadata": {
    "id": "R4itrk7jDOcT"
   },
   "source": [
    "#### Megjegyzések a műveletekről"
   ]
  },
  {
   "cell_type": "markdown",
   "metadata": {},
   "source": [
    "Sok hibalehetőséget megelőz, hogy külön műveleti jele van a lebegőpontos (```/```) és az egészosztásnak (```//```)."
   ]
  },
  {
   "cell_type": "code",
   "execution_count": 19,
   "metadata": {
    "colab": {
     "base_uri": "https://localhost:8080/"
    },
    "executionInfo": {
     "elapsed": 477,
     "status": "ok",
     "timestamp": 1680194997709,
     "user": {
      "displayName": "Piroska Dömötör",
      "userId": "03696721308245428945"
     },
     "user_tz": -120
    },
    "id": "fuO50aMJtYmR",
    "outputId": "c2187f81-21e4-4d19-c4c0-933d83d40983"
   },
   "outputs": [
    {
     "data": {
      "text/plain": [
       "0.42857142857142855"
      ]
     },
     "execution_count": 19,
     "metadata": {},
     "output_type": "execute_result"
    }
   ],
   "source": [
    "# Lebegőpontos osztás.\n",
    "3 / 7"
   ]
  },
  {
   "cell_type": "code",
   "execution_count": 20,
   "metadata": {
    "colab": {
     "base_uri": "https://localhost:8080/"
    },
    "executionInfo": {
     "elapsed": 319,
     "status": "ok",
     "timestamp": 1680195012047,
     "user": {
      "displayName": "Piroska Dömötör",
      "userId": "03696721308245428945"
     },
     "user_tz": -120
    },
    "id": "TJgVFaSktYmR",
    "outputId": "a7079a74-20f9-4e42-9f3d-afaa89fb47fb"
   },
   "outputs": [
    {
     "data": {
      "text/plain": [
       "0"
      ]
     },
     "execution_count": 20,
     "metadata": {},
     "output_type": "execute_result"
    }
   ],
   "source": [
    "# Egészosztás (levágja a törtrészt).\n",
    "3 // 7"
   ]
  },
  {
   "cell_type": "markdown",
   "metadata": {},
   "source": [
    "További hasznos műveletek"
   ]
  },
  {
   "cell_type": "code",
   "execution_count": 21,
   "metadata": {
    "colab": {
     "base_uri": "https://localhost:8080/"
    },
    "executionInfo": {
     "elapsed": 326,
     "status": "ok",
     "timestamp": 1680195028235,
     "user": {
      "displayName": "Piroska Dömötör",
      "userId": "03696721308245428945"
     },
     "user_tz": -120
    },
    "id": "0ZTCK4_StYmS",
    "outputId": "f680a95b-913f-4e2d-fd64-24301196efd1"
   },
   "outputs": [
    {
     "data": {
      "text/plain": [
       "3"
      ]
     },
     "execution_count": 21,
     "metadata": {},
     "output_type": "execute_result"
    }
   ],
   "source": [
    "# Maradékképzés.\n",
    "3 % 7"
   ]
  },
  {
   "cell_type": "code",
   "execution_count": 22,
   "metadata": {
    "colab": {
     "base_uri": "https://localhost:8080/"
    },
    "executionInfo": {
     "elapsed": 10,
     "status": "ok",
     "timestamp": 1680195040005,
     "user": {
      "displayName": "Piroska Dömötör",
      "userId": "03696721308245428945"
     },
     "user_tz": -120
    },
    "id": "X1klBYi6tYmT",
    "outputId": "45ffd83f-f305-4cb2-bcee-bc5841000d13"
   },
   "outputs": [
    {
     "data": {
      "text/plain": [
       "1024"
      ]
     },
     "execution_count": 22,
     "metadata": {},
     "output_type": "execute_result"
    }
   ],
   "source": [
    "# Van hatványozás is, ** a műveleti jele.\n",
    "2**10"
   ]
  },
  {
   "cell_type": "code",
   "execution_count": 23,
   "metadata": {},
   "outputs": [
    {
     "data": {
      "text/plain": [
       "4"
      ]
     },
     "execution_count": 23,
     "metadata": {},
     "output_type": "execute_result"
    }
   ],
   "source": [
    "# Az abszolútértéket az abs() függvény kiszámítja\n",
    "abs(-4)"
   ]
  },
  {
   "cell_type": "markdown",
   "metadata": {},
   "source": [
    "#### Egész számok tárolódása a memóriában"
   ]
  },
  {
   "cell_type": "markdown",
   "metadata": {},
   "source": [
    "**Feladat:**  Mekkora a 8 bájton = 64 biten ábrázolható legnagyobb egész szám?\n",
    "\n",
    "Pythonban egyébként nincs ilyen határ. A Python képes tetszőleges hosszúságú egész számokkal dolgozni. Mutassuk is ezt meg egy példán!"
   ]
  },
  {
   "cell_type": "code",
   "execution_count": 24,
   "metadata": {},
   "outputs": [
    {
     "name": "stdout",
     "output_type": "stream",
     "text": [
      "18446744073709551615\n"
     ]
    }
   ],
   "source": [
    "# 8 bájton = 64 biten ábrázolható legnagyobb (előjeles) egész szám \n",
    "max_int = 2**64 - 1\n",
    "print(max_int)"
   ]
  },
  {
   "cell_type": "code",
   "execution_count": 25,
   "metadata": {},
   "outputs": [
    {
     "data": {
      "text/plain": [
       "18446744073709551616"
      ]
     },
     "execution_count": 25,
     "metadata": {},
     "output_type": "execute_result"
    }
   ],
   "source": [
    "# nincsen túlcsordulási hiba\n",
    "max_int+1"
   ]
  },
  {
   "cell_type": "code",
   "execution_count": 26,
   "metadata": {},
   "outputs": [
    {
     "data": {
      "text/plain": [
       "1111111111111111111111111111111111111111111112"
      ]
     },
     "execution_count": 26,
     "metadata": {},
     "output_type": "execute_result"
    }
   ],
   "source": [
    "# A Python képes tetszőleges hosszúságú egész számokkal dolgozni\n",
    "# nincsen túlcsordulási hiba.\n",
    "1111111111111111111111111111111111111111111111 + 1"
   ]
  },
  {
   "cell_type": "markdown",
   "metadata": {
    "id": "qob1nQkotYmV"
   },
   "source": [
    "### Lebegőpontos szám (float)\n",
    "\n",
    "- A [lebegőpontos számábrázolás](https://hu.wikipedia.org/wiki/Lebeg%C5%91pontos_sz%C3%A1m%C3%A1br%C3%A1zol%C3%A1s) lehetővé teszi a valós számokkal történő, közelítő számolást.\n",
    "- A Python lebegőpontos típusa az IEEE-754 szabvány dupla pontosságú (64 bites double) típusát valósítja meg.\n",
    "- [A python dokumentációban a számokra vonatkozó rész](https://docs.python.org/3/library/stdtypes.html#numeric-types-int-float-complex)"
   ]
  },
  {
   "cell_type": "code",
   "execution_count": 27,
   "metadata": {
    "colab": {
     "base_uri": "https://localhost:8080/"
    },
    "executionInfo": {
     "elapsed": 972,
     "status": "ok",
     "timestamp": 1680195087253,
     "user": {
      "displayName": "Piroska Dömötör",
      "userId": "03696721308245428945"
     },
     "user_tz": -120
    },
    "id": "hd7zWDIHtYmV",
    "outputId": "7747576d-ea32-431c-a05b-5226a5829971"
   },
   "outputs": [
    {
     "data": {
      "text/plain": [
       "1.25"
      ]
     },
     "execution_count": 27,
     "metadata": {},
     "output_type": "execute_result"
    }
   ],
   "source": [
    "# Lebegőpontos állandókat a tizedespont használatával tudunk megadni.\n",
    "1.25"
   ]
  },
  {
   "cell_type": "code",
   "execution_count": 28,
   "metadata": {
    "colab": {
     "base_uri": "https://localhost:8080/"
    },
    "executionInfo": {
     "elapsed": 458,
     "status": "ok",
     "timestamp": 1680195073595,
     "user": {
      "displayName": "Piroska Dömötör",
      "userId": "03696721308245428945"
     },
     "user_tz": -120
    },
    "id": "ZMkzvB8ZtYmV",
    "outputId": "a2c3331f-af30-4f28-8075-4f3019aff31a"
   },
   "outputs": [
    {
     "data": {
      "text/plain": [
       "(1.4142135623730951, 1.4142135623730951)"
      ]
     },
     "execution_count": 28,
     "metadata": {},
     "output_type": "execute_result"
    }
   ],
   "source": [
    "# Gyök kettő (közelítő) kiszámítása.\n",
    "2**0.5 , 2**(1/2)"
   ]
  },
  {
   "cell_type": "code",
   "execution_count": 29,
   "metadata": {
    "colab": {
     "base_uri": "https://localhost:8080/"
    },
    "executionInfo": {
     "elapsed": 12,
     "status": "ok",
     "timestamp": 1680195090288,
     "user": {
      "displayName": "Piroska Dömötör",
      "userId": "03696721308245428945"
     },
     "user_tz": -120
    },
    "id": "EdUuqdZJtYmW",
    "outputId": "f6ecb961-c4d4-4f95-9f6d-ec6d13db4c03"
   },
   "outputs": [
    {
     "data": {
      "text/plain": [
       "1.25"
      ]
     },
     "execution_count": 29,
     "metadata": {},
     "output_type": "execute_result"
    }
   ],
   "source": [
    "# Hozzunk létre egy f nevű, lebegőpontos típusú változót!\n",
    "f = 1.25\n",
    "f"
   ]
  },
  {
   "cell_type": "code",
   "execution_count": 30,
   "metadata": {
    "colab": {
     "base_uri": "https://localhost:8080/"
    },
    "executionInfo": {
     "elapsed": 1124,
     "status": "ok",
     "timestamp": 1680195116607,
     "user": {
      "displayName": "Piroska Dömötör",
      "userId": "03696721308245428945"
     },
     "user_tz": -120
    },
    "id": "0268ZCGqtYmX",
    "outputId": "ecedbb37-098c-4d8f-b921-65a26815de2e"
   },
   "outputs": [
    {
     "data": {
      "text/plain": [
       "float"
      ]
     },
     "execution_count": 30,
     "metadata": {},
     "output_type": "execute_result"
    }
   ],
   "source": [
    "# A type() függvénnyel tudjuk lekérdezni f típusát.\n",
    "type(f)"
   ]
  },
  {
   "cell_type": "code",
   "execution_count": 31,
   "metadata": {
    "colab": {
     "base_uri": "https://localhost:8080/"
    },
    "executionInfo": {
     "elapsed": 14,
     "status": "ok",
     "timestamp": 1680195103800,
     "user": {
      "displayName": "Piroska Dömötör",
      "userId": "03696721308245428945"
     },
     "user_tz": -120
    },
    "id": "dQZeegOLtYmX",
    "outputId": "6151ed06-9a27-4b74-d275-5b6e39ad2556"
   },
   "outputs": [
    {
     "data": {
      "text/plain": [
       "int"
      ]
     },
     "execution_count": 31,
     "metadata": {},
     "output_type": "execute_result"
    }
   ],
   "source": [
    "# ...vagy bármely más érték típusát.\n",
    "type(i)"
   ]
  },
  {
   "cell_type": "code",
   "execution_count": 32,
   "metadata": {
    "id": "hqPYQ1KYtYmY"
   },
   "outputs": [],
   "source": [
    "# Tegyünk most f-be egy int típusú értéket!\n",
    "# Pythonban ez minden probléma nélkül megtehető.\n",
    "f = 100"
   ]
  },
  {
   "cell_type": "code",
   "execution_count": 33,
   "metadata": {
    "colab": {
     "base_uri": "https://localhost:8080/"
    },
    "executionInfo": {
     "elapsed": 554,
     "status": "ok",
     "timestamp": 1680195111288,
     "user": {
      "displayName": "Piroska Dömötör",
      "userId": "03696721308245428945"
     },
     "user_tz": -120
    },
    "id": "TqaEywx_GR2x",
    "outputId": "069742b4-c370-444b-be79-76ac6aa6284f"
   },
   "outputs": [
    {
     "data": {
      "text/plain": [
       "int"
      ]
     },
     "execution_count": 33,
     "metadata": {},
     "output_type": "execute_result"
    }
   ],
   "source": [
    "# nézzük meg f típusát ismét!\n",
    "type(f)"
   ]
  },
  {
   "cell_type": "markdown",
   "metadata": {
    "id": "rAySWZ1DtYmY"
   },
   "source": [
    "### Komplex szám (complex)\n",
    "- A Python támogatja a komplex számokkal való számolást, külső könyvtárak használata nélkül.\n",
    "- A j-jelöli a képzetes egységet ha szám kerül elé\n",
    "- [A python dokumentációban a számokra vonatkozó rész](https://docs.python.org/3/library/stdtypes.html#numeric-types-int-float-complex)"
   ]
  },
  {
   "cell_type": "code",
   "execution_count": 34,
   "metadata": {
    "colab": {
     "base_uri": "https://localhost:8080/"
    },
    "executionInfo": {
     "elapsed": 315,
     "status": "ok",
     "timestamp": 1680195122894,
     "user": {
      "displayName": "Piroska Dömötör",
      "userId": "03696721308245428945"
     },
     "user_tz": -120
    },
    "id": "XsurOG_0tYmZ",
    "outputId": "f99819ce-7920-4412-f34d-9ed33bceadc6"
   },
   "outputs": [
    {
     "data": {
      "text/plain": [
       "(0.15384615384615385-0.23076923076923078j)"
      ]
     },
     "execution_count": 34,
     "metadata": {},
     "output_type": "execute_result"
    }
   ],
   "source": [
    "# Osztás algebrai alakban.\n",
    "1/(2 + 3j)"
   ]
  },
  {
   "cell_type": "code",
   "execution_count": 35,
   "metadata": {
    "colab": {
     "base_uri": "https://localhost:8080/"
    },
    "executionInfo": {
     "elapsed": 344,
     "status": "ok",
     "timestamp": 1680195124957,
     "user": {
      "displayName": "Piroska Dömötör",
      "userId": "03696721308245428945"
     },
     "user_tz": -120
    },
    "id": "2q_eEqOxtYmZ",
    "outputId": "52c7a798-31a4-4a47-8bba-44bdd824886c"
   },
   "outputs": [
    {
     "data": {
      "text/plain": [
       "(-1+0j)"
      ]
     },
     "execution_count": 35,
     "metadata": {},
     "output_type": "execute_result"
    }
   ],
   "source": [
    "# A képzetes egység hatványozása.\n",
    "1j**2"
   ]
  },
  {
   "cell_type": "markdown",
   "metadata": {
    "id": "J3MQw6mgtYmx"
   },
   "source": [
    "### Logikai érték (bool)\n",
    "- A logikai igaz értéket a ```True```, a hamisat a ```False``` jelöli. \n",
    "- A nagy kezdőbetű fontos, a Python különbözőnek tekinti a kis- és nagybetűket.\n",
    "- [A python dokumentációban a logikai értékre vonatkozó rész](https://docs.python.org/3/library/stdtypes.html#boolean-values)"
   ]
  },
  {
   "cell_type": "code",
   "execution_count": 36,
   "metadata": {
    "colab": {
     "base_uri": "https://localhost:8080/"
    },
    "executionInfo": {
     "elapsed": 407,
     "status": "ok",
     "timestamp": 1680618563431,
     "user": {
      "displayName": "Piroska Dömötör",
      "userId": "03696721308245428945"
     },
     "user_tz": -120
    },
    "id": "2aXI4SVrtYmx",
    "outputId": "f4fac4a2-5570-4660-f22d-47651e7a9aad"
   },
   "outputs": [
    {
     "data": {
      "text/plain": [
       "bool"
      ]
     },
     "execution_count": 36,
     "metadata": {},
     "output_type": "execute_result"
    }
   ],
   "source": [
    "# Hozzunk létre logikai típusú változót!\n",
    "# Nézzük meg a típusát is!\n",
    "b = False\n",
    "type(b)"
   ]
  },
  {
   "cell_type": "markdown",
   "metadata": {},
   "source": [
    "Logikai műveletek: ÉS (```and```), VAGY (```or```), TAGADÁS (```not```)\n"
   ]
  },
  {
   "cell_type": "code",
   "execution_count": 37,
   "metadata": {
    "colab": {
     "base_uri": "https://localhost:8080/"
    },
    "executionInfo": {
     "elapsed": 414,
     "status": "ok",
     "timestamp": 1680618684978,
     "user": {
      "displayName": "Piroska Dömötör",
      "userId": "03696721308245428945"
     },
     "user_tz": -120
    },
    "id": "Mq_bkglJtYmy",
    "outputId": "2bf032a7-e510-485e-9996-6a4f8b9fc1d1"
   },
   "outputs": [
    {
     "name": "stdout",
     "output_type": "stream",
     "text": [
      "True\n",
      "False\n",
      "False\n"
     ]
    }
   ],
   "source": [
    "# Logikai ÉS művelet. -- and\n",
    "print(True and True)\n",
    "print(True and False)\n",
    "print(False and False)"
   ]
  },
  {
   "cell_type": "code",
   "execution_count": 38,
   "metadata": {
    "colab": {
     "base_uri": "https://localhost:8080/"
    },
    "executionInfo": {
     "elapsed": 348,
     "status": "ok",
     "timestamp": 1680619003949,
     "user": {
      "displayName": "Piroska Dömötör",
      "userId": "03696721308245428945"
     },
     "user_tz": -120
    },
    "id": "FAOfKlshtYmy",
    "outputId": "59714261-b619-4ef0-eda5-5f7b292c955e"
   },
   "outputs": [
    {
     "name": "stdout",
     "output_type": "stream",
     "text": [
      "True\n",
      "True\n",
      "False\n"
     ]
    }
   ],
   "source": [
    "# Logikai VAGY művelet. -- or\n",
    "print(True or False)\n",
    "print(True or True)\n",
    "print(False or False)"
   ]
  },
  {
   "cell_type": "code",
   "execution_count": 39,
   "metadata": {
    "colab": {
     "base_uri": "https://localhost:8080/"
    },
    "executionInfo": {
     "elapsed": 10,
     "status": "ok",
     "timestamp": 1680619021454,
     "user": {
      "displayName": "Piroska Dömötör",
      "userId": "03696721308245428945"
     },
     "user_tz": -120
    },
    "id": "UDpXqe6htYmy",
    "outputId": "88bbd8a5-5158-49e1-9dbc-02158afb4f94"
   },
   "outputs": [
    {
     "data": {
      "text/plain": [
       "False"
      ]
     },
     "execution_count": 39,
     "metadata": {},
     "output_type": "execute_result"
    }
   ],
   "source": [
    "# Logikai tagadás. -- not\n",
    "not True"
   ]
  },
  {
   "cell_type": "markdown",
   "metadata": {},
   "source": [
    "Az összehasonlító műveletek (```>```,``` >=```, ```==```, ```!=```) eredménye logikai érték."
   ]
  },
  {
   "cell_type": "code",
   "execution_count": 40,
   "metadata": {},
   "outputs": [
    {
     "data": {
      "text/plain": [
       "False"
      ]
     },
     "execution_count": 40,
     "metadata": {},
     "output_type": "execute_result"
    }
   ],
   "source": [
    "# Nagyobb-e -3 mint 2?\n",
    "-3 > 2"
   ]
  },
  {
   "cell_type": "code",
   "execution_count": 41,
   "metadata": {
    "id": "CUVhgtxAtYmz"
   },
   "outputs": [
    {
     "data": {
      "text/plain": [
       "True"
      ]
     },
     "execution_count": 41,
     "metadata": {},
     "output_type": "execute_result"
    }
   ],
   "source": [
    "# nagyobb egyenlő-e?\n",
    "3 >= 3"
   ]
  },
  {
   "cell_type": "code",
   "execution_count": 42,
   "metadata": {
    "id": "2BJrttLPtYmz"
   },
   "outputs": [
    {
     "data": {
      "text/plain": [
       "True"
      ]
     },
     "execution_count": 42,
     "metadata": {},
     "output_type": "execute_result"
    }
   ],
   "source": [
    "# kisebb egyenlő-e?\n",
    "3 <= 3"
   ]
  },
  {
   "cell_type": "code",
   "execution_count": 43,
   "metadata": {
    "colab": {
     "base_uri": "https://localhost:8080/"
    },
    "executionInfo": {
     "elapsed": 266,
     "status": "ok",
     "timestamp": 1680619063887,
     "user": {
      "displayName": "Piroska Dömötör",
      "userId": "03696721308245428945"
     },
     "user_tz": -120
    },
    "id": "w-xYNX3YtYmz",
    "outputId": "5053590f-d80d-4038-ef0f-946d78b5faff"
   },
   "outputs": [
    {
     "data": {
      "text/plain": [
       "True"
      ]
     },
     "execution_count": 43,
     "metadata": {},
     "output_type": "execute_result"
    }
   ],
   "source": [
    "# Pythonban az egyenlőségvizsgálat műveleti jele ==.\n",
    "3 == 3"
   ]
  },
  {
   "cell_type": "code",
   "execution_count": 44,
   "metadata": {
    "colab": {
     "base_uri": "https://localhost:8080/"
    },
    "executionInfo": {
     "elapsed": 9,
     "status": "ok",
     "timestamp": 1680619109932,
     "user": {
      "displayName": "Piroska Dömötör",
      "userId": "03696721308245428945"
     },
     "user_tz": -120
    },
    "id": "WEdrlYrotGVE",
    "outputId": "bf74dc90-370b-4aad-fee2-0149483b4ec6"
   },
   "outputs": [
    {
     "data": {
      "text/plain": [
       "False"
      ]
     },
     "execution_count": 44,
     "metadata": {},
     "output_type": "execute_result"
    }
   ],
   "source": [
    "# != (nem egyenlő) operátor.\n",
    "3 != 3"
   ]
  },
  {
   "cell_type": "markdown",
   "metadata": {},
   "source": [
    "**Feladat:**  Definiáljunk egy ```n``` egész változót és vizsgáljuk meg, hogy 50-nél nagyobb, páros számot adtunk-e meg?"
   ]
  },
  {
   "cell_type": "code",
   "execution_count": 45,
   "metadata": {
    "colab": {
     "base_uri": "https://localhost:8080/"
    },
    "executionInfo": {
     "elapsed": 13,
     "status": "ok",
     "timestamp": 1680618935069,
     "user": {
      "displayName": "Piroska Dömötör",
      "userId": "03696721308245428945"
     },
     "user_tz": -120
    },
    "id": "gMkYmXc8rqPp",
    "outputId": "7efe0129-cf69-4561-c77a-cbdf763e8e3f"
   },
   "outputs": [
    {
     "data": {
      "text/plain": [
       "False"
      ]
     },
     "execution_count": 45,
     "metadata": {},
     "output_type": "execute_result"
    }
   ],
   "source": [
    "# Megoldás: \n",
    "n = 48\n",
    "(n > 50) and (n % 2 == 0)"
   ]
  },
  {
   "cell_type": "markdown",
   "metadata": {
    "id": "naFg6M-WtYmz"
   },
   "source": [
    "### None / Semmi, üres (NoneType)\n",
    "- A szó jelentése *semmi* vagy *egyik sem*. A Pythonban a ```None``` értéknek helykitöltő szerepe van. Ezzel jelölhetjük pl. a hiányzó vagy érvénytelen eredményt vagy az alapértelmezett beállítást. \n",
    "- [None a python dokumentációban](https://docs.python.org/3/library/stdtypes.html#the-null-object)"
   ]
  },
  {
   "cell_type": "code",
   "execution_count": 46,
   "metadata": {
    "colab": {
     "base_uri": "https://localhost:8080/"
    },
    "executionInfo": {
     "elapsed": 422,
     "status": "ok",
     "timestamp": 1680619152542,
     "user": {
      "displayName": "Piroska Dömötör",
      "userId": "03696721308245428945"
     },
     "user_tz": -120
    },
    "id": "sR9N4191tYm0",
    "outputId": "e1477243-5ac0-49b8-a478-bd38f62ea85d"
   },
   "outputs": [
    {
     "data": {
      "text/plain": [
       "NoneType"
      ]
     },
     "execution_count": 46,
     "metadata": {},
     "output_type": "execute_result"
    }
   ],
   "source": [
    "# A None érték típusa.\n",
    "type(None)"
   ]
  },
  {
   "cell_type": "code",
   "execution_count": 47,
   "metadata": {
    "id": "uJUgZx0DtYm0"
   },
   "outputs": [],
   "source": [
    "# Ha a cella utolsó kifejezése None értékű, akkor nincs kimenet.\n",
    "2 + 3\n",
    "None"
   ]
  },
  {
   "cell_type": "markdown",
   "metadata": {
    "id": "WEuwmGiQtYmZ"
   },
   "source": [
    "### Sztring (str)\n",
    "\n",
    "- A sztring adattípus szöveges értékek tárolására szolgál.\n",
    "- Pythonban a sztring nem más mint [Unicode](https://hu.wikipedia.org/wiki/Unicode) szimbólumok (másnéven Unicode karakterek) nem módosítható sorozata.\n",
    "- (https://docs.python.org/3/library/stdtypes.html#text-sequence-type-str)"
   ]
  },
  {
   "cell_type": "code",
   "execution_count": 48,
   "metadata": {
    "id": "ob8EGGjPtYma"
   },
   "outputs": [
    {
     "data": {
      "text/plain": [
       "'alma és körte'"
      ]
     },
     "execution_count": 48,
     "metadata": {},
     "output_type": "execute_result"
    }
   ],
   "source": [
    "# A sztringállandót ' jelekkel határoljuk.\n",
    "s = 'alma és körte'\n",
    "s"
   ]
  },
  {
   "cell_type": "markdown",
   "metadata": {},
   "source": [
    "- Síma idézőjel: ```'allows embedded \"double\" quotes'```\n",
    "- Dupla idézőjel: ```\"allows embedded 'single' quotes\"``` ```\"it's\"```\n",
    "- Tripla idézőjel (több soros szöveg): ```'''Three single quotes''', \"\"\"Three double quotes\"\"\"```\n",
    "\n",
    "A határoló idézőjel ```'``` nem a sztring része, csak az adattípust jelzi!"
   ]
  },
  {
   "cell_type": "code",
   "execution_count": 49,
   "metadata": {
    "id": "3-V9HyyKtYma"
   },
   "outputs": [
    {
     "data": {
      "text/plain": [
       "'ez egy másik szöveg'"
      ]
     },
     "execution_count": 49,
     "metadata": {},
     "output_type": "execute_result"
    }
   ],
   "source": [
    "# ...de lehet használni \" jeleket is.\n",
    "s2 = \"ez egy másik szöveg\"\n",
    "s2"
   ]
  },
  {
   "cell_type": "code",
   "execution_count": 50,
   "metadata": {
    "id": "iAuCtcBktYma"
   },
   "outputs": [
    {
     "name": "stdout",
     "output_type": "stream",
     "text": [
      " ide jön egy idézet \"ez egy idézet\"\n"
     ]
    }
   ],
   "source": [
    "# Írjuk ki a sztring tartalmát, határoló jelek nélkül! print()\n",
    "s3 = ' ide jön egy idézet \"ez egy idézet\"'\n",
    "print(s3)"
   ]
  },
  {
   "cell_type": "code",
   "execution_count": 51,
   "metadata": {},
   "outputs": [
    {
     "data": {
      "text/plain": [
       "'ez így egy szöveg\\nés itt folytatódik'"
      ]
     },
     "execution_count": 51,
     "metadata": {},
     "output_type": "execute_result"
    }
   ],
   "source": [
    "# több soros sztring tripla idézőjellel\n",
    "'''ez így egy szöveg\n",
    "és itt folytatódik'''"
   ]
  },
  {
   "cell_type": "code",
   "execution_count": 52,
   "metadata": {
    "colab": {
     "base_uri": "https://localhost:8080/"
    },
    "executionInfo": {
     "elapsed": 6,
     "status": "ok",
     "timestamp": 1680190086928,
     "user": {
      "displayName": "Piroska Dömötör",
      "userId": "03696721308245428945"
     },
     "user_tz": -120
    },
    "id": "KmXcDnF7tYmb",
    "outputId": "54c88f3a-2bf6-4cb8-c5eb-9697a6fc985a"
   },
   "outputs": [
    {
     "data": {
      "text/plain": [
       "str"
      ]
     },
     "execution_count": 52,
     "metadata": {},
     "output_type": "execute_result"
    }
   ],
   "source": [
    "# A type() függvény most is működik.\n",
    "type(s2)"
   ]
  },
  {
   "cell_type": "code",
   "execution_count": 53,
   "metadata": {
    "colab": {
     "base_uri": "https://localhost:8080/",
     "height": 35
    },
    "executionInfo": {
     "elapsed": 59,
     "status": "ok",
     "timestamp": 1680187063404,
     "user": {
      "displayName": "Piroska Dömötör",
      "userId": "03696721308245428945"
     },
     "user_tz": -120
    },
    "id": "ybE9HX1CtYmc",
    "outputId": "b79280db-04d0-44a7-83f9-58b0a807d400"
   },
   "outputs": [
    {
     "data": {
      "text/plain": [
       "'I ♥ ♬'"
      ]
     },
     "execution_count": 53,
     "metadata": {},
     "output_type": "execute_result"
    }
   ],
   "source": [
    "# A sztringben természetesen használhatunk Unicode szimbólumokat.\n",
    "'I ♥ ♬'"
   ]
  },
  {
   "cell_type": "code",
   "execution_count": 54,
   "metadata": {},
   "outputs": [
    {
     "data": {
      "text/plain": [
       "'alma és\\n körte:\\tbarack'"
      ]
     },
     "execution_count": 54,
     "metadata": {},
     "output_type": "execute_result"
    }
   ],
   "source": [
    "# Az újsornak és a tabulátornak is van karaktere: \\n és \\t\n",
    "s = \"alma és\\n körte:\\tbarack\"\n",
    "s"
   ]
  },
  {
   "cell_type": "code",
   "execution_count": 55,
   "metadata": {},
   "outputs": [
    {
     "name": "stdout",
     "output_type": "stream",
     "text": [
      "alma és\n",
      " körte:\tbarack\n"
     ]
    }
   ],
   "source": [
    "# képernyőre kiíratva látszik a hatásuk\n",
    "print(s)"
   ]
  },
  {
   "cell_type": "markdown",
   "metadata": {},
   "source": [
    "#### Milyen hosszú egy sztring? Azaz hány karakterből áll!\n",
    "- Használjuk a ```len()``` függvényt.\n",
    "- A sztring hossza a használt Unicode szimbólumok száma\n",
    "- A szóköz is karakternek számít!"
   ]
  },
  {
   "cell_type": "code",
   "execution_count": 56,
   "metadata": {},
   "outputs": [
    {
     "data": {
      "text/plain": [
       "4"
      ]
     },
     "execution_count": 56,
     "metadata": {},
     "output_type": "execute_result"
    }
   ],
   "source": [
    "## Hány karakterből áll az alábbi s sztring?\n",
    "s = \"alma\"\n",
    "len(s)"
   ]
  },
  {
   "cell_type": "markdown",
   "metadata": {
    "id": "VSS16mNVJU2E"
   },
   "source": [
    "#### Sztring karaktereinek \"kinyerése\" (**indexelés**)\n",
    "- Az indexelés **0-tól indul**!!!\n",
    "- ```[ ]``` között a sorszám, például: ```s[0]```\n",
    "- Negatív index is értelmes (végéről)."
   ]
  },
  {
   "cell_type": "code",
   "execution_count": 57,
   "metadata": {
    "colab": {
     "base_uri": "https://localhost:8080/"
    },
    "executionInfo": {
     "elapsed": 523,
     "status": "ok",
     "timestamp": 1680607687340,
     "user": {
      "displayName": "Piroska Dömötör",
      "userId": "03696721308245428945"
     },
     "user_tz": -120
    },
    "id": "8yXNmOBdtYmd",
    "outputId": "0d781d0a-dc6d-4a8a-a8e7-0288dbb147e2"
   },
   "outputs": [
    {
     "data": {
      "text/plain": [
       "('a', 'l')"
      ]
     },
     "execution_count": 57,
     "metadata": {},
     "output_type": "execute_result"
    }
   ],
   "source": [
    "# s karaktereinek kinyerése. Az indexelés 0-tól indul!\n",
    "s[0],s[1]"
   ]
  },
  {
   "cell_type": "code",
   "execution_count": 58,
   "metadata": {
    "colab": {
     "base_uri": "https://localhost:8080/"
    },
    "executionInfo": {
     "elapsed": 272,
     "status": "ok",
     "timestamp": 1680607690965,
     "user": {
      "displayName": "Piroska Dömötör",
      "userId": "03696721308245428945"
     },
     "user_tz": -120
    },
    "id": "LiDduaoytYme",
    "outputId": "eca9319b-a5c9-4a20-f11c-7c9d66c06678"
   },
   "outputs": [
    {
     "data": {
      "text/plain": [
       "(4, 1)"
      ]
     },
     "execution_count": 58,
     "metadata": {},
     "output_type": "execute_result"
    }
   ],
   "source": [
    "# A kinyert karaktert egy 1 hosszú sztring formájában kapjuk vissza.\n",
    "len(s) , len(s[0])"
   ]
  },
  {
   "cell_type": "code",
   "execution_count": 59,
   "metadata": {
    "id": "Dt9THXHbtYme"
   },
   "outputs": [
    {
     "ename": "IndexError",
     "evalue": "string index out of range",
     "output_type": "error",
     "traceback": [
      "\u001b[0;31m---------------------------------------------------------------------------\u001b[0m",
      "\u001b[0;31mIndexError\u001b[0m                                Traceback (most recent call last)",
      "\u001b[0;32m/tmp/ipykernel_13459/3792544162.py\u001b[0m in \u001b[0;36m<module>\u001b[0;34m\u001b[0m\n\u001b[1;32m      1\u001b[0m \u001b[0;31m# Túlindexelés esetén hibaüzenetet kapunk.\u001b[0m\u001b[0;34m\u001b[0m\u001b[0;34m\u001b[0m\u001b[0m\n\u001b[1;32m      2\u001b[0m \u001b[0;31m# próbáljuk ki!\u001b[0m\u001b[0;34m\u001b[0m\u001b[0;34m\u001b[0m\u001b[0m\n\u001b[0;32m----> 3\u001b[0;31m \u001b[0ms\u001b[0m\u001b[0;34m[\u001b[0m\u001b[0;36m8\u001b[0m\u001b[0;34m]\u001b[0m\u001b[0;34m\u001b[0m\u001b[0;34m\u001b[0m\u001b[0m\n\u001b[0m",
      "\u001b[0;31mIndexError\u001b[0m: string index out of range"
     ]
    }
   ],
   "source": [
    "# Túlindexelés esetén hibaüzenetet kapunk.\n",
    "# próbáljuk ki!\n",
    "s[8]"
   ]
  },
  {
   "cell_type": "code",
   "execution_count": 60,
   "metadata": {
    "colab": {
     "base_uri": "https://localhost:8080/",
     "height": 35
    },
    "executionInfo": {
     "elapsed": 12,
     "status": "ok",
     "timestamp": 1680607705651,
     "user": {
      "displayName": "Piroska Dömötör",
      "userId": "03696721308245428945"
     },
     "user_tz": -120
    },
    "id": "k8apeUBHtYme",
    "outputId": "028dab30-ac8a-4d16-cc18-430f7dfaa58e"
   },
   "outputs": [
    {
     "data": {
      "text/plain": [
       "'a'"
      ]
     },
     "execution_count": 60,
     "metadata": {},
     "output_type": "execute_result"
    }
   ],
   "source": [
    "# negatív index is értelmes\n",
    "s[-1]"
   ]
  },
  {
   "cell_type": "code",
   "execution_count": 61,
   "metadata": {
    "id": "WyRV-MH_tYmf"
   },
   "outputs": [
    {
     "ename": "TypeError",
     "evalue": "'str' object does not support item assignment",
     "output_type": "error",
     "traceback": [
      "\u001b[0;31m---------------------------------------------------------------------------\u001b[0m",
      "\u001b[0;31mTypeError\u001b[0m                                 Traceback (most recent call last)",
      "\u001b[0;32m/tmp/ipykernel_13459/2779301116.py\u001b[0m in \u001b[0;36m<module>\u001b[0;34m\u001b[0m\n\u001b[1;32m      1\u001b[0m \u001b[0;31m# A sztring karaktereit nem lehet módosítani!\u001b[0m\u001b[0;34m\u001b[0m\u001b[0;34m\u001b[0m\u001b[0m\n\u001b[0;32m----> 2\u001b[0;31m \u001b[0ms\u001b[0m\u001b[0;34m[\u001b[0m\u001b[0;36m1\u001b[0m\u001b[0;34m]\u001b[0m \u001b[0;34m=\u001b[0m \u001b[0;34m\"b\"\u001b[0m\u001b[0;34m\u001b[0m\u001b[0;34m\u001b[0m\u001b[0m\n\u001b[0m",
      "\u001b[0;31mTypeError\u001b[0m: 'str' object does not support item assignment"
     ]
    }
   ],
   "source": [
    "# A sztring karaktereit nem lehet módosítani!\n",
    "s[1] = \"b\""
   ]
  },
  {
   "cell_type": "code",
   "execution_count": 62,
   "metadata": {
    "id": "ixjTNI0ctYmf"
   },
   "outputs": [],
   "source": [
    "# Természetesen s-nek adhatunk új értéket.\n",
    "s = \"körte ♥ ♬\""
   ]
  },
  {
   "cell_type": "code",
   "execution_count": 63,
   "metadata": {
    "id": "2x-bGRoMtYmg"
   },
   "outputs": [
    {
     "name": "stdout",
     "output_type": "stream",
     "text": [
      "körte ♥ ♬\n"
     ]
    }
   ],
   "source": [
    "# Írjuk ki s tartalmát!\n",
    "print(s)"
   ]
  },
  {
   "cell_type": "markdown",
   "metadata": {
    "id": "xCGye91QLYHK"
   },
   "source": [
    "#### Néhány hasznos sztring eljárás\n",
    "```strip()```, ```lower()```, ```upper()```"
   ]
  },
  {
   "cell_type": "code",
   "execution_count": 64,
   "metadata": {},
   "outputs": [
    {
     "name": "stdout",
     "output_type": "stream",
     "text": [
      "\t Ez egy próba szöveg. \t\n",
      "\n"
     ]
    }
   ],
   "source": [
    "## Szöveg fehér karakterekkel\n",
    "text = \"\\t Ez egy próba szöveg. \\t\\n\"\n",
    "print(text)"
   ]
  },
  {
   "cell_type": "code",
   "execution_count": 65,
   "metadata": {},
   "outputs": [
    {
     "data": {
      "text/plain": [
       "'Ez egy próba szöveg.'"
      ]
     },
     "execution_count": 65,
     "metadata": {},
     "output_type": "execute_result"
    }
   ],
   "source": [
    "# Fehér karakterek (szóköz, tabulátor, sortörés) eltávolítása\n",
    "# a sztring elejéről és végéről.\n",
    "text.strip()\n"
   ]
  },
  {
   "cell_type": "code",
   "execution_count": 66,
   "metadata": {},
   "outputs": [
    {
     "data": {
      "text/plain": [
       "'\\t Ez egy próba szöveg. \\t'"
      ]
     },
     "execution_count": 66,
     "metadata": {},
     "output_type": "execute_result"
    }
   ],
   "source": [
    "# Megadott karakterek eltávolítása a sztring elejéről és végéről.\n",
    "text.strip(\"\\n\")\n"
   ]
  },
  {
   "cell_type": "code",
   "execution_count": 67,
   "metadata": {},
   "outputs": [
    {
     "data": {
      "text/plain": [
       "'ez egy próba szöveg.'"
      ]
     },
     "execution_count": 67,
     "metadata": {},
     "output_type": "execute_result"
    }
   ],
   "source": [
    "# Kisbetűssé alakítás.\n",
    "text.strip().lower()"
   ]
  },
  {
   "cell_type": "code",
   "execution_count": 68,
   "metadata": {},
   "outputs": [
    {
     "data": {
      "text/plain": [
       "'EZ EGY PRÓBA SZÖVEG.'"
      ]
     },
     "execution_count": 68,
     "metadata": {},
     "output_type": "execute_result"
    }
   ],
   "source": [
    "# Nagybetűssé alakítás.\n",
    "text.strip().upper()"
   ]
  },
  {
   "cell_type": "markdown",
   "metadata": {},
   "source": [
    "#### Műveletek sztringekkel\n",
    "```+```, ```*```, ```in```"
   ]
  },
  {
   "cell_type": "code",
   "execution_count": 69,
   "metadata": {},
   "outputs": [],
   "source": [
    "text_a = \"alma\"\n",
    "text_b = \"körte\""
   ]
  },
  {
   "cell_type": "code",
   "execution_count": 70,
   "metadata": {},
   "outputs": [
    {
     "data": {
      "text/plain": [
       "'alma körte'"
      ]
     },
     "execution_count": 70,
     "metadata": {},
     "output_type": "execute_result"
    }
   ],
   "source": [
    "# Sztringek összefűzése \n",
    "text_a + \" \" + text_b"
   ]
  },
  {
   "cell_type": "code",
   "execution_count": 71,
   "metadata": {},
   "outputs": [
    {
     "data": {
      "text/plain": [
       "'alma alma alma alma alma alma alma alma alma alma '"
      ]
     },
     "execution_count": 71,
     "metadata": {},
     "output_type": "execute_result"
    }
   ],
   "source": [
    "# Sztring ismétlése a megadott számú alkalommal.\n",
    "'alma ' * 10"
   ]
  },
  {
   "cell_type": "code",
   "execution_count": 72,
   "metadata": {},
   "outputs": [
    {
     "name": "stdout",
     "output_type": "stream",
     "text": [
      "True\n",
      "False\n"
     ]
    }
   ],
   "source": [
    "# Tartalmazásvizsgálat:\n",
    "print('a' in 'alma')\n",
    "print('b' in 'alma')"
   ]
  },
  {
   "cell_type": "code",
   "execution_count": 73,
   "metadata": {},
   "outputs": [
    {
     "data": {
      "text/plain": [
       "(0, str)"
      ]
     },
     "execution_count": 73,
     "metadata": {},
     "output_type": "execute_result"
    }
   ],
   "source": [
    "# Üres sztring létrehozása. Nulla karakterből áll.\n",
    "ures = ''\n",
    "len(ures), type(ures)"
   ]
  },
  {
   "cell_type": "markdown",
   "metadata": {},
   "source": [
    "#### Sztring kódolása\n",
    "Hogyan kerül az Unicode karaktersorozat egy fájlba?"
   ]
  },
  {
   "cell_type": "code",
   "execution_count": 74,
   "metadata": {},
   "outputs": [
    {
     "name": "stdout",
     "output_type": "stream",
     "text": [
      "körte ♥ ♬\n",
      "b'k\\xc3\\xb6rte \\xe2\\x99\\xa5 \\xe2\\x99\\xac'\n"
     ]
    }
   ],
   "source": [
    "## Sztringből a kódolás műveletével képezhetünk bájtsorozatot.\n",
    "s = \"körte ♥ ♬\"\n",
    "s_cod = s.encode(\"utf-8\")\n",
    "print(s)\n",
    "print(s_cod)"
   ]
  },
  {
   "cell_type": "code",
   "execution_count": 75,
   "metadata": {},
   "outputs": [
    {
     "data": {
      "text/plain": [
       "bytes"
      ]
     },
     "execution_count": 75,
     "metadata": {},
     "output_type": "execute_result"
    }
   ],
   "source": [
    "## Az eredmény típusa?\n",
    "type(s_cod)"
   ]
  },
  {
   "cell_type": "code",
   "execution_count": 76,
   "metadata": {},
   "outputs": [
    {
     "data": {
      "text/plain": [
       "(14, 9)"
      ]
     },
     "execution_count": 76,
     "metadata": {},
     "output_type": "execute_result"
    }
   ],
   "source": [
    "## A bájtok száma nagyobb lehet, mint a Unicode szimbólumok száma!\n",
    "len(s_cod), len(s)"
   ]
  },
  {
   "cell_type": "code",
   "execution_count": 77,
   "metadata": {},
   "outputs": [
    {
     "data": {
      "text/plain": [
       "'körte ♥ ♬'"
      ]
     },
     "execution_count": 77,
     "metadata": {},
     "output_type": "execute_result"
    }
   ],
   "source": [
    "## Bájtsorozatból a dekódolás műveletével képezhetünk sztringet.\n",
    "s_cod.decode(\"utf-8\")"
   ]
  },
  {
   "cell_type": "markdown",
   "metadata": {},
   "source": [
    "**Feladat:**\n",
    "\n",
    "- Hány bájton tárolódnak a magyar ábécé ékezetes kisbetűi UTF-8 kódolás esetén? Próbáljunk ki néhány esetet!\n",
    "- Hány bájton tárolódik a ♥ és a ♬ szimbólum?\n"
   ]
  },
  {
   "cell_type": "code",
   "execution_count": 78,
   "metadata": {},
   "outputs": [
    {
     "name": "stdout",
     "output_type": "stream",
     "text": [
      "2\n",
      "3\n"
     ]
    }
   ],
   "source": [
    "print(len(\"é\".encode(\"utf-8\")))\n",
    "print(len(\"♬\".encode(\"utf-8\")))"
   ]
  }
 ],
 "metadata": {
  "colab": {
   "provenance": [
    {
     "file_id": "1IS3vscUfHJF3bnN2CODTU6QW_dVdFqMr",
     "timestamp": 1681799254315
    }
   ]
  },
  "kernelspec": {
   "display_name": "Python 3 (ipykernel)",
   "language": "python",
   "name": "python3"
  },
  "language_info": {
   "codemirror_mode": {
    "name": "ipython",
    "version": 3
   },
   "file_extension": ".py",
   "mimetype": "text/x-python",
   "name": "python",
   "nbconvert_exporter": "python",
   "pygments_lexer": "ipython3",
   "version": "3.9.15"
  }
 },
 "nbformat": 4,
 "nbformat_minor": 4
}
