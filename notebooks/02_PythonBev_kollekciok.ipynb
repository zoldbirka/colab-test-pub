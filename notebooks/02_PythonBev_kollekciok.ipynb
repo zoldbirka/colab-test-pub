{
 "cells": [
  {
   "cell_type": "markdown",
   "metadata": {},
   "source": [
    "[![Open In Colab](colab-badge.png)](https://colab.research.google.com/github/zoldbirka/colab-test-pub/blob/main/_merge/02_PythonBev_kollekciok.ipynb)"
   ]
  },
  {
   "cell_type": "markdown",
   "metadata": {},
   "source": [
    "# Gyűjtemények; Konverziós lehetőségek; Adat beolvasás és kiíratás\n",
    "\n",
    "Gyűjtemények (Kollekciók): lista, tuple, szótár, halmaz. Ezek tulajdonságai. Indexelése.\n",
    "\n",
    "Konverziós lehetőségek a különböző adattípusok közt. Például int --> float; str --> int.\n",
    "\n",
    "Adat beolvasás és kiíratás a képernyőre: ```input()``` és ```print()```, alapvető formázási konvenciók."
   ]
  },
  {
   "cell_type": "markdown",
   "metadata": {
    "id": "OGmOdRLcFaJf"
   },
   "source": [
    "## Gyűjtemények (Kollekciók)\n",
    "Négy különböző, a pythonban alapvető gyűjteménnyel ismerkedünk meg.\n",
    "Ezek a tuple, lista (list), szótár (dict) és halmaz (set) típusok.  "
   ]
  },
  {
   "cell_type": "markdown",
   "metadata": {},
   "source": [
    "### Néhány álltalános megfontolás"
   ]
  },
  {
   "cell_type": "markdown",
   "metadata": {},
   "source": [
    "- A gyűjtemény elemeket vesszővel választjuk el.\n",
    "- A gyűjtemény típusát a határoló zárójel jelzi: ```() {} []```\n",
    "- Egy gyűjteményt típusát is le lehet kérdezni: ```type()```\n",
    "- A gyűjteményben lévő elemek számát a ```len()``` mutatja meg\n",
    "- Ha értelmes indexelni, akkor az 0-tól kezdődik, akár csak a sztringek esetében\n",
    "- Tartalmazás vizsgálat az ```in``` kulcsszóval"
   ]
  },
  {
   "cell_type": "markdown",
   "metadata": {
    "id": "xoJL7cBnFaJw"
   },
   "source": [
    "### Tuple\n",
    "\n",
    "- A tuple természetes számokkal indexelhető, **nem módosítható tömb**.\n",
    "- **Az elemeknek nem kell azonos típusúnak lenniük.**\n",
    "- Az indexelés O(1), a tartalmazásvizsgálat O(n) időben fut le, ahol n a tuple elemszáma.\n",
    "- [Tuple a python dokumentációban](https://docs.python.org/3/library/stdtypes.html#tuples)"
   ]
  },
  {
   "cell_type": "code",
   "execution_count": 8,
   "metadata": {
    "colab": {
     "base_uri": "https://localhost:8080/"
    },
    "executionInfo": {
     "elapsed": 433,
     "status": "ok",
     "timestamp": 1680619691550,
     "user": {
      "displayName": "Piroska Dömötör",
      "userId": "03696721308245428945"
     },
     "user_tz": -120
    },
    "id": "ErWtN6PXFaJ0",
    "outputId": "f74b650e-dde4-4acb-fea3-08175b259275"
   },
   "outputs": [
    {
     "data": {
      "text/plain": [
       "(1, 2, 1.23, True, 'alma')"
      ]
     },
     "execution_count": 8,
     "metadata": {},
     "output_type": "execute_result"
    }
   ],
   "source": [
    "# Hozzunk létre egy t nevű, 3 elemű tuple változót!\n",
    "# Az elemeknek nem kell azonos típusúnak lenniük.\n",
    "t = (1, 2, 1.23, True, 'alma')\n",
    "t"
   ]
  },
  {
   "cell_type": "code",
   "execution_count": 9,
   "metadata": {
    "colab": {
     "base_uri": "https://localhost:8080/"
    },
    "executionInfo": {
     "elapsed": 12,
     "status": "ok",
     "timestamp": 1680619711609,
     "user": {
      "displayName": "Piroska Dömötör",
      "userId": "03696721308245428945"
     },
     "user_tz": -120
    },
    "id": "dqTBp76eFaJ5",
    "outputId": "c7cbb928-35fb-4b93-aca2-bfa391a5ae37"
   },
   "outputs": [
    {
     "data": {
      "text/plain": [
       "tuple"
      ]
     },
     "execution_count": 9,
     "metadata": {},
     "output_type": "execute_result"
    }
   ],
   "source": [
    "# Ellenőrizzük t típusát!\n",
    "type(t)"
   ]
  },
  {
   "cell_type": "code",
   "execution_count": 10,
   "metadata": {
    "colab": {
     "base_uri": "https://localhost:8080/"
    },
    "executionInfo": {
     "elapsed": 7,
     "status": "ok",
     "timestamp": 1680619795716,
     "user": {
      "displayName": "Piroska Dömötör",
      "userId": "03696721308245428945"
     },
     "user_tz": -120
    },
    "id": "Btsms64qFaJ7",
    "outputId": "b56d196a-7e2c-4e90-d448-46d73d2f15a6"
   },
   "outputs": [
    {
     "data": {
      "text/plain": [
       "5"
      ]
     },
     "execution_count": 10,
     "metadata": {},
     "output_type": "execute_result"
    }
   ],
   "source": [
    "# Az elemek számát a len függvénnyel kérdezhetjük le.\n",
    "len(t)"
   ]
  },
  {
   "cell_type": "code",
   "execution_count": 11,
   "metadata": {
    "colab": {
     "base_uri": "https://localhost:8080/",
     "height": 35
    },
    "executionInfo": {
     "elapsed": 16,
     "status": "ok",
     "timestamp": 1680619835105,
     "user": {
      "displayName": "Piroska Dömötör",
      "userId": "03696721308245428945"
     },
     "user_tz": -120
    },
    "id": "E8_Za-_mFaJ9",
    "outputId": "ea70a2d1-e5fd-4f20-bc2f-9a01e1c1f0ac"
   },
   "outputs": [
    {
     "data": {
      "text/plain": [
       "2"
      ]
     },
     "execution_count": 11,
     "metadata": {},
     "output_type": "execute_result"
    }
   ],
   "source": [
    "# Tuple elemeinek elérése (az indexelés 0-tól indul).\n",
    "t[1]"
   ]
  },
  {
   "cell_type": "code",
   "execution_count": 12,
   "metadata": {
    "colab": {
     "base_uri": "https://localhost:8080/",
     "height": 189
    },
    "executionInfo": {
     "elapsed": 338,
     "status": "error",
     "timestamp": 1680619901993,
     "user": {
      "displayName": "Piroska Dömötör",
      "userId": "03696721308245428945"
     },
     "user_tz": -120
    },
    "id": "vgi2c6wQFaJ-",
    "outputId": "754727f3-f274-4dfb-e086-9e159f144123"
   },
   "outputs": [
    {
     "ename": "TypeError",
     "evalue": "'tuple' object does not support item assignment",
     "output_type": "error",
     "traceback": [
      "\u001b[0;31m---------------------------------------------------------------------------\u001b[0m",
      "\u001b[0;31mTypeError\u001b[0m                                 Traceback (most recent call last)",
      "\u001b[0;32m/tmp/ipykernel_65232/1175813823.py\u001b[0m in \u001b[0;36m<module>\u001b[0;34m\u001b[0m\n\u001b[1;32m      1\u001b[0m \u001b[0;31m# Az elemeken nem lehet módosítani!\u001b[0m\u001b[0;34m\u001b[0m\u001b[0;34m\u001b[0m\u001b[0m\n\u001b[0;32m----> 2\u001b[0;31m \u001b[0mt\u001b[0m\u001b[0;34m[\u001b[0m\u001b[0;36m1\u001b[0m\u001b[0;34m]\u001b[0m \u001b[0;34m=\u001b[0m \u001b[0;36m16\u001b[0m\u001b[0;34m\u001b[0m\u001b[0;34m\u001b[0m\u001b[0m\n\u001b[0m",
      "\u001b[0;31mTypeError\u001b[0m: 'tuple' object does not support item assignment"
     ]
    }
   ],
   "source": [
    "# Az elemeken nem lehet módosítani!\n",
    "t[1] = 16"
   ]
  },
  {
   "cell_type": "code",
   "execution_count": 13,
   "metadata": {
    "executionInfo": {
     "elapsed": 420,
     "status": "ok",
     "timestamp": 1680620011037,
     "user": {
      "displayName": "Piroska Dömötör",
      "userId": "03696721308245428945"
     },
     "user_tz": -120
    },
    "id": "VJ3YwYTCFaJ_"
   },
   "outputs": [],
   "source": [
    "# A t változó persze kaphat új értéket.\n",
    "t = (1, 2, 3, (12, 24))"
   ]
  },
  {
   "cell_type": "code",
   "execution_count": 14,
   "metadata": {
    "colab": {
     "base_uri": "https://localhost:8080/"
    },
    "executionInfo": {
     "elapsed": 259,
     "status": "ok",
     "timestamp": 1680623536443,
     "user": {
      "displayName": "Piroska Dömötör",
      "userId": "03696721308245428945"
     },
     "user_tz": -120
    },
    "id": "1fmYMQ-wFaKB",
    "outputId": "f0fb2494-09de-418a-ee44-1bef9d0bf76c"
   },
   "outputs": [
    {
     "name": "stdout",
     "output_type": "stream",
     "text": [
      "False\n",
      "True\n"
     ]
    }
   ],
   "source": [
    "# Tartalmazásvizsgálat.\n",
    "print(12 in t)\n",
    "print(1 in t)"
   ]
  },
  {
   "cell_type": "code",
   "execution_count": 15,
   "metadata": {
    "colab": {
     "base_uri": "https://localhost:8080/"
    },
    "executionInfo": {
     "elapsed": 8,
     "status": "ok",
     "timestamp": 1680620110730,
     "user": {
      "displayName": "Piroska Dömötör",
      "userId": "03696721308245428945"
     },
     "user_tz": -120
    },
    "id": "3hCEsuqhFaKC",
    "outputId": "157f2878-397a-4759-88e5-1c5aed4450d6"
   },
   "outputs": [
    {
     "name": "stdout",
     "output_type": "stream",
     "text": [
      "(1, 2, 'alma')\n"
     ]
    }
   ],
   "source": [
    "# Amennyiben nem okoz kétértelműséget, a ( és ) határoló elhagyható!\n",
    "t2 = 1, 2, \"alma\"\n",
    "print(t2)"
   ]
  },
  {
   "cell_type": "code",
   "execution_count": 16,
   "metadata": {
    "colab": {
     "base_uri": "https://localhost:8080/"
    },
    "executionInfo": {
     "elapsed": 495,
     "status": "ok",
     "timestamp": 1680623569352,
     "user": {
      "displayName": "Piroska Dömötör",
      "userId": "03696721308245428945"
     },
     "user_tz": -120
    },
    "id": "ejjXkQgnFaKC",
    "outputId": "d1fcbccb-67d5-4e78-e64c-7206245f7f00"
   },
   "outputs": [
    {
     "data": {
      "text/plain": [
       "(0, tuple)"
      ]
     },
     "execution_count": 16,
     "metadata": {},
     "output_type": "execute_result"
    }
   ],
   "source": [
    "# Üres tuple létrehozása.\n",
    "t0 = ()\n",
    "len(t0), type(t0)"
   ]
  },
  {
   "cell_type": "code",
   "execution_count": 17,
   "metadata": {
    "colab": {
     "base_uri": "https://localhost:8080/"
    },
    "executionInfo": {
     "elapsed": 278,
     "status": "ok",
     "timestamp": 1680623605737,
     "user": {
      "displayName": "Piroska Dömötör",
      "userId": "03696721308245428945"
     },
     "user_tz": -120
    },
    "id": "AwR52KbFFaKC",
    "outputId": "496239f2-d967-430a-c2cf-77789b5b924e"
   },
   "outputs": [
    {
     "data": {
      "text/plain": [
       "(tuple, 1)"
      ]
     },
     "execution_count": 17,
     "metadata": {},
     "output_type": "execute_result"
    }
   ],
   "source": [
    "# Egy elemű tuple létrehozása. A zárójel el is hagyható.\n",
    "t1 = (\"s\",)\n",
    "type(t1) , len(t1)"
   ]
  },
  {
   "cell_type": "markdown",
   "metadata": {
    "id": "IUftxKj_FaKD"
   },
   "source": [
    "### Lista (list)\n",
    "\n",
    "- A tuple módosítható változata:\n",
    "    - új elemet is hozzá lehet adni, ill. \n",
    "    - meglévő elemeken is lehet módosítani.\n",
    "- Az indexelés O(1), a tartalmazásvizsgálat O(n) időben fut le itt is.\n",
    "- [List a python dokumentációban](https://docs.python.org/3/library/stdtypes.html#lists)"
   ]
  },
  {
   "cell_type": "code",
   "execution_count": 22,
   "metadata": {
    "colab": {
     "base_uri": "https://localhost:8080/"
    },
    "executionInfo": {
     "elapsed": 9,
     "status": "ok",
     "timestamp": 1680623696328,
     "user": {
      "displayName": "Piroska Dömötör",
      "userId": "03696721308245428945"
     },
     "user_tz": -120
    },
    "id": "4zqmjbd2FaKD",
    "outputId": "b4702d16-eb21-44f9-8474-50de71e3a889"
   },
   "outputs": [
    {
     "data": {
      "text/plain": [
       "[1, 1.23, True, 'alma']"
      ]
     },
     "execution_count": 22,
     "metadata": {},
     "output_type": "execute_result"
    }
   ],
   "source": [
    "# Hozzunk létre egy l nevű, 4 elemű listaváltozót!\n",
    "# Az elemeknek nem kell azonos típusúnak lenniük.\n",
    "l = [1, 1.23, True, 'alma']\n",
    "l"
   ]
  },
  {
   "cell_type": "code",
   "execution_count": 23,
   "metadata": {
    "colab": {
     "base_uri": "https://localhost:8080/"
    },
    "executionInfo": {
     "elapsed": 8,
     "status": "ok",
     "timestamp": 1680623697287,
     "user": {
      "displayName": "Piroska Dömötör",
      "userId": "03696721308245428945"
     },
     "user_tz": -120
    },
    "id": "2ExJaF9sFaKE",
    "outputId": "0f070039-bdf9-4c92-a764-1c756316ed6a"
   },
   "outputs": [
    {
     "data": {
      "text/plain": [
       "(list, 4)"
      ]
     },
     "execution_count": 23,
     "metadata": {},
     "output_type": "execute_result"
    }
   ],
   "source": [
    "# Ellenőrizzük l típusát, és kérdezzük le az elemek számát!\n",
    "type(l), len (l)"
   ]
  },
  {
   "cell_type": "code",
   "execution_count": 24,
   "metadata": {
    "colab": {
     "base_uri": "https://localhost:8080/"
    },
    "executionInfo": {
     "elapsed": 13,
     "status": "ok",
     "timestamp": 1680623697963,
     "user": {
      "displayName": "Piroska Dömötör",
      "userId": "03696721308245428945"
     },
     "user_tz": -120
    },
    "id": "aQWXKeASFaKE",
    "outputId": "82b80a52-7627-42f3-d7b4-dcd22bfba6cc"
   },
   "outputs": [
    {
     "data": {
      "text/plain": [
       "1.23"
      ]
     },
     "execution_count": 24,
     "metadata": {},
     "output_type": "execute_result"
    }
   ],
   "source": [
    "# Lista elemeinek elérése (az indexelés 0-tól indul).\n",
    "l[1]"
   ]
  },
  {
   "cell_type": "code",
   "execution_count": 25,
   "metadata": {
    "colab": {
     "base_uri": "https://localhost:8080/"
    },
    "executionInfo": {
     "elapsed": 6,
     "status": "ok",
     "timestamp": 1680623699113,
     "user": {
      "displayName": "Piroska Dömötör",
      "userId": "03696721308245428945"
     },
     "user_tz": -120
    },
    "id": "L3DBckfCFaKE",
    "outputId": "b5e3316e-9b72-430b-f666-c7f22763e192"
   },
   "outputs": [
    {
     "data": {
      "text/plain": [
       "[1, 16, True, 'alma']"
      ]
     },
     "execution_count": 25,
     "metadata": {},
     "output_type": "execute_result"
    }
   ],
   "source": [
    "# Listaelem módosítása.\n",
    "l[1] = 16\n",
    "l"
   ]
  },
  {
   "cell_type": "code",
   "execution_count": 26,
   "metadata": {
    "colab": {
     "base_uri": "https://localhost:8080/"
    },
    "executionInfo": {
     "elapsed": 7,
     "status": "ok",
     "timestamp": 1680623700145,
     "user": {
      "displayName": "Piroska Dömötör",
      "userId": "03696721308245428945"
     },
     "user_tz": -120
    },
    "id": "XyNzidgfFaKF",
    "outputId": "6c0db3cf-80ed-4e0d-ac8d-dbb6df6026f5"
   },
   "outputs": [
    {
     "data": {
      "text/plain": [
       "[1, 2, 'alma', [3, 4]]"
      ]
     },
     "execution_count": 26,
     "metadata": {},
     "output_type": "execute_result"
    }
   ],
   "source": [
    "# Listába elemként beágyazhatunk másik listát\n",
    "[1, 2, 'alma', [3, 4]]"
   ]
  },
  {
   "cell_type": "code",
   "execution_count": 27,
   "metadata": {
    "colab": {
     "base_uri": "https://localhost:8080/"
    },
    "executionInfo": {
     "elapsed": 833,
     "status": "ok",
     "timestamp": 1680623705452,
     "user": {
      "displayName": "Piroska Dömötör",
      "userId": "03696721308245428945"
     },
     "user_tz": -120
    },
    "id": "6YIrcubRFaKH",
    "outputId": "01ee167b-ea10-4684-8ff6-fd90bf7d37bc"
   },
   "outputs": [
    {
     "data": {
      "text/plain": [
       "True"
      ]
     },
     "execution_count": 27,
     "metadata": {},
     "output_type": "execute_result"
    }
   ],
   "source": [
    "# Tartalmazásvizsgálat.\n",
    "'alma' in l "
   ]
  },
  {
   "cell_type": "code",
   "execution_count": 28,
   "metadata": {
    "colab": {
     "base_uri": "https://localhost:8080/"
    },
    "executionInfo": {
     "elapsed": 723,
     "status": "ok",
     "timestamp": 1680623737612,
     "user": {
      "displayName": "Piroska Dömötör",
      "userId": "03696721308245428945"
     },
     "user_tz": -120
    },
    "id": "kMR2JmuUFaKM",
    "outputId": "5a685414-b328-4380-8bfe-05e01cec3d50"
   },
   "outputs": [
    {
     "data": {
      "text/plain": [
       "(list, 0)"
      ]
     },
     "execution_count": 28,
     "metadata": {},
     "output_type": "execute_result"
    }
   ],
   "source": [
    "# Üres lista létrehozása.\n",
    "l0 = []\n",
    "type(l0), len(l0)"
   ]
  },
  {
   "cell_type": "markdown",
   "metadata": {},
   "source": [
    "#### Lista módosítása:\n",
    "Eljárások: ```.append()```, ```.index()```,  ```.insert()```,```.pop()```"
   ]
  },
  {
   "cell_type": "code",
   "execution_count": 18,
   "metadata": {},
   "outputs": [],
   "source": [
    "l = [1, 1.23, True, 'alma']"
   ]
  },
  {
   "cell_type": "code",
   "execution_count": 19,
   "metadata": {
    "colab": {
     "base_uri": "https://localhost:8080/"
    },
    "executionInfo": {
     "elapsed": 6,
     "status": "ok",
     "timestamp": 1680623701565,
     "user": {
      "displayName": "Piroska Dömötör",
      "userId": "03696721308245428945"
     },
     "user_tz": -120
    },
    "id": "mnN7qmCOFaKF",
    "outputId": "e0f7a84b-260b-46df-fc93-e95eafd20b10"
   },
   "outputs": [
    {
     "data": {
      "text/plain": [
       "[1, 1.23, True, 'alma', 134]"
      ]
     },
     "execution_count": 19,
     "metadata": {},
     "output_type": "execute_result"
    }
   ],
   "source": [
    "# Elem hozzáfűzése a lista végére: append()\n",
    "l.append(134)\n",
    "l"
   ]
  },
  {
   "cell_type": "code",
   "execution_count": 20,
   "metadata": {
    "colab": {
     "base_uri": "https://localhost:8080/"
    },
    "executionInfo": {
     "elapsed": 478,
     "status": "ok",
     "timestamp": 1680623702905,
     "user": {
      "displayName": "Piroska Dömötör",
      "userId": "03696721308245428945"
     },
     "user_tz": -120
    },
    "id": "fEZNoIW4FaKG",
    "outputId": "ad5472d1-5f17-4efc-fd29-3ad2f725c173"
   },
   "outputs": [
    {
     "data": {
      "text/plain": [
       "[1, 'körte', 1.23, True, 'alma', 134]"
      ]
     },
     "execution_count": 20,
     "metadata": {},
     "output_type": "execute_result"
    }
   ],
   "source": [
    "# Elem beszúrása a lista közepére: insert()\n",
    "l.insert(1, \"körte\")\n",
    "l"
   ]
  },
  {
   "cell_type": "code",
   "execution_count": 21,
   "metadata": {
    "colab": {
     "base_uri": "https://localhost:8080/"
    },
    "executionInfo": {
     "elapsed": 482,
     "status": "ok",
     "timestamp": 1680623707499,
     "user": {
      "displayName": "Piroska Dömötör",
      "userId": "03696721308245428945"
     },
     "user_tz": -120
    },
    "id": "jcYm1P4GFaKH",
    "outputId": "ac23f4fe-7459-4ba3-fc49-31d1ab9d112e"
   },
   "outputs": [
    {
     "data": {
      "text/plain": [
       "4"
      ]
     },
     "execution_count": 21,
     "metadata": {},
     "output_type": "execute_result"
    }
   ],
   "source": [
    "# Elem indexének meghatározása (az első előfordulásé)   .index()\n",
    "l.index(\"alma\")"
   ]
  },
  {
   "cell_type": "code",
   "execution_count": 22,
   "metadata": {
    "colab": {
     "base_uri": "https://localhost:8080/"
    },
    "executionInfo": {
     "elapsed": 11,
     "status": "ok",
     "timestamp": 1680623708888,
     "user": {
      "displayName": "Piroska Dömötör",
      "userId": "03696721308245428945"
     },
     "user_tz": -120
    },
    "id": "l7FGgpIzFaKJ",
    "outputId": "47cd83f1-4909-45ac-bb42-acd646a99214"
   },
   "outputs": [
    {
     "data": {
      "text/plain": [
       "[1, 'körte', 1.23, True, 'alma']"
      ]
     },
     "execution_count": 22,
     "metadata": {},
     "output_type": "execute_result"
    }
   ],
   "source": [
    "# Adott indexű elem törlése .pop()\n",
    "l.pop(5)\n",
    "l"
   ]
  },
  {
   "cell_type": "code",
   "execution_count": 23,
   "metadata": {
    "colab": {
     "base_uri": "https://localhost:8080/"
    },
    "executionInfo": {
     "elapsed": 8,
     "status": "ok",
     "timestamp": 1680623710362,
     "user": {
      "displayName": "Piroska Dömötör",
      "userId": "03696721308245428945"
     },
     "user_tz": -120
    },
    "id": "8AnXESAxFaKK",
    "outputId": "d0d52642-1149-4144-ddb6-dcbec43b821b"
   },
   "outputs": [
    {
     "data": {
      "text/plain": [
       "[1, 'körte', 1.23, True]"
      ]
     },
     "execution_count": 23,
     "metadata": {},
     "output_type": "execute_result"
    }
   ],
   "source": [
    "# Utolsó elem törlése.\n",
    "l.pop()\n",
    "l"
   ]
  },
  {
   "cell_type": "code",
   "execution_count": 24,
   "metadata": {
    "colab": {
     "base_uri": "https://localhost:8080/"
    },
    "executionInfo": {
     "elapsed": 560,
     "status": "ok",
     "timestamp": 1680623717627,
     "user": {
      "displayName": "Piroska Dömötör",
      "userId": "03696721308245428945"
     },
     "user_tz": -120
    },
    "id": "p7OOchNuFaKL",
    "outputId": "52d151fa-cca0-475c-e124-9af9e13a16e9"
   },
   "outputs": [
    {
     "data": {
      "text/plain": [
       "[1, 2, 3, 'alma', 'körte']"
      ]
     },
     "execution_count": 24,
     "metadata": {},
     "output_type": "execute_result"
    }
   ],
   "source": [
    "# Két lista összefűzése egy új listába.\n",
    "[1,2,3] + ['alma','körte']"
   ]
  },
  {
   "cell_type": "code",
   "execution_count": 25,
   "metadata": {
    "colab": {
     "base_uri": "https://localhost:8080/"
    },
    "executionInfo": {
     "elapsed": 268,
     "status": "ok",
     "timestamp": 1680623725037,
     "user": {
      "displayName": "Piroska Dömötör",
      "userId": "03696721308245428945"
     },
     "user_tz": -120
    },
    "id": "FwMTUMmMFaKM",
    "outputId": "bb255c3f-7b8f-47c7-b16f-0f63b3a2260c"
   },
   "outputs": [
    {
     "data": {
      "text/plain": [
       "['alma', 'körte', 'alma', 'körte', 'alma', 'körte']"
      ]
     },
     "execution_count": 25,
     "metadata": {},
     "output_type": "execute_result"
    }
   ],
   "source": [
    "# Lista többszörözése.\n",
    "['alma','körte']*3"
   ]
  },
  {
   "cell_type": "markdown",
   "metadata": {
    "id": "7U3m6lG3FaKN"
   },
   "source": [
    "### Halmaz (set)\n",
    "\n",
    "- A halmaz adattípus a matematikai halmazfogalom számítógépes megfelelője, azaz egy elem csak 1x szerepelhet!\n",
    "- Halmazt indexelni nem lehet, a tartalmazásvizsgálat O(1) időben fut le.\n",
    "- [Halmaz a python dokumentációban](https://docs.python.org/3/library/stdtypes.html#set-types-set-frozenset)"
   ]
  },
  {
   "cell_type": "code",
   "execution_count": 40,
   "metadata": {
    "colab": {
     "base_uri": "https://localhost:8080/"
    },
    "executionInfo": {
     "elapsed": 727,
     "status": "ok",
     "timestamp": 1680623742590,
     "user": {
      "displayName": "Piroska Dömötör",
      "userId": "03696721308245428945"
     },
     "user_tz": -120
    },
    "id": "eV5jX6O-FaKN",
    "outputId": "c218eba5-0f68-4caf-e636-d7a67f3cb23b"
   },
   "outputs": [
    {
     "data": {
      "text/plain": [
       "{1, 1.25, 3, 5, 'alma'}"
      ]
     },
     "execution_count": 40,
     "metadata": {},
     "output_type": "execute_result"
    }
   ],
   "source": [
    "# Hozzunk létre egy s nevű halmazváltozót!\n",
    "# Az elemek típusa nem feltétlenül azonos.\n",
    "\n",
    "s = {1, 1, 3, \"alma\", 1.25, 1,5}\n",
    "s"
   ]
  },
  {
   "cell_type": "code",
   "execution_count": 37,
   "metadata": {
    "colab": {
     "base_uri": "https://localhost:8080/"
    },
    "executionInfo": {
     "elapsed": 7,
     "status": "ok",
     "timestamp": 1680623743146,
     "user": {
      "displayName": "Piroska Dömötör",
      "userId": "03696721308245428945"
     },
     "user_tz": -120
    },
    "id": "UUeP6V-wFaKO",
    "outputId": "cf9ebdd1-8dcc-4571-fee4-1ab914eaad14"
   },
   "outputs": [
    {
     "data": {
      "text/plain": [
       "(set, 5)"
      ]
     },
     "execution_count": 37,
     "metadata": {},
     "output_type": "execute_result"
    }
   ],
   "source": [
    "# Ellenőrizzük s típusát és elemszámát!\n",
    "type(s) , len(s)"
   ]
  },
  {
   "cell_type": "code",
   "execution_count": 38,
   "metadata": {
    "colab": {
     "base_uri": "https://localhost:8080/"
    },
    "executionInfo": {
     "elapsed": 9,
     "status": "ok",
     "timestamp": 1680623744024,
     "user": {
      "displayName": "Piroska Dömötör",
      "userId": "03696721308245428945"
     },
     "user_tz": -120
    },
    "id": "fn8Cv0zDFaKO",
    "outputId": "180e7921-4437-43dd-bc89-82ef5a6d4713"
   },
   "outputs": [
    {
     "data": {
      "text/plain": [
       "True"
      ]
     },
     "execution_count": 38,
     "metadata": {},
     "output_type": "execute_result"
    }
   ],
   "source": [
    "# Tartalmazásvizsgálat.\n",
    "1 in s"
   ]
  },
  {
   "cell_type": "code",
   "execution_count": 39,
   "metadata": {
    "colab": {
     "base_uri": "https://localhost:8080/"
    },
    "executionInfo": {
     "elapsed": 423,
     "status": "ok",
     "timestamp": 1680623745604,
     "user": {
      "displayName": "Piroska Dömötör",
      "userId": "03696721308245428945"
     },
     "user_tz": -120
    },
    "id": "VZRQzfHx1jGw",
    "outputId": "5edfa94b-4e27-4461-dcca-e2e54f07d839"
   },
   "outputs": [
    {
     "data": {
      "text/plain": [
       "False"
      ]
     },
     "execution_count": 39,
     "metadata": {},
     "output_type": "execute_result"
    }
   ],
   "source": [
    "2 in s"
   ]
  },
  {
   "cell_type": "code",
   "execution_count": 102,
   "metadata": {
    "colab": {
     "base_uri": "https://localhost:8080/"
    },
    "executionInfo": {
     "elapsed": 253,
     "status": "ok",
     "timestamp": 1680623776360,
     "user": {
      "displayName": "Piroska Dömötör",
      "userId": "03696721308245428945"
     },
     "user_tz": -120
    },
    "id": "Yi-R5XqqFaKR",
    "outputId": "94dfc210-98e8-46bf-bd66-0ee08ca2cb30"
   },
   "outputs": [
    {
     "data": {
      "text/plain": [
       "(set, 0)"
      ]
     },
     "execution_count": 102,
     "metadata": {},
     "output_type": "execute_result"
    }
   ],
   "source": [
    "# Üres halmaz létrehozása. {} nem jó, mert az szótárt készít.\n",
    "s0 = set()\n",
    "type(s0), len(s0)"
   ]
  },
  {
   "cell_type": "markdown",
   "metadata": {},
   "source": [
    "#### Halmaz módosítása, halmazműveletek:\n",
    "- Eljárások: ```.add()``` és ```.remove()```\n",
    "- Műveletek: únió (```|```), metszet (```&```), különbség (```-```) "
   ]
  },
  {
   "cell_type": "code",
   "execution_count": 26,
   "metadata": {},
   "outputs": [],
   "source": [
    "s = {1, 1, 3, \"alma\", 1.25, 1, 5}"
   ]
  },
  {
   "cell_type": "code",
   "execution_count": 27,
   "metadata": {
    "executionInfo": {
     "elapsed": 314,
     "status": "ok",
     "timestamp": 1680623747035,
     "user": {
      "displayName": "Piroska Dömötör",
      "userId": "03696721308245428945"
     },
     "user_tz": -120
    },
    "id": "N5fUMAUeFaKO"
   },
   "outputs": [
    {
     "name": "stdout",
     "output_type": "stream",
     "text": [
      "{1, 1.25, 3, 5, 'alma', 12}\n"
     ]
    }
   ],
   "source": [
    "# Elem hozzáadása a halmazhoz.\n",
    "s.add(12)\n",
    "print(s)"
   ]
  },
  {
   "cell_type": "code",
   "execution_count": 28,
   "metadata": {
    "colab": {
     "base_uri": "https://localhost:8080/"
    },
    "executionInfo": {
     "elapsed": 400,
     "status": "ok",
     "timestamp": 1680623773270,
     "user": {
      "displayName": "Piroska Dömötör",
      "userId": "03696721308245428945"
     },
     "user_tz": -120
    },
    "id": "xHpzcUBpFaKR",
    "outputId": "4520fbc3-55bd-4c21-d69e-41fdc22ef136"
   },
   "outputs": [
    {
     "data": {
      "text/plain": [
       "{1.25, 12, 3, 5, 'alma'}"
      ]
     },
     "execution_count": 28,
     "metadata": {},
     "output_type": "execute_result"
    }
   ],
   "source": [
    "# Elem eltávolítása.\n",
    "s.remove(1)\n",
    "s"
   ]
  },
  {
   "cell_type": "code",
   "execution_count": 32,
   "metadata": {
    "colab": {
     "base_uri": "https://localhost:8080/"
    },
    "executionInfo": {
     "elapsed": 428,
     "status": "ok",
     "timestamp": 1680623751619,
     "user": {
      "displayName": "Piroska Dömötör",
      "userId": "03696721308245428945"
     },
     "user_tz": -120
    },
    "id": "48wp2SAYFaKP",
    "outputId": "26714287-6e9e-4ea5-d1e1-e6896fcfca4a"
   },
   "outputs": [
    {
     "data": {
      "text/plain": [
       "{1, 2, 3, 5}"
      ]
     },
     "execution_count": 32,
     "metadata": {},
     "output_type": "execute_result"
    }
   ],
   "source": [
    "# unió\n",
    "{1, 2, 3} | {1, 5, 2}"
   ]
  },
  {
   "cell_type": "code",
   "execution_count": 33,
   "metadata": {
    "colab": {
     "base_uri": "https://localhost:8080/"
    },
    "executionInfo": {
     "elapsed": 391,
     "status": "ok",
     "timestamp": 1680623753235,
     "user": {
      "displayName": "Piroska Dömötör",
      "userId": "03696721308245428945"
     },
     "user_tz": -120
    },
    "id": "l33xgbZOFaKP",
    "outputId": "208ae50a-8b53-48e3-efac-5cebb1a14377"
   },
   "outputs": [
    {
     "data": {
      "text/plain": [
       "{1, 2}"
      ]
     },
     "execution_count": 33,
     "metadata": {},
     "output_type": "execute_result"
    }
   ],
   "source": [
    "# metszet\n",
    "{1, 2, 3} & {1, 5, 2}"
   ]
  },
  {
   "cell_type": "code",
   "execution_count": 34,
   "metadata": {
    "colab": {
     "base_uri": "https://localhost:8080/"
    },
    "executionInfo": {
     "elapsed": 7,
     "status": "ok",
     "timestamp": 1680623755371,
     "user": {
      "displayName": "Piroska Dömötör",
      "userId": "03696721308245428945"
     },
     "user_tz": -120
    },
    "id": "BO0y28c6FaKQ",
    "outputId": "15e83bee-48bf-4446-e35e-7d539a7c7b53"
   },
   "outputs": [
    {
     "data": {
      "text/plain": [
       "{3}"
      ]
     },
     "execution_count": 34,
     "metadata": {},
     "output_type": "execute_result"
    }
   ],
   "source": [
    "# halmazkivonás\n",
    "{1, 2, 3} - {1, 5, 2}"
   ]
  },
  {
   "cell_type": "markdown",
   "metadata": {
    "id": "JfeDXDyqFaKS"
   },
   "source": [
    "### Szótár (dict)\n",
    "\n",
    "- A szótár kulcs-érték párok halmaza, ahol a kulcsok egyediek.\n",
    "- Indexelni a kulccsal lehet, O(1) időben.\n",
    "- A kulcs lehet egyszerű típus, tuple vagy bármely módosíthatatlan adatszerkezet.\n",
    "- [Szótár a python dokumentációban](https://docs.python.org/3/library/stdtypes.html#mapping-types-dict)"
   ]
  },
  {
   "cell_type": "code",
   "execution_count": null,
   "metadata": {},
   "outputs": [],
   "source": [
    "# Hozzunk létre egy d nevű szótárváltozót!\n",
    "d = { \"alma\": 120, \"körte\": 12.5, \"barack\": 4}"
   ]
  },
  {
   "cell_type": "code",
   "execution_count": 35,
   "metadata": {
    "colab": {
     "base_uri": "https://localhost:8080/"
    },
    "executionInfo": {
     "elapsed": 409,
     "status": "ok",
     "timestamp": 1680623844920,
     "user": {
      "displayName": "Piroska Dömötör",
      "userId": "03696721308245428945"
     },
     "user_tz": -120
    },
    "id": "aUgUBcWZFaKS",
    "outputId": "6af7cbe5-9bb6-4981-8ff6-91cc0738fc70"
   },
   "outputs": [],
   "source": [
    "# ha az olvashatóság úgy kívánja mehet a kollekció több sorba!\n",
    "d = { \n",
    "      \"alma\":     120,\n",
    "      \"körte\":    12.5,\n",
    "      \"barack\":   4\n",
    "      }"
   ]
  },
  {
   "cell_type": "code",
   "execution_count": 36,
   "metadata": {},
   "outputs": [
    {
     "name": "stdout",
     "output_type": "stream",
     "text": [
      "{'alma': 120, 'körte': 12.5, 'barack': 4}\n"
     ]
    }
   ],
   "source": [
    "print(d)"
   ]
  },
  {
   "cell_type": "code",
   "execution_count": 50,
   "metadata": {
    "colab": {
     "base_uri": "https://localhost:8080/"
    },
    "executionInfo": {
     "elapsed": 401,
     "status": "ok",
     "timestamp": 1680623861305,
     "user": {
      "displayName": "Piroska Dömötör",
      "userId": "03696721308245428945"
     },
     "user_tz": -120
    },
    "id": "3ymdXAy-FaKT",
    "outputId": "fdcbae34-5a51-4bc9-859e-51346f109924"
   },
   "outputs": [
    {
     "data": {
      "text/plain": [
       "(dict, 3)"
      ]
     },
     "execution_count": 50,
     "metadata": {},
     "output_type": "execute_result"
    }
   ],
   "source": [
    "# Ellenőrizzük le d típusát és elemszámát!\n",
    "type(d) , len(d)"
   ]
  },
  {
   "cell_type": "code",
   "execution_count": 51,
   "metadata": {
    "colab": {
     "base_uri": "https://localhost:8080/"
    },
    "executionInfo": {
     "elapsed": 393,
     "status": "ok",
     "timestamp": 1680623863766,
     "user": {
      "displayName": "Piroska Dömötör",
      "userId": "03696721308245428945"
     },
     "user_tz": -120
    },
    "id": "wCRhiHbMFaKT",
    "outputId": "9e4c6223-d444-4baf-8e8d-234c3762a17e"
   },
   "outputs": [
    {
     "data": {
      "text/plain": [
       "120"
      ]
     },
     "execution_count": 51,
     "metadata": {},
     "output_type": "execute_result"
    }
   ],
   "source": [
    "# Létező kulcshoz tartozó érték lekérdezése.\n",
    "d[\"alma\"]"
   ]
  },
  {
   "cell_type": "code",
   "execution_count": 107,
   "metadata": {
    "colab": {
     "base_uri": "https://localhost:8080/",
     "height": 189
    },
    "executionInfo": {
     "elapsed": 426,
     "status": "error",
     "timestamp": 1680623872781,
     "user": {
      "displayName": "Piroska Dömötör",
      "userId": "03696721308245428945"
     },
     "user_tz": -120
    },
    "id": "Gn7hR6sdFaKU",
    "outputId": "2757e9f1-d56c-4dea-97ca-9a32aa3a7113"
   },
   "outputs": [
    {
     "ename": "KeyError",
     "evalue": "ignored",
     "output_type": "error",
     "traceback": [
      "\u001b[0;31m---------------------------------------------------------------------------\u001b[0m",
      "\u001b[0;31mKeyError\u001b[0m                                  Traceback (most recent call last)",
      "\u001b[0;32m<ipython-input-107-02e06c1aef53>\u001b[0m in \u001b[0;36m<cell line: 2>\u001b[0;34m()\u001b[0m\n\u001b[1;32m      1\u001b[0m \u001b[0;31m# Nem létező kulcshoz tartozó érték lekérdezése.\u001b[0m\u001b[0;34m\u001b[0m\u001b[0;34m\u001b[0m\u001b[0m\n\u001b[0;32m----> 2\u001b[0;31m \u001b[0md\u001b[0m\u001b[0;34m[\u001b[0m\u001b[0;34m\"meggy\"\u001b[0m\u001b[0;34m]\u001b[0m\u001b[0;34m\u001b[0m\u001b[0;34m\u001b[0m\u001b[0m\n\u001b[0m",
      "\u001b[0;31mKeyError\u001b[0m: 'meggy'"
     ]
    }
   ],
   "source": [
    "# Nem létező kulcshoz tartozó érték lekérdezése.\n",
    "d[\"meggy\"]"
   ]
  },
  {
   "cell_type": "code",
   "execution_count": 66,
   "metadata": {
    "colab": {
     "base_uri": "https://localhost:8080/"
    },
    "executionInfo": {
     "elapsed": 9,
     "status": "ok",
     "timestamp": 1680623876060,
     "user": {
      "displayName": "Piroska Dömötör",
      "userId": "03696721308245428945"
     },
     "user_tz": -120
    },
    "id": "AYqf2gkPFaKU",
    "outputId": "6fa27454-2188-4475-80e9-a7574fd21f97"
   },
   "outputs": [
    {
     "data": {
      "text/plain": [
       "{'alma': 100, 'körte': 12.5, 'barack': 4}"
      ]
     },
     "execution_count": 66,
     "metadata": {},
     "output_type": "execute_result"
    }
   ],
   "source": [
    "# Kulcshoz tartozó érték módosítása.\n",
    "d[\"alma\"] = 100\n",
    "d"
   ]
  },
  {
   "cell_type": "code",
   "execution_count": 67,
   "metadata": {
    "colab": {
     "base_uri": "https://localhost:8080/"
    },
    "executionInfo": {
     "elapsed": 419,
     "status": "ok",
     "timestamp": 1680623879333,
     "user": {
      "displayName": "Piroska Dömötör",
      "userId": "03696721308245428945"
     },
     "user_tz": -120
    },
    "id": "cUAWvJfVFaKU",
    "outputId": "227848b6-074a-4ef4-d6e7-76158581d5b4"
   },
   "outputs": [
    {
     "data": {
      "text/plain": [
       "{'alma': 100, 'körte': 12.5, 'barack': 48}"
      ]
     },
     "execution_count": 67,
     "metadata": {},
     "output_type": "execute_result"
    }
   ],
   "source": [
    "# Új kulcs-érték pár beszúrása.\n",
    "d[\"barack\"] = 48\n",
    "d"
   ]
  },
  {
   "cell_type": "code",
   "execution_count": 68,
   "metadata": {
    "colab": {
     "base_uri": "https://localhost:8080/"
    },
    "executionInfo": {
     "elapsed": 408,
     "status": "ok",
     "timestamp": 1680623882197,
     "user": {
      "displayName": "Piroska Dömötör",
      "userId": "03696721308245428945"
     },
     "user_tz": -120
    },
    "id": "6VWCnfCFFaKV",
    "outputId": "8ffff72a-0ffc-4256-c050-032f3d7c533d"
   },
   "outputs": [
    {
     "data": {
      "text/plain": [
       "{'körte': 12.5, 'barack': 48}"
      ]
     },
     "execution_count": 68,
     "metadata": {},
     "output_type": "execute_result"
    }
   ],
   "source": [
    "# Kulcs-érték pár törlése.\n",
    "del d[\"alma\"]\n",
    "d"
   ]
  },
  {
   "cell_type": "code",
   "execution_count": 111,
   "metadata": {
    "colab": {
     "base_uri": "https://localhost:8080/"
    },
    "executionInfo": {
     "elapsed": 417,
     "status": "ok",
     "timestamp": 1680623887116,
     "user": {
      "displayName": "Piroska Dömötör",
      "userId": "03696721308245428945"
     },
     "user_tz": -120
    },
    "id": "HxDKwH0uFaKV",
    "outputId": "f75c9d79-1cd7-4281-8afe-a4abd718d461"
   },
   "outputs": [
    {
     "data": {
      "text/plain": [
       "True"
      ]
     },
     "execution_count": 111,
     "metadata": {},
     "output_type": "execute_result"
    }
   ],
   "source": [
    "# Benne van-e egy kulcs a szótárban?\n",
    "2 in d"
   ]
  },
  {
   "cell_type": "code",
   "execution_count": 52,
   "metadata": {
    "colab": {
     "base_uri": "https://localhost:8080/"
    },
    "executionInfo": {
     "elapsed": 414,
     "status": "ok",
     "timestamp": 1680623890183,
     "user": {
      "displayName": "Piroska Dömötör",
      "userId": "03696721308245428945"
     },
     "user_tz": -120
    },
    "id": "XgCjGliMFaKV",
    "outputId": "0aeeab1e-dd80-440c-cda6-ce6d340d1f70"
   },
   "outputs": [
    {
     "data": {
      "text/plain": [
       "dict"
      ]
     },
     "execution_count": 52,
     "metadata": {},
     "output_type": "execute_result"
    }
   ],
   "source": [
    "# Üres szótár létrehozása.\n",
    "d0 = {}\n",
    "type(d0)"
   ]
  },
  {
   "cell_type": "markdown",
   "metadata": {},
   "source": [
    "#### Néhány hasznos eljárás a szótárokkal:\n",
    "- kulcsok lekérdezése: ```.keys()```\n",
    "- értékek lekérdezése ```.values()```\n",
    "- kulcs-érték párok kigyűjtése ```.items()```"
   ]
  },
  {
   "cell_type": "code",
   "execution_count": 37,
   "metadata": {},
   "outputs": [],
   "source": [
    "d = { \"alma\": 120, \"körte\": 12.5, \"barack\": 4}"
   ]
  },
  {
   "cell_type": "code",
   "execution_count": 38,
   "metadata": {},
   "outputs": [
    {
     "data": {
      "text/plain": [
       "dict_keys(['alma', 'körte', 'barack'])"
      ]
     },
     "execution_count": 38,
     "metadata": {},
     "output_type": "execute_result"
    }
   ],
   "source": [
    "# szótár kulcsok lekérdezése\n",
    "d.keys()"
   ]
  },
  {
   "cell_type": "code",
   "execution_count": 39,
   "metadata": {},
   "outputs": [
    {
     "data": {
      "text/plain": [
       "dict_values([120, 12.5, 4])"
      ]
     },
     "execution_count": 39,
     "metadata": {},
     "output_type": "execute_result"
    }
   ],
   "source": [
    "# szótárban tárolt értékek lekérdezése\n",
    "d.values()"
   ]
  },
  {
   "cell_type": "code",
   "execution_count": 41,
   "metadata": {},
   "outputs": [
    {
     "data": {
      "text/plain": [
       "dict_items([('alma', 120), ('körte', 12.5), ('barack', 4)])"
      ]
     },
     "execution_count": 41,
     "metadata": {},
     "output_type": "execute_result"
    }
   ],
   "source": [
    "# kulcs érték párok\n",
    "d.items()"
   ]
  },
  {
   "cell_type": "markdown",
   "metadata": {
    "id": "ZSmatyJwFaKW"
   },
   "source": [
    "## Konverzió\n",
    "\n",
    "Minden eddig tanult adattípushoz tartozik egy függvény, amely az adott adattípusra konvertál bármely más adattípusról, amennyiben a konverziónak van értelme."
   ]
  },
  {
   "cell_type": "code",
   "execution_count": 53,
   "metadata": {
    "colab": {
     "base_uri": "https://localhost:8080/"
    },
    "executionInfo": {
     "elapsed": 583,
     "status": "ok",
     "timestamp": 1680622605444,
     "user": {
      "displayName": "Piroska Dömötör",
      "userId": "03696721308245428945"
     },
     "user_tz": -120
    },
    "id": "h2x5VbygFaKW",
    "outputId": "103cb8d9-147b-41f3-c24e-597234c36e52"
   },
   "outputs": [
    {
     "data": {
      "text/plain": [
       "1"
      ]
     },
     "execution_count": 53,
     "metadata": {},
     "output_type": "execute_result"
    }
   ],
   "source": [
    "int(1.234)    # float => int"
   ]
  },
  {
   "cell_type": "code",
   "execution_count": 57,
   "metadata": {
    "id": "h7hYwuV2FaKY"
   },
   "outputs": [
    {
     "data": {
      "text/plain": [
       "1.0"
      ]
     },
     "execution_count": 57,
     "metadata": {},
     "output_type": "execute_result"
    }
   ],
   "source": [
    "float(1)        # int => float"
   ]
  },
  {
   "cell_type": "code",
   "execution_count": 54,
   "metadata": {
    "colab": {
     "base_uri": "https://localhost:8080/"
    },
    "executionInfo": {
     "elapsed": 8,
     "status": "ok",
     "timestamp": 1680622636374,
     "user": {
      "displayName": "Piroska Dömötör",
      "userId": "03696721308245428945"
     },
     "user_tz": -120
    },
    "id": "eubLYdKcFaKX",
    "outputId": "3384b80d-ab13-4716-9f4c-d247ea988c6a"
   },
   "outputs": [
    {
     "data": {
      "text/plain": [
       "123"
      ]
     },
     "execution_count": 54,
     "metadata": {},
     "output_type": "execute_result"
    }
   ],
   "source": [
    "int('123')    # str => int"
   ]
  },
  {
   "cell_type": "code",
   "execution_count": 58,
   "metadata": {
    "id": "zvOIS6GdFaKY"
   },
   "outputs": [
    {
     "data": {
      "text/plain": [
       "'123'"
      ]
     },
     "execution_count": 58,
     "metadata": {},
     "output_type": "execute_result"
    }
   ],
   "source": [
    "str(123)       # int => str"
   ]
  },
  {
   "cell_type": "code",
   "execution_count": 56,
   "metadata": {
    "id": "MA429hptFaKX"
   },
   "outputs": [
    {
     "data": {
      "text/plain": [
       "1.234"
      ]
     },
     "execution_count": 56,
     "metadata": {},
     "output_type": "execute_result"
    }
   ],
   "source": [
    "float(\"1.234\")    # str => float"
   ]
  },
  {
   "cell_type": "code",
   "execution_count": 59,
   "metadata": {
    "id": "pNVnRCqjFaKY"
   },
   "outputs": [
    {
     "data": {
      "text/plain": [
       "(1, 2, 3)"
      ]
     },
     "execution_count": 59,
     "metadata": {},
     "output_type": "execute_result"
    }
   ],
   "source": [
    "# list => tuple\n",
    "l = [1, 2, 3]\n",
    "tuple(l)"
   ]
  },
  {
   "cell_type": "code",
   "execution_count": 60,
   "metadata": {
    "id": "Ans4ONxYFaKZ"
   },
   "outputs": [
    {
     "data": {
      "text/plain": [
       "[1, 2, 3]"
      ]
     },
     "execution_count": 60,
     "metadata": {},
     "output_type": "execute_result"
    }
   ],
   "source": [
    "# tuple =>  list\n",
    "t = 1, 2, 3\n",
    "list(t)"
   ]
  },
  {
   "cell_type": "code",
   "execution_count": 70,
   "metadata": {
    "id": "zVQsf1T4FaKZ"
   },
   "outputs": [
    {
     "data": {
      "text/plain": [
       "{1, 2, 3}"
      ]
     },
     "execution_count": 70,
     "metadata": {},
     "output_type": "execute_result"
    }
   ],
   "source": [
    " # tuple => set\n",
    "t = 1, 2, 3, 3\n",
    "set(t)\n"
   ]
  },
  {
   "cell_type": "code",
   "execution_count": 62,
   "metadata": {
    "id": "le9_1gB2FaKZ"
   },
   "outputs": [
    {
     "data": {
      "text/plain": [
       "{'alma': 1, 'körte': 2}"
      ]
     },
     "execution_count": 62,
     "metadata": {},
     "output_type": "execute_result"
    }
   ],
   "source": [
    " # párok listája => dict\n",
    "dl = [('alma', 1), ('körte', 2)]\n",
    "dict(dl)"
   ]
  },
  {
   "cell_type": "code",
   "execution_count": 83,
   "metadata": {
    "id": "QhRAxrrAFaKa"
   },
   "outputs": [
    {
     "data": {
      "text/plain": [
       "[('alma', 1), ('körte', 2)]"
      ]
     },
     "execution_count": 83,
     "metadata": {},
     "output_type": "execute_result"
    }
   ],
   "source": [
    " # dict => párok listája\n",
    "\n",
    "d = {'alma': 1, 'körte': 2}\n",
    "list(d.items())"
   ]
  },
  {
   "cell_type": "markdown",
   "metadata": {},
   "source": [
    "## Adat bekérés a billenytűzetről és kiíratás a képernyőre (Standard adatfolyamok)"
   ]
  },
  {
   "cell_type": "markdown",
   "metadata": {},
   "source": [
    "Az operációs rendszer indításkor minden folyamathoz hozzárendel 3 szabványos adatfolyamot: a [standard bemenetet](https://docs.python.org/3/library/sys.html#sys.stdin), a [standard kimenetet](https://docs.python.org/3/library/sys.html#sys.stdout), és a [standard hibakimenetet](https://docs.python.org/3/library/sys.html#sys.stderr). Alapértelmezés szerint a standard bemenet a billentyűzettel, a standard kimenet és hibakimenet pedig a képernyővel van összekötve. Ez a beállítás módosítható, pl. a standard bemenet érkezhet egy fájlból vagy egy másik programból, a standard kimenet és hibakimenet pedig íródhat fájlba vagy továbbítódhat másik programnak."
   ]
  },
  {
   "cell_type": "markdown",
   "metadata": {},
   "source": [
    "### Adat bekérés a billenytűzetről (Standard bemenet)\n",
    "\n",
    "- A standard bemenetről adatokat bekérni az ```input()``` függvény segítségével lehet.\n",
    "- Az eredmény sztring típusú. Ha más adattípusra van szükség, akkor a konvertálni kell.\n",
    "- [input függvény a dokumentációban](https://docs.python.org/3/library/functions.html#input)"
   ]
  },
  {
   "cell_type": "code",
   "execution_count": 72,
   "metadata": {},
   "outputs": [],
   "source": [
    "# Sztring típusú adat beolvasása.\n",
    "text = input(\"Írjon be egy szöveget: \")"
   ]
  },
  {
   "cell_type": "code",
   "execution_count": 73,
   "metadata": {},
   "outputs": [
    {
     "name": "stdout",
     "output_type": "stream",
     "text": [
      "Ez egy szöveg\n"
     ]
    }
   ],
   "source": [
    "print(text)"
   ]
  },
  {
   "cell_type": "code",
   "execution_count": 74,
   "metadata": {},
   "outputs": [
    {
     "name": "stdout",
     "output_type": "stream",
     "text": [
      "A megedott egész 12\n"
     ]
    }
   ],
   "source": [
    "# Egész típusú adat beolvasása.\n",
    "n = int(input(\"Adjon meg egy egész számot: \"))\n",
    "print (\"A megedott egész\", n)"
   ]
  },
  {
   "cell_type": "markdown",
   "metadata": {},
   "source": [
    "### Kiíratás a képernyőre (Standard kimenet)\n",
    "\n",
    "- A standard kimenetre kiírni a ```print()``` függvény segítségével lehet.\n",
    "- [print függvény a dokumentációban](https://docs.python.org/3/library/functions.html#print)"
   ]
  },
  {
   "cell_type": "code",
   "execution_count": 1,
   "metadata": {},
   "outputs": [
    {
     "name": "stdout",
     "output_type": "stream",
     "text": [
      "200\n",
      "\n",
      "200\n"
     ]
    }
   ],
   "source": [
    "# Kiírás a standard kimenetre.\n",
    "n = 200\n",
    "print(n)\n",
    "print()    # extra soremelés\n",
    "print(n)"
   ]
  },
  {
   "cell_type": "code",
   "execution_count": 2,
   "metadata": {},
   "outputs": [
    {
     "name": "stdout",
     "output_type": "stream",
     "text": [
      "200\t200\n"
     ]
    }
   ],
   "source": [
    "# Kiírás soremelés nélkül.\n",
    "print(n, end = \"\\t\")\n",
    "print(n)"
   ]
  },
  {
   "cell_type": "code",
   "execution_count": 3,
   "metadata": {},
   "outputs": [
    {
     "name": "stdout",
     "output_type": "stream",
     "text": [
      "\n"
     ]
    }
   ],
   "source": [
    "# Egyetlen soremelés kiírása.\n",
    "print()"
   ]
  },
  {
   "cell_type": "markdown",
   "metadata": {},
   "source": [
    "### [Formázott kiírás](https://docs.python.org/3/tutorial/inputoutput.html#fancier-output-formatting)"
   ]
  },
  {
   "cell_type": "code",
   "execution_count": 7,
   "metadata": {},
   "outputs": [
    {
     "name": "stdout",
     "output_type": "stream",
     "text": [
      "A megedott x1 egész 2\n",
      "A megedott x2 valós: 1.4142135623730951\n",
      "A megedott x2 valós: 1.4142135623730951\n",
      "A megedott x2 valós: 1.414214\n"
     ]
    }
   ],
   "source": [
    "x1 = 2\n",
    "x2 = 2**0.5\n",
    "\n",
    "# eddigi megoldásunk: \n",
    "print (\"A megedott x1 egész\", x1)\n",
    "print (\"A megedott x2 valós:\", x2)\n",
    "\n",
    "# Formázott kiírás f-sztringgel.\n",
    "print (f\"A megedott x2 valós: {x2}\")  \n",
    "\n",
    "# Formázott kiírás helyettesítő karakterrel.\n",
    "print (\"A megedott x2 valós: %f\"%(x2) ) "
   ]
  },
  {
   "cell_type": "code",
   "execution_count": null,
   "metadata": {},
   "outputs": [
    {
     "name": "stdout",
     "output_type": "stream",
     "text": [
      "A megedott x2 szám: 1.4\n",
      "A megedott x2 szám: 1.41421\n"
     ]
    }
   ],
   "source": [
    "# Kiírás 1 tizedesjegy pontossággal.\n",
    "print (f\"A megedott x2 szám: {x2:0.1f}\")\n",
    "\n",
    "# Vagy 5 tizedesjegy pontossággal.\n",
    "print (f\"A megedott x2 szám: {x2 : 0.5f}\")"
   ]
  },
  {
   "cell_type": "code",
   "execution_count": null,
   "metadata": {},
   "outputs": [
    {
     "name": "stdout",
     "output_type": "stream",
     "text": [
      "A megdott egész:  10\n",
      "A megdott egész: 100\n",
      "A megdott egész:1000\n"
     ]
    }
   ],
   "source": [
    "# szép kiíratás egészre: 4 karakternyi helyre\n",
    "n = 10\n",
    "print(f\"A megdott egész:{n:4}\")\n",
    "print(f\"A megdott egész:{n*10:4}\")\n",
    "print(f\"A megdott egész:{n*100:4}\")"
   ]
  },
  {
   "cell_type": "code",
   "execution_count": null,
   "metadata": {},
   "outputs": [
    {
     "name": "stdout",
     "output_type": "stream",
     "text": [
      "ez az egész: 3, ez meg a sztring: körte\n"
     ]
    }
   ],
   "source": [
    "# Egész szám ill. sztring kiírása.\n",
    "n=3\n",
    "s=\"körte\"\n",
    "print(f\"ez az egész: {n}, ez meg a sztring: {s}\")"
   ]
  }
 ],
 "metadata": {
  "colab": {
   "provenance": [
    {
     "file_id": "1ZSdFVFIo65hIdI2QD9doMjgUdTKooPFY",
     "timestamp": 1680613402361
    }
   ]
  },
  "kernelspec": {
   "display_name": "Python 3 (ipykernel)",
   "language": "python",
   "name": "python3"
  },
  "language_info": {
   "codemirror_mode": {
    "name": "ipython",
    "version": 3
   },
   "file_extension": ".py",
   "mimetype": "text/x-python",
   "name": "python",
   "nbconvert_exporter": "python",
   "pygments_lexer": "ipython3",
   "version": "3.9.15"
  }
 },
 "nbformat": 4,
 "nbformat_minor": 4
}
