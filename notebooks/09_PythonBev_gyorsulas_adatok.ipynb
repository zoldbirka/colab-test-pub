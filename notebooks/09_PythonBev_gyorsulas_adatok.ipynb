{
 "cells": [
  {
   "cell_type": "markdown",
   "metadata": {
    "id": "EyMT5eZ1zIwO"
   },
   "source": [
    "# 9. alkalom: Gyorsulás adatok feldolgozása"
   ]
  },
  {
   "cell_type": "markdown",
   "metadata": {
    "id": "eJjT7FtCzIwS"
   },
   "source": [
    "Ez a notebook egy lift mozgása során a telefon gyorsulásmérőjével gyűjtött adatok \n",
    "- beolvasását, \n",
    "- ábrázolásást, \n",
    "- majd a pillanatnyi sebesség és helyzet kiszámítását tartalmazza"
   ]
  },
  {
   "cell_type": "markdown",
   "metadata": {
    "id": "_wI338aHzIwS"
   },
   "source": [
    "### Hogyan mozog, hely, sebesség és gyorsulás kapcsolata egyenes mentén"
   ]
  },
  {
   "cell_type": "markdown",
   "metadata": {
    "id": "ECNLiruLzIwT"
   },
   "source": [
    "**Hely adatok:** \n",
    " - Minden időpontban tudom a helykoordinátát: $x(t)$ függvény\n",
    " - Sok időpontban tudom a helykoordinátát (MÉRÉS): $x_i = x(t_i)$ adatok"
   ]
  },
  {
   "cell_type": "markdown",
   "metadata": {
    "id": "Qu3wqdPAzIwT"
   },
   "source": [
    "**Hely adatokból sebesség:** \n",
    " - Pillanatnyi sebesség $v(t)=\\dfrac{\\Delta x}{\\Delta t}=\\dfrac{x(t)-x(t-\\Delta t)}{\\Delta t}$, ahol $\\Delta t$ nagyon rövid.\n",
    " - Adatokkal $v_i=\\dfrac{x_i-x_{i-1}}{\\Delta t}$, ahol $\\Delta t$ kellően rövid"
   ]
  },
  {
   "cell_type": "markdown",
   "metadata": {
    "id": "5gvq1w_ozIwU"
   },
   "source": [
    "**Sebesség adatokból gyorsulás:** \n",
    " - Pillanatnyi gyorsulás $a(t)=\\dfrac{\\Delta v}{\\Delta t}=\\dfrac{v(t)-v(t-\\Delta t)}{\\Delta t}$, ahol $\\Delta t$ nagyon rövid.\n",
    " - Adatokkal $a_i=\\dfrac{v_i-v_{i-1}}{\\Delta t}$, ahol $\\Delta t$ kellően rövid"
   ]
  },
  {
   "cell_type": "markdown",
   "metadata": {
    "id": "kI-V-RtTzIwU"
   },
   "source": [
    "**Gyorsulás adatokból sebesség:** Az előző összefüggést átrendezve \n",
    " - Adatokkal $v_i= v_{i-1}+a_i\\cdot \\Delta t=v_{i-1}+a_i\\cdot (t_i-t_{i-1})$\n",
    "\n",
    "**Sebesség adatokból hely adat:**  teljesen hasonló számítással\n",
    " - Adatokkal $x_i= x_{i-1}+v_i\\cdot \\Delta t=x_{i-1}+v_i\\cdot (t_i-t_{i-1})$"
   ]
  },
  {
   "cell_type": "markdown",
   "metadata": {
    "id": "aFW8CMaUzIwU"
   },
   "source": [
    "### A szükséges csomagok importálása"
   ]
  },
  {
   "cell_type": "code",
   "execution_count": 56,
   "metadata": {
    "executionInfo": {
     "elapsed": 830,
     "status": "ok",
     "timestamp": 1685456171851,
     "user": {
      "displayName": "Piroska Dömötör",
      "userId": "03696721308245428945"
     },
     "user_tz": -120
    },
    "id": "UqD01fm9zIwV",
    "metadata": {}
   },
   "outputs": [],
   "source": [
    "import pandas as pd        # Pandas csomag - adatkezelés \n",
    "import numpy as np         # Numpy  csomag - numerikus számítások\n",
    "import matplotlib.pyplot as plt    # MatPlotLib - ábrázolás\n",
    "%matplotlib inline    "
   ]
  },
  {
   "cell_type": "markdown",
   "metadata": {
    "id": "mer6BdaqzIwW"
   },
   "source": [
    "### Fájl beolvasása \n",
    "Előtte győződjünk meg róla, hogy az aktuálisan használt könyvtárunkba már bemásoltuk a fájlt\n",
    " - A fájl letölthető innen: [Lift_gyorsulas_adatok_nyers.xlsx](https://raw.githubusercontent.com/zoldbirka/colab-test-pub/master/_files/Lift_gyorsulas_adatok_nyers.xlsx)\n",
    "\n",
    "- pandas csomag ```read_excel()``` eljárása "
   ]
  },
  {
   "cell_type": "code",
   "execution_count": null,
   "metadata": {},
   "outputs": [],
   "source": [
    "## Innen le is tölthetünk egyet (Colabban / Linuxos gépen működik)\n",
    "!wget https://raw.githubusercontent.com/zoldbirka/colab-test-pub/master/_files/Lift_gyorsulas_adatok_nyers.xlsx"
   ]
  },
  {
   "cell_type": "code",
   "execution_count": 57,
   "metadata": {
    "executionInfo": {
     "elapsed": 723,
     "status": "ok",
     "timestamp": 1685456243739,
     "user": {
      "displayName": "Piroska Dömötör",
      "userId": "03696721308245428945"
     },
     "user_tz": -120
    },
    "id": "wcBLetg1zIwX"
   },
   "outputs": [],
   "source": [
    "input_file=\"Lift_gyorsulas_adatok_nyers.xlsx\" \n",
    "\n",
    "adata = pd.read_excel(input_file)"
   ]
  },
  {
   "cell_type": "code",
   "execution_count": 58,
   "metadata": {
    "colab": {
     "base_uri": "https://localhost:8080/",
     "height": 423
    },
    "executionInfo": {
     "elapsed": 326,
     "status": "ok",
     "timestamp": 1685456255555,
     "user": {
      "displayName": "Piroska Dömötör",
      "userId": "03696721308245428945"
     },
     "user_tz": -120
    },
    "id": "KGEE12HEBVqn",
    "outputId": "d5d9e996-fa2e-4980-d91b-9e64fddab127"
   },
   "outputs": [
    {
     "data": {
      "text/html": [
       "<div>\n",
       "<style scoped>\n",
       "    .dataframe tbody tr th:only-of-type {\n",
       "        vertical-align: middle;\n",
       "    }\n",
       "\n",
       "    .dataframe tbody tr th {\n",
       "        vertical-align: top;\n",
       "    }\n",
       "\n",
       "    .dataframe thead th {\n",
       "        text-align: right;\n",
       "    }\n",
       "</style>\n",
       "<table border=\"1\" class=\"dataframe\">\n",
       "  <thead>\n",
       "    <tr style=\"text-align: right;\">\n",
       "      <th></th>\n",
       "      <th>Time (s)</th>\n",
       "      <th>Acceleration x (m/s^2)</th>\n",
       "      <th>Acceleration y (m/s^2)</th>\n",
       "      <th>Acceleration z (m/s^2)</th>\n",
       "      <th>Absolute acceleration (m/s^2)</th>\n",
       "    </tr>\n",
       "  </thead>\n",
       "  <tbody>\n",
       "    <tr>\n",
       "      <th>0</th>\n",
       "      <td>0.015842</td>\n",
       "      <td>0.099</td>\n",
       "      <td>-0.024</td>\n",
       "      <td>9.797</td>\n",
       "      <td>9.797530</td>\n",
       "    </tr>\n",
       "    <tr>\n",
       "      <th>1</th>\n",
       "      <td>0.020933</td>\n",
       "      <td>-0.015</td>\n",
       "      <td>0.052</td>\n",
       "      <td>9.969</td>\n",
       "      <td>9.969147</td>\n",
       "    </tr>\n",
       "    <tr>\n",
       "      <th>2</th>\n",
       "      <td>0.026023</td>\n",
       "      <td>0.118</td>\n",
       "      <td>0.052</td>\n",
       "      <td>9.912</td>\n",
       "      <td>9.912838</td>\n",
       "    </tr>\n",
       "    <tr>\n",
       "      <th>3</th>\n",
       "      <td>0.031113</td>\n",
       "      <td>0.060</td>\n",
       "      <td>0.032</td>\n",
       "      <td>9.988</td>\n",
       "      <td>9.988231</td>\n",
       "    </tr>\n",
       "    <tr>\n",
       "      <th>4</th>\n",
       "      <td>0.036203</td>\n",
       "      <td>0.099</td>\n",
       "      <td>0.109</td>\n",
       "      <td>9.912</td>\n",
       "      <td>9.913093</td>\n",
       "    </tr>\n",
       "    <tr>\n",
       "      <th>...</th>\n",
       "      <td>...</td>\n",
       "      <td>...</td>\n",
       "      <td>...</td>\n",
       "      <td>...</td>\n",
       "      <td>...</td>\n",
       "    </tr>\n",
       "    <tr>\n",
       "      <th>3298</th>\n",
       "      <td>16.800199</td>\n",
       "      <td>0.079</td>\n",
       "      <td>0.090</td>\n",
       "      <td>10.084</td>\n",
       "      <td>10.084711</td>\n",
       "    </tr>\n",
       "    <tr>\n",
       "      <th>3299</th>\n",
       "      <td>16.805289</td>\n",
       "      <td>0.079</td>\n",
       "      <td>0.052</td>\n",
       "      <td>9.816</td>\n",
       "      <td>9.816456</td>\n",
       "    </tr>\n",
       "    <tr>\n",
       "      <th>3300</th>\n",
       "      <td>16.810379</td>\n",
       "      <td>0.022</td>\n",
       "      <td>0.071</td>\n",
       "      <td>9.816</td>\n",
       "      <td>9.816281</td>\n",
       "    </tr>\n",
       "    <tr>\n",
       "      <th>3301</th>\n",
       "      <td>16.815469</td>\n",
       "      <td>0.099</td>\n",
       "      <td>0.013</td>\n",
       "      <td>9.893</td>\n",
       "      <td>9.893504</td>\n",
       "    </tr>\n",
       "    <tr>\n",
       "      <th>3302</th>\n",
       "      <td>16.820558</td>\n",
       "      <td>0.079</td>\n",
       "      <td>0.032</td>\n",
       "      <td>10.008</td>\n",
       "      <td>10.008363</td>\n",
       "    </tr>\n",
       "  </tbody>\n",
       "</table>\n",
       "<p>3303 rows × 5 columns</p>\n",
       "</div>"
      ],
      "text/plain": [
       "       Time (s)  Acceleration x (m/s^2)  Acceleration y (m/s^2)  \\\n",
       "0      0.015842                   0.099                  -0.024   \n",
       "1      0.020933                  -0.015                   0.052   \n",
       "2      0.026023                   0.118                   0.052   \n",
       "3      0.031113                   0.060                   0.032   \n",
       "4      0.036203                   0.099                   0.109   \n",
       "...         ...                     ...                     ...   \n",
       "3298  16.800199                   0.079                   0.090   \n",
       "3299  16.805289                   0.079                   0.052   \n",
       "3300  16.810379                   0.022                   0.071   \n",
       "3301  16.815469                   0.099                   0.013   \n",
       "3302  16.820558                   0.079                   0.032   \n",
       "\n",
       "      Acceleration z (m/s^2)  Absolute acceleration (m/s^2)  \n",
       "0                      9.797                       9.797530  \n",
       "1                      9.969                       9.969147  \n",
       "2                      9.912                       9.912838  \n",
       "3                      9.988                       9.988231  \n",
       "4                      9.912                       9.913093  \n",
       "...                      ...                            ...  \n",
       "3298                  10.084                      10.084711  \n",
       "3299                   9.816                       9.816456  \n",
       "3300                   9.816                       9.816281  \n",
       "3301                   9.893                       9.893504  \n",
       "3302                  10.008                      10.008363  \n",
       "\n",
       "[3303 rows x 5 columns]"
      ]
     },
     "execution_count": 58,
     "metadata": {},
     "output_type": "execute_result"
    }
   ],
   "source": [
    "adata"
   ]
  },
  {
   "cell_type": "markdown",
   "metadata": {
    "id": "XcucSKYlzIwX"
   },
   "source": [
    "#### A beolvasott adatok DataFrame-je\n",
    "- ```.head()``` és ```.tail()``` segít az adatok egy részét megjeleníteni\n",
    "- síma ```[ : ]``` is működik most, de jobb az ```.iloc[ : ]```"
   ]
  },
  {
   "cell_type": "code",
   "execution_count": 59,
   "metadata": {
    "colab": {
     "base_uri": "https://localhost:8080/",
     "height": 363
    },
    "executionInfo": {
     "elapsed": 338,
     "status": "ok",
     "timestamp": 1685456481001,
     "user": {
      "displayName": "Piroska Dömötör",
      "userId": "03696721308245428945"
     },
     "user_tz": -120
    },
    "id": "85pPcPyJzIwX",
    "outputId": "c7f284bb-2b73-4c3c-ccda-9fefeef8d233"
   },
   "outputs": [
    {
     "data": {
      "text/html": [
       "<div>\n",
       "<style scoped>\n",
       "    .dataframe tbody tr th:only-of-type {\n",
       "        vertical-align: middle;\n",
       "    }\n",
       "\n",
       "    .dataframe tbody tr th {\n",
       "        vertical-align: top;\n",
       "    }\n",
       "\n",
       "    .dataframe thead th {\n",
       "        text-align: right;\n",
       "    }\n",
       "</style>\n",
       "<table border=\"1\" class=\"dataframe\">\n",
       "  <thead>\n",
       "    <tr style=\"text-align: right;\">\n",
       "      <th></th>\n",
       "      <th>Time (s)</th>\n",
       "      <th>Acceleration x (m/s^2)</th>\n",
       "      <th>Acceleration y (m/s^2)</th>\n",
       "      <th>Acceleration z (m/s^2)</th>\n",
       "      <th>Absolute acceleration (m/s^2)</th>\n",
       "    </tr>\n",
       "  </thead>\n",
       "  <tbody>\n",
       "    <tr>\n",
       "      <th>0</th>\n",
       "      <td>0.015842</td>\n",
       "      <td>0.099</td>\n",
       "      <td>-0.024</td>\n",
       "      <td>9.797</td>\n",
       "      <td>9.797530</td>\n",
       "    </tr>\n",
       "    <tr>\n",
       "      <th>1</th>\n",
       "      <td>0.020933</td>\n",
       "      <td>-0.015</td>\n",
       "      <td>0.052</td>\n",
       "      <td>9.969</td>\n",
       "      <td>9.969147</td>\n",
       "    </tr>\n",
       "    <tr>\n",
       "      <th>2</th>\n",
       "      <td>0.026023</td>\n",
       "      <td>0.118</td>\n",
       "      <td>0.052</td>\n",
       "      <td>9.912</td>\n",
       "      <td>9.912838</td>\n",
       "    </tr>\n",
       "    <tr>\n",
       "      <th>3</th>\n",
       "      <td>0.031113</td>\n",
       "      <td>0.060</td>\n",
       "      <td>0.032</td>\n",
       "      <td>9.988</td>\n",
       "      <td>9.988231</td>\n",
       "    </tr>\n",
       "    <tr>\n",
       "      <th>4</th>\n",
       "      <td>0.036203</td>\n",
       "      <td>0.099</td>\n",
       "      <td>0.109</td>\n",
       "      <td>9.912</td>\n",
       "      <td>9.913093</td>\n",
       "    </tr>\n",
       "    <tr>\n",
       "      <th>5</th>\n",
       "      <td>0.041294</td>\n",
       "      <td>0.003</td>\n",
       "      <td>0.071</td>\n",
       "      <td>9.893</td>\n",
       "      <td>9.893255</td>\n",
       "    </tr>\n",
       "    <tr>\n",
       "      <th>6</th>\n",
       "      <td>0.046384</td>\n",
       "      <td>0.099</td>\n",
       "      <td>0.128</td>\n",
       "      <td>9.873</td>\n",
       "      <td>9.874326</td>\n",
       "    </tr>\n",
       "    <tr>\n",
       "      <th>7</th>\n",
       "      <td>0.051475</td>\n",
       "      <td>0.118</td>\n",
       "      <td>0.128</td>\n",
       "      <td>10.008</td>\n",
       "      <td>10.009514</td>\n",
       "    </tr>\n",
       "    <tr>\n",
       "      <th>8</th>\n",
       "      <td>0.056565</td>\n",
       "      <td>0.099</td>\n",
       "      <td>-0.024</td>\n",
       "      <td>9.835</td>\n",
       "      <td>9.835528</td>\n",
       "    </tr>\n",
       "    <tr>\n",
       "      <th>9</th>\n",
       "      <td>0.061654</td>\n",
       "      <td>0.003</td>\n",
       "      <td>0.109</td>\n",
       "      <td>9.873</td>\n",
       "      <td>9.873602</td>\n",
       "    </tr>\n",
       "  </tbody>\n",
       "</table>\n",
       "</div>"
      ],
      "text/plain": [
       "   Time (s)  Acceleration x (m/s^2)  Acceleration y (m/s^2)  \\\n",
       "0  0.015842                   0.099                  -0.024   \n",
       "1  0.020933                  -0.015                   0.052   \n",
       "2  0.026023                   0.118                   0.052   \n",
       "3  0.031113                   0.060                   0.032   \n",
       "4  0.036203                   0.099                   0.109   \n",
       "5  0.041294                   0.003                   0.071   \n",
       "6  0.046384                   0.099                   0.128   \n",
       "7  0.051475                   0.118                   0.128   \n",
       "8  0.056565                   0.099                  -0.024   \n",
       "9  0.061654                   0.003                   0.109   \n",
       "\n",
       "   Acceleration z (m/s^2)  Absolute acceleration (m/s^2)  \n",
       "0                   9.797                       9.797530  \n",
       "1                   9.969                       9.969147  \n",
       "2                   9.912                       9.912838  \n",
       "3                   9.988                       9.988231  \n",
       "4                   9.912                       9.913093  \n",
       "5                   9.893                       9.893255  \n",
       "6                   9.873                       9.874326  \n",
       "7                  10.008                      10.009514  \n",
       "8                   9.835                       9.835528  \n",
       "9                   9.873                       9.873602  "
      ]
     },
     "execution_count": 59,
     "metadata": {},
     "output_type": "execute_result"
    }
   ],
   "source": [
    "adata.iloc[0:10]"
   ]
  },
  {
   "cell_type": "markdown",
   "metadata": {
    "id": "r6J6w0b4zIwY"
   },
   "source": [
    "#### A beolvasott adatok néhány jellemzője:\n",
    "- ```.shape``` --  méretek\n",
    "- ```.columns``` -- oszlop nevek\n",
    "- ```.dtypes``` -- oszlopok adatípusai\n",
    "- ```.describe()```  -- statisztikai jellemzők"
   ]
  },
  {
   "cell_type": "code",
   "execution_count": 60,
   "metadata": {
    "colab": {
     "base_uri": "https://localhost:8080/"
    },
    "executionInfo": {
     "elapsed": 312,
     "status": "ok",
     "timestamp": 1685456959342,
     "user": {
      "displayName": "Piroska Dömötör",
      "userId": "03696721308245428945"
     },
     "user_tz": -120
    },
    "id": "jQ0G9k2vzIwY",
    "outputId": "97d8e023-adf7-4164-e1c0-c1e78af1472c"
   },
   "outputs": [
    {
     "data": {
      "text/plain": [
       "(3303, (3303, 5))"
      ]
     },
     "execution_count": 60,
     "metadata": {},
     "output_type": "execute_result"
    }
   ],
   "source": [
    "# méretek\n",
    "len(adata), adata.shape"
   ]
  },
  {
   "cell_type": "code",
   "execution_count": 61,
   "metadata": {
    "id": "dxoug1mNzIwY"
   },
   "outputs": [
    {
     "data": {
      "text/html": [
       "<div>\n",
       "<style scoped>\n",
       "    .dataframe tbody tr th:only-of-type {\n",
       "        vertical-align: middle;\n",
       "    }\n",
       "\n",
       "    .dataframe tbody tr th {\n",
       "        vertical-align: top;\n",
       "    }\n",
       "\n",
       "    .dataframe thead th {\n",
       "        text-align: right;\n",
       "    }\n",
       "</style>\n",
       "<table border=\"1\" class=\"dataframe\">\n",
       "  <thead>\n",
       "    <tr style=\"text-align: right;\">\n",
       "      <th></th>\n",
       "      <th>Time (s)</th>\n",
       "      <th>Acceleration x (m/s^2)</th>\n",
       "      <th>Acceleration y (m/s^2)</th>\n",
       "      <th>Acceleration z (m/s^2)</th>\n",
       "      <th>Absolute acceleration (m/s^2)</th>\n",
       "    </tr>\n",
       "  </thead>\n",
       "  <tbody>\n",
       "    <tr>\n",
       "      <th>count</th>\n",
       "      <td>3303.000000</td>\n",
       "      <td>3303.000000</td>\n",
       "      <td>3303.000000</td>\n",
       "      <td>3303.000000</td>\n",
       "      <td>3303.000000</td>\n",
       "    </tr>\n",
       "    <tr>\n",
       "      <th>mean</th>\n",
       "      <td>8.418001</td>\n",
       "      <td>0.076068</td>\n",
       "      <td>0.078240</td>\n",
       "      <td>9.896643</td>\n",
       "      <td>9.897527</td>\n",
       "    </tr>\n",
       "    <tr>\n",
       "      <th>std</th>\n",
       "      <td>4.853175</td>\n",
       "      <td>0.047409</td>\n",
       "      <td>0.057631</td>\n",
       "      <td>0.251682</td>\n",
       "      <td>0.251619</td>\n",
       "    </tr>\n",
       "    <tr>\n",
       "      <th>min</th>\n",
       "      <td>0.015842</td>\n",
       "      <td>-0.150000</td>\n",
       "      <td>-0.196000</td>\n",
       "      <td>7.843000</td>\n",
       "      <td>7.848925</td>\n",
       "    </tr>\n",
       "    <tr>\n",
       "      <th>25%</th>\n",
       "      <td>4.217066</td>\n",
       "      <td>0.041000</td>\n",
       "      <td>0.032000</td>\n",
       "      <td>9.835000</td>\n",
       "      <td>9.835584</td>\n",
       "    </tr>\n",
       "    <tr>\n",
       "      <th>50%</th>\n",
       "      <td>8.417952</td>\n",
       "      <td>0.079000</td>\n",
       "      <td>0.071000</td>\n",
       "      <td>9.893000</td>\n",
       "      <td>9.894010</td>\n",
       "    </tr>\n",
       "    <tr>\n",
       "      <th>75%</th>\n",
       "      <td>12.618917</td>\n",
       "      <td>0.099000</td>\n",
       "      <td>0.109000</td>\n",
       "      <td>9.969000</td>\n",
       "      <td>9.969316</td>\n",
       "    </tr>\n",
       "    <tr>\n",
       "      <th>max</th>\n",
       "      <td>16.820558</td>\n",
       "      <td>0.252000</td>\n",
       "      <td>0.473000</td>\n",
       "      <td>10.601000</td>\n",
       "      <td>10.601933</td>\n",
       "    </tr>\n",
       "  </tbody>\n",
       "</table>\n",
       "</div>"
      ],
      "text/plain": [
       "          Time (s)  Acceleration x (m/s^2)  Acceleration y (m/s^2)  \\\n",
       "count  3303.000000             3303.000000             3303.000000   \n",
       "mean      8.418001                0.076068                0.078240   \n",
       "std       4.853175                0.047409                0.057631   \n",
       "min       0.015842               -0.150000               -0.196000   \n",
       "25%       4.217066                0.041000                0.032000   \n",
       "50%       8.417952                0.079000                0.071000   \n",
       "75%      12.618917                0.099000                0.109000   \n",
       "max      16.820558                0.252000                0.473000   \n",
       "\n",
       "       Acceleration z (m/s^2)  Absolute acceleration (m/s^2)  \n",
       "count             3303.000000                    3303.000000  \n",
       "mean                 9.896643                       9.897527  \n",
       "std                  0.251682                       0.251619  \n",
       "min                  7.843000                       7.848925  \n",
       "25%                  9.835000                       9.835584  \n",
       "50%                  9.893000                       9.894010  \n",
       "75%                  9.969000                       9.969316  \n",
       "max                 10.601000                      10.601933  "
      ]
     },
     "execution_count": 61,
     "metadata": {},
     "output_type": "execute_result"
    }
   ],
   "source": [
    "# összefoglaló\n",
    "adata.describe()"
   ]
  },
  {
   "cell_type": "code",
   "execution_count": 62,
   "metadata": {
    "colab": {
     "base_uri": "https://localhost:8080/"
    },
    "executionInfo": {
     "elapsed": 327,
     "status": "ok",
     "timestamp": 1685456923296,
     "user": {
      "displayName": "Piroska Dömötör",
      "userId": "03696721308245428945"
     },
     "user_tz": -120
    },
    "id": "flHsVIwVzIwY",
    "outputId": "834db5a6-a078-490f-94ba-d1383d6b8b31"
   },
   "outputs": [
    {
     "data": {
      "text/plain": [
       "Index(['Time (s)', 'Acceleration x (m/s^2)', 'Acceleration y (m/s^2)',\n",
       "       'Acceleration z (m/s^2)', 'Absolute acceleration (m/s^2)'],\n",
       "      dtype='object')"
      ]
     },
     "execution_count": 62,
     "metadata": {},
     "output_type": "execute_result"
    }
   ],
   "source": [
    "# oszlopnevek\n",
    "adata.columns"
   ]
  },
  {
   "cell_type": "code",
   "execution_count": 63,
   "metadata": {
    "colab": {
     "base_uri": "https://localhost:8080/"
    },
    "executionInfo": {
     "elapsed": 298,
     "status": "ok",
     "timestamp": 1685456854702,
     "user": {
      "displayName": "Piroska Dömötör",
      "userId": "03696721308245428945"
     },
     "user_tz": -120
    },
    "id": "RnYEo9gMzIwZ",
    "outputId": "908090b7-69e3-44de-939c-f9129dc823cc"
   },
   "outputs": [
    {
     "data": {
      "text/plain": [
       "Time (s)                         float64\n",
       "Acceleration x (m/s^2)           float64\n",
       "Acceleration y (m/s^2)           float64\n",
       "Acceleration z (m/s^2)           float64\n",
       "Absolute acceleration (m/s^2)    float64\n",
       "dtype: object"
      ]
     },
     "execution_count": 63,
     "metadata": {},
     "output_type": "execute_result"
    }
   ],
   "source": [
    "  # adatípusok  \n",
    "adata.dtypes   "
   ]
  },
  {
   "cell_type": "markdown",
   "metadata": {
    "id": "D1gYqUiCzIwZ"
   },
   "source": [
    "#### Nevezzük át az oszlopkat használhatóbb (rövidebb, nem szóközös) nevekre\n",
    "szótárral érdemes magadni a kapcsolatot az új és a régi oszlop nevek közt\n",
    " - ```.rename(columns = ...)```\n",
    " - ```inplace = True``` kulcs paraméter igazra állítva ezzel át is írja az adatokat"
   ]
  },
  {
   "cell_type": "code",
   "execution_count": 64,
   "metadata": {
    "executionInfo": {
     "elapsed": 271,
     "status": "ok",
     "timestamp": 1685457072756,
     "user": {
      "displayName": "Piroska Dömötör",
      "userId": "03696721308245428945"
     },
     "user_tz": -120
    },
    "id": "7mYdAuq4zIwZ"
   },
   "outputs": [],
   "source": [
    "# új oszlopnevek listája\n",
    "uj_oszlop = [\"t\", \"ax\", \"ay\", \"az\", \"aabs\"]"
   ]
  },
  {
   "cell_type": "code",
   "execution_count": 65,
   "metadata": {
    "colab": {
     "base_uri": "https://localhost:8080/"
    },
    "executionInfo": {
     "elapsed": 321,
     "status": "ok",
     "timestamp": 1685457346934,
     "user": {
      "displayName": "Piroska Dömötör",
      "userId": "03696721308245428945"
     },
     "user_tz": -120
    },
    "id": "t2sY6U9bzIwa",
    "outputId": "defb2038-fc2e-42c0-ba43-7d71fcc9c406"
   },
   "outputs": [
    {
     "data": {
      "text/plain": [
       "{'Time (s)': 't',\n",
       " 'Acceleration x (m/s^2)': 'ax',\n",
       " 'Acceleration y (m/s^2)': 'ay',\n",
       " 'Acceleration z (m/s^2)': 'az',\n",
       " 'Absolute acceleration (m/s^2)': 'aabs'}"
      ]
     },
     "execution_count": 65,
     "metadata": {},
     "output_type": "execute_result"
    }
   ],
   "source": [
    "# érdemes a zippelést használni a szótár előállításáshoz:\n",
    "atnevez = dict(zip(adata.columns, uj_oszlop))\n",
    "atnevez"
   ]
  },
  {
   "cell_type": "code",
   "execution_count": 66,
   "metadata": {
    "executionInfo": {
     "elapsed": 308,
     "status": "ok",
     "timestamp": 1685457409573,
     "user": {
      "displayName": "Piroska Dömötör",
      "userId": "03696721308245428945"
     },
     "user_tz": -120
    },
    "id": "nVIUIJNIzIwa"
   },
   "outputs": [],
   "source": [
    "# átnevezés\n",
    "adata.rename(columns = atnevez, inplace = True)"
   ]
  },
  {
   "cell_type": "code",
   "execution_count": 67,
   "metadata": {
    "colab": {
     "base_uri": "https://localhost:8080/",
     "height": 423
    },
    "executionInfo": {
     "elapsed": 422,
     "status": "ok",
     "timestamp": 1685457415646,
     "user": {
      "displayName": "Piroska Dömötör",
      "userId": "03696721308245428945"
     },
     "user_tz": -120
    },
    "id": "qfm60HsEFqah",
    "outputId": "0b7ac47f-2fba-4918-8a99-0feaac473c53"
   },
   "outputs": [
    {
     "data": {
      "text/html": [
       "<div>\n",
       "<style scoped>\n",
       "    .dataframe tbody tr th:only-of-type {\n",
       "        vertical-align: middle;\n",
       "    }\n",
       "\n",
       "    .dataframe tbody tr th {\n",
       "        vertical-align: top;\n",
       "    }\n",
       "\n",
       "    .dataframe thead th {\n",
       "        text-align: right;\n",
       "    }\n",
       "</style>\n",
       "<table border=\"1\" class=\"dataframe\">\n",
       "  <thead>\n",
       "    <tr style=\"text-align: right;\">\n",
       "      <th></th>\n",
       "      <th>t</th>\n",
       "      <th>ax</th>\n",
       "      <th>ay</th>\n",
       "      <th>az</th>\n",
       "      <th>aabs</th>\n",
       "    </tr>\n",
       "  </thead>\n",
       "  <tbody>\n",
       "    <tr>\n",
       "      <th>0</th>\n",
       "      <td>0.015842</td>\n",
       "      <td>0.099</td>\n",
       "      <td>-0.024</td>\n",
       "      <td>9.797</td>\n",
       "      <td>9.797530</td>\n",
       "    </tr>\n",
       "    <tr>\n",
       "      <th>1</th>\n",
       "      <td>0.020933</td>\n",
       "      <td>-0.015</td>\n",
       "      <td>0.052</td>\n",
       "      <td>9.969</td>\n",
       "      <td>9.969147</td>\n",
       "    </tr>\n",
       "    <tr>\n",
       "      <th>2</th>\n",
       "      <td>0.026023</td>\n",
       "      <td>0.118</td>\n",
       "      <td>0.052</td>\n",
       "      <td>9.912</td>\n",
       "      <td>9.912838</td>\n",
       "    </tr>\n",
       "    <tr>\n",
       "      <th>3</th>\n",
       "      <td>0.031113</td>\n",
       "      <td>0.060</td>\n",
       "      <td>0.032</td>\n",
       "      <td>9.988</td>\n",
       "      <td>9.988231</td>\n",
       "    </tr>\n",
       "    <tr>\n",
       "      <th>4</th>\n",
       "      <td>0.036203</td>\n",
       "      <td>0.099</td>\n",
       "      <td>0.109</td>\n",
       "      <td>9.912</td>\n",
       "      <td>9.913093</td>\n",
       "    </tr>\n",
       "    <tr>\n",
       "      <th>...</th>\n",
       "      <td>...</td>\n",
       "      <td>...</td>\n",
       "      <td>...</td>\n",
       "      <td>...</td>\n",
       "      <td>...</td>\n",
       "    </tr>\n",
       "    <tr>\n",
       "      <th>3298</th>\n",
       "      <td>16.800199</td>\n",
       "      <td>0.079</td>\n",
       "      <td>0.090</td>\n",
       "      <td>10.084</td>\n",
       "      <td>10.084711</td>\n",
       "    </tr>\n",
       "    <tr>\n",
       "      <th>3299</th>\n",
       "      <td>16.805289</td>\n",
       "      <td>0.079</td>\n",
       "      <td>0.052</td>\n",
       "      <td>9.816</td>\n",
       "      <td>9.816456</td>\n",
       "    </tr>\n",
       "    <tr>\n",
       "      <th>3300</th>\n",
       "      <td>16.810379</td>\n",
       "      <td>0.022</td>\n",
       "      <td>0.071</td>\n",
       "      <td>9.816</td>\n",
       "      <td>9.816281</td>\n",
       "    </tr>\n",
       "    <tr>\n",
       "      <th>3301</th>\n",
       "      <td>16.815469</td>\n",
       "      <td>0.099</td>\n",
       "      <td>0.013</td>\n",
       "      <td>9.893</td>\n",
       "      <td>9.893504</td>\n",
       "    </tr>\n",
       "    <tr>\n",
       "      <th>3302</th>\n",
       "      <td>16.820558</td>\n",
       "      <td>0.079</td>\n",
       "      <td>0.032</td>\n",
       "      <td>10.008</td>\n",
       "      <td>10.008363</td>\n",
       "    </tr>\n",
       "  </tbody>\n",
       "</table>\n",
       "<p>3303 rows × 5 columns</p>\n",
       "</div>"
      ],
      "text/plain": [
       "              t     ax     ay      az       aabs\n",
       "0      0.015842  0.099 -0.024   9.797   9.797530\n",
       "1      0.020933 -0.015  0.052   9.969   9.969147\n",
       "2      0.026023  0.118  0.052   9.912   9.912838\n",
       "3      0.031113  0.060  0.032   9.988   9.988231\n",
       "4      0.036203  0.099  0.109   9.912   9.913093\n",
       "...         ...    ...    ...     ...        ...\n",
       "3298  16.800199  0.079  0.090  10.084  10.084711\n",
       "3299  16.805289  0.079  0.052   9.816   9.816456\n",
       "3300  16.810379  0.022  0.071   9.816   9.816281\n",
       "3301  16.815469  0.099  0.013   9.893   9.893504\n",
       "3302  16.820558  0.079  0.032  10.008  10.008363\n",
       "\n",
       "[3303 rows x 5 columns]"
      ]
     },
     "execution_count": 67,
     "metadata": {},
     "output_type": "execute_result"
    }
   ],
   "source": [
    "adata"
   ]
  },
  {
   "cell_type": "markdown",
   "metadata": {
    "id": "bomOX_kyzIwa"
   },
   "source": [
    "#### Hívatkozás egy-egy oszlopra\n",
    "- ```adata[\"cimke\"]```\n",
    "- ```adata.cimke```   -- ha nincs benne szóköz furcsa karakter..."
   ]
  },
  {
   "cell_type": "code",
   "execution_count": 68,
   "metadata": {
    "colab": {
     "base_uri": "https://localhost:8080/"
    },
    "executionInfo": {
     "elapsed": 293,
     "status": "ok",
     "timestamp": 1685457480493,
     "user": {
      "displayName": "Piroska Dömötör",
      "userId": "03696721308245428945"
     },
     "user_tz": -120
    },
    "id": "TPl2D2CYzIwa",
    "outputId": "db2d6d6c-47c6-4f38-ad05-5bcab73c3c71"
   },
   "outputs": [
    {
     "data": {
      "text/plain": [
       "0        9.797530\n",
       "1        9.969147\n",
       "2        9.912838\n",
       "3        9.988231\n",
       "4        9.913093\n",
       "          ...    \n",
       "3298    10.084711\n",
       "3299     9.816456\n",
       "3300     9.816281\n",
       "3301     9.893504\n",
       "3302    10.008363\n",
       "Name: aabs, Length: 3303, dtype: float64"
      ]
     },
     "execution_count": 68,
     "metadata": {},
     "output_type": "execute_result"
    }
   ],
   "source": [
    "adata[\"aabs\"]"
   ]
  },
  {
   "cell_type": "code",
   "execution_count": 69,
   "metadata": {},
   "outputs": [
    {
     "data": {
      "text/plain": [
       "Index(['t', 'ax', 'ay', 'az', 'aabs'], dtype='object')"
      ]
     },
     "execution_count": 69,
     "metadata": {},
     "output_type": "execute_result"
    }
   ],
   "source": [
    "adata.columns"
   ]
  },
  {
   "cell_type": "code",
   "execution_count": 70,
   "metadata": {
    "colab": {
     "base_uri": "https://localhost:8080/",
     "height": 112
    },
    "executionInfo": {
     "elapsed": 416,
     "status": "ok",
     "timestamp": 1685457624847,
     "user": {
      "displayName": "Piroska Dömötör",
      "userId": "03696721308245428945"
     },
     "user_tz": -120
    },
    "id": "L4B7iaFMzIwa",
    "outputId": "10ba5e4f-2a22-45dc-e097-c4ae22411fdb"
   },
   "outputs": [
    {
     "data": {
      "text/html": [
       "<div>\n",
       "<style scoped>\n",
       "    .dataframe tbody tr th:only-of-type {\n",
       "        vertical-align: middle;\n",
       "    }\n",
       "\n",
       "    .dataframe tbody tr th {\n",
       "        vertical-align: top;\n",
       "    }\n",
       "\n",
       "    .dataframe thead th {\n",
       "        text-align: right;\n",
       "    }\n",
       "</style>\n",
       "<table border=\"1\" class=\"dataframe\">\n",
       "  <thead>\n",
       "    <tr style=\"text-align: right;\">\n",
       "      <th></th>\n",
       "      <th>t</th>\n",
       "      <th>az</th>\n",
       "    </tr>\n",
       "  </thead>\n",
       "  <tbody>\n",
       "    <tr>\n",
       "      <th>0</th>\n",
       "      <td>0.015842</td>\n",
       "      <td>9.797</td>\n",
       "    </tr>\n",
       "    <tr>\n",
       "      <th>1</th>\n",
       "      <td>0.020933</td>\n",
       "      <td>9.969</td>\n",
       "    </tr>\n",
       "  </tbody>\n",
       "</table>\n",
       "</div>"
      ],
      "text/plain": [
       "          t     az\n",
       "0  0.015842  9.797\n",
       "1  0.020933  9.969"
      ]
     },
     "execution_count": 70,
     "metadata": {},
     "output_type": "execute_result"
    }
   ],
   "source": [
    "adata[[\"t\", \"az\"]].head(2)"
   ]
  },
  {
   "cell_type": "code",
   "execution_count": 71,
   "metadata": {
    "colab": {
     "base_uri": "https://localhost:8080/"
    },
    "executionInfo": {
     "elapsed": 409,
     "status": "ok",
     "timestamp": 1685457666206,
     "user": {
      "displayName": "Piroska Dömötör",
      "userId": "03696721308245428945"
     },
     "user_tz": -120
    },
    "id": "yRRYP40CGs26",
    "outputId": "2f1c20c1-26a9-42dd-8104-927f9a357dc5"
   },
   "outputs": [
    {
     "data": {
      "text/plain": [
       "0        9.797\n",
       "1        9.969\n",
       "2        9.912\n",
       "3        9.988\n",
       "4        9.912\n",
       "         ...  \n",
       "3298    10.084\n",
       "3299     9.816\n",
       "3300     9.816\n",
       "3301     9.893\n",
       "3302    10.008\n",
       "Name: az, Length: 3303, dtype: float64"
      ]
     },
     "execution_count": 71,
     "metadata": {},
     "output_type": "execute_result"
    }
   ],
   "source": [
    "adata.az"
   ]
  },
  {
   "cell_type": "code",
   "execution_count": 72,
   "metadata": {},
   "outputs": [
    {
     "data": {
      "text/plain": [
       "0       True\n",
       "1       True\n",
       "2       True\n",
       "3       True\n",
       "4       True\n",
       "        ... \n",
       "3298    True\n",
       "3299    True\n",
       "3300    True\n",
       "3301    True\n",
       "3302    True\n",
       "Length: 3303, dtype: bool"
      ]
     },
     "execution_count": 72,
     "metadata": {},
     "output_type": "execute_result"
    }
   ],
   "source": [
    "# számolás oszlopokkal \n",
    "np.sqrt(adata.ax**2 + adata.ay**2 + adata.az**2)- adata.aabs < 10**(-6)"
   ]
  },
  {
   "cell_type": "markdown",
   "metadata": {
    "id": "ApgSoAyUzIwb"
   },
   "source": [
    "#### Ábrázoljuk a z irányú gyorsulás adatokat\n",
    " - ```plt.plot()```   -- matplotlib ábrázolás\n",
    " - ```plt.xlabel()``` --  tengely nevek\n",
    " - ```plt.title()```  -- grafikon cím"
   ]
  },
  {
   "cell_type": "code",
   "execution_count": 73,
   "metadata": {
    "colab": {
     "base_uri": "https://localhost:8080/",
     "height": 472
    },
    "executionInfo": {
     "elapsed": 632,
     "status": "ok",
     "timestamp": 1685458619582,
     "user": {
      "displayName": "Piroska Dömötör",
      "userId": "03696721308245428945"
     },
     "user_tz": -120
    },
    "id": "ZXomZkyNzIwb",
    "outputId": "d50c0440-04e1-498b-e922-ea4508dd5d43"
   },
   "outputs": [
    {
     "data": {
      "image/png": "[encoded data removed]",
      "text/plain": [
       "<Figure size 432x288 with 1 Axes>"
      ]
     },
     "metadata": {
      "needs_background": "light"
     },
     "output_type": "display_data"
    }
   ],
   "source": [
    "plt.plot(adata.t, adata[\"az\"])\n",
    "plt.title(\"gyorsulás-idő grafikon\")\n",
    "plt.xlabel(\"t (s)\")\n",
    "plt.ylabel(\"a_z (m/s^2)\")\n",
    "plt.show()"
   ]
  },
  {
   "cell_type": "markdown",
   "metadata": {
    "id": "WqucnZHAzIwb"
   },
   "source": [
    "### Az adatok feldolgozása"
   ]
  },
  {
   "cell_type": "markdown",
   "metadata": {
    "id": "jlQqyVEuzIwb"
   },
   "source": [
    "#### fölösleges oszlopok törlése\n",
    "- ```del``` vagy \n",
    "- ```.drop(columns=  )``` használata"
   ]
  },
  {
   "cell_type": "code",
   "execution_count": 74,
   "metadata": {
    "executionInfo": {
     "elapsed": 485,
     "status": "ok",
     "timestamp": 1685458153502,
     "user": {
      "displayName": "Piroska Dömötör",
      "userId": "03696721308245428945"
     },
     "user_tz": -120
    },
    "id": "Pz11ZvxgzIwb"
   },
   "outputs": [],
   "source": [
    "# fölösleges oszlopok törlése\n",
    "del adata[\"ax\"]"
   ]
  },
  {
   "cell_type": "code",
   "execution_count": 75,
   "metadata": {
    "executionInfo": {
     "elapsed": 300,
     "status": "ok",
     "timestamp": 1685458211705,
     "user": {
      "displayName": "Piroska Dömötör",
      "userId": "03696721308245428945"
     },
     "user_tz": -120
    },
    "id": "lWB1zg4bIoS_"
   },
   "outputs": [],
   "source": [
    "adata.drop(columns=[\"ay\",\"aabs\"],inplace = True)"
   ]
  },
  {
   "cell_type": "code",
   "execution_count": 76,
   "metadata": {
    "colab": {
     "base_uri": "https://localhost:8080/",
     "height": 423
    },
    "executionInfo": {
     "elapsed": 304,
     "status": "ok",
     "timestamp": 1685458218567,
     "user": {
      "displayName": "Piroska Dömötör",
      "userId": "03696721308245428945"
     },
     "user_tz": -120
    },
    "id": "294439EuI126",
    "outputId": "1a85c875-28b9-4eab-90b5-7e357a6659f1"
   },
   "outputs": [
    {
     "data": {
      "text/html": [
       "<div>\n",
       "<style scoped>\n",
       "    .dataframe tbody tr th:only-of-type {\n",
       "        vertical-align: middle;\n",
       "    }\n",
       "\n",
       "    .dataframe tbody tr th {\n",
       "        vertical-align: top;\n",
       "    }\n",
       "\n",
       "    .dataframe thead th {\n",
       "        text-align: right;\n",
       "    }\n",
       "</style>\n",
       "<table border=\"1\" class=\"dataframe\">\n",
       "  <thead>\n",
       "    <tr style=\"text-align: right;\">\n",
       "      <th></th>\n",
       "      <th>t</th>\n",
       "      <th>az</th>\n",
       "    </tr>\n",
       "  </thead>\n",
       "  <tbody>\n",
       "    <tr>\n",
       "      <th>0</th>\n",
       "      <td>0.015842</td>\n",
       "      <td>9.797</td>\n",
       "    </tr>\n",
       "    <tr>\n",
       "      <th>1</th>\n",
       "      <td>0.020933</td>\n",
       "      <td>9.969</td>\n",
       "    </tr>\n",
       "    <tr>\n",
       "      <th>2</th>\n",
       "      <td>0.026023</td>\n",
       "      <td>9.912</td>\n",
       "    </tr>\n",
       "    <tr>\n",
       "      <th>3</th>\n",
       "      <td>0.031113</td>\n",
       "      <td>9.988</td>\n",
       "    </tr>\n",
       "    <tr>\n",
       "      <th>4</th>\n",
       "      <td>0.036203</td>\n",
       "      <td>9.912</td>\n",
       "    </tr>\n",
       "    <tr>\n",
       "      <th>...</th>\n",
       "      <td>...</td>\n",
       "      <td>...</td>\n",
       "    </tr>\n",
       "    <tr>\n",
       "      <th>3298</th>\n",
       "      <td>16.800199</td>\n",
       "      <td>10.084</td>\n",
       "    </tr>\n",
       "    <tr>\n",
       "      <th>3299</th>\n",
       "      <td>16.805289</td>\n",
       "      <td>9.816</td>\n",
       "    </tr>\n",
       "    <tr>\n",
       "      <th>3300</th>\n",
       "      <td>16.810379</td>\n",
       "      <td>9.816</td>\n",
       "    </tr>\n",
       "    <tr>\n",
       "      <th>3301</th>\n",
       "      <td>16.815469</td>\n",
       "      <td>9.893</td>\n",
       "    </tr>\n",
       "    <tr>\n",
       "      <th>3302</th>\n",
       "      <td>16.820558</td>\n",
       "      <td>10.008</td>\n",
       "    </tr>\n",
       "  </tbody>\n",
       "</table>\n",
       "<p>3303 rows × 2 columns</p>\n",
       "</div>"
      ],
      "text/plain": [
       "              t      az\n",
       "0      0.015842   9.797\n",
       "1      0.020933   9.969\n",
       "2      0.026023   9.912\n",
       "3      0.031113   9.988\n",
       "4      0.036203   9.912\n",
       "...         ...     ...\n",
       "3298  16.800199  10.084\n",
       "3299  16.805289   9.816\n",
       "3300  16.810379   9.816\n",
       "3301  16.815469   9.893\n",
       "3302  16.820558  10.008\n",
       "\n",
       "[3303 rows x 2 columns]"
      ]
     },
     "execution_count": 76,
     "metadata": {},
     "output_type": "execute_result"
    }
   ],
   "source": [
    "adata"
   ]
  },
  {
   "cell_type": "markdown",
   "metadata": {
    "id": "T0GIV8_0zIwc"
   },
   "source": [
    "#### a nehézségi gyorsulás állandó értékének levonása"
   ]
  },
  {
   "cell_type": "code",
   "execution_count": 77,
   "metadata": {
    "executionInfo": {
     "elapsed": 392,
     "status": "ok",
     "timestamp": 1685458402555,
     "user": {
      "displayName": "Piroska Dömötör",
      "userId": "03696721308245428945"
     },
     "user_tz": -120
    },
    "id": "dN4YLQTdzIwc"
   },
   "outputs": [],
   "source": [
    "g = adata[\"az\"][0:1000].mean()"
   ]
  },
  {
   "cell_type": "code",
   "execution_count": 78,
   "metadata": {
    "executionInfo": {
     "elapsed": 281,
     "status": "ok",
     "timestamp": 1685458497193,
     "user": {
      "displayName": "Piroska Dömötör",
      "userId": "03696721308245428945"
     },
     "user_tz": -120
    },
    "id": "4XKv9xU4zIwc"
   },
   "outputs": [],
   "source": [
    "adata[\"az0\"] = adata[\"az\"]-g"
   ]
  },
  {
   "cell_type": "code",
   "execution_count": 79,
   "metadata": {
    "colab": {
     "base_uri": "https://localhost:8080/",
     "height": 423
    },
    "executionInfo": {
     "elapsed": 326,
     "status": "ok",
     "timestamp": 1685458505088,
     "user": {
      "displayName": "Piroska Dömötör",
      "userId": "03696721308245428945"
     },
     "user_tz": -120
    },
    "id": "qCiqKnz-J7gR",
    "outputId": "29bca364-660a-4376-fff5-c5209d51d8f6"
   },
   "outputs": [
    {
     "data": {
      "text/html": [
       "<div>\n",
       "<style scoped>\n",
       "    .dataframe tbody tr th:only-of-type {\n",
       "        vertical-align: middle;\n",
       "    }\n",
       "\n",
       "    .dataframe tbody tr th {\n",
       "        vertical-align: top;\n",
       "    }\n",
       "\n",
       "    .dataframe thead th {\n",
       "        text-align: right;\n",
       "    }\n",
       "</style>\n",
       "<table border=\"1\" class=\"dataframe\">\n",
       "  <thead>\n",
       "    <tr style=\"text-align: right;\">\n",
       "      <th></th>\n",
       "      <th>t</th>\n",
       "      <th>az</th>\n",
       "      <th>az0</th>\n",
       "    </tr>\n",
       "  </thead>\n",
       "  <tbody>\n",
       "    <tr>\n",
       "      <th>0</th>\n",
       "      <td>0.015842</td>\n",
       "      <td>9.797</td>\n",
       "      <td>-0.092017</td>\n",
       "    </tr>\n",
       "    <tr>\n",
       "      <th>1</th>\n",
       "      <td>0.020933</td>\n",
       "      <td>9.969</td>\n",
       "      <td>0.079983</td>\n",
       "    </tr>\n",
       "    <tr>\n",
       "      <th>2</th>\n",
       "      <td>0.026023</td>\n",
       "      <td>9.912</td>\n",
       "      <td>0.022983</td>\n",
       "    </tr>\n",
       "    <tr>\n",
       "      <th>3</th>\n",
       "      <td>0.031113</td>\n",
       "      <td>9.988</td>\n",
       "      <td>0.098983</td>\n",
       "    </tr>\n",
       "    <tr>\n",
       "      <th>4</th>\n",
       "      <td>0.036203</td>\n",
       "      <td>9.912</td>\n",
       "      <td>0.022983</td>\n",
       "    </tr>\n",
       "    <tr>\n",
       "      <th>...</th>\n",
       "      <td>...</td>\n",
       "      <td>...</td>\n",
       "      <td>...</td>\n",
       "    </tr>\n",
       "    <tr>\n",
       "      <th>3298</th>\n",
       "      <td>16.800199</td>\n",
       "      <td>10.084</td>\n",
       "      <td>0.194983</td>\n",
       "    </tr>\n",
       "    <tr>\n",
       "      <th>3299</th>\n",
       "      <td>16.805289</td>\n",
       "      <td>9.816</td>\n",
       "      <td>-0.073017</td>\n",
       "    </tr>\n",
       "    <tr>\n",
       "      <th>3300</th>\n",
       "      <td>16.810379</td>\n",
       "      <td>9.816</td>\n",
       "      <td>-0.073017</td>\n",
       "    </tr>\n",
       "    <tr>\n",
       "      <th>3301</th>\n",
       "      <td>16.815469</td>\n",
       "      <td>9.893</td>\n",
       "      <td>0.003983</td>\n",
       "    </tr>\n",
       "    <tr>\n",
       "      <th>3302</th>\n",
       "      <td>16.820558</td>\n",
       "      <td>10.008</td>\n",
       "      <td>0.118983</td>\n",
       "    </tr>\n",
       "  </tbody>\n",
       "</table>\n",
       "<p>3303 rows × 3 columns</p>\n",
       "</div>"
      ],
      "text/plain": [
       "              t      az       az0\n",
       "0      0.015842   9.797 -0.092017\n",
       "1      0.020933   9.969  0.079983\n",
       "2      0.026023   9.912  0.022983\n",
       "3      0.031113   9.988  0.098983\n",
       "4      0.036203   9.912  0.022983\n",
       "...         ...     ...       ...\n",
       "3298  16.800199  10.084  0.194983\n",
       "3299  16.805289   9.816 -0.073017\n",
       "3300  16.810379   9.816 -0.073017\n",
       "3301  16.815469   9.893  0.003983\n",
       "3302  16.820558  10.008  0.118983\n",
       "\n",
       "[3303 rows x 3 columns]"
      ]
     },
     "execution_count": 79,
     "metadata": {},
     "output_type": "execute_result"
    }
   ],
   "source": [
    "adata"
   ]
  },
  {
   "cell_type": "markdown",
   "metadata": {
    "id": "9nphJFUazIwc"
   },
   "source": [
    "#### \"Integrálás\""
   ]
  },
  {
   "cell_type": "code",
   "execution_count": 80,
   "metadata": {
    "executionInfo": {
     "elapsed": 365,
     "status": "ok",
     "timestamp": 1685459341891,
     "user": {
      "displayName": "Piroska Dömötör",
      "userId": "03696721308245428945"
     },
     "user_tz": -120
    },
    "id": "1s6_GHG7zIwc"
   },
   "outputs": [],
   "source": [
    "def dint(time,a,v0=0.0):\n",
    "    N=len(time)                    # a tömb első dimenziója\n",
    "    intt=np.zeros(N)           # az integrál értékek tömbje\n",
    "    # Ide jön a lényegi rész\n",
    "    intt[0] = v0\n",
    "    for i in range(1,N):\n",
    "        intt[i] = a[i]*(time[i] - time[i-1])+intt[i-1]\n",
    "    return intt"
   ]
  },
  {
   "cell_type": "markdown",
   "metadata": {
    "id": "vjvU0IsszIwc"
   },
   "source": [
    "#### pillanatnyi sebesség v(t) kiszámítása és ábrázolása"
   ]
  },
  {
   "cell_type": "code",
   "execution_count": 81,
   "metadata": {
    "executionInfo": {
     "elapsed": 266,
     "status": "ok",
     "timestamp": 1685459398583,
     "user": {
      "displayName": "Piroska Dömötör",
      "userId": "03696721308245428945"
     },
     "user_tz": -120
    },
    "id": "-54laM4tzIwd"
   },
   "outputs": [],
   "source": [
    "adata[\"v\"] =  dint(adata[\"t\"], adata[\"az0\"])"
   ]
  },
  {
   "cell_type": "code",
   "execution_count": 82,
   "metadata": {
    "colab": {
     "base_uri": "https://localhost:8080/",
     "height": 206
    },
    "executionInfo": {
     "elapsed": 430,
     "status": "ok",
     "timestamp": 1685459407140,
     "user": {
      "displayName": "Piroska Dömötör",
      "userId": "03696721308245428945"
     },
     "user_tz": -120
    },
    "id": "og0Ed97GNXml",
    "outputId": "52a08719-a4c2-40fd-81e3-ce81a2bb3f74"
   },
   "outputs": [
    {
     "data": {
      "text/html": [
       "<div>\n",
       "<style scoped>\n",
       "    .dataframe tbody tr th:only-of-type {\n",
       "        vertical-align: middle;\n",
       "    }\n",
       "\n",
       "    .dataframe tbody tr th {\n",
       "        vertical-align: top;\n",
       "    }\n",
       "\n",
       "    .dataframe thead th {\n",
       "        text-align: right;\n",
       "    }\n",
       "</style>\n",
       "<table border=\"1\" class=\"dataframe\">\n",
       "  <thead>\n",
       "    <tr style=\"text-align: right;\">\n",
       "      <th></th>\n",
       "      <th>t</th>\n",
       "      <th>az</th>\n",
       "      <th>az0</th>\n",
       "      <th>v</th>\n",
       "    </tr>\n",
       "  </thead>\n",
       "  <tbody>\n",
       "    <tr>\n",
       "      <th>0</th>\n",
       "      <td>0.015842</td>\n",
       "      <td>9.797</td>\n",
       "      <td>-0.092017</td>\n",
       "      <td>0.000000</td>\n",
       "    </tr>\n",
       "    <tr>\n",
       "      <th>1</th>\n",
       "      <td>0.020933</td>\n",
       "      <td>9.969</td>\n",
       "      <td>0.079983</td>\n",
       "      <td>0.000407</td>\n",
       "    </tr>\n",
       "    <tr>\n",
       "      <th>2</th>\n",
       "      <td>0.026023</td>\n",
       "      <td>9.912</td>\n",
       "      <td>0.022983</td>\n",
       "      <td>0.000524</td>\n",
       "    </tr>\n",
       "    <tr>\n",
       "      <th>3</th>\n",
       "      <td>0.031113</td>\n",
       "      <td>9.988</td>\n",
       "      <td>0.098983</td>\n",
       "      <td>0.001028</td>\n",
       "    </tr>\n",
       "    <tr>\n",
       "      <th>4</th>\n",
       "      <td>0.036203</td>\n",
       "      <td>9.912</td>\n",
       "      <td>0.022983</td>\n",
       "      <td>0.001145</td>\n",
       "    </tr>\n",
       "  </tbody>\n",
       "</table>\n",
       "</div>"
      ],
      "text/plain": [
       "          t     az       az0         v\n",
       "0  0.015842  9.797 -0.092017  0.000000\n",
       "1  0.020933  9.969  0.079983  0.000407\n",
       "2  0.026023  9.912  0.022983  0.000524\n",
       "3  0.031113  9.988  0.098983  0.001028\n",
       "4  0.036203  9.912  0.022983  0.001145"
      ]
     },
     "execution_count": 82,
     "metadata": {},
     "output_type": "execute_result"
    }
   ],
   "source": [
    "adata.head(5)"
   ]
  },
  {
   "cell_type": "code",
   "execution_count": 83,
   "metadata": {
    "colab": {
     "base_uri": "https://localhost:8080/",
     "height": 472
    },
    "executionInfo": {
     "elapsed": 343,
     "status": "ok",
     "timestamp": 1685459503828,
     "user": {
      "displayName": "Piroska Dömötör",
      "userId": "03696721308245428945"
     },
     "user_tz": -120
    },
    "id": "znxnzlwKNpwt",
    "outputId": "34a93397-a490-4607-e500-bf930983d56a"
   },
   "outputs": [
    {
     "data": {
      "image/png": "[encoded data removed]",
      "text/plain": [
       "<Figure size 432x288 with 1 Axes>"
      ]
     },
     "metadata": {
      "needs_background": "light"
     },
     "output_type": "display_data"
    }
   ],
   "source": [
    "plt.plot(adata.t, adata[\"v\"])\n",
    "plt.title(\"sebesség-idő grafikon\")\n",
    "plt.xlabel(\"t (s)\")\n",
    "plt.ylabel(\"v_z (m/s)\")\n",
    "plt.show()"
   ]
  },
  {
   "cell_type": "markdown",
   "metadata": {
    "id": "yQNMogWceePs"
   },
   "source": [
    "**Megjegyzés:** A grafikon nem tökéletes, hiszen a liftnek meg kellene állnia, azaz a mozgás végén is 0 m/s sebesség kellene, ami enyhén emelkedik. \n",
    "\n",
    "A hiba fő oka a mérés hibájában keresendő. A telefonok gyorsulás mérője egy hoszzabb idejű mérés során elállítódik. A mérés végén, már nem ugyan az a $g$ értéket méri"
   ]
  },
  {
   "cell_type": "markdown",
   "metadata": {
    "id": "JduE_f-9zIwd"
   },
   "source": [
    "#### pillanatnyi hely x(t) kiszámítása és ábrázolása"
   ]
  },
  {
   "cell_type": "code",
   "execution_count": 84,
   "metadata": {
    "executionInfo": {
     "elapsed": 566,
     "status": "ok",
     "timestamp": 1685460272383,
     "user": {
      "displayName": "Piroska Dömötör",
      "userId": "03696721308245428945"
     },
     "user_tz": -120
    },
    "id": "CDomRi0NzIwd"
   },
   "outputs": [],
   "source": [
    "adata[\"z\"] =  dint(adata[\"t\"], adata[\"v\"])"
   ]
  },
  {
   "cell_type": "code",
   "execution_count": 85,
   "metadata": {
    "colab": {
     "base_uri": "https://localhost:8080/",
     "height": 472
    },
    "executionInfo": {
     "elapsed": 1251,
     "status": "ok",
     "timestamp": 1685460295673,
     "user": {
      "displayName": "Piroska Dömötör",
      "userId": "03696721308245428945"
     },
     "user_tz": -120
    },
    "id": "V1L8Ne8_QsF8",
    "outputId": "a50005d3-3af9-474c-eb00-bdbe349940bd"
   },
   "outputs": [
    {
     "data": {
      "image/png": "[encoded data removed]",
      "text/plain": [
       "<Figure size 432x288 with 1 Axes>"
      ]
     },
     "metadata": {
      "needs_background": "light"
     },
     "output_type": "display_data"
    }
   ],
   "source": [
    "plt.plot(adata.t, adata[\"z\"])\n",
    "plt.title(\"hely-idő grafikon\")\n",
    "plt.xlabel(\"t (s)\")\n",
    "plt.ylabel(\"z (m)\")\n",
    "plt.show()"
   ]
  },
  {
   "cell_type": "code",
   "execution_count": null,
   "metadata": {
    "id": "htBm1dU-Qxln"
   },
   "outputs": [],
   "source": []
  }
 ],
 "metadata": {
  "colab": {
   "provenance": []
  },
  "kernelspec": {
   "display_name": "pylatest",
   "language": "python",
   "name": "python3"
  },
  "language_info": {
   "codemirror_mode": {
    "name": "ipython",
    "version": 3
   },
   "file_extension": ".py",
   "mimetype": "text/x-python",
   "name": "python",
   "nbconvert_exporter": "python",
   "pygments_lexer": "ipython3",
   "version": "3.9.15"
  }
 },
 "nbformat": 4,
 "nbformat_minor": 0
}
