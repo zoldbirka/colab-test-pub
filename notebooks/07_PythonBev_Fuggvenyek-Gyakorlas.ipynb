{
 "cells": [
  {
   "cell_type": "markdown",
   "metadata": {
    "id": "kusjJCTSo7UG"
   },
   "source": [
    "# 7. alkalom: Függvények gyakorlás"
   ]
  },
  {
   "cell_type": "markdown",
   "metadata": {
    "id": "ThD30CO6vzMR"
   },
   "source": [
    "## Feladat: Prímtesztelés\n",
    "Készítsünk függvényt, amely eldönti egy természetes számról, hogy prím-e!"
   ]
  },
  {
   "cell_type": "code",
   "execution_count": 1,
   "metadata": {
    "colab": {
     "base_uri": "https://localhost:8080/"
    },
    "executionInfo": {
     "elapsed": 34,
     "status": "ok",
     "timestamp": 1684235607037,
     "user": {
      "displayName": "Piroska Dömötör",
      "userId": "03696721308245428945"
     },
     "user_tz": -120
    },
    "id": "sXtFBo1hvzMS",
    "outputId": "4adceebc-3114-4033-9ca8-e15c86cb3cac"
   },
   "outputs": [
    {
     "name": "stdout",
     "output_type": "stream",
     "text": [
      "True\n"
     ]
    }
   ],
   "source": [
    "# 1. változat: függvény nélkül \n",
    "# Ez a [2, n-1] intervallumon minden számmal ellenőrzi az oszthatóságot\n",
    "n = 23\n",
    "eredm = True\n",
    "for k in range(2,n):\n",
    "    if n%k == 0:\n",
    "        eredm=False\n",
    "        break        # kilép a ciklusból ha eljut ide\n",
    "print(eredm)"
   ]
  },
  {
   "cell_type": "code",
   "execution_count": 2,
   "metadata": {
    "id": "klQSSjJ3vzMS"
   },
   "outputs": [],
   "source": [
    "# 2. változat: függvénnyel \n",
    "# javított verzió: Ez a [2, sqrt(n)] intervallumon ellenőriz csak\n",
    "\n",
    "def is_prime(n):\n",
    "    eredm = True\n",
    "    n0 = int(n**0.5)+1\n",
    "    for k in range(2,n0):\n",
    "        if n%k == 0:\n",
    "            eredm=False\n",
    "            break\n",
    "    return eredm"
   ]
  },
  {
   "cell_type": "code",
   "execution_count": 3,
   "metadata": {},
   "outputs": [],
   "source": [
    "# előző \"igényesebben\"\n",
    "def is_prime(n):\n",
    "    n0 = int(n**0.5)+1\n",
    "    for k in range(2, n0):\n",
    "        if n % k == 0:\n",
    "            return False\n",
    "    return True"
   ]
  },
  {
   "cell_type": "code",
   "execution_count": 4,
   "metadata": {
    "colab": {
     "base_uri": "https://localhost:8080/"
    },
    "executionInfo": {
     "elapsed": 27,
     "status": "ok",
     "timestamp": 1684235607039,
     "user": {
      "displayName": "Piroska Dömötör",
      "userId": "03696721308245428945"
     },
     "user_tz": -120
    },
    "id": "JU1I9n4MIDq0",
    "outputId": "45daba73-f81e-48dd-c23c-a08df3b5c41e"
   },
   "outputs": [
    {
     "data": {
      "text/plain": [
       "(False, True, True)"
      ]
     },
     "execution_count": 4,
     "metadata": {},
     "output_type": "execute_result"
    }
   ],
   "source": [
    "is_prime(123),is_prime(7),is_prime(1993)"
   ]
  },
  {
   "cell_type": "markdown",
   "metadata": {
    "id": "Zxl6nUeHnraV"
   },
   "source": [
    "## Szervezzük át a korábban már megírt programjainkat függvénnyé "
   ]
  },
  {
   "cell_type": "markdown",
   "metadata": {},
   "source": [
    "### **Példa**: n-szer n-es háromszög * karakterekből."
   ]
  },
  {
   "cell_type": "code",
   "execution_count": null,
   "metadata": {
    "colab": {
     "base_uri": "https://localhost:8080/"
    },
    "executionInfo": {
     "elapsed": 339,
     "status": "ok",
     "timestamp": 1684248444054,
     "user": {
      "displayName": "Piroska Dömötör",
      "userId": "03696721308245428945"
     },
     "user_tz": -120
    },
    "id": "te6UATdQ3LHy",
    "outputId": "fd6c81a9-9b63-4b9b-d94a-779ad5e62ee6",
    "scrolled": true
   },
   "outputs": [
    {
     "name": "stdout",
     "output_type": "stream",
     "text": [
      "*\n",
      "**\n",
      "***\n",
      "****\n",
      "*****\n",
      "******\n",
      "*******\n",
      "********\n",
      "*********\n",
      "**********\n"
     ]
    }
   ],
   "source": [
    "## korábbi kódunk\n",
    "n = 10\n",
    "for hossz in range(1, n + 1):\n",
    "    print(\"*\" * hossz )"
   ]
  },
  {
   "cell_type": "code",
   "execution_count": 6,
   "metadata": {},
   "outputs": [],
   "source": [
    "# fügvénnyel amely stringet ad vissza\n",
    "def haromszog(n):\n",
    "    s = \"\"\n",
    "    for elem in range(n):\n",
    "        s +=\"*\"*(elem+1)\n",
    "        s += \"\\n\"\n",
    "    return s[0:-1]"
   ]
  },
  {
   "cell_type": "code",
   "execution_count": 7,
   "metadata": {
    "colab": {
     "base_uri": "https://localhost:8080/",
     "height": 35
    },
    "executionInfo": {
     "elapsed": 1560,
     "status": "ok",
     "timestamp": 1684248911963,
     "user": {
      "displayName": "Piroska Dömötör",
      "userId": "03696721308245428945"
     },
     "user_tz": -120
    },
    "id": "eJbxKbajCKdS",
    "outputId": "2709f09d-fc10-45a9-ad61-b9aa344c34c1"
   },
   "outputs": [
    {
     "name": "stdout",
     "output_type": "stream",
     "text": [
      "*\n",
      "**\n",
      "***\n",
      "****\n",
      "*****\n",
      "******\n",
      "*******\n",
      "********\n",
      "*********\n",
      "**********\n"
     ]
    }
   ],
   "source": [
    "print(haromszog(10))"
   ]
  },
  {
   "cell_type": "markdown",
   "metadata": {},
   "source": [
    "### **Példa**: Magánhangzók statisztikája szótárral (angol kisbetűs szövegben)."
   ]
  },
  {
   "cell_type": "code",
   "execution_count": null,
   "metadata": {
    "executionInfo": {
     "elapsed": 400,
     "status": "ok",
     "timestamp": 1684249100295,
     "user": {
      "displayName": "Piroska Dömötör",
      "userId": "03696721308245428945"
     },
     "user_tz": -120
    },
    "id": "tAddcDVR3LHz"
   },
   "outputs": [
    {
     "name": "stdout",
     "output_type": "stream",
     "text": [
      "o : 3\n",
      "e : 3\n",
      "i : 4\n",
      "a : 2\n",
      "u : 0\n"
     ]
    }
   ],
   "source": [
    "## korábbi kódunk\n",
    "\n",
    "text = 'This is a short text for testing the algorithm.'\n",
    "vowels = 'aeiou'\n",
    "\n",
    "stat = dict()\n",
    "\n",
    "for mgh in vowels:\n",
    "    mgh_db = 0\n",
    "    for betu in text.lower():\n",
    "        if betu == mgh:\n",
    "            mgh_db += 1\n",
    "    print(mgh, \":\", mgh_db )\n",
    "    stat[mgh] = mgh_db"
   ]
  },
  {
   "cell_type": "code",
   "execution_count": 9,
   "metadata": {
    "colab": {
     "base_uri": "https://localhost:8080/"
    },
    "executionInfo": {
     "elapsed": 313,
     "status": "ok",
     "timestamp": 1684249115062,
     "user": {
      "displayName": "Piroska Dömötör",
      "userId": "03696721308245428945"
     },
     "user_tz": -120
    },
    "id": "WcnPXZqp3qTR",
    "outputId": "a621df8e-f48d-4829-97bf-d4c3f47313eb"
   },
   "outputs": [
    {
     "data": {
      "text/plain": [
       "{'o': 3, 'e': 3, 'i': 4, 'a': 2, 'u': 0}"
      ]
     },
     "execution_count": 9,
     "metadata": {},
     "output_type": "execute_result"
    }
   ],
   "source": [
    "stat"
   ]
  },
  {
   "cell_type": "code",
   "execution_count": 10,
   "metadata": {
    "id": "s8ygtou_3LH0"
   },
   "outputs": [],
   "source": [
    "# fügvénnyel\n",
    "\n",
    "def mgh_stat(text):\n",
    "    vowels = {'a', 'e', 'i', 'o', 'u'}\n",
    "\n",
    "    stat = dict()\n",
    "\n",
    "    for mgh in vowels:\n",
    "        mgh_db = 0\n",
    "        for betu in text.lower():\n",
    "            if betu == mgh:\n",
    "                mgh_db += 1\n",
    "        stat[mgh] = mgh_db\n",
    "    return stat"
   ]
  },
  {
   "cell_type": "code",
   "execution_count": 11,
   "metadata": {},
   "outputs": [
    {
     "data": {
      "text/plain": [
       "{'o': 2, 'e': 3, 'i': 0, 'a': 1, 'u': 0}"
      ]
     },
     "execution_count": 11,
     "metadata": {},
     "output_type": "execute_result"
    }
   ],
   "source": [
    "mgh_stat(\"Ez egy proba szoveg\")"
   ]
  },
  {
   "cell_type": "markdown",
   "metadata": {
    "id": "gMViSTKbvzMX"
   },
   "source": [
    "## Lambda kifejezések\n",
    "- A lambda kifejezés nem más, mint egysoros, névtelen függvény.\n",
    "- [Lambda kifejezések a dokumentációban](https://docs.python.org/3/reference/expressions.html#lambda)"
   ]
  },
  {
   "cell_type": "code",
   "execution_count": null,
   "metadata": {
    "id": "823exY70vzMX",
    "outputId": "e53e3001-bc4e-4fca-9faf-a88586613912"
   },
   "outputs": [
    {
     "data": {
      "text/plain": [
       "45"
      ]
     },
     "execution_count": 12,
     "metadata": {},
     "output_type": "execute_result"
    }
   ],
   "source": [
    "## Példa lambda kifejezésre.\n",
    "f = lambda x: x + 42\n",
    "f(3)"
   ]
  },
  {
   "cell_type": "code",
   "execution_count": 13,
   "metadata": {
    "id": "-PNomTdgvzMZ"
   },
   "outputs": [],
   "source": [
    "# Egynél több bemenet is megengedett.\n"
   ]
  },
  {
   "cell_type": "markdown",
   "metadata": {
    "id": "lg-QvzB9vzMa"
   },
   "source": [
    "### Lambda kifejezés alkalmazása rendezésnél"
   ]
  },
  {
   "cell_type": "code",
   "execution_count": 14,
   "metadata": {
    "id": "jum7q68nvzMa"
   },
   "outputs": [
    {
     "data": {
      "text/plain": [
       "[('körte', 11), ('alma', 22), ('barack', 33)]"
      ]
     },
     "execution_count": 14,
     "metadata": {},
     "output_type": "execute_result"
    }
   ],
   "source": [
    "# Párok listájának rendezése a második elem szerint.\n",
    "pairs = [('alma', 22), ('körte', 11), ('barack', 33)]\n",
    "sorted(pairs, key = lambda x: x[-1] )"
   ]
  },
  {
   "cell_type": "code",
   "execution_count": 15,
   "metadata": {},
   "outputs": [
    {
     "data": {
      "text/plain": [
       "[('alma', 22), ('barack', 33), ('körte', 11)]"
      ]
     },
     "execution_count": 15,
     "metadata": {},
     "output_type": "execute_result"
    }
   ],
   "source": [
    "sorted(pairs)"
   ]
  },
  {
   "cell_type": "code",
   "execution_count": 8,
   "metadata": {
    "id": "QLmCLEwjvzMa"
   },
   "outputs": [
    {
     "data": {
      "text/plain": [
       "[('körte', 11), ('alma', 22), ('barack', 33)]"
      ]
     },
     "execution_count": 8,
     "metadata": {},
     "output_type": "execute_result"
    }
   ],
   "source": [
    "# Az előző feladat megoldása lambda kifejezés nélkül külön függvényt definiálva\n",
    "pairs = [('alma', 22), ('körte', 11), ('barack', 33)]\n",
    "\n",
    "def rend(x):\n",
    "    return x[-1]\n",
    "\n",
    "sorted(pairs, key=rend )"
   ]
  },
  {
   "cell_type": "code",
   "execution_count": 10,
   "metadata": {
    "id": "myzzRcncvzMb"
   },
   "outputs": [
    {
     "data": {
      "text/plain": [
       "['denmark', 'queen', 'king']"
      ]
     },
     "execution_count": 10,
     "metadata": {},
     "output_type": "execute_result"
    }
   ],
   "source": [
    "# Szótárkulcsok rendezése az értékek szerint.\n",
    "words = {'king': 203, 'denmark': 24, 'queen': 192}\n",
    "\n",
    "def rend_kulcs(kulcs):\n",
    "    return words[kulcs]\n",
    "\n",
    "sorted(words, key=rend_kulcs )"
   ]
  },
  {
   "cell_type": "markdown",
   "metadata": {},
   "source": [
    "## Feladat: \n",
    "Készítsünk függvényt, amely kiszámítja egy ferdén elhajított labda helyét tetszőleges időpontban.\n",
    "\n",
    "A labdát indítsuk egy 25 méter magas épület tetejéről, 20 m/s kezdősebességgel, amely a vízszintessel 35°-os szöget zár be.\n",
    "\n",
    "Hol lesz a labda 1.5 másodperc múlva? \n",
    "\n",
    "A függvényeket felhasználva gyűjtse ki a test hely adatait egy-egy listába. A kezdeti 0 időponttól, t_max másodpercig, adott dt lépésekkel. Az idő adatokat is tárolja el egy listában. \n",
    "\n",
    "Mikor érkezik meg a labda a talaj szintre? Milyen messze van ekkor vízszintes irányban a kiindulási helytől? \n",
    "\n",
    "Milyen magasra jutott a labda? "
   ]
  },
  {
   "cell_type": "code",
   "execution_count": null,
   "metadata": {},
   "outputs": [],
   "source": [
    "import math"
   ]
  },
  {
   "cell_type": "code",
   "execution_count": null,
   "metadata": {},
   "outputs": [],
   "source": [
    "# megadott adatok\n",
    "v0 = 20    # m/s  kezdősebesség nagysága\n",
    "alfa_deg = 35   # szög fokban\n",
    "alfa  = math.radians(alfa_deg)   # szög radiánban\n",
    "\n",
    "h = 25     # m kezdeti mgasság\n",
    "\n",
    "g = 9.81   # m/s^2\n",
    "\n",
    "t1 = 1.5 "
   ]
  },
  {
   "cell_type": "code",
   "execution_count": null,
   "metadata": {},
   "outputs": [
    {
     "name": "stdout",
     "output_type": "stream",
     "text": [
      "16.383040885779835 11.471528727020921\n"
     ]
    }
   ],
   "source": [
    "# kezdeti hely és sebesség\n",
    "x0 = 0.0\n",
    "y0 = 0.25\n",
    "vx0 = v0*math.cos(alfa)\n",
    "vy0 = v0*math.sin(alfa)\n",
    "print(vx0, vy0)"
   ]
  },
  {
   "cell_type": "code",
   "execution_count": null,
   "metadata": {},
   "outputs": [],
   "source": [
    "def x_irany(t):\n",
    "    return x0 + vx0 * t\n",
    "\n",
    "def y_irany(t):\n",
    "    return y0 + vy0 * t - g/2 *t**2"
   ]
  },
  {
   "cell_type": "code",
   "execution_count": null,
   "metadata": {},
   "outputs": [
    {
     "name": "stdout",
     "output_type": "stream",
     "text": [
      "x koordináta:  24.574561328669752\n",
      "y koordináta:  6.421043090531379\n"
     ]
    }
   ],
   "source": [
    "# hol vagyunk t1 = 1.5 s-nál?\n",
    "print(\"x koordináta: \", x_irany(t1) )\n",
    "print(\"y koordináta: \", y_irany(t1) )"
   ]
  },
  {
   "cell_type": "markdown",
   "metadata": {},
   "source": [
    "## Teknős grafika függvényekkel"
   ]
  },
  {
   "cell_type": "code",
   "execution_count": 18,
   "metadata": {},
   "outputs": [],
   "source": [
    "#import turtle"
   ]
  },
  {
   "cell_type": "code",
   "execution_count": 19,
   "metadata": {},
   "outputs": [
    {
     "name": "stdout",
     "output_type": "stream",
     "text": [
      "Requirement already satisfied: ColabTurtle in /home/domotor/anaconda3/envs/pylatest/lib/python3.9/site-packages (2.1.0)\n"
     ]
    }
   ],
   "source": [
    "!pip3 install ColabTurtle"
   ]
  },
  {
   "cell_type": "code",
   "execution_count": 20,
   "metadata": {},
   "outputs": [],
   "source": [
    "import ColabTurtle.Turtle as turtle"
   ]
  },
  {
   "cell_type": "code",
   "execution_count": null,
   "metadata": {},
   "outputs": [
    {
     "data": {
      "text/html": [
       "\n",
       "      <svg width=\"800\" height=\"500\">\n",
       "        <rect width=\"100%\" height=\"100%\" fill=\"rgb(1,1,1)\"/>\n",
       "        <line x1=\"400\" y1=\"250\" x2=\"400.0\" y2=\"50.0\" stroke-linecap=\"round\" style=\"stroke:red;stroke-width:4\"/><line x1=\"400.0\" y1=\"50.0\" x2=\"200.0\" y2=\"50.0\" stroke-linecap=\"round\" style=\"stroke:red;stroke-width:4\"/>\n",
       "        <g visibility=visible transform=\"rotate(270,100.0,50.0) translate(82.0, 32.0)\">\n",
       "<path style=\" stroke:none;fill-rule:evenodd;fill:red;fill-opacity:1;\" d=\"M 18.214844 0.632812 C 16.109375 1.800781 15.011719 4.074219 15.074219 7.132812 L 15.085938 7.652344 L 14.785156 7.496094 C 13.476562 6.824219 11.957031 6.671875 10.40625 7.066406 C 8.46875 7.550781 6.515625 9.15625 4.394531 11.992188 C 3.0625 13.777344 2.679688 14.636719 3.042969 15.027344 L 3.15625 15.152344 L 3.519531 15.152344 C 4.238281 15.152344 4.828125 14.886719 8.1875 13.039062 C 9.386719 12.378906 10.371094 11.839844 10.378906 11.839844 C 10.386719 11.839844 10.355469 11.929688 10.304688 12.035156 C 9.832031 13.09375 9.257812 14.820312 8.96875 16.078125 C 7.914062 20.652344 8.617188 24.53125 11.070312 27.660156 C 11.351562 28.015625 11.363281 27.914062 10.972656 28.382812 C 8.925781 30.84375 7.945312 33.28125 8.238281 35.1875 C 8.289062 35.527344 8.28125 35.523438 8.917969 35.523438 C 10.941406 35.523438 13.074219 34.207031 15.136719 31.6875 C 15.359375 31.417969 15.328125 31.425781 15.5625 31.574219 C 16.292969 32.042969 18.023438 32.964844 18.175781 32.964844 C 18.335938 32.964844 19.941406 32.210938 20.828125 31.71875 C 20.996094 31.625 21.136719 31.554688 21.136719 31.558594 C 21.203125 31.664062 21.898438 32.414062 22.222656 32.730469 C 23.835938 34.300781 25.5625 35.132812 27.582031 35.300781 C 27.90625 35.328125 27.9375 35.308594 28.007812 34.984375 C 28.382812 33.242188 27.625 30.925781 25.863281 28.425781 L 25.542969 27.96875 L 25.699219 27.785156 C 28.945312 23.960938 29.132812 18.699219 26.257812 11.96875 L 26.207031 11.84375 L 27.945312 12.703125 C 31.53125 14.476562 32.316406 14.800781 33.03125 14.800781 C 33.976562 14.800781 33.78125 13.9375 32.472656 12.292969 C 28.519531 7.355469 25.394531 5.925781 21.921875 7.472656 L 21.558594 7.636719 L 21.578125 7.542969 C 21.699219 6.992188 21.761719 5.742188 21.699219 5.164062 C 21.496094 3.296875 20.664062 1.964844 19.003906 0.855469 C 18.480469 0.503906 18.457031 0.5 18.214844 0.632812\"/>\n",
       "</g>\n",
       "      </svg>\n",
       "    "
      ],
      "text/plain": [
       "<IPython.core.display.HTML object>"
      ]
     },
     "metadata": {},
     "output_type": "display_data"
    }
   ],
   "source": [
    "## lássuk, hogyan működik a teknőc\n",
    "turtle.initializeTurtle(initial_speed = 3 )\n",
    "turtle.bgcolor(1,1,1)\n",
    "turtle.color(\"red\")   # red = piros színű a toll\n",
    "turtle.forward(200)   # forward = előre megyünk 200 pixelt\n",
    "turtle.left(90)       # left = balra fordulunk 90 fokot\n",
    "turtle.forward(200)   # forward = előre megyünk 200 pixelt\n",
    "\n",
    "turtle.penup()        # most felvesszük a tollat\n",
    "turtle.forward(100)   # forward = előre megyünk 100 pixelt\n",
    "turtle.pendown()      # és letesszük a tollat"
   ]
  },
  {
   "cell_type": "code",
   "execution_count": 22,
   "metadata": {},
   "outputs": [],
   "source": [
    "# írjunk függvényt ami megvalósít egy adott méretű továbbosonoást\n",
    "def oson(tavolsag):\n",
    "    turtle.penup()\n",
    "    turtle.forward(tavolsag)\n",
    "    turtle.pendown()"
   ]
  },
  {
   "cell_type": "code",
   "execution_count": 23,
   "metadata": {},
   "outputs": [],
   "source": [
    "# írjunk függvényt amely négyzetet rajzol adott színnel és mérettel\n",
    "def negyzet(meret : int, szin: str) -> None:\n",
    "    '''\n",
    "    adott meretü és színű négyzetet rajzol teknősgrafikával.\n",
    "    '''\n",
    "    turtle.color(szin)\n",
    "    for i in range(4):\n",
    "        turtle.forward(meret)\n",
    "        turtle.left(90)"
   ]
  },
  {
   "cell_type": "code",
   "execution_count": 24,
   "metadata": {},
   "outputs": [
    {
     "data": {
      "text/html": [
       "\n",
       "      <svg width=\"800\" height=\"500\">\n",
       "        <rect width=\"100%\" height=\"100%\" fill=\"black\"/>\n",
       "        <line x1=\"400\" y1=\"250\" x2=\"400.0\" y2=\"230.0\" stroke-linecap=\"round\" style=\"stroke:red;stroke-width:4\"/><line x1=\"400.0\" y1=\"230.0\" x2=\"380.0\" y2=\"230.0\" stroke-linecap=\"round\" style=\"stroke:red;stroke-width:4\"/><line x1=\"380.0\" y1=\"230.0\" x2=\"380.0\" y2=\"250.0\" stroke-linecap=\"round\" style=\"stroke:red;stroke-width:4\"/><line x1=\"380.0\" y1=\"250.0\" x2=\"400.0\" y2=\"250.0\" stroke-linecap=\"round\" style=\"stroke:red;stroke-width:4\"/><line x1=\"400.0\" y1=\"250.0\" x2=\"399.302\" y2=\"210.006\" stroke-linecap=\"round\" style=\"stroke:red;stroke-width:4\"/><line x1=\"399.302\" y1=\"210.006\" x2=\"359.308\" y2=\"210.704\" stroke-linecap=\"round\" style=\"stroke:red;stroke-width:4\"/><line x1=\"359.308\" y1=\"210.704\" x2=\"360.006\" y2=\"250.698\" stroke-linecap=\"round\" style=\"stroke:red;stroke-width:4\"/><line x1=\"360.006\" y1=\"250.698\" x2=\"400.0\" y2=\"250.0\" stroke-linecap=\"round\" style=\"stroke:red;stroke-width:4\"/><line x1=\"400.0\" y1=\"250.0\" x2=\"396.86\" y2=\"190.082\" stroke-linecap=\"round\" style=\"stroke:red;stroke-width:4\"/><line x1=\"396.86\" y1=\"190.082\" x2=\"336.942\" y2=\"193.222\" stroke-linecap=\"round\" style=\"stroke:red;stroke-width:4\"/><line x1=\"336.942\" y1=\"193.222\" x2=\"340.082\" y2=\"253.14\" stroke-linecap=\"round\" style=\"stroke:red;stroke-width:4\"/><line x1=\"340.082\" y1=\"253.14\" x2=\"400.0\" y2=\"250.0\" stroke-linecap=\"round\" style=\"stroke:red;stroke-width:4\"/><line x1=\"400.0\" y1=\"250.0\" x2=\"391.638\" y2=\"170.438\" stroke-linecap=\"round\" style=\"stroke:red;stroke-width:4\"/><line x1=\"391.638\" y1=\"170.438\" x2=\"312.076\" y2=\"178.8\" stroke-linecap=\"round\" style=\"stroke:red;stroke-width:4\"/><line x1=\"312.076\" y1=\"178.8\" x2=\"320.438\" y2=\"258.362\" stroke-linecap=\"round\" style=\"stroke:red;stroke-width:4\"/><line x1=\"320.438\" y1=\"258.362\" x2=\"400.0\" y2=\"250.0\" stroke-linecap=\"round\" style=\"stroke:red;stroke-width:4\"/><line x1=\"400.0\" y1=\"250.0\" x2=\"382.635\" y2=\"151.519\" stroke-linecap=\"round\" style=\"stroke:red;stroke-width:4\"/><line x1=\"382.635\" y1=\"151.519\" x2=\"284.154\" y2=\"168.884\" stroke-linecap=\"round\" style=\"stroke:red;stroke-width:4\"/><line x1=\"284.154\" y1=\"168.884\" x2=\"301.519\" y2=\"267.365\" stroke-linecap=\"round\" style=\"stroke:red;stroke-width:4\"/><line x1=\"301.519\" y1=\"267.365\" x2=\"400.0\" y2=\"250.0\" stroke-linecap=\"round\" style=\"stroke:red;stroke-width:4\"/><line x1=\"400.0\" y1=\"250.0\" x2=\"368.942\" y2=\"134.089\" stroke-linecap=\"round\" style=\"stroke:red;stroke-width:4\"/><line x1=\"368.942\" y1=\"134.089\" x2=\"253.031\" y2=\"165.147\" stroke-linecap=\"round\" style=\"stroke:red;stroke-width:4\"/><line x1=\"253.031\" y1=\"165.147\" x2=\"284.089\" y2=\"281.058\" stroke-linecap=\"round\" style=\"stroke:red;stroke-width:4\"/><line x1=\"284.089\" y1=\"281.058\" x2=\"400.0\" y2=\"250.0\" stroke-linecap=\"round\" style=\"stroke:red;stroke-width:4\"/><line x1=\"400.0\" y1=\"250.0\" x2=\"349.828\" y2=\"119.299\" stroke-linecap=\"round\" style=\"stroke:red;stroke-width:4\"/><line x1=\"349.828\" y1=\"119.299\" x2=\"219.127\" y2=\"169.471\" stroke-linecap=\"round\" style=\"stroke:red;stroke-width:4\"/><line x1=\"219.127\" y1=\"169.471\" x2=\"269.299\" y2=\"300.172\" stroke-linecap=\"round\" style=\"stroke:red;stroke-width:4\"/><line x1=\"269.299\" y1=\"300.172\" x2=\"400.0\" y2=\"250.0\" stroke-linecap=\"round\" style=\"stroke:red;stroke-width:4\"/><line x1=\"400.0\" y1=\"250.0\" x2=\"324.885\" y2=\"108.728\" stroke-linecap=\"round\" style=\"stroke:red;stroke-width:4\"/><line x1=\"324.885\" y1=\"108.728\" x2=\"183.613\" y2=\"183.843\" stroke-linecap=\"round\" style=\"stroke:red;stroke-width:4\"/><line x1=\"183.613\" y1=\"183.843\" x2=\"258.728\" y2=\"325.115\" stroke-linecap=\"round\" style=\"stroke:red;stroke-width:4\"/><line x1=\"258.728\" y1=\"325.115\" x2=\"400.0\" y2=\"250.0\" stroke-linecap=\"round\" style=\"stroke:red;stroke-width:4\"/><line x1=\"400.0\" y1=\"250.0\" x2=\"294.199\" y2=\"104.377\" stroke-linecap=\"round\" style=\"stroke:red;stroke-width:4\"/><line x1=\"294.199\" y1=\"104.377\" x2=\"148.576\" y2=\"210.178\" stroke-linecap=\"round\" style=\"stroke:red;stroke-width:4\"/><line x1=\"148.576\" y1=\"210.178\" x2=\"254.377\" y2=\"355.801\" stroke-linecap=\"round\" style=\"stroke:red;stroke-width:4\"/><line x1=\"254.377\" y1=\"355.801\" x2=\"400.0\" y2=\"250.0\" stroke-linecap=\"round\" style=\"stroke:red;stroke-width:4\"/><line x1=\"400.0\" y1=\"250.0\" x2=\"258.579\" y2=\"108.579\" stroke-linecap=\"round\" style=\"stroke:red;stroke-width:4\"/><line x1=\"258.579\" y1=\"108.579\" x2=\"117.158\" y2=\"250.0\" stroke-linecap=\"round\" style=\"stroke:red;stroke-width:4\"/><line x1=\"117.158\" y1=\"250.0\" x2=\"258.579\" y2=\"391.421\" stroke-linecap=\"round\" style=\"stroke:red;stroke-width:4\"/><line x1=\"258.579\" y1=\"391.421\" x2=\"400.0\" y2=\"250.0\" stroke-linecap=\"round\" style=\"stroke:red;stroke-width:4\"/>\n",
       "        <g visibility=visible transform=\"rotate(315,400.0,250.0) translate(382.0, 232.0)\">\n",
       "<path style=\" stroke:none;fill-rule:evenodd;fill:red;fill-opacity:1;\" d=\"M 18.214844 0.632812 C 16.109375 1.800781 15.011719 4.074219 15.074219 7.132812 L 15.085938 7.652344 L 14.785156 7.496094 C 13.476562 6.824219 11.957031 6.671875 10.40625 7.066406 C 8.46875 7.550781 6.515625 9.15625 4.394531 11.992188 C 3.0625 13.777344 2.679688 14.636719 3.042969 15.027344 L 3.15625 15.152344 L 3.519531 15.152344 C 4.238281 15.152344 4.828125 14.886719 8.1875 13.039062 C 9.386719 12.378906 10.371094 11.839844 10.378906 11.839844 C 10.386719 11.839844 10.355469 11.929688 10.304688 12.035156 C 9.832031 13.09375 9.257812 14.820312 8.96875 16.078125 C 7.914062 20.652344 8.617188 24.53125 11.070312 27.660156 C 11.351562 28.015625 11.363281 27.914062 10.972656 28.382812 C 8.925781 30.84375 7.945312 33.28125 8.238281 35.1875 C 8.289062 35.527344 8.28125 35.523438 8.917969 35.523438 C 10.941406 35.523438 13.074219 34.207031 15.136719 31.6875 C 15.359375 31.417969 15.328125 31.425781 15.5625 31.574219 C 16.292969 32.042969 18.023438 32.964844 18.175781 32.964844 C 18.335938 32.964844 19.941406 32.210938 20.828125 31.71875 C 20.996094 31.625 21.136719 31.554688 21.136719 31.558594 C 21.203125 31.664062 21.898438 32.414062 22.222656 32.730469 C 23.835938 34.300781 25.5625 35.132812 27.582031 35.300781 C 27.90625 35.328125 27.9375 35.308594 28.007812 34.984375 C 28.382812 33.242188 27.625 30.925781 25.863281 28.425781 L 25.542969 27.96875 L 25.699219 27.785156 C 28.945312 23.960938 29.132812 18.699219 26.257812 11.96875 L 26.207031 11.84375 L 27.945312 12.703125 C 31.53125 14.476562 32.316406 14.800781 33.03125 14.800781 C 33.976562 14.800781 33.78125 13.9375 32.472656 12.292969 C 28.519531 7.355469 25.394531 5.925781 21.921875 7.472656 L 21.558594 7.636719 L 21.578125 7.542969 C 21.699219 6.992188 21.761719 5.742188 21.699219 5.164062 C 21.496094 3.296875 20.664062 1.964844 19.003906 0.855469 C 18.480469 0.503906 18.457031 0.5 18.214844 0.632812\"/>\n",
       "</g>\n",
       "      </svg>\n",
       "    "
      ],
      "text/plain": [
       "<IPython.core.display.HTML object>"
      ]
     },
     "metadata": {},
     "output_type": "display_data"
    }
   ],
   "source": [
    "# játszunk el a függvényeinkkel! \n",
    "#Rajzoljunk több elfofgatott négyzetet. \n",
    "#Rajroljunk egymás mellé más-más színű négyzeteket!\n",
    "\n",
    "turtle.initializeTurtle(initial_speed=13)\n",
    "\n",
    "for i in range(10):\n",
    "    meret = (i+1)*20\n",
    "    turtle.left(i*1)\n",
    "    negyzet(meret,\"red\")"
   ]
  },
  {
   "cell_type": "code",
   "execution_count": 25,
   "metadata": {},
   "outputs": [],
   "source": [
    "# írjunk függvényt ami testzőleges szabályos sokszöget rajzol!\n",
    "def Nszog(N, meret, szin):\n",
    "    '''\n",
    "    N oldalú szabályos sokszöget rajzol meret oldalhosszal\n",
    "    '''\n",
    "    turtle.color(szin)\n",
    "    for i in range(N):\n",
    "        turtle.forward(meret)\n",
    "        turtle.left(360/N)"
   ]
  },
  {
   "cell_type": "code",
   "execution_count": 26,
   "metadata": {},
   "outputs": [
    {
     "data": {
      "text/html": [
       "\n",
       "      <svg width=\"800\" height=\"500\">\n",
       "        <rect width=\"100%\" height=\"100%\" fill=\"black\"/>\n",
       "        <line x1=\"400.0\" y1=\"250.0\" x2=\"400.0\" y2=\"230.0\" stroke-linecap=\"round\" style=\"stroke:red;stroke-width:4\"/><line x1=\"400.0\" y1=\"230.0\" x2=\"382.679\" y2=\"220.0\" stroke-linecap=\"round\" style=\"stroke:red;stroke-width:4\"/><line x1=\"382.679\" y1=\"220.0\" x2=\"365.358\" y2=\"230.0\" stroke-linecap=\"round\" style=\"stroke:red;stroke-width:4\"/><line x1=\"365.358\" y1=\"230.0\" x2=\"365.358\" y2=\"250.0\" stroke-linecap=\"round\" style=\"stroke:red;stroke-width:4\"/><line x1=\"365.358\" y1=\"250.0\" x2=\"382.679\" y2=\"260.0\" stroke-linecap=\"round\" style=\"stroke:red;stroke-width:4\"/><line x1=\"382.679\" y1=\"260.0\" x2=\"400.0\" y2=\"250.0\" stroke-linecap=\"round\" style=\"stroke:red;stroke-width:4\"/><line x1=\"400.436\" y1=\"254.981\" x2=\"396.95\" y2=\"215.133\" stroke-linecap=\"round\" style=\"stroke:green;stroke-width:4\"/><line x1=\"396.95\" y1=\"215.133\" x2=\"360.698\" y2=\"198.228\" stroke-linecap=\"round\" style=\"stroke:green;stroke-width:4\"/><line x1=\"360.698\" y1=\"198.228\" x2=\"327.932\" y2=\"221.171\" stroke-linecap=\"round\" style=\"stroke:green;stroke-width:4\"/><line x1=\"327.932\" y1=\"221.171\" x2=\"331.418\" y2=\"261.019\" stroke-linecap=\"round\" style=\"stroke:green;stroke-width:4\"/><line x1=\"331.418\" y1=\"261.019\" x2=\"367.67\" y2=\"277.924\" stroke-linecap=\"round\" style=\"stroke:green;stroke-width:4\"/><line x1=\"367.67\" y1=\"277.924\" x2=\"400.436\" y2=\"254.981\" stroke-linecap=\"round\" style=\"stroke:green;stroke-width:4\"/><line x1=\"403.024\" y1=\"264.64\" x2=\"387.495\" y2=\"206.684\" stroke-linecap=\"round\" style=\"stroke:violet;stroke-width:4\"/><line x1=\"387.495\" y1=\"206.684\" x2=\"329.539\" y2=\"191.155\" stroke-linecap=\"round\" style=\"stroke:violet;stroke-width:4\"/><line x1=\"329.539\" y1=\"191.155\" x2=\"287.113\" y2=\"233.581\" stroke-linecap=\"round\" style=\"stroke:violet;stroke-width:4\"/><line x1=\"287.113\" y1=\"233.581\" x2=\"302.642\" y2=\"291.537\" stroke-linecap=\"round\" style=\"stroke:violet;stroke-width:4\"/><line x1=\"302.642\" y1=\"291.537\" x2=\"360.598\" y2=\"307.066\" stroke-linecap=\"round\" style=\"stroke:violet;stroke-width:4\"/><line x1=\"360.598\" y1=\"307.066\" x2=\"403.024\" y2=\"264.64\" stroke-linecap=\"round\" style=\"stroke:violet;stroke-width:4\"/><line x1=\"410.524\" y1=\"277.63\" x2=\"370.524\" y2=\"208.348\" stroke-linecap=\"round\" style=\"stroke:orange;stroke-width:4\"/><line x1=\"370.524\" y1=\"208.348\" x2=\"290.524\" y2=\"208.348\" stroke-linecap=\"round\" style=\"stroke:orange;stroke-width:4\"/><line x1=\"290.524\" y1=\"208.348\" x2=\"250.524\" y2=\"277.63\" stroke-linecap=\"round\" style=\"stroke:orange;stroke-width:4\"/><line x1=\"250.524\" y1=\"277.63\" x2=\"290.524\" y2=\"346.912\" stroke-linecap=\"round\" style=\"stroke:orange;stroke-width:4\"/><line x1=\"290.524\" y1=\"346.912\" x2=\"370.524\" y2=\"346.912\" stroke-linecap=\"round\" style=\"stroke:orange;stroke-width:4\"/><line x1=\"370.524\" y1=\"346.912\" x2=\"410.524\" y2=\"277.63\" stroke-linecap=\"round\" style=\"stroke:orange;stroke-width:4\"/><line x1=\"425.845\" y1=\"290.486\" x2=\"349.241\" y2=\"226.207\" stroke-linecap=\"round\" style=\"stroke:blue;stroke-width:4\"/><line x1=\"349.241\" y1=\"226.207\" x2=\"255.272\" y2=\"260.409\" stroke-linecap=\"round\" style=\"stroke:blue;stroke-width:4\"/><line x1=\"255.272\" y1=\"260.409\" x2=\"237.907\" y2=\"358.89\" stroke-linecap=\"round\" style=\"stroke:blue;stroke-width:4\"/><line x1=\"237.907\" y1=\"358.89\" x2=\"314.511\" y2=\"423.169\" stroke-linecap=\"round\" style=\"stroke:blue;stroke-width:4\"/><line x1=\"314.511\" y1=\"423.169\" x2=\"408.48\" y2=\"388.967\" stroke-linecap=\"round\" style=\"stroke:blue;stroke-width:4\"/><line x1=\"408.48\" y1=\"388.967\" x2=\"425.845\" y2=\"290.486\" stroke-linecap=\"round\" style=\"stroke:blue;stroke-width:4\"/>\n",
       "        <g visibility=visible transform=\"rotate(310.0,425.845,290.486) translate(407.845, 272.486)\">\n",
       "<path style=\" stroke:none;fill-rule:evenodd;fill:blue;fill-opacity:1;\" d=\"M 18.214844 0.632812 C 16.109375 1.800781 15.011719 4.074219 15.074219 7.132812 L 15.085938 7.652344 L 14.785156 7.496094 C 13.476562 6.824219 11.957031 6.671875 10.40625 7.066406 C 8.46875 7.550781 6.515625 9.15625 4.394531 11.992188 C 3.0625 13.777344 2.679688 14.636719 3.042969 15.027344 L 3.15625 15.152344 L 3.519531 15.152344 C 4.238281 15.152344 4.828125 14.886719 8.1875 13.039062 C 9.386719 12.378906 10.371094 11.839844 10.378906 11.839844 C 10.386719 11.839844 10.355469 11.929688 10.304688 12.035156 C 9.832031 13.09375 9.257812 14.820312 8.96875 16.078125 C 7.914062 20.652344 8.617188 24.53125 11.070312 27.660156 C 11.351562 28.015625 11.363281 27.914062 10.972656 28.382812 C 8.925781 30.84375 7.945312 33.28125 8.238281 35.1875 C 8.289062 35.527344 8.28125 35.523438 8.917969 35.523438 C 10.941406 35.523438 13.074219 34.207031 15.136719 31.6875 C 15.359375 31.417969 15.328125 31.425781 15.5625 31.574219 C 16.292969 32.042969 18.023438 32.964844 18.175781 32.964844 C 18.335938 32.964844 19.941406 32.210938 20.828125 31.71875 C 20.996094 31.625 21.136719 31.554688 21.136719 31.558594 C 21.203125 31.664062 21.898438 32.414062 22.222656 32.730469 C 23.835938 34.300781 25.5625 35.132812 27.582031 35.300781 C 27.90625 35.328125 27.9375 35.308594 28.007812 34.984375 C 28.382812 33.242188 27.625 30.925781 25.863281 28.425781 L 25.542969 27.96875 L 25.699219 27.785156 C 28.945312 23.960938 29.132812 18.699219 26.257812 11.96875 L 26.207031 11.84375 L 27.945312 12.703125 C 31.53125 14.476562 32.316406 14.800781 33.03125 14.800781 C 33.976562 14.800781 33.78125 13.9375 32.472656 12.292969 C 28.519531 7.355469 25.394531 5.925781 21.921875 7.472656 L 21.558594 7.636719 L 21.578125 7.542969 C 21.699219 6.992188 21.761719 5.742188 21.699219 5.164062 C 21.496094 3.296875 20.664062 1.964844 19.003906 0.855469 C 18.480469 0.503906 18.457031 0.5 18.214844 0.632812\"/>\n",
       "</g>\n",
       "      </svg>\n",
       "    "
      ],
      "text/plain": [
       "<IPython.core.display.HTML object>"
      ]
     },
     "metadata": {},
     "output_type": "display_data"
    }
   ],
   "source": [
    "turtle.initializeTurtle(initial_speed=13)\n",
    "\n",
    "for i,szin in enumerate([\"red\",\"green\",\"violet\",\"orange\",\"blue\"]):\n",
    "    meret = (i+1)*20\n",
    "    turtle.left(i*5)\n",
    "    oson(-i*5)\n",
    "    Nszog(6,meret,szin)"
   ]
  },
  {
   "cell_type": "code",
   "execution_count": 27,
   "metadata": {},
   "outputs": [],
   "source": [
    "# rajzoljunk kisházat a meglévő sokszögek segítségével"
   ]
  },
  {
   "cell_type": "code",
   "execution_count": 28,
   "metadata": {},
   "outputs": [],
   "source": [
    "def haz(meret):\n",
    "    turtle.right(90)\n",
    "    # házikó fő része: egy négyzet\n",
    "    negyzet(meret, \"red\")\n",
    "    # felmegyünk a tető rajzolásához:\n",
    "    turtle.left(90)\n",
    "    oson(meret)\n",
    "    turtle.right(90)\n",
    "    # most jön a tető\n",
    "    Nszog(3, meret, \"blue\")\n",
    "    # elmegyünk az ablak helyére:\n",
    "    oson(meret*0.2)\n",
    "    turtle.right(90)\n",
    "    oson(meret*0.5)\n",
    "    turtle.left(90)\n",
    "    # most jön az ablak\n",
    "    negyzet(meret*0.3, \"green\")\n",
    "    # ... és vissza a kiindulópontra. Ha nem mennénk, összezavarodhatnánk!\n",
    "    turtle.right(90)\n",
    "    oson(meret*0.5)\n",
    "    turtle.right(90)\n",
    "    oson(meret*0.2)\n",
    "    turtle.right(180)"
   ]
  },
  {
   "cell_type": "code",
   "execution_count": 29,
   "metadata": {},
   "outputs": [
    {
     "data": {
      "text/html": [
       "\n",
       "      <svg width=\"800\" height=\"500\">\n",
       "        <rect width=\"100%\" height=\"100%\" fill=\"black\"/>\n",
       "        <line x1=\"400\" y1=\"250\" x2=\"500.0\" y2=\"250.0\" stroke-linecap=\"round\" style=\"stroke:red;stroke-width:4\"/><line x1=\"500.0\" y1=\"250.0\" x2=\"500.0\" y2=\"150.0\" stroke-linecap=\"round\" style=\"stroke:red;stroke-width:4\"/><line x1=\"500.0\" y1=\"150.0\" x2=\"400.0\" y2=\"150.0\" stroke-linecap=\"round\" style=\"stroke:red;stroke-width:4\"/><line x1=\"400.0\" y1=\"150.0\" x2=\"400.0\" y2=\"250.0\" stroke-linecap=\"round\" style=\"stroke:red;stroke-width:4\"/><line x1=\"400.0\" y1=\"150.0\" x2=\"500.0\" y2=\"150.0\" stroke-linecap=\"round\" style=\"stroke:blue;stroke-width:4\"/><line x1=\"500.0\" y1=\"150.0\" x2=\"450.0\" y2=\"63.397\" stroke-linecap=\"round\" style=\"stroke:blue;stroke-width:4\"/><line x1=\"450.0\" y1=\"63.397\" x2=\"400.0\" y2=\"150.0\" stroke-linecap=\"round\" style=\"stroke:blue;stroke-width:4\"/><line x1=\"420.0\" y1=\"200.0\" x2=\"450.0\" y2=\"200.0\" stroke-linecap=\"round\" style=\"stroke:green;stroke-width:4\"/><line x1=\"450.0\" y1=\"200.0\" x2=\"450.0\" y2=\"170.0\" stroke-linecap=\"round\" style=\"stroke:green;stroke-width:4\"/><line x1=\"450.0\" y1=\"170.0\" x2=\"420.0\" y2=\"170.0\" stroke-linecap=\"round\" style=\"stroke:green;stroke-width:4\"/><line x1=\"420.0\" y1=\"170.0\" x2=\"420.0\" y2=\"200.0\" stroke-linecap=\"round\" style=\"stroke:green;stroke-width:4\"/>\n",
       "        <g visibility=visible transform=\"rotate(90.0,400.0,250.0) translate(382.0, 232.0)\">\n",
       "<path style=\" stroke:none;fill-rule:evenodd;fill:green;fill-opacity:1;\" d=\"M 18.214844 0.632812 C 16.109375 1.800781 15.011719 4.074219 15.074219 7.132812 L 15.085938 7.652344 L 14.785156 7.496094 C 13.476562 6.824219 11.957031 6.671875 10.40625 7.066406 C 8.46875 7.550781 6.515625 9.15625 4.394531 11.992188 C 3.0625 13.777344 2.679688 14.636719 3.042969 15.027344 L 3.15625 15.152344 L 3.519531 15.152344 C 4.238281 15.152344 4.828125 14.886719 8.1875 13.039062 C 9.386719 12.378906 10.371094 11.839844 10.378906 11.839844 C 10.386719 11.839844 10.355469 11.929688 10.304688 12.035156 C 9.832031 13.09375 9.257812 14.820312 8.96875 16.078125 C 7.914062 20.652344 8.617188 24.53125 11.070312 27.660156 C 11.351562 28.015625 11.363281 27.914062 10.972656 28.382812 C 8.925781 30.84375 7.945312 33.28125 8.238281 35.1875 C 8.289062 35.527344 8.28125 35.523438 8.917969 35.523438 C 10.941406 35.523438 13.074219 34.207031 15.136719 31.6875 C 15.359375 31.417969 15.328125 31.425781 15.5625 31.574219 C 16.292969 32.042969 18.023438 32.964844 18.175781 32.964844 C 18.335938 32.964844 19.941406 32.210938 20.828125 31.71875 C 20.996094 31.625 21.136719 31.554688 21.136719 31.558594 C 21.203125 31.664062 21.898438 32.414062 22.222656 32.730469 C 23.835938 34.300781 25.5625 35.132812 27.582031 35.300781 C 27.90625 35.328125 27.9375 35.308594 28.007812 34.984375 C 28.382812 33.242188 27.625 30.925781 25.863281 28.425781 L 25.542969 27.96875 L 25.699219 27.785156 C 28.945312 23.960938 29.132812 18.699219 26.257812 11.96875 L 26.207031 11.84375 L 27.945312 12.703125 C 31.53125 14.476562 32.316406 14.800781 33.03125 14.800781 C 33.976562 14.800781 33.78125 13.9375 32.472656 12.292969 C 28.519531 7.355469 25.394531 5.925781 21.921875 7.472656 L 21.558594 7.636719 L 21.578125 7.542969 C 21.699219 6.992188 21.761719 5.742188 21.699219 5.164062 C 21.496094 3.296875 20.664062 1.964844 19.003906 0.855469 C 18.480469 0.503906 18.457031 0.5 18.214844 0.632812\"/>\n",
       "</g>\n",
       "      </svg>\n",
       "    "
      ],
      "text/plain": [
       "<IPython.core.display.HTML object>"
      ]
     },
     "metadata": {},
     "output_type": "display_data"
    }
   ],
   "source": [
    "turtle.initializeTurtle(initial_speed=13)\n",
    "\n",
    "haz(100)"
   ]
  },
  {
   "cell_type": "markdown",
   "metadata": {},
   "source": [
    "# Feladatok"
   ]
  },
  {
   "cell_type": "markdown",
   "metadata": {},
   "source": [
    "## 1.feladat Legnagyobb közös osztó\n",
    "Készítsünk függvényt két természetes szám legnagyobb közös osztójának a meghatározására!\n",
    "\n",
    "- Gondoljuk végigig, hogyan oldanánk ezt meg egyszerűen az oszthatóságot vizsgálva. \n",
    "\n",
    "- Majd ismerkedjünk meg egy hatékonyabb megoldással, az Eulideszi algoritmussal:\n",
    "https://hu.wikipedia.org/wiki/Legnagyobb_k%C3%B6z%C3%B6s_oszt%C3%B3\n",
    "\n",
    "- Nézzünk utána a beépített lehetőségeknek is. Például a ```math``` modulban\n"
   ]
  },
  {
   "cell_type": "markdown",
   "metadata": {},
   "source": []
  },
  {
   "cell_type": "markdown",
   "metadata": {},
   "source": [
    "## 2.feladat Legkisebbb közös többszörös\n",
    "Készítsünk függvényt két természetes szám legkisebb közös többszörösének a  meghatározására!"
   ]
  },
  {
   "cell_type": "markdown",
   "metadata": {},
   "source": []
  },
  {
   "cell_type": "markdown",
   "metadata": {},
   "source": [
    "## 3.Feladat: Háromszög oldalak bekérése\n",
    "Írjon egy programot, ami bekéri egy háromszög 3 oldalhosszát. (a,b,c)\n",
    "A program csak a valóban szerkeszthető háromszög oldalakat fogadja el.\n",
    "\n",
    "**Az ellenőrzést függvények segítségével végezze el!**\n",
    "\n",
    "Azaz ellenőrizze, hogy\n",
    "\n",
    " - lehetnek-e az adatok oldalhosszak? Azaz pozitívak-e a megadott számok?\n",
    " - továbbá teljesül-e a háromszög egyenlőtlenség? (Bármely két oldal összege nagyobb a harmadiknál.)\n",
    "\n",
    "Ha valamelyik feltétel sérül arról adjon visszajelzést!"
   ]
  },
  {
   "cell_type": "code",
   "execution_count": 30,
   "metadata": {},
   "outputs": [],
   "source": [
    "def is_positive(a,b,c):\n",
    "    \"True: ha mind a 3 oldal pozitív szám, különben False\"\n",
    "    pass\n",
    "\n",
    "def is_triangle(a,b,c):\n",
    "    \"True: ha teljesül a 3szögegyenlőtlenség, különben False\"\n",
    "    pass"
   ]
  },
  {
   "cell_type": "code",
   "execution_count": null,
   "metadata": {},
   "outputs": [],
   "source": []
  }
 ],
 "metadata": {
  "colab": {
   "collapsed_sections": [
    "gMViSTKbvzMX"
   ],
   "provenance": [
    {
     "file_id": "1rLWR1er38CLYwqe97MzQ4lLLMmd84wrT",
     "timestamp": 1683637866414
    }
   ]
  },
  "kernelspec": {
   "display_name": "pylatest",
   "language": "python",
   "name": "python3"
  },
  "language_info": {
   "codemirror_mode": {
    "name": "ipython",
    "version": 3
   },
   "file_extension": ".py",
   "mimetype": "text/x-python",
   "name": "python",
   "nbconvert_exporter": "python",
   "pygments_lexer": "ipython3",
   "version": "3.9.15"
  }
 },
 "nbformat": 4,
 "nbformat_minor": 4
}
