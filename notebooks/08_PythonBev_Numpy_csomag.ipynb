{
 "cells": [
  {
   "cell_type": "markdown",
   "metadata": {},
   "source": [
    "# 8. alkalom: Modulok és csomagok. Ismerkedés a numpy és a matplotlib csomag lehetőségeivel"
   ]
  },
  {
   "cell_type": "markdown",
   "metadata": {
    "id": "5r8IWopMoUEU"
   },
   "source": [
    "## Modulok és Csomagok néhány példával\n",
    "**Modul**: Python nyelvű fájl. [Modulok a dokumentációban](https://docs.python.org/3/tutorial/modules.html)\n",
    "- Definíciókat és utasításokat tartalmaz.\n",
    "- Ha a modulhoz az `xyz.py` fájl tartozik, akkor a modulra `xyz` néven lehet hivatkozni.\n",
    "- A modulok más Python programokból importálhatók.\n",
    "\n",
    "**Csomag**: Modulok gyűjteménye.  [Csomagok a dokumentációban](https://docs.python.org/3/tutorial/modules.html#packages)\n",
    "- Egy csomag alcsomagokat/almodulokat is tartalmazhat. A hierarchiát a csomagon belüli könyvtárszerkezet határozza meg.\n",
    "- A standard csomagok és modulok a standard könyvtárban találhatók, és nem igényelnek telepítést.\n",
    "- A külső csomagok gyűjtőhelye a PyPI (https://pypi.python.org/pypi)."
   ]
  },
  {
   "cell_type": "markdown",
   "metadata": {},
   "source": [
    "### Modul vagy csomag importálása, majd abból a szükséges függvény meghívása"
   ]
  },
  {
   "cell_type": "code",
   "execution_count": 1,
   "metadata": {
    "executionInfo": {
     "elapsed": 1322,
     "status": "ok",
     "timestamp": 1684851010179,
     "user": {
      "displayName": "Piroska Dömötör",
      "userId": "03696721308245428945"
     },
     "user_tz": -120
    },
    "id": "c99hHVrYoUEf"
   },
   "outputs": [],
   "source": [
    "## Modul/csomag importálása.\n",
    "import random"
   ]
  },
  {
   "cell_type": "code",
   "execution_count": 2,
   "metadata": {
    "colab": {
     "base_uri": "https://localhost:8080/"
    },
    "executionInfo": {
     "elapsed": 930,
     "status": "ok",
     "timestamp": 1684851018385,
     "user": {
      "displayName": "Piroska Dömötör",
      "userId": "03696721308245428945"
     },
     "user_tz": -120
    },
    "id": "-pMb_KR8oUEk",
    "outputId": "140b8c9d-f3c9-4466-8092-876e032aac7a"
   },
   "outputs": [
    {
     "data": {
      "text/plain": [
       "94"
      ]
     },
     "execution_count": 2,
     "metadata": {},
     "output_type": "execute_result"
    }
   ],
   "source": [
    "# A random egészet sorsoló függvény meghívása \n",
    "random.randint(1, 100)"
   ]
  },
  {
   "cell_type": "code",
   "execution_count": 3,
   "metadata": {},
   "outputs": [
    {
     "data": {
      "text/plain": [
       "'alma'"
      ]
     },
     "execution_count": 3,
     "metadata": {},
     "output_type": "execute_result"
    }
   ],
   "source": [
    "# de egy listából is vehetünk ki véletlenszerűen elemet\n",
    "l = [\"alma\", \"körte\",\"szilva\",\"málna\"]\n",
    "random.choice(l)"
   ]
  },
  {
   "cell_type": "markdown",
   "metadata": {},
   "source": [
    "### Csak a szükséges függvények importálása egy modulból/csomagból."
   ]
  },
  {
   "cell_type": "code",
   "execution_count": 4,
   "metadata": {
    "executionInfo": {
     "elapsed": 278,
     "status": "ok",
     "timestamp": 1684851070401,
     "user": {
      "displayName": "Piroska Dömötör",
      "userId": "03696721308245428945"
     },
     "user_tz": -120
    },
    "id": "kzyrEPmNoUEn"
   },
   "outputs": [],
   "source": [
    "## Egyetlen függvény importálása egy modulból/csomagból.\n",
    "from random import randint"
   ]
  },
  {
   "cell_type": "code",
   "execution_count": 5,
   "metadata": {
    "colab": {
     "base_uri": "https://localhost:8080/"
    },
    "executionInfo": {
     "elapsed": 318,
     "status": "ok",
     "timestamp": 1684851083205,
     "user": {
      "displayName": "Piroska Dömötör",
      "userId": "03696721308245428945"
     },
     "user_tz": -120
    },
    "id": "EFkrSDNfoUEp",
    "outputId": "27bba7d4-570e-404a-db0b-c7097e9177fb"
   },
   "outputs": [
    {
     "data": {
      "text/plain": [
       "15"
      ]
     },
     "execution_count": 5,
     "metadata": {},
     "output_type": "execute_result"
    }
   ],
   "source": [
    "# használjuk az importált függvényt!\n",
    "randint(10, 20)"
   ]
  },
  {
   "cell_type": "code",
   "execution_count": 6,
   "metadata": {},
   "outputs": [],
   "source": [
    "## Függvény(ek) importálása almodulból/alcsomagból.\n",
    "from os.path import dirname, split"
   ]
  },
  {
   "cell_type": "code",
   "execution_count": 7,
   "metadata": {},
   "outputs": [
    {
     "data": {
      "text/plain": [
       "('/tmp/pistike', 'a.txt')"
      ]
     },
     "execution_count": 7,
     "metadata": {},
     "output_type": "execute_result"
    }
   ],
   "source": [
    "# nézzünk utána a függvényeknek és használjuk őket\n",
    "dirname('/tmp/pistike/a.txt')\n",
    "split('/tmp/pistike/a.txt')"
   ]
  },
  {
   "cell_type": "markdown",
   "metadata": {},
   "source": [
    "### Modul/csomag teljes tartalmának importálása \n",
    "**Megjegyzés:** Ez a megoldás általában kerülendő. Keveredhetnek a függvény nevek. "
   ]
  },
  {
   "cell_type": "code",
   "execution_count": 8,
   "metadata": {
    "id": "sMkjvsOqoUEq"
   },
   "outputs": [],
   "source": [
    "# from random import *"
   ]
  },
  {
   "cell_type": "markdown",
   "metadata": {},
   "source": [
    "### Modul vagy csomag importálása rövid néven\n",
    "\n",
    "Tipikus rövid nevek:\n",
    "- random - rd\n",
    "- math - m\n",
    "- numpy - np\n",
    "- pandas - pd\n"
   ]
  },
  {
   "cell_type": "code",
   "execution_count": 9,
   "metadata": {
    "executionInfo": {
     "elapsed": 321,
     "status": "ok",
     "timestamp": 1684851229953,
     "user": {
      "displayName": "Piroska Dömötör",
      "userId": "03696721308245428945"
     },
     "user_tz": -120
    },
    "id": "6y9hRvUV9SDv"
   },
   "outputs": [],
   "source": [
    "## rövidítve könnyebb rá hívatkozni (vannak tipikus rövidítések!) \n",
    "import random as rd"
   ]
  },
  {
   "cell_type": "code",
   "execution_count": 10,
   "metadata": {
    "colab": {
     "base_uri": "https://localhost:8080/"
    },
    "executionInfo": {
     "elapsed": 422,
     "status": "ok",
     "timestamp": 1684851251455,
     "user": {
      "displayName": "Piroska Dömötör",
      "userId": "03696721308245428945"
     },
     "user_tz": -120
    },
    "id": "CqvwpBsD9aE7",
    "outputId": "7f700c39-c0e8-4fb2-d821-04dae97e3a37"
   },
   "outputs": [
    {
     "data": {
      "text/plain": [
       "3"
      ]
     },
     "execution_count": 10,
     "metadata": {},
     "output_type": "execute_result"
    }
   ],
   "source": [
    "# A random egészet sorsoló függvény meghívása \n",
    "rd.randint(0,10)"
   ]
  },
  {
   "cell_type": "markdown",
   "metadata": {
    "id": "3sRiEYDgofcu"
   },
   "source": [
    "## Megjegyzés: listák másolásáról\n",
    " - [Másolás - copy csomag a dokumentációban ](https://docs.python.org/3/library/copy.html)\n",
    "- Sekély (shallow) és mély (deep) másoló függvényt tartalmaz."
   ]
  },
  {
   "cell_type": "markdown",
   "metadata": {},
   "source": [
    "b = a értékadás számokkal"
   ]
  },
  {
   "cell_type": "code",
   "execution_count": 11,
   "metadata": {},
   "outputs": [
    {
     "name": "stdout",
     "output_type": "stream",
     "text": [
      "a =  2 ;\tb =  2\n",
      "a =  3 ;\tb =  2\n"
     ]
    }
   ],
   "source": [
    "## Valódi érték másolás történik\n",
    "a = 2\n",
    "b = a\n",
    "print(\"a = \", a, \";\\tb = \", b)\n",
    "a = 3\n",
    "print(\"a = \", a, \";\\tb = \", b)"
   ]
  },
  {
   "cell_type": "markdown",
   "metadata": {},
   "source": [
    "b = a értékadás listákkal \n",
    "- NEM végez másolást\n",
    "- csak hívatkozást hoz létre"
   ]
  },
  {
   "cell_type": "code",
   "execution_count": 12,
   "metadata": {
    "colab": {
     "base_uri": "https://localhost:8080/"
    },
    "executionInfo": {
     "elapsed": 316,
     "status": "ok",
     "timestamp": 1684851715014,
     "user": {
      "displayName": "Piroska Dömötör",
      "userId": "03696721308245428945"
     },
     "user_tz": -120
    },
    "id": "sRcjUzxjqGlB",
    "outputId": "726ee393-9596-40eb-caa1-43875e2443f5"
   },
   "outputs": [
    {
     "name": "stdout",
     "output_type": "stream",
     "text": [
      "a =  [1, 2, 3] ;\tb =  [1, 2, 3]\n",
      "a =  [2, 2, 3] ;\tb =  [2, 2, 3]\n"
     ]
    }
   ],
   "source": [
    "# Csak memória helyre való hívatkozás másolás történik\n",
    "a = [1, 2, 3]\n",
    "b = a\n",
    "print(\"a = \", a, \";\\tb = \", b)\n",
    "b[0] = 2\n",
    "print(\"a = \", a, \";\\tb = \", b)"
   ]
  },
  {
   "cell_type": "markdown",
   "metadata": {},
   "source": [
    "Ha független másolatot szeretnénk ahhoz kell a copy csomag"
   ]
  },
  {
   "cell_type": "code",
   "execution_count": 13,
   "metadata": {
    "executionInfo": {
     "elapsed": 310,
     "status": "ok",
     "timestamp": 1684851759863,
     "user": {
      "displayName": "Piroska Dömötör",
      "userId": "03696721308245428945"
     },
     "user_tz": -120
    },
    "id": "Agz9qisTp1UW"
   },
   "outputs": [],
   "source": [
    "import copy as cp"
   ]
  },
  {
   "cell_type": "code",
   "execution_count": 14,
   "metadata": {},
   "outputs": [],
   "source": [
    "## síma lista\n",
    "a = [1, 2, 3]"
   ]
  },
  {
   "cell_type": "code",
   "execution_count": 15,
   "metadata": {
    "colab": {
     "base_uri": "https://localhost:8080/"
    },
    "executionInfo": {
     "elapsed": 411,
     "status": "ok",
     "timestamp": 1684851837893,
     "user": {
      "displayName": "Piroska Dömötör",
      "userId": "03696721308245428945"
     },
     "user_tz": -120
    },
    "id": "uWygkp_zqPJz",
    "outputId": "efc5ae2d-cfe7-43e3-e1b6-05cdab291dd6"
   },
   "outputs": [
    {
     "name": "stdout",
     "output_type": "stream",
     "text": [
      "a =  [1, 2, 3] ;\tb =  [1, 2, 3]\n",
      "a =  [1, 2, 10] ;\tb =  [2, 2, 3]\n"
     ]
    }
   ],
   "source": [
    "# Sekély másolat készítése.\n",
    "b = cp.copy(a)\n",
    "print(\"a = \", a, \";\\tb = \", b)\n",
    "b[0] = 2\n",
    "a[-1] =10\n",
    "print(\"a = \", a, \";\\tb = \", b)"
   ]
  },
  {
   "cell_type": "code",
   "execution_count": 16,
   "metadata": {},
   "outputs": [],
   "source": [
    "## listák listája\n",
    "a = [[1], [2], [2]]"
   ]
  },
  {
   "cell_type": "code",
   "execution_count": 17,
   "metadata": {
    "executionInfo": {
     "elapsed": 314,
     "status": "ok",
     "timestamp": 1684851914590,
     "user": {
      "displayName": "Piroska Dömötör",
      "userId": "03696721308245428945"
     },
     "user_tz": -120
    },
    "id": "vG66T6oUqUVX"
   },
   "outputs": [
    {
     "name": "stdout",
     "output_type": "stream",
     "text": [
      "a =  [[1], [2], [2]] ;\tb =  [[1], [2], [2]]\n"
     ]
    }
   ],
   "source": [
    "# Sekély másolat készítése egy listák listája objektumról.\n",
    "b = cp.copy(a)\n",
    "print(\"a = \", a, \";\\tb = \", b)"
   ]
  },
  {
   "cell_type": "code",
   "execution_count": 18,
   "metadata": {
    "colab": {
     "base_uri": "https://localhost:8080/"
    },
    "executionInfo": {
     "elapsed": 290,
     "status": "ok",
     "timestamp": 1684851933367,
     "user": {
      "displayName": "Piroska Dömötör",
      "userId": "03696721308245428945"
     },
     "user_tz": -120
    },
    "id": "I8Tef0QIqVvd",
    "outputId": "9653e78e-0859-4837-9ce0-b767d7d35e43"
   },
   "outputs": [
    {
     "name": "stdout",
     "output_type": "stream",
     "text": [
      "a =  [[10], [2], [2]] ;\tb =  [[10], [2], [2]]\n"
     ]
    }
   ],
   "source": [
    "# A cp.copy() csak az adatszerkezet legfelső szintjén végez másolást.\n",
    "b[0][0] = 10\n",
    "print(\"a = \", a, \";\\tb = \", b)"
   ]
  },
  {
   "cell_type": "code",
   "execution_count": 19,
   "metadata": {
    "colab": {
     "base_uri": "https://localhost:8080/"
    },
    "executionInfo": {
     "elapsed": 1235,
     "status": "ok",
     "timestamp": 1684851976239,
     "user": {
      "displayName": "Piroska Dömötör",
      "userId": "03696721308245428945"
     },
     "user_tz": -120
    },
    "id": "6B1bOeSwqW27",
    "outputId": "2a4acd71-f2a0-4970-c2c2-fbf7511e4f4a"
   },
   "outputs": [
    {
     "name": "stdout",
     "output_type": "stream",
     "text": [
      "a =  [[1], [2], [3]] ;\tb =  [[10], [2], [3]]\n"
     ]
    }
   ],
   "source": [
    "# Mély másolat készítése egy listák listája objektumról.\n",
    "a = [[1], [2], [3]]\n",
    "b = cp.deepcopy(a)\n",
    "b[0][0] = 10\n",
    "print(\"a = \", a, \";\\tb = \", b)"
   ]
  },
  {
   "cell_type": "markdown",
   "metadata": {
    "id": "A6QmgPGXbftA"
   },
   "source": [
    "## NumPy csomag\n",
    "\n",
    "A [NumPy](http://www.numpy.org/) egy alacsony szintű matematikai csomag, numerikus számításokhoz.\n",
    "\n",
    "- Alapvető adatszerkezete az [n dimenziós tömb](https://docs.scipy.org/doc/numpy/reference/arrays.ndarray.html).  Így praktikus vektorokkal való számolásoknál. \n",
    "- C nyelven íródott. A szokásos tömbműveletek hatékonyan vannak benne megvalósítva.\n",
    "- Többek között tartalmaz lineáris algebrai és véletlenszám generáló almodult.\n",
    "- Számos magasabb szintű csomag (pl. scipy, matplotlib, pandas, scikit-learn) épül rá.\n",
    "\n",
    "A NumPy külső csomag. A Colab felületén ez is elérhető. \n",
    "\n",
    "De a saját gépünkön szükség van telepítésére. Többféle lehetőség van, például:\n",
    "- `pip install numpy --user`\n",
    "- `sudo apt-get install python3-numpy`\n",
    "- `conda install numpy`"
   ]
  },
  {
   "cell_type": "code",
   "execution_count": null,
   "metadata": {
    "executionInfo": {
     "elapsed": 312,
     "status": "ok",
     "timestamp": 1684852141513,
     "user": {
      "displayName": "Piroska Dömötör",
      "userId": "03696721308245428945"
     },
     "user_tz": -120
    },
    "id": "67QTtTvcbftI"
   },
   "outputs": [],
   "source": [
    "## A NumPy modul importálása np néven.\n",
    "import numpy as np"
   ]
  },
  {
   "cell_type": "code",
   "execution_count": 21,
   "metadata": {
    "colab": {
     "base_uri": "https://localhost:8080/",
     "height": 35
    },
    "executionInfo": {
     "elapsed": 337,
     "status": "ok",
     "timestamp": 1684852208083,
     "user": {
      "displayName": "Piroska Dömötör",
      "userId": "03696721308245428945"
     },
     "user_tz": -120
    },
    "id": "Td8fceMBbftM",
    "outputId": "2f59792a-c42d-47ee-f29e-2f5457f7d83d"
   },
   "outputs": [
    {
     "data": {
      "text/plain": [
       "'1.23.4'"
      ]
     },
     "execution_count": 21,
     "metadata": {},
     "output_type": "execute_result"
    }
   ],
   "source": [
    "# Verzió lekérdezése.\n",
    "np.__version__"
   ]
  },
  {
   "cell_type": "markdown",
   "metadata": {
    "id": "Cdv1V9EGgFYH"
   },
   "source": [
    "### Állandók és függvények (mint a math csomagban)"
   ]
  },
  {
   "cell_type": "code",
   "execution_count": 22,
   "metadata": {
    "colab": {
     "base_uri": "https://localhost:8080/"
    },
    "executionInfo": {
     "elapsed": 671,
     "status": "ok",
     "timestamp": 1684852239556,
     "user": {
      "displayName": "Piroska Dömötör",
      "userId": "03696721308245428945"
     },
     "user_tz": -120
    },
    "id": "aJ5_H-fxhfLr",
    "outputId": "e5c58c27-2095-4978-da1d-d887ad2b73f6"
   },
   "outputs": [
    {
     "data": {
      "text/plain": [
       "(3.141592653589793, 2.718281828459045)"
      ]
     },
     "execution_count": 22,
     "metadata": {},
     "output_type": "execute_result"
    }
   ],
   "source": [
    "## Megvan a pi és az e állandó sok tizedes jegyre:  \n",
    "np.pi, np.e"
   ]
  },
  {
   "cell_type": "code",
   "execution_count": 23,
   "metadata": {
    "colab": {
     "base_uri": "https://localhost:8080/"
    },
    "executionInfo": {
     "elapsed": 262,
     "status": "ok",
     "timestamp": 1684852274893,
     "user": {
      "displayName": "Piroska Dömötör",
      "userId": "03696721308245428945"
     },
     "user_tz": -120
    },
    "id": "WADluXAMh6_M",
    "outputId": "390d6417-45c8-4d3c-8bf3-3d69cfbbc77c"
   },
   "outputs": [
    {
     "data": {
      "text/plain": [
       "0.7071067811865476"
      ]
     },
     "execution_count": 23,
     "metadata": {},
     "output_type": "execute_result"
    }
   ],
   "source": [
    "## cos(x) sin(x) trigonometrikus függvények\n",
    "np.cos(np.pi/4)"
   ]
  },
  {
   "cell_type": "code",
   "execution_count": 24,
   "metadata": {
    "colab": {
     "base_uri": "https://localhost:8080/"
    },
    "executionInfo": {
     "elapsed": 315,
     "status": "ok",
     "timestamp": 1684852313545,
     "user": {
      "displayName": "Piroska Dömötör",
      "userId": "03696721308245428945"
     },
     "user_tz": -120
    },
    "id": "nqfAahPMiD4R",
    "outputId": "38d2a253-fb3c-49fc-b55f-9af73350bc93"
   },
   "outputs": [
    {
     "data": {
      "text/plain": [
       "1.7320508075688772"
      ]
     },
     "execution_count": 24,
     "metadata": {},
     "output_type": "execute_result"
    }
   ],
   "source": [
    "## sqrt(x) gyökvonás    \n",
    "np.sqrt(3)"
   ]
  },
  {
   "cell_type": "code",
   "execution_count": 25,
   "metadata": {
    "colab": {
     "base_uri": "https://localhost:8080/"
    },
    "executionInfo": {
     "elapsed": 314,
     "status": "ok",
     "timestamp": 1684852391470,
     "user": {
      "displayName": "Piroska Dömötör",
      "userId": "03696721308245428945"
     },
     "user_tz": -120
    },
    "id": "zrtLKUlzhHsa",
    "outputId": "75e6213a-c401-4bee-b0ff-394718173118"
   },
   "outputs": [
    {
     "data": {
      "text/plain": [
       "6"
      ]
     },
     "execution_count": 25,
     "metadata": {},
     "output_type": "execute_result"
    }
   ],
   "source": [
    "## Van beépített függvény legnagyobb közös osztóra\n",
    "# greatest common divisor --> gcd() \n",
    "\n",
    "np.gcd(60,18)"
   ]
  },
  {
   "cell_type": "markdown",
   "metadata": {
    "id": "biV8W8EXbftO"
   },
   "source": [
    "### Tömbök létrehozása"
   ]
  },
  {
   "cell_type": "markdown",
   "metadata": {},
   "source": [
    "#### Példa: egész számokból álló tömb létrehozása"
   ]
  },
  {
   "cell_type": "code",
   "execution_count": 26,
   "metadata": {
    "executionInfo": {
     "elapsed": 312,
     "status": "ok",
     "timestamp": 1684852534730,
     "user": {
      "displayName": "Piroska Dömötör",
      "userId": "03696721308245428945"
     },
     "user_tz": -120
    },
    "id": "9o6_9rz_bftP"
   },
   "outputs": [],
   "source": [
    "# egész számokból álló 1 x 3 méretű tömb - SORVEKTOR\n",
    "a = np.array([2, 3, 4])"
   ]
  },
  {
   "cell_type": "code",
   "execution_count": 27,
   "metadata": {
    "colab": {
     "base_uri": "https://localhost:8080/"
    },
    "executionInfo": {
     "elapsed": 310,
     "status": "ok",
     "timestamp": 1684852558077,
     "user": {
      "displayName": "Piroska Dömötör",
      "userId": "03696721308245428945"
     },
     "user_tz": -120
    },
    "id": "IWu-5cvtCZqX",
    "outputId": "71798645-54aa-406a-8a86-6d8b5527d0d8"
   },
   "outputs": [
    {
     "name": "stdout",
     "output_type": "stream",
     "text": [
      "[2 3 4]\n"
     ]
    }
   ],
   "source": [
    "print(a)"
   ]
  },
  {
   "cell_type": "code",
   "execution_count": 28,
   "metadata": {
    "colab": {
     "base_uri": "https://localhost:8080/"
    },
    "executionInfo": {
     "elapsed": 319,
     "status": "ok",
     "timestamp": 1684852582666,
     "user": {
      "displayName": "Piroska Dömötör",
      "userId": "03696721308245428945"
     },
     "user_tz": -120
    },
    "id": "DtqBpL_tbftQ",
    "outputId": "5daf5b3f-8373-4583-bda2-2d081e73676b"
   },
   "outputs": [
    {
     "data": {
      "text/plain": [
       "numpy.ndarray"
      ]
     },
     "execution_count": 28,
     "metadata": {},
     "output_type": "execute_result"
    }
   ],
   "source": [
    "# A tömb objektum típusa.\n",
    "type(a)"
   ]
  },
  {
   "cell_type": "code",
   "execution_count": 29,
   "metadata": {},
   "outputs": [
    {
     "name": "stdout",
     "output_type": "stream",
     "text": [
      "[2 3 5]\n"
     ]
    }
   ],
   "source": [
    "# a tömb elemei módosíthatóak\n",
    "a[2] = 5\n",
    "print(a)"
   ]
  },
  {
   "cell_type": "markdown",
   "metadata": {},
   "source": [
    "#### Tömb jellemzők lekérdezése\n",
    "dimenzió (ndim), méret (shape), összes elem (size), adattípus (dtype)"
   ]
  },
  {
   "cell_type": "code",
   "execution_count": 30,
   "metadata": {
    "colab": {
     "base_uri": "https://localhost:8080/"
    },
    "executionInfo": {
     "elapsed": 1001,
     "status": "ok",
     "timestamp": 1684852601090,
     "user": {
      "displayName": "Piroska Dömötör",
      "userId": "03696721308245428945"
     },
     "user_tz": -120
    },
    "id": "D9XRqxmnbftR",
    "outputId": "7e7b3244-0f5b-4e54-f2a0-1660e71b954a"
   },
   "outputs": [
    {
     "data": {
      "text/plain": [
       "1"
      ]
     },
     "execution_count": 30,
     "metadata": {},
     "output_type": "execute_result"
    }
   ],
   "source": [
    "# Hány dimenziós a tömb?\n",
    "a.ndim"
   ]
  },
  {
   "cell_type": "code",
   "execution_count": 31,
   "metadata": {
    "colab": {
     "base_uri": "https://localhost:8080/"
    },
    "executionInfo": {
     "elapsed": 9,
     "status": "ok",
     "timestamp": 1684852624637,
     "user": {
      "displayName": "Piroska Dömötör",
      "userId": "03696721308245428945"
     },
     "user_tz": -120
    },
    "id": "Yxefq_EUbftR",
    "outputId": "d3fad82e-92d4-4984-ee1f-05e4d09ecace"
   },
   "outputs": [
    {
     "data": {
      "text/plain": [
       "(3,)"
      ]
     },
     "execution_count": 31,
     "metadata": {},
     "output_type": "execute_result"
    }
   ],
   "source": [
    "# A tömb alakja/mérete.\n",
    "a.shape"
   ]
  },
  {
   "cell_type": "code",
   "execution_count": 32,
   "metadata": {
    "colab": {
     "base_uri": "https://localhost:8080/"
    },
    "executionInfo": {
     "elapsed": 331,
     "status": "ok",
     "timestamp": 1684852643795,
     "user": {
      "displayName": "Piroska Dömötör",
      "userId": "03696721308245428945"
     },
     "user_tz": -120
    },
    "id": "FT9CaoE_CwIL",
    "outputId": "58df95b4-8002-4a8d-c7e3-a62a2d1747fb"
   },
   "outputs": [
    {
     "data": {
      "text/plain": [
       "3"
      ]
     },
     "execution_count": 32,
     "metadata": {},
     "output_type": "execute_result"
    }
   ],
   "source": [
    "len(a)"
   ]
  },
  {
   "cell_type": "code",
   "execution_count": 33,
   "metadata": {},
   "outputs": [
    {
     "data": {
      "text/plain": [
       "3"
      ]
     },
     "execution_count": 33,
     "metadata": {},
     "output_type": "execute_result"
    }
   ],
   "source": [
    "# összes elem \n",
    "a.size"
   ]
  },
  {
   "cell_type": "code",
   "execution_count": 34,
   "metadata": {
    "colab": {
     "base_uri": "https://localhost:8080/"
    },
    "executionInfo": {
     "elapsed": 316,
     "status": "ok",
     "timestamp": 1684852692016,
     "user": {
      "displayName": "Piroska Dömötör",
      "userId": "03696721308245428945"
     },
     "user_tz": -120
    },
    "id": "l9zKXhQqbftS",
    "outputId": "0acabc97-5847-46e9-cb45-8bb14358f802"
   },
   "outputs": [
    {
     "data": {
      "text/plain": [
       "dtype('int64')"
      ]
     },
     "execution_count": 34,
     "metadata": {},
     "output_type": "execute_result"
    }
   ],
   "source": [
    "# Az elemek típusának lekérdezése.\n",
    "# A NumPy tömbök homogének, azaz egyféle adatok vannak benne\n",
    "a.dtype"
   ]
  },
  {
   "cell_type": "markdown",
   "metadata": {},
   "source": [
    "**Feladat**: Hozzunk létre egy 2 x 3-as tömböt, valós számokkal\n",
    "\n",
    "Kérdezzük le a dimenziók számát, a tömb méretét, az elemek számát, az elemek típusát!\n"
   ]
  },
  {
   "cell_type": "code",
   "execution_count": 35,
   "metadata": {
    "executionInfo": {
     "elapsed": 308,
     "status": "ok",
     "timestamp": 1684852878177,
     "user": {
      "displayName": "Piroska Dömötör",
      "userId": "03696721308245428945"
     },
     "user_tz": -120
    },
    "id": "Szwn9H0ybftS"
   },
   "outputs": [],
   "source": [
    "# Hozzunk létre egy 2 x 3-as tömböt, valós számokkal\n",
    "b = np.array( [ [ 0.1, 0.2  , 4.5 ],\n",
    "                [4.44, 5.12 , np.pi]  ]  )"
   ]
  },
  {
   "cell_type": "code",
   "execution_count": 36,
   "metadata": {
    "colab": {
     "base_uri": "https://localhost:8080/"
    },
    "executionInfo": {
     "elapsed": 311,
     "status": "ok",
     "timestamp": 1684852886577,
     "user": {
      "displayName": "Piroska Dömötör",
      "userId": "03696721308245428945"
     },
     "user_tz": -120
    },
    "id": "4yX0UBDaDfCc",
    "outputId": "b3f48371-e3e8-4fd1-f161-6deb87a55601"
   },
   "outputs": [
    {
     "name": "stdout",
     "output_type": "stream",
     "text": [
      "[[0.1        0.2        4.5       ]\n",
      " [4.44       5.12       3.14159265]]\n"
     ]
    }
   ],
   "source": [
    "print(b)"
   ]
  },
  {
   "cell_type": "code",
   "execution_count": 37,
   "metadata": {
    "colab": {
     "base_uri": "https://localhost:8080/"
    },
    "executionInfo": {
     "elapsed": 390,
     "status": "ok",
     "timestamp": 1684852907778,
     "user": {
      "displayName": "Piroska Dömötör",
      "userId": "03696721308245428945"
     },
     "user_tz": -120
    },
    "id": "6ti6HUpFbftT",
    "outputId": "9b28b3c7-e79b-4b01-cf0c-6c0692653339"
   },
   "outputs": [
    {
     "data": {
      "text/plain": [
       "(2, 6, (2, 3), 2, dtype('float64'))"
      ]
     },
     "execution_count": 37,
     "metadata": {},
     "output_type": "execute_result"
    }
   ],
   "source": [
    "# Dimenziók száma, mérete, az elemek típusa.\n",
    "b.ndim, b.size, b.shape, len(b), b.dtype"
   ]
  },
  {
   "cell_type": "markdown",
   "metadata": {},
   "source": [
    "#### További módszerek tömb létrehozásra\n",
    "`genfromtxt()`; `zeros()`; `ones()`; `arange()`; `concatenate()`"
   ]
  },
  {
   "cell_type": "code",
   "execution_count": 38,
   "metadata": {},
   "outputs": [],
   "source": [
    "## készítsünk  egy \"matrix.txt\" nevű fájlt \n",
    "## 2 sorban 3 egész szám szóközzel elválasztva"
   ]
  },
  {
   "cell_type": "code",
   "execution_count": 39,
   "metadata": {},
   "outputs": [
    {
     "name": "stdout",
     "output_type": "stream",
     "text": [
      "--2024-11-27 14:40:38--  https://raw.githubusercontent.com/zoldbirka/colab-test-pub/master/_files/matrix.txt\n",
      "raw.githubusercontent.com (raw.githubusercontent.com) feloldása… 185.199.110.133, 185.199.111.133, 185.199.108.133, ...\n",
      "Csatlakozás a következőhöz: raw.githubusercontent.com (raw.githubusercontent.com)[185.199.110.133]:443… kapcsolódva.\n",
      "HTTP kérés elküldve, várakozás válaszra… 200 OK\n",
      "Hossz: 210 [text/plain]\n",
      "Mentés ide: „matrix.txt.1”\n",
      "\n",
      "matrix.txt.1        100%[===================>]     210  --.-KB/s    idő 0s     \n",
      "\n",
      "2024-11-27 14:40:47 (2,04 MB/s) -- „matrix.txt.1” mentve [210/210]\n",
      "\n"
     ]
    }
   ],
   "source": [
    "## Innen le is tölthetünk egyet (Colabban / Linuxos gépen működik)\n",
    "!wget https://raw.githubusercontent.com/zoldbirka/colab-test-pub/master/_files/matrix.txt"
   ]
  },
  {
   "cell_type": "code",
   "execution_count": 40,
   "metadata": {
    "colab": {
     "base_uri": "https://localhost:8080/"
    },
    "executionInfo": {
     "elapsed": 322,
     "status": "ok",
     "timestamp": 1684853117905,
     "user": {
      "displayName": "Piroska Dömötör",
      "userId": "03696721308245428945"
     },
     "user_tz": -120
    },
    "id": "-mCLg7BXbftV",
    "outputId": "7ad66754-8bab-49a0-c10a-9efa248cef55"
   },
   "outputs": [
    {
     "data": {
      "text/plain": [
       "array([[0., 1., 1., 0., 1., 0., 1., 1., 0., 1.],\n",
       "       [0., 0., 1., 0., 1., 1., 0., 1., 0., 1.],\n",
       "       [0., 0., 1., 0., 0., 0., 1., 1., 0., 0.],\n",
       "       [0., 1., 0., 0., 1., 0., 1., 1., 0., 0.],\n",
       "       [1., 0., 1., 1., 0., 0., 1., 0., 1., 1.],\n",
       "       [1., 0., 1., 0., 0., 1., 1., 0., 1., 0.],\n",
       "       [1., 1., 1., 0., 1., 1., 1., 0., 1., 1.],\n",
       "       [0., 0., 0., 0., 0., 1., 0., 1., 0., 1.],\n",
       "       [1., 1., 0., 1., 0., 1., 1., 1., 0., 0.],\n",
       "       [1., 0., 1., 0., 1., 0., 0., 1., 0., 1.]])"
      ]
     },
     "execution_count": 40,
     "metadata": {},
     "output_type": "execute_result"
    }
   ],
   "source": [
    "# majd olvassuk be a txt fájlt tömbként\n",
    "np.genfromtxt('matrix.txt')"
   ]
  },
  {
   "cell_type": "code",
   "execution_count": 41,
   "metadata": {
    "colab": {
     "base_uri": "https://localhost:8080/"
    },
    "executionInfo": {
     "elapsed": 410,
     "status": "ok",
     "timestamp": 1684853290343,
     "user": {
      "displayName": "Piroska Dömötör",
      "userId": "03696721308245428945"
     },
     "user_tz": -120
    },
    "id": "zuZh4mghbftW",
    "outputId": "701314e2-2f39-4fb8-82bd-5c435d1851f8"
   },
   "outputs": [
    {
     "data": {
      "text/plain": [
       "array([0., 0., 0., 0., 0., 0., 0.])"
      ]
     },
     "execution_count": 41,
     "metadata": {},
     "output_type": "execute_result"
    }
   ],
   "source": [
    "# Nullákból álló tömb létrehozása 1dimenziós\n",
    "np.zeros(7)"
   ]
  },
  {
   "cell_type": "code",
   "execution_count": 42,
   "metadata": {
    "colab": {
     "base_uri": "https://localhost:8080/"
    },
    "executionInfo": {
     "elapsed": 316,
     "status": "ok",
     "timestamp": 1684853309698,
     "user": {
      "displayName": "Piroska Dömötör",
      "userId": "03696721308245428945"
     },
     "user_tz": -120
    },
    "id": "DQF4z8JQFRY1",
    "outputId": "fc1e3eea-e4a9-4099-ffa7-ca4b991363a4"
   },
   "outputs": [
    {
     "data": {
      "text/plain": [
       "array([[0., 0., 0.],\n",
       "       [0., 0., 0.]])"
      ]
     },
     "execution_count": 42,
     "metadata": {},
     "output_type": "execute_result"
    }
   ],
   "source": [
    "# Nullákból álló tömb létrehozása többdimenziós\n",
    "np.zeros((2,3))"
   ]
  },
  {
   "cell_type": "code",
   "execution_count": 43,
   "metadata": {
    "colab": {
     "base_uri": "https://localhost:8080/"
    },
    "executionInfo": {
     "elapsed": 422,
     "status": "ok",
     "timestamp": 1684853333357,
     "user": {
      "displayName": "Piroska Dömötör",
      "userId": "03696721308245428945"
     },
     "user_tz": -120
    },
    "id": "deug0RfEbftW",
    "outputId": "df18178d-b62f-4aca-9d42-f983ba392dbb"
   },
   "outputs": [
    {
     "data": {
      "text/plain": [
       "array([[1.],\n",
       "       [1.],\n",
       "       [1.],\n",
       "       [1.],\n",
       "       [1.]])"
      ]
     },
     "execution_count": 43,
     "metadata": {},
     "output_type": "execute_result"
    }
   ],
   "source": [
    "# Egyesekből álló tömb létrehozása\n",
    "np.ones((5, 1))"
   ]
  },
  {
   "cell_type": "code",
   "execution_count": 44,
   "metadata": {
    "colab": {
     "base_uri": "https://localhost:8080/"
    },
    "executionInfo": {
     "elapsed": 717,
     "status": "ok",
     "timestamp": 1684853414041,
     "user": {
      "displayName": "Piroska Dömötör",
      "userId": "03696721308245428945"
     },
     "user_tz": -120
    },
    "id": "0jDxn_jXbftY",
    "outputId": "b2477443-ddf6-4df5-bc84-230d84a915ed"
   },
   "outputs": [
    {
     "data": {
      "text/plain": [
       "array([-5. , -4.5, -4. , -3.5, -3. , -2.5, -2. , -1.5, -1. , -0.5,  0. ,\n",
       "        0.5,  1. ,  1.5,  2. ,  2.5,  3. ,  3.5,  4. ,  4.5])"
      ]
     },
     "execution_count": 44,
     "metadata": {},
     "output_type": "execute_result"
    }
   ],
   "source": [
    "# Értéktartomány létrehozása a lépésköz megadásával.\n",
    "np.arange(-5, 5, 0.5)"
   ]
  },
  {
   "cell_type": "code",
   "execution_count": 45,
   "metadata": {
    "colab": {
     "base_uri": "https://localhost:8080/"
    },
    "executionInfo": {
     "elapsed": 306,
     "status": "ok",
     "timestamp": 1684853472411,
     "user": {
      "displayName": "Piroska Dömötör",
      "userId": "03696721308245428945"
     },
     "user_tz": -120
    },
    "id": "hjxKfMbWbftY",
    "outputId": "3e38cb09-fc59-4f97-f9ef-477776d494fe"
   },
   "outputs": [
    {
     "data": {
      "text/plain": [
       "array([ 2,  3, 44, 55, 66])"
      ]
     },
     "execution_count": 45,
     "metadata": {},
     "output_type": "execute_result"
    }
   ],
   "source": [
    "# Vektorok összefűzése.\n",
    "a = np.array([2, 3])\n",
    "b = np.array([44, 55, 66])\n",
    "np.concatenate([a, b])"
   ]
  },
  {
   "cell_type": "markdown",
   "metadata": {
    "id": "mi2f9mnEmzTU"
   },
   "source": [
    "### Másolás beépítve"
   ]
  },
  {
   "cell_type": "code",
   "execution_count": 46,
   "metadata": {},
   "outputs": [],
   "source": [
    "## példa tömb\n",
    "a = np.array([1, 2, 3])"
   ]
  },
  {
   "cell_type": "code",
   "execution_count": 47,
   "metadata": {
    "colab": {
     "base_uri": "https://localhost:8080/"
    },
    "executionInfo": {
     "elapsed": 279,
     "status": "ok",
     "timestamp": 1684853544502,
     "user": {
      "displayName": "Piroska Dömötör",
      "userId": "03696721308245428945"
     },
     "user_tz": -120
    },
    "id": "PKpNrXzWm1Ck",
    "outputId": "6f80cdf2-38b1-413f-9098-ad127671513a"
   },
   "outputs": [
    {
     "name": "stdout",
     "output_type": "stream",
     "text": [
      "a =  [1 2 3] ;\tb =  [1 2 3]\n",
      "a =  [1 2 3] ;\tb =  [10  2  3]\n"
     ]
    }
   ],
   "source": [
    "## valódi másolat készítése, majd módosítása\n",
    "\n",
    "b = a.copy()\n",
    "print(\"a = \", a, \";\\tb = \", b)\n",
    "b [0] = 10\n",
    "print(\"a = \", a, \";\\tb = \", b)"
   ]
  },
  {
   "cell_type": "markdown",
   "metadata": {
    "id": "fVLo1jmzbftZ"
   },
   "source": [
    "### Elemek és résztömbök"
   ]
  },
  {
   "cell_type": "code",
   "execution_count": 48,
   "metadata": {
    "executionInfo": {
     "elapsed": 646,
     "status": "ok",
     "timestamp": 1684853580600,
     "user": {
      "displayName": "Piroska Dömötör",
      "userId": "03696721308245428945"
     },
     "user_tz": -120
    },
    "id": "ZpQD-bOlbfta"
   },
   "outputs": [],
   "source": [
    "## Hozzunk létre egy példamátrixot!\n",
    "a = np.array([[3, 4, 5],\n",
    "              [6, 7, 8]])"
   ]
  },
  {
   "cell_type": "code",
   "execution_count": 49,
   "metadata": {
    "colab": {
     "base_uri": "https://localhost:8080/"
    },
    "executionInfo": {
     "elapsed": 312,
     "status": "ok",
     "timestamp": 1684853629190,
     "user": {
      "displayName": "Piroska Dömötör",
      "userId": "03696721308245428945"
     },
     "user_tz": -120
    },
    "id": "BtoVG_BXbfta",
    "outputId": "7786940a-885a-4c85-baa8-f49fa704ca7a"
   },
   "outputs": [
    {
     "name": "stdout",
     "output_type": "stream",
     "text": [
      "2. sor 3. eleme:  8\n",
      "1. sor 2. eleme:  4\n"
     ]
    }
   ],
   "source": [
    "# Elem kiválasztása (az indexelés 0-tól indul).\n",
    "print(\"2. sor 3. eleme: \", a[1, 2])    # 1 a sorindex, 2 az oszlopindex\n",
    "print(\"1. sor 2. eleme: \", a[0, 1])    # 0 a sorindex, 1 az oszlopindex"
   ]
  },
  {
   "cell_type": "code",
   "execution_count": 50,
   "metadata": {
    "colab": {
     "base_uri": "https://localhost:8080/"
    },
    "executionInfo": {
     "elapsed": 513,
     "status": "ok",
     "timestamp": 1684853695025,
     "user": {
      "displayName": "Piroska Dömötör",
      "userId": "03696721308245428945"
     },
     "user_tz": -120
    },
    "id": "JnZ0SyK7bftb",
    "outputId": "fcb2c4b5-efed-4b9d-8e67-cb218320aca6"
   },
   "outputs": [
    {
     "data": {
      "text/plain": [
       "array([6, 7, 8])"
      ]
     },
     "execution_count": 50,
     "metadata": {},
     "output_type": "execute_result"
    }
   ],
   "source": [
    "# Teljes sor kiválasztása.\n",
    "a[1, : ]"
   ]
  },
  {
   "cell_type": "code",
   "execution_count": 51,
   "metadata": {
    "colab": {
     "base_uri": "https://localhost:8080/"
    },
    "executionInfo": {
     "elapsed": 9,
     "status": "ok",
     "timestamp": 1684853704861,
     "user": {
      "displayName": "Piroska Dömötör",
      "userId": "03696721308245428945"
     },
     "user_tz": -120
    },
    "id": "XKx_pbH6bftb",
    "outputId": "de2094f8-a022-411a-a08c-3bff9a04ed10"
   },
   "outputs": [
    {
     "data": {
      "text/plain": [
       "array([6, 7, 8])"
      ]
     },
     "execution_count": 51,
     "metadata": {},
     "output_type": "execute_result"
    }
   ],
   "source": [
    "# A lista elemekre vonatkozó jelölés is jó.\n",
    "a[1]"
   ]
  },
  {
   "cell_type": "code",
   "execution_count": 52,
   "metadata": {
    "colab": {
     "base_uri": "https://localhost:8080/"
    },
    "executionInfo": {
     "elapsed": 315,
     "status": "ok",
     "timestamp": 1684853741526,
     "user": {
      "displayName": "Piroska Dömötör",
      "userId": "03696721308245428945"
     },
     "user_tz": -120
    },
    "id": "x_PQ2e_7bftc",
    "outputId": "414d097d-6981-4736-af49-c12f19cabf53"
   },
   "outputs": [
    {
     "data": {
      "text/plain": [
       "array([4, 7])"
      ]
     },
     "execution_count": 52,
     "metadata": {},
     "output_type": "execute_result"
    }
   ],
   "source": [
    "# Oszlop kiválasztása.\n",
    "a[: , 1]"
   ]
  },
  {
   "cell_type": "code",
   "execution_count": 53,
   "metadata": {
    "colab": {
     "base_uri": "https://localhost:8080/"
    },
    "executionInfo": {
     "elapsed": 319,
     "status": "ok",
     "timestamp": 1684853812998,
     "user": {
      "displayName": "Piroska Dömötör",
      "userId": "03696721308245428945"
     },
     "user_tz": -120
    },
    "id": "NipSVw4ubftc",
    "outputId": "9a8984c9-3148-4de3-d8ac-c3a78c3974d1"
   },
   "outputs": [
    {
     "data": {
      "text/plain": [
       "array([[3, 5],\n",
       "       [6, 8]])"
      ]
     },
     "execution_count": 53,
     "metadata": {},
     "output_type": "execute_result"
    }
   ],
   "source": [
    "# Adott indexű oszlopok kiválasztása.\n",
    "a[: , [0, 2]]"
   ]
  },
  {
   "cell_type": "code",
   "execution_count": 54,
   "metadata": {},
   "outputs": [
    {
     "data": {
      "text/plain": [
       "array([[3, 4, 4],\n",
       "       [6, 7, 2]])"
      ]
     },
     "execution_count": 54,
     "metadata": {},
     "output_type": "execute_result"
    }
   ],
   "source": [
    "# Oszlop kiválasztása és módosítása.\n",
    "a[:, -1] = 4, 2\n",
    "a"
   ]
  },
  {
   "cell_type": "markdown",
   "metadata": {},
   "source": [
    "### Elemek kiválasztása logikai feltétel alapján."
   ]
  },
  {
   "cell_type": "code",
   "execution_count": 55,
   "metadata": {},
   "outputs": [],
   "source": [
    "## Hozzunk létre egy példamátrixot!\n",
    "a = np.array([[3, 4, 5],\n",
    "              [6, 7, 8]])"
   ]
  },
  {
   "cell_type": "code",
   "execution_count": 56,
   "metadata": {
    "colab": {
     "base_uri": "https://localhost:8080/"
    },
    "executionInfo": {
     "elapsed": 436,
     "status": "ok",
     "timestamp": 1684853942649,
     "user": {
      "displayName": "Piroska Dömötör",
      "userId": "03696721308245428945"
     },
     "user_tz": -120
    },
    "id": "AzWWwlN6bftd",
    "outputId": "1fc9d54a-99ce-4f50-e070-0fcf29458dd4"
   },
   "outputs": [
    {
     "data": {
      "text/plain": [
       "array([4, 6, 8])"
      ]
     },
     "execution_count": 56,
     "metadata": {},
     "output_type": "execute_result"
    }
   ],
   "source": [
    "# páros elemek kiválasztása\n",
    "a[a % 2 == 0]     "
   ]
  },
  {
   "cell_type": "code",
   "execution_count": 57,
   "metadata": {
    "colab": {
     "base_uri": "https://localhost:8080/"
    },
    "executionInfo": {
     "elapsed": 268,
     "status": "ok",
     "timestamp": 1684853987027,
     "user": {
      "displayName": "Piroska Dömötör",
      "userId": "03696721308245428945"
     },
     "user_tz": -120
    },
    "id": "Wfa0kRyUHyRH",
    "outputId": "6e23127e-548b-4a51-88df-65b556a33485"
   },
   "outputs": [
    {
     "data": {
      "text/plain": [
       "array([6, 7, 8])"
      ]
     },
     "execution_count": 57,
     "metadata": {},
     "output_type": "execute_result"
    }
   ],
   "source": [
    "# 5 nél nagyobb elemek kiválasztása\n",
    "a[a > 5]"
   ]
  },
  {
   "cell_type": "markdown",
   "metadata": {
    "id": "uKDcBH6Tbfte"
   },
   "source": [
    "### Vektor műveletek (Tömbműveletek) Koordinátánként"
   ]
  },
  {
   "cell_type": "code",
   "execution_count": 58,
   "metadata": {
    "executionInfo": {
     "elapsed": 1147,
     "status": "ok",
     "timestamp": 1684854195371,
     "user": {
      "displayName": "Piroska Dömötör",
      "userId": "03696721308245428945"
     },
     "user_tz": -120
    },
    "id": "o9AwI3XLbftf"
   },
   "outputs": [],
   "source": [
    "## Hozzunk létre 2 példatömböt!\n",
    "a = np.array([1, 7 ,3])\n",
    "b = np.array([1, 1, 2])"
   ]
  },
  {
   "cell_type": "code",
   "execution_count": 59,
   "metadata": {
    "colab": {
     "base_uri": "https://localhost:8080/"
    },
    "executionInfo": {
     "elapsed": 315,
     "status": "ok",
     "timestamp": 1684854209494,
     "user": {
      "displayName": "Piroska Dömötör",
      "userId": "03696721308245428945"
     },
     "user_tz": -120
    },
    "id": "2pTKUN05bftf",
    "outputId": "599acdea-4ea1-4611-c853-f36cdddd71f5"
   },
   "outputs": [
    {
     "data": {
      "text/plain": [
       "array([2, 8, 5])"
      ]
     },
     "execution_count": 59,
     "metadata": {},
     "output_type": "execute_result"
    }
   ],
   "source": [
    "# Elemenkénti összeadás.\n",
    "a + b"
   ]
  },
  {
   "cell_type": "code",
   "execution_count": 60,
   "metadata": {
    "colab": {
     "base_uri": "https://localhost:8080/"
    },
    "executionInfo": {
     "elapsed": 528,
     "status": "ok",
     "timestamp": 1684854253847,
     "user": {
      "displayName": "Piroska Dömötör",
      "userId": "03696721308245428945"
     },
     "user_tz": -120
    },
    "id": "3yu11Pmlbftf",
    "outputId": "7c4be203-3141-42fe-b8ae-8e7cf7cfe6a3"
   },
   "outputs": [
    {
     "data": {
      "text/plain": [
       "array([0, 6, 1])"
      ]
     },
     "execution_count": 60,
     "metadata": {},
     "output_type": "execute_result"
    }
   ],
   "source": [
    "# Elemenkénti kivonás.\n",
    "a - b"
   ]
  },
  {
   "cell_type": "code",
   "execution_count": 61,
   "metadata": {
    "colab": {
     "base_uri": "https://localhost:8080/"
    },
    "executionInfo": {
     "elapsed": 419,
     "status": "ok",
     "timestamp": 1684854271139,
     "user": {
      "displayName": "Piroska Dömötör",
      "userId": "03696721308245428945"
     },
     "user_tz": -120
    },
    "id": "idTJakJvdOOy",
    "outputId": "e4bc7d95-158f-4504-e350-f91e99d762fb"
   },
   "outputs": [
    {
     "data": {
      "text/plain": [
       "array([ 2, 14,  6])"
      ]
     },
     "execution_count": 61,
     "metadata": {},
     "output_type": "execute_result"
    }
   ],
   "source": [
    "# számmal szorzás \n",
    "2 * a"
   ]
  },
  {
   "cell_type": "code",
   "execution_count": 62,
   "metadata": {
    "colab": {
     "base_uri": "https://localhost:8080/"
    },
    "executionInfo": {
     "elapsed": 427,
     "status": "ok",
     "timestamp": 1684854417274,
     "user": {
      "displayName": "Piroska Dömötör",
      "userId": "03696721308245428945"
     },
     "user_tz": -120
    },
    "id": "DtBkR8_Ibftg",
    "outputId": "5f56efd9-e129-4e8b-f83f-c4faa9bfa4d3"
   },
   "outputs": [
    {
     "data": {
      "text/plain": [
       "array([ 1, 49,  9])"
      ]
     },
     "execution_count": 62,
     "metadata": {},
     "output_type": "execute_result"
    }
   ],
   "source": [
    "# Elemenkénti hatványozás.\n",
    "a**2"
   ]
  },
  {
   "cell_type": "code",
   "execution_count": 63,
   "metadata": {
    "colab": {
     "base_uri": "https://localhost:8080/"
    },
    "executionInfo": {
     "elapsed": 338,
     "status": "ok",
     "timestamp": 1684854325201,
     "user": {
      "displayName": "Piroska Dömötör",
      "userId": "03696721308245428945"
     },
     "user_tz": -120
    },
    "id": "IGY8e_wxbftf",
    "outputId": "c5bc38cc-242f-41bc-8d2c-4484da15bfca"
   },
   "outputs": [
    {
     "name": "stdout",
     "output_type": "stream",
     "text": [
      "[1 7 3] [1 1 2]\n"
     ]
    },
    {
     "data": {
      "text/plain": [
       "array([1, 7, 6])"
      ]
     },
     "execution_count": 63,
     "metadata": {},
     "output_type": "execute_result"
    }
   ],
   "source": [
    "# Elemenkénti szorzás.\n",
    "print(a,b)\n",
    "a*b"
   ]
  },
  {
   "cell_type": "code",
   "execution_count": 64,
   "metadata": {
    "id": "KjpUB1KFbftr"
   },
   "outputs": [
    {
     "data": {
      "text/plain": [
       "14"
      ]
     },
     "execution_count": 64,
     "metadata": {},
     "output_type": "execute_result"
    }
   ],
   "source": [
    "# Két vektor skaláris szorzata.\n",
    "a = np.array([1, 7 ,3])\n",
    "b = np.array([1, 1, 2])\n",
    "a @ b"
   ]
  },
  {
   "cell_type": "code",
   "execution_count": 65,
   "metadata": {
    "colab": {
     "base_uri": "https://localhost:8080/",
     "height": 206
    },
    "executionInfo": {
     "elapsed": 420,
     "status": "error",
     "timestamp": 1684854450347,
     "user": {
      "displayName": "Piroska Dömötör",
      "userId": "03696721308245428945"
     },
     "user_tz": -120
    },
    "id": "_3Wg6LZ_bfth",
    "outputId": "a7e1845f-eed0-43d2-c164-098556a5ddc7"
   },
   "outputs": [
    {
     "ename": "ValueError",
     "evalue": "operands could not be broadcast together with shapes (3,) (2,) ",
     "output_type": "error",
     "traceback": [
      "\u001b[0;31m---------------------------------------------------------------------------\u001b[0m",
      "\u001b[0;31mValueError\u001b[0m                                Traceback (most recent call last)",
      "\u001b[0;32m/tmp/ipykernel_11883/1059125882.py\u001b[0m in \u001b[0;36m<module>\u001b[0;34m\u001b[0m\n\u001b[1;32m      2\u001b[0m \u001b[0mc\u001b[0m \u001b[0;34m=\u001b[0m \u001b[0mnp\u001b[0m\u001b[0;34m.\u001b[0m\u001b[0marray\u001b[0m\u001b[0;34m(\u001b[0m\u001b[0;34m[\u001b[0m\u001b[0;36m2\u001b[0m\u001b[0;34m,\u001b[0m \u001b[0;36m3\u001b[0m\u001b[0;34m,\u001b[0m \u001b[0;36m4\u001b[0m\u001b[0;34m]\u001b[0m\u001b[0;34m)\u001b[0m \u001b[0;31m# 3 hosszú tömb\u001b[0m\u001b[0;34m\u001b[0m\u001b[0;34m\u001b[0m\u001b[0m\n\u001b[1;32m      3\u001b[0m \u001b[0md\u001b[0m \u001b[0;34m=\u001b[0m \u001b[0mnp\u001b[0m\u001b[0;34m.\u001b[0m\u001b[0marray\u001b[0m\u001b[0;34m(\u001b[0m\u001b[0;34m[\u001b[0m\u001b[0;36m10\u001b[0m\u001b[0;34m,\u001b[0m \u001b[0;36m20\u001b[0m\u001b[0;34m]\u001b[0m\u001b[0;34m)\u001b[0m  \u001b[0;31m# 2 hosszú tömb\u001b[0m\u001b[0;34m\u001b[0m\u001b[0;34m\u001b[0m\u001b[0m\n\u001b[0;32m----> 4\u001b[0;31m \u001b[0mc\u001b[0m \u001b[0;34m+\u001b[0m \u001b[0md\u001b[0m\u001b[0;34m\u001b[0m\u001b[0;34m\u001b[0m\u001b[0m\n\u001b[0m",
      "\u001b[0;31mValueError\u001b[0m: operands could not be broadcast together with shapes (3,) (2,) "
     ]
    }
   ],
   "source": [
    "## A művelet nem feltétlenül végezhető el.\n",
    "c = np.array([2, 3, 4]) # 3 hosszú tömb\n",
    "d = np.array([10, 20])  # 2 hosszú tömb\n",
    "c + d"
   ]
  },
  {
   "cell_type": "markdown",
   "metadata": {},
   "source": [
    "### Függvények és tömbök"
   ]
  },
  {
   "cell_type": "code",
   "execution_count": 66,
   "metadata": {},
   "outputs": [],
   "source": [
    "## Hozzunk létre egy példamátrixot!\n",
    "a = np.array([[3, 4, 5],\n",
    "              [6, 7, 8]])"
   ]
  },
  {
   "cell_type": "code",
   "execution_count": 67,
   "metadata": {
    "colab": {
     "base_uri": "https://localhost:8080/"
    },
    "executionInfo": {
     "elapsed": 931,
     "status": "ok",
     "timestamp": 1684854943290,
     "user": {
      "displayName": "Piroska Dömötör",
      "userId": "03696721308245428945"
     },
     "user_tz": -120
    },
    "id": "KLoGVjlQbfth",
    "outputId": "56ef892d-530b-4ba9-f9eb-505a0d4a2336"
   },
   "outputs": [
    {
     "data": {
      "text/plain": [
       "array([[-0.9899925 , -0.65364362,  0.28366219],\n",
       "       [ 0.96017029,  0.75390225, -0.14550003]])"
      ]
     },
     "execution_count": 67,
     "metadata": {},
     "output_type": "execute_result"
    }
   ],
   "source": [
    "# Elemenkénti függvények (exp, log, sin, cos, ...).\n",
    "np.cos(a) # koszinusz"
   ]
  },
  {
   "cell_type": "code",
   "execution_count": 68,
   "metadata": {
    "id": "0Mb71C8tbfth"
   },
   "outputs": [
    {
     "data": {
      "text/plain": [
       "array([[1.09861229, 1.38629436, 1.60943791],\n",
       "       [1.79175947, 1.94591015, 2.07944154]])"
      ]
     },
     "execution_count": 68,
     "metadata": {},
     "output_type": "execute_result"
    }
   ],
   "source": [
    "np.log(a) # természetes alapú logaritmus"
   ]
  },
  {
   "cell_type": "code",
   "execution_count": 69,
   "metadata": {
    "colab": {
     "base_uri": "https://localhost:8080/"
    },
    "executionInfo": {
     "elapsed": 273,
     "status": "ok",
     "timestamp": 1684855046670,
     "user": {
      "displayName": "Piroska Dömötör",
      "userId": "03696721308245428945"
     },
     "user_tz": -120
    },
    "id": "jDQSb757jbrA",
    "outputId": "f0e98d27-58aa-4ad5-f7b2-6c1eb39e3447"
   },
   "outputs": [
    {
     "name": "stdout",
     "output_type": "stream",
     "text": [
      "2.25\n",
      "[[ 1  4  9]\n",
      " [16 25 36]]\n"
     ]
    }
   ],
   "source": [
    "# álltalunk megadott függvény is alkalmazható array-re:\n",
    "def f(x):\n",
    "    return (x-2)**2\n",
    "print(f(0.5))\n",
    "print(f(a))"
   ]
  },
  {
   "cell_type": "markdown",
   "metadata": {},
   "source": [
    "### Kiegészítée: Statisztikai műveletek (min, max, sum, mean, std).\n"
   ]
  },
  {
   "cell_type": "code",
   "execution_count": 70,
   "metadata": {},
   "outputs": [],
   "source": [
    "## Hozzunk létre egy példamátrixot!\n",
    "a = np.array([[3, 4, 5],\n",
    "              [6, 7, 8]])"
   ]
  },
  {
   "cell_type": "code",
   "execution_count": 71,
   "metadata": {
    "colab": {
     "base_uri": "https://localhost:8080/"
    },
    "executionInfo": {
     "elapsed": 311,
     "status": "ok",
     "timestamp": 1684855129875,
     "user": {
      "displayName": "Piroska Dömötör",
      "userId": "03696721308245428945"
     },
     "user_tz": -120
    },
    "id": "vsOpJKqgbfti",
    "outputId": "6a13a67c-2b78-403b-82b8-de766c95cbe7"
   },
   "outputs": [
    {
     "data": {
      "text/plain": [
       "33"
      ]
     },
     "execution_count": 71,
     "metadata": {},
     "output_type": "execute_result"
    }
   ],
   "source": [
    "## a tömb elemek összege\n",
    "a.sum()"
   ]
  },
  {
   "cell_type": "code",
   "execution_count": 72,
   "metadata": {
    "colab": {
     "base_uri": "https://localhost:8080/"
    },
    "executionInfo": {
     "elapsed": 1342,
     "status": "ok",
     "timestamp": 1684855157725,
     "user": {
      "displayName": "Piroska Dömötör",
      "userId": "03696721308245428945"
     },
     "user_tz": -120
    },
    "id": "FvBjny9TMTTk",
    "outputId": "6a597931-2040-4425-90e1-66e3f0713ccf"
   },
   "outputs": [
    {
     "data": {
      "text/plain": [
       "(3, 8)"
      ]
     },
     "execution_count": 72,
     "metadata": {},
     "output_type": "execute_result"
    }
   ],
   "source": [
    "## minimum és maximum érték a tömbben:\n",
    "a.min(), a.max()"
   ]
  },
  {
   "cell_type": "code",
   "execution_count": 73,
   "metadata": {
    "colab": {
     "base_uri": "https://localhost:8080/"
    },
    "executionInfo": {
     "elapsed": 304,
     "status": "ok",
     "timestamp": 1684855226537,
     "user": {
      "displayName": "Piroska Dömötör",
      "userId": "03696721308245428945"
     },
     "user_tz": -120
    },
    "id": "5dVjkQXKwPu5",
    "outputId": "ba28489b-8620-4412-9b49-107ae49515dc"
   },
   "outputs": [
    {
     "data": {
      "text/plain": [
       "(0, 5)"
      ]
     },
     "execution_count": 73,
     "metadata": {},
     "output_type": "execute_result"
    }
   ],
   "source": [
    "## minimum és maximum hely (argmin,argmax)\n",
    "a.argmin(), a.argmax()"
   ]
  },
  {
   "cell_type": "code",
   "execution_count": 74,
   "metadata": {
    "colab": {
     "base_uri": "https://localhost:8080/"
    },
    "executionInfo": {
     "elapsed": 322,
     "status": "ok",
     "timestamp": 1684855168782,
     "user": {
      "displayName": "Piroska Dömötör",
      "userId": "03696721308245428945"
     },
     "user_tz": -120
    },
    "id": "0EePnbFIMX1-",
    "outputId": "1b5e95c2-5fcf-4a22-db3e-741cf8017155"
   },
   "outputs": [
    {
     "data": {
      "text/plain": [
       "(5.5, 1.707825127659933)"
      ]
     },
     "execution_count": 74,
     "metadata": {},
     "output_type": "execute_result"
    }
   ],
   "source": [
    "## tömb elemek átlaga és szórása\n",
    "a.mean(), a.std()"
   ]
  },
  {
   "cell_type": "markdown",
   "metadata": {},
   "source": [
    "### Keresés - np.where()"
   ]
  },
  {
   "cell_type": "code",
   "execution_count": 75,
   "metadata": {
    "colab": {
     "base_uri": "https://localhost:8080/"
    },
    "executionInfo": {
     "elapsed": 313,
     "status": "ok",
     "timestamp": 1684855306304,
     "user": {
      "displayName": "Piroska Dömötör",
      "userId": "03696721308245428945"
     },
     "user_tz": -120
    },
    "id": "7KheWdZRbftn",
    "outputId": "a0e7c170-d9d8-42ee-f81c-ec0f1d37808c"
   },
   "outputs": [],
   "source": [
    "## Példa: Mely indexeknél találhatók az 5-nél kisebb elemek?\n",
    "a = np.array([3, 10, 11, 4, 7, 8])\n"
   ]
  },
  {
   "cell_type": "code",
   "execution_count": 76,
   "metadata": {},
   "outputs": [
    {
     "name": "stdout",
     "output_type": "stream",
     "text": [
      "[3 4]\n"
     ]
    },
    {
     "data": {
      "text/plain": [
       "(array([0, 3]),)"
      ]
     },
     "execution_count": 76,
     "metadata": {},
     "output_type": "execute_result"
    }
   ],
   "source": [
    "# elemek kiíratása és elemek indexének megkeresése\n",
    "print(a[a < 5])\n",
    "np.where(a < 5)"
   ]
  },
  {
   "cell_type": "markdown",
   "metadata": {},
   "source": [
    "### Rendezés"
   ]
  },
  {
   "cell_type": "code",
   "execution_count": 77,
   "metadata": {},
   "outputs": [
    {
     "name": "stdout",
     "output_type": "stream",
     "text": [
      "[ 3 10 11  4  7  8]\n"
     ]
    }
   ],
   "source": [
    "## egy példa tömb:\n",
    "a = np.array([3, 10, 11, 4, 7, 8])\n",
    "print(a)"
   ]
  },
  {
   "cell_type": "code",
   "execution_count": 78,
   "metadata": {
    "colab": {
     "base_uri": "https://localhost:8080/"
    },
    "executionInfo": {
     "elapsed": 384,
     "status": "ok",
     "timestamp": 1684855329717,
     "user": {
      "displayName": "Piroska Dömötör",
      "userId": "03696721308245428945"
     },
     "user_tz": -120
    },
    "id": "1g-Kd0acbfto",
    "outputId": "ea70e9ff-d840-4b18-fe05-b3377c015fce"
   },
   "outputs": [
    {
     "name": "stdout",
     "output_type": "stream",
     "text": [
      "[ 3  4  7  8 10 11]\n"
     ]
    }
   ],
   "source": [
    "# Rendezés helyben.\n",
    "a.sort()\n",
    "print(a)"
   ]
  },
  {
   "cell_type": "code",
   "execution_count": 79,
   "metadata": {},
   "outputs": [
    {
     "name": "stdout",
     "output_type": "stream",
     "text": [
      "[ 3 10 11  4  7  8]\n"
     ]
    }
   ],
   "source": [
    "## egy példa tömb:\n",
    "a = np.array([3, 10, 11, 4, 7, 8])\n",
    "print(a)"
   ]
  },
  {
   "cell_type": "code",
   "execution_count": 80,
   "metadata": {
    "colab": {
     "base_uri": "https://localhost:8080/"
    },
    "executionInfo": {
     "elapsed": 315,
     "status": "ok",
     "timestamp": 1684855352380,
     "user": {
      "displayName": "Piroska Dömötör",
      "userId": "03696721308245428945"
     },
     "user_tz": -120
    },
    "id": "CTEdTsHabfto",
    "outputId": "6e6d4fe0-caae-490d-d20b-3e3e4d98631c"
   },
   "outputs": [
    {
     "data": {
      "text/plain": [
       "array([ 3,  4,  7,  8, 10, 11])"
      ]
     },
     "execution_count": 80,
     "metadata": {},
     "output_type": "execute_result"
    }
   ],
   "source": [
    "# Rendezés új tömbbe.\n",
    "a = np.array([3, 10, 11, 4, 7, 8])\n",
    "np.sort(a)"
   ]
  },
  {
   "cell_type": "code",
   "execution_count": 81,
   "metadata": {
    "colab": {
     "base_uri": "https://localhost:8080/"
    },
    "executionInfo": {
     "elapsed": 313,
     "status": "ok",
     "timestamp": 1684855405838,
     "user": {
      "displayName": "Piroska Dömötör",
      "userId": "03696721308245428945"
     },
     "user_tz": -120
    },
    "id": "k5vh9ApYbftp",
    "outputId": "8788f60d-bb34-4f37-c1f2-f8b58387769c"
   },
   "outputs": [
    {
     "data": {
      "text/plain": [
       "array([11, 10,  8,  7,  4,  3])"
      ]
     },
     "execution_count": 81,
     "metadata": {},
     "output_type": "execute_result"
    }
   ],
   "source": [
    "# Rendezés csökkenő sorrendbe.\n",
    "np.sort(a, )[::-1]"
   ]
  },
  {
   "cell_type": "markdown",
   "metadata": {
    "id": "cLwnBVpbrFJc"
   },
   "source": [
    "## [Matplotlib](https://matplotlib.org/)\n",
    "\n",
    "A Matplotlib adatok ábrázolásához hasznos csomag.\n",
    "\n",
    "- Nyomdai minőségben testreszabható grafikon rajzolás\n",
    "- Sokféle képfájlként kimenthető eredmény\n",
    "- De animációt is lehet vele készíteni\n",
    "\n",
    "A Matplotlib is külső csomag. A Colab felületén ez is elérhető. \n",
    "\n",
    "De a saját gépünkön szükség van telepítésére. Többféle lehetőség van, például:\n",
    "- `pip install matplotlib --user`\n",
    "- `conda install -c conda-forge matplotlib`"
   ]
  },
  {
   "cell_type": "code",
   "execution_count": null,
   "metadata": {
    "executionInfo": {
     "elapsed": 498,
     "status": "ok",
     "timestamp": 1684855598553,
     "user": {
      "displayName": "Piroska Dömötör",
      "userId": "03696721308245428945"
     },
     "user_tz": -120
    },
    "id": "pkED4aPfsYWH"
   },
   "outputs": [],
   "source": [
    "## csomagok importálása\n",
    "import numpy as np    # ha korábban még ez nem történt meg\n",
    "\n",
    "import matplotlib.pyplot as plt\n",
    "\n",
    "# Colab /Jupyter notebook speciális beállítás\n",
    "%matplotlib inline  "
   ]
  },
  {
   "cell_type": "code",
   "execution_count": 83,
   "metadata": {
    "colab": {
     "base_uri": "https://localhost:8080/",
     "height": 452
    },
    "executionInfo": {
     "elapsed": 684,
     "status": "ok",
     "timestamp": 1684855930697,
     "user": {
      "displayName": "Piroska Dömötör",
      "userId": "03696721308245428945"
     },
     "user_tz": -120
    },
    "id": "s8A2JdmNsjKQ",
    "outputId": "d1971289-9e86-4778-d965-a675ce4abb28"
   },
   "outputs": [
    {
     "data": {
      "image/png": "[encoded data removed]",
      "text/plain": [
       "<Figure size 432x288 with 1 Axes>"
      ]
     },
     "metadata": {
      "needs_background": "light"
     },
     "output_type": "display_data"
    }
   ],
   "source": [
    "# kreáljunk egy adatsort és plt.plot() függvénnyel rajzoljuk ki\n",
    "data = np.array([2,4,1,6,2,7,8,9] )\n",
    "\n",
    "plt.plot(data , \"x-\")\n",
    "plt.title(\"Ez a  cím\")\n",
    "plt.xlabel(\"x\")\n",
    "plt.ylabel(\"y\")\n",
    "plt.show()\n"
   ]
  }
 ],
 "metadata": {
  "colab": {
   "provenance": []
  },
  "kernelspec": {
   "display_name": "pylatest",
   "language": "python",
   "name": "python3"
  },
  "language_info": {
   "codemirror_mode": {
    "name": "ipython",
    "version": 3
   },
   "file_extension": ".py",
   "mimetype": "text/x-python",
   "name": "python",
   "nbconvert_exporter": "python",
   "pygments_lexer": "ipython3",
   "version": "3.9.15"
  }
 },
 "nbformat": 4,
 "nbformat_minor": 0
}
