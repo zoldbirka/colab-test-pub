{
 "cells": [
  {
   "cell_type": "markdown",
   "metadata": {
    "id": "EyMT5eZ1zIwO"
   },
   "source": [
    "# Gyorsulás adatok feldolgozása"
   ]
  },
  {
   "cell_type": "markdown",
   "metadata": {
    "id": "eJjT7FtCzIwS"
   },
   "source": [
    "Ez a notebook egy lift mozgása során a telefon gyorsulásmérőjével gyűjtött adatok\n",
    "- beolvasását,\n",
    "- ábrázolásást,\n",
    "- majd a pillanatnyi sebesség és helyzet kiszámítását tartalmazza"
   ]
  },
  {
   "cell_type": "markdown",
   "metadata": {
    "id": "_wI338aHzIwS"
   },
   "source": [
    "### Hogyan mozog, hely, sebesség és gyorsulás kapcsolata egyenes mentén"
   ]
  },
  {
   "cell_type": "markdown",
   "metadata": {
    "id": "ECNLiruLzIwT"
   },
   "source": [
    "**Hely adatok:**\n",
    " - Minden időpontban tudom a helykoordinátát: $x(t)$ függvény\n",
    " - Sok időpontban tudom a helykoordinátát (MÉRÉS): $x_i = x(t_i)$ adatok"
   ]
  },
  {
   "cell_type": "markdown",
   "metadata": {
    "id": "Qu3wqdPAzIwT"
   },
   "source": [
    "**Hely adatokból sebesség:**\n",
    " - Pillanatnyi sebesség $v(t)=\\dfrac{\\Delta x}{\\Delta t}=\\dfrac{x(t)-x(t-\\Delta t)}{\\Delta t}$, ahol $\\Delta t$ nagyon rövid.\n",
    " - Adatokkal $v_i=\\dfrac{x_i-x_{i-1}}{\\Delta t}$, ahol $\\Delta t$ kellően rövid"
   ]
  },
  {
   "cell_type": "markdown",
   "metadata": {
    "id": "5gvq1w_ozIwU"
   },
   "source": [
    "**Sebesség adatokból gyorsulás:**\n",
    " - Pillanatnyi gyorsulás $a(t)=\\dfrac{\\Delta v}{\\Delta t}=\\dfrac{v(t)-v(t-\\Delta t)}{\\Delta t}$, ahol $\\Delta t$ nagyon rövid.\n",
    " - Adatokkal $a_i=\\dfrac{v_i-v_{i-1}}{\\Delta t}$, ahol $\\Delta t$ kellően rövid"
   ]
  },
  {
   "cell_type": "markdown",
   "metadata": {
    "id": "kI-V-RtTzIwU"
   },
   "source": [
    "**Gyorsulás adatokból sebesség:** Az előző összefüggést átrendezve\n",
    " - Adatokkal $v_i= v_{i-1}+a_i\\cdot \\Delta t=v_{i-1}+a_i\\cdot (t_i-t_{i-1})$"
   ]
  },
  {
   "cell_type": "markdown",
   "metadata": {
    "id": "aFW8CMaUzIwU"
   },
   "source": [
    "### A szükséges csomagok importálása"
   ]
  },
  {
   "cell_type": "code",
   "execution_count": null,
   "metadata": {
    "id": "UqD01fm9zIwV"
   },
   "outputs": [],
   "source": [
    "import pandas as pd        # Pandas csomag - adatkezelés\n",
    "import numpy as np         # Numpy  csomag - numerikus számítások\n",
    "import matplotlib.pyplot as plt    # MatPlotLib - ábrázolás\n",
    "%matplotlib inline"
   ]
  },
  {
   "cell_type": "markdown",
   "metadata": {
    "id": "mer6BdaqzIwW"
   },
   "source": [
    "### Fájl beolvasása \n",
    "Előtte győződjünk meg róla, hogy az aktuálisan használt könyvtárunkba már bemásoltuk a fájlt\n",
    " - A fájl letölthető innen: [Lift_gyorsulas_adatok_nyers.xlsx](https://raw.githubusercontent.com/zoldbirka/colab-test-pub/master/_files/Lift_gyorsulas_adatok_nyers.xlsx)\n",
    "\n",
    "- pandas csomag ```read_excel()``` eljárása "
   ]
  },
  {
   "cell_type": "code",
   "execution_count": null,
   "metadata": {},
   "outputs": [],
   "source": [
    "## Innen le is tölthetünk egyet (Colabban / Linuxos gépen működik)\n",
    "!wget https://raw.githubusercontent.com/zoldbirka/colab-test-pub/master/_files/Lift_gyorsulas_adatok_nyers.xlsx"
   ]
  },
  {
   "cell_type": "code",
   "execution_count": null,
   "metadata": {
    "id": "wcBLetg1zIwX"
   },
   "outputs": [],
   "source": [
    "input_file=\"Lift_gyorsulas_adatok_nyers.xlsx\"\n",
    "\n",
    "adata = pd.read_excel(input_file)"
   ]
  },
  {
   "cell_type": "markdown",
   "metadata": {
    "id": "XcucSKYlzIwX"
   },
   "source": [
    "#### A beolvasott adatok DataFrame-je\n",
    "- ```.head()``` és ```.tail()``` segít az adatok egy részét megjeleníteni\n",
    "- síma ```[ : ]``` is működik most, de jobb az ```.iloc[ : ]```"
   ]
  },
  {
   "cell_type": "code",
   "execution_count": null,
   "metadata": {
    "id": "85pPcPyJzIwX"
   },
   "outputs": [],
   "source": [
    "adata.iloc[0:10]"
   ]
  },
  {
   "cell_type": "markdown",
   "metadata": {
    "id": "r6J6w0b4zIwY"
   },
   "source": [
    "#### A beolvasott adatok néhány jellemzője:\n",
    "- ```.shape``` --  méretek\n",
    "- ```.columns``` -- oszlop nevek\n",
    "- ```.dtypes``` -- oszlopok adatípusai\n",
    "- ```.describe()```  -- statisztikai jellemzők"
   ]
  },
  {
   "cell_type": "code",
   "execution_count": null,
   "metadata": {
    "id": "jQ0G9k2vzIwY"
   },
   "outputs": [],
   "source": [
    "  # méretek"
   ]
  },
  {
   "cell_type": "code",
   "execution_count": null,
   "metadata": {
    "id": "dxoug1mNzIwY"
   },
   "outputs": [],
   "source": [
    " # összefoglaló"
   ]
  },
  {
   "cell_type": "code",
   "execution_count": null,
   "metadata": {
    "id": "flHsVIwVzIwY"
   },
   "outputs": [],
   "source": [
    "  # oszlopnevek"
   ]
  },
  {
   "cell_type": "code",
   "execution_count": null,
   "metadata": {
    "id": "RnYEo9gMzIwZ"
   },
   "outputs": [],
   "source": [
    "  # adatípusok"
   ]
  },
  {
   "cell_type": "markdown",
   "metadata": {
    "id": "D1gYqUiCzIwZ"
   },
   "source": [
    "#### Nevezzük át az oszlopkat használhatóbb (rövidebb, nem szóközös) nevekre\n",
    "szótárral érdemes magadni a kapcsolatot az új és a régi oszlop nevek közt\n",
    " - ```.rename(columns = ...)```\n",
    " - ```inplace = True``` kulcs paraméter igazra állítva ezzel át is írja az adatokat"
   ]
  },
  {
   "cell_type": "code",
   "execution_count": null,
   "metadata": {
    "id": "7mYdAuq4zIwZ"
   },
   "outputs": [],
   "source": [
    "# új oszlopnevek listája\n"
   ]
  },
  {
   "cell_type": "code",
   "execution_count": null,
   "metadata": {
    "id": "t2sY6U9bzIwa"
   },
   "outputs": [],
   "source": [
    "# érdemes a zippelést használni a szótár előállításáshoz:\n"
   ]
  },
  {
   "cell_type": "code",
   "execution_count": null,
   "metadata": {
    "id": "nVIUIJNIzIwa"
   },
   "outputs": [],
   "source": [
    "# átnevezés\n"
   ]
  },
  {
   "cell_type": "markdown",
   "metadata": {
    "id": "bomOX_kyzIwa"
   },
   "source": [
    "#### Hívatkozás egy-egy oszlopra\n",
    "- ```adata[\"cimke\"]```\n",
    "- ```adata.cimke```   -- ha nincs benne szóköz furcsa karakter..."
   ]
  },
  {
   "cell_type": "code",
   "execution_count": null,
   "metadata": {
    "id": "TPl2D2CYzIwa"
   },
   "outputs": [],
   "source": []
  },
  {
   "cell_type": "code",
   "execution_count": null,
   "metadata": {
    "id": "L4B7iaFMzIwa"
   },
   "outputs": [],
   "source": []
  },
  {
   "cell_type": "markdown",
   "metadata": {
    "id": "ApgSoAyUzIwb"
   },
   "source": [
    "#### Ábrázoljuk a z irányú gyorsulás adatokat\n",
    " - ```plt.plot()```   -- matplotlib ábrázolás\n",
    " - ```plt.xlabel()``` --  tengely nevek\n",
    " - ```plt.title()```  -- grafikon cím"
   ]
  },
  {
   "cell_type": "code",
   "execution_count": null,
   "metadata": {
    "id": "ZXomZkyNzIwb"
   },
   "outputs": [],
   "source": []
  },
  {
   "cell_type": "markdown",
   "metadata": {
    "id": "WqucnZHAzIwb"
   },
   "source": [
    "### Az adatok feldolgozása"
   ]
  },
  {
   "cell_type": "markdown",
   "metadata": {
    "id": "jlQqyVEuzIwb"
   },
   "source": [
    "#### fölösleges oszlopok törlése\n",
    "- ```del``` vagy\n",
    "- ```.drop(columns=  )``` használata"
   ]
  },
  {
   "cell_type": "code",
   "execution_count": null,
   "metadata": {
    "id": "Pz11ZvxgzIwb"
   },
   "outputs": [],
   "source": [
    "# fölösleges oszlopok törlése\n"
   ]
  },
  {
   "cell_type": "markdown",
   "metadata": {
    "id": "T0GIV8_0zIwc"
   },
   "source": [
    "#### a nehézségi gyorsulás állandó értékének levonása"
   ]
  },
  {
   "cell_type": "code",
   "execution_count": null,
   "metadata": {
    "id": "dN4YLQTdzIwc"
   },
   "outputs": [],
   "source": []
  },
  {
   "cell_type": "code",
   "execution_count": null,
   "metadata": {
    "id": "4XKv9xU4zIwc"
   },
   "outputs": [],
   "source": []
  },
  {
   "cell_type": "markdown",
   "metadata": {
    "id": "9nphJFUazIwc"
   },
   "source": [
    "#### \"Integrálás\""
   ]
  },
  {
   "cell_type": "code",
   "execution_count": null,
   "metadata": {
    "id": "1s6_GHG7zIwc"
   },
   "outputs": [],
   "source": [
    "def dint(time,a,v0=0.0):\n",
    "    N=len(time)                    # a tömb első dimenziója\n",
    "    intt=np.zeros(N)           # az integrál értékek tömbje\n",
    "    # Ide jön a lényegi rész\n",
    "    return intt"
   ]
  },
  {
   "cell_type": "markdown",
   "metadata": {
    "id": "vjvU0IsszIwc"
   },
   "source": [
    "#### pillanatnyi sebesség v(t) kiszámítása és ábrázolása"
   ]
  },
  {
   "cell_type": "code",
   "execution_count": null,
   "metadata": {
    "id": "-54laM4tzIwd"
   },
   "outputs": [],
   "source": []
  },
  {
   "cell_type": "markdown",
   "metadata": {
    "id": "JduE_f-9zIwd"
   },
   "source": [
    "#### pillanatnyi hely x(t) kiszámítása és ábrázolása"
   ]
  },
  {
   "cell_type": "code",
   "execution_count": null,
   "metadata": {
    "id": "CDomRi0NzIwd"
   },
   "outputs": [],
   "source": []
  }
 ],
 "metadata": {
  "colab": {
   "provenance": []
  },
  "kernelspec": {
   "display_name": "Python 3 (ipykernel)",
   "language": "python",
   "name": "python3"
  },
  "language_info": {
   "codemirror_mode": {
    "name": "ipython",
    "version": 3
   },
   "file_extension": ".py",
   "mimetype": "text/x-python",
   "name": "python",
   "nbconvert_exporter": "python",
   "pygments_lexer": "ipython3",
   "version": "3.9.15"
  }
 },
 "nbformat": 4,
 "nbformat_minor": 0
}
