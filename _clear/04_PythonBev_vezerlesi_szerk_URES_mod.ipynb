{
  "cells": [
    {
      "cell_type": "markdown",
      "metadata": {
        "id": "hG1O5cC9sbFN"
      },
      "source": [
        "[![Open In Colab](https://github.com/zoldbirka/colab-test-pub/blob/master/notebooks/colab-badge.png?raw=1)](https://colab.research.google.com/github/zoldbirka/colab-test-pub/blob/master/_clear/04_PythonBev_vezerlesi_szerk_URES.ipynb)"
      ]
    },
    {
      "cell_type": "markdown",
      "metadata": {
        "id": "uKn5TiKO3LHs",
        "jp-MarkdownHeadingCollapsed": true,
        "tags": []
      },
      "source": [
        "# Vezérlési szerkezetek II.\n",
        "\n",
        "- Pythonban a vezérlési szerkezetek belsejét behúzással kell jelölni.\n",
        "- Ezt a behúzást a ```Tab``` billenytű lenyomásával érhetjük el"
      ]
    },
    {
      "cell_type": "markdown",
      "metadata": {
        "id": "_k9sUP4wsbFY"
      },
      "source": [
        "## while ciklus\n",
        "- lehet, hogy nem tudjuk előre a lépések számát...\n",
        "- [while utasítása Python dokumentációban](https://docs.python.org/3/reference/compound_stmts.html#the-while-statement)\n",
        "\n",
        "- Szintaxis:\n",
        "```\n",
        "  while FELTÉTEL:\n",
        "      UTASÍTÁS\n",
        "```"
      ]
    },
    {
      "cell_type": "markdown",
      "metadata": {
        "id": "a7LvDehVsbFa"
      },
      "source": [
        "+ Egy jól megírt program esetén **az utasítás a feltételt előbb-utóbb hamisra állítja**. (Ellenkező esetben, ha a feltétel igaz, akkor az is marad, így  végtelen ciklus keletkezik.)"
      ]
    },
    {
      "cell_type": "markdown",
      "metadata": {
        "id": "1TaGvJCjsbFc"
      },
      "source": [
        "### 1.&nbsp;példa: Móricka a programozásvizsgán\n",
        "Móricka addig megy a programozás vizsgára amíg az nem sikerül neki.\n",
        "A ponthatár 16 pont."
      ]
    },
    {
      "cell_type": "code",
      "execution_count": null,
      "metadata": {
        "id": "U-1KRWE-sbFd"
      },
      "outputs": [],
      "source": [
        "## Példa: Móricka a programozásvizsgán.\n",
        "while int(input('Hány pontot értél el? ')) < 16:\n",
        "    print('Tanulj még!')\n",
        "\n",
        "print('Gratulálok, átmentél.')"
      ]
    },
    {
      "cell_type": "markdown",
      "metadata": {
        "id": "HNk6crgSsbFi"
      },
      "source": [
        "### 2.&nbsp;példa: Testmagasság bekérése amíg valós adatot nem kapunk\n",
        "- Kérjük be a felhasználótól a centiméterben megadott testmagasságot (h)\n",
        "- Vegyük figyelembe, hogy a valaha létező\n",
        "  - legalacsonyabb ember 54,6 cm,\n",
        "  - a legmagasabb ember pedig 272 cm-es volt!"
      ]
    },
    {
      "cell_type": "code",
      "execution_count": null,
      "metadata": {
        "id": "sYyStxxjsbFk"
      },
      "outputs": [],
      "source": [
        "# Megoldás:"
      ]
    },
    {
      "cell_type": "markdown",
      "metadata": {
        "id": "jI3jYq0GsbFk"
      },
      "source": [
        "### 3.&nbsp;példa\n",
        "Ki tudnánk írni az első 10 negyzetszámot while segítségével a képernyőre?"
      ]
    },
    {
      "cell_type": "code",
      "execution_count": null,
      "metadata": {
        "id": "xoV2fUKLsbFl"
      },
      "outputs": [],
      "source": [
        "# Megoldás:"
      ]
    },
    {
      "cell_type": "markdown",
      "metadata": {
        "id": "UHQznbNRsbFm"
      },
      "source": [
        "### Hibalehetőségek:\n",
        "- Végtelen cilus: a feltétel mindig teljesül\n",
        "- El sem induló ciklus: a feltétel már az első lépésben elbukik"
      ]
    },
    {
      "cell_type": "code",
      "execution_count": null,
      "metadata": {
        "id": "5mtxBwOGsbFm"
      },
      "outputs": [],
      "source": [
        "# Végtelen ciklus ha mindig teljesül a feltétel.\n",
        "# NE FUTASSA!\n",
        "# i = 1\n",
        "# while (i <= 10):\n",
        "#     print(i**2)"
      ]
    },
    {
      "cell_type": "code",
      "execution_count": null,
      "metadata": {
        "id": "QdA9fDyWsbFn"
      },
      "outputs": [],
      "source": [
        "## El sem induló ciklus\n",
        "i = 11\n",
        "print(i)\n",
        "while (i <= 10):\n",
        "    print(i**2)\n",
        "    i += 1\n",
        "print('Vége')"
      ]
    },
    {
      "cell_type": "markdown",
      "metadata": {
        "id": "O0Oc_jM5sbFn"
      },
      "source": [
        "## Ciklus futásának befolyásolása\n",
        "- ```break``` - azonnali kiugrás a ciklusból\n",
        "- ```continue``` - az adott \"ütem\" továbbléptetése"
      ]
    },
    {
      "cell_type": "markdown",
      "metadata": {
        "id": "Igs-sSOksbFo"
      },
      "source": [
        "### 1.&nbsp;példa: Móricka a programozásvizsgán (break verzió)"
      ]
    },
    {
      "cell_type": "code",
      "execution_count": null,
      "metadata": {
        "id": "d2NDrTMRsbFo"
      },
      "outputs": [],
      "source": [
        "# break használatával"
      ]
    },
    {
      "cell_type": "markdown",
      "metadata": {
        "id": "hxxhKRwqsbFo"
      },
      "source": [
        "### 2.&nbsp;példa: Testmagasság bekérése (break verzió)"
      ]
    },
    {
      "cell_type": "code",
      "execution_count": null,
      "metadata": {
        "id": "_QLwWD-qsbFo"
      },
      "outputs": [],
      "source": [
        "# break használatával"
      ]
    },
    {
      "cell_type": "markdown",
      "metadata": {
        "id": "patQe50NsbFp"
      },
      "source": [
        "### 3.&nbsp;példa: Páros négyzetszámok kiíratása 100-ig"
      ]
    },
    {
      "cell_type": "code",
      "execution_count": null,
      "metadata": {
        "id": "VJcztc28sbFp"
      },
      "outputs": [],
      "source": [
        "# range testreszabásával:"
      ]
    },
    {
      "cell_type": "code",
      "execution_count": null,
      "metadata": {
        "id": "_URMNvQWsbFp"
      },
      "outputs": [],
      "source": [
        "# if segítségével párosságot ellenőrizve"
      ]
    },
    {
      "cell_type": "code",
      "execution_count": null,
      "metadata": {
        "id": "jpJ7zR-HsbFq"
      },
      "outputs": [],
      "source": [
        "# if segítségével páratlanságot ellenőrizve és ütemet átlépve"
      ]
    },
    {
      "cell_type": "markdown",
      "metadata": {
        "id": "e3PN3uZ33LH0"
      },
      "source": [
        "## Gyakorlás: Egyszerű számkitalálós játék\n",
        "\n",
        "Készítsünk programot, amely sorsol egy egész számot 1-től 100-ig, majd tippeket kér a játékostól, amíg a játékos el nem találja a számot. A program minden tipp után írja ki, hogy a megadott tipp túl kicsi, túl nagy vagy helyes volt-e!"
      ]
    },
    {
      "cell_type": "code",
      "execution_count": null,
      "metadata": {
        "id": "2vMdCYyv3LH1"
      },
      "outputs": [],
      "source": [
        "# Az (ál)véletlenszám-generáló modul importálása.\n",
        "# Véletlen egész szám kisorsolása 1 és 100 között. -- randint() függvény a random modulból\n",
        "# Tippek kérése, amíg a játékos el nem találja a számot.\n",
        "# ----   tipp bekerese --------\n",
        "#------------------------------------"
      ]
    },
    {
      "cell_type": "code",
      "execution_count": null,
      "metadata": {
        "id": "pYnEn8-yyYZv"
      },
      "outputs": [],
      "source": [
        "# randint függvény dokumentációs sztringje!"
      ]
    }
  ],
  "metadata": {
    "colab": {
      "provenance": []
    },
    "kernelspec": {
      "display_name": "Python 3 (ipykernel)",
      "language": "python",
      "name": "python3"
    },
    "language_info": {
      "codemirror_mode": {
        "name": "ipython",
        "version": 3
      },
      "file_extension": ".py",
      "mimetype": "text/x-python",
      "name": "python",
      "nbconvert_exporter": "python",
      "pygments_lexer": "ipython3",
      "version": "3.9.15"
    }
  },
  "nbformat": 4,
  "nbformat_minor": 0
}