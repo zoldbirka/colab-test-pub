{
    "cells": [
        {
            "cell_type": "markdown",
            "metadata": {},
            "source": [
                "[![Open In Colab](../notebooks/colab-badge.png)](https://colab.research.google.com/github/zoldbirka/colab-test-pub/blob/master/_clear/04_PythonBev_vezerlesi_szerk_URES.ipynb)"
            ]
        },
        {
            "cell_type": "markdown",
            "metadata": {
                "id": "uKn5TiKO3LHs",
                "jp-MarkdownHeadingCollapsed": true,
                "tags": []
            },
            "source": [
                "# Vez\u00e9rl\u00e9si szerkezetek II.\n",
                "\n",
                "- Pythonban a vez\u00e9rl\u00e9si szerkezetek belsej\u00e9t beh\u00faz\u00e1ssal kell jel\u00f6lni.\n",
                "- Ezt a beh\u00faz\u00e1st a ```Tab``` billenyt\u0171 lenyom\u00e1s\u00e1val \u00e9rhetj\u00fck el"
            ]
        },
        {
            "cell_type": "markdown",
            "metadata": {},
            "source": [
                "## while ciklus\n",
                "- lehet, hogy nem tudjuk el\u0151re a l\u00e9p\u00e9sek sz\u00e1m\u00e1t...\n",
                "- [while utas\u00edt\u00e1sa Python dokument\u00e1ci\u00f3ban](https://docs.python.org/3/reference/compound_stmts.html#the-while-statement)\n",
                "\n",
                "- Szintaxis:\n",
                "```\n",
                "  while FELT\u00c9TEL:\n",
                "      UTAS\u00cdT\u00c1S\n",
                "```"
            ]
        },
        {
            "cell_type": "markdown",
            "metadata": {},
            "source": [
                "+ Egy j\u00f3l meg\u00edrt program eset\u00e9n **az utas\u00edt\u00e1s a felt\u00e9telt el\u0151bb-ut\u00f3bb hamisra \u00e1ll\u00edtja**. (Ellenkez\u0151 esetben, ha a felt\u00e9tel igaz, akkor az is marad, \u00edgy  v\u00e9gtelen ciklus keletkezik.)"
            ]
        },
        {
            "cell_type": "markdown",
            "metadata": {},
            "source": [
                "### 1.&nbsp;p\u00e9lda: M\u00f3ricka a programoz\u00e1svizsg\u00e1n\n",
                "M\u00f3ricka addig megy a programoz\u00e1s vizsg\u00e1ra am\u00edg az nem siker\u00fcl neki. \n",
                "A ponthat\u00e1r 16 pont. "
            ]
        },
        {
            "cell_type": "code",
            "execution_count": 2,
            "metadata": {},
            "outputs": [],
            "source": [
                "## P\u00e9lda: M\u00f3ricka a programoz\u00e1svizsg\u00e1n.\n",
                "while int(input('H\u00e1ny pontot \u00e9rt\u00e9l el? ')) < 16:\n",
                "    print('Tanulj m\u00e9g!')\n",
                "\n",
                "print('Gratul\u00e1lok, \u00e1tment\u00e9l.')"
            ]
        },
        {
            "cell_type": "markdown",
            "metadata": {},
            "source": [
                "### 2.&nbsp;p\u00e9lda: Testmagass\u00e1g bek\u00e9r\u00e9se am\u00edg val\u00f3s adatot nem kapunk\n",
                "- K\u00e9rj\u00fck be a felhaszn\u00e1l\u00f3t\u00f3l a centim\u00e9terben megadott testmagass\u00e1got (h)\n",
                "- Vegy\u00fck figyelembe, hogy a valaha l\u00e9tez\u0151 \n",
                "  - legalacsonyabb ember 54,6 cm,\n",
                "  - a legmagasabb ember pedig 272 cm-es volt!"
            ]
        },
        {
            "cell_type": "code",
            "execution_count": 3,
            "metadata": {},
            "outputs": [],
            "source": [
                "# Megold\u00e1s:",
                ""
            ]
        },
        {
            "cell_type": "markdown",
            "metadata": {},
            "source": [
                "### 3.&nbsp;p\u00e9lda\n",
                "Ki tudn\u00e1nk \u00edrni az els\u0151 10 negyzetsz\u00e1mot while seg\u00edts\u00e9g\u00e9vel a k\u00e9perny\u0151re?"
            ]
        },
        {
            "cell_type": "code",
            "execution_count": 4,
            "metadata": {},
            "outputs": [],
            "source": [
                "# Megold\u00e1s:",
                ""
            ]
        },
        {
            "cell_type": "markdown",
            "metadata": {},
            "source": [
                "### Hibalehet\u0151s\u00e9gek:\n",
                "- V\u00e9gtelen cilus: a felt\u00e9tel mindig teljes\u00fcl\n",
                "- El sem indul\u00f3 ciklus: a felt\u00e9tel m\u00e1r az els\u0151 l\u00e9p\u00e9sben elbukik"
            ]
        },
        {
            "cell_type": "code",
            "execution_count": 4,
            "metadata": {},
            "outputs": [],
            "source": [
                "# V\u00e9gtelen ciklus ha mindig teljes\u00fcl a felt\u00e9tel.\n",
                "# NE FUTASSA!\n",
                "# i = 1\n",
                "# while (i <= 10):",
                "#     print(i**2)",
                ""
            ]
        },
        {
            "cell_type": "code",
            "execution_count": 5,
            "metadata": {},
            "outputs": [],
            "source": [
                "## El sem indul\u00f3 ciklus\n",
                "i = 11\n",
                "print(i)\n",
                "while (i <= 10):\n",
                "    print(i**2)\n",
                "    i += 1\n",
                "print('V\u00e9ge')"
            ]
        },
        {
            "cell_type": "markdown",
            "metadata": {},
            "source": [
                "## Ciklus fut\u00e1s\u00e1nak befoly\u00e1sol\u00e1sa\n",
                "- ```break``` - azonnali kiugr\u00e1s a ciklusb\u00f3l\n",
                "- ```continue``` - az adott \"\u00fctem\" tov\u00e1bbl\u00e9ptet\u00e9se"
            ]
        },
        {
            "cell_type": "markdown",
            "metadata": {},
            "source": [
                "### 1.&nbsp;p\u00e9lda: M\u00f3ricka a programoz\u00e1svizsg\u00e1n (break verzi\u00f3)"
            ]
        },
        {
            "cell_type": "code",
            "execution_count": 6,
            "metadata": {},
            "outputs": [],
            "source": [
                "# break haszn\u00e1lat\u00e1val",
                ""
            ]
        },
        {
            "cell_type": "markdown",
            "metadata": {},
            "source": [
                "### 2.&nbsp;p\u00e9lda: Testmagass\u00e1g bek\u00e9r\u00e9se (break verzi\u00f3)"
            ]
        },
        {
            "cell_type": "code",
            "execution_count": 7,
            "metadata": {},
            "outputs": [],
            "source": [
                "# break haszn\u00e1lat\u00e1val",
                ""
            ]
        },
        {
            "cell_type": "markdown",
            "metadata": {},
            "source": [
                "### 3.&nbsp;p\u00e9lda: P\u00e1ros n\u00e9gyzetsz\u00e1mok ki\u00edrat\u00e1sa 100-ig"
            ]
        },
        {
            "cell_type": "code",
            "execution_count": 8,
            "metadata": {},
            "outputs": [],
            "source": [
                "# range testreszab\u00e1s\u00e1val:",
                ""
            ]
        },
        {
            "cell_type": "code",
            "execution_count": 9,
            "metadata": {},
            "outputs": [],
            "source": [
                "# if seg\u00edts\u00e9g\u00e9vel p\u00e1ross\u00e1got ellen\u0151rizve",
                ""
            ]
        },
        {
            "cell_type": "code",
            "execution_count": 10,
            "metadata": {},
            "outputs": [],
            "source": [
                "# if seg\u00edts\u00e9g\u00e9vel p\u00e1ratlans\u00e1got ellen\u0151rizve \u00e9s \u00fctemet \u00e1tl\u00e9pve",
                ""
            ]
        },
        {
            "cell_type": "markdown",
            "metadata": {
                "id": "e3PN3uZ33LH0"
            },
            "source": [
                "## Gyakorl\u00e1s: Egyszer\u0171 sz\u00e1mkital\u00e1l\u00f3s j\u00e1t\u00e9k\n",
                "\n",
                "K\u00e9sz\u00edts\u00fcnk programot, amely sorsol egy eg\u00e9sz sz\u00e1mot 1-t\u0151l 100-ig, majd tippeket k\u00e9r a j\u00e1t\u00e9kost\u00f3l, am\u00edg a j\u00e1t\u00e9kos el nem tal\u00e1lja a sz\u00e1mot. A program minden tipp ut\u00e1n \u00edrja ki, hogy a megadott tipp t\u00fal kicsi, t\u00fal nagy vagy helyes volt-e!"
            ]
        },
        {
            "cell_type": "code",
            "execution_count": 12,
            "metadata": {
                "colab": {
                    "base_uri": "https://localhost:8080/"
                },
                "executionInfo": {
                    "elapsed": 175330,
                    "status": "ok",
                    "timestamp": 1683037081650,
                    "user": {
                        "displayName": "Piroska D\u00f6m\u00f6t\u00f6r",
                        "userId": "03696721308245428945"
                    },
                    "user_tz": -120
                },
                "id": "2vMdCYyv3LH1",
                "outputId": "571f04b3-d3cd-4140-b4e1-4ebe5f071c2b"
            },
            "outputs": [],
            "source": [
                "# Az (\u00e1l)v\u00e9letlensz\u00e1m-gener\u00e1l\u00f3 modul import\u00e1l\u00e1sa.",
                "# V\u00e9letlen eg\u00e9sz sz\u00e1m kisorsol\u00e1sa 1 \u00e9s 100 k\u00f6z\u00f6tt. -- randint() f\u00fcggv\u00e9ny a random modulb\u00f3l",
                "# Tippek k\u00e9r\u00e9se, am\u00edg a j\u00e1t\u00e9kos el nem tal\u00e1lja a sz\u00e1mot.",
                "# ----   tipp bekerese --------",
                "#------------------------------------",
                ""
            ]
        },
        {
            "cell_type": "code",
            "execution_count": null,
            "metadata": {
                "colab": {
                    "base_uri": "https://localhost:8080/",
                    "height": 36
                },
                "executionInfo": {
                    "elapsed": 40,
                    "status": "ok",
                    "timestamp": 1683037081651,
                    "user": {
                        "displayName": "Piroska D\u00f6m\u00f6t\u00f6r",
                        "userId": "03696721308245428945"
                    },
                    "user_tz": -120
                },
                "id": "pYnEn8-yyYZv",
                "outputId": "48268350-d4dd-422b-b409-88872f234741"
            },
            "outputs": [],
            "source": [
                "# randint f\u00fcggv\u00e9ny dokument\u00e1ci\u00f3s sztringje!",
                ""
            ]
        }
    ],
    "metadata": {
        "colab": {
            "provenance": [
                {
                    "file_id": "1mi0ka5IXZY5HV5AnBTUzSVTg9sdjwYqS",
                    "timestamp": 1683043465192
                },
                {
                    "file_id": "1Uw09KEcyRQFDjtf8kY4ODUFCtS_FFAf7",
                    "timestamp": 1681980768561
                }
            ]
        },
        "kernelspec": {
            "display_name": "Python 3 (ipykernel)",
            "language": "python",
            "name": "python3"
        },
        "language_info": {
            "codemirror_mode": {
                "name": "ipython",
                "version": 3
            },
            "file_extension": ".py",
            "mimetype": "text/x-python",
            "name": "python",
            "nbconvert_exporter": "python",
            "pygments_lexer": "ipython3",
            "version": "3.9.15"
        }
    },
    "nbformat": 4,
    "nbformat_minor": 4
}