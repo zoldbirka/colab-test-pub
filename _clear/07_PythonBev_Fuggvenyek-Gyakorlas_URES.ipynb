{
 "cells": [
  {
   "cell_type": "markdown",
   "metadata": {},
   "source": [
    "[![Open In Colab](../notebooks/colab-badge.png)](https://colab.research.google.com/github/zoldbirka/colab-test-pub/blob/master/07_PythonBev_Fuggvenyek-Gyakorlas_URES.ipynb)"
   ]
  },
  {
   "cell_type": "markdown",
   "metadata": {
    "id": "kusjJCTSo7UG"
   },
   "source": [
    "# 7. alkalom: Függvények gyakorlás"
   ]
  },
  {
   "cell_type": "markdown",
   "metadata": {
    "id": "ThD30CO6vzMR"
   },
   "source": [
    "## Feladat: Prímtesztelés\n",
    "Készítsünk függvényt, amely eldönti egy természetes számról, hogy prím-e!"
   ]
  },
  {
   "cell_type": "code",
   "execution_count": null,
   "metadata": {
    "colab": {
     "base_uri": "https://localhost:8080/"
    },
    "executionInfo": {
     "elapsed": 34,
     "status": "ok",
     "timestamp": 1684235607037,
     "user": {
      "displayName": "Piroska Dömötör",
      "userId": "03696721308245428945"
     },
     "user_tz": -120
    },
    "id": "sXtFBo1hvzMS",
    "outputId": "4adceebc-3114-4033-9ca8-e15c86cb3cac"
   },
   "outputs": [],
   "source": [
    "# 1. változat: függvény nélkül\n",
    "\n"
   ]
  },
  {
   "cell_type": "code",
   "execution_count": null,
   "metadata": {
    "id": "klQSSjJ3vzMS"
   },
   "outputs": [],
   "source": [
    "# 2. változat: függvénnyel\n",
    "\n"
   ]
  },
  {
   "cell_type": "markdown",
   "metadata": {
    "id": "Zxl6nUeHnraV"
   },
   "source": [
    "## Szervezzük át a korábban már megírt programjainkat függvénnyé "
   ]
  },
  {
   "cell_type": "markdown",
   "metadata": {},
   "source": [
    "### **Példa**: n-szer n-es háromszög * karakterekből."
   ]
  },
  {
   "cell_type": "code",
   "execution_count": null,
   "metadata": {
    "colab": {
     "base_uri": "https://localhost:8080/"
    },
    "executionInfo": {
     "elapsed": 339,
     "status": "ok",
     "timestamp": 1684248444054,
     "user": {
      "displayName": "Piroska Dömötör",
      "userId": "03696721308245428945"
     },
     "user_tz": -120
    },
    "id": "te6UATdQ3LHy",
    "outputId": "fd6c81a9-9b63-4b9b-d94a-779ad5e62ee6",
    "scrolled": true
   },
   "outputs": [],
   "source": [
    "## korábbi kódunk\n",
    "n = 10\n",
    "for hossz in range(1, n + 1):\n",
    "    print(\"*\" * hossz )"
   ]
  },
  {
   "cell_type": "code",
   "execution_count": 6,
   "metadata": {},
   "outputs": [],
   "source": [
    "# fügvénnyel amely stringet ad vissza\n"
   ]
  },
  {
   "cell_type": "markdown",
   "metadata": {},
   "source": [
    "### **Példa**: Magánhangzók statisztikája szótárral (angol kisbetűs szövegben)."
   ]
  },
  {
   "cell_type": "code",
   "execution_count": null,
   "metadata": {
    "executionInfo": {
     "elapsed": 400,
     "status": "ok",
     "timestamp": 1684249100295,
     "user": {
      "displayName": "Piroska Dömötör",
      "userId": "03696721308245428945"
     },
     "user_tz": -120
    },
    "id": "tAddcDVR3LHz"
   },
   "outputs": [],
   "source": [
    "## korábbi kódunk\n",
    "\n",
    "text = 'This is a short text for testing the algorithm.'\n",
    "vowels = 'aeiou'\n",
    "\n",
    "stat = dict()\n",
    "\n",
    "for mgh in vowels:\n",
    "    mgh_db = 0\n",
    "    for betu in text.lower():\n",
    "        if betu == mgh:\n",
    "            mgh_db += 1\n",
    "    print(mgh, \":\", mgh_db )\n",
    "    stat[mgh] = mgh_db"
   ]
  },
  {
   "cell_type": "code",
   "execution_count": 10,
   "metadata": {
    "id": "s8ygtou_3LH0"
   },
   "outputs": [],
   "source": [
    "# fügvénnyel\n"
   ]
  },
  {
   "cell_type": "markdown",
   "metadata": {
    "id": "gMViSTKbvzMX"
   },
   "source": [
    "## Lambda kifejezések\n",
    "- A lambda kifejezés nem más, mint egysoros, névtelen függvény.\n",
    "- [Lambda kifejezések a dokumentációban](https://docs.python.org/3/reference/expressions.html#lambda)"
   ]
  },
  {
   "cell_type": "code",
   "execution_count": null,
   "metadata": {
    "id": "823exY70vzMX",
    "outputId": "e53e3001-bc4e-4fca-9faf-a88586613912"
   },
   "outputs": [],
   "source": [
    "## Példa lambda kifejezésre.\n",
    "f = lambda x: x + 42\n",
    "f(3)"
   ]
  },
  {
   "cell_type": "code",
   "execution_count": 13,
   "metadata": {
    "id": "-PNomTdgvzMZ"
   },
   "outputs": [],
   "source": [
    "# Egynél több bemenet is megengedett.\n"
   ]
  },
  {
   "cell_type": "markdown",
   "metadata": {
    "id": "lg-QvzB9vzMa"
   },
   "source": [
    "### Lambda kifejezés alkalmazása rendezésnél"
   ]
  },
  {
   "cell_type": "code",
   "execution_count": null,
   "metadata": {
    "id": "jum7q68nvzMa"
   },
   "outputs": [],
   "source": [
    "# Párok listájának rendezése a második elem szerint.\n",
    "pairs = [('alma', 22), ('körte', 11), ('barack', 33)]\n",
    "\n"
   ]
  },
  {
   "cell_type": "code",
   "execution_count": null,
   "metadata": {
    "id": "QLmCLEwjvzMa"
   },
   "outputs": [],
   "source": [
    "# Az előző feladat megoldása lambda kifejezés nélkül külön függvényt definiálva\n",
    "pairs = [('alma', 22), ('körte', 11), ('barack', 33)]\n"
   ]
  },
  {
   "cell_type": "code",
   "execution_count": null,
   "metadata": {
    "id": "myzzRcncvzMb"
   },
   "outputs": [],
   "source": [
    "# Szótárkulcsok rendezése az értékek szerint.\n",
    "words = {'king': 203, 'denmark': 24, 'queen': 192}\n"
   ]
  },
  {
   "cell_type": "markdown",
   "metadata": {},
   "source": [
    "## Feladat: \n",
    "Készítsünk függvényt, amely kiszámítja egy ferdén elhajított labda helyét tetszőleges időpontban.\n",
    "\n",
    "A labdát indítsuk egy 25 méter magas épület tetejéről, 20 m/s kezdősebességgel, amely a vízszintessel 35°-os szöget zár be.\n",
    "\n",
    "Hol lesz a labda 1.5 másodperc múlva? \n",
    "\n",
    "A függvényeket felhasználva gyűjtse ki a test hely adatait egy-egy listába. A kezdeti 0 időponttól, t_max másodpercig, adott dt lépésekkel. Az idő adatokat is tárolja el egy listában. \n",
    "\n",
    "Mikor érkezik meg a labda a talaj szintre? Milyen messze van ekkor vízszintes irányban a kiindulási helytől? \n",
    "\n",
    "Milyen magasra jutott a labda? "
   ]
  },
  {
   "cell_type": "code",
   "execution_count": null,
   "metadata": {},
   "outputs": [],
   "source": [
    "import math"
   ]
  },
  {
   "cell_type": "code",
   "execution_count": null,
   "metadata": {},
   "outputs": [],
   "source": [
    "# megadott adatok\n"
   ]
  },
  {
   "cell_type": "code",
   "execution_count": null,
   "metadata": {},
   "outputs": [],
   "source": [
    "# kezdeti hely és sebesség\n"
   ]
  },
  {
   "cell_type": "code",
   "execution_count": null,
   "metadata": {},
   "outputs": [],
   "source": [
    "# hely-idő függvények"
   ]
  },
  {
   "cell_type": "code",
   "execution_count": null,
   "metadata": {},
   "outputs": [],
   "source": [
    "# hol vagyunk t1 = 1.5 s-nál?\n"
   ]
  },
  {
   "cell_type": "markdown",
   "metadata": {},
   "source": [
    "## Teknős grafika függvényekkel"
   ]
  },
  {
   "cell_type": "code",
   "execution_count": 18,
   "metadata": {},
   "outputs": [],
   "source": [
    "#import turtle\n"
   ]
  },
  {
   "cell_type": "code",
   "execution_count": 19,
   "metadata": {},
   "outputs": [],
   "source": [
    "!pip3 install ColabTurtle"
   ]
  },
  {
   "cell_type": "code",
   "execution_count": 20,
   "metadata": {},
   "outputs": [],
   "source": [
    "import ColabTurtle.Turtle as turtle"
   ]
  },
  {
   "cell_type": "code",
   "execution_count": null,
   "metadata": {},
   "outputs": [],
   "source": [
    "## lássuk, hogyan működik a teknőc\n",
    "turtle.initializeTurtle(initial_speed = 3 )\n",
    "turtle.bgcolor(1,1,1)\n",
    "turtle.color(\"red\")   # red = piros színű a toll\n",
    "turtle.forward(200)   # forward = előre megyünk 200 pixelt\n",
    "turtle.left(90)       # left = balra fordulunk 90 fokot\n",
    "turtle.forward(200)   # forward = előre megyünk 200 pixelt\n",
    "\n",
    "turtle.penup()        # most felvesszük a tollat\n",
    "turtle.forward(100)   # forward = előre megyünk 100 pixelt\n",
    "turtle.pendown()      # és letesszük a tollat"
   ]
  },
  {
   "cell_type": "code",
   "execution_count": 22,
   "metadata": {},
   "outputs": [],
   "source": [
    "# írjunk függvényt ami megvalósít egy adott méretű továbbosonoást\n"
   ]
  },
  {
   "cell_type": "code",
   "execution_count": 23,
   "metadata": {},
   "outputs": [],
   "source": [
    "# írjunk függvényt amely négyzetet rajzol adott színnel és mérettel\n"
   ]
  },
  {
   "cell_type": "code",
   "execution_count": 24,
   "metadata": {},
   "outputs": [],
   "source": [
    "# játszunk el a függvényeinkkel!\n",
    "#Rajzoljunk több elfofgatott négyzetet.\n",
    "#Rajroljunk egymás mellé más-más színű négyzeteket!\n"
   ]
  },
  {
   "cell_type": "code",
   "execution_count": 25,
   "metadata": {},
   "outputs": [],
   "source": [
    "# írjunk függvényt ami testzőleges szabályos sokszöget rajzol!\n"
   ]
  },
  {
   "cell_type": "code",
   "execution_count": 27,
   "metadata": {},
   "outputs": [],
   "source": [
    "# rajzoljunk kisházat a meglévő sokszögek segítségével\n"
   ]
  },
  {
   "cell_type": "markdown",
   "metadata": {},
   "source": [
    "# Feladatok"
   ]
  },
  {
   "cell_type": "markdown",
   "metadata": {},
   "source": [
    "## 1.feladat Legnagyobb közös osztó\n",
    "Készítsünk függvényt két természetes szám legnagyobb közös osztójának a meghatározására!\n",
    "\n",
    "- Gondoljuk végigig, hogyan oldanánk ezt meg egyszerűen az oszthatóságot vizsgálva. \n",
    "\n",
    "- Majd ismerkedjünk meg egy hatékonyabb megoldással, az Eulideszi algoritmussal:\n",
    "https://hu.wikipedia.org/wiki/Legnagyobb_k%C3%B6z%C3%B6s_oszt%C3%B3\n",
    "\n",
    "- Nézzünk utána a beépített lehetőségeknek is. Például a ```math``` modulban\n"
   ]
  },
  {
   "cell_type": "markdown",
   "metadata": {},
   "source": []
  },
  {
   "cell_type": "markdown",
   "metadata": {},
   "source": [
    "## 2.feladat Legkisebbb közös többszörös\n",
    "Készítsünk függvényt két természetes szám legkisebb közös többszörösének a  meghatározására!"
   ]
  },
  {
   "cell_type": "markdown",
   "metadata": {},
   "source": []
  },
  {
   "cell_type": "markdown",
   "metadata": {},
   "source": [
    "## 3.Feladat: Háromszög oldalak bekérése\n",
    "Írjon egy programot, ami bekéri egy háromszög 3 oldalhosszát. (a,b,c)\n",
    "A program csak a valóban szerkeszthető háromszög oldalakat fogadja el.\n",
    "\n",
    "**Az ellenőrzést függvények segítségével végezze el!**\n",
    "\n",
    "Azaz ellenőrizze, hogy\n",
    "\n",
    " - lehetnek-e az adatok oldalhosszak? Azaz pozitívak-e a megadott számok?\n",
    " - továbbá teljesül-e a háromszög egyenlőtlenség? (Bármely két oldal összege nagyobb a harmadiknál.)\n",
    "\n",
    "Ha valamelyik feltétel sérül arról adjon visszajelzést!"
   ]
  },
  {
   "cell_type": "code",
   "execution_count": 30,
   "metadata": {},
   "outputs": [],
   "source": [
    "def is_positive(a,b,c):\n",
    "    \"True: ha mind a 3 oldal pozitív szám, különben False\"\n",
    "    pass\n",
    "\n",
    "def is_triangle(a,b,c):\n",
    "    \"True: ha teljesül a 3szögegyenlőtlenség, különben False\"\n",
    "    pass"
   ]
  },
  {
   "cell_type": "code",
   "execution_count": null,
   "metadata": {},
   "outputs": [],
   "source": []
  }
 ],
 "metadata": {
  "colab": {
   "collapsed_sections": [
    "gMViSTKbvzMX"
   ],
   "provenance": [
    {
     "file_id": "1rLWR1er38CLYwqe97MzQ4lLLMmd84wrT",
     "timestamp": 1683637866414
    }
   ]
  },
  "kernelspec": {
   "display_name": "pylatest",
   "language": "python",
   "name": "python3"
  },
  "language_info": {
   "codemirror_mode": {
    "name": "ipython",
    "version": 3
   },
   "file_extension": ".py",
   "mimetype": "text/x-python",
   "name": "python",
   "nbconvert_exporter": "python",
   "pygments_lexer": "ipython3",
   "version": "3.9.15"
  }
 },
 "nbformat": 4,
 "nbformat_minor": 4
}
