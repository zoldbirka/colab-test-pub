{
 "cells": [
  {
   "cell_type": "markdown",
   "metadata": {
    "id": "qZthPn-dUOCt"
   },
   "source": [
    "# Adattípusok és alapműveletek, Változók megadása\n",
    "Ismerkedés a jupyter notebook felülettel. Első python programunk.\n",
    "Adattípusok és alapműveletek: egész, valós, (komplex), sztingek, logikai, semmi (None); és műveleteik. Változók megadása, használata. \n"
   ]
  },
  {
   "cell_type": "markdown",
   "metadata": {
    "id": "PQL2m9oYtYmA"
   },
   "source": [
    "## Bevezetés"
   ]
  },
  {
   "cell_type": "markdown",
   "metadata": {
    "id": "CmPQWZ5dtYmC"
   },
   "source": [
    "### Programozási alapfogalmak\n",
    "- **Algoritmus**: Valamely feladat megoldására alkalmas véges hosszú lépéssorozat.\n",
    "  - A fogalom hétköznapi feladatokra is alkalmazható (pl. Sacher-torta készítés, könyvespolc takarítás :-).\n",
    "- **Adatszerkezet**: Adatelemek tárolására és hatékony használatára szolgáló séma (példa: lista).\n",
    "- **Programozási nyelv**: Szigorú szabályokra épülő nyelv, melynek segítségével az ember képes a számítógép felé kommunikálni az utasításait.\n",
    "- **Programozás**: Algoritmusok és adatszerkezetek megtervezése illetve megvalósításuk valamilyen programozási nyelven (kódolás)."
   ]
  },
  {
   "cell_type": "markdown",
   "metadata": {
    "id": "qL_palt2tYmD"
   },
   "source": [
    "### A Python nyelv jellemzői\n",
    "\n",
    "`+` szintaxisa tömör, elegáns<br>\n",
    "`+` könnyen tanulható (\"brain-friendly\")<br>\n",
    "`+` több 10 ezer külső csomag érhető el hozzá (https://pypi.org/)<br>\n",
    "`+` erős közösség, évente PyCon konferenciák<br>\n",
    "`+` szabadon használható, nyílt forráskódú<br>\n",
    "`+` platformfüggetlen<br>\n",
    "`+` értelmezett nyelv, típusai dinamikusak<br>\n",
    "`+` többparadigmás nyelv<br>\n",
    "`–` bizonyos feladatokhoz lassú lehet<br>\n",
    "`–` többszálú lehetőségei korlátozottak<br>"
   ]
  },
  {
   "cell_type": "markdown",
   "metadata": {
    "id": "i5S4cpeQtYmE"
   },
   "source": [
    "### Történelem\n",
    "\n",
    "- **1994**: A Python 1.0 megjelenése.\n",
    "- **2000**: A Python 2.0 megjelenése.\n",
    "- **2001**: A Python Software Foundation megalakulása.\n",
    "- **2003**: Az első PyCon konferencia.\n",
    "- **2008**: A Python 3.0 megjelenése. Nem volt kompatibilis a 2-es verzióval. Az áttérés lassan ment, de végül megtörtént.\n",
    "- **2018**: Guido van Rossum lemond a BDFL címről. Egy ötfős bizottság lesz a legfőbb döntéshozó szerv a nyelvvel kapcsolatban (lásd: PEP 8016)."
   ]
  },
  {
   "cell_type": "markdown",
   "metadata": {
    "id": "DPAdsYQElkUG"
   },
   "source": [
    "## A Jupyter Notebook környezet (Colab)"
   ]
  },
  {
   "cell_type": "markdown",
   "metadata": {
    "id": "vFn27uGBtYmE"
   },
   "source": [
    "\n",
    "- A [Jupyter Notebook](https://jupyter-notebook.readthedocs.io/en/stable/) egy böngésző alapú, interaktív munkakörnyezet.\n",
    "- Elsődlegesen a Python nyelvhez fejlesztették ki, de más programozási nyelvekkel is használható.\n",
    "- Egy notebook cellákból áll, a cellák lehetnek szöveges (Markdown) vagy kód típusúak.\n",
    "- A kódcellákat le lehet futtatni, akár többször is egymás után. A futtatás eredménye megjelenik az adott kódcella utáni kimenetben.\n",
    "- A notebook használata kétféle üzemmódban történik:\n",
    "  + Parancsmódban tudjuk elvégezni a cellaszintű műveleteket (pl. új cella beszúrása, cella törlése, cellák mozgatása, lépegetés a cellák között, stb). Néhány billentyűparancs:\n",
    "    - ```b```: Új kódcella beszúrása az aktuális cella után. (```a``` ugyan ez elé)\n",
    "    - ```m (ctrl+MM)``` : Az aktuális cella típusának átállítása szövegesre.\n",
    "    - ```dd (ctrl+MD)```: Az aktuális cella törlése.\n",
    "    - ```Enter```: Átlépés szerkesztőmódba (az aktuális cella tartalmának szerkesztése).\n",
    "  + Szerkesztőmódban tudjuk szerkeszteni a cellák tartalmát. Néhány billentyűparancs:\n",
    "    - ```Shift+Enter```: Az aktuális cella futtatása.\n",
    "    - ```Esc```: Visszalépés parancsmódba.\n",
    "- A billentyűparancsokról a Help / Keyboard Shortcuts menü ad részletesebb leírást. (Eszközök / Használható parancsok vagy  ```ctrl +MH)```)"
   ]
  },
  {
   "cell_type": "markdown",
   "metadata": {
    "id": "e5WSqSbdkIjF"
   },
   "source": [
    "## Technikai részletek"
   ]
  },
  {
   "cell_type": "markdown",
   "metadata": {
    "id": "Mwck-VLLkL4l"
   },
   "source": [
    "### Implementációk"
   ]
  },
  {
   "cell_type": "markdown",
   "metadata": {
    "id": "HIAsLfMIkOaj"
   },
   "source": [
    "- CPython ( http://python.org/ )\n",
    "- PyPy ( http://pypy.org/ )\n",
    "- IronPython ( http://ironpython.net/ )\n",
    "- Jython ( http://www.jython.org/ )\n",
    "- MicroPython ( https://micropython.org/ )"
   ]
  },
  {
   "cell_type": "markdown",
   "metadata": {
    "id": "ajcxi6uchq_z"
   },
   "source": [
    "### Telepítés"
   ]
  },
  {
   "cell_type": "markdown",
   "metadata": {
    "id": "gbxeG4Ithub6"
   },
   "source": [
    "**Windows** \n",
    "\n",
    "A legcélszerűbb egy Python disztribúciót telepíteni:\n",
    "- Anaconda ( https://www.anaconda.com/products/distribution)\n",
    "- Miniconda ( http://conda.pydata.org/miniconda.html )\n",
    "\n",
    "**Linux**\n",
    "\n",
    "Több életképes alternatíva is van:\n",
    "- A rendszer csomagkezelőjének használata.\n",
    "- Az értelmező telepítése csomagkezelővel (vagy akár forráskódból), a külső csomagok telepítése pip-pel.\n",
    "- Python disztibúció használata."
   ]
  },
  {
   "cell_type": "markdown",
   "metadata": {
    "id": "uW0QT-h1kmwL"
   },
   "source": [
    "### Fejlesztőkörnyezetek"
   ]
  },
  {
   "cell_type": "markdown",
   "metadata": {
    "id": "eKHqbTt0knnV"
   },
   "source": [
    "**nehézsúlyú**\n",
    "- PyCharm ( http://www.jetbrains.com/pycharm/ )\n",
    "- Visual Studio Code ( https://code.visualstudio.com/ )\n",
    "- PyScripter ( https://sourceforge.net/projects/pyscripter/ )\n",
    "- Spyder ( https://www.spyder-ide.org/ ) ...\n",
    "\n",
    "**könnyűsúlyú**\n",
    "- Emacs / Vim / Geany/ ...\n",
    "- IDLE (az alap Python csomag része)\n",
    "- Jupyter Notebook ..."
   ]
  },
  {
   "cell_type": "markdown",
   "metadata": {
    "id": "U7fMXredtYmF"
   },
   "source": [
    "## Egyszerű adattípusok"
   ]
  },
  {
   "cell_type": "markdown",
   "metadata": {
    "id": "uNYgaUgOtYmF"
   },
   "source": [
    "### Egész szám (int)\n",
    "- A számok között a szokásos módon végezhetünk műveleteket. (```+ - * / ```)\n",
    "- [A python dokumentációban a számokra vonatkozó rész](https://docs.python.org/3/library/stdtypes.html#numeric-types-int-float-complex)\n",
    "- Eredmény kiíratása ```print()``` függvény segítségével"
   ]
  },
  {
   "cell_type": "code",
   "execution_count": 1,
   "metadata": {
    "colab": {
     "base_uri": "https://localhost:8080/"
    },
    "executionInfo": {
     "elapsed": 474,
     "status": "ok",
     "timestamp": 1680194789614,
     "user": {
      "displayName": "Piroska Dömötör",
      "userId": "03696721308245428945"
     },
     "user_tz": -120
    },
    "id": "76krzRY8tYmG",
    "outputId": "bc705319-576f-4198-f5d3-908afc343053"
   },
   "outputs": [
    {
     "name": "stdout",
     "output_type": "stream",
     "text": [
      "6\n",
      "-2\n",
      "10\n",
      "0.4\n"
     ]
    }
   ],
   "source": [
    "# Próbálja ki a 4 alapműveletet!\n",
    "print(2 + 4)\n",
    "print(2 - 4)\n",
    "print(2 * 5)\n",
    "print(2 / 5)"
   ]
  },
  {
   "cell_type": "markdown",
   "metadata": {
    "id": "Sgokipu_tYmJ"
   },
   "source": [
    "**Megjegyzések:**\n",
    "- A szóközök nem számítanak, a fenti írásmód a PEP 8 kódolási stílust követi.\n",
    "- **A sorkezdő behúzásnak viszont jelentése van a Pythonban!**\n",
    "- A Jupyter a futtatás után megjeleníti a cella utolsó kifejezését.\n",
    "- Vesszővel elválasztva az egész sor egy gyűjtemény => Mindet kiírja"
   ]
  },
  {
   "cell_type": "markdown",
   "metadata": {},
   "source": [
    "**Ügyeljünk a precedenciára**! Azaz a műveletek szokásos sorrendjére!\n",
    "\n",
    "A sorrend zárójelezéssel ```()``` felülbírálható. \n"
   ]
  },
  {
   "cell_type": "code",
   "execution_count": 2,
   "metadata": {
    "colab": {
     "base_uri": "https://localhost:8080/"
    },
    "executionInfo": {
     "elapsed": 326,
     "status": "ok",
     "timestamp": 1680194807458,
     "user": {
      "displayName": "Piroska Dömötör",
      "userId": "03696721308245428945"
     },
     "user_tz": -120
    },
    "id": "XfjCKtmNtYmJ",
    "outputId": "7d438351-5616-4d33-9f41-b3675c43b69e"
   },
   "outputs": [
    {
     "data": {
      "text/plain": [
       "0.09090909090909091"
      ]
     },
     "execution_count": 2,
     "metadata": {},
     "output_type": "execute_result"
    }
   ],
   "source": [
    "# Ha szeretnénk felülbírálni a precedenciát (műveletek szokásos sorrendjét), akkor használjunk zárójelezést!\n",
    "1/(3+4*2) "
   ]
  },
  {
   "cell_type": "markdown",
   "metadata": {
    "id": "4gLXHNn-DBmT"
   },
   "source": [
    "#### Egész értékű változó"
   ]
  },
  {
   "cell_type": "code",
   "execution_count": 3,
   "metadata": {
    "id": "dVQZx_-ItYmM"
   },
   "outputs": [],
   "source": [
    "# Hozzunk létre egy i nevű változót, és tegyük bele a 11 értéket!\n",
    "i = 11"
   ]
  },
  {
   "cell_type": "markdown",
   "metadata": {
    "id": "mL2sQygktYmM"
   },
   "source": [
    "**Megjegyzések:**\n",
    "- Az ```=``` az értékadás műveleti jele.\n",
    "- i változó felveszi a megadott értéket, de magának az értékadásnak nincs eredménye.\n",
    "- Emiatt a cella kimenete üres."
   ]
  },
  {
   "cell_type": "code",
   "execution_count": 4,
   "metadata": {
    "colab": {
     "base_uri": "https://localhost:8080/"
    },
    "executionInfo": {
     "elapsed": 422,
     "status": "ok",
     "timestamp": 1680194914667,
     "user": {
      "displayName": "Piroska Dömötör",
      "userId": "03696721308245428945"
     },
     "user_tz": -120
    },
    "id": "0nE0R8nbtYmO",
    "outputId": "ce3e02a7-184c-4ac3-9a16-c581fb234552"
   },
   "outputs": [
    {
     "name": "stdout",
     "output_type": "stream",
     "text": [
      "11\n"
     ]
    }
   ],
   "source": [
    "# irassuk ki a képernyőre i értékét -- print() \n",
    "print(i)"
   ]
  },
  {
   "cell_type": "code",
   "execution_count": 5,
   "metadata": {
    "colab": {
     "base_uri": "https://localhost:8080/"
    },
    "executionInfo": {
     "elapsed": 823,
     "status": "ok",
     "timestamp": 1680194932277,
     "user": {
      "displayName": "Piroska Dömötör",
      "userId": "03696721308245428945"
     },
     "user_tz": -120
    },
    "id": "opEGOpN-tYmO",
    "outputId": "d4198cd2-e5f4-4675-87ce-058eff963b6f"
   },
   "outputs": [
    {
     "name": "stdout",
     "output_type": "stream",
     "text": [
      "14\n",
      "33\n"
     ]
    }
   ],
   "source": [
    "# A változóra a továbbiakban is lehet hivatkozni.\n",
    "print(i + 3)\n",
    "print(3 * i)"
   ]
  },
  {
   "cell_type": "code",
   "execution_count": 6,
   "metadata": {
    "id": "vT-nlfgXtYmP"
   },
   "outputs": [],
   "source": [
    "# A változó értéke természetesen változtatható.\n",
    "i = 12"
   ]
  },
  {
   "cell_type": "code",
   "execution_count": 7,
   "metadata": {
    "colab": {
     "base_uri": "https://localhost:8080/"
    },
    "executionInfo": {
     "elapsed": 1068,
     "status": "ok",
     "timestamp": 1680194981255,
     "user": {
      "displayName": "Piroska Dömötör",
      "userId": "03696721308245428945"
     },
     "user_tz": -120
    },
    "id": "om_K5qDitYmQ",
    "outputId": "ad6d33d1-ccab-49d9-fae6-aee754ec4ebe"
   },
   "outputs": [
    {
     "name": "stdout",
     "output_type": "stream",
     "text": [
      "10\n",
      "20\n"
     ]
    }
   ],
   "source": [
    "# Az értékadást lehet kombinálni a többi művelettel.\n",
    "# += *= -= használata\n",
    "i = 10\n",
    "print(i)\n",
    "i *= 2     # i = i * 2\n",
    "print(i)"
   ]
  },
  {
   "cell_type": "code",
   "execution_count": 8,
   "metadata": {},
   "outputs": [
    {
     "name": "stdout",
     "output_type": "stream",
     "text": [
      "13\n"
     ]
    }
   ],
   "source": [
    "i = 10\n",
    "i += 3    # i = i + 3  \n",
    "print(i)"
   ]
  },
  {
   "cell_type": "markdown",
   "metadata": {
    "id": "R4itrk7jDOcT"
   },
   "source": [
    "#### Megjegyzések a műveletekről"
   ]
  },
  {
   "cell_type": "markdown",
   "metadata": {},
   "source": [
    "Sok hibalehetőséget megelőz, hogy külön műveleti jele van a lebegőpontos (```/```) és az egészosztásnak (```//```)."
   ]
  },
  {
   "cell_type": "code",
   "execution_count": 9,
   "metadata": {
    "colab": {
     "base_uri": "https://localhost:8080/"
    },
    "executionInfo": {
     "elapsed": 477,
     "status": "ok",
     "timestamp": 1680194997709,
     "user": {
      "displayName": "Piroska Dömötör",
      "userId": "03696721308245428945"
     },
     "user_tz": -120
    },
    "id": "fuO50aMJtYmR",
    "outputId": "c2187f81-21e4-4d19-c4c0-933d83d40983"
   },
   "outputs": [
    {
     "data": {
      "text/plain": [
       "0.42857142857142855"
      ]
     },
     "execution_count": 9,
     "metadata": {},
     "output_type": "execute_result"
    }
   ],
   "source": [
    "# Lebegőpontos osztás.\n",
    "3/7"
   ]
  },
  {
   "cell_type": "code",
   "execution_count": 10,
   "metadata": {
    "colab": {
     "base_uri": "https://localhost:8080/"
    },
    "executionInfo": {
     "elapsed": 319,
     "status": "ok",
     "timestamp": 1680195012047,
     "user": {
      "displayName": "Piroska Dömötör",
      "userId": "03696721308245428945"
     },
     "user_tz": -120
    },
    "id": "TJgVFaSktYmR",
    "outputId": "a7079a74-20f9-4e42-9f3d-afaa89fb47fb"
   },
   "outputs": [
    {
     "data": {
      "text/plain": [
       "0"
      ]
     },
     "execution_count": 10,
     "metadata": {},
     "output_type": "execute_result"
    }
   ],
   "source": [
    "# Egészosztás (levágja a törtrészt).\n",
    "3//7"
   ]
  },
  {
   "cell_type": "markdown",
   "metadata": {},
   "source": [
    "További hasznos műveletek"
   ]
  },
  {
   "cell_type": "code",
   "execution_count": 11,
   "metadata": {
    "colab": {
     "base_uri": "https://localhost:8080/"
    },
    "executionInfo": {
     "elapsed": 326,
     "status": "ok",
     "timestamp": 1680195028235,
     "user": {
      "displayName": "Piroska Dömötör",
      "userId": "03696721308245428945"
     },
     "user_tz": -120
    },
    "id": "0ZTCK4_StYmS",
    "outputId": "f680a95b-913f-4e2d-fd64-24301196efd1"
   },
   "outputs": [
    {
     "data": {
      "text/plain": [
       "3"
      ]
     },
     "execution_count": 11,
     "metadata": {},
     "output_type": "execute_result"
    }
   ],
   "source": [
    "# Maradékképzés.\n",
    "3 % 7"
   ]
  },
  {
   "cell_type": "code",
   "execution_count": 12,
   "metadata": {
    "colab": {
     "base_uri": "https://localhost:8080/"
    },
    "executionInfo": {
     "elapsed": 10,
     "status": "ok",
     "timestamp": 1680195040005,
     "user": {
      "displayName": "Piroska Dömötör",
      "userId": "03696721308245428945"
     },
     "user_tz": -120
    },
    "id": "X1klBYi6tYmT",
    "outputId": "45ffd83f-f305-4cb2-bcee-bc5841000d13"
   },
   "outputs": [
    {
     "data": {
      "text/plain": [
       "1024"
      ]
     },
     "execution_count": 12,
     "metadata": {},
     "output_type": "execute_result"
    }
   ],
   "source": [
    "# Van hatványozás is, ** a műveleti jele.\n",
    "2**10"
   ]
  },
  {
   "cell_type": "code",
   "execution_count": 13,
   "metadata": {},
   "outputs": [
    {
     "data": {
      "text/plain": [
       "4"
      ]
     },
     "execution_count": 13,
     "metadata": {},
     "output_type": "execute_result"
    }
   ],
   "source": [
    "# Az abszolútértéket az abs() függvény kiszámítja\n",
    "abs(-4)"
   ]
  },
  {
   "cell_type": "markdown",
   "metadata": {},
   "source": [
    "#### Egész számok tárolódása a memóriában"
   ]
  },
  {
   "cell_type": "markdown",
   "metadata": {},
   "source": [
    "**Feladat:**  Mekkora a 8 bájton = 64 biten ábrázolható legnagyobb egész szám?\n",
    "\n",
    "Pythonban egyébként nincs ilyen határ. A Python képes tetszőleges hosszúságú egész számokkal dolgozni. Mutassuk is ezt meg egy példán."
   ]
  },
  {
   "cell_type": "code",
   "execution_count": 14,
   "metadata": {},
   "outputs": [
    {
     "name": "stdout",
     "output_type": "stream",
     "text": [
      "18446744073709551615\n"
     ]
    }
   ],
   "source": [
    "# 8 bájton = 64 biten ábrázolható legnagyobb egész szám \n",
    "max_int = 2**64 - 1\n",
    "print(max_int)"
   ]
  },
  {
   "cell_type": "code",
   "execution_count": 15,
   "metadata": {},
   "outputs": [
    {
     "data": {
      "text/plain": [
       "18446744073709551616"
      ]
     },
     "execution_count": 15,
     "metadata": {},
     "output_type": "execute_result"
    }
   ],
   "source": [
    "# nincsen túlcsordulási hiba\n",
    "max_int+1"
   ]
  },
  {
   "cell_type": "code",
   "execution_count": 16,
   "metadata": {},
   "outputs": [
    {
     "data": {
      "text/plain": [
       "1111111111111111111111111111111111111111111112"
      ]
     },
     "execution_count": 16,
     "metadata": {},
     "output_type": "execute_result"
    }
   ],
   "source": [
    "# A Python képes tetszőleges hosszúságú egész számokkal dolgozni\n",
    "# nincsen túlcsordulási hiba.\n",
    "1111111111111111111111111111111111111111111111 + 1"
   ]
  },
  {
   "cell_type": "markdown",
   "metadata": {
    "id": "qob1nQkotYmV"
   },
   "source": [
    "### Lebegőpontos szám (float)\n",
    "\n",
    "- A [lebegőpontos számábrázolás](https://hu.wikipedia.org/wiki/Lebeg%C5%91pontos_sz%C3%A1m%C3%A1br%C3%A1zol%C3%A1s) lehetővé teszi a valós számokkal történő, közelítő számolást.\n",
    "- A Python lebegőpontos típusa az IEEE-754 szabvány dupla pontosságú (64 bites double) típusát valósítja meg.\n",
    "- [A python dokumentációban a számokra vonatkozó rész](https://docs.python.org/3/library/stdtypes.html#numeric-types-int-float-complex)"
   ]
  },
  {
   "cell_type": "code",
   "execution_count": 17,
   "metadata": {
    "colab": {
     "base_uri": "https://localhost:8080/"
    },
    "executionInfo": {
     "elapsed": 972,
     "status": "ok",
     "timestamp": 1680195087253,
     "user": {
      "displayName": "Piroska Dömötör",
      "userId": "03696721308245428945"
     },
     "user_tz": -120
    },
    "id": "hd7zWDIHtYmV",
    "outputId": "7747576d-ea32-431c-a05b-5226a5829971"
   },
   "outputs": [
    {
     "data": {
      "text/plain": [
       "1.25"
      ]
     },
     "execution_count": 17,
     "metadata": {},
     "output_type": "execute_result"
    }
   ],
   "source": [
    "# Lebegőpontos állandókat a tizedespont használatával tudunk megadni.\n",
    "1.25"
   ]
  },
  {
   "cell_type": "code",
   "execution_count": 18,
   "metadata": {
    "colab": {
     "base_uri": "https://localhost:8080/"
    },
    "executionInfo": {
     "elapsed": 458,
     "status": "ok",
     "timestamp": 1680195073595,
     "user": {
      "displayName": "Piroska Dömötör",
      "userId": "03696721308245428945"
     },
     "user_tz": -120
    },
    "id": "ZMkzvB8ZtYmV",
    "outputId": "a2c3331f-af30-4f28-8075-4f3019aff31a"
   },
   "outputs": [
    {
     "data": {
      "text/plain": [
       "(1.4142135623730951, 1.4142135623730951)"
      ]
     },
     "execution_count": 18,
     "metadata": {},
     "output_type": "execute_result"
    }
   ],
   "source": [
    "# Gyök kettő (közelítő) kiszámítása.\n",
    "2**0.5 , 2**(1/2)"
   ]
  },
  {
   "cell_type": "code",
   "execution_count": 19,
   "metadata": {
    "colab": {
     "base_uri": "https://localhost:8080/"
    },
    "executionInfo": {
     "elapsed": 12,
     "status": "ok",
     "timestamp": 1680195090288,
     "user": {
      "displayName": "Piroska Dömötör",
      "userId": "03696721308245428945"
     },
     "user_tz": -120
    },
    "id": "EdUuqdZJtYmW",
    "outputId": "f6ecb961-c4d4-4f95-9f6d-ec6d13db4c03"
   },
   "outputs": [
    {
     "data": {
      "text/plain": [
       "1.25"
      ]
     },
     "execution_count": 19,
     "metadata": {},
     "output_type": "execute_result"
    }
   ],
   "source": [
    "# Hozzunk létre egy f nevű, lebegőpontos típusú változót!\n",
    "f = 1.25\n",
    "f"
   ]
  },
  {
   "cell_type": "code",
   "execution_count": 20,
   "metadata": {
    "colab": {
     "base_uri": "https://localhost:8080/"
    },
    "executionInfo": {
     "elapsed": 1124,
     "status": "ok",
     "timestamp": 1680195116607,
     "user": {
      "displayName": "Piroska Dömötör",
      "userId": "03696721308245428945"
     },
     "user_tz": -120
    },
    "id": "0268ZCGqtYmX",
    "outputId": "ecedbb37-098c-4d8f-b921-65a26815de2e"
   },
   "outputs": [
    {
     "data": {
      "text/plain": [
       "float"
      ]
     },
     "execution_count": 20,
     "metadata": {},
     "output_type": "execute_result"
    }
   ],
   "source": [
    "# A type() függvénnyel tudjuk lekérdezni f típusát.\n",
    "type(f)"
   ]
  },
  {
   "cell_type": "code",
   "execution_count": 21,
   "metadata": {
    "colab": {
     "base_uri": "https://localhost:8080/"
    },
    "executionInfo": {
     "elapsed": 14,
     "status": "ok",
     "timestamp": 1680195103800,
     "user": {
      "displayName": "Piroska Dömötör",
      "userId": "03696721308245428945"
     },
     "user_tz": -120
    },
    "id": "dQZeegOLtYmX",
    "outputId": "6151ed06-9a27-4b74-d275-5b6e39ad2556"
   },
   "outputs": [
    {
     "data": {
      "text/plain": [
       "int"
      ]
     },
     "execution_count": 21,
     "metadata": {},
     "output_type": "execute_result"
    }
   ],
   "source": [
    "# ...vagy bármely más érték típusát.\n",
    "type(i)"
   ]
  },
  {
   "cell_type": "code",
   "execution_count": 22,
   "metadata": {
    "id": "hqPYQ1KYtYmY"
   },
   "outputs": [],
   "source": [
    "# Tegyünk most f-be egy int típusú értéket!\n",
    "# Pythonban ez minden probléma nélkül megtehető.\n",
    "f = 100"
   ]
  },
  {
   "cell_type": "code",
   "execution_count": 23,
   "metadata": {
    "colab": {
     "base_uri": "https://localhost:8080/"
    },
    "executionInfo": {
     "elapsed": 554,
     "status": "ok",
     "timestamp": 1680195111288,
     "user": {
      "displayName": "Piroska Dömötör",
      "userId": "03696721308245428945"
     },
     "user_tz": -120
    },
    "id": "TqaEywx_GR2x",
    "outputId": "069742b4-c370-444b-be79-76ac6aa6284f"
   },
   "outputs": [
    {
     "data": {
      "text/plain": [
       "int"
      ]
     },
     "execution_count": 23,
     "metadata": {},
     "output_type": "execute_result"
    }
   ],
   "source": [
    "type(f)"
   ]
  },
  {
   "cell_type": "markdown",
   "metadata": {
    "id": "rAySWZ1DtYmY"
   },
   "source": [
    "### Komplex szám (complex)\n",
    "- A Python támogatja a komplex számokkal való számolást, külső könyvtárak használata nélkül.\n",
    "- A j-jelöli a képzetes egységet ha szám kerül elé\n",
    "- [A python dokumentációban a számokra vonatkozó rész](https://docs.python.org/3/library/stdtypes.html#numeric-types-int-float-complex)"
   ]
  },
  {
   "cell_type": "code",
   "execution_count": 24,
   "metadata": {
    "colab": {
     "base_uri": "https://localhost:8080/"
    },
    "executionInfo": {
     "elapsed": 315,
     "status": "ok",
     "timestamp": 1680195122894,
     "user": {
      "displayName": "Piroska Dömötör",
      "userId": "03696721308245428945"
     },
     "user_tz": -120
    },
    "id": "XsurOG_0tYmZ",
    "outputId": "f99819ce-7920-4412-f34d-9ed33bceadc6"
   },
   "outputs": [
    {
     "data": {
      "text/plain": [
       "(0.15384615384615385-0.23076923076923078j)"
      ]
     },
     "execution_count": 24,
     "metadata": {},
     "output_type": "execute_result"
    }
   ],
   "source": [
    "# Osztás algebrai alakban.\n",
    "1/(2 + 3j)"
   ]
  },
  {
   "cell_type": "code",
   "execution_count": 25,
   "metadata": {
    "colab": {
     "base_uri": "https://localhost:8080/"
    },
    "executionInfo": {
     "elapsed": 344,
     "status": "ok",
     "timestamp": 1680195124957,
     "user": {
      "displayName": "Piroska Dömötör",
      "userId": "03696721308245428945"
     },
     "user_tz": -120
    },
    "id": "2q_eEqOxtYmZ",
    "outputId": "52c7a798-31a4-4a47-8bba-44bdd824886c"
   },
   "outputs": [
    {
     "data": {
      "text/plain": [
       "(-1+0j)"
      ]
     },
     "execution_count": 25,
     "metadata": {},
     "output_type": "execute_result"
    }
   ],
   "source": [
    "# A képzetes egység hatványozása.\n",
    "1j**2"
   ]
  },
  {
   "cell_type": "markdown",
   "metadata": {
    "id": "J3MQw6mgtYmx"
   },
   "source": [
    "### Logikai érték (bool)\n",
    "- A logikai igaz értéket a ```True```, a hamisat a ```False``` jelöli. \n",
    "- A nagy kezdőbetű fontos, a Python különbözőnek tekinti a kis- és nagybetűket.\n",
    "- [A python dokumentációban a logikai értékre vonatkozó rész](https://docs.python.org/3/library/stdtypes.html#boolean-values)"
   ]
  },
  {
   "cell_type": "code",
   "execution_count": 26,
   "metadata": {
    "colab": {
     "base_uri": "https://localhost:8080/"
    },
    "executionInfo": {
     "elapsed": 407,
     "status": "ok",
     "timestamp": 1680618563431,
     "user": {
      "displayName": "Piroska Dömötör",
      "userId": "03696721308245428945"
     },
     "user_tz": -120
    },
    "id": "2aXI4SVrtYmx",
    "outputId": "f4fac4a2-5570-4660-f22d-47651e7a9aad"
   },
   "outputs": [
    {
     "data": {
      "text/plain": [
       "bool"
      ]
     },
     "execution_count": 26,
     "metadata": {},
     "output_type": "execute_result"
    }
   ],
   "source": [
    "# Hozzunk létre logikai típusú változót!\n",
    "# Nézzük meg a típusát is!\n",
    "b = False\n",
    "type(b)"
   ]
  },
  {
   "cell_type": "markdown",
   "metadata": {},
   "source": [
    "Logikai műveletek: ÉS (```and```), VAGY (```or```), TAGADÁS (```not``` / ```!```)\n"
   ]
  },
  {
   "cell_type": "code",
   "execution_count": 27,
   "metadata": {
    "colab": {
     "base_uri": "https://localhost:8080/"
    },
    "executionInfo": {
     "elapsed": 414,
     "status": "ok",
     "timestamp": 1680618684978,
     "user": {
      "displayName": "Piroska Dömötör",
      "userId": "03696721308245428945"
     },
     "user_tz": -120
    },
    "id": "Mq_bkglJtYmy",
    "outputId": "2bf032a7-e510-485e-9996-6a4f8b9fc1d1"
   },
   "outputs": [
    {
     "name": "stdout",
     "output_type": "stream",
     "text": [
      "True\n",
      "False\n",
      "False\n"
     ]
    }
   ],
   "source": [
    "# Logikai ÉS művelet. -- and\n",
    "print(True and True)\n",
    "print(True and False)\n",
    "print(False and False)"
   ]
  },
  {
   "cell_type": "code",
   "execution_count": 28,
   "metadata": {
    "colab": {
     "base_uri": "https://localhost:8080/"
    },
    "executionInfo": {
     "elapsed": 348,
     "status": "ok",
     "timestamp": 1680619003949,
     "user": {
      "displayName": "Piroska Dömötör",
      "userId": "03696721308245428945"
     },
     "user_tz": -120
    },
    "id": "FAOfKlshtYmy",
    "outputId": "59714261-b619-4ef0-eda5-5f7b292c955e"
   },
   "outputs": [
    {
     "name": "stdout",
     "output_type": "stream",
     "text": [
      "True\n",
      "True\n",
      "False\n"
     ]
    }
   ],
   "source": [
    "# Logikai VAGY művelet. -- or\n",
    "print(True or False)\n",
    "print(True or True)\n",
    "print(False or False)"
   ]
  },
  {
   "cell_type": "code",
   "execution_count": 29,
   "metadata": {
    "colab": {
     "base_uri": "https://localhost:8080/"
    },
    "executionInfo": {
     "elapsed": 10,
     "status": "ok",
     "timestamp": 1680619021454,
     "user": {
      "displayName": "Piroska Dömötör",
      "userId": "03696721308245428945"
     },
     "user_tz": -120
    },
    "id": "UDpXqe6htYmy",
    "outputId": "88bbd8a5-5158-49e1-9dbc-02158afb4f94"
   },
   "outputs": [
    {
     "data": {
      "text/plain": [
       "False"
      ]
     },
     "execution_count": 29,
     "metadata": {},
     "output_type": "execute_result"
    }
   ],
   "source": [
    "# Logikai tagadás. -- not\n",
    "not True"
   ]
  },
  {
   "cell_type": "markdown",
   "metadata": {},
   "source": [
    "Az összehasonlító műveletek (```>```,``` >=```, ```==```) eredménye logikai érték.\n"
   ]
  },
  {
   "cell_type": "code",
   "execution_count": 30,
   "metadata": {},
   "outputs": [
    {
     "data": {
      "text/plain": [
       "False"
      ]
     },
     "execution_count": 30,
     "metadata": {},
     "output_type": "execute_result"
    }
   ],
   "source": [
    "# Nagyobb-e -3 mint 2?\n",
    "-3 > 2"
   ]
  },
  {
   "cell_type": "code",
   "execution_count": 31,
   "metadata": {
    "id": "CUVhgtxAtYmz"
   },
   "outputs": [
    {
     "data": {
      "text/plain": [
       "True"
      ]
     },
     "execution_count": 31,
     "metadata": {},
     "output_type": "execute_result"
    }
   ],
   "source": [
    "# nagyobb egyenlő-e?\n",
    "3 >= 3"
   ]
  },
  {
   "cell_type": "code",
   "execution_count": 32,
   "metadata": {
    "id": "2BJrttLPtYmz"
   },
   "outputs": [
    {
     "data": {
      "text/plain": [
       "True"
      ]
     },
     "execution_count": 32,
     "metadata": {},
     "output_type": "execute_result"
    }
   ],
   "source": [
    "# kisebb egyenlő-e?\n",
    "3 <= 3"
   ]
  },
  {
   "cell_type": "code",
   "execution_count": 33,
   "metadata": {
    "colab": {
     "base_uri": "https://localhost:8080/"
    },
    "executionInfo": {
     "elapsed": 266,
     "status": "ok",
     "timestamp": 1680619063887,
     "user": {
      "displayName": "Piroska Dömötör",
      "userId": "03696721308245428945"
     },
     "user_tz": -120
    },
    "id": "w-xYNX3YtYmz",
    "outputId": "5053590f-d80d-4038-ef0f-946d78b5faff"
   },
   "outputs": [
    {
     "data": {
      "text/plain": [
       "True"
      ]
     },
     "execution_count": 33,
     "metadata": {},
     "output_type": "execute_result"
    }
   ],
   "source": [
    "# Pythonban az egyenlőségvizsgálat műveleti jele ==.\n",
    "3 == 3"
   ]
  },
  {
   "cell_type": "code",
   "execution_count": 34,
   "metadata": {
    "colab": {
     "base_uri": "https://localhost:8080/"
    },
    "executionInfo": {
     "elapsed": 9,
     "status": "ok",
     "timestamp": 1680619109932,
     "user": {
      "displayName": "Piroska Dömötör",
      "userId": "03696721308245428945"
     },
     "user_tz": -120
    },
    "id": "WEdrlYrotGVE",
    "outputId": "bf74dc90-370b-4aad-fee2-0149483b4ec6"
   },
   "outputs": [
    {
     "data": {
      "text/plain": [
       "False"
      ]
     },
     "execution_count": 34,
     "metadata": {},
     "output_type": "execute_result"
    }
   ],
   "source": [
    "# != (nem egyenlő) operátor.\n",
    "3 != 3"
   ]
  },
  {
   "cell_type": "markdown",
   "metadata": {},
   "source": [
    "**Feladat:**  Definiáljunk egy n egész változót és vizsgáljuk meg, hogy páros 50-nél nagyobb számot adtunk-e meg?"
   ]
  },
  {
   "cell_type": "code",
   "execution_count": 35,
   "metadata": {
    "colab": {
     "base_uri": "https://localhost:8080/"
    },
    "executionInfo": {
     "elapsed": 13,
     "status": "ok",
     "timestamp": 1680618935069,
     "user": {
      "displayName": "Piroska Dömötör",
      "userId": "03696721308245428945"
     },
     "user_tz": -120
    },
    "id": "gMkYmXc8rqPp",
    "outputId": "7efe0129-cf69-4561-c77a-cbdf763e8e3f"
   },
   "outputs": [
    {
     "data": {
      "text/plain": [
       "False"
      ]
     },
     "execution_count": 35,
     "metadata": {},
     "output_type": "execute_result"
    }
   ],
   "source": [
    "n = 48\n",
    "(n > 50) and (n % 2 == 0)"
   ]
  },
  {
   "cell_type": "markdown",
   "metadata": {
    "id": "naFg6M-WtYmz"
   },
   "source": [
    "### None / Semmi, üres (NoneType)\n",
    "- A szó jelentése *semmi* vagy *egyik sem*. A Pythonban a ```None``` értéknek helykitöltő szerepe van. Ezzel jelölhetjük pl. a hiányzó vagy érvénytelen eredményt vagy az alapértelmezett beállítást. \n",
    "- [None a python dokumentációban](https://docs.python.org/3/library/stdtypes.html#the-null-object)"
   ]
  },
  {
   "cell_type": "code",
   "execution_count": 36,
   "metadata": {
    "colab": {
     "base_uri": "https://localhost:8080/"
    },
    "executionInfo": {
     "elapsed": 422,
     "status": "ok",
     "timestamp": 1680619152542,
     "user": {
      "displayName": "Piroska Dömötör",
      "userId": "03696721308245428945"
     },
     "user_tz": -120
    },
    "id": "sR9N4191tYm0",
    "outputId": "e1477243-5ac0-49b8-a478-bd38f62ea85d"
   },
   "outputs": [
    {
     "data": {
      "text/plain": [
       "NoneType"
      ]
     },
     "execution_count": 36,
     "metadata": {},
     "output_type": "execute_result"
    }
   ],
   "source": [
    "# A None érték típusa.\n",
    "type(None)"
   ]
  },
  {
   "cell_type": "code",
   "execution_count": 37,
   "metadata": {
    "id": "uJUgZx0DtYm0"
   },
   "outputs": [],
   "source": [
    "# Ha a cella utolsó kifejezése None értékű, akkor nincs kimenet.\n",
    "2 + 3\n",
    "None"
   ]
  },
  {
   "cell_type": "markdown",
   "metadata": {
    "id": "WEuwmGiQtYmZ"
   },
   "source": [
    "### Sztring (str)\n",
    "\n",
    "- A sztring adattípus szöveges értékek tárolására szolgál.\n",
    "- Pythonban a sztring nem más mint [Unicode](https://hu.wikipedia.org/wiki/Unicode) szimbólumok (másnéven Unicode karakterek) nem módosítható sorozata.\n",
    "- (https://docs.python.org/3/library/stdtypes.html#text-sequence-type-str)"
   ]
  },
  {
   "cell_type": "code",
   "execution_count": 38,
   "metadata": {
    "id": "ob8EGGjPtYma"
   },
   "outputs": [
    {
     "data": {
      "text/plain": [
       "'alma és körte'"
      ]
     },
     "execution_count": 38,
     "metadata": {},
     "output_type": "execute_result"
    }
   ],
   "source": [
    "# A sztringállandót ' jelekkel határoljuk.\n",
    "s = 'alma és körte'\n",
    "s"
   ]
  },
  {
   "cell_type": "markdown",
   "metadata": {},
   "source": [
    "- Síma idézőjel: ```'allows embedded \"double\" quotes'```\n",
    "- Dupla idézőjel: ```\"allows embedded 'single' quotes\"``` ```\"it's\"```\n",
    "- Tripla idézőjel (több soros szöveg): ```'''Three single quotes''', \"\"\"Three double quotes\"\"\"```\n",
    "\n",
    "A határoló idézőjel ```'``` nem a sztring része, csak az adattípust jelzi"
   ]
  },
  {
   "cell_type": "code",
   "execution_count": 39,
   "metadata": {
    "id": "3-V9HyyKtYma"
   },
   "outputs": [
    {
     "data": {
      "text/plain": [
       "'ez egy másik szöveg'"
      ]
     },
     "execution_count": 39,
     "metadata": {},
     "output_type": "execute_result"
    }
   ],
   "source": [
    "# ...de lehet használni \" jeleket is.\n",
    "s2 = \"ez egy másik szöveg\"\n",
    "s2"
   ]
  },
  {
   "cell_type": "code",
   "execution_count": 40,
   "metadata": {
    "id": "iAuCtcBktYma"
   },
   "outputs": [
    {
     "name": "stdout",
     "output_type": "stream",
     "text": [
      " ide jön egy idézet \"ez egy idézet\"\n"
     ]
    }
   ],
   "source": [
    "# Írjuk ki a sztring tartalmát, határoló jelek nélkül! print()\n",
    "s3 = ' ide jön egy idézet \"ez egy idézet\"'\n",
    "print(s3)"
   ]
  },
  {
   "cell_type": "code",
   "execution_count": 2,
   "metadata": {},
   "outputs": [
    {
     "data": {
      "text/plain": [
       "'ez így egy szöveg\\nés itt folytatódik'"
      ]
     },
     "execution_count": 2,
     "metadata": {},
     "output_type": "execute_result"
    }
   ],
   "source": [
    "# több soros sztring tripla idézőjellel\n",
    "'''ez így egy szöveg\n",
    "és itt folytatódik'''"
   ]
  },
  {
   "cell_type": "code",
   "execution_count": 41,
   "metadata": {
    "colab": {
     "base_uri": "https://localhost:8080/"
    },
    "executionInfo": {
     "elapsed": 6,
     "status": "ok",
     "timestamp": 1680190086928,
     "user": {
      "displayName": "Piroska Dömötör",
      "userId": "03696721308245428945"
     },
     "user_tz": -120
    },
    "id": "KmXcDnF7tYmb",
    "outputId": "54c88f3a-2bf6-4cb8-c5eb-9697a6fc985a"
   },
   "outputs": [
    {
     "data": {
      "text/plain": [
       "str"
      ]
     },
     "execution_count": 41,
     "metadata": {},
     "output_type": "execute_result"
    }
   ],
   "source": [
    "# A type() függvény most is működik.\n",
    "type(s2)"
   ]
  },
  {
   "cell_type": "code",
   "execution_count": 42,
   "metadata": {
    "colab": {
     "base_uri": "https://localhost:8080/",
     "height": 35
    },
    "executionInfo": {
     "elapsed": 59,
     "status": "ok",
     "timestamp": 1680187063404,
     "user": {
      "displayName": "Piroska Dömötör",
      "userId": "03696721308245428945"
     },
     "user_tz": -120
    },
    "id": "ybE9HX1CtYmc",
    "outputId": "b79280db-04d0-44a7-83f9-58b0a807d400"
   },
   "outputs": [
    {
     "data": {
      "text/plain": [
       "'I ♥ ♬'"
      ]
     },
     "execution_count": 42,
     "metadata": {},
     "output_type": "execute_result"
    }
   ],
   "source": [
    "# A sztringben természetesen használhatunk Unicode szimbólumokat.\n",
    "'I ♥ ♬'"
   ]
  },
  {
   "cell_type": "code",
   "execution_count": 3,
   "metadata": {},
   "outputs": [
    {
     "data": {
      "text/plain": [
       "'alma és\\n körte:\\tbarack'"
      ]
     },
     "execution_count": 3,
     "metadata": {},
     "output_type": "execute_result"
    }
   ],
   "source": [
    "# Az újsornak és a tabulátornak is van karaktere: \\n és \\t\n",
    "s = \"alma és\\n körte:\\tbarack\"\n",
    "s"
   ]
  },
  {
   "cell_type": "code",
   "execution_count": 4,
   "metadata": {},
   "outputs": [
    {
     "name": "stdout",
     "output_type": "stream",
     "text": [
      "alma és\n",
      " körte:\tbarack\n"
     ]
    }
   ],
   "source": [
    "print(s)"
   ]
  },
  {
   "cell_type": "markdown",
   "metadata": {},
   "source": [
    "#### Milyen hosszú egy sztring? Azaz hány karakterből áll!\n",
    "- Használjuk a ```len()``` függvényt.\n",
    "- A szóköz is karakternek számít!"
   ]
  },
  {
   "cell_type": "code",
   "execution_count": 43,
   "metadata": {},
   "outputs": [
    {
     "data": {
      "text/plain": [
       "4"
      ]
     },
     "execution_count": 43,
     "metadata": {},
     "output_type": "execute_result"
    }
   ],
   "source": [
    "s = \"alma\"\n",
    "len(s)"
   ]
  },
  {
   "cell_type": "markdown",
   "metadata": {
    "id": "VSS16mNVJU2E"
   },
   "source": [
    "#### Sztring karaktereinek \"kinyerése\" (**indexelés**)\n",
    "- Az indexelés 0-tól indul!!!\n",
    "- \"[ ]\" között: s[0]\n",
    "- Negatív index is értelmes (végéről)."
   ]
  },
  {
   "cell_type": "code",
   "execution_count": 44,
   "metadata": {
    "colab": {
     "base_uri": "https://localhost:8080/"
    },
    "executionInfo": {
     "elapsed": 523,
     "status": "ok",
     "timestamp": 1680607687340,
     "user": {
      "displayName": "Piroska Dömötör",
      "userId": "03696721308245428945"
     },
     "user_tz": -120
    },
    "id": "8yXNmOBdtYmd",
    "outputId": "0d781d0a-dc6d-4a8a-a8e7-0288dbb147e2"
   },
   "outputs": [
    {
     "data": {
      "text/plain": [
       "('a', 'l')"
      ]
     },
     "execution_count": 44,
     "metadata": {},
     "output_type": "execute_result"
    }
   ],
   "source": [
    "# s karaktereinek kinyerése. Az indexelés 0-tól indul!\n",
    "s[0],s[1]"
   ]
  },
  {
   "cell_type": "code",
   "execution_count": 45,
   "metadata": {
    "colab": {
     "base_uri": "https://localhost:8080/"
    },
    "executionInfo": {
     "elapsed": 272,
     "status": "ok",
     "timestamp": 1680607690965,
     "user": {
      "displayName": "Piroska Dömötör",
      "userId": "03696721308245428945"
     },
     "user_tz": -120
    },
    "id": "LiDduaoytYme",
    "outputId": "eca9319b-a5c9-4a20-f11c-7c9d66c06678"
   },
   "outputs": [
    {
     "data": {
      "text/plain": [
       "(4, 1)"
      ]
     },
     "execution_count": 45,
     "metadata": {},
     "output_type": "execute_result"
    }
   ],
   "source": [
    "# A kinyert karaktert egy 1 hosszú sztring formájában kapjuk vissza.\n",
    "len(s) , len(s[0])"
   ]
  },
  {
   "cell_type": "code",
   "execution_count": 46,
   "metadata": {
    "id": "Dt9THXHbtYme"
   },
   "outputs": [
    {
     "ename": "IndexError",
     "evalue": "string index out of range",
     "output_type": "error",
     "traceback": [
      "\u001b[0;31m---------------------------------------------------------------------------\u001b[0m",
      "\u001b[0;31mIndexError\u001b[0m                                Traceback (most recent call last)",
      "\u001b[0;32m/tmp/ipykernel_142610/3792544162.py\u001b[0m in \u001b[0;36m<module>\u001b[0;34m\u001b[0m\n\u001b[1;32m      1\u001b[0m \u001b[0;31m# Túlindexelés esetén hibaüzenetet kapunk.\u001b[0m\u001b[0;34m\u001b[0m\u001b[0;34m\u001b[0m\u001b[0m\n\u001b[1;32m      2\u001b[0m \u001b[0;31m# próbáljuk ki!\u001b[0m\u001b[0;34m\u001b[0m\u001b[0;34m\u001b[0m\u001b[0m\n\u001b[0;32m----> 3\u001b[0;31m \u001b[0ms\u001b[0m\u001b[0;34m[\u001b[0m\u001b[0;36m8\u001b[0m\u001b[0;34m]\u001b[0m\u001b[0;34m\u001b[0m\u001b[0;34m\u001b[0m\u001b[0m\n\u001b[0m",
      "\u001b[0;31mIndexError\u001b[0m: string index out of range"
     ]
    }
   ],
   "source": [
    "# Túlindexelés esetén hibaüzenetet kapunk.\n",
    "# próbáljuk ki!\n",
    "s[8]"
   ]
  },
  {
   "cell_type": "code",
   "execution_count": 47,
   "metadata": {
    "colab": {
     "base_uri": "https://localhost:8080/",
     "height": 35
    },
    "executionInfo": {
     "elapsed": 12,
     "status": "ok",
     "timestamp": 1680607705651,
     "user": {
      "displayName": "Piroska Dömötör",
      "userId": "03696721308245428945"
     },
     "user_tz": -120
    },
    "id": "k8apeUBHtYme",
    "outputId": "028dab30-ac8a-4d16-cc18-430f7dfaa58e"
   },
   "outputs": [
    {
     "data": {
      "text/plain": [
       "'a'"
      ]
     },
     "execution_count": 47,
     "metadata": {},
     "output_type": "execute_result"
    }
   ],
   "source": [
    "# negatív index is értelmes\n",
    "s[-1]"
   ]
  },
  {
   "cell_type": "code",
   "execution_count": 48,
   "metadata": {
    "id": "WyRV-MH_tYmf"
   },
   "outputs": [
    {
     "ename": "TypeError",
     "evalue": "'str' object does not support item assignment",
     "output_type": "error",
     "traceback": [
      "\u001b[0;31m---------------------------------------------------------------------------\u001b[0m",
      "\u001b[0;31mTypeError\u001b[0m                                 Traceback (most recent call last)",
      "\u001b[0;32m/tmp/ipykernel_142610/555297530.py\u001b[0m in \u001b[0;36m<module>\u001b[0;34m\u001b[0m\n\u001b[1;32m      1\u001b[0m \u001b[0;31m# A sztring karaktereit nem lehet módosítani!\u001b[0m\u001b[0;34m\u001b[0m\u001b[0;34m\u001b[0m\u001b[0m\n\u001b[0;32m----> 2\u001b[0;31m \u001b[0ms\u001b[0m\u001b[0;34m[\u001b[0m\u001b[0;36m1\u001b[0m\u001b[0;34m]\u001b[0m\u001b[0;34m=\u001b[0m\u001b[0;34m\"b\"\u001b[0m\u001b[0;34m\u001b[0m\u001b[0;34m\u001b[0m\u001b[0m\n\u001b[0m",
      "\u001b[0;31mTypeError\u001b[0m: 'str' object does not support item assignment"
     ]
    }
   ],
   "source": [
    "# A sztring karaktereit nem lehet módosítani!\n",
    "s[1]=\"b\""
   ]
  },
  {
   "cell_type": "code",
   "execution_count": 49,
   "metadata": {
    "id": "ixjTNI0ctYmf"
   },
   "outputs": [],
   "source": [
    "# Természetesen s-nek adhatunk új értéket.\n",
    "s = \"körte ♥ ♬\""
   ]
  },
  {
   "cell_type": "code",
   "execution_count": 51,
   "metadata": {
    "id": "2x-bGRoMtYmg"
   },
   "outputs": [
    {
     "name": "stdout",
     "output_type": "stream",
     "text": [
      "körte ♥ ♬\n"
     ]
    }
   ],
   "source": [
    "# Írjuk ki s tartalmát!\n",
    "print(s)"
   ]
  },
  {
   "cell_type": "markdown",
   "metadata": {
    "id": "xCGye91QLYHK"
   },
   "source": [
    "#### Néhány hasznos sztring eljárás\n",
    "```strip()```, ```lower()```, ```upper()```"
   ]
  },
  {
   "cell_type": "code",
   "execution_count": 52,
   "metadata": {
    "id": "tNDiUFdOtYmg"
   },
   "outputs": [
    {
     "data": {
      "text/plain": [
       "'Helló!: körte ♥ ♬'"
      ]
     },
     "execution_count": 52,
     "metadata": {},
     "output_type": "execute_result"
    }
   ],
   "source": [
    "# Sztringek összefűzése.\n",
    "\"Helló!: \" + s"
   ]
  },
  {
   "cell_type": "code",
   "execution_count": 53,
   "metadata": {},
   "outputs": [
    {
     "data": {
      "text/plain": [
       "'alma alma alma alma alma alma alma alma alma alma '"
      ]
     },
     "execution_count": 53,
     "metadata": {},
     "output_type": "execute_result"
    }
   ],
   "source": [
    "# Sztring ismétlése a megadott számú alkalommal.\n",
    "\"alma \" * 10"
   ]
  },
  {
   "cell_type": "code",
   "execution_count": 54,
   "metadata": {
    "colab": {
     "base_uri": "https://localhost:8080/"
    },
    "executionInfo": {
     "elapsed": 9,
     "status": "ok",
     "timestamp": 1680617761647,
     "user": {
      "displayName": "Piroska Dömötör",
      "userId": "03696721308245428945"
     },
     "user_tz": -120
    },
    "id": "N_7ga6wFtYmq",
    "outputId": "efe05519-8412-4167-cb94-de39cd140788"
   },
   "outputs": [
    {
     "data": {
      "text/plain": [
       "True"
      ]
     },
     "execution_count": 54,
     "metadata": {},
     "output_type": "execute_result"
    }
   ],
   "source": [
    "# Tartalmazásvizsgálat:\n",
    "\"a\" in \"alma\""
   ]
  },
  {
   "cell_type": "code",
   "execution_count": 55,
   "metadata": {
    "colab": {
     "base_uri": "https://localhost:8080/"
    },
    "executionInfo": {
     "elapsed": 623,
     "status": "ok",
     "timestamp": 1680617793386,
     "user": {
      "displayName": "Piroska Dömötör",
      "userId": "03696721308245428945"
     },
     "user_tz": -120
    },
    "id": "t4cisS0KoEnA",
    "outputId": "becffe14-ed72-4ad7-9449-2e8fa332b625"
   },
   "outputs": [
    {
     "data": {
      "text/plain": [
       "False"
      ]
     },
     "execution_count": 55,
     "metadata": {},
     "output_type": "execute_result"
    }
   ],
   "source": [
    "\"k\" in \"alma\""
   ]
  },
  {
   "cell_type": "code",
   "execution_count": 56,
   "metadata": {},
   "outputs": [
    {
     "data": {
      "text/plain": [
       "(0, str)"
      ]
     },
     "execution_count": 56,
     "metadata": {},
     "output_type": "execute_result"
    }
   ],
   "source": [
    "# Üres sztring létrehozása. Nulla karakterből áll.\n",
    "s0 = \"\"\n",
    "len(s0) , type(s0)"
   ]
  },
  {
   "cell_type": "markdown",
   "metadata": {},
   "source": [
    "#### Sztring kódolása\n",
    "Hogyan kerül az Unicode karaktersorozat egy fájlba?"
   ]
  },
  {
   "cell_type": "code",
   "execution_count": 63,
   "metadata": {},
   "outputs": [
    {
     "name": "stdout",
     "output_type": "stream",
     "text": [
      "körte ♥ ♬\n",
      "b'k\\xc3\\xb6rte \\xe2\\x99\\xa5 \\xe2\\x99\\xac'\n"
     ]
    }
   ],
   "source": [
    "# Sztringből a kódolás műveletével képezhetünk bájtsorozatot.\n",
    "s = \"körte ♥ ♬\"\n",
    "s_cod = s.encode(\"utf-8\")\n",
    "print(s)\n",
    "print(s_cod)"
   ]
  },
  {
   "cell_type": "code",
   "execution_count": 64,
   "metadata": {},
   "outputs": [
    {
     "data": {
      "text/plain": [
       "bytes"
      ]
     },
     "execution_count": 64,
     "metadata": {},
     "output_type": "execute_result"
    }
   ],
   "source": [
    "# Az eredmény típusa?\n",
    "type(s_cod)"
   ]
  },
  {
   "cell_type": "code",
   "execution_count": 65,
   "metadata": {},
   "outputs": [
    {
     "data": {
      "text/plain": [
       "(14, 9)"
      ]
     },
     "execution_count": 65,
     "metadata": {},
     "output_type": "execute_result"
    }
   ],
   "source": [
    "# A bájtok száma nagyobb lehet, mint a Unicode szimbólumok száma!\n",
    "len(s_cod), len(s)"
   ]
  },
  {
   "cell_type": "code",
   "execution_count": 66,
   "metadata": {},
   "outputs": [
    {
     "data": {
      "text/plain": [
       "'körte ♥ ♬'"
      ]
     },
     "execution_count": 66,
     "metadata": {},
     "output_type": "execute_result"
    }
   ],
   "source": [
    "# Bájtsorozatból a dekódolás műveletével képezhetünk sztringet.\n",
    "s_cod.decode(\"utf-8\")"
   ]
  },
  {
   "cell_type": "markdown",
   "metadata": {},
   "source": [
    "**Feladat:**\n",
    "\n",
    "- Hány bájton tárolódnak a magyar ábécé ékezetes kisbetűi UTF-8 kódolás esetén?\n",
    "- Hány bájton tárolódik a ♥ és a ♬ szimbólum?\n"
   ]
  },
  {
   "cell_type": "code",
   "execution_count": 67,
   "metadata": {},
   "outputs": [
    {
     "data": {
      "text/plain": [
       "2"
      ]
     },
     "execution_count": 67,
     "metadata": {},
     "output_type": "execute_result"
    }
   ],
   "source": [
    "len(\"é\".encode(\"utf-8\"))"
   ]
  },
  {
   "cell_type": "markdown",
   "metadata": {},
   "source": [
    "# Gyűjtemények; Konverziós lehetőségek; Adat beolvasás és kiíratás\n",
    "\n",
    "Gyűjtemények (Kollekciók): lista, tuple, szótár, halmaz. Ezek tulajdonságai. Indexelése.\n",
    "\n",
    "Konverziós lehetőségek a különböző adattípusok közt. Például int --> float; str --> int.\n",
    "\n",
    "Adat beolvasás és kiíratás a képernyőre: ```input()``` és ```print()```, alapvető formázási konvenciók."
   ]
  },
  {
   "cell_type": "markdown",
   "metadata": {
    "id": "OGmOdRLcFaJf"
   },
   "source": [
    "## Gyűjtemények (Kollekciók)\n",
    "Négy különböző, a pythonban alapvető gyűjteménnyel ismerkedünk meg.\n",
    "Ezek a tuple, lista (list), szótár (dict) és halmaz (set) típusok.  "
   ]
  },
  {
   "cell_type": "markdown",
   "metadata": {},
   "source": [
    "### Néhány álltalános megfontolás"
   ]
  },
  {
   "cell_type": "markdown",
   "metadata": {},
   "source": [
    "- A gyűjtemény elemeket vesszővel választjuk el.\n",
    "- A gyűjtemény típusát a határoló zárójel jelzi: ```() {} []```\n",
    "- Egy gyűjteményt típusát is le lehet kérdezni: ```type()```\n",
    "- A gyűjteményben lévő elemek számát a ```len()``` mutatja meg\n",
    "- Ha értelmes indexelni, akkor az 0-tól kezdődik, akár csak a sztringek esetében"
   ]
  },
  {
   "cell_type": "markdown",
   "metadata": {
    "id": "xoJL7cBnFaJw"
   },
   "source": [
    "### Tuple\n",
    "\n",
    "- A tuple természetes számokkal indexelhető, **nem módosítható tömb**.\n",
    "- **Az elemeknek nem kell azonos típusúnak lenniük.**\n",
    "- Az indexelés O(1), a tartalmazásvizsgálat O(n) időben fut le, ahol n a tuple elemszáma.\n",
    "- [Tuple a python dokumentációban](https://docs.python.org/3/library/stdtypes.html#tuples)"
   ]
  },
  {
   "cell_type": "code",
   "execution_count": 1,
   "metadata": {
    "colab": {
     "base_uri": "https://localhost:8080/"
    },
    "executionInfo": {
     "elapsed": 433,
     "status": "ok",
     "timestamp": 1680619691550,
     "user": {
      "displayName": "Piroska Dömötör",
      "userId": "03696721308245428945"
     },
     "user_tz": -120
    },
    "id": "ErWtN6PXFaJ0",
    "outputId": "f74b650e-dde4-4acb-fea3-08175b259275"
   },
   "outputs": [
    {
     "data": {
      "text/plain": [
       "(1, 2, 1.23, True, 'alma')"
      ]
     },
     "execution_count": 1,
     "metadata": {},
     "output_type": "execute_result"
    }
   ],
   "source": [
    "# Hozzunk létre egy t nevű, 3 elemű tuple változót!\n",
    "# Az elemeknek nem kell azonos típusúnak lenniük.\n",
    "t = (1,2,1.23,True,'alma')\n",
    "t"
   ]
  },
  {
   "cell_type": "code",
   "execution_count": 2,
   "metadata": {
    "colab": {
     "base_uri": "https://localhost:8080/"
    },
    "executionInfo": {
     "elapsed": 12,
     "status": "ok",
     "timestamp": 1680619711609,
     "user": {
      "displayName": "Piroska Dömötör",
      "userId": "03696721308245428945"
     },
     "user_tz": -120
    },
    "id": "dqTBp76eFaJ5",
    "outputId": "c7cbb928-35fb-4b93-aca2-bfa391a5ae37"
   },
   "outputs": [
    {
     "data": {
      "text/plain": [
       "tuple"
      ]
     },
     "execution_count": 2,
     "metadata": {},
     "output_type": "execute_result"
    }
   ],
   "source": [
    "# Ellenőrizzük t típusát!\n",
    "type(t)"
   ]
  },
  {
   "cell_type": "code",
   "execution_count": 3,
   "metadata": {
    "colab": {
     "base_uri": "https://localhost:8080/"
    },
    "executionInfo": {
     "elapsed": 7,
     "status": "ok",
     "timestamp": 1680619795716,
     "user": {
      "displayName": "Piroska Dömötör",
      "userId": "03696721308245428945"
     },
     "user_tz": -120
    },
    "id": "Btsms64qFaJ7",
    "outputId": "b56d196a-7e2c-4e90-d448-46d73d2f15a6"
   },
   "outputs": [
    {
     "data": {
      "text/plain": [
       "5"
      ]
     },
     "execution_count": 3,
     "metadata": {},
     "output_type": "execute_result"
    }
   ],
   "source": [
    "# Az elemek számát a len függvénnyel kérdezhetjük le.\n",
    "len(t)"
   ]
  },
  {
   "cell_type": "code",
   "execution_count": 4,
   "metadata": {
    "colab": {
     "base_uri": "https://localhost:8080/",
     "height": 35
    },
    "executionInfo": {
     "elapsed": 16,
     "status": "ok",
     "timestamp": 1680619835105,
     "user": {
      "displayName": "Piroska Dömötör",
      "userId": "03696721308245428945"
     },
     "user_tz": -120
    },
    "id": "E8_Za-_mFaJ9",
    "outputId": "ea70a2d1-e5fd-4f20-bc2f-9a01e1c1f0ac"
   },
   "outputs": [
    {
     "data": {
      "text/plain": [
       "2"
      ]
     },
     "execution_count": 4,
     "metadata": {},
     "output_type": "execute_result"
    }
   ],
   "source": [
    "# Tuple elemeinek elérése (az indexelés 0-tól indul).\n",
    "t[1]"
   ]
  },
  {
   "cell_type": "code",
   "execution_count": 5,
   "metadata": {
    "colab": {
     "base_uri": "https://localhost:8080/",
     "height": 189
    },
    "executionInfo": {
     "elapsed": 338,
     "status": "error",
     "timestamp": 1680619901993,
     "user": {
      "displayName": "Piroska Dömötör",
      "userId": "03696721308245428945"
     },
     "user_tz": -120
    },
    "id": "vgi2c6wQFaJ-",
    "outputId": "754727f3-f274-4dfb-e086-9e159f144123"
   },
   "outputs": [
    {
     "ename": "TypeError",
     "evalue": "'tuple' object does not support item assignment",
     "output_type": "error",
     "traceback": [
      "\u001b[0;31m---------------------------------------------------------------------------\u001b[0m",
      "\u001b[0;31mTypeError\u001b[0m                                 Traceback (most recent call last)",
      "\u001b[0;32m/tmp/ipykernel_12800/1175813823.py\u001b[0m in \u001b[0;36m<module>\u001b[0;34m\u001b[0m\n\u001b[1;32m      1\u001b[0m \u001b[0;31m# Az elemeken nem lehet módosítani!\u001b[0m\u001b[0;34m\u001b[0m\u001b[0;34m\u001b[0m\u001b[0m\n\u001b[0;32m----> 2\u001b[0;31m \u001b[0mt\u001b[0m\u001b[0;34m[\u001b[0m\u001b[0;36m1\u001b[0m\u001b[0;34m]\u001b[0m \u001b[0;34m=\u001b[0m \u001b[0;36m16\u001b[0m\u001b[0;34m\u001b[0m\u001b[0;34m\u001b[0m\u001b[0m\n\u001b[0m",
      "\u001b[0;31mTypeError\u001b[0m: 'tuple' object does not support item assignment"
     ]
    }
   ],
   "source": [
    "# Az elemeken nem lehet módosítani!\n",
    "t[1] = 16"
   ]
  },
  {
   "cell_type": "code",
   "execution_count": 6,
   "metadata": {
    "executionInfo": {
     "elapsed": 420,
     "status": "ok",
     "timestamp": 1680620011037,
     "user": {
      "displayName": "Piroska Dömötör",
      "userId": "03696721308245428945"
     },
     "user_tz": -120
    },
    "id": "VJ3YwYTCFaJ_"
   },
   "outputs": [],
   "source": [
    "# A t változó persze kaphat új értéket.\n",
    "t = (1, 2, 3, (12, 24))"
   ]
  },
  {
   "cell_type": "code",
   "execution_count": 8,
   "metadata": {
    "colab": {
     "base_uri": "https://localhost:8080/"
    },
    "executionInfo": {
     "elapsed": 259,
     "status": "ok",
     "timestamp": 1680623536443,
     "user": {
      "displayName": "Piroska Dömötör",
      "userId": "03696721308245428945"
     },
     "user_tz": -120
    },
    "id": "1fmYMQ-wFaKB",
    "outputId": "f0fb2494-09de-418a-ee44-1bef9d0bf76c"
   },
   "outputs": [
    {
     "name": "stdout",
     "output_type": "stream",
     "text": [
      "False\n",
      "True\n"
     ]
    }
   ],
   "source": [
    "# Tartalmazásvizsgálat.\n",
    "print(12 in t)\n",
    "print(1 in t)"
   ]
  },
  {
   "cell_type": "code",
   "execution_count": 9,
   "metadata": {
    "colab": {
     "base_uri": "https://localhost:8080/"
    },
    "executionInfo": {
     "elapsed": 8,
     "status": "ok",
     "timestamp": 1680620110730,
     "user": {
      "displayName": "Piroska Dömötör",
      "userId": "03696721308245428945"
     },
     "user_tz": -120
    },
    "id": "3hCEsuqhFaKC",
    "outputId": "157f2878-397a-4759-88e5-1c5aed4450d6"
   },
   "outputs": [
    {
     "name": "stdout",
     "output_type": "stream",
     "text": [
      "(1, 2, 'alma')\n"
     ]
    }
   ],
   "source": [
    "# Amennyiben nem okoz kétértelműséget, a ( és ) határoló elhagyható!\n",
    "t2 = 1, 2, \"alma\"\n",
    "print(t2)"
   ]
  },
  {
   "cell_type": "code",
   "execution_count": 10,
   "metadata": {
    "colab": {
     "base_uri": "https://localhost:8080/"
    },
    "executionInfo": {
     "elapsed": 495,
     "status": "ok",
     "timestamp": 1680623569352,
     "user": {
      "displayName": "Piroska Dömötör",
      "userId": "03696721308245428945"
     },
     "user_tz": -120
    },
    "id": "ejjXkQgnFaKC",
    "outputId": "d1fcbccb-67d5-4e78-e64c-7206245f7f00"
   },
   "outputs": [
    {
     "data": {
      "text/plain": [
       "(0, tuple)"
      ]
     },
     "execution_count": 10,
     "metadata": {},
     "output_type": "execute_result"
    }
   ],
   "source": [
    "# Üres tuple létrehozása.\n",
    "t0 = ()\n",
    "len(t0), type(t0)"
   ]
  },
  {
   "cell_type": "code",
   "execution_count": 67,
   "metadata": {
    "colab": {
     "base_uri": "https://localhost:8080/"
    },
    "executionInfo": {
     "elapsed": 278,
     "status": "ok",
     "timestamp": 1680623605737,
     "user": {
      "displayName": "Piroska Dömötör",
      "userId": "03696721308245428945"
     },
     "user_tz": -120
    },
    "id": "AwR52KbFFaKC",
    "outputId": "496239f2-d967-430a-c2cf-77789b5b924e"
   },
   "outputs": [
    {
     "data": {
      "text/plain": [
       "(tuple, 1)"
      ]
     },
     "execution_count": 67,
     "metadata": {},
     "output_type": "execute_result"
    }
   ],
   "source": [
    "# Egy elemű tuple létrehozása. A zárójel el is hagyható.\n",
    "t1 = (\"s\",)\n",
    "type(t1) , len(t1)"
   ]
  },
  {
   "cell_type": "markdown",
   "metadata": {
    "id": "IUftxKj_FaKD"
   },
   "source": [
    "### Lista (list)\n",
    "\n",
    "- A tuple módosítható változata:\n",
    "    - új elemet is hozzá lehet adni, ill. \n",
    "    - meglévő elemeken is lehet módosítani.\n",
    "- Az indexelés O(1), a tartalmazásvizsgálat O(n) időben fut le itt is.\n",
    "- [List a python dokumentációban](https://docs.python.org/3/library/stdtypes.html#lists)"
   ]
  },
  {
   "cell_type": "code",
   "execution_count": 22,
   "metadata": {
    "colab": {
     "base_uri": "https://localhost:8080/"
    },
    "executionInfo": {
     "elapsed": 9,
     "status": "ok",
     "timestamp": 1680623696328,
     "user": {
      "displayName": "Piroska Dömötör",
      "userId": "03696721308245428945"
     },
     "user_tz": -120
    },
    "id": "4zqmjbd2FaKD",
    "outputId": "b4702d16-eb21-44f9-8474-50de71e3a889"
   },
   "outputs": [
    {
     "data": {
      "text/plain": [
       "[1, 1.23, True, 'alma']"
      ]
     },
     "execution_count": 22,
     "metadata": {},
     "output_type": "execute_result"
    }
   ],
   "source": [
    "# Hozzunk létre egy l nevű, 4 elemű listaváltozót!\n",
    "# Az elemeknek nem kell azonos típusúnak lenniük.\n",
    "l = [1, 1.23, True, 'alma']\n",
    "l"
   ]
  },
  {
   "cell_type": "code",
   "execution_count": 23,
   "metadata": {
    "colab": {
     "base_uri": "https://localhost:8080/"
    },
    "executionInfo": {
     "elapsed": 8,
     "status": "ok",
     "timestamp": 1680623697287,
     "user": {
      "displayName": "Piroska Dömötör",
      "userId": "03696721308245428945"
     },
     "user_tz": -120
    },
    "id": "2ExJaF9sFaKE",
    "outputId": "0f070039-bdf9-4c92-a764-1c756316ed6a"
   },
   "outputs": [
    {
     "data": {
      "text/plain": [
       "(list, 4)"
      ]
     },
     "execution_count": 23,
     "metadata": {},
     "output_type": "execute_result"
    }
   ],
   "source": [
    "# Ellenőrizzük l típusát, és kérdezzük le az elemek számát!\n",
    "type(l), len (l)"
   ]
  },
  {
   "cell_type": "code",
   "execution_count": 24,
   "metadata": {
    "colab": {
     "base_uri": "https://localhost:8080/"
    },
    "executionInfo": {
     "elapsed": 13,
     "status": "ok",
     "timestamp": 1680623697963,
     "user": {
      "displayName": "Piroska Dömötör",
      "userId": "03696721308245428945"
     },
     "user_tz": -120
    },
    "id": "aQWXKeASFaKE",
    "outputId": "82b80a52-7627-42f3-d7b4-dcd22bfba6cc"
   },
   "outputs": [
    {
     "data": {
      "text/plain": [
       "1.23"
      ]
     },
     "execution_count": 24,
     "metadata": {},
     "output_type": "execute_result"
    }
   ],
   "source": [
    "# Lista elemeinek elérése (az indexelés 0-tól indul).\n",
    "l[1]"
   ]
  },
  {
   "cell_type": "code",
   "execution_count": 25,
   "metadata": {
    "colab": {
     "base_uri": "https://localhost:8080/"
    },
    "executionInfo": {
     "elapsed": 6,
     "status": "ok",
     "timestamp": 1680623699113,
     "user": {
      "displayName": "Piroska Dömötör",
      "userId": "03696721308245428945"
     },
     "user_tz": -120
    },
    "id": "L3DBckfCFaKE",
    "outputId": "b5e3316e-9b72-430b-f666-c7f22763e192"
   },
   "outputs": [
    {
     "data": {
      "text/plain": [
       "[1, 16, True, 'alma']"
      ]
     },
     "execution_count": 25,
     "metadata": {},
     "output_type": "execute_result"
    }
   ],
   "source": [
    "# Listaelem módosítása.\n",
    "l[1] = 16\n",
    "l"
   ]
  },
  {
   "cell_type": "code",
   "execution_count": 26,
   "metadata": {
    "colab": {
     "base_uri": "https://localhost:8080/"
    },
    "executionInfo": {
     "elapsed": 7,
     "status": "ok",
     "timestamp": 1680623700145,
     "user": {
      "displayName": "Piroska Dömötör",
      "userId": "03696721308245428945"
     },
     "user_tz": -120
    },
    "id": "XyNzidgfFaKF",
    "outputId": "6c0db3cf-80ed-4e0d-ac8d-dbb6df6026f5"
   },
   "outputs": [
    {
     "data": {
      "text/plain": [
       "[1, 2, 'alma', [3, 4]]"
      ]
     },
     "execution_count": 26,
     "metadata": {},
     "output_type": "execute_result"
    }
   ],
   "source": [
    "# Listába elemként beágyazhatunk másik listát\n",
    "[1, 2, 'alma', [3, 4]]"
   ]
  },
  {
   "cell_type": "code",
   "execution_count": 27,
   "metadata": {
    "colab": {
     "base_uri": "https://localhost:8080/"
    },
    "executionInfo": {
     "elapsed": 833,
     "status": "ok",
     "timestamp": 1680623705452,
     "user": {
      "displayName": "Piroska Dömötör",
      "userId": "03696721308245428945"
     },
     "user_tz": -120
    },
    "id": "6YIrcubRFaKH",
    "outputId": "01ee167b-ea10-4684-8ff6-fd90bf7d37bc"
   },
   "outputs": [
    {
     "data": {
      "text/plain": [
       "True"
      ]
     },
     "execution_count": 27,
     "metadata": {},
     "output_type": "execute_result"
    }
   ],
   "source": [
    "# Tartalmazásvizsgálat.\n",
    "'alma' in l "
   ]
  },
  {
   "cell_type": "code",
   "execution_count": 28,
   "metadata": {
    "colab": {
     "base_uri": "https://localhost:8080/"
    },
    "executionInfo": {
     "elapsed": 723,
     "status": "ok",
     "timestamp": 1680623737612,
     "user": {
      "displayName": "Piroska Dömötör",
      "userId": "03696721308245428945"
     },
     "user_tz": -120
    },
    "id": "kMR2JmuUFaKM",
    "outputId": "5a685414-b328-4380-8bfe-05e01cec3d50"
   },
   "outputs": [
    {
     "data": {
      "text/plain": [
       "(list, 0)"
      ]
     },
     "execution_count": 28,
     "metadata": {},
     "output_type": "execute_result"
    }
   ],
   "source": [
    "# Üres lista létrehozása.\n",
    "l0 = []\n",
    "type(l0), len(l0)"
   ]
  },
  {
   "cell_type": "markdown",
   "metadata": {},
   "source": [
    "#### Lista módosítása:\n",
    "Eljárások: ```.append()```, ```.index()```,  ```.insert()```,```.pop()```"
   ]
  },
  {
   "cell_type": "code",
   "execution_count": 29,
   "metadata": {
    "colab": {
     "base_uri": "https://localhost:8080/"
    },
    "executionInfo": {
     "elapsed": 6,
     "status": "ok",
     "timestamp": 1680623701565,
     "user": {
      "displayName": "Piroska Dömötör",
      "userId": "03696721308245428945"
     },
     "user_tz": -120
    },
    "id": "mnN7qmCOFaKF",
    "outputId": "e0f7a84b-260b-46df-fc93-e95eafd20b10"
   },
   "outputs": [
    {
     "data": {
      "text/plain": [
       "[1, 16, True, 'alma', 134]"
      ]
     },
     "execution_count": 29,
     "metadata": {},
     "output_type": "execute_result"
    }
   ],
   "source": [
    "# Elem hozzáfűzése a lista végére: append()\n",
    "l.append(134)\n",
    "l"
   ]
  },
  {
   "cell_type": "code",
   "execution_count": 30,
   "metadata": {
    "colab": {
     "base_uri": "https://localhost:8080/"
    },
    "executionInfo": {
     "elapsed": 478,
     "status": "ok",
     "timestamp": 1680623702905,
     "user": {
      "displayName": "Piroska Dömötör",
      "userId": "03696721308245428945"
     },
     "user_tz": -120
    },
    "id": "fEZNoIW4FaKG",
    "outputId": "ad5472d1-5f17-4efc-fd29-3ad2f725c173"
   },
   "outputs": [
    {
     "data": {
      "text/plain": [
       "[1, 'körte', 16, True, 'alma', 134]"
      ]
     },
     "execution_count": 30,
     "metadata": {},
     "output_type": "execute_result"
    }
   ],
   "source": [
    "# Elem beszúrása a lista közepére: insert()\n",
    "l.insert(1,\"körte\")\n",
    "l"
   ]
  },
  {
   "cell_type": "code",
   "execution_count": 31,
   "metadata": {
    "colab": {
     "base_uri": "https://localhost:8080/"
    },
    "executionInfo": {
     "elapsed": 482,
     "status": "ok",
     "timestamp": 1680623707499,
     "user": {
      "displayName": "Piroska Dömötör",
      "userId": "03696721308245428945"
     },
     "user_tz": -120
    },
    "id": "jcYm1P4GFaKH",
    "outputId": "ac23f4fe-7459-4ba3-fc49-31d1ab9d112e"
   },
   "outputs": [
    {
     "data": {
      "text/plain": [
       "4"
      ]
     },
     "execution_count": 31,
     "metadata": {},
     "output_type": "execute_result"
    }
   ],
   "source": [
    "# Elem indexének meghatározása (az első előfordulásé)   .index()\n",
    "l.index(\"alma\")"
   ]
  },
  {
   "cell_type": "code",
   "execution_count": 32,
   "metadata": {
    "colab": {
     "base_uri": "https://localhost:8080/"
    },
    "executionInfo": {
     "elapsed": 11,
     "status": "ok",
     "timestamp": 1680623708888,
     "user": {
      "displayName": "Piroska Dömötör",
      "userId": "03696721308245428945"
     },
     "user_tz": -120
    },
    "id": "l7FGgpIzFaKJ",
    "outputId": "47cd83f1-4909-45ac-bb42-acd646a99214"
   },
   "outputs": [
    {
     "data": {
      "text/plain": [
       "[1, 'körte', 16, True, 'alma']"
      ]
     },
     "execution_count": 32,
     "metadata": {},
     "output_type": "execute_result"
    }
   ],
   "source": [
    "# Adott indexű elem törlése .pop()\n",
    "l.pop(5)\n",
    "l"
   ]
  },
  {
   "cell_type": "code",
   "execution_count": 33,
   "metadata": {
    "colab": {
     "base_uri": "https://localhost:8080/"
    },
    "executionInfo": {
     "elapsed": 8,
     "status": "ok",
     "timestamp": 1680623710362,
     "user": {
      "displayName": "Piroska Dömötör",
      "userId": "03696721308245428945"
     },
     "user_tz": -120
    },
    "id": "8AnXESAxFaKK",
    "outputId": "d0d52642-1149-4144-ddb6-dcbec43b821b"
   },
   "outputs": [
    {
     "data": {
      "text/plain": [
       "[1, 'körte', 16, True]"
      ]
     },
     "execution_count": 33,
     "metadata": {},
     "output_type": "execute_result"
    }
   ],
   "source": [
    "# Utolsó elem törlése.\n",
    "l.pop()\n",
    "l"
   ]
  },
  {
   "cell_type": "code",
   "execution_count": 34,
   "metadata": {
    "colab": {
     "base_uri": "https://localhost:8080/"
    },
    "executionInfo": {
     "elapsed": 560,
     "status": "ok",
     "timestamp": 1680623717627,
     "user": {
      "displayName": "Piroska Dömötör",
      "userId": "03696721308245428945"
     },
     "user_tz": -120
    },
    "id": "p7OOchNuFaKL",
    "outputId": "52d151fa-cca0-475c-e124-9af9e13a16e9"
   },
   "outputs": [
    {
     "data": {
      "text/plain": [
       "[1, 2, 3, 'alma', 'körte']"
      ]
     },
     "execution_count": 34,
     "metadata": {},
     "output_type": "execute_result"
    }
   ],
   "source": [
    "# Két lista összefűzése egy új listába.\n",
    "[1,2,3] + ['alma','körte']"
   ]
  },
  {
   "cell_type": "code",
   "execution_count": 35,
   "metadata": {
    "colab": {
     "base_uri": "https://localhost:8080/"
    },
    "executionInfo": {
     "elapsed": 268,
     "status": "ok",
     "timestamp": 1680623725037,
     "user": {
      "displayName": "Piroska Dömötör",
      "userId": "03696721308245428945"
     },
     "user_tz": -120
    },
    "id": "FwMTUMmMFaKM",
    "outputId": "bb255c3f-7b8f-47c7-b16f-0f63b3a2260c"
   },
   "outputs": [
    {
     "data": {
      "text/plain": [
       "['alma', 'körte', 'alma', 'körte', 'alma', 'körte']"
      ]
     },
     "execution_count": 35,
     "metadata": {},
     "output_type": "execute_result"
    }
   ],
   "source": [
    "# Lista többszörözése.\n",
    "['alma','körte']*3"
   ]
  },
  {
   "cell_type": "markdown",
   "metadata": {
    "id": "7U3m6lG3FaKN"
   },
   "source": [
    "### Halmaz (set)\n",
    "\n",
    "- A halmaz adattípus a matematikai halmazfogalom számítógépes megfelelője:\n",
    "    - Egy elem csak 1x szerepelhet!\n",
    "- Halmazt indexelni nem lehet, a tartalmazásvizsgálat O(1) időben fut le.\n",
    "- [Halmaz a python dokumentációban](https://docs.python.org/3/library/stdtypes.html#set-types-set-frozenset)"
   ]
  },
  {
   "cell_type": "code",
   "execution_count": 40,
   "metadata": {
    "colab": {
     "base_uri": "https://localhost:8080/"
    },
    "executionInfo": {
     "elapsed": 727,
     "status": "ok",
     "timestamp": 1680623742590,
     "user": {
      "displayName": "Piroska Dömötör",
      "userId": "03696721308245428945"
     },
     "user_tz": -120
    },
    "id": "eV5jX6O-FaKN",
    "outputId": "c218eba5-0f68-4caf-e636-d7a67f3cb23b"
   },
   "outputs": [
    {
     "data": {
      "text/plain": [
       "{1, 1.25, 3, 5, 'alma'}"
      ]
     },
     "execution_count": 40,
     "metadata": {},
     "output_type": "execute_result"
    }
   ],
   "source": [
    "# Hozzunk létre egy s nevű halmazváltozót!\n",
    "# Az elemek típusa nem feltétlenül azonos.\n",
    "\n",
    "s = {1, 1, 3, \"alma\", 1.25, 1,5}\n",
    "s"
   ]
  },
  {
   "cell_type": "code",
   "execution_count": 37,
   "metadata": {
    "colab": {
     "base_uri": "https://localhost:8080/"
    },
    "executionInfo": {
     "elapsed": 7,
     "status": "ok",
     "timestamp": 1680623743146,
     "user": {
      "displayName": "Piroska Dömötör",
      "userId": "03696721308245428945"
     },
     "user_tz": -120
    },
    "id": "UUeP6V-wFaKO",
    "outputId": "cf9ebdd1-8dcc-4571-fee4-1ab914eaad14"
   },
   "outputs": [
    {
     "data": {
      "text/plain": [
       "(set, 5)"
      ]
     },
     "execution_count": 37,
     "metadata": {},
     "output_type": "execute_result"
    }
   ],
   "source": [
    "# Ellenőrizzük s típusát és elemszámát!\n",
    "type(s) , len(s)"
   ]
  },
  {
   "cell_type": "code",
   "execution_count": 38,
   "metadata": {
    "colab": {
     "base_uri": "https://localhost:8080/"
    },
    "executionInfo": {
     "elapsed": 9,
     "status": "ok",
     "timestamp": 1680623744024,
     "user": {
      "displayName": "Piroska Dömötör",
      "userId": "03696721308245428945"
     },
     "user_tz": -120
    },
    "id": "fn8Cv0zDFaKO",
    "outputId": "180e7921-4437-43dd-bc89-82ef5a6d4713"
   },
   "outputs": [
    {
     "data": {
      "text/plain": [
       "True"
      ]
     },
     "execution_count": 38,
     "metadata": {},
     "output_type": "execute_result"
    }
   ],
   "source": [
    "# Tartalmazásvizsgálat.\n",
    "1 in s"
   ]
  },
  {
   "cell_type": "code",
   "execution_count": 39,
   "metadata": {
    "colab": {
     "base_uri": "https://localhost:8080/"
    },
    "executionInfo": {
     "elapsed": 423,
     "status": "ok",
     "timestamp": 1680623745604,
     "user": {
      "displayName": "Piroska Dömötör",
      "userId": "03696721308245428945"
     },
     "user_tz": -120
    },
    "id": "VZRQzfHx1jGw",
    "outputId": "5edfa94b-4e27-4461-dcca-e2e54f07d839"
   },
   "outputs": [
    {
     "data": {
      "text/plain": [
       "False"
      ]
     },
     "execution_count": 39,
     "metadata": {},
     "output_type": "execute_result"
    }
   ],
   "source": [
    "2 in s"
   ]
  },
  {
   "cell_type": "code",
   "execution_count": 102,
   "metadata": {
    "colab": {
     "base_uri": "https://localhost:8080/"
    },
    "executionInfo": {
     "elapsed": 253,
     "status": "ok",
     "timestamp": 1680623776360,
     "user": {
      "displayName": "Piroska Dömötör",
      "userId": "03696721308245428945"
     },
     "user_tz": -120
    },
    "id": "Yi-R5XqqFaKR",
    "outputId": "94dfc210-98e8-46bf-bd66-0ee08ca2cb30"
   },
   "outputs": [
    {
     "data": {
      "text/plain": [
       "(set, 0)"
      ]
     },
     "execution_count": 102,
     "metadata": {},
     "output_type": "execute_result"
    }
   ],
   "source": [
    "# Üres halmaz létrehozása. {} nem jó, mert az szótárt készít.\n",
    "s0 = set()\n",
    "type(s0), len(s0)"
   ]
  },
  {
   "cell_type": "markdown",
   "metadata": {},
   "source": [
    "#### Halmaz módosítása, halmazműveletek:\n",
    "- Eljárások: ```.add()``` és ```.remove()```\n",
    "- Műveletek: únió (```|```), metszet (```&```), különbség (```-```) "
   ]
  },
  {
   "cell_type": "code",
   "execution_count": 75,
   "metadata": {},
   "outputs": [],
   "source": [
    "s = {1, 1, 3, \"alma\", 1.25, 1, 5}"
   ]
  },
  {
   "cell_type": "code",
   "execution_count": 76,
   "metadata": {
    "executionInfo": {
     "elapsed": 314,
     "status": "ok",
     "timestamp": 1680623747035,
     "user": {
      "displayName": "Piroska Dömötör",
      "userId": "03696721308245428945"
     },
     "user_tz": -120
    },
    "id": "N5fUMAUeFaKO"
   },
   "outputs": [
    {
     "name": "stdout",
     "output_type": "stream",
     "text": [
      "{1, 1.25, 3, 5, 12, 'alma'}\n"
     ]
    }
   ],
   "source": [
    "# Elem hozzáadása a halmazhoz.\n",
    "s.add(12)\n",
    "print(s)"
   ]
  },
  {
   "cell_type": "code",
   "execution_count": 77,
   "metadata": {
    "colab": {
     "base_uri": "https://localhost:8080/"
    },
    "executionInfo": {
     "elapsed": 400,
     "status": "ok",
     "timestamp": 1680623773270,
     "user": {
      "displayName": "Piroska Dömötör",
      "userId": "03696721308245428945"
     },
     "user_tz": -120
    },
    "id": "xHpzcUBpFaKR",
    "outputId": "4520fbc3-55bd-4c21-d69e-41fdc22ef136"
   },
   "outputs": [
    {
     "data": {
      "text/plain": [
       "{1.25, 12, 3, 5, 'alma'}"
      ]
     },
     "execution_count": 77,
     "metadata": {},
     "output_type": "execute_result"
    }
   ],
   "source": [
    "# Elem eltávolítása.\n",
    "s.remove(1)\n",
    "s"
   ]
  },
  {
   "cell_type": "code",
   "execution_count": 78,
   "metadata": {
    "colab": {
     "base_uri": "https://localhost:8080/"
    },
    "executionInfo": {
     "elapsed": 428,
     "status": "ok",
     "timestamp": 1680623751619,
     "user": {
      "displayName": "Piroska Dömötör",
      "userId": "03696721308245428945"
     },
     "user_tz": -120
    },
    "id": "48wp2SAYFaKP",
    "outputId": "26714287-6e9e-4ea5-d1e1-e6896fcfca4a"
   },
   "outputs": [
    {
     "data": {
      "text/plain": [
       "{1, 2, 3, 5}"
      ]
     },
     "execution_count": 78,
     "metadata": {},
     "output_type": "execute_result"
    }
   ],
   "source": [
    "# unió\n",
    "{1,2,3} | {1,5,2}"
   ]
  },
  {
   "cell_type": "code",
   "execution_count": 79,
   "metadata": {
    "colab": {
     "base_uri": "https://localhost:8080/"
    },
    "executionInfo": {
     "elapsed": 391,
     "status": "ok",
     "timestamp": 1680623753235,
     "user": {
      "displayName": "Piroska Dömötör",
      "userId": "03696721308245428945"
     },
     "user_tz": -120
    },
    "id": "l33xgbZOFaKP",
    "outputId": "208ae50a-8b53-48e3-efac-5cebb1a14377"
   },
   "outputs": [
    {
     "data": {
      "text/plain": [
       "{1, 2}"
      ]
     },
     "execution_count": 79,
     "metadata": {},
     "output_type": "execute_result"
    }
   ],
   "source": [
    "# metszet\n",
    "{1,2,3} & {1,5,2}"
   ]
  },
  {
   "cell_type": "code",
   "execution_count": 80,
   "metadata": {
    "colab": {
     "base_uri": "https://localhost:8080/"
    },
    "executionInfo": {
     "elapsed": 7,
     "status": "ok",
     "timestamp": 1680623755371,
     "user": {
      "displayName": "Piroska Dömötör",
      "userId": "03696721308245428945"
     },
     "user_tz": -120
    },
    "id": "BO0y28c6FaKQ",
    "outputId": "15e83bee-48bf-4446-e35e-7d539a7c7b53"
   },
   "outputs": [
    {
     "data": {
      "text/plain": [
       "{3}"
      ]
     },
     "execution_count": 80,
     "metadata": {},
     "output_type": "execute_result"
    }
   ],
   "source": [
    "# halmazkivonás\n",
    "{1,2,3} - {1,5,2}"
   ]
  },
  {
   "cell_type": "markdown",
   "metadata": {
    "id": "JfeDXDyqFaKS"
   },
   "source": [
    "### Szótár (dict)\n",
    "\n",
    "- A szótár kulcs-érték párok halmaza, ahol a kulcsok egyediek.\n",
    "- Indexelni a kulccsal lehet, O(1) időben.\n",
    "- A kulcs lehet egyszerű típus, tuple vagy bármely módosíthatatlan adatszerkezet.\n",
    "- [Szótár a python dokumentációban](https://docs.python.org/3/library/stdtypes.html#mapping-types-dict)"
   ]
  },
  {
   "cell_type": "code",
   "execution_count": 65,
   "metadata": {
    "colab": {
     "base_uri": "https://localhost:8080/"
    },
    "executionInfo": {
     "elapsed": 409,
     "status": "ok",
     "timestamp": 1680623844920,
     "user": {
      "displayName": "Piroska Dömötör",
      "userId": "03696721308245428945"
     },
     "user_tz": -120
    },
    "id": "aUgUBcWZFaKS",
    "outputId": "6af7cbe5-9bb6-4981-8ff6-91cc0738fc70"
   },
   "outputs": [
    {
     "data": {
      "text/plain": [
       "{'alma': 120, 'körte': 12.5, 'barack': 4}"
      ]
     },
     "execution_count": 65,
     "metadata": {},
     "output_type": "execute_result"
    }
   ],
   "source": [
    "# Hozzunk létre egy d nevű szótárváltozót!\n",
    "d = { \"alma\":     120 ,\n",
    "     \"körte\":     12.5 ,\n",
    "      \"barack\":   4}\n",
    "d"
   ]
  },
  {
   "cell_type": "code",
   "execution_count": 50,
   "metadata": {
    "colab": {
     "base_uri": "https://localhost:8080/"
    },
    "executionInfo": {
     "elapsed": 401,
     "status": "ok",
     "timestamp": 1680623861305,
     "user": {
      "displayName": "Piroska Dömötör",
      "userId": "03696721308245428945"
     },
     "user_tz": -120
    },
    "id": "3ymdXAy-FaKT",
    "outputId": "fdcbae34-5a51-4bc9-859e-51346f109924"
   },
   "outputs": [
    {
     "data": {
      "text/plain": [
       "(dict, 3)"
      ]
     },
     "execution_count": 50,
     "metadata": {},
     "output_type": "execute_result"
    }
   ],
   "source": [
    "# Ellenőrizzük le d típusát és elemszámát!\n",
    "type(d) , len(d)"
   ]
  },
  {
   "cell_type": "code",
   "execution_count": 51,
   "metadata": {
    "colab": {
     "base_uri": "https://localhost:8080/"
    },
    "executionInfo": {
     "elapsed": 393,
     "status": "ok",
     "timestamp": 1680623863766,
     "user": {
      "displayName": "Piroska Dömötör",
      "userId": "03696721308245428945"
     },
     "user_tz": -120
    },
    "id": "wCRhiHbMFaKT",
    "outputId": "9e4c6223-d444-4baf-8e8d-234c3762a17e"
   },
   "outputs": [
    {
     "data": {
      "text/plain": [
       "120"
      ]
     },
     "execution_count": 51,
     "metadata": {},
     "output_type": "execute_result"
    }
   ],
   "source": [
    "# Létező kulcshoz tartozó érték lekérdezése.\n",
    "d[\"alma\"]"
   ]
  },
  {
   "cell_type": "code",
   "execution_count": 107,
   "metadata": {
    "colab": {
     "base_uri": "https://localhost:8080/",
     "height": 189
    },
    "executionInfo": {
     "elapsed": 426,
     "status": "error",
     "timestamp": 1680623872781,
     "user": {
      "displayName": "Piroska Dömötör",
      "userId": "03696721308245428945"
     },
     "user_tz": -120
    },
    "id": "Gn7hR6sdFaKU",
    "outputId": "2757e9f1-d56c-4dea-97ca-9a32aa3a7113"
   },
   "outputs": [
    {
     "ename": "KeyError",
     "evalue": "ignored",
     "output_type": "error",
     "traceback": [
      "\u001b[0;31m---------------------------------------------------------------------------\u001b[0m",
      "\u001b[0;31mKeyError\u001b[0m                                  Traceback (most recent call last)",
      "\u001b[0;32m<ipython-input-107-02e06c1aef53>\u001b[0m in \u001b[0;36m<cell line: 2>\u001b[0;34m()\u001b[0m\n\u001b[1;32m      1\u001b[0m \u001b[0;31m# Nem létező kulcshoz tartozó érték lekérdezése.\u001b[0m\u001b[0;34m\u001b[0m\u001b[0;34m\u001b[0m\u001b[0m\n\u001b[0;32m----> 2\u001b[0;31m \u001b[0md\u001b[0m\u001b[0;34m[\u001b[0m\u001b[0;34m\"meggy\"\u001b[0m\u001b[0;34m]\u001b[0m\u001b[0;34m\u001b[0m\u001b[0;34m\u001b[0m\u001b[0m\n\u001b[0m",
      "\u001b[0;31mKeyError\u001b[0m: 'meggy'"
     ]
    }
   ],
   "source": [
    "# Nem létező kulcshoz tartozó érték lekérdezése.\n",
    "d[\"meggy\"]"
   ]
  },
  {
   "cell_type": "code",
   "execution_count": 66,
   "metadata": {
    "colab": {
     "base_uri": "https://localhost:8080/"
    },
    "executionInfo": {
     "elapsed": 9,
     "status": "ok",
     "timestamp": 1680623876060,
     "user": {
      "displayName": "Piroska Dömötör",
      "userId": "03696721308245428945"
     },
     "user_tz": -120
    },
    "id": "AYqf2gkPFaKU",
    "outputId": "6fa27454-2188-4475-80e9-a7574fd21f97"
   },
   "outputs": [
    {
     "data": {
      "text/plain": [
       "{'alma': 100, 'körte': 12.5, 'barack': 4}"
      ]
     },
     "execution_count": 66,
     "metadata": {},
     "output_type": "execute_result"
    }
   ],
   "source": [
    "# Kulcshoz tartozó érték módosítása.\n",
    "d[\"alma\"] = 100\n",
    "d"
   ]
  },
  {
   "cell_type": "code",
   "execution_count": 67,
   "metadata": {
    "colab": {
     "base_uri": "https://localhost:8080/"
    },
    "executionInfo": {
     "elapsed": 419,
     "status": "ok",
     "timestamp": 1680623879333,
     "user": {
      "displayName": "Piroska Dömötör",
      "userId": "03696721308245428945"
     },
     "user_tz": -120
    },
    "id": "cUAWvJfVFaKU",
    "outputId": "227848b6-074a-4ef4-d6e7-76158581d5b4"
   },
   "outputs": [
    {
     "data": {
      "text/plain": [
       "{'alma': 100, 'körte': 12.5, 'barack': 48}"
      ]
     },
     "execution_count": 67,
     "metadata": {},
     "output_type": "execute_result"
    }
   ],
   "source": [
    "# Új kulcs-érték pár beszúrása.\n",
    "d[\"barack\"] = 48\n",
    "d"
   ]
  },
  {
   "cell_type": "code",
   "execution_count": 68,
   "metadata": {
    "colab": {
     "base_uri": "https://localhost:8080/"
    },
    "executionInfo": {
     "elapsed": 408,
     "status": "ok",
     "timestamp": 1680623882197,
     "user": {
      "displayName": "Piroska Dömötör",
      "userId": "03696721308245428945"
     },
     "user_tz": -120
    },
    "id": "6VWCnfCFFaKV",
    "outputId": "8ffff72a-0ffc-4256-c050-032f3d7c533d"
   },
   "outputs": [
    {
     "data": {
      "text/plain": [
       "{'körte': 12.5, 'barack': 48}"
      ]
     },
     "execution_count": 68,
     "metadata": {},
     "output_type": "execute_result"
    }
   ],
   "source": [
    "# Kulcs-érték pár törlése.\n",
    "del d[\"alma\"]\n",
    "d"
   ]
  },
  {
   "cell_type": "code",
   "execution_count": 111,
   "metadata": {
    "colab": {
     "base_uri": "https://localhost:8080/"
    },
    "executionInfo": {
     "elapsed": 417,
     "status": "ok",
     "timestamp": 1680623887116,
     "user": {
      "displayName": "Piroska Dömötör",
      "userId": "03696721308245428945"
     },
     "user_tz": -120
    },
    "id": "HxDKwH0uFaKV",
    "outputId": "f75c9d79-1cd7-4281-8afe-a4abd718d461"
   },
   "outputs": [
    {
     "data": {
      "text/plain": [
       "True"
      ]
     },
     "execution_count": 111,
     "metadata": {},
     "output_type": "execute_result"
    }
   ],
   "source": [
    "# Benne van-e egy kulcs a szótárban?\n",
    "2 in d"
   ]
  },
  {
   "cell_type": "code",
   "execution_count": 52,
   "metadata": {
    "colab": {
     "base_uri": "https://localhost:8080/"
    },
    "executionInfo": {
     "elapsed": 414,
     "status": "ok",
     "timestamp": 1680623890183,
     "user": {
      "displayName": "Piroska Dömötör",
      "userId": "03696721308245428945"
     },
     "user_tz": -120
    },
    "id": "XgCjGliMFaKV",
    "outputId": "0aeeab1e-dd80-440c-cda6-ce6d340d1f70"
   },
   "outputs": [
    {
     "data": {
      "text/plain": [
       "dict"
      ]
     },
     "execution_count": 52,
     "metadata": {},
     "output_type": "execute_result"
    }
   ],
   "source": [
    "# Üres szótár létrehozása.\n",
    "d0 = {}\n",
    "type(d0)"
   ]
  },
  {
   "cell_type": "code",
   "execution_count": 69,
   "metadata": {},
   "outputs": [
    {
     "data": {
      "text/plain": [
       "dict_keys(['körte', 'barack'])"
      ]
     },
     "execution_count": 69,
     "metadata": {},
     "output_type": "execute_result"
    }
   ],
   "source": [
    "# szótár kulcsok lekérdezése\n",
    "d.keys()"
   ]
  },
  {
   "cell_type": "markdown",
   "metadata": {
    "id": "ZSmatyJwFaKW"
   },
   "source": [
    "## Konverzió\n",
    "\n",
    "Minden eddig tanult adattípushoz tartozik egy függvény, amely az adott adattípusra konvertál bármely más adattípusról, amennyiben a konverziónak van értelme."
   ]
  },
  {
   "cell_type": "code",
   "execution_count": 53,
   "metadata": {
    "colab": {
     "base_uri": "https://localhost:8080/"
    },
    "executionInfo": {
     "elapsed": 583,
     "status": "ok",
     "timestamp": 1680622605444,
     "user": {
      "displayName": "Piroska Dömötör",
      "userId": "03696721308245428945"
     },
     "user_tz": -120
    },
    "id": "h2x5VbygFaKW",
    "outputId": "103cb8d9-147b-41f3-c24e-597234c36e52"
   },
   "outputs": [
    {
     "data": {
      "text/plain": [
       "1"
      ]
     },
     "execution_count": 53,
     "metadata": {},
     "output_type": "execute_result"
    }
   ],
   "source": [
    "int(1.234)    # float => int"
   ]
  },
  {
   "cell_type": "code",
   "execution_count": 57,
   "metadata": {
    "id": "h7hYwuV2FaKY"
   },
   "outputs": [
    {
     "data": {
      "text/plain": [
       "1.0"
      ]
     },
     "execution_count": 57,
     "metadata": {},
     "output_type": "execute_result"
    }
   ],
   "source": [
    "float(1)        # int => float"
   ]
  },
  {
   "cell_type": "code",
   "execution_count": 54,
   "metadata": {
    "colab": {
     "base_uri": "https://localhost:8080/"
    },
    "executionInfo": {
     "elapsed": 8,
     "status": "ok",
     "timestamp": 1680622636374,
     "user": {
      "displayName": "Piroska Dömötör",
      "userId": "03696721308245428945"
     },
     "user_tz": -120
    },
    "id": "eubLYdKcFaKX",
    "outputId": "3384b80d-ab13-4716-9f4c-d247ea988c6a"
   },
   "outputs": [
    {
     "data": {
      "text/plain": [
       "123"
      ]
     },
     "execution_count": 54,
     "metadata": {},
     "output_type": "execute_result"
    }
   ],
   "source": [
    "int('123')    # str => int"
   ]
  },
  {
   "cell_type": "code",
   "execution_count": 58,
   "metadata": {
    "id": "zvOIS6GdFaKY"
   },
   "outputs": [
    {
     "data": {
      "text/plain": [
       "'123'"
      ]
     },
     "execution_count": 58,
     "metadata": {},
     "output_type": "execute_result"
    }
   ],
   "source": [
    "str(123)       # int => str"
   ]
  },
  {
   "cell_type": "code",
   "execution_count": 56,
   "metadata": {
    "id": "MA429hptFaKX"
   },
   "outputs": [
    {
     "data": {
      "text/plain": [
       "1.234"
      ]
     },
     "execution_count": 56,
     "metadata": {},
     "output_type": "execute_result"
    }
   ],
   "source": [
    "float(\"1.234\")    # str => float"
   ]
  },
  {
   "cell_type": "code",
   "execution_count": 59,
   "metadata": {
    "id": "pNVnRCqjFaKY"
   },
   "outputs": [
    {
     "data": {
      "text/plain": [
       "(1, 2, 3)"
      ]
     },
     "execution_count": 59,
     "metadata": {},
     "output_type": "execute_result"
    }
   ],
   "source": [
    " # list => tuple\n",
    "l = [1, 2, 3]\n",
    "tuple(l)"
   ]
  },
  {
   "cell_type": "code",
   "execution_count": 60,
   "metadata": {
    "id": "Ans4ONxYFaKZ"
   },
   "outputs": [
    {
     "data": {
      "text/plain": [
       "[1, 2, 3]"
      ]
     },
     "execution_count": 60,
     "metadata": {},
     "output_type": "execute_result"
    }
   ],
   "source": [
    " # tuple =>  list\n",
    "t = 1, 2, 3\n",
    "list(t)"
   ]
  },
  {
   "cell_type": "code",
   "execution_count": 70,
   "metadata": {
    "id": "zVQsf1T4FaKZ"
   },
   "outputs": [
    {
     "data": {
      "text/plain": [
       "{1, 2, 3}"
      ]
     },
     "execution_count": 70,
     "metadata": {},
     "output_type": "execute_result"
    }
   ],
   "source": [
    " # tuple => set\n",
    "t = 1, 2, 3, 3\n",
    "set(t)\n"
   ]
  },
  {
   "cell_type": "code",
   "execution_count": 62,
   "metadata": {
    "id": "le9_1gB2FaKZ"
   },
   "outputs": [
    {
     "data": {
      "text/plain": [
       "{'alma': 1, 'körte': 2}"
      ]
     },
     "execution_count": 62,
     "metadata": {},
     "output_type": "execute_result"
    }
   ],
   "source": [
    " # párok listája => dict\n",
    "dl = [('alma', 1), ('körte', 2)]\n",
    "dict(dl)"
   ]
  },
  {
   "cell_type": "code",
   "execution_count": 83,
   "metadata": {
    "id": "QhRAxrrAFaKa"
   },
   "outputs": [
    {
     "data": {
      "text/plain": [
       "[('alma', 1), ('körte', 2)]"
      ]
     },
     "execution_count": 83,
     "metadata": {},
     "output_type": "execute_result"
    }
   ],
   "source": [
    " # dict => párok listája\n",
    "\n",
    "d = {'alma': 1, 'körte': 2}\n",
    "list(d.items())"
   ]
  },
  {
   "cell_type": "markdown",
   "metadata": {},
   "source": [
    "## [Standard adatfolyamok](https://en.wikipedia.org/wiki/Standard_streams)\n",
    "\n",
    "Az operációs rendszer indításkor minden folyamathoz hozzárendel 3 szabványos adatfolyamot: a [standard bemenetet](https://docs.python.org/3/library/sys.html#sys.stdin), a [standard kimenetet](https://docs.python.org/3/library/sys.html#sys.stdout), és a [standard hibakimenetet](https://docs.python.org/3/library/sys.html#sys.stderr). Alapértelmezés szerint a standard bemenet a billentyűzettel, a standard kimenet és hibakimenet pedig a képernyővel van összekötve. Ez a beállítás módosítható, pl. a standard bemenet érkezhet egy fájlból vagy egy másik programból, a standard kimenet és hibakimenet pedig íródhat fájlba vagy továbbítódhat másik programnak."
   ]
  },
  {
   "cell_type": "markdown",
   "metadata": {},
   "source": [
    "### Standard bemenet -- Billentyűzet\n",
    "\n",
    "- A standard bemenetről adatokat bekérni az ```input()``` függvény segítségével lehet.\n",
    "- Az eredmény sztring típusú. Ha más adattípusra van szükség, akkor a konvertálni kell.\n",
    "- [input függvény a dokumentációban](https://docs.python.org/3/library/functions.html#input)"
   ]
  },
  {
   "cell_type": "code",
   "execution_count": 72,
   "metadata": {},
   "outputs": [],
   "source": [
    "# Sztring típusú adat beolvasása.\n",
    "text = input(\"Írjon be egy szöveget: \")"
   ]
  },
  {
   "cell_type": "code",
   "execution_count": 73,
   "metadata": {},
   "outputs": [
    {
     "name": "stdout",
     "output_type": "stream",
     "text": [
      "Ez egy szöveg\n"
     ]
    }
   ],
   "source": [
    "print(text)"
   ]
  },
  {
   "cell_type": "code",
   "execution_count": 74,
   "metadata": {},
   "outputs": [
    {
     "name": "stdout",
     "output_type": "stream",
     "text": [
      "A megedott egész 12\n"
     ]
    }
   ],
   "source": [
    "# Egész típusú adat beolvasása.\n",
    "n = int(input(\"Adjon meg egy egész számot: \"))\n",
    "print (\"A megedott egész\", n)"
   ]
  },
  {
   "cell_type": "markdown",
   "metadata": {},
   "source": [
    "### Standard kimenet\n",
    "\n",
    "- A standard kimenetre kiírni a ```print()``` függvény segítségével lehet.\n",
    "- [print függvény a dokumentációban](https://docs.python.org/3/library/functions.html#print)"
   ]
  },
  {
   "cell_type": "code",
   "execution_count": 1,
   "metadata": {},
   "outputs": [
    {
     "name": "stdout",
     "output_type": "stream",
     "text": [
      "200\n",
      "\n",
      "200\n"
     ]
    }
   ],
   "source": [
    "# Kiírás a standard kimenetre.\n",
    "n = 200\n",
    "print(n)\n",
    "print()\n",
    "print(n)"
   ]
  },
  {
   "cell_type": "code",
   "execution_count": 2,
   "metadata": {},
   "outputs": [
    {
     "name": "stdout",
     "output_type": "stream",
     "text": [
      "200\t200\n"
     ]
    }
   ],
   "source": [
    "# Kiírás soremelés nélkül.\n",
    "print(n, end = \"\\t\")\n",
    "print(n)"
   ]
  },
  {
   "cell_type": "code",
   "execution_count": 3,
   "metadata": {},
   "outputs": [
    {
     "name": "stdout",
     "output_type": "stream",
     "text": [
      "\n"
     ]
    }
   ],
   "source": [
    "# Egyetlen soremelés kiírása.\n",
    "print()"
   ]
  },
  {
   "cell_type": "markdown",
   "metadata": {},
   "source": [
    "### [Formázott kiírás](https://docs.python.org/3/tutorial/inputoutput.html#fancier-output-formatting)"
   ]
  },
  {
   "cell_type": "code",
   "execution_count": 4,
   "metadata": {},
   "outputs": [
    {
     "name": "stdout",
     "output_type": "stream",
     "text": [
      "A megedott x1 egész 2\n",
      "A megedott x2 valós: 1.4142135623730951\n",
      "A megedott x2 valós: 1.4142135623730951\n"
     ]
    }
   ],
   "source": [
    "# Formázott kiírás f-sztringgel.\n",
    "x1 = 2\n",
    "x2 = 2**0.5\n",
    "\n",
    "print (\"A megedott x1 egész\", x1)\n",
    "print (\"A megedott x2 valós:\", x2)\n",
    "print (f\"A megedott x2 valós: {x2}\")"
   ]
  },
  {
   "cell_type": "code",
   "execution_count": null,
   "metadata": {},
   "outputs": [
    {
     "name": "stdout",
     "output_type": "stream",
     "text": [
      "A megedott x2 szám: 1.4\n",
      "A megedott x2 szám: 1.41421\n"
     ]
    }
   ],
   "source": [
    "# Kiírás 1 tizedesjegy pontossággal.\n",
    "print (f\"A megedott x2 szám: {x2:0.1f}\")\n",
    "\n",
    "# Vagy 5 tizedesjegy pontossággal.\n",
    "print (f\"A megedott x2 szám: {x2 : 0.5f}\")"
   ]
  },
  {
   "cell_type": "code",
   "execution_count": null,
   "metadata": {},
   "outputs": [
    {
     "name": "stdout",
     "output_type": "stream",
     "text": [
      "A megdott egész:  10\n",
      "A megdott egész: 100\n",
      "A megdott egész:1000\n"
     ]
    }
   ],
   "source": [
    "# szép kiíratás egészre: 4 karakternyi helyre\n",
    "n = 10\n",
    "print(f\"A megdott egész:{n:4}\")\n",
    "print(f\"A megdott egész:{n*10:4}\")\n",
    "print(f\"A megdott egész:{n*100:4}\")"
   ]
  },
  {
   "cell_type": "code",
   "execution_count": null,
   "metadata": {},
   "outputs": [
    {
     "name": "stdout",
     "output_type": "stream",
     "text": [
      "ez az egész: 3, ez meg a sztring: körte\n"
     ]
    }
   ],
   "source": [
    "# Egész szám ill. sztring kiírása.\n",
    "n=3\n",
    "s=\"körte\"\n",
    "print(f\"ez az egész: {n}, ez meg a sztring: {s}\")"
   ]
  },
  {
   "cell_type": "markdown",
   "metadata": {
    "id": "uKn5TiKO3LHs",
    "jp-MarkdownHeadingCollapsed": true,
    "tags": []
   },
   "source": [
    "# Vezérlési szerkezetek\n",
    "\n",
    "- Pythonban a vezérlési szerkezetek belsejét behúzással kell jelölni.\n",
    "- Ezt a behúzást a ```Tab``` billenytű lenyomásával érhetjük el\n",
    "- Emiatt garantált, hogy a program megjelenése és logikai jelentése összhangban van."
   ]
  },
  {
   "cell_type": "markdown",
   "metadata": {},
   "source": [
    "## for ciklus:\n",
    "\n",
    "- [for ciklus a Python dokumentációban](https://docs.python.org/3/reference/compound_stmts.html#the-for-statement)\n",
    "\n",
    "- Szintaxis:\n",
    "```\n",
    "  for ELEM in SZEKVENCIA:\n",
    "      UTASÍTÁS\n",
    "```"
   ]
  },
  {
   "cell_type": "markdown",
   "metadata": {},
   "source": [
    "- Megjegyzések:\n",
    "  + A szekvencia lehet egész számok folytonos sorozata, de lehet más is (pl. sztring, tuple, lista, halmaz, szótár, megnyitott fájl).\n",
    "  + Akkor érdemes for ciklust alkalmazni, ha A) a szekvencia már rendelkezésre áll vagy B) a ciklus kezdetekor tudjuk az iterációk számát."
   ]
  },
  {
   "cell_type": "markdown",
   "metadata": {},
   "source": [
    "### 1.példa\n",
    "Írjuk ki az alábbi könyvcímeket egymás alá a képernyőre:\n",
    "\n",
    "Jane Eyre, Shirley, Agnes Grey, Üvöltő Szelek"
   ]
  },
  {
   "cell_type": "code",
   "execution_count": 25,
   "metadata": {},
   "outputs": [
    {
     "name": "stdout",
     "output_type": "stream",
     "text": [
      "Jane Eyre\n",
      "Shirley\n",
      "Agnes Grey\n",
      "Üvöltő szelek\n"
     ]
    }
   ],
   "source": [
    "# ha csak az eddigi tudásunkat alkalmazzuk\n",
    "\n",
    "konyv_lista = ['Jane Eyre', 'Shirley', 'Agnes Grey', 'Üvöltő szelek']\n",
    "\n",
    "print(konyv_lista[0])\n",
    "print(konyv_lista[1])\n",
    "print(konyv_lista[2])\n",
    "print(konyv_lista[3])"
   ]
  },
  {
   "cell_type": "code",
   "execution_count": 1,
   "metadata": {},
   "outputs": [],
   "source": [
    "# Na de mi van, ha bővül a lista tovabbi konyvekkel? \n",
    "konyv_lista = ['Jane Eyre', 'Shirley', 'Agnes Grey', 'Üvöltő szelek']\n",
    "uj_konyvek = ['Wildfell asszonya', 'Villette', 'Henry Hastings kapitány']"
   ]
  },
  {
   "cell_type": "code",
   "execution_count": 27,
   "metadata": {},
   "outputs": [
    {
     "name": "stdout",
     "output_type": "stream",
     "text": [
      "['Jane Eyre', 'Shirley', 'Agnes Grey', 'Üvöltő szelek', 'Wildfell asszonya', 'Villette', 'Henry Hastings kapitány']\n"
     ]
    }
   ],
   "source": [
    "# új könyvek hozzáfűzése az eredeti listához\n",
    "konyv_lista = konyv_lista + uj_konyvek\n",
    "print(konyv_lista)"
   ]
  },
  {
   "cell_type": "code",
   "execution_count": 2,
   "metadata": {},
   "outputs": [
    {
     "name": "stdout",
     "output_type": "stream",
     "text": [
      "['Jane Eyre', 'Shirley', 'Agnes Grey', 'Üvöltő szelek', 'Wildfell asszonya', 'Villette', 'Henry Hastings kapitány']\n"
     ]
    }
   ],
   "source": [
    "# de a hozzáfűzést is elvégezhetem for ciklussal:\n",
    "konyv_lista = ['Jane Eyre', 'Shirley', 'Agnes Grey', 'Üvöltő szelek']\n",
    "uj_konyvek = ['Wildfell asszonya', 'Villette', 'Henry Hastings kapitány']\n",
    "\n",
    "for konyv in uj_konyvek:\n",
    "    konyv_lista.append(konyv)\n",
    "\n",
    "print(konyv_lista) # ez már a cikluson kívüli utasítás!"
   ]
  },
  {
   "cell_type": "code",
   "execution_count": 28,
   "metadata": {},
   "outputs": [
    {
     "name": "stdout",
     "output_type": "stream",
     "text": [
      "Jane Eyre\n",
      "Shirley\n",
      "Agnes Grey\n",
      "Üvöltő szelek\n",
      "Wildfell asszonya\n",
      "Villette\n",
      "Henry Hastings kapitány\n"
     ]
    }
   ],
   "source": [
    "# írjuk ki a neveket for ciklussal\n",
    "for konyv in konyv_lista:\n",
    "    print(konyv)"
   ]
  },
  {
   "cell_type": "code",
   "execution_count": 29,
   "metadata": {},
   "outputs": [
    {
     "name": "stdout",
     "output_type": "stream",
     "text": [
      "1. könyv: Jane Eyre\n",
      "2. könyv: Shirley\n",
      "3. könyv: Agnes Grey\n",
      "4. könyv: Üvöltő szelek\n",
      "5. könyv: Wildfell asszonya\n",
      "6. könyv: Villette\n",
      "7. könyv: Henry Hastings kapitány\n"
     ]
    }
   ],
   "source": [
    "# sorszámozzuk a kiírt könyvcímeket\n",
    "sorszam = 1\n",
    "for konyv in konyv_lista:\n",
    "    print(str(sorszam)+\". könyv:\" , konyv)\n",
    "#    sorszam = sorszam + 1\n",
    "    sorszam += 1"
   ]
  },
  {
   "cell_type": "markdown",
   "metadata": {},
   "source": [
    "### 1.példa folytatása\n",
    "Írjuk ki az alábbi könyvcímeket egymás alá a képernyőre sorszámozva.\n",
    " - a könyvcímek után tüntessük fel az egyes címek hosszát is zárójelben\n",
    " - mekkora a könyvcímek összhosszúsága?\n",
    " - mekkora a könyvcímek átlagos hossza?"
   ]
  },
  {
   "cell_type": "code",
   "execution_count": 22,
   "metadata": {},
   "outputs": [],
   "source": [
    "konyv_lista = ['Jane Eyre', \n",
    "               'Shirley', \n",
    "               'Agnes Grey', \n",
    "               'Üvöltő szelek', \n",
    "               'Wildfell asszonya', \n",
    "               'Villette', \n",
    "               'Henry Hastings kapitány'\n",
    "               ]"
   ]
  },
  {
   "cell_type": "code",
   "execution_count": 44,
   "metadata": {},
   "outputs": [
    {
     "name": "stdout",
     "output_type": "stream",
     "text": [
      "1. könyv: Jane Eyre \t(9 karakter)\n",
      "2. könyv: Shirley \t(7 karakter)\n",
      "3. könyv: Agnes Grey \t(10 karakter)\n",
      "4. könyv: Üvöltő szelek \t(13 karakter)\n",
      "5. könyv: Wildfell asszonya \t(17 karakter)\n",
      "6. könyv: Villette \t(8 karakter)\n",
      "7. könyv: Henry Hastings kapitány \t(23 karakter)\n",
      "\n",
      "A könyvcímek összhossza:  87 karakter\n",
      "\n",
      "A könyvcímek átlagos hossza:  12.43\n"
     ]
    }
   ],
   "source": [
    "sorszam = 1\n",
    "ossz_hossz = 0\n",
    "for konyv in konyv_lista:\n",
    "    hossz = len(konyv)\n",
    "    print(str(sorszam)+\". könyv:\" , konyv, f\"\\t({hossz} karakter)\")\n",
    "    sorszam += 1\n",
    "    ossz_hossz += hossz\n",
    "atlag = ossz_hossz/len(konyv_lista)\n",
    "print()\n",
    "print(\"A könyvcímek összhossza: \", ossz_hossz, \"karakter\")\n",
    "print()\n",
    "print(\"A könyvcímek átlagos hossza: \", f'{atlag:.2f}' )"
   ]
  },
  {
   "cell_type": "markdown",
   "metadata": {},
   "source": [
    "### 2.példa\n",
    "a) Írjuk ki a képernyőre az első 10 négyzetszámot!\n",
    "\n",
    "b) Gyűjtsük össze egy listába az első 10 négyzetszámot!"
   ]
  },
  {
   "cell_type": "code",
   "execution_count": 47,
   "metadata": {},
   "outputs": [
    {
     "data": {
      "text/plain": [
       "[0, 1, 2, 3, 4, 5, 6, 7, 8, 9]"
      ]
     },
     "execution_count": 47,
     "metadata": {},
     "output_type": "execute_result"
    }
   ],
   "source": [
    "# Értéktartomány (range) létrehozása.\n",
    "list(range(10))"
   ]
  },
  {
   "cell_type": "code",
   "execution_count": 49,
   "metadata": {},
   "outputs": [
    {
     "data": {
      "text/plain": [
       "[1, 3, 5, 7, 9]"
      ]
     },
     "execution_count": 49,
     "metadata": {},
     "output_type": "execute_result"
    }
   ],
   "source": [
    "# 3 paraméter: kezdő érték (1), minél kisebb (11), mekkora lépésközzel (2) \n",
    "list(range(1, 10 + 1, 2))"
   ]
  },
  {
   "cell_type": "code",
   "execution_count": 52,
   "metadata": {},
   "outputs": [
    {
     "name": "stdout",
     "output_type": "stream",
     "text": [
      "1\n",
      "4\n",
      "9\n",
      "16\n",
      "25\n",
      "36\n",
      "49\n",
      "64\n",
      "81\n",
      "100\n"
     ]
    }
   ],
   "source": [
    "n = 10\n",
    "for elem in range(1, n + 1):\n",
    "    print(elem**2)"
   ]
  },
  {
   "cell_type": "code",
   "execution_count": 53,
   "metadata": {},
   "outputs": [
    {
     "name": "stdout",
     "output_type": "stream",
     "text": [
      "[1, 4, 9, 16, 25, 36, 49, 64, 81, 100]\n"
     ]
    }
   ],
   "source": [
    "n = 10\n",
    "negyzetszamok = []   # üres lista\n",
    "for elem in range(1, n + 1):\n",
    "    negyzetszamok.append(elem**2)\n",
    "print(negyzetszamok)"
   ]
  },
  {
   "cell_type": "markdown",
   "metadata": {},
   "source": [
    "### 3.példa\n",
    "a) Írjuk ki a képernyőre n darab * karaktert!\n",
    "\n",
    "b) Készítsünk n-szer n-es háromszöget * karakterekből!\n",
    "```\n",
    "n = 4 \n",
    "*\n",
    "**\n",
    "***\n",
    "****\n",
    "````"
   ]
  },
  {
   "cell_type": "code",
   "execution_count": 3,
   "metadata": {},
   "outputs": [
    {
     "name": "stdout",
     "output_type": "stream",
     "text": [
      "***\n",
      "***\n"
     ]
    }
   ],
   "source": [
    "# Példa: n darab * karakter kiírása.\n",
    "n = 3\n",
    "# for ciklussal\n",
    "for elem in range(n):\n",
    "    print(\"*\",end=\"\")\n",
    "\n",
    "print()\n",
    "# beépített lehetőséggel egyszerűbb\n",
    "print(\"*\"*n)  "
   ]
  },
  {
   "cell_type": "code",
   "execution_count": 58,
   "metadata": {},
   "outputs": [
    {
     "name": "stdout",
     "output_type": "stream",
     "text": [
      "*\n",
      "**\n",
      "***\n",
      "****\n"
     ]
    }
   ],
   "source": [
    "# Példa: n-szer n-es háromszög * karakterekből.\n",
    "n = 4\n",
    "for elem in range(n):\n",
    "    print(\"*\" * (elem + 1))"
   ]
  },
  {
   "cell_type": "markdown",
   "metadata": {},
   "source": [
    "### 4.példa:\n",
    "a) Számoljuk meg a magánhangzókat egy angol kisbetűs szövegben!\n",
    "\n",
    "b) Készítsünk statisztikát a magánhangzókról! Azaz külön, külön legyen meg minden magánhangzóra a darabszáma."
   ]
  },
  {
   "cell_type": "markdown",
   "metadata": {},
   "source": [
    "**a) Stratégia:** Végigmegyünk a szöveg karakterein és ha találtunk egy magánhangzót azt följegyezzük egy gyűjtő változóba."
   ]
  },
  {
   "cell_type": "code",
   "execution_count": 63,
   "metadata": {},
   "outputs": [
    {
     "name": "stdout",
     "output_type": "stream",
     "text": [
      "A magángangzók száma:  12\n"
     ]
    }
   ],
   "source": [
    "# a) Magánhangzók megszámolása (angol kisbetűs szövegben).\n",
    "text = 'This is a short text for testing the algorithm.'\n",
    "vowels = {'a', 'e', 'i', 'o', 'u'}\n",
    "\n",
    "\n",
    "v_num = 0\n",
    "for ch in text:\n",
    "    if ch in vowels:\n",
    "        v_num = v_num + 1\n",
    "print(\"A magángangzók száma: \",v_num )"
   ]
  },
  {
   "cell_type": "markdown",
   "metadata": {},
   "source": [
    "**b) Stratégia 1.:** Végigmegyünk az egyes magánhangzókon külön külön. \n",
    "\n",
    "Mindegyik magánhangzónál megvizsgáljuk, hogy hányszor szerepel a szövegben.\n",
    "\n",
    "Az eredményt (magánhangzó --> darabszám) például szótárban eltároljuk."
   ]
  },
  {
   "cell_type": "code",
   "execution_count": 2,
   "metadata": {},
   "outputs": [
    {
     "name": "stdout",
     "output_type": "stream",
     "text": [
      "{'e': 3, 'o': 3, 'a': 2, 'i': 4}\n"
     ]
    }
   ],
   "source": [
    "# b) Magánhangzók statisztikája szótárral\n",
    "text = 'This is a short text for testing the algorithm.'\n",
    "vowels = {'a', 'e', 'i', 'o', 'u'}\n",
    "\n",
    "# teljesen üres szótár feltöltése \n",
    "d = dict()\n",
    "for v in vowels:\n",
    "    for ch in text:\n",
    "        if v == ch:\n",
    "            if v in d:\n",
    "                d[v] += 1\n",
    "            else:\n",
    "                d[v] = 1\n",
    "\n",
    "print(d)"
   ]
  },
  {
   "cell_type": "markdown",
   "metadata": {},
   "source": [
    "**b) Stratégia 2.:** Készítünk egy szótárat aminek a magánhangzók a kulcsai és minden értéket kezdetben 0-ra állítunk. \n",
    "\n",
    "A szövegen végighaladva minden betűnél megvizsgáljuk, hogy szerepel-e a szótárkulcsok között. Ha igen akkor eggyel növelem a megtalált magánhangzónál szereplő értéket."
   ]
  },
  {
   "cell_type": "code",
   "execution_count": 1,
   "metadata": {},
   "outputs": [
    {
     "name": "stdout",
     "output_type": "stream",
     "text": [
      "{'e': 0, 'u': 0, 'o': 0, 'a': 0, 'i': 0}\n",
      "{'e': 3, 'u': 0, 'o': 3, 'a': 2, 'i': 4}\n"
     ]
    }
   ],
   "source": [
    "# b) Magánhangzók statisztikája szótárral (angol kisbetűs szövegben).\n",
    "text = 'This is a short text for testing the algorithm.'\n",
    "vowels = {'a', 'e', 'i', 'o', 'u'}\n",
    "\n",
    "d = dict()\n",
    "\n",
    "# üres szótár inicializálása kulcsokal\n",
    "for ch in vowels:\n",
    "    d[ch] = 0\n",
    "print(d)\n",
    "\n",
    "# adatok feltöltése\n",
    "for ch in text:\n",
    "    if ch in d:\n",
    "        d[ch] += 1\n",
    "\n",
    "print(d)"
   ]
  },
  {
   "cell_type": "markdown",
   "metadata": {},
   "source": [
    "## if (ha) utasítás \n",
    " - [if utasítás a Python dokumentációban](https://docs.python.org/3/reference/compound_stmts.html#the-if-statement)\n",
    "\n",
    "- Szintaxis:\n",
    "```\n",
    "  if FELTÉTEL1:\n",
    "      UTASÍTÁS1\n",
    "  elif FELTÉTEL2:\n",
    "      UTASÍTÁS2\n",
    "  else:\n",
    "      UTASÍTÁS3\n",
    "```\n",
    "- Megjegyzések:\n",
    "  + Több elif ág is szerepelhet.\n",
    "  + Az elif ágak és az else ág is elhagyható.\n",
    "  + Ha az utasítás 1 soros, akkor írható az if-fel elif-fel ill. az else-zel azonos sorba."
   ]
  },
  {
   "cell_type": "markdown",
   "metadata": {},
   "source": [
    "### 1.Példa: Kérsz sört?"
   ]
  },
  {
   "cell_type": "code",
   "execution_count": null,
   "metadata": {},
   "outputs": [
    {
     "name": "stdout",
     "output_type": "stream",
     "text": [
      "15 éves vagy. Nem kaphatsz sört!\n"
     ]
    }
   ],
   "source": [
    "kor = 15\n",
    "if kor >= 18:\n",
    "    print(kor,\"éves vagy. Kaphatsz sört!\")\n",
    "else:\n",
    "    print(kor,\"éves vagy. Nem kaphatsz sört!\")"
   ]
  },
  {
   "cell_type": "markdown",
   "metadata": {},
   "source": [
    "### 2.példa: Mennyi 2*4?\n",
    "Az eredmény függvényében adjunk visszajelzést:\n",
    "- \"Ügyes vagy!\"\n",
    "- \"Gyakorold még a szorzótáblát!\""
   ]
  },
  {
   "cell_type": "code",
   "execution_count": null,
   "metadata": {},
   "outputs": [
    {
     "name": "stdout",
     "output_type": "stream",
     "text": [
      "Gyakorold még a szorzótáblát!\n"
     ]
    }
   ],
   "source": [
    "n = int (input (\"Mennyi 2*4? \"))\n",
    "\n",
    "if n == 8:\n",
    "    print(\"Ügyes vagy!\")\n",
    "else:\n",
    "    print(\"Gyakorold még a szorzótáblát!\")"
   ]
  },
  {
   "cell_type": "markdown",
   "metadata": {},
   "source": [
    "## for ciklus if utasításokkal kombinálva"
   ]
  },
  {
   "cell_type": "markdown",
   "metadata": {},
   "source": [
    "### 1.példa: Számlista elemeinek vizsgálata\n",
    "Az alábbi számlistában vizsgáljuk meg az elemeket:\n",
    "- írjuk ki az adott elemet, majd utána \n",
    "- írjuk ki ha negatív\n",
    "- írjuk ki ha egyjegyű \n",
    "- írjuk ki hogy páros, vagy páratlan"
   ]
  },
  {
   "cell_type": "code",
   "execution_count": 80,
   "metadata": {},
   "outputs": [
    {
     "name": "stdout",
     "output_type": "stream",
     "text": [
      "------------------------------------------\n",
      "Számlista elemeinek vizsgálata:\n",
      "------------------------------------------\n",
      "\n",
      "Vizsgált szám: 0;\t egyjegyű, páros,\n",
      "Vizsgált szám: 99;\t páratlan,\n",
      "Vizsgált szám: -7;\t negatív, páratlan,\n",
      "Vizsgált szám: 56;\t páros,\n",
      "Vizsgált szám: 23;\t páratlan,\n",
      "Vizsgált szám: 6;\t egyjegyű, páros,\n",
      "Vizsgált szám: 1;\t egyjegyű, páratlan,\n",
      "Vizsgált szám: -5;\t negatív, páratlan,\n",
      "Vizsgált szám: 9;\t egyjegyű, páratlan,\n"
     ]
    }
   ],
   "source": [
    "print(\"-\"*42+\"\\nSzámlista elemeinek vizsgálata:\\n\"+\"-\"*42)\n",
    "számlista=[0, 99, -7, 56, 23, 6, 1, -5, 9]\n",
    "\n",
    "for szám in számlista:\n",
    "    print(\"\\nVizsgált szám:\", szám, end=';\\t')\n",
    "    \n",
    "    if szám<0:\n",
    "        print(\" negatív\", end=',')\n",
    "    # nem kell else-ág, mert csak a negatívakra akarunk figyelmeztetni\n",
    "\n",
    "    if 0<=szám<10:  \n",
    "        print(\" egyjegyű\",end=',')\n",
    "\n",
    "    # egyenlőség vizsgálata: '==' jel. Olvasása: \"Egyenlő-e\"\n",
    "    if (szám % 2)==0:    # szám % 2 = szám-nak a 2-vel vett osztási maradéka\n",
    "        print(\" páros\",end=',')\n",
    "    else:\n",
    "        print(\" páratlan\",end=',')\n",
    "print()"
   ]
  },
  {
   "cell_type": "markdown",
   "metadata": {},
   "source": [
    "### 2.példa: összetett feltételek\n",
    "- Az alábbi számlistából válogassa ki a 2-vel és 3-mal is osztható számokat!\n",
    "- Melyik számok oszthatók 7-tel úgy, hogy a négyzetük 3-mal osztva 1 maradékot ad?"
   ]
  },
  {
   "cell_type": "code",
   "execution_count": 81,
   "metadata": {},
   "outputs": [],
   "source": [
    "számlista=[0, 99, -7, 56, 23, 6, 1, -5, 9]"
   ]
  },
  {
   "cell_type": "code",
   "execution_count": 83,
   "metadata": {},
   "outputs": [
    {
     "name": "stdout",
     "output_type": "stream",
     "text": [
      "\n",
      "2-vel és 3-mal is osztható számok listája.\n",
      "0, 6, \n",
      "Melyik számok oszthatók 7-tel úgy, hogy a négyzetük 3-mal osztva 1 maradékot ad?\n",
      "7, 14, 28, 35, 49, 56, 70, 77, 91, 98, "
     ]
    }
   ],
   "source": [
    "print(\"\\n2-vel és 3-mal is osztható számok listája.\")\n",
    "for szám in számlista:\n",
    "    if (szám%2==0) and (szám%3==0): # a szám 2-vel és 3-mal is osztható\n",
    "        print(szám, end=', ')\n",
    "\n",
    "print(\"\\nMelyik számok oszthatók 7-tel úgy, hogy a négyzetük 3-mal osztva 1 maradékot ad?\")\n",
    "for szám in range(100):  # nem fix lista, hanem 0-tól 99-ig megyünk\n",
    "    if (szám % 7==0) and (szám**2 % 3 == 1): # beljebb tördelve a for miatt\n",
    "        print(szám,end=', ')  # még beljebb tördelve az if miatt"
   ]
  },
  {
   "cell_type": "markdown",
   "metadata": {},
   "source": [
    "## while ciklus\n",
    "- lehet, hogy nem tudjuk előre a lépések számát...\n",
    "- [while utasítása Python dokumentációban](https://docs.python.org/3/reference/compound_stmts.html#the-while-statement)\n",
    "\n",
    "- Szintaxis:\n",
    "```\n",
    "  while FELTÉTEL:\n",
    "      UTASÍTÁS\n",
    "```"
   ]
  },
  {
   "cell_type": "markdown",
   "metadata": {},
   "source": [
    "+ Egy jól megírt program esetén **az utasítás a feltételt előbb-utóbb hamisra állítja**. (Ellenkező esetben, ha a feltétel igaz, akkor az is marad, így  végtelen ciklus keletkezik.)"
   ]
  },
  {
   "cell_type": "markdown",
   "metadata": {},
   "source": [
    "### 1.példa: Móricka a programozásvizsgán\n",
    "Móricka addig megy a programozás vizsgára amíg az nem sikerül neki. \n",
    "A ponthatár 16 pont. "
   ]
  },
  {
   "cell_type": "code",
   "execution_count": 1,
   "metadata": {},
   "outputs": [
    {
     "name": "stdout",
     "output_type": "stream",
     "text": [
      "Tanulj még!\n",
      "Gratulálok, átmentél.\n"
     ]
    }
   ],
   "source": [
    "# Példa: Móricka a programozásvizsgán.\n",
    "while int(input('Hány pontot értél el? ')) < 16:\n",
    "    print('Tanulj még!')\n",
    "\n",
    "print('Gratulálok, átmentél.')"
   ]
  },
  {
   "cell_type": "markdown",
   "metadata": {},
   "source": [
    "### 2.példa: Testmagasság bekérése amíg valós adatot nem kapunk\n",
    "- Kérjük be a felhasználótól a centiméterben megadott testmagasságot (h)\n",
    "- Vegyük figyelembe, hogy a valaha létező \n",
    "  - legalacsonyabb ember 54,6 cm,\n",
    "  - a legmagasabb ember pedig 272 cm-es volt!"
   ]
  },
  {
   "cell_type": "code",
   "execution_count": 2,
   "metadata": {},
   "outputs": [
    {
     "name": "stdout",
     "output_type": "stream",
     "text": [
      "Ez nem lehet!\n",
      "Az ön testmagassága 166.0 cm.\n"
     ]
    }
   ],
   "source": [
    "h = float ( input(\"Adja meg a testmagasságát cm-ben: \") )\n",
    "\n",
    "while (h < 54.6) or (h > 272):\n",
    "    print(\"Ez nem lehet!\")\n",
    "    h = float ( input(\"Adja meg a testmagasságát cm-ben: \") )\n",
    "    \n",
    "print(f\"Az ön testmagassága {h:0.1f} cm.\")"
   ]
  },
  {
   "cell_type": "markdown",
   "metadata": {},
   "source": [
    "### 3.példa\n",
    "Ki tudnánk írni az első 10 negyzetszámot while segítségével a képernyőre?"
   ]
  },
  {
   "cell_type": "code",
   "execution_count": 3,
   "metadata": {},
   "outputs": [
    {
     "name": "stdout",
     "output_type": "stream",
     "text": [
      "1\n",
      "4\n",
      "9\n",
      "16\n",
      "25\n",
      "36\n",
      "49\n",
      "64\n",
      "81\n",
      "100\n"
     ]
    }
   ],
   "source": [
    "i = 1\n",
    "while (i <= 10):\n",
    "    print(i**2)\n",
    "    i += 1"
   ]
  },
  {
   "cell_type": "markdown",
   "metadata": {},
   "source": [
    "### Hibalehetőségek:\n",
    "- Végtelen cilus: a feltétel mindig teljesül\n",
    "- El sem induló ciklus: a feltétel már az első lépésben elbukik"
   ]
  },
  {
   "cell_type": "code",
   "execution_count": 4,
   "metadata": {},
   "outputs": [],
   "source": [
    "# Végtelen ciklus ha mindig teljesül a feltétel.  \n",
    "# NE FUTASSA!\n",
    "\n",
    "# i = 1\n",
    "# while (i <= 10):\n",
    "#     print(i**2)"
   ]
  },
  {
   "cell_type": "code",
   "execution_count": 5,
   "metadata": {},
   "outputs": [
    {
     "name": "stdout",
     "output_type": "stream",
     "text": [
      "11\n",
      "Vége\n"
     ]
    }
   ],
   "source": [
    "# El sem induló ciklus\n",
    "i = 11\n",
    "print(i)\n",
    "while (i <= 10):\n",
    "    print(i**2)\n",
    "    i += 1\n",
    "print('Vége')"
   ]
  },
  {
   "cell_type": "markdown",
   "metadata": {},
   "source": [
    "## Ciklus futásának befolyásolása\n",
    "- ```break``` - azonnali kiugrás a ciklusból\n",
    "- ```continue``` - az adott \"ütem\" továbbléptetése"
   ]
  },
  {
   "cell_type": "markdown",
   "metadata": {},
   "source": [
    "### 1.példa: Móricka a programozásvizsgán (break verzió)"
   ]
  },
  {
   "cell_type": "code",
   "execution_count": 6,
   "metadata": {},
   "outputs": [
    {
     "name": "stdout",
     "output_type": "stream",
     "text": [
      "Tanulj még!\n",
      "Gratulálok, átmentél.\n"
     ]
    }
   ],
   "source": [
    "# break használatával\n",
    "while True:\n",
    "    pont = int(input('Hány pontot értél el? '))\n",
    "    if pont < 16:\n",
    "        print('Tanulj még!')\n",
    "    else:\n",
    "        print('Gratulálok, átmentél.')\n",
    "        break"
   ]
  },
  {
   "cell_type": "markdown",
   "metadata": {},
   "source": [
    "### 2.példa: Testmagasság bekérése (break verzió)"
   ]
  },
  {
   "cell_type": "code",
   "execution_count": 7,
   "metadata": {},
   "outputs": [
    {
     "name": "stdout",
     "output_type": "stream",
     "text": [
      "Az ön testmagassága 123.0 cm.\n"
     ]
    }
   ],
   "source": [
    "# break használatával\n",
    "while True: \n",
    "    h = float ( input(\"Adja meg a testmagasságát cm-ben: \") )\n",
    "    if (h < 54.6) or (h > 272):\n",
    "        print(\"Ez nem lehet!\")\n",
    "    else:\n",
    "        print(f\"Az ön testmagassága {h:0.1f} cm.\")\n",
    "        break"
   ]
  },
  {
   "cell_type": "markdown",
   "metadata": {},
   "source": [
    "### 3.Példa: Páros négyzetszámok kiíratása 100-ig"
   ]
  },
  {
   "cell_type": "code",
   "execution_count": 8,
   "metadata": {},
   "outputs": [
    {
     "name": "stdout",
     "output_type": "stream",
     "text": [
      "4\n",
      "16\n",
      "36\n",
      "64\n",
      "100\n"
     ]
    }
   ],
   "source": [
    "# range testreszabásával:\n",
    "N = 10\n",
    "for elem in range(2, N+1 ,2):\n",
    "    print(elem**2)"
   ]
  },
  {
   "cell_type": "code",
   "execution_count": 9,
   "metadata": {},
   "outputs": [
    {
     "name": "stdout",
     "output_type": "stream",
     "text": [
      "4\n",
      "16\n",
      "36\n",
      "64\n",
      "100\n"
     ]
    }
   ],
   "source": [
    "# if segítségével párosságot ellenőrizve\n",
    "N = 10\n",
    "for elem in range(1, N+1):\n",
    "    if elem%2 == 0:\n",
    "        print(elem**2)"
   ]
  },
  {
   "cell_type": "code",
   "execution_count": 10,
   "metadata": {},
   "outputs": [
    {
     "name": "stdout",
     "output_type": "stream",
     "text": [
      "4\n",
      "16\n",
      "36\n",
      "64\n",
      "100\n"
     ]
    }
   ],
   "source": [
    "# if segítségével páratlanságot ellenőrizve és ütemet átlépve\n",
    "N = 10\n",
    "for elem in range(1, N+1):\n",
    "    if elem%2 != 0:\n",
    "        continue    \n",
    "    print(elem**2)"
   ]
  },
  {
   "cell_type": "markdown",
   "metadata": {
    "id": "e3PN3uZ33LH0"
   },
   "source": [
    "## Gyakorlás: Egyszerű számkitalálós játék\n",
    "\n",
    "Készítsünk programot, amely sorsol egy egész számot 1-től 100-ig, majd tippeket kér a játékostól, amíg a játékos el nem találja a számot. A program minden tipp után írja ki, hogy a megadott tipp túl kicsi, túl nagy vagy helyes volt-e!"
   ]
  },
  {
   "cell_type": "code",
   "execution_count": 12,
   "metadata": {
    "colab": {
     "base_uri": "https://localhost:8080/"
    },
    "executionInfo": {
     "elapsed": 175330,
     "status": "ok",
     "timestamp": 1683037081650,
     "user": {
      "displayName": "Piroska Dömötör",
      "userId": "03696721308245428945"
     },
     "user_tz": -120
    },
    "id": "2vMdCYyv3LH1",
    "outputId": "571f04b3-d3cd-4140-b4e1-4ebe5f071c2b"
   },
   "outputs": [
    {
     "name": "stdout",
     "output_type": "stream",
     "text": [
      "Ez túl kicsi tipp.\n",
      "Ez túl kicsi tipp.\n",
      "Ez túl kicsi tipp.\n",
      "Ez túl kicsi tipp.\n",
      "Ez túl nagy tipp.\n",
      "Ez túl nagy tipp.\n",
      "Ez túl nagy tipp.\n",
      "Ez túl nagy tipp.\n",
      "Ez túl nagy tipp.\n",
      "Ez túl nagy tipp.\n",
      "Gratulálunk, eltalálta!\n"
     ]
    }
   ],
   "source": [
    "# Az (ál)véletlenszám-generáló modul importálása.\n",
    "import random\n",
    "\n",
    "# Véletlen egész szám kisorsolása 1 és 100 között. -- randint() függvény a random modulból\n",
    "n = random.randint(1,100)\n",
    "\n",
    "# Tippek kérése, amíg a játékos el nem találja a számot.\n",
    "\n",
    "tipp =-1\n",
    "while n != tipp:\n",
    "    # ----   tipp bekerese --------\n",
    "    tipp = int(input(\"Adja meg a tippet: \"))\n",
    "    #------------------------------------\n",
    "\n",
    "    if tipp > n: \n",
    "        print(\"Ez túl nagy tipp.\")\n",
    "    elif tipp < n:\n",
    "        print(\"Ez túl kicsi tipp.\")\n",
    "    else:\n",
    "        print(\"Gratulálunk, eltalálta!\")    \n"
   ]
  },
  {
   "cell_type": "code",
   "execution_count": null,
   "metadata": {
    "colab": {
     "base_uri": "https://localhost:8080/",
     "height": 36
    },
    "executionInfo": {
     "elapsed": 40,
     "status": "ok",
     "timestamp": 1683037081651,
     "user": {
      "displayName": "Piroska Dömötör",
      "userId": "03696721308245428945"
     },
     "user_tz": -120
    },
    "id": "pYnEn8-yyYZv",
    "outputId": "48268350-d4dd-422b-b409-88872f234741"
   },
   "outputs": [
    {
     "data": {
      "application/vnd.google.colaboratory.intrinsic+json": {
       "type": "string"
      },
      "text/plain": [
       "'Return random integer in range [a, b], including both end points.\\n        '"
      ]
     },
     "execution_count": 12,
     "metadata": {},
     "output_type": "execute_result"
    }
   ],
   "source": [
    "# randint függvény dokumentációs sztringje!\n",
    "random.randint.__doc__"
   ]
  },
  {
   "cell_type": "markdown",
   "metadata": {},
   "source": [
    "# Pythonos “ügyességek”\n",
    "Rendezés; Haladó indexelési technikák; Comprehension; Kicsomagolás, értékcsere és haladó\n",
    "iterációk"
   ]
  },
  {
   "cell_type": "markdown",
   "metadata": {},
   "source": [
    "## Még néhány hasznos lista eljárás:\n",
    "rendezés, minimum, maximum, összeg"
   ]
  },
  {
   "cell_type": "markdown",
   "metadata": {},
   "source": [
    "### Lista rendezése helyben"
   ]
  },
  {
   "cell_type": "code",
   "execution_count": 61,
   "metadata": {},
   "outputs": [
    {
     "name": "stdout",
     "output_type": "stream",
     "text": [
      "[2, 3, 10, 11]\n"
     ]
    }
   ],
   "source": [
    "# Lista rendezése helyben.\n",
    "l = [10, 2, 11, 3]\n",
    "l.sort()\n",
    "print(l) # az eredeti lista megváltozott!"
   ]
  },
  {
   "cell_type": "code",
   "execution_count": 62,
   "metadata": {},
   "outputs": [
    {
     "name": "stdout",
     "output_type": "stream",
     "text": [
      "[11, 10, 3, 2]\n"
     ]
    }
   ],
   "source": [
    "# Rendezés csökkenő sorrendbe - reverse paraméter\n",
    "l = [10, 2, 11, 3]\n",
    "l.sort(reverse = True)\n",
    "print(l)"
   ]
  },
  {
   "cell_type": "code",
   "execution_count": 63,
   "metadata": {},
   "outputs": [
    {
     "ename": "TypeError",
     "evalue": "'<' not supported between instances of 'str' and 'int'",
     "output_type": "error",
     "traceback": [
      "\u001b[0;31m---------------------------------------------------------------------------\u001b[0m",
      "\u001b[0;31mTypeError\u001b[0m                                 Traceback (most recent call last)",
      "\u001b[0;32m/tmp/ipykernel_175381/1268567011.py\u001b[0m in \u001b[0;36m<module>\u001b[0;34m\u001b[0m\n\u001b[1;32m      1\u001b[0m \u001b[0;31m# Fontos, hogy az elemek összehasonlíthatók legyenek!\u001b[0m\u001b[0;34m\u001b[0m\u001b[0;34m\u001b[0m\u001b[0m\n\u001b[1;32m      2\u001b[0m \u001b[0ml\u001b[0m \u001b[0;34m=\u001b[0m \u001b[0;34m[\u001b[0m\u001b[0;36m2\u001b[0m\u001b[0;34m,\u001b[0m \u001b[0;36m1\u001b[0m\u001b[0;34m,\u001b[0m \u001b[0;34m'alma'\u001b[0m\u001b[0;34m]\u001b[0m\u001b[0;34m\u001b[0m\u001b[0;34m\u001b[0m\u001b[0m\n\u001b[0;32m----> 3\u001b[0;31m \u001b[0ml\u001b[0m\u001b[0;34m.\u001b[0m\u001b[0msort\u001b[0m\u001b[0;34m(\u001b[0m\u001b[0;34m)\u001b[0m\u001b[0;34m\u001b[0m\u001b[0;34m\u001b[0m\u001b[0m\n\u001b[0m",
      "\u001b[0;31mTypeError\u001b[0m: '<' not supported between instances of 'str' and 'int'"
     ]
    }
   ],
   "source": [
    "# Fontos, hogy az elemek összehasonlíthatók legyenek!\n",
    "l = [2, 1, 'alma']\n",
    "l.sort()"
   ]
  },
  {
   "cell_type": "code",
   "execution_count": 64,
   "metadata": {},
   "outputs": [
    {
     "name": "stdout",
     "output_type": "stream",
     "text": [
      "['alma', 'körte', 'szilva']\n"
     ]
    }
   ],
   "source": [
    "# Ha csak sztringeket tartalmaz a lista, akkor lehet rendezni.\n",
    "l = ['alma', 'szilva', 'körte']\n",
    "l.sort()\n",
    "print(l)"
   ]
  },
  {
   "cell_type": "markdown",
   "metadata": {},
   "source": [
    "### Gyűjtemény rendezése listába."
   ]
  },
  {
   "cell_type": "code",
   "execution_count": 65,
   "metadata": {},
   "outputs": [
    {
     "data": {
      "text/plain": [
       "[4, 5, 10, 20]"
      ]
     },
     "execution_count": 65,
     "metadata": {},
     "output_type": "execute_result"
    }
   ],
   "source": [
    "# Kollekció rendezése listába.\n",
    "l1 = [10, 4, 20, 5]\n",
    "sorted(l1)"
   ]
  },
  {
   "cell_type": "code",
   "execution_count": 66,
   "metadata": {},
   "outputs": [
    {
     "data": {
      "text/plain": [
       "[4, 5, 10, 20]"
      ]
     },
     "execution_count": 66,
     "metadata": {},
     "output_type": "execute_result"
    }
   ],
   "source": [
    "# Tuple elemeit is rendezhetjük új listába.\n",
    "t1 = (10, 4, 20, 5)\n",
    "sorted(t1)"
   ]
  },
  {
   "cell_type": "code",
   "execution_count": 67,
   "metadata": {},
   "outputs": [
    {
     "data": {
      "text/plain": [
       "[3, 11, 42, 676]"
      ]
     },
     "execution_count": 67,
     "metadata": {},
     "output_type": "execute_result"
    }
   ],
   "source": [
    "# ...és halmaz elemeit is.\n",
    "sorted({3,676,11,42})"
   ]
  },
  {
   "cell_type": "code",
   "execution_count": 68,
   "metadata": {},
   "outputs": [
    {
     "data": {
      "text/plain": [
       "['alma', 'barack', 'mandula']"
      ]
     },
     "execution_count": 68,
     "metadata": {},
     "output_type": "execute_result"
    }
   ],
   "source": [
    "# Szótár esetén a sorted a kulcsokat rendezi.\n",
    "d1 = {\"barack\": 10, \"alma\": 3, \"mandula\" : 25 }\n",
    "sorted(d1)"
   ]
  },
  {
   "cell_type": "code",
   "execution_count": 69,
   "metadata": {},
   "outputs": [
    {
     "data": {
      "text/plain": [
       "[('bor', 5), ('bor', 20), ('pálinka', 30), ('sör', 10)]"
      ]
     },
     "execution_count": 69,
     "metadata": {},
     "output_type": "execute_result"
    }
   ],
   "source": [
    "# Párok listájának rendezése (lexikografikusan).\n",
    "l = [('sör', 10), ('bor', 20), ('pálinka', 30), ('bor', 5)]\n",
    "sorted(l)"
   ]
  },
  {
   "cell_type": "markdown",
   "metadata": {},
   "source": [
    "### minimum, maximum, összeg"
   ]
  },
  {
   "cell_type": "code",
   "execution_count": 70,
   "metadata": {},
   "outputs": [
    {
     "name": "stdout",
     "output_type": "stream",
     "text": [
      "maximum 20\n",
      "minimum 4\n",
      "összeg 39\n"
     ]
    }
   ],
   "source": [
    "l1 = [10, 4, 20, 5]\n",
    "print(\"maximum\", max(l1))\n",
    "print(\"minimum\", min(l1))\n",
    "print(\"összeg\", sum(l1))"
   ]
  },
  {
   "cell_type": "markdown",
   "metadata": {},
   "source": [
    "## Haladó indexelés (szeletelés/[slicing](https://docs.python.org/3/library/functions.html#slice))\n",
    "\n",
    "- A slice jelölésmód szintaxisa [alsó határ: felső határ: lépésköz].\n",
    "- A kiválasztás intervalluma felülről nyitott, azaz a felső határ adja meg az első olyan indexet, amelyet már éppen nem választunk ki."
   ]
  },
  {
   "cell_type": "code",
   "execution_count": 71,
   "metadata": {},
   "outputs": [],
   "source": [
    "# Példák haladó indexelésre.\n",
    "data = ['alma', 'banán', 10, 20, 30]"
   ]
  },
  {
   "cell_type": "code",
   "execution_count": 72,
   "metadata": {},
   "outputs": [
    {
     "name": "stdout",
     "output_type": "stream",
     "text": [
      "['alma', 'banán', 10]\n",
      "['alma', 'banán', 10]\n"
     ]
    }
   ],
   "source": [
    "# első 3 elem kiválasztása\n",
    "print(data [0:3])\n",
    "print(data [ :3])"
   ]
  },
  {
   "cell_type": "code",
   "execution_count": 73,
   "metadata": {},
   "outputs": [
    {
     "data": {
      "text/plain": [
       "['alma', 10, 30]"
      ]
     },
     "execution_count": 73,
     "metadata": {},
     "output_type": "execute_result"
    }
   ],
   "source": [
    "# Minden második elem elem kiválasztása:\n",
    "data [::2]"
   ]
  },
  {
   "cell_type": "code",
   "execution_count": 74,
   "metadata": {},
   "outputs": [
    {
     "data": {
      "text/plain": [
       "['alma', 'banán', 10, 20]"
      ]
     },
     "execution_count": 74,
     "metadata": {},
     "output_type": "execute_result"
    }
   ],
   "source": [
    "# Minden kivéve az utolsó elemet \n",
    "# Használhatunk negatív indexeket is\n",
    "data [:-1]"
   ]
  },
  {
   "cell_type": "code",
   "execution_count": 75,
   "metadata": {},
   "outputs": [
    {
     "data": {
      "text/plain": [
       "[10, 20, 30]"
      ]
     },
     "execution_count": 75,
     "metadata": {},
     "output_type": "execute_result"
    }
   ],
   "source": [
    "# utolsó 3 elem\n",
    "data[-3 : ]"
   ]
  },
  {
   "cell_type": "code",
   "execution_count": 76,
   "metadata": {},
   "outputs": [
    {
     "data": {
      "text/plain": [
       "[30, 20, 10, 'banán', 'alma']"
      ]
     },
     "execution_count": 76,
     "metadata": {},
     "output_type": "execute_result"
    }
   ],
   "source": [
    "# lista elemek fordított sorrendben\n",
    "data[::-1]"
   ]
  },
  {
   "cell_type": "markdown",
   "metadata": {},
   "source": [
    "Szövegre is működik a haladó indexelés!"
   ]
  },
  {
   "cell_type": "code",
   "execution_count": 77,
   "metadata": {},
   "outputs": [
    {
     "data": {
      "text/plain": [
       "'edcba'"
      ]
     },
     "execution_count": 77,
     "metadata": {},
     "output_type": "execute_result"
    }
   ],
   "source": [
    "text = \"abcde\"\n",
    "text[::-1]"
   ]
  },
  {
   "cell_type": "markdown",
   "metadata": {
    "id": "Iam7KFmqfkCX"
   },
   "source": [
    "## Comprehension\n",
    "\n",
    "- A comprehension gyűjtemények tömör megadását teszi lehetővé. \n",
    "- [Comprehension a Python dokumentációban](https://python-3-patterns-idioms-test.readthedocs.io/en/latest/Comprehensions.html)\n",
    "- Hasonlít a matematikában alkalmazott, tulajdonság alapján történő halmazmegadásra (példa: a páratlan számok halmaza megadható $\\{2k + 1\\ |\\ k \\in \\mathbb{Z}\\}$ módon)."
   ]
  },
  {
   "cell_type": "markdown",
   "metadata": {
    "id": "4qmNKrNffkCc"
   },
   "source": [
    "### Feltétel nélküli comprehension"
   ]
  },
  {
   "cell_type": "code",
   "execution_count": 78,
   "metadata": {
    "colab": {
     "base_uri": "https://localhost:8080/"
    },
    "executionInfo": {
     "elapsed": 13,
     "status": "ok",
     "timestamp": 1683039165493,
     "user": {
      "displayName": "Piroska Dömötör",
      "userId": "03696721308245428945"
     },
     "user_tz": -120
    },
    "id": "CmyojKG0fkCd",
    "outputId": "3b1adff4-c1aa-4bca-9b63-975754a5c545"
   },
   "outputs": [
    {
     "name": "stdout",
     "output_type": "stream",
     "text": [
      "[1, 4, 9, 16, 25, 36, 49, 64, 81, 100]\n"
     ]
    }
   ],
   "source": [
    "# Állítsuk elő az első 10 négyzetszám listáját gyűjtőváltozó használatával!\n",
    "N = 10\n",
    "l = []\n",
    "for elem in range(1, N+1):\n",
    "    l.append(elem**2)\n",
    "print(l)"
   ]
  },
  {
   "cell_type": "code",
   "execution_count": 79,
   "metadata": {
    "colab": {
     "base_uri": "https://localhost:8080/"
    },
    "executionInfo": {
     "elapsed": 734,
     "status": "ok",
     "timestamp": 1683039258862,
     "user": {
      "displayName": "Piroska Dömötör",
      "userId": "03696721308245428945"
     },
     "user_tz": -120
    },
    "id": "_sImQ6IPfkCe",
    "outputId": "e1712a58-c27f-4a2f-8d1e-752e123bca51"
   },
   "outputs": [
    {
     "name": "stdout",
     "output_type": "stream",
     "text": [
      "[1, 4, 9, 16, 25, 36, 49, 64, 81, 100]\n"
     ]
    }
   ],
   "source": [
    "# Ugyanez tömörebben, lista comprehension-nel is megoldható\n",
    "N = 10\n",
    "l = [ elem**2 for elem in range(1, N + 1) ]\n",
    "print(l)"
   ]
  },
  {
   "cell_type": "code",
   "execution_count": 80,
   "metadata": {
    "colab": {
     "base_uri": "https://localhost:8080/"
    },
    "executionInfo": {
     "elapsed": 408,
     "status": "ok",
     "timestamp": 1683039305766,
     "user": {
      "displayName": "Piroska Dömötör",
      "userId": "03696721308245428945"
     },
     "user_tz": -120
    },
    "id": "-ywxvnVhfkCe",
    "outputId": "62d715d8-6352-4681-a303-9e492131eb58"
   },
   "outputs": [
    {
     "name": "stdout",
     "output_type": "stream",
     "text": [
      "{64, 1, 4, 36, 100, 9, 16, 49, 81, 25}\n"
     ]
    }
   ],
   "source": [
    "# Állítsuk elő az első 10 négyzetszám halmazát!\n",
    "N = 10\n",
    "h_nsz = { elem**2 for elem in range(1, N + 1) }\n",
    "print(h_nsz)"
   ]
  },
  {
   "cell_type": "markdown",
   "metadata": {},
   "source": [
    "De lehet könnyen szótárat is készíteni.\n",
    "\n",
    "**Példa:** Párosítsuk össze a számokat a négyzetükkel szótárat használva "
   ]
  },
  {
   "cell_type": "code",
   "execution_count": 81,
   "metadata": {
    "colab": {
     "base_uri": "https://localhost:8080/"
    },
    "executionInfo": {
     "elapsed": 276,
     "status": "ok",
     "timestamp": 1683039409543,
     "user": {
      "displayName": "Piroska Dömötör",
      "userId": "03696721308245428945"
     },
     "user_tz": -120
    },
    "id": "zO20zAP-9wmK",
    "outputId": "770d080f-f37e-4889-9f06-8020416eff5d"
   },
   "outputs": [
    {
     "data": {
      "text/plain": [
       "{1: 1, 2: 4, 3: 9, 4: 16, 5: 25, 6: 36, 7: 49, 8: 64, 9: 81, 10: 100}"
      ]
     },
     "execution_count": 81,
     "metadata": {},
     "output_type": "execute_result"
    }
   ],
   "source": [
    "# szótár készítése comprehensönnel\n",
    "N = 10\n",
    "{ elem: elem**2 for elem in range(1, N+1)   }"
   ]
  },
  {
   "cell_type": "markdown",
   "metadata": {},
   "source": [
    "**Feladat**: Állítsunk elő egy szótárat, amely az angol kisbetűs magánhangzókhoz hozzárendeli az ASCII-kódjukat!\n",
    "\n",
    "Segítség: a kód előállításához használjuk az ```ord()``` függvényt!"
   ]
  },
  {
   "cell_type": "code",
   "execution_count": 82,
   "metadata": {
    "colab": {
     "base_uri": "https://localhost:8080/"
    },
    "executionInfo": {
     "elapsed": 378,
     "status": "ok",
     "timestamp": 1683039531216,
     "user": {
      "displayName": "Piroska Dömötör",
      "userId": "03696721308245428945"
     },
     "user_tz": -120
    },
    "id": "RcaAo8hcfkCf",
    "outputId": "7add695e-3afd-490d-ed9e-f889c3f592c4"
   },
   "outputs": [
    {
     "name": "stdout",
     "output_type": "stream",
     "text": [
      "{'a': 97, 'e': 101, 'i': 105, 'o': 111, 'u': 117}\n"
     ]
    }
   ],
   "source": [
    "# Használjunk először gyűjtőváltozót!\n",
    "vowels = \"aeiou\"\n",
    "d = {}\n",
    "\n",
    "for v in vowels:\n",
    "    d[v] = ord(v)\n",
    "\n",
    "print(d)"
   ]
  },
  {
   "cell_type": "code",
   "execution_count": 83,
   "metadata": {
    "colab": {
     "base_uri": "https://localhost:8080/"
    },
    "executionInfo": {
     "elapsed": 280,
     "status": "ok",
     "timestamp": 1683039587410,
     "user": {
      "displayName": "Piroska Dömötör",
      "userId": "03696721308245428945"
     },
     "user_tz": -120
    },
    "id": "e3Kdc4C3fkCf",
    "outputId": "f6b628d9-bed2-4350-b9d8-8a241eec0c52"
   },
   "outputs": [
    {
     "data": {
      "text/plain": [
       "{'a': 97, 'e': 101, 'i': 105, 'o': 111, 'u': 117}"
      ]
     },
     "execution_count": 83,
     "metadata": {},
     "output_type": "execute_result"
    }
   ],
   "source": [
    "# Ugyanez tömörebben, szótár comprehension-nel:\n",
    "vowels = \"aeiou\"\n",
    "{ v: ord(v)     for v in vowels }"
   ]
  },
  {
   "cell_type": "markdown",
   "metadata": {},
   "source": [
    "**Feladat**: Párok tagjainak megcserélése egy listában."
   ]
  },
  {
   "cell_type": "code",
   "execution_count": 84,
   "metadata": {
    "colab": {
     "base_uri": "https://localhost:8080/"
    },
    "executionInfo": {
     "elapsed": 1239,
     "status": "ok",
     "timestamp": 1683039707988,
     "user": {
      "displayName": "Piroska Dömötör",
      "userId": "03696721308245428945"
     },
     "user_tz": -120
    },
    "id": "64usJJsWfkCf",
    "outputId": "964a1c0f-8be1-45c3-97e9-180b8b1de6de"
   },
   "outputs": [
    {
     "data": {
      "text/plain": [
       "[(10, 'alma'), (20, 'körte'), (30, 'barack')]"
      ]
     },
     "execution_count": 84,
     "metadata": {},
     "output_type": "execute_result"
    }
   ],
   "source": [
    "# cseréljük meg a párok tagjait!\n",
    "pairs = [('alma', 10), ('körte', 20), ('barack', 30)]\n",
    "\n",
    "[ (p[1], p[0] ) for p in pairs]"
   ]
  },
  {
   "cell_type": "markdown",
   "metadata": {
    "id": "PiE_khm0fkCg"
   },
   "source": [
    "### Feltételes comprehension"
   ]
  },
  {
   "cell_type": "code",
   "execution_count": 85,
   "metadata": {
    "colab": {
     "base_uri": "https://localhost:8080/"
    },
    "executionInfo": {
     "elapsed": 316,
     "status": "ok",
     "timestamp": 1683039828202,
     "user": {
      "displayName": "Piroska Dömötör",
      "userId": "03696721308245428945"
     },
     "user_tz": -120
    },
    "id": "iOoNbeKcfkCg",
    "outputId": "8f4206bc-793f-4289-dae8-f908747161ed"
   },
   "outputs": [
    {
     "name": "stdout",
     "output_type": "stream",
     "text": [
      "[4, 16, 36, 64, 100]\n"
     ]
    }
   ],
   "source": [
    "# Páros négyzetszámok gyűjtőváltozó használatával\n",
    "N = 10\n",
    "l = []\n",
    "for elem in range(1, N + 1):\n",
    "    if elem % 2 == 0:\n",
    "        l.append(elem**2)\n",
    "print(l)"
   ]
  },
  {
   "cell_type": "code",
   "execution_count": 86,
   "metadata": {
    "colab": {
     "base_uri": "https://localhost:8080/"
    },
    "executionInfo": {
     "elapsed": 460,
     "status": "ok",
     "timestamp": 1683039877091,
     "user": {
      "displayName": "Piroska Dömötör",
      "userId": "03696721308245428945"
     },
     "user_tz": -120
    },
    "id": "TyaLe4m2_eR2",
    "outputId": "428a4e03-a3a6-4fbd-fa90-48ea40dbde08"
   },
   "outputs": [
    {
     "name": "stdout",
     "output_type": "stream",
     "text": [
      "[4, 16, 36, 64, 100]\n"
     ]
    }
   ],
   "source": [
    "# Páros négyzetszámok comprehension:\n",
    "N = 10\n",
    "l = [ elem**2 for elem in range(1, N +1) if elem%2 == 0 ]\n",
    "print(l)"
   ]
  },
  {
   "cell_type": "code",
   "execution_count": 87,
   "metadata": {
    "colab": {
     "base_uri": "https://localhost:8080/"
    },
    "executionInfo": {
     "elapsed": 859,
     "status": "ok",
     "timestamp": 1683039960121,
     "user": {
      "displayName": "Piroska Dömötör",
      "userId": "03696721308245428945"
     },
     "user_tz": -120
    },
    "id": "ZVHPTms1fkCg",
    "outputId": "cc31f7cd-5daf-42a5-8a62-c8aedc6ffb69"
   },
   "outputs": [
    {
     "data": {
      "text/plain": [
       "{'a': 97, 'e': 101, 'i': 105, 'o': 111}"
      ]
     },
     "execution_count": 87,
     "metadata": {},
     "output_type": "execute_result"
    }
   ],
   "source": [
    "# Feltételes szótár comprehension. \n",
    "# Az angol kisbetűs magánhangzókhoz hozzárendeli az ASCII-kódjukat \"u\" kivételével\n",
    "{ v: ord(v)     for v in vowels   if v != \"u\" }"
   ]
  },
  {
   "cell_type": "markdown",
   "metadata": {},
   "source": [
    "**Feladat:** Magánhangzók megszámolása (angol kisbetűs szövegben Comprehensionnel"
   ]
  },
  {
   "cell_type": "code",
   "execution_count": 88,
   "metadata": {
    "id": "ZYlag4QbfkCh"
   },
   "outputs": [
    {
     "data": {
      "text/plain": [
       "12"
      ]
     },
     "execution_count": 88,
     "metadata": {},
     "output_type": "execute_result"
    }
   ],
   "source": [
    "text = 'This is a short text for testing the algorithm.'\n",
    "vowels = 'aeiou'\n",
    "\n",
    "sum(1 for elem in text if elem in vowels)"
   ]
  },
  {
   "cell_type": "code",
   "execution_count": 90,
   "metadata": {},
   "outputs": [
    {
     "data": {
      "text/plain": [
       "12"
      ]
     },
     "execution_count": 90,
     "metadata": {},
     "output_type": "execute_result"
    }
   ],
   "source": [
    "# másik megoldás count() eljárással\n",
    "sum(text.count(mgh) for mgh in vowels)"
   ]
  },
  {
   "cell_type": "markdown",
   "metadata": {},
   "source": [
    "**Feladat:** Magánhangzók statisztikája (angol kisbetűs szövegben Comprehensionnel"
   ]
  },
  {
   "cell_type": "code",
   "execution_count": 91,
   "metadata": {
    "id": "7p_OBZLjfkCh"
   },
   "outputs": [
    {
     "data": {
      "text/plain": [
       "{'a': 2, 'e': 3, 'i': 4, 'o': 3, 'u': 0}"
      ]
     },
     "execution_count": 91,
     "metadata": {},
     "output_type": "execute_result"
    }
   ],
   "source": [
    "text = 'This is a short text for testing the algorithm.'\n",
    "vowels = 'aeiou'\n",
    "\n",
    "{ mgh: text.count(mgh) for mgh in vowels}"
   ]
  },
  {
   "cell_type": "markdown",
   "metadata": {},
   "source": [
    "## Kicsomagolás ([unpacking](https://treyhunner.com/2018/03/tuple-unpacking-improves-python-code-readability/))\n",
    "- többszörös értékadás\n",
    "- értékcsere\n",
    "- for ciklusban is alkalmazható"
   ]
  },
  {
   "cell_type": "code",
   "execution_count": 93,
   "metadata": {},
   "outputs": [
    {
     "name": "stdout",
     "output_type": "stream",
     "text": [
      "alma\n",
      "2\n",
      "[30, 40]\n"
     ]
    }
   ],
   "source": [
    "# Általános eset: 'alma' ; 2  és [30,40] listához hozzáférés? \n",
    "[x,(y,z)] =   ['alma', (2, [30, 40])]\n",
    "print(x)\n",
    "print(y)\n",
    "print(z)"
   ]
  },
  {
   "cell_type": "code",
   "execution_count": 94,
   "metadata": {},
   "outputs": [
    {
     "ename": "ValueError",
     "evalue": "not enough values to unpack (expected 3, got 2)",
     "output_type": "error",
     "traceback": [
      "\u001b[0;31m---------------------------------------------------------------------------\u001b[0m",
      "\u001b[0;31mValueError\u001b[0m                                Traceback (most recent call last)",
      "\u001b[0;32m/tmp/ipykernel_175381/3325170505.py\u001b[0m in \u001b[0;36m<module>\u001b[0;34m\u001b[0m\n\u001b[1;32m      1\u001b[0m \u001b[0;31m# Ha a bal és jobb oldal nem illeszthető egymásra, hibát kapunk.\u001b[0m\u001b[0;34m\u001b[0m\u001b[0;34m\u001b[0m\u001b[0m\n\u001b[0;32m----> 2\u001b[0;31m \u001b[0mx\u001b[0m\u001b[0;34m,\u001b[0m \u001b[0my\u001b[0m\u001b[0;34m,\u001b[0m \u001b[0mz\u001b[0m \u001b[0;34m=\u001b[0m \u001b[0;36m1\u001b[0m\u001b[0;34m,\u001b[0m \u001b[0;36m2\u001b[0m\u001b[0;34m\u001b[0m\u001b[0;34m\u001b[0m\u001b[0m\n\u001b[0m",
      "\u001b[0;31mValueError\u001b[0m: not enough values to unpack (expected 3, got 2)"
     ]
    }
   ],
   "source": [
    "# Ha a bal és jobb oldal nem illeszthető egymásra, hibát kapunk.\n",
    "x, y, z = 1, 2"
   ]
  },
  {
   "cell_type": "code",
   "execution_count": 95,
   "metadata": {},
   "outputs": [
    {
     "name": "stdout",
     "output_type": "stream",
     "text": [
      "x = 1  és y = 2\n"
     ]
    }
   ],
   "source": [
    "# Többszörös értékadásra is jó\n",
    "x, y = 1, 2\n",
    "print(f\"x = {x}  és y = {y}\")"
   ]
  },
  {
   "cell_type": "markdown",
   "metadata": {},
   "source": [
    "**Fontos alkalmazás:** Értéket cserélni is lehet így változók közt!"
   ]
  },
  {
   "cell_type": "code",
   "execution_count": 97,
   "metadata": {},
   "outputs": [
    {
     "name": "stdout",
     "output_type": "stream",
     "text": [
      "x = 1  és y = 2\n",
      "x = 2  és y = 1\n"
     ]
    }
   ],
   "source": [
    "x, y = 1, 2      # értékadás\n",
    "print(f\"x = {x}  és y = {y}\")  # szép kiíratás\n",
    "\n",
    "x, y = y, x      # értékcsere\n",
    "print(f\"x = {x}  és y = {y}\")"
   ]
  },
  {
   "cell_type": "code",
   "execution_count": null,
   "metadata": {},
   "outputs": [
    {
     "name": "stdout",
     "output_type": "stream",
     "text": [
      "sör\n",
      "bor\n",
      "rum\n"
     ]
    }
   ],
   "source": [
    "# Kicsomagolás alkalmazható for ciklusnál is\n",
    "pairs = [('sör', 10), ('bor', 20), ('rum', 30)]\n",
    "\n",
    "for x,y in pairs:\n",
    "    print(x)"
   ]
  },
  {
   "cell_type": "code",
   "execution_count": null,
   "metadata": {},
   "outputs": [
    {
     "data": {
      "text/plain": [
       "['sör', 'bor', 'rum']"
      ]
     },
     "metadata": {},
     "output_type": "display_data"
    }
   ],
   "source": [
    "# gyűjtsük listába az előző párok listájából a sztringeket\n",
    "[ x  for x, y in pairs]"
   ]
  },
  {
   "cell_type": "markdown",
   "metadata": {},
   "source": [
    "## Haladó iterálási technikák"
   ]
  },
  {
   "cell_type": "markdown",
   "metadata": {},
   "source": [
    "### enumerate\n",
    "- [enumerate a dokumentációban](https://docs.python.org/3/library/functions.html#enumerate)\n",
    "- Alkalmazás: Sorindex nyilvántartása szövegfájl feldolgozásnál."
   ]
  },
  {
   "cell_type": "code",
   "execution_count": null,
   "metadata": {},
   "outputs": [
    {
     "name": "stdout",
     "output_type": "stream",
     "text": [
      "0 alma\n",
      "1 körte\n",
      "2 szilva\n"
     ]
    }
   ],
   "source": [
    "# Iterálás az elemeken és indexeken egyszerre, hagyományos megoldás.\n",
    "x = ['alma', 'körte', 'szilva']\n",
    "\n",
    "for elem in range(len(x)):\n",
    "    print(elem , x[elem])"
   ]
  },
  {
   "cell_type": "code",
   "execution_count": null,
   "metadata": {},
   "outputs": [
    {
     "name": "stdout",
     "output_type": "stream",
     "text": [
      "0 alma\n",
      "1 körte\n",
      "2 szilva\n"
     ]
    }
   ],
   "source": [
    "# Ugyanez elegánsabban, enumerate-tel:\n",
    "x = ['alma', 'körte', 'szilva']\n",
    "for i, xi in enumerate(x):\n",
    "    print(i,xi)"
   ]
  },
  {
   "cell_type": "code",
   "execution_count": null,
   "metadata": {},
   "outputs": [
    {
     "data": {
      "text/plain": [
       "[(0, 'alma'), (1, 'körte'), (2, 'szilva')]"
      ]
     },
     "metadata": {},
     "output_type": "display_data"
    }
   ],
   "source": [
    "# Az enumerate eredménye egy iterálható objektum\n",
    "# átalakítható párok listájává\n",
    "list(enumerate(x))"
   ]
  },
  {
   "cell_type": "code",
   "execution_count": null,
   "metadata": {},
   "outputs": [
    {
     "name": "stdout",
     "output_type": "stream",
     "text": [
      "0 alma\n",
      "1 körte\n",
      "2 szilva\n"
     ]
    }
   ],
   "source": [
    "# Az enumerate kicsomagolás nélkül is használható.\n",
    "for elem in enumerate(x):\n",
    "    print(elem[0], elem[1])"
   ]
  },
  {
   "cell_type": "markdown",
   "metadata": {},
   "source": [
    "### zip\n",
    "- [zip a dokumentációban](https://docs.python.org/3/library/functions.html#zip)\n",
    "- könnyű adatpárokat készíteni"
   ]
  },
  {
   "cell_type": "code",
   "execution_count": 54,
   "metadata": {},
   "outputs": [
    {
     "name": "stdout",
     "output_type": "stream",
     "text": [
      "sör 10\n",
      "bor 20\n",
      "pálinka 30\n"
     ]
    }
   ],
   "source": [
    "# Iterálás több szekvencián egyszerre, hagyományos megoldás.\n",
    "x = ['sör', 'bor', 'pálinka']\n",
    "y = [10, 20, 30]\n",
    "\n",
    "for i in range(len(x)):\n",
    "    print(x[i], y[i])"
   ]
  },
  {
   "cell_type": "code",
   "execution_count": 60,
   "metadata": {},
   "outputs": [
    {
     "name": "stdout",
     "output_type": "stream",
     "text": [
      "sör 10\n",
      "bor 20\n",
      "pálinka 30\n"
     ]
    }
   ],
   "source": [
    "# Ugyanez elegánsabban, zip-pel:\n",
    "x = ['sör', 'bor', 'pálinka']\n",
    "y = [10, 20, 30]\n",
    "\n",
    "for elem in zip(x,y):\n",
    "    print(elem[0], elem[1])"
   ]
  },
  {
   "cell_type": "code",
   "execution_count": 56,
   "metadata": {},
   "outputs": [
    {
     "data": {
      "text/plain": [
       "[('sör', 10), ('bor', 20), ('pálinka', 30)]"
      ]
     },
     "execution_count": 56,
     "metadata": {},
     "output_type": "execute_result"
    }
   ],
   "source": [
    "# A zip eredménye egy iterálható objektum.\n",
    "# Ami átalakítható listává.\n",
    "list(zip(x,y))"
   ]
  },
  {
   "cell_type": "code",
   "execution_count": 58,
   "metadata": {},
   "outputs": [
    {
     "data": {
      "text/plain": [
       "[(10, 'a'), (20, 'b')]"
      ]
     },
     "execution_count": 58,
     "metadata": {},
     "output_type": "execute_result"
    }
   ],
   "source": [
    "# Ha szekvenciák hossza nem azonos, akkor az eredmény a rövidebb hosszát veszi fel.\n",
    "x = [10, 20]\n",
    "y = ['a', 'b', 'c']\n",
    "list(zip(x,y))"
   ]
  },
  {
   "cell_type": "code",
   "execution_count": 59,
   "metadata": {},
   "outputs": [
    {
     "data": {
      "text/plain": [
       "[('alma', 10, 'X'), ('körte', 20, 'Y'), ('barack', 30, 'Z')]"
      ]
     },
     "execution_count": 59,
     "metadata": {},
     "output_type": "execute_result"
    }
   ],
   "source": [
    "# A zip kettőnél több szekvenciára is alkalmazható.\n",
    "x = ['alma', 'körte', 'barack']\n",
    "y = [10, 20, 30]\n",
    "z = ['X', 'Y', 'Z']\n",
    "list(zip(x,y,z))"
   ]
  },
  {
   "cell_type": "markdown",
   "metadata": {},
   "source": [
    "# Fájlkezelés és ismerkedés a függvényekkel"
   ]
  },
  {
   "cell_type": "markdown",
   "metadata": {
    "id": "4M7w06YpfkCj"
   },
   "source": [
    "## Fájlkezelés\n",
    "- [Fájlkezelés a dokumentációban](https://docs.python.org/3/tutorial/inputoutput.html#reading-and-writing-files)\n",
    "- A fájl valamilyen adathordozón tárolt, logikailag összefüggő adatok összessége.\n",
    "- Egy fájl életciklusa a következő lépésekből áll:\n",
    "  1. megnyitás\n",
    "  2. olvasás, írás, pozícionálás, ...\n",
    "  3. bezárás"
   ]
  },
  {
   "cell_type": "markdown",
   "metadata": {},
   "source": [
    "### Fájl írása  ```.write()```"
   ]
  },
  {
   "cell_type": "markdown",
   "metadata": {},
   "source": [
    "A megnyitás lehetséges módjai:\n",
    "- ```\"r\"```: olvasásra (read) - Csak meglévő fált tud megnyitni\n",
    "- ```\"w\"```: írásra (write) - Létrehozza az új üres fájt. (Ha létezett, ha nem)\n",
    "- ```\"a\"```: hozzáfűzésre (append)  - A meglévő fájlt megnyitja és a fájl végére áll."
   ]
  },
  {
   "cell_type": "code",
   "execution_count": 18,
   "metadata": {
    "id": "2qCK7zkEfkCk"
   },
   "outputs": [],
   "source": [
    "#1 Fájl megnyitása (írásra) - létre is hozza a fájlt!\n",
    "f = open('valami.txt',\"w\")\n",
    "#2 Sztring fájlba írása\n",
    "f.write(\"1 alma\\n\")\n",
    "#3 Fájl bezárása.\n",
    "f.close()"
   ]
  },
  {
   "cell_type": "code",
   "execution_count": 19,
   "metadata": {
    "id": "gv3oapLVfkCk"
   },
   "outputs": [],
   "source": [
    "# with használatával     - Vigyázat!! felül írtam az előzőt\n",
    "with open('valami.txt', 'w') as f:     \n",
    "    f.write(\"2 körte\\n\")"
   ]
  },
  {
   "cell_type": "code",
   "execution_count": 20,
   "metadata": {},
   "outputs": [
    {
     "data": {
      "text/plain": [
       "9"
      ]
     },
     "execution_count": 20,
     "metadata": {},
     "output_type": "execute_result"
    }
   ],
   "source": [
    "# röviden               - Most hozzáfűzünk az előzőhöz!\n",
    "open('valami.txt', 'a').write(\"3 barack\\n\")"
   ]
  },
  {
   "cell_type": "markdown",
   "metadata": {},
   "source": [
    "**Példa**: készítsünk egy \"gyumolcs.txt\" nevű fájlt, amely az alábbi gyümölcsök neveit tartalmazza sorszámmal ellátva. Az első sorban szerepeljen egy fejléc a megadott sztringgel."
   ]
  },
  {
   "cell_type": "code",
   "execution_count": 57,
   "metadata": {},
   "outputs": [],
   "source": [
    "nevek = [\"alma\", \"körte\", \"szilva\"]\n",
    "fejlec = \"index\\tname\\n\""
   ]
  },
  {
   "cell_type": "code",
   "execution_count": 58,
   "metadata": {},
   "outputs": [],
   "source": [
    "with open('gyumolcs.txt', 'w') as f:\n",
    "    f.write(fejlec)     \n",
    "    for num, gy in enumerate(nevek):\n",
    "        f.write(f\"{num}\\t{gy}\\n\")"
   ]
  },
  {
   "cell_type": "markdown",
   "metadata": {},
   "source": [
    "### Fájl olvasása ```.read()``` "
   ]
  },
  {
   "cell_type": "code",
   "execution_count": 59,
   "metadata": {
    "colab": {
     "base_uri": "https://localhost:8080/",
     "height": 36
    },
    "executionInfo": {
     "elapsed": 316,
     "status": "ok",
     "timestamp": 1683041226589,
     "user": {
      "displayName": "Piroska Dömötör",
      "userId": "03696721308245428945"
     },
     "user_tz": -120
    },
    "id": "lQTROAmRfkCk",
    "outputId": "801c7c49-3ae6-45ac-80f4-4ade2af34453"
   },
   "outputs": [],
   "source": [
    "# Fájl tartalmának beolvasása sztringbe.\n",
    "f = open('gyumolcs.txt',\"r\")\n",
    "s = f.read()\n",
    "f.close()"
   ]
  },
  {
   "cell_type": "code",
   "execution_count": 60,
   "metadata": {
    "colab": {
     "base_uri": "https://localhost:8080/"
    },
    "executionInfo": {
     "elapsed": 410,
     "status": "ok",
     "timestamp": 1683041250957,
     "user": {
      "displayName": "Piroska Dömötör",
      "userId": "03696721308245428945"
     },
     "user_tz": -120
    },
    "id": "07tPnXHCE1wC",
    "outputId": "685c5949-3369-4892-aeab-5fec40cda23f"
   },
   "outputs": [
    {
     "name": "stdout",
     "output_type": "stream",
     "text": [
      "index\tname 0\talma\n",
      "1\tkörte\n",
      "2\tszilva\n",
      "\n"
     ]
    }
   ],
   "source": [
    "print(s)"
   ]
  },
  {
   "cell_type": "code",
   "execution_count": 25,
   "metadata": {},
   "outputs": [
    {
     "name": "stdout",
     "output_type": "stream",
     "text": [
      "0\talma\n",
      "1\tkörte\n",
      "2\tszilva\n",
      "\n"
     ]
    }
   ],
   "source": [
    "# with használatával \n",
    "with open('gyumolcs.txt',\"r\") as f:\n",
    "    s = f.read()\n",
    "\n",
    "print(s)"
   ]
  },
  {
   "cell_type": "code",
   "execution_count": 27,
   "metadata": {
    "colab": {
     "base_uri": "https://localhost:8080/",
     "height": 36
    },
    "executionInfo": {
     "elapsed": 280,
     "status": "ok",
     "timestamp": 1683041307954,
     "user": {
      "displayName": "Piroska Dömötör",
      "userId": "03696721308245428945"
     },
     "user_tz": -120
    },
    "id": "R24pWahtfkCk",
    "outputId": "5b9aa941-6764-40ff-8a91-9f03580c3efe",
    "scrolled": true
   },
   "outputs": [
    {
     "name": "stdout",
     "output_type": "stream",
     "text": [
      "0\talma\n",
      "1\tkörte\n",
      "2\tszilva\n",
      "\n"
     ]
    }
   ],
   "source": [
    "#rövidebben\n",
    "s = open('gyumolcs.txt',\"r\").read()\n",
    "\n",
    "print(s)"
   ]
  },
  {
   "cell_type": "markdown",
   "metadata": {
    "id": "LFspY7BifkCk"
   },
   "source": [
    "**Példa:** Készítsünk egy fájlt, majd olvassuk be az első sorát!\n",
    "- Az `example_file.txt`-t a munkakönyvtárban a New / Text File menüponttal hozhatjuk létre. (Desktop alkalmazás)\n",
    "- A Colab felületén pedig a bal oldali menü könyvtár ikonja, majd jobb egérgomb felugró menü Új Fájl. *Ez csak a munkamenet alatt létezik!*\n",
    "- De persze bármilyen egyszerű szövegszerkesztővel is elkészíthetjük, majd a notebook mellé menthetjük "
   ]
  },
  {
   "cell_type": "code",
   "execution_count": 28,
   "metadata": {
    "colab": {
     "base_uri": "https://localhost:8080/"
    },
    "executionInfo": {
     "elapsed": 285,
     "status": "ok",
     "timestamp": 1683042534333,
     "user": {
      "displayName": "Piroska Dömötör",
      "userId": "03696721308245428945"
     },
     "user_tz": -120
    },
    "id": "Kupxws4efkCl",
    "outputId": "662dcb4a-a5e2-4d02-e67f-0853e2293bf4"
   },
   "outputs": [
    {
     "name": "stdout",
     "output_type": "stream",
     "text": [
      "2 körte\n",
      "\n"
     ]
    }
   ],
   "source": [
    "# Első sor beolvasása \n",
    "f = open('example_file.txt',\"r\")\n",
    "s = f.readline()\n",
    "f.close()\n",
    "print(s)"
   ]
  },
  {
   "cell_type": "code",
   "execution_count": 29,
   "metadata": {
    "colab": {
     "base_uri": "https://localhost:8080/",
     "height": 36
    },
    "executionInfo": {
     "elapsed": 363,
     "status": "ok",
     "timestamp": 1683042542413,
     "user": {
      "displayName": "Piroska Dömötör",
      "userId": "03696721308245428945"
     },
     "user_tz": -120
    },
    "id": "xY6YZtyvfkCl",
    "outputId": "41d0ce82-c2ad-4003-8cb8-695828d80817"
   },
   "outputs": [
    {
     "data": {
      "text/plain": [
       "'2 körte\\n'"
      ]
     },
     "execution_count": 29,
     "metadata": {},
     "output_type": "execute_result"
    }
   ],
   "source": [
    "# Megjegyzés: A readline a sortörést is beteszi az eredménybe.\n",
    "s"
   ]
  },
  {
   "cell_type": "code",
   "execution_count": 30,
   "metadata": {
    "colab": {
     "base_uri": "https://localhost:8080/",
     "height": 36
    },
    "executionInfo": {
     "elapsed": 397,
     "status": "ok",
     "timestamp": 1683042546673,
     "user": {
      "displayName": "Piroska Dömötör",
      "userId": "03696721308245428945"
     },
     "user_tz": -120
    },
    "id": "TWoEyDArfkCl",
    "outputId": "a3f89876-8cde-42f2-c048-1a919b2c82d4"
   },
   "outputs": [
    {
     "data": {
      "text/plain": [
       "'2 körte'"
      ]
     },
     "execution_count": 30,
     "metadata": {},
     "output_type": "execute_result"
    }
   ],
   "source": [
    "# A sortörést pl. a strip függvénnyel vághatjuk le:\n",
    "s.strip()"
   ]
  },
  {
   "cell_type": "code",
   "execution_count": 17,
   "metadata": {
    "colab": {
     "base_uri": "https://localhost:8080/"
    },
    "executionInfo": {
     "elapsed": 321,
     "status": "ok",
     "timestamp": 1683041538700,
     "user": {
      "displayName": "Piroska Dömötör",
      "userId": "03696721308245428945"
     },
     "user_tz": -120
    },
    "id": "POTyF_uhfkCl",
    "outputId": "1e09b5cb-87ec-460d-8a78-1d040ed106dd"
   },
   "outputs": [
    {
     "name": "stdout",
     "output_type": "stream",
     "text": [
      "['2 körte\\n']\n"
     ]
    }
   ],
   "source": [
    "# Fájl sorainak beolvasása sztringlistába.\n",
    "f = open('example_file.txt',\"r\")\n",
    "l = f.readlines()\n",
    "f.close()\n",
    "print(l)"
   ]
  },
  {
   "cell_type": "markdown",
   "metadata": {},
   "source": [
    "**Példa:** Olvassuk be a korábban megírt  `gyumolcs.txt` fájlt tartalmát adatpárok listájaként!"
   ]
  },
  {
   "cell_type": "code",
   "execution_count": 33,
   "metadata": {
    "id": "J4kHw3G9fkCl"
   },
   "outputs": [
    {
     "data": {
      "text/plain": [
       "['aa', 'bb', 'ccc']"
      ]
     },
     "execution_count": 33,
     "metadata": {},
     "output_type": "execute_result"
    }
   ],
   "source": [
    "# Sztring darabolása egy határoló jelsorozat mentén (tokenizálás).\n",
    "line = 'aa,bb,ccc'\n",
    "line.split(\",\")"
   ]
  },
  {
   "cell_type": "code",
   "execution_count": 34,
   "metadata": {
    "id": "WZCbK1kzfkCm"
   },
   "outputs": [
    {
     "data": {
      "text/plain": [
       "['aa  bb\\tccc\\n']"
      ]
     },
     "execution_count": 34,
     "metadata": {},
     "output_type": "execute_result"
    }
   ],
   "source": [
    "# Alapértelmezés szerint a split fehér karakterek mentén darabol.\n",
    "line = 'aa  bb\\tccc\\n'\n",
    "line.split(\",\")"
   ]
  },
  {
   "cell_type": "code",
   "execution_count": 35,
   "metadata": {
    "id": "onpahKTvfkCm"
   },
   "outputs": [
    {
     "name": "stdout",
     "output_type": "stream",
     "text": [
      "0\talma\n",
      "\n",
      "1\tkörte\n",
      "\n",
      "2\tszilva\n",
      "\n"
     ]
    }
   ],
   "source": [
    "# Iterálás egy szövegfájl sorain.\n",
    "with open(\"gyumolcs.txt\") as f:\n",
    "    for line in f:\n",
    "        print(line)"
   ]
  },
  {
   "cell_type": "code",
   "execution_count": 62,
   "metadata": {
    "id": "zYqLWQEUfkCm"
   },
   "outputs": [
    {
     "name": "stdout",
     "output_type": "stream",
     "text": [
      "[(1, 'körte'), (2, 'szilva')]\n"
     ]
    }
   ],
   "source": [
    "# Fájl első sorának átugrása, a további sorok tokenizálása.\n",
    "data = []\n",
    "f = open('gyumolcs.txt',\"r\")\n",
    "f.readline() # 1. sor átugrása\n",
    "for line in f:\n",
    "    tok = line.strip().split()\n",
    "    record = int(tok[0]), tok[1]\n",
    "    data.append(record)\n",
    "f.close()\n",
    "\n",
    "print(data)"
   ]
  },
  {
   "cell_type": "markdown",
   "metadata": {},
   "source": [
    "## Függvények: bevezetés, alapfogalmak"
   ]
  },
  {
   "cell_type": "markdown",
   "metadata": {},
   "source": [
    "- [Függvények a dokumentációban](https://docs.python.org/3/tutorial/controlflow.html#defining-functions)\n",
    "- A függvény névvel ellátott alprogram, amely a program más részeiből meghívható.\n",
    "- Függvények használatával a számítási feladatok kisebb egységekre oszthatók. A gyakran használt függvények kódját könyvtárakba rendezhetjük.\n",
    "- A matematikában egy függvénynek nincsenek mellékhatásai. Egy Python nyelvű függvénynek lehetnek!\n",
    "\n",
    "\n",
    "- Pythonban a függvények \"teljes jogú állampolgárok\":\n",
    " \n",
    "  + Egy változónak értékül adhatunk egy függvényt.\n",
    "  + Függvényeket lehet egymásba ágyazni.\n",
    "  + Egy függvény kaphat paraméterként függvényt ill. adhat eredményül függvényt.\n",
    "  \n",
    "\n",
    "- Fontos különbséget tenni egy függvény *definíciója* és *meghívása* között:\n",
    "  \n",
    "  + A függvény definíciója megadja, hogy milyen bemenethez milyen kimenet rendelődjön (és milyen mellékhatások hajtódjanak végre). A függvény definíciója a programban általában csak egy helyen szerepel (ha több helyen szerepel, akkor az utolsó definíció lesz az érvényes.)\n",
    "  + A függvény meghívása azt jelenti, hogy egy adott bemenethez kiszámítjuk a hozzárendelt értéket. Egy definiált függvényt a programban többször is meg lehet hívni."
   ]
  },
  {
   "cell_type": "code",
   "execution_count": 65,
   "metadata": {},
   "outputs": [],
   "source": [
    "# Példa: n-edik gyök függvény definiálása.\n",
    "def gyok(x:float , n:int = 2) -> float:\n",
    "    \"\"\"\n",
    "    x -első változó\n",
    "    n - második\n",
    "    x n-edik gyökét számítja ki    \n",
    "    \"\"\"\n",
    "    return x**(1/n)"
   ]
  },
  {
   "cell_type": "markdown",
   "metadata": {},
   "source": [
    "Ha a függvény első utasítása egy sztring, akkor ez lesz a függvény dokumentációs sztringje."
   ]
  },
  {
   "cell_type": "code",
   "execution_count": 68,
   "metadata": {},
   "outputs": [
    {
     "name": "stdout",
     "output_type": "stream",
     "text": [
      "\n",
      "    x -első változó\n",
      "    n - második\n",
      "    x n-edik gyökét számítja ki    \n",
      "    \n"
     ]
    }
   ],
   "source": [
    "# Dokumentációs sztring (docstring) lekérdezése.\n",
    "# 'dunder' doc\n",
    "\n",
    "print(gyok.__doc__)"
   ]
  },
  {
   "cell_type": "markdown",
   "metadata": {},
   "source": [
    "- Pythonban a függvényeknek *pozícionális* és *kulcsszó* paraméterei lehetnek.\n",
    "  + Függvénydefiníciókor először a pozícionális majd a kulcsszó paramétereket kell felsorolni.\n",
    "  + A pozícionális paramétereknek nincs alapértelmezett értékük, a kulcsszó paramétereknek van.\n",
    "  + Mindegyik paramétertípusból lehet nulla darab is.\n",
    "- Függvényhíváskor...\n",
    "  + Az összes pozícionális paraméter értékét meg kell adni, olyan sorrendben, ahogy a definíciónál szerepeltek,\n",
    "  + A kulcsszó paraméterek értékét nem kötelező megadni."
   ]
  },
  {
   "cell_type": "code",
   "execution_count": 70,
   "metadata": {},
   "outputs": [
    {
     "data": {
      "text/plain": [
       "1.4142135623730951"
      ]
     },
     "execution_count": 70,
     "metadata": {},
     "output_type": "execute_result"
    }
   ],
   "source": [
    "# Gyök 2 kiszámítása.\n",
    "gyok(2, 2)"
   ]
  },
  {
   "cell_type": "code",
   "execution_count": 71,
   "metadata": {},
   "outputs": [
    {
     "data": {
      "text/plain": [
       "1.4142135623730951"
      ]
     },
     "execution_count": 71,
     "metadata": {},
     "output_type": "execute_result"
    }
   ],
   "source": [
    "gyok(2)"
   ]
  },
  {
   "cell_type": "code",
   "execution_count": 72,
   "metadata": {},
   "outputs": [
    {
     "data": {
      "text/plain": [
       "1.2599210498948732"
      ]
     },
     "execution_count": 72,
     "metadata": {},
     "output_type": "execute_result"
    }
   ],
   "source": [
    "# Köbgyök 2 kiszámítása.\n",
    "gyok(2, n = 3)"
   ]
  },
  {
   "cell_type": "code",
   "execution_count": 73,
   "metadata": {},
   "outputs": [
    {
     "data": {
      "text/plain": [
       "1.2599210498948732"
      ]
     },
     "execution_count": 73,
     "metadata": {},
     "output_type": "execute_result"
    }
   ],
   "source": [
    "# A második paramétert nem kell nevesíteni, ha az kulcsszó paraméter\n",
    "gyok(2, 3)"
   ]
  },
  {
   "cell_type": "code",
   "execution_count": 74,
   "metadata": {},
   "outputs": [],
   "source": [
    "# Változónak értékül adhatunk függvényt.\n",
    "y = gyok"
   ]
  },
  {
   "cell_type": "code",
   "execution_count": 75,
   "metadata": {},
   "outputs": [
    {
     "name": "stdout",
     "output_type": "stream",
     "text": [
      "<class 'function'>\n",
      "\n",
      "    x -első változó\n",
      "    n - második\n",
      "    x n-edik gyökét számítja ki    \n",
      "    \n"
     ]
    }
   ],
   "source": [
    "# nézzük meg az új függvény változó típusát, dokumentációs sztringjét!\n",
    "print(type(y))\n",
    "print(y.__doc__)"
   ]
  },
  {
   "cell_type": "markdown",
   "metadata": {
    "id": "kusjJCTSo7UG"
   },
   "source": [
    "# Függvények gyakorlás"
   ]
  },
  {
   "cell_type": "markdown",
   "metadata": {},
   "source": [
    "## Feladat: Celsius-Fahrenheit átváltás\n",
    "Készítsünk adat fájlt, ami Celsius-Fahrenheit adatpárokat tartalmaz 0°C tól 100°C-ig 10 fokonként. Az átszámítás szabálya $$[T_F]  = [T_C]\\cdot\\frac{9}{5} + 32$$\n",
    "Az átszámítást függvény segítségével végezzük el."
   ]
  },
  {
   "cell_type": "code",
   "execution_count": 76,
   "metadata": {},
   "outputs": [],
   "source": [
    "# átszámító függvény:\n",
    "def Fahrenheit(c):\n",
    "    return c * 9 / 5 + 32\n"
   ]
  },
  {
   "cell_type": "code",
   "execution_count": 77,
   "metadata": {
    "id": "6QNMUfzufkCn"
   },
   "outputs": [],
   "source": [
    "# Celsius-Fahrenheit táblázatot tartalmazó fájl elkészítése.\n",
    "file = open('celsius_fahrenheit.txt', 'w')\n",
    "file.write('Celsius\\tFahrenheit\\n')\n",
    "for c in range(-20, 41, 5):\n",
    "    f = Fahrenheit(c)\n",
    "    file.write(f'{c}\\t{f}\\n')\n",
    "file.close()"
   ]
  },
  {
   "cell_type": "markdown",
   "metadata": {
    "id": "ThD30CO6vzMR"
   },
   "source": [
    "## Feladat: Prímtesztelés\n",
    "Készítsünk függvényt, amely eldönti egy természetes számról, hogy prím-e!"
   ]
  },
  {
   "cell_type": "code",
   "execution_count": 1,
   "metadata": {
    "colab": {
     "base_uri": "https://localhost:8080/"
    },
    "executionInfo": {
     "elapsed": 34,
     "status": "ok",
     "timestamp": 1684235607037,
     "user": {
      "displayName": "Piroska Dömötör",
      "userId": "03696721308245428945"
     },
     "user_tz": -120
    },
    "id": "sXtFBo1hvzMS",
    "outputId": "4adceebc-3114-4033-9ca8-e15c86cb3cac"
   },
   "outputs": [
    {
     "name": "stdout",
     "output_type": "stream",
     "text": [
      "True\n"
     ]
    }
   ],
   "source": [
    "# 1. változat: függvény nélkül \n",
    "# Ez a [2, n-1] intervallumon minden számmal ellenőrzi az oszthatóságot\n",
    "n = 23\n",
    "eredm = True\n",
    "for k in range(2,n):\n",
    "    if n%k == 0:\n",
    "        eredm=False\n",
    "        break        # kilép a ciklusból ha eljut ide\n",
    "print(eredm)"
   ]
  },
  {
   "cell_type": "code",
   "execution_count": 2,
   "metadata": {
    "id": "klQSSjJ3vzMS"
   },
   "outputs": [],
   "source": [
    "# 2. változat: függvénnyel \n",
    "# javított verzió: Ez a [2, sqrt(n)] intervallumon ellenőriz csak\n",
    "\n",
    "def is_prime(n):\n",
    "    eredm = True\n",
    "    n0 = int(n**0.5)+1\n",
    "    for k in range(2,n0):\n",
    "        if n%k == 0:\n",
    "            eredm=False\n",
    "            break\n",
    "    return eredm"
   ]
  },
  {
   "cell_type": "code",
   "execution_count": 3,
   "metadata": {},
   "outputs": [],
   "source": [
    "# előző \"igényesebben\"\n",
    "def is_prime(n):\n",
    "    n0 = int(n**0.5)+1\n",
    "    for k in range(2, n0):\n",
    "        if n % k == 0:\n",
    "            return False\n",
    "    return True"
   ]
  },
  {
   "cell_type": "code",
   "execution_count": 4,
   "metadata": {
    "colab": {
     "base_uri": "https://localhost:8080/"
    },
    "executionInfo": {
     "elapsed": 27,
     "status": "ok",
     "timestamp": 1684235607039,
     "user": {
      "displayName": "Piroska Dömötör",
      "userId": "03696721308245428945"
     },
     "user_tz": -120
    },
    "id": "JU1I9n4MIDq0",
    "outputId": "45daba73-f81e-48dd-c23c-a08df3b5c41e"
   },
   "outputs": [
    {
     "data": {
      "text/plain": [
       "(False, True, True)"
      ]
     },
     "execution_count": 4,
     "metadata": {},
     "output_type": "execute_result"
    }
   ],
   "source": [
    "is_prime(123),is_prime(7),is_prime(1993)"
   ]
  },
  {
   "cell_type": "markdown",
   "metadata": {
    "id": "Zxl6nUeHnraV"
   },
   "source": [
    "## Szervezzük át a korábban már megírt programjainkat függvénnyé "
   ]
  },
  {
   "cell_type": "markdown",
   "metadata": {},
   "source": [
    "### **Példa**: n-szer n-es háromszög * karakterekből."
   ]
  },
  {
   "cell_type": "code",
   "execution_count": 5,
   "metadata": {
    "colab": {
     "base_uri": "https://localhost:8080/"
    },
    "executionInfo": {
     "elapsed": 339,
     "status": "ok",
     "timestamp": 1684248444054,
     "user": {
      "displayName": "Piroska Dömötör",
      "userId": "03696721308245428945"
     },
     "user_tz": -120
    },
    "id": "te6UATdQ3LHy",
    "outputId": "fd6c81a9-9b63-4b9b-d94a-779ad5e62ee6",
    "scrolled": true
   },
   "outputs": [
    {
     "name": "stdout",
     "output_type": "stream",
     "text": [
      "*\n",
      "**\n",
      "***\n",
      "****\n",
      "*****\n",
      "******\n",
      "*******\n",
      "********\n",
      "*********\n",
      "**********\n"
     ]
    }
   ],
   "source": [
    "# korábbi kódunk\n",
    "n = 10\n",
    "for hossz in range(1, n + 1):\n",
    "    print(\"*\" * hossz )"
   ]
  },
  {
   "cell_type": "code",
   "execution_count": 6,
   "metadata": {},
   "outputs": [],
   "source": [
    "# fügvénnyel amely stringet ad vissza\n",
    "def haromszog(n):\n",
    "    s = \"\"\n",
    "    for elem in range(n):\n",
    "        s +=\"*\"*(elem+1)\n",
    "        s += \"\\n\"\n",
    "    return s[0:-1]"
   ]
  },
  {
   "cell_type": "code",
   "execution_count": 7,
   "metadata": {
    "colab": {
     "base_uri": "https://localhost:8080/",
     "height": 35
    },
    "executionInfo": {
     "elapsed": 1560,
     "status": "ok",
     "timestamp": 1684248911963,
     "user": {
      "displayName": "Piroska Dömötör",
      "userId": "03696721308245428945"
     },
     "user_tz": -120
    },
    "id": "eJbxKbajCKdS",
    "outputId": "2709f09d-fc10-45a9-ad61-b9aa344c34c1"
   },
   "outputs": [
    {
     "name": "stdout",
     "output_type": "stream",
     "text": [
      "*\n",
      "**\n",
      "***\n",
      "****\n",
      "*****\n",
      "******\n",
      "*******\n",
      "********\n",
      "*********\n",
      "**********\n"
     ]
    }
   ],
   "source": [
    "print(haromszog(10))"
   ]
  },
  {
   "cell_type": "markdown",
   "metadata": {},
   "source": [
    "### **Példa**: Magánhangzók statisztikája szótárral (angol kisbetűs szövegben)."
   ]
  },
  {
   "cell_type": "code",
   "execution_count": 8,
   "metadata": {
    "executionInfo": {
     "elapsed": 400,
     "status": "ok",
     "timestamp": 1684249100295,
     "user": {
      "displayName": "Piroska Dömötör",
      "userId": "03696721308245428945"
     },
     "user_tz": -120
    },
    "id": "tAddcDVR3LHz"
   },
   "outputs": [
    {
     "name": "stdout",
     "output_type": "stream",
     "text": [
      "o : 3\n",
      "e : 3\n",
      "i : 4\n",
      "a : 2\n",
      "u : 0\n"
     ]
    }
   ],
   "source": [
    "# korábbi kódunk\n",
    "\n",
    "text = 'This is a short text for testing the algorithm.'\n",
    "vowels = {'a', 'e', 'i', 'o', 'u'}\n",
    "\n",
    "stat = dict()\n",
    "\n",
    "for mgh in vowels:\n",
    "    mgh_db = 0\n",
    "    for betu in text.lower():\n",
    "        if betu == mgh:\n",
    "            mgh_db += 1\n",
    "    print(mgh, \":\", mgh_db )\n",
    "    stat[mgh] = mgh_db"
   ]
  },
  {
   "cell_type": "code",
   "execution_count": 9,
   "metadata": {
    "colab": {
     "base_uri": "https://localhost:8080/"
    },
    "executionInfo": {
     "elapsed": 313,
     "status": "ok",
     "timestamp": 1684249115062,
     "user": {
      "displayName": "Piroska Dömötör",
      "userId": "03696721308245428945"
     },
     "user_tz": -120
    },
    "id": "WcnPXZqp3qTR",
    "outputId": "a621df8e-f48d-4829-97bf-d4c3f47313eb"
   },
   "outputs": [
    {
     "data": {
      "text/plain": [
       "{'o': 3, 'e': 3, 'i': 4, 'a': 2, 'u': 0}"
      ]
     },
     "execution_count": 9,
     "metadata": {},
     "output_type": "execute_result"
    }
   ],
   "source": [
    "stat"
   ]
  },
  {
   "cell_type": "code",
   "execution_count": 10,
   "metadata": {
    "id": "s8ygtou_3LH0"
   },
   "outputs": [],
   "source": [
    "# fügvénnyel\n",
    "\n",
    "def mgh_stat(text):\n",
    "    vowels = {'a', 'e', 'i', 'o', 'u'}\n",
    "\n",
    "    stat = dict()\n",
    "\n",
    "    for mgh in vowels:\n",
    "        mgh_db = 0\n",
    "        for betu in text.lower():\n",
    "            if betu == mgh:\n",
    "                mgh_db += 1\n",
    "        stat[mgh] = mgh_db\n",
    "    return stat"
   ]
  },
  {
   "cell_type": "code",
   "execution_count": 11,
   "metadata": {},
   "outputs": [
    {
     "data": {
      "text/plain": [
       "{'o': 2, 'e': 3, 'i': 0, 'a': 1, 'u': 0}"
      ]
     },
     "execution_count": 11,
     "metadata": {},
     "output_type": "execute_result"
    }
   ],
   "source": [
    "mgh_stat(\"Ez egy proba szoveg\")"
   ]
  },
  {
   "cell_type": "markdown",
   "metadata": {
    "id": "gMViSTKbvzMX"
   },
   "source": [
    "## Lambda kifejezések\n",
    "- A lambda kifejezés nem más, mint egysoros, névtelen függvény.\n",
    "- [Lambda kifejezések a dokumentációban](https://docs.python.org/3/reference/expressions.html#lambda)"
   ]
  },
  {
   "cell_type": "code",
   "execution_count": 12,
   "metadata": {
    "id": "823exY70vzMX",
    "outputId": "e53e3001-bc4e-4fca-9faf-a88586613912"
   },
   "outputs": [
    {
     "data": {
      "text/plain": [
       "45"
      ]
     },
     "execution_count": 12,
     "metadata": {},
     "output_type": "execute_result"
    }
   ],
   "source": [
    "# Példa lambda kifejezésre.\n",
    "f = lambda x: x + 42\n",
    "f(3)"
   ]
  },
  {
   "cell_type": "code",
   "execution_count": 13,
   "metadata": {
    "id": "-PNomTdgvzMZ"
   },
   "outputs": [],
   "source": [
    "# Egynél több bemenet is megengedett.\n"
   ]
  },
  {
   "cell_type": "markdown",
   "metadata": {
    "id": "lg-QvzB9vzMa"
   },
   "source": [
    "### Lambda kifejezés alkalmazása rendezésnél"
   ]
  },
  {
   "cell_type": "code",
   "execution_count": 14,
   "metadata": {
    "id": "jum7q68nvzMa"
   },
   "outputs": [
    {
     "data": {
      "text/plain": [
       "[('körte', 11), ('alma', 22), ('barack', 33)]"
      ]
     },
     "execution_count": 14,
     "metadata": {},
     "output_type": "execute_result"
    }
   ],
   "source": [
    "# Párok listájának rendezése a második elem szerint.\n",
    "pairs = [('alma', 22), ('körte', 11), ('barack', 33)]\n",
    "sorted(pairs, key = lambda x: x[-1] )"
   ]
  },
  {
   "cell_type": "code",
   "execution_count": 15,
   "metadata": {},
   "outputs": [
    {
     "data": {
      "text/plain": [
       "[('alma', 22), ('barack', 33), ('körte', 11)]"
      ]
     },
     "execution_count": 15,
     "metadata": {},
     "output_type": "execute_result"
    }
   ],
   "source": [
    "sorted(pairs)"
   ]
  },
  {
   "cell_type": "code",
   "execution_count": 16,
   "metadata": {
    "id": "QLmCLEwjvzMa"
   },
   "outputs": [],
   "source": [
    "# Az előző feladat megoldása lambda kifejezés nélkül külön függvényt definiálva\n",
    "pairs = [('alma', 22), ('körte', 11), ('barack', 33)]"
   ]
  },
  {
   "cell_type": "code",
   "execution_count": 17,
   "metadata": {
    "id": "myzzRcncvzMb"
   },
   "outputs": [],
   "source": [
    "# Szótárkulcsok rendezése az értékek szerint.\n",
    "words = {'king': 203, 'denmark': 24, 'queen': 192}"
   ]
  },
  {
   "cell_type": "markdown",
   "metadata": {},
   "source": [
    "## Teknős grafika függvényekkel"
   ]
  },
  {
   "cell_type": "code",
   "execution_count": 18,
   "metadata": {},
   "outputs": [],
   "source": [
    "#import turtle"
   ]
  },
  {
   "cell_type": "code",
   "execution_count": 19,
   "metadata": {},
   "outputs": [
    {
     "name": "stdout",
     "output_type": "stream",
     "text": [
      "Requirement already satisfied: ColabTurtle in /home/domotor/anaconda3/envs/pylatest/lib/python3.9/site-packages (2.1.0)\n"
     ]
    }
   ],
   "source": [
    "!pip3 install ColabTurtle"
   ]
  },
  {
   "cell_type": "code",
   "execution_count": 20,
   "metadata": {},
   "outputs": [],
   "source": [
    "import ColabTurtle.Turtle as turtle"
   ]
  },
  {
   "cell_type": "code",
   "execution_count": 21,
   "metadata": {},
   "outputs": [
    {
     "data": {
      "text/html": [
       "\n",
       "      <svg width=\"800\" height=\"500\">\n",
       "        <rect width=\"100%\" height=\"100%\" fill=\"rgb(1,1,1)\"/>\n",
       "        <line x1=\"400\" y1=\"250\" x2=\"400.0\" y2=\"50.0\" stroke-linecap=\"round\" style=\"stroke:red;stroke-width:4\"/><line x1=\"400.0\" y1=\"50.0\" x2=\"200.0\" y2=\"50.0\" stroke-linecap=\"round\" style=\"stroke:red;stroke-width:4\"/>\n",
       "        <g visibility=visible transform=\"rotate(270,100.0,50.0) translate(82.0, 32.0)\">\n",
       "<path style=\" stroke:none;fill-rule:evenodd;fill:red;fill-opacity:1;\" d=\"M 18.214844 0.632812 C 16.109375 1.800781 15.011719 4.074219 15.074219 7.132812 L 15.085938 7.652344 L 14.785156 7.496094 C 13.476562 6.824219 11.957031 6.671875 10.40625 7.066406 C 8.46875 7.550781 6.515625 9.15625 4.394531 11.992188 C 3.0625 13.777344 2.679688 14.636719 3.042969 15.027344 L 3.15625 15.152344 L 3.519531 15.152344 C 4.238281 15.152344 4.828125 14.886719 8.1875 13.039062 C 9.386719 12.378906 10.371094 11.839844 10.378906 11.839844 C 10.386719 11.839844 10.355469 11.929688 10.304688 12.035156 C 9.832031 13.09375 9.257812 14.820312 8.96875 16.078125 C 7.914062 20.652344 8.617188 24.53125 11.070312 27.660156 C 11.351562 28.015625 11.363281 27.914062 10.972656 28.382812 C 8.925781 30.84375 7.945312 33.28125 8.238281 35.1875 C 8.289062 35.527344 8.28125 35.523438 8.917969 35.523438 C 10.941406 35.523438 13.074219 34.207031 15.136719 31.6875 C 15.359375 31.417969 15.328125 31.425781 15.5625 31.574219 C 16.292969 32.042969 18.023438 32.964844 18.175781 32.964844 C 18.335938 32.964844 19.941406 32.210938 20.828125 31.71875 C 20.996094 31.625 21.136719 31.554688 21.136719 31.558594 C 21.203125 31.664062 21.898438 32.414062 22.222656 32.730469 C 23.835938 34.300781 25.5625 35.132812 27.582031 35.300781 C 27.90625 35.328125 27.9375 35.308594 28.007812 34.984375 C 28.382812 33.242188 27.625 30.925781 25.863281 28.425781 L 25.542969 27.96875 L 25.699219 27.785156 C 28.945312 23.960938 29.132812 18.699219 26.257812 11.96875 L 26.207031 11.84375 L 27.945312 12.703125 C 31.53125 14.476562 32.316406 14.800781 33.03125 14.800781 C 33.976562 14.800781 33.78125 13.9375 32.472656 12.292969 C 28.519531 7.355469 25.394531 5.925781 21.921875 7.472656 L 21.558594 7.636719 L 21.578125 7.542969 C 21.699219 6.992188 21.761719 5.742188 21.699219 5.164062 C 21.496094 3.296875 20.664062 1.964844 19.003906 0.855469 C 18.480469 0.503906 18.457031 0.5 18.214844 0.632812\"/>\n",
       "</g>\n",
       "      </svg>\n",
       "    "
      ],
      "text/plain": [
       "<IPython.core.display.HTML object>"
      ]
     },
     "metadata": {},
     "output_type": "display_data"
    }
   ],
   "source": [
    "# lássuk, hogyan működik a teknőc\n",
    "turtle.initializeTurtle(initial_speed = 3 )\n",
    "turtle.bgcolor(1,1,1)\n",
    "turtle.color(\"red\")   # red = piros színű a toll\n",
    "turtle.forward(200)   # forward = előre megyünk 200 pixelt\n",
    "turtle.left(90)       # left = balra fordulunk 90 fokot\n",
    "turtle.forward(200)   # forward = előre megyünk 200 pixelt\n",
    "\n",
    "turtle.penup()        # most felvesszük a tollat\n",
    "turtle.forward(100)   # forward = előre megyünk 100 pixelt\n",
    "turtle.pendown()      # és letesszük a tollat"
   ]
  },
  {
   "cell_type": "code",
   "execution_count": 22,
   "metadata": {},
   "outputs": [],
   "source": [
    "# írjunk függvényt ami megvalósít egy adott méretű továbbosonoást\n",
    "def oson(tavolsag):\n",
    "    turtle.penup()\n",
    "    turtle.forward(tavolsag)\n",
    "    turtle.pendown()"
   ]
  },
  {
   "cell_type": "code",
   "execution_count": 23,
   "metadata": {},
   "outputs": [],
   "source": [
    "# írjunk függvényt amely négyzetet rajzol adott színnel és mérettel\n",
    "def negyzet(meret : int, szin: str) -> None:\n",
    "    '''\n",
    "    adott meretü és színű négyzetet rajzol teknősgrafikával.\n",
    "    '''\n",
    "    turtle.color(szin)\n",
    "    for i in range(4):\n",
    "        turtle.forward(meret)\n",
    "        turtle.left(90)"
   ]
  },
  {
   "cell_type": "code",
   "execution_count": 24,
   "metadata": {},
   "outputs": [
    {
     "data": {
      "text/html": [
       "\n",
       "      <svg width=\"800\" height=\"500\">\n",
       "        <rect width=\"100%\" height=\"100%\" fill=\"black\"/>\n",
       "        <line x1=\"400\" y1=\"250\" x2=\"400.0\" y2=\"230.0\" stroke-linecap=\"round\" style=\"stroke:red;stroke-width:4\"/><line x1=\"400.0\" y1=\"230.0\" x2=\"380.0\" y2=\"230.0\" stroke-linecap=\"round\" style=\"stroke:red;stroke-width:4\"/><line x1=\"380.0\" y1=\"230.0\" x2=\"380.0\" y2=\"250.0\" stroke-linecap=\"round\" style=\"stroke:red;stroke-width:4\"/><line x1=\"380.0\" y1=\"250.0\" x2=\"400.0\" y2=\"250.0\" stroke-linecap=\"round\" style=\"stroke:red;stroke-width:4\"/><line x1=\"400.0\" y1=\"250.0\" x2=\"399.302\" y2=\"210.006\" stroke-linecap=\"round\" style=\"stroke:red;stroke-width:4\"/><line x1=\"399.302\" y1=\"210.006\" x2=\"359.308\" y2=\"210.704\" stroke-linecap=\"round\" style=\"stroke:red;stroke-width:4\"/><line x1=\"359.308\" y1=\"210.704\" x2=\"360.006\" y2=\"250.698\" stroke-linecap=\"round\" style=\"stroke:red;stroke-width:4\"/><line x1=\"360.006\" y1=\"250.698\" x2=\"400.0\" y2=\"250.0\" stroke-linecap=\"round\" style=\"stroke:red;stroke-width:4\"/><line x1=\"400.0\" y1=\"250.0\" x2=\"396.86\" y2=\"190.082\" stroke-linecap=\"round\" style=\"stroke:red;stroke-width:4\"/><line x1=\"396.86\" y1=\"190.082\" x2=\"336.942\" y2=\"193.222\" stroke-linecap=\"round\" style=\"stroke:red;stroke-width:4\"/><line x1=\"336.942\" y1=\"193.222\" x2=\"340.082\" y2=\"253.14\" stroke-linecap=\"round\" style=\"stroke:red;stroke-width:4\"/><line x1=\"340.082\" y1=\"253.14\" x2=\"400.0\" y2=\"250.0\" stroke-linecap=\"round\" style=\"stroke:red;stroke-width:4\"/><line x1=\"400.0\" y1=\"250.0\" x2=\"391.638\" y2=\"170.438\" stroke-linecap=\"round\" style=\"stroke:red;stroke-width:4\"/><line x1=\"391.638\" y1=\"170.438\" x2=\"312.076\" y2=\"178.8\" stroke-linecap=\"round\" style=\"stroke:red;stroke-width:4\"/><line x1=\"312.076\" y1=\"178.8\" x2=\"320.438\" y2=\"258.362\" stroke-linecap=\"round\" style=\"stroke:red;stroke-width:4\"/><line x1=\"320.438\" y1=\"258.362\" x2=\"400.0\" y2=\"250.0\" stroke-linecap=\"round\" style=\"stroke:red;stroke-width:4\"/><line x1=\"400.0\" y1=\"250.0\" x2=\"382.635\" y2=\"151.519\" stroke-linecap=\"round\" style=\"stroke:red;stroke-width:4\"/><line x1=\"382.635\" y1=\"151.519\" x2=\"284.154\" y2=\"168.884\" stroke-linecap=\"round\" style=\"stroke:red;stroke-width:4\"/><line x1=\"284.154\" y1=\"168.884\" x2=\"301.519\" y2=\"267.365\" stroke-linecap=\"round\" style=\"stroke:red;stroke-width:4\"/><line x1=\"301.519\" y1=\"267.365\" x2=\"400.0\" y2=\"250.0\" stroke-linecap=\"round\" style=\"stroke:red;stroke-width:4\"/><line x1=\"400.0\" y1=\"250.0\" x2=\"368.942\" y2=\"134.089\" stroke-linecap=\"round\" style=\"stroke:red;stroke-width:4\"/><line x1=\"368.942\" y1=\"134.089\" x2=\"253.031\" y2=\"165.147\" stroke-linecap=\"round\" style=\"stroke:red;stroke-width:4\"/><line x1=\"253.031\" y1=\"165.147\" x2=\"284.089\" y2=\"281.058\" stroke-linecap=\"round\" style=\"stroke:red;stroke-width:4\"/><line x1=\"284.089\" y1=\"281.058\" x2=\"400.0\" y2=\"250.0\" stroke-linecap=\"round\" style=\"stroke:red;stroke-width:4\"/><line x1=\"400.0\" y1=\"250.0\" x2=\"349.828\" y2=\"119.299\" stroke-linecap=\"round\" style=\"stroke:red;stroke-width:4\"/><line x1=\"349.828\" y1=\"119.299\" x2=\"219.127\" y2=\"169.471\" stroke-linecap=\"round\" style=\"stroke:red;stroke-width:4\"/><line x1=\"219.127\" y1=\"169.471\" x2=\"269.299\" y2=\"300.172\" stroke-linecap=\"round\" style=\"stroke:red;stroke-width:4\"/><line x1=\"269.299\" y1=\"300.172\" x2=\"400.0\" y2=\"250.0\" stroke-linecap=\"round\" style=\"stroke:red;stroke-width:4\"/><line x1=\"400.0\" y1=\"250.0\" x2=\"324.885\" y2=\"108.728\" stroke-linecap=\"round\" style=\"stroke:red;stroke-width:4\"/><line x1=\"324.885\" y1=\"108.728\" x2=\"183.613\" y2=\"183.843\" stroke-linecap=\"round\" style=\"stroke:red;stroke-width:4\"/><line x1=\"183.613\" y1=\"183.843\" x2=\"258.728\" y2=\"325.115\" stroke-linecap=\"round\" style=\"stroke:red;stroke-width:4\"/><line x1=\"258.728\" y1=\"325.115\" x2=\"400.0\" y2=\"250.0\" stroke-linecap=\"round\" style=\"stroke:red;stroke-width:4\"/><line x1=\"400.0\" y1=\"250.0\" x2=\"294.199\" y2=\"104.377\" stroke-linecap=\"round\" style=\"stroke:red;stroke-width:4\"/><line x1=\"294.199\" y1=\"104.377\" x2=\"148.576\" y2=\"210.178\" stroke-linecap=\"round\" style=\"stroke:red;stroke-width:4\"/><line x1=\"148.576\" y1=\"210.178\" x2=\"254.377\" y2=\"355.801\" stroke-linecap=\"round\" style=\"stroke:red;stroke-width:4\"/><line x1=\"254.377\" y1=\"355.801\" x2=\"400.0\" y2=\"250.0\" stroke-linecap=\"round\" style=\"stroke:red;stroke-width:4\"/><line x1=\"400.0\" y1=\"250.0\" x2=\"258.579\" y2=\"108.579\" stroke-linecap=\"round\" style=\"stroke:red;stroke-width:4\"/><line x1=\"258.579\" y1=\"108.579\" x2=\"117.158\" y2=\"250.0\" stroke-linecap=\"round\" style=\"stroke:red;stroke-width:4\"/><line x1=\"117.158\" y1=\"250.0\" x2=\"258.579\" y2=\"391.421\" stroke-linecap=\"round\" style=\"stroke:red;stroke-width:4\"/><line x1=\"258.579\" y1=\"391.421\" x2=\"400.0\" y2=\"250.0\" stroke-linecap=\"round\" style=\"stroke:red;stroke-width:4\"/>\n",
       "        <g visibility=visible transform=\"rotate(315,400.0,250.0) translate(382.0, 232.0)\">\n",
       "<path style=\" stroke:none;fill-rule:evenodd;fill:red;fill-opacity:1;\" d=\"M 18.214844 0.632812 C 16.109375 1.800781 15.011719 4.074219 15.074219 7.132812 L 15.085938 7.652344 L 14.785156 7.496094 C 13.476562 6.824219 11.957031 6.671875 10.40625 7.066406 C 8.46875 7.550781 6.515625 9.15625 4.394531 11.992188 C 3.0625 13.777344 2.679688 14.636719 3.042969 15.027344 L 3.15625 15.152344 L 3.519531 15.152344 C 4.238281 15.152344 4.828125 14.886719 8.1875 13.039062 C 9.386719 12.378906 10.371094 11.839844 10.378906 11.839844 C 10.386719 11.839844 10.355469 11.929688 10.304688 12.035156 C 9.832031 13.09375 9.257812 14.820312 8.96875 16.078125 C 7.914062 20.652344 8.617188 24.53125 11.070312 27.660156 C 11.351562 28.015625 11.363281 27.914062 10.972656 28.382812 C 8.925781 30.84375 7.945312 33.28125 8.238281 35.1875 C 8.289062 35.527344 8.28125 35.523438 8.917969 35.523438 C 10.941406 35.523438 13.074219 34.207031 15.136719 31.6875 C 15.359375 31.417969 15.328125 31.425781 15.5625 31.574219 C 16.292969 32.042969 18.023438 32.964844 18.175781 32.964844 C 18.335938 32.964844 19.941406 32.210938 20.828125 31.71875 C 20.996094 31.625 21.136719 31.554688 21.136719 31.558594 C 21.203125 31.664062 21.898438 32.414062 22.222656 32.730469 C 23.835938 34.300781 25.5625 35.132812 27.582031 35.300781 C 27.90625 35.328125 27.9375 35.308594 28.007812 34.984375 C 28.382812 33.242188 27.625 30.925781 25.863281 28.425781 L 25.542969 27.96875 L 25.699219 27.785156 C 28.945312 23.960938 29.132812 18.699219 26.257812 11.96875 L 26.207031 11.84375 L 27.945312 12.703125 C 31.53125 14.476562 32.316406 14.800781 33.03125 14.800781 C 33.976562 14.800781 33.78125 13.9375 32.472656 12.292969 C 28.519531 7.355469 25.394531 5.925781 21.921875 7.472656 L 21.558594 7.636719 L 21.578125 7.542969 C 21.699219 6.992188 21.761719 5.742188 21.699219 5.164062 C 21.496094 3.296875 20.664062 1.964844 19.003906 0.855469 C 18.480469 0.503906 18.457031 0.5 18.214844 0.632812\"/>\n",
       "</g>\n",
       "      </svg>\n",
       "    "
      ],
      "text/plain": [
       "<IPython.core.display.HTML object>"
      ]
     },
     "metadata": {},
     "output_type": "display_data"
    }
   ],
   "source": [
    "# játszunk el a függvényeinkkel! \n",
    "#Rajzoljunk több elfofgatott négyzetet. \n",
    "#Rajroljunk egymás mellé más-más színű négyzeteket!\n",
    "\n",
    "turtle.initializeTurtle(initial_speed=13)\n",
    "\n",
    "for i in range(10):\n",
    "    meret = (i+1)*20\n",
    "    turtle.left(i*1)\n",
    "    negyzet(meret,\"red\")"
   ]
  },
  {
   "cell_type": "code",
   "execution_count": 25,
   "metadata": {},
   "outputs": [],
   "source": [
    "# írjunk függvényt ami testzőleges szabályos sokszöget rajzol!\n",
    "def Nszog(N, meret, szin):\n",
    "    '''\n",
    "    N oldalú szabályos sokszöget rajzol meret oldalhosszal\n",
    "    '''\n",
    "    turtle.color(szin)\n",
    "    for i in range(N):\n",
    "        turtle.forward(meret)\n",
    "        turtle.left(360/N)"
   ]
  },
  {
   "cell_type": "code",
   "execution_count": 26,
   "metadata": {},
   "outputs": [
    {
     "data": {
      "text/html": [
       "\n",
       "      <svg width=\"800\" height=\"500\">\n",
       "        <rect width=\"100%\" height=\"100%\" fill=\"black\"/>\n",
       "        <line x1=\"400.0\" y1=\"250.0\" x2=\"400.0\" y2=\"230.0\" stroke-linecap=\"round\" style=\"stroke:red;stroke-width:4\"/><line x1=\"400.0\" y1=\"230.0\" x2=\"382.679\" y2=\"220.0\" stroke-linecap=\"round\" style=\"stroke:red;stroke-width:4\"/><line x1=\"382.679\" y1=\"220.0\" x2=\"365.358\" y2=\"230.0\" stroke-linecap=\"round\" style=\"stroke:red;stroke-width:4\"/><line x1=\"365.358\" y1=\"230.0\" x2=\"365.358\" y2=\"250.0\" stroke-linecap=\"round\" style=\"stroke:red;stroke-width:4\"/><line x1=\"365.358\" y1=\"250.0\" x2=\"382.679\" y2=\"260.0\" stroke-linecap=\"round\" style=\"stroke:red;stroke-width:4\"/><line x1=\"382.679\" y1=\"260.0\" x2=\"400.0\" y2=\"250.0\" stroke-linecap=\"round\" style=\"stroke:red;stroke-width:4\"/><line x1=\"400.436\" y1=\"254.981\" x2=\"396.95\" y2=\"215.133\" stroke-linecap=\"round\" style=\"stroke:green;stroke-width:4\"/><line x1=\"396.95\" y1=\"215.133\" x2=\"360.698\" y2=\"198.228\" stroke-linecap=\"round\" style=\"stroke:green;stroke-width:4\"/><line x1=\"360.698\" y1=\"198.228\" x2=\"327.932\" y2=\"221.171\" stroke-linecap=\"round\" style=\"stroke:green;stroke-width:4\"/><line x1=\"327.932\" y1=\"221.171\" x2=\"331.418\" y2=\"261.019\" stroke-linecap=\"round\" style=\"stroke:green;stroke-width:4\"/><line x1=\"331.418\" y1=\"261.019\" x2=\"367.67\" y2=\"277.924\" stroke-linecap=\"round\" style=\"stroke:green;stroke-width:4\"/><line x1=\"367.67\" y1=\"277.924\" x2=\"400.436\" y2=\"254.981\" stroke-linecap=\"round\" style=\"stroke:green;stroke-width:4\"/><line x1=\"403.024\" y1=\"264.64\" x2=\"387.495\" y2=\"206.684\" stroke-linecap=\"round\" style=\"stroke:violet;stroke-width:4\"/><line x1=\"387.495\" y1=\"206.684\" x2=\"329.539\" y2=\"191.155\" stroke-linecap=\"round\" style=\"stroke:violet;stroke-width:4\"/><line x1=\"329.539\" y1=\"191.155\" x2=\"287.113\" y2=\"233.581\" stroke-linecap=\"round\" style=\"stroke:violet;stroke-width:4\"/><line x1=\"287.113\" y1=\"233.581\" x2=\"302.642\" y2=\"291.537\" stroke-linecap=\"round\" style=\"stroke:violet;stroke-width:4\"/><line x1=\"302.642\" y1=\"291.537\" x2=\"360.598\" y2=\"307.066\" stroke-linecap=\"round\" style=\"stroke:violet;stroke-width:4\"/><line x1=\"360.598\" y1=\"307.066\" x2=\"403.024\" y2=\"264.64\" stroke-linecap=\"round\" style=\"stroke:violet;stroke-width:4\"/><line x1=\"410.524\" y1=\"277.63\" x2=\"370.524\" y2=\"208.348\" stroke-linecap=\"round\" style=\"stroke:orange;stroke-width:4\"/><line x1=\"370.524\" y1=\"208.348\" x2=\"290.524\" y2=\"208.348\" stroke-linecap=\"round\" style=\"stroke:orange;stroke-width:4\"/><line x1=\"290.524\" y1=\"208.348\" x2=\"250.524\" y2=\"277.63\" stroke-linecap=\"round\" style=\"stroke:orange;stroke-width:4\"/><line x1=\"250.524\" y1=\"277.63\" x2=\"290.524\" y2=\"346.912\" stroke-linecap=\"round\" style=\"stroke:orange;stroke-width:4\"/><line x1=\"290.524\" y1=\"346.912\" x2=\"370.524\" y2=\"346.912\" stroke-linecap=\"round\" style=\"stroke:orange;stroke-width:4\"/><line x1=\"370.524\" y1=\"346.912\" x2=\"410.524\" y2=\"277.63\" stroke-linecap=\"round\" style=\"stroke:orange;stroke-width:4\"/><line x1=\"425.845\" y1=\"290.486\" x2=\"349.241\" y2=\"226.207\" stroke-linecap=\"round\" style=\"stroke:blue;stroke-width:4\"/><line x1=\"349.241\" y1=\"226.207\" x2=\"255.272\" y2=\"260.409\" stroke-linecap=\"round\" style=\"stroke:blue;stroke-width:4\"/><line x1=\"255.272\" y1=\"260.409\" x2=\"237.907\" y2=\"358.89\" stroke-linecap=\"round\" style=\"stroke:blue;stroke-width:4\"/><line x1=\"237.907\" y1=\"358.89\" x2=\"314.511\" y2=\"423.169\" stroke-linecap=\"round\" style=\"stroke:blue;stroke-width:4\"/><line x1=\"314.511\" y1=\"423.169\" x2=\"408.48\" y2=\"388.967\" stroke-linecap=\"round\" style=\"stroke:blue;stroke-width:4\"/><line x1=\"408.48\" y1=\"388.967\" x2=\"425.845\" y2=\"290.486\" stroke-linecap=\"round\" style=\"stroke:blue;stroke-width:4\"/>\n",
       "        <g visibility=visible transform=\"rotate(310.0,425.845,290.486) translate(407.845, 272.486)\">\n",
       "<path style=\" stroke:none;fill-rule:evenodd;fill:blue;fill-opacity:1;\" d=\"M 18.214844 0.632812 C 16.109375 1.800781 15.011719 4.074219 15.074219 7.132812 L 15.085938 7.652344 L 14.785156 7.496094 C 13.476562 6.824219 11.957031 6.671875 10.40625 7.066406 C 8.46875 7.550781 6.515625 9.15625 4.394531 11.992188 C 3.0625 13.777344 2.679688 14.636719 3.042969 15.027344 L 3.15625 15.152344 L 3.519531 15.152344 C 4.238281 15.152344 4.828125 14.886719 8.1875 13.039062 C 9.386719 12.378906 10.371094 11.839844 10.378906 11.839844 C 10.386719 11.839844 10.355469 11.929688 10.304688 12.035156 C 9.832031 13.09375 9.257812 14.820312 8.96875 16.078125 C 7.914062 20.652344 8.617188 24.53125 11.070312 27.660156 C 11.351562 28.015625 11.363281 27.914062 10.972656 28.382812 C 8.925781 30.84375 7.945312 33.28125 8.238281 35.1875 C 8.289062 35.527344 8.28125 35.523438 8.917969 35.523438 C 10.941406 35.523438 13.074219 34.207031 15.136719 31.6875 C 15.359375 31.417969 15.328125 31.425781 15.5625 31.574219 C 16.292969 32.042969 18.023438 32.964844 18.175781 32.964844 C 18.335938 32.964844 19.941406 32.210938 20.828125 31.71875 C 20.996094 31.625 21.136719 31.554688 21.136719 31.558594 C 21.203125 31.664062 21.898438 32.414062 22.222656 32.730469 C 23.835938 34.300781 25.5625 35.132812 27.582031 35.300781 C 27.90625 35.328125 27.9375 35.308594 28.007812 34.984375 C 28.382812 33.242188 27.625 30.925781 25.863281 28.425781 L 25.542969 27.96875 L 25.699219 27.785156 C 28.945312 23.960938 29.132812 18.699219 26.257812 11.96875 L 26.207031 11.84375 L 27.945312 12.703125 C 31.53125 14.476562 32.316406 14.800781 33.03125 14.800781 C 33.976562 14.800781 33.78125 13.9375 32.472656 12.292969 C 28.519531 7.355469 25.394531 5.925781 21.921875 7.472656 L 21.558594 7.636719 L 21.578125 7.542969 C 21.699219 6.992188 21.761719 5.742188 21.699219 5.164062 C 21.496094 3.296875 20.664062 1.964844 19.003906 0.855469 C 18.480469 0.503906 18.457031 0.5 18.214844 0.632812\"/>\n",
       "</g>\n",
       "      </svg>\n",
       "    "
      ],
      "text/plain": [
       "<IPython.core.display.HTML object>"
      ]
     },
     "metadata": {},
     "output_type": "display_data"
    }
   ],
   "source": [
    "turtle.initializeTurtle(initial_speed=13)\n",
    "\n",
    "for i,szin in enumerate([\"red\",\"green\",\"violet\",\"orange\",\"blue\"]):\n",
    "    meret = (i+1)*20\n",
    "    turtle.left(i*5)\n",
    "    oson(-i*5)\n",
    "    Nszog(6,meret,szin)"
   ]
  },
  {
   "cell_type": "code",
   "execution_count": 27,
   "metadata": {},
   "outputs": [],
   "source": [
    "# rajzoljunk kisházat a meglévő sokszögek segítségével"
   ]
  },
  {
   "cell_type": "code",
   "execution_count": 28,
   "metadata": {},
   "outputs": [],
   "source": [
    "def haz(meret):\n",
    "    turtle.right(90)\n",
    "    # házikó fő része: egy négyzet\n",
    "    negyzet(meret, \"red\")\n",
    "    # felmegyünk a tető rajzolásához:\n",
    "    turtle.left(90)\n",
    "    oson(meret)\n",
    "    turtle.right(90)\n",
    "    # most jön a tető\n",
    "    Nszog(3, meret, \"blue\")\n",
    "    # elmegyünk az ablak helyére:\n",
    "    oson(meret*0.2)\n",
    "    turtle.right(90)\n",
    "    oson(meret*0.5)\n",
    "    turtle.left(90)\n",
    "    # most jön az ablak\n",
    "    negyzet(meret*0.3, \"green\")\n",
    "    # ... és vissza a kiindulópontra. Ha nem mennénk, összezavarodhatnánk!\n",
    "    turtle.right(90)\n",
    "    oson(meret*0.5)\n",
    "    turtle.right(90)\n",
    "    oson(meret*0.2)\n",
    "    turtle.right(180)"
   ]
  },
  {
   "cell_type": "code",
   "execution_count": 29,
   "metadata": {},
   "outputs": [
    {
     "data": {
      "text/html": [
       "\n",
       "      <svg width=\"800\" height=\"500\">\n",
       "        <rect width=\"100%\" height=\"100%\" fill=\"black\"/>\n",
       "        <line x1=\"400\" y1=\"250\" x2=\"500.0\" y2=\"250.0\" stroke-linecap=\"round\" style=\"stroke:red;stroke-width:4\"/><line x1=\"500.0\" y1=\"250.0\" x2=\"500.0\" y2=\"150.0\" stroke-linecap=\"round\" style=\"stroke:red;stroke-width:4\"/><line x1=\"500.0\" y1=\"150.0\" x2=\"400.0\" y2=\"150.0\" stroke-linecap=\"round\" style=\"stroke:red;stroke-width:4\"/><line x1=\"400.0\" y1=\"150.0\" x2=\"400.0\" y2=\"250.0\" stroke-linecap=\"round\" style=\"stroke:red;stroke-width:4\"/><line x1=\"400.0\" y1=\"150.0\" x2=\"500.0\" y2=\"150.0\" stroke-linecap=\"round\" style=\"stroke:blue;stroke-width:4\"/><line x1=\"500.0\" y1=\"150.0\" x2=\"450.0\" y2=\"63.397\" stroke-linecap=\"round\" style=\"stroke:blue;stroke-width:4\"/><line x1=\"450.0\" y1=\"63.397\" x2=\"400.0\" y2=\"150.0\" stroke-linecap=\"round\" style=\"stroke:blue;stroke-width:4\"/><line x1=\"420.0\" y1=\"200.0\" x2=\"450.0\" y2=\"200.0\" stroke-linecap=\"round\" style=\"stroke:green;stroke-width:4\"/><line x1=\"450.0\" y1=\"200.0\" x2=\"450.0\" y2=\"170.0\" stroke-linecap=\"round\" style=\"stroke:green;stroke-width:4\"/><line x1=\"450.0\" y1=\"170.0\" x2=\"420.0\" y2=\"170.0\" stroke-linecap=\"round\" style=\"stroke:green;stroke-width:4\"/><line x1=\"420.0\" y1=\"170.0\" x2=\"420.0\" y2=\"200.0\" stroke-linecap=\"round\" style=\"stroke:green;stroke-width:4\"/>\n",
       "        <g visibility=visible transform=\"rotate(90.0,400.0,250.0) translate(382.0, 232.0)\">\n",
       "<path style=\" stroke:none;fill-rule:evenodd;fill:green;fill-opacity:1;\" d=\"M 18.214844 0.632812 C 16.109375 1.800781 15.011719 4.074219 15.074219 7.132812 L 15.085938 7.652344 L 14.785156 7.496094 C 13.476562 6.824219 11.957031 6.671875 10.40625 7.066406 C 8.46875 7.550781 6.515625 9.15625 4.394531 11.992188 C 3.0625 13.777344 2.679688 14.636719 3.042969 15.027344 L 3.15625 15.152344 L 3.519531 15.152344 C 4.238281 15.152344 4.828125 14.886719 8.1875 13.039062 C 9.386719 12.378906 10.371094 11.839844 10.378906 11.839844 C 10.386719 11.839844 10.355469 11.929688 10.304688 12.035156 C 9.832031 13.09375 9.257812 14.820312 8.96875 16.078125 C 7.914062 20.652344 8.617188 24.53125 11.070312 27.660156 C 11.351562 28.015625 11.363281 27.914062 10.972656 28.382812 C 8.925781 30.84375 7.945312 33.28125 8.238281 35.1875 C 8.289062 35.527344 8.28125 35.523438 8.917969 35.523438 C 10.941406 35.523438 13.074219 34.207031 15.136719 31.6875 C 15.359375 31.417969 15.328125 31.425781 15.5625 31.574219 C 16.292969 32.042969 18.023438 32.964844 18.175781 32.964844 C 18.335938 32.964844 19.941406 32.210938 20.828125 31.71875 C 20.996094 31.625 21.136719 31.554688 21.136719 31.558594 C 21.203125 31.664062 21.898438 32.414062 22.222656 32.730469 C 23.835938 34.300781 25.5625 35.132812 27.582031 35.300781 C 27.90625 35.328125 27.9375 35.308594 28.007812 34.984375 C 28.382812 33.242188 27.625 30.925781 25.863281 28.425781 L 25.542969 27.96875 L 25.699219 27.785156 C 28.945312 23.960938 29.132812 18.699219 26.257812 11.96875 L 26.207031 11.84375 L 27.945312 12.703125 C 31.53125 14.476562 32.316406 14.800781 33.03125 14.800781 C 33.976562 14.800781 33.78125 13.9375 32.472656 12.292969 C 28.519531 7.355469 25.394531 5.925781 21.921875 7.472656 L 21.558594 7.636719 L 21.578125 7.542969 C 21.699219 6.992188 21.761719 5.742188 21.699219 5.164062 C 21.496094 3.296875 20.664062 1.964844 19.003906 0.855469 C 18.480469 0.503906 18.457031 0.5 18.214844 0.632812\"/>\n",
       "</g>\n",
       "      </svg>\n",
       "    "
      ],
      "text/plain": [
       "<IPython.core.display.HTML object>"
      ]
     },
     "metadata": {},
     "output_type": "display_data"
    }
   ],
   "source": [
    "turtle.initializeTurtle(initial_speed=13)\n",
    "\n",
    "haz(100)"
   ]
  },
  {
   "cell_type": "markdown",
   "metadata": {},
   "source": [
    "# Modulok és csomagok. Ismerkedés a numpy és a matplotlib csomag lehetőségeivel"
   ]
  },
  {
   "cell_type": "markdown",
   "metadata": {
    "id": "5r8IWopMoUEU"
   },
   "source": [
    "## Modulok és Csomagok néhány példával\n",
    "**Modul**: Python nyelvű fájl. [Modulok a dokumentációban](https://docs.python.org/3/tutorial/modules.html)\n",
    "- Definíciókat és utasításokat tartalmaz.\n",
    "- Ha a modulhoz az `xyz.py` fájl tartozik, akkor a modulra `xyz` néven lehet hivatkozni.\n",
    "- A modulok más Python programokból importálhatók.\n",
    "\n",
    "**Csomag**: Modulok gyűjteménye.  [Csomagok a dokumentációban](https://docs.python.org/3/tutorial/modules.html#packages)\n",
    "- Egy csomag alcsomagokat/almodulokat is tartalmazhat. A hierarchiát a csomagon belüli könyvtárszerkezet határozza meg.\n",
    "- A standard csomagok és modulok a standard könyvtárban találhatók, és nem igényelnek telepítést.\n",
    "- A külső csomagok gyűjtőhelye a PyPI (https://pypi.python.org/pypi)."
   ]
  },
  {
   "cell_type": "markdown",
   "metadata": {},
   "source": [
    "### Modul vagy csomag importálása, majd abból a szükséges függvény meghívása"
   ]
  },
  {
   "cell_type": "code",
   "execution_count": 1,
   "metadata": {
    "executionInfo": {
     "elapsed": 1322,
     "status": "ok",
     "timestamp": 1684851010179,
     "user": {
      "displayName": "Piroska Dömötör",
      "userId": "03696721308245428945"
     },
     "user_tz": -120
    },
    "id": "c99hHVrYoUEf"
   },
   "outputs": [],
   "source": [
    "# Modul/csomag importálása.\n",
    "import random"
   ]
  },
  {
   "cell_type": "code",
   "execution_count": 2,
   "metadata": {
    "colab": {
     "base_uri": "https://localhost:8080/"
    },
    "executionInfo": {
     "elapsed": 930,
     "status": "ok",
     "timestamp": 1684851018385,
     "user": {
      "displayName": "Piroska Dömötör",
      "userId": "03696721308245428945"
     },
     "user_tz": -120
    },
    "id": "-pMb_KR8oUEk",
    "outputId": "140b8c9d-f3c9-4466-8092-876e032aac7a"
   },
   "outputs": [
    {
     "data": {
      "text/plain": [
       "75"
      ]
     },
     "execution_count": 2,
     "metadata": {},
     "output_type": "execute_result"
    }
   ],
   "source": [
    "# A random egészet sorsoló függvény meghívása \n",
    "random.randint(1, 100)"
   ]
  },
  {
   "cell_type": "code",
   "execution_count": 8,
   "metadata": {},
   "outputs": [
    {
     "data": {
      "text/plain": [
       "'málna'"
      ]
     },
     "execution_count": 8,
     "metadata": {},
     "output_type": "execute_result"
    }
   ],
   "source": [
    "# de egy listából is vehetünk ki véletlenszerűen elemet\n",
    "l = [\"alma\", \"körte\",\"szilva\",\"málna\"]\n",
    "random.choice(l)"
   ]
  },
  {
   "cell_type": "markdown",
   "metadata": {},
   "source": [
    "### Csak a szükséges függvények importálása egy modulból/csomagból."
   ]
  },
  {
   "cell_type": "code",
   "execution_count": 8,
   "metadata": {
    "executionInfo": {
     "elapsed": 278,
     "status": "ok",
     "timestamp": 1684851070401,
     "user": {
      "displayName": "Piroska Dömötör",
      "userId": "03696721308245428945"
     },
     "user_tz": -120
    },
    "id": "kzyrEPmNoUEn"
   },
   "outputs": [],
   "source": [
    "# Egyetlen függvény importálása egy modulból/csomagból.\n",
    "from random import randint"
   ]
  },
  {
   "cell_type": "code",
   "execution_count": 9,
   "metadata": {
    "colab": {
     "base_uri": "https://localhost:8080/"
    },
    "executionInfo": {
     "elapsed": 318,
     "status": "ok",
     "timestamp": 1684851083205,
     "user": {
      "displayName": "Piroska Dömötör",
      "userId": "03696721308245428945"
     },
     "user_tz": -120
    },
    "id": "EFkrSDNfoUEp",
    "outputId": "27bba7d4-570e-404a-db0b-c7097e9177fb"
   },
   "outputs": [
    {
     "data": {
      "text/plain": [
       "14"
      ]
     },
     "execution_count": 9,
     "metadata": {},
     "output_type": "execute_result"
    }
   ],
   "source": [
    "randint(10, 20)"
   ]
  },
  {
   "cell_type": "code",
   "execution_count": 9,
   "metadata": {},
   "outputs": [],
   "source": [
    "# Függvény importálása almodulból/alcsomagból.\n",
    "from os.path import dirname"
   ]
  },
  {
   "cell_type": "code",
   "execution_count": 10,
   "metadata": {},
   "outputs": [
    {
     "data": {
      "text/plain": [
       "'/tmp/pistike'"
      ]
     },
     "execution_count": 10,
     "metadata": {},
     "output_type": "execute_result"
    }
   ],
   "source": [
    "dirname('/tmp/pistike/a.txt')"
   ]
  },
  {
   "cell_type": "markdown",
   "metadata": {},
   "source": [
    "### Modul/csomag teljes tartalmának importálása \n",
    "**Megjegyzés:** Ez a megoldás általában kerülendő. Keveredhetnek a függvény nevek. "
   ]
  },
  {
   "cell_type": "code",
   "execution_count": null,
   "metadata": {
    "id": "sMkjvsOqoUEq"
   },
   "outputs": [],
   "source": [
    "# from random import *"
   ]
  },
  {
   "cell_type": "markdown",
   "metadata": {},
   "source": [
    "### Modul vagy csomag importálása rövid néven"
   ]
  },
  {
   "cell_type": "code",
   "execution_count": 10,
   "metadata": {
    "executionInfo": {
     "elapsed": 321,
     "status": "ok",
     "timestamp": 1684851229953,
     "user": {
      "displayName": "Piroska Dömötör",
      "userId": "03696721308245428945"
     },
     "user_tz": -120
    },
    "id": "6y9hRvUV9SDv"
   },
   "outputs": [],
   "source": [
    "# rövidítve \n",
    "import random as rd"
   ]
  },
  {
   "cell_type": "code",
   "execution_count": 11,
   "metadata": {
    "colab": {
     "base_uri": "https://localhost:8080/"
    },
    "executionInfo": {
     "elapsed": 422,
     "status": "ok",
     "timestamp": 1684851251455,
     "user": {
      "displayName": "Piroska Dömötör",
      "userId": "03696721308245428945"
     },
     "user_tz": -120
    },
    "id": "CqvwpBsD9aE7",
    "outputId": "7f700c39-c0e8-4fb2-d821-04dae97e3a37"
   },
   "outputs": [
    {
     "data": {
      "text/plain": [
       "1"
      ]
     },
     "execution_count": 11,
     "metadata": {},
     "output_type": "execute_result"
    }
   ],
   "source": [
    "rd.randint(0,10)"
   ]
  },
  {
   "cell_type": "markdown",
   "metadata": {
    "id": "3sRiEYDgofcu"
   },
   "source": [
    "## Megjegyzés: listák másolásáról\n",
    " - [Másolás - copy csomag a dokumentációban ](https://docs.python.org/3/library/copy.html)\n",
    "- Sekély (shallow) és mély (deep) másoló függvényt tartalmaz."
   ]
  },
  {
   "cell_type": "code",
   "execution_count": 12,
   "metadata": {
    "executionInfo": {
     "elapsed": 310,
     "status": "ok",
     "timestamp": 1684851759863,
     "user": {
      "displayName": "Piroska Dömötör",
      "userId": "03696721308245428945"
     },
     "user_tz": -120
    },
    "id": "Agz9qisTp1UW"
   },
   "outputs": [],
   "source": [
    "import copy as cp"
   ]
  },
  {
   "cell_type": "markdown",
   "metadata": {},
   "source": [
    "a = b értékadás számokkal"
   ]
  },
  {
   "cell_type": "code",
   "execution_count": 13,
   "metadata": {},
   "outputs": [
    {
     "name": "stdout",
     "output_type": "stream",
     "text": [
      "a =  2 ;\tb =  2\n",
      "a =  3 ;\tb =  2\n"
     ]
    }
   ],
   "source": [
    "a = 2\n",
    "b = a\n",
    "print(\"a = \", a, \";\\tb = \", b)\n",
    "a = 3\n",
    "print(\"a = \", a, \";\\tb = \", b)"
   ]
  },
  {
   "cell_type": "markdown",
   "metadata": {},
   "source": [
    "a = b értékadás listákkal \n",
    "- NEM végez másolást\n",
    "- csak hívatkozást hoz létre"
   ]
  },
  {
   "cell_type": "code",
   "execution_count": 14,
   "metadata": {
    "colab": {
     "base_uri": "https://localhost:8080/"
    },
    "executionInfo": {
     "elapsed": 316,
     "status": "ok",
     "timestamp": 1684851715014,
     "user": {
      "displayName": "Piroska Dömötör",
      "userId": "03696721308245428945"
     },
     "user_tz": -120
    },
    "id": "sRcjUzxjqGlB",
    "outputId": "726ee393-9596-40eb-caa1-43875e2443f5"
   },
   "outputs": [
    {
     "name": "stdout",
     "output_type": "stream",
     "text": [
      "a =  [1, 2, 3] ;\tb =  [1, 2, 3]\n",
      "a =  [2, 2, 3] ;\tb =  [2, 2, 3]\n"
     ]
    }
   ],
   "source": [
    "# Pythonban az értékadás NEM végez másolást, csak hivatkozást hoz létre.\n",
    "a = [1, 2, 3]\n",
    "b = a\n",
    "print(\"a = \", a, \";\\tb = \", b)\n",
    "b[0] = 2\n",
    "print(\"a = \", a, \";\\tb = \", b)"
   ]
  },
  {
   "cell_type": "markdown",
   "metadata": {},
   "source": [
    "Ha független másolatot szeretnénk ahhoz kell a copy csomag"
   ]
  },
  {
   "cell_type": "code",
   "execution_count": 15,
   "metadata": {
    "colab": {
     "base_uri": "https://localhost:8080/"
    },
    "executionInfo": {
     "elapsed": 411,
     "status": "ok",
     "timestamp": 1684851837893,
     "user": {
      "displayName": "Piroska Dömötör",
      "userId": "03696721308245428945"
     },
     "user_tz": -120
    },
    "id": "uWygkp_zqPJz",
    "outputId": "efc5ae2d-cfe7-43e3-e1b6-05cdab291dd6"
   },
   "outputs": [
    {
     "name": "stdout",
     "output_type": "stream",
     "text": [
      "a =  [1, 2, 3] ;\tb =  [1, 2, 3]\n",
      "a =  [1, 2, 10] ;\tb =  [2, 2, 3]\n"
     ]
    }
   ],
   "source": [
    "# Sekély másolat készítése.\n",
    "a = [1, 2, 3]\n",
    "b = cp.copy(a)\n",
    "print(\"a = \", a, \";\\tb = \", b)\n",
    "b[0] = 2\n",
    "a[-1] =10\n",
    "print(\"a = \", a, \";\\tb = \", b)"
   ]
  },
  {
   "cell_type": "code",
   "execution_count": 19,
   "metadata": {
    "executionInfo": {
     "elapsed": 314,
     "status": "ok",
     "timestamp": 1684851914590,
     "user": {
      "displayName": "Piroska Dömötör",
      "userId": "03696721308245428945"
     },
     "user_tz": -120
    },
    "id": "vG66T6oUqUVX"
   },
   "outputs": [
    {
     "name": "stdout",
     "output_type": "stream",
     "text": [
      "a =  [[1], [2], [2]] ;\tb =  [[1], [2], [2]]\n"
     ]
    }
   ],
   "source": [
    "# Sekély másolat készítése egy listák listája objektumról.\n",
    "a = [[1], [2], [2]]\n",
    "b = cp.copy(a)\n",
    "print(\"a = \", a, \";\\tb = \", b)"
   ]
  },
  {
   "cell_type": "code",
   "execution_count": 20,
   "metadata": {
    "colab": {
     "base_uri": "https://localhost:8080/"
    },
    "executionInfo": {
     "elapsed": 290,
     "status": "ok",
     "timestamp": 1684851933367,
     "user": {
      "displayName": "Piroska Dömötör",
      "userId": "03696721308245428945"
     },
     "user_tz": -120
    },
    "id": "I8Tef0QIqVvd",
    "outputId": "9653e78e-0859-4837-9ce0-b767d7d35e43"
   },
   "outputs": [
    {
     "name": "stdout",
     "output_type": "stream",
     "text": [
      "a =  [[10], [2], [2]] ;\tb =  [[10], [2], [2]]\n"
     ]
    }
   ],
   "source": [
    "# A cp.copy() csak az adatszerkezet legfelső szintjén végez másolást.\n",
    "b[0][0] = 10\n",
    "print(\"a = \", a, \";\\tb = \", b)"
   ]
  },
  {
   "cell_type": "code",
   "execution_count": 21,
   "metadata": {
    "colab": {
     "base_uri": "https://localhost:8080/"
    },
    "executionInfo": {
     "elapsed": 1235,
     "status": "ok",
     "timestamp": 1684851976239,
     "user": {
      "displayName": "Piroska Dömötör",
      "userId": "03696721308245428945"
     },
     "user_tz": -120
    },
    "id": "6B1bOeSwqW27",
    "outputId": "2a4acd71-f2a0-4970-c2c2-fbf7511e4f4a"
   },
   "outputs": [
    {
     "name": "stdout",
     "output_type": "stream",
     "text": [
      "a =  [[1], [2], [3]] ;\tb =  [[10], [2], [3]]\n"
     ]
    }
   ],
   "source": [
    "# Mély másolat készítése egy listák listája objektumról.\n",
    "a = [[1], [2], [3]]\n",
    "b = cp.deepcopy(a)\n",
    "b[0][0] = 10\n",
    "print(\"a = \", a, \";\\tb = \", b)"
   ]
  },
  {
   "cell_type": "markdown",
   "metadata": {
    "id": "A6QmgPGXbftA"
   },
   "source": [
    "## NumPy csomag\n",
    "\n",
    "A [NumPy](http://www.numpy.org/) egy alacsony szintű matematikai csomag, numerikus számításokhoz.\n",
    "\n",
    "- Alapvető adatszerkezete az [n dimenziós tömb](https://docs.scipy.org/doc/numpy/reference/arrays.ndarray.html).  Így praktikus vektorokkal való számolásoknál. \n",
    "- C nyelven íródott. A szokásos tömbműveletek hatékonyan vannak benne megvalósítva.\n",
    "- Többek között tartalmaz lineáris algebrai és véletlenszám generáló almodult.\n",
    "- Számos magasabb szintű csomag (pl. scipy, matplotlib, pandas, scikit-learn) épül rá.\n",
    "\n",
    "A NumPy külső csomag. A Colab felületén ez is elérhető. \n",
    "\n",
    "De a saját gépünkön szükség van telepítésére. Többféle lehetőség van, például:\n",
    "- `pip install numpy --user`\n",
    "- `sudo apt-get install python3-numpy`\n",
    "- `conda install numpy`"
   ]
  },
  {
   "cell_type": "code",
   "execution_count": 22,
   "metadata": {
    "executionInfo": {
     "elapsed": 312,
     "status": "ok",
     "timestamp": 1684852141513,
     "user": {
      "displayName": "Piroska Dömötör",
      "userId": "03696721308245428945"
     },
     "user_tz": -120
    },
    "id": "67QTtTvcbftI"
   },
   "outputs": [],
   "source": [
    "# A NumPy modul importálása np néven.\n",
    "import numpy as np"
   ]
  },
  {
   "cell_type": "code",
   "execution_count": 23,
   "metadata": {
    "colab": {
     "base_uri": "https://localhost:8080/",
     "height": 35
    },
    "executionInfo": {
     "elapsed": 337,
     "status": "ok",
     "timestamp": 1684852208083,
     "user": {
      "displayName": "Piroska Dömötör",
      "userId": "03696721308245428945"
     },
     "user_tz": -120
    },
    "id": "Td8fceMBbftM",
    "outputId": "2f59792a-c42d-47ee-f29e-2f5457f7d83d"
   },
   "outputs": [
    {
     "data": {
      "text/plain": [
       "'1.23.4'"
      ]
     },
     "execution_count": 23,
     "metadata": {},
     "output_type": "execute_result"
    }
   ],
   "source": [
    "# Verzió lekérdezése.\n",
    "np.__version__"
   ]
  },
  {
   "cell_type": "markdown",
   "metadata": {
    "id": "Cdv1V9EGgFYH"
   },
   "source": [
    "### Állandók és függvények"
   ]
  },
  {
   "cell_type": "code",
   "execution_count": 24,
   "metadata": {
    "colab": {
     "base_uri": "https://localhost:8080/"
    },
    "executionInfo": {
     "elapsed": 671,
     "status": "ok",
     "timestamp": 1684852239556,
     "user": {
      "displayName": "Piroska Dömötör",
      "userId": "03696721308245428945"
     },
     "user_tz": -120
    },
    "id": "aJ5_H-fxhfLr",
    "outputId": "e5c58c27-2095-4978-da1d-d887ad2b73f6"
   },
   "outputs": [
    {
     "data": {
      "text/plain": [
       "(3.141592653589793, 2.718281828459045)"
      ]
     },
     "execution_count": 24,
     "metadata": {},
     "output_type": "execute_result"
    }
   ],
   "source": [
    "# Megvan a pi és az e állandó sok tizedes jegyre:  \n",
    "np.pi, np.e"
   ]
  },
  {
   "cell_type": "code",
   "execution_count": 25,
   "metadata": {
    "colab": {
     "base_uri": "https://localhost:8080/"
    },
    "executionInfo": {
     "elapsed": 262,
     "status": "ok",
     "timestamp": 1684852274893,
     "user": {
      "displayName": "Piroska Dömötör",
      "userId": "03696721308245428945"
     },
     "user_tz": -120
    },
    "id": "WADluXAMh6_M",
    "outputId": "390d6417-45c8-4d3c-8bf3-3d69cfbbc77c"
   },
   "outputs": [
    {
     "data": {
      "text/plain": [
       "0.7071067811865476"
      ]
     },
     "execution_count": 25,
     "metadata": {},
     "output_type": "execute_result"
    }
   ],
   "source": [
    "# cos(x) sin(x) trigonometrikus függvények\n",
    "np.cos(np.pi/4)"
   ]
  },
  {
   "cell_type": "code",
   "execution_count": 26,
   "metadata": {
    "colab": {
     "base_uri": "https://localhost:8080/"
    },
    "executionInfo": {
     "elapsed": 315,
     "status": "ok",
     "timestamp": 1684852313545,
     "user": {
      "displayName": "Piroska Dömötör",
      "userId": "03696721308245428945"
     },
     "user_tz": -120
    },
    "id": "nqfAahPMiD4R",
    "outputId": "38d2a253-fb3c-49fc-b55f-9af73350bc93"
   },
   "outputs": [
    {
     "data": {
      "text/plain": [
       "1.7320508075688772"
      ]
     },
     "execution_count": 26,
     "metadata": {},
     "output_type": "execute_result"
    }
   ],
   "source": [
    "# sqrt(x) gyökvonás    \n",
    "np.sqrt(3)"
   ]
  },
  {
   "cell_type": "code",
   "execution_count": 27,
   "metadata": {
    "colab": {
     "base_uri": "https://localhost:8080/"
    },
    "executionInfo": {
     "elapsed": 314,
     "status": "ok",
     "timestamp": 1684852391470,
     "user": {
      "displayName": "Piroska Dömötör",
      "userId": "03696721308245428945"
     },
     "user_tz": -120
    },
    "id": "zrtLKUlzhHsa",
    "outputId": "75e6213a-c401-4bee-b0ff-394718173118"
   },
   "outputs": [
    {
     "data": {
      "text/plain": [
       "6"
      ]
     },
     "execution_count": 27,
     "metadata": {},
     "output_type": "execute_result"
    }
   ],
   "source": [
    "# Van beépített függvény legnagyobb közös osztóra\n",
    "# greatest common divisor --> gcd() \n",
    "\n",
    "np.gcd(60,18)"
   ]
  },
  {
   "cell_type": "code",
   "execution_count": 36,
   "metadata": {
    "colab": {
     "base_uri": "https://localhost:8080/"
    },
    "executionInfo": {
     "elapsed": 415,
     "status": "ok",
     "timestamp": 1684852448816,
     "user": {
      "displayName": "Piroska Dömötör",
      "userId": "03696721308245428945"
     },
     "user_tz": -120
    },
    "id": "OghAV0sDB3PH",
    "outputId": "dd90144d-5667-4524-fa33-ded3df064e03"
   },
   "outputs": [
    {
     "name": "stdout",
     "output_type": "stream",
     "text": [
      "gcd(x1, x2, /, out=None, *, where=True, casting='same_kind', order='K', dtype=None, subok=True[, signature, extobj])\n",
      "\n",
      "Returns the greatest common divisor of ``|x1|`` and ``|x2|``\n",
      "\n",
      "Parameters\n",
      "----------\n",
      "x1, x2 : array_like, int\n",
      "    Arrays of values.\n",
      "    If ``x1.shape != x2.shape``, they must be broadcastable to a common\n",
      "    shape (which becomes the shape of the output).\n",
      "\n",
      "Returns\n",
      "-------\n",
      "y : ndarray or scalar\n",
      "    The greatest common divisor of the absolute value of the inputs\n",
      "    This is a scalar if both `x1` and `x2` are scalars.\n",
      "\n",
      "See Also\n",
      "--------\n",
      "lcm : The lowest common multiple\n",
      "\n",
      "Examples\n",
      "--------\n",
      ">>> np.gcd(12, 20)\n",
      "4\n",
      ">>> np.gcd.reduce([15, 25, 35])\n",
      "5\n",
      ">>> np.gcd(np.arange(6), 20)\n",
      "array([20,  1,  2,  1,  4,  5])\n"
     ]
    }
   ],
   "source": [
    "print(np.gcd.__doc__)"
   ]
  },
  {
   "cell_type": "markdown",
   "metadata": {
    "id": "biV8W8EXbftO"
   },
   "source": [
    "### Tömbök létrehozása"
   ]
  },
  {
   "cell_type": "markdown",
   "metadata": {},
   "source": [
    "#### Példa: egész számokból álló tömb létrehozása"
   ]
  },
  {
   "cell_type": "code",
   "execution_count": 83,
   "metadata": {
    "executionInfo": {
     "elapsed": 312,
     "status": "ok",
     "timestamp": 1684852534730,
     "user": {
      "displayName": "Piroska Dömötör",
      "userId": "03696721308245428945"
     },
     "user_tz": -120
    },
    "id": "9o6_9rz_bftP"
   },
   "outputs": [],
   "source": [
    "# egész számokból álló 1x3 tömb - SORVEKTOR\n",
    "a = np.array([2, 3, 4])"
   ]
  },
  {
   "cell_type": "code",
   "execution_count": 84,
   "metadata": {
    "colab": {
     "base_uri": "https://localhost:8080/"
    },
    "executionInfo": {
     "elapsed": 310,
     "status": "ok",
     "timestamp": 1684852558077,
     "user": {
      "displayName": "Piroska Dömötör",
      "userId": "03696721308245428945"
     },
     "user_tz": -120
    },
    "id": "IWu-5cvtCZqX",
    "outputId": "71798645-54aa-406a-8a86-6d8b5527d0d8"
   },
   "outputs": [
    {
     "name": "stdout",
     "output_type": "stream",
     "text": [
      "[2 3 4]\n"
     ]
    }
   ],
   "source": [
    "print(a)"
   ]
  },
  {
   "cell_type": "code",
   "execution_count": 85,
   "metadata": {
    "colab": {
     "base_uri": "https://localhost:8080/"
    },
    "executionInfo": {
     "elapsed": 319,
     "status": "ok",
     "timestamp": 1684852582666,
     "user": {
      "displayName": "Piroska Dömötör",
      "userId": "03696721308245428945"
     },
     "user_tz": -120
    },
    "id": "DtqBpL_tbftQ",
    "outputId": "5daf5b3f-8373-4583-bda2-2d081e73676b"
   },
   "outputs": [
    {
     "data": {
      "text/plain": [
       "numpy.ndarray"
      ]
     },
     "execution_count": 85,
     "metadata": {},
     "output_type": "execute_result"
    }
   ],
   "source": [
    "# A tömb objektum típusa.\n",
    "type(a)"
   ]
  },
  {
   "cell_type": "code",
   "execution_count": 86,
   "metadata": {},
   "outputs": [
    {
     "name": "stdout",
     "output_type": "stream",
     "text": [
      "[2 3 5]\n"
     ]
    }
   ],
   "source": [
    "# a tömb elemei módosíthatóak\n",
    "a[2] = 5\n",
    "print(a)"
   ]
  },
  {
   "cell_type": "markdown",
   "metadata": {},
   "source": [
    "#### Tömb jellemzők lekérdezése"
   ]
  },
  {
   "cell_type": "code",
   "execution_count": 56,
   "metadata": {
    "colab": {
     "base_uri": "https://localhost:8080/"
    },
    "executionInfo": {
     "elapsed": 1001,
     "status": "ok",
     "timestamp": 1684852601090,
     "user": {
      "displayName": "Piroska Dömötör",
      "userId": "03696721308245428945"
     },
     "user_tz": -120
    },
    "id": "D9XRqxmnbftR",
    "outputId": "7e7b3244-0f5b-4e54-f2a0-1660e71b954a"
   },
   "outputs": [
    {
     "data": {
      "text/plain": [
       "1"
      ]
     },
     "execution_count": 56,
     "metadata": {},
     "output_type": "execute_result"
    }
   ],
   "source": [
    "# Hány dimenziós a tömb?\n",
    "a.ndim"
   ]
  },
  {
   "cell_type": "code",
   "execution_count": 65,
   "metadata": {
    "colab": {
     "base_uri": "https://localhost:8080/"
    },
    "executionInfo": {
     "elapsed": 9,
     "status": "ok",
     "timestamp": 1684852624637,
     "user": {
      "displayName": "Piroska Dömötör",
      "userId": "03696721308245428945"
     },
     "user_tz": -120
    },
    "id": "Yxefq_EUbftR",
    "outputId": "d3fad82e-92d4-4984-ee1f-05e4d09ecace"
   },
   "outputs": [
    {
     "data": {
      "text/plain": [
       "(3,)"
      ]
     },
     "execution_count": 65,
     "metadata": {},
     "output_type": "execute_result"
    }
   ],
   "source": [
    "# A tömb alakja/mérete.\n",
    "a.shape"
   ]
  },
  {
   "cell_type": "code",
   "execution_count": 66,
   "metadata": {
    "colab": {
     "base_uri": "https://localhost:8080/"
    },
    "executionInfo": {
     "elapsed": 331,
     "status": "ok",
     "timestamp": 1684852643795,
     "user": {
      "displayName": "Piroska Dömötör",
      "userId": "03696721308245428945"
     },
     "user_tz": -120
    },
    "id": "FT9CaoE_CwIL",
    "outputId": "58df95b4-8002-4a8d-c7e3-a62a2d1747fb"
   },
   "outputs": [
    {
     "data": {
      "text/plain": [
       "3"
      ]
     },
     "execution_count": 66,
     "metadata": {},
     "output_type": "execute_result"
    }
   ],
   "source": [
    "len(a)"
   ]
  },
  {
   "cell_type": "code",
   "execution_count": 59,
   "metadata": {},
   "outputs": [
    {
     "data": {
      "text/plain": [
       "3"
      ]
     },
     "execution_count": 59,
     "metadata": {},
     "output_type": "execute_result"
    }
   ],
   "source": [
    "# összes elem \n",
    "a.size"
   ]
  },
  {
   "cell_type": "code",
   "execution_count": 60,
   "metadata": {
    "colab": {
     "base_uri": "https://localhost:8080/"
    },
    "executionInfo": {
     "elapsed": 316,
     "status": "ok",
     "timestamp": 1684852692016,
     "user": {
      "displayName": "Piroska Dömötör",
      "userId": "03696721308245428945"
     },
     "user_tz": -120
    },
    "id": "l9zKXhQqbftS",
    "outputId": "0acabc97-5847-46e9-cb45-8bb14358f802"
   },
   "outputs": [
    {
     "data": {
      "text/plain": [
       "dtype('int64')"
      ]
     },
     "execution_count": 60,
     "metadata": {},
     "output_type": "execute_result"
    }
   ],
   "source": [
    "# Az elemek típusának lekérdezése.\n",
    "# A NumPy tömbök homogének, azaz egyféle adatok vannak benne\n",
    "a.dtype"
   ]
  },
  {
   "cell_type": "markdown",
   "metadata": {},
   "source": [
    "**Feladat**: Hozzunk létre egy 2 x 3-as tömböt, valós számokkal\n",
    "\n",
    "Kérdezzük le a dimenziók számát, a tömb méretét, az elemek számát, az elemek típusát!\n"
   ]
  },
  {
   "cell_type": "code",
   "execution_count": 61,
   "metadata": {
    "executionInfo": {
     "elapsed": 308,
     "status": "ok",
     "timestamp": 1684852878177,
     "user": {
      "displayName": "Piroska Dömötör",
      "userId": "03696721308245428945"
     },
     "user_tz": -120
    },
    "id": "Szwn9H0ybftS"
   },
   "outputs": [],
   "source": [
    "# Hozzunk létre egy 2 x 3-as tömböt, valós számokkal\n",
    "b = np.array( [ [ 0.1, 0.2  , 4.5 ],\n",
    "                [4.44, 5.12 , np.pi]  ]  )"
   ]
  },
  {
   "cell_type": "code",
   "execution_count": 62,
   "metadata": {
    "colab": {
     "base_uri": "https://localhost:8080/"
    },
    "executionInfo": {
     "elapsed": 311,
     "status": "ok",
     "timestamp": 1684852886577,
     "user": {
      "displayName": "Piroska Dömötör",
      "userId": "03696721308245428945"
     },
     "user_tz": -120
    },
    "id": "4yX0UBDaDfCc",
    "outputId": "b3f48371-e3e8-4fd1-f161-6deb87a55601"
   },
   "outputs": [
    {
     "name": "stdout",
     "output_type": "stream",
     "text": [
      "[[0.1        0.2        4.5       ]\n",
      " [4.44       5.12       3.14159265]]\n"
     ]
    }
   ],
   "source": [
    "print(b)"
   ]
  },
  {
   "cell_type": "code",
   "execution_count": 64,
   "metadata": {
    "colab": {
     "base_uri": "https://localhost:8080/"
    },
    "executionInfo": {
     "elapsed": 390,
     "status": "ok",
     "timestamp": 1684852907778,
     "user": {
      "displayName": "Piroska Dömötör",
      "userId": "03696721308245428945"
     },
     "user_tz": -120
    },
    "id": "6ti6HUpFbftT",
    "outputId": "9b28b3c7-e79b-4b01-cf0c-6c0692653339"
   },
   "outputs": [
    {
     "data": {
      "text/plain": [
       "(2, 6, (2, 3), 2, dtype('float64'))"
      ]
     },
     "execution_count": 64,
     "metadata": {},
     "output_type": "execute_result"
    }
   ],
   "source": [
    "# Dimenziók száma, mérete, az elemek típusa.\n",
    "b.ndim, b.size, b.shape, len(b), b.dtype"
   ]
  },
  {
   "cell_type": "markdown",
   "metadata": {},
   "source": [
    "#### További módszerek tömb létrehozásra\n",
    "`genfromtxt()`; `zeros()`; `ones()`; `arange()`; `concatenate()`"
   ]
  },
  {
   "cell_type": "code",
   "execution_count": 50,
   "metadata": {
    "colab": {
     "base_uri": "https://localhost:8080/"
    },
    "executionInfo": {
     "elapsed": 322,
     "status": "ok",
     "timestamp": 1684853117905,
     "user": {
      "displayName": "Piroska Dömötör",
      "userId": "03696721308245428945"
     },
     "user_tz": -120
    },
    "id": "-mCLg7BXbftV",
    "outputId": "7ad66754-8bab-49a0-c10a-9efa248cef55"
   },
   "outputs": [
    {
     "data": {
      "text/plain": [
       "array([[1., 0., 1.],\n",
       "       [1., 1., 0.]])"
      ]
     },
     "execution_count": 50,
     "metadata": {},
     "output_type": "execute_result"
    }
   ],
   "source": [
    "# készítsünk  egy \"matrix.txt\" nevű fájlt 2 sorban 3 egész szám szóközzel elválasztva\n",
    "# majd olvassuk be a txt fájlt tömbként\n",
    "np.genfromtxt('matrix.txt')"
   ]
  },
  {
   "cell_type": "code",
   "execution_count": 51,
   "metadata": {
    "colab": {
     "base_uri": "https://localhost:8080/"
    },
    "executionInfo": {
     "elapsed": 410,
     "status": "ok",
     "timestamp": 1684853290343,
     "user": {
      "displayName": "Piroska Dömötör",
      "userId": "03696721308245428945"
     },
     "user_tz": -120
    },
    "id": "zuZh4mghbftW",
    "outputId": "701314e2-2f39-4fb8-82bd-5c435d1851f8"
   },
   "outputs": [
    {
     "data": {
      "text/plain": [
       "array([0., 0., 0., 0., 0., 0., 0.])"
      ]
     },
     "execution_count": 51,
     "metadata": {},
     "output_type": "execute_result"
    }
   ],
   "source": [
    "# Nullákból álló tömb létrehozása 1dimenziós\n",
    "np.zeros(7)"
   ]
  },
  {
   "cell_type": "code",
   "execution_count": 67,
   "metadata": {
    "colab": {
     "base_uri": "https://localhost:8080/"
    },
    "executionInfo": {
     "elapsed": 316,
     "status": "ok",
     "timestamp": 1684853309698,
     "user": {
      "displayName": "Piroska Dömötör",
      "userId": "03696721308245428945"
     },
     "user_tz": -120
    },
    "id": "DQF4z8JQFRY1",
    "outputId": "fc1e3eea-e4a9-4099-ffa7-ca4b991363a4"
   },
   "outputs": [
    {
     "data": {
      "text/plain": [
       "array([[0., 0., 0.],\n",
       "       [0., 0., 0.]])"
      ]
     },
     "execution_count": 67,
     "metadata": {},
     "output_type": "execute_result"
    }
   ],
   "source": [
    "# Nullákból álló tömb létrehozása többdimenziós\n",
    "np.zeros((2,3))"
   ]
  },
  {
   "cell_type": "code",
   "execution_count": 69,
   "metadata": {
    "colab": {
     "base_uri": "https://localhost:8080/"
    },
    "executionInfo": {
     "elapsed": 422,
     "status": "ok",
     "timestamp": 1684853333357,
     "user": {
      "displayName": "Piroska Dömötör",
      "userId": "03696721308245428945"
     },
     "user_tz": -120
    },
    "id": "deug0RfEbftW",
    "outputId": "df18178d-b62f-4aca-9d42-f983ba392dbb"
   },
   "outputs": [
    {
     "data": {
      "text/plain": [
       "array([[1.],\n",
       "       [1.],\n",
       "       [1.],\n",
       "       [1.],\n",
       "       [1.]])"
      ]
     },
     "execution_count": 69,
     "metadata": {},
     "output_type": "execute_result"
    }
   ],
   "source": [
    "# Egyesekből álló tömb létrehozása\n",
    "np.ones((5, 1))"
   ]
  },
  {
   "cell_type": "code",
   "execution_count": 54,
   "metadata": {
    "colab": {
     "base_uri": "https://localhost:8080/"
    },
    "executionInfo": {
     "elapsed": 717,
     "status": "ok",
     "timestamp": 1684853414041,
     "user": {
      "displayName": "Piroska Dömötör",
      "userId": "03696721308245428945"
     },
     "user_tz": -120
    },
    "id": "0jDxn_jXbftY",
    "outputId": "b2477443-ddf6-4df5-bc84-230d84a915ed"
   },
   "outputs": [
    {
     "data": {
      "text/plain": [
       "array([-5. , -4.5, -4. , -3.5, -3. , -2.5, -2. , -1.5, -1. , -0.5,  0. ,\n",
       "        0.5,  1. ,  1.5,  2. ,  2.5,  3. ,  3.5,  4. ,  4.5])"
      ]
     },
     "execution_count": 54,
     "metadata": {},
     "output_type": "execute_result"
    }
   ],
   "source": [
    "# Értéktartomány létrehozása a lépésköz megadásával.\n",
    "np.arange(-5, 5, 0.5)"
   ]
  },
  {
   "cell_type": "code",
   "execution_count": 55,
   "metadata": {
    "colab": {
     "base_uri": "https://localhost:8080/"
    },
    "executionInfo": {
     "elapsed": 306,
     "status": "ok",
     "timestamp": 1684853472411,
     "user": {
      "displayName": "Piroska Dömötör",
      "userId": "03696721308245428945"
     },
     "user_tz": -120
    },
    "id": "hjxKfMbWbftY",
    "outputId": "3e38cb09-fc59-4f97-f9ef-477776d494fe"
   },
   "outputs": [
    {
     "data": {
      "text/plain": [
       "array([ 2,  3, 44, 55, 66])"
      ]
     },
     "execution_count": 55,
     "metadata": {},
     "output_type": "execute_result"
    }
   ],
   "source": [
    "# Vektorok összefűzése.\n",
    "a = np.array([2, 3])\n",
    "b = np.array([44, 55, 66])\n",
    "np.concatenate([a, b])"
   ]
  },
  {
   "cell_type": "markdown",
   "metadata": {
    "id": "mi2f9mnEmzTU"
   },
   "source": [
    "### Másolás beépítve"
   ]
  },
  {
   "cell_type": "code",
   "execution_count": 70,
   "metadata": {
    "colab": {
     "base_uri": "https://localhost:8080/"
    },
    "executionInfo": {
     "elapsed": 279,
     "status": "ok",
     "timestamp": 1684853544502,
     "user": {
      "displayName": "Piroska Dömötör",
      "userId": "03696721308245428945"
     },
     "user_tz": -120
    },
    "id": "PKpNrXzWm1Ck",
    "outputId": "6f80cdf2-38b1-413f-9098-ad127671513a"
   },
   "outputs": [
    {
     "name": "stdout",
     "output_type": "stream",
     "text": [
      "a =  [1 2 3] ;\tb =  [1 2 3]\n",
      "a =  [1 2 3] ;\tb =  [10  2  3]\n"
     ]
    }
   ],
   "source": [
    "a = np.array([1,2,3])\n",
    "b = a.copy()\n",
    "print(\"a = \", a, \";\\tb = \", b)\n",
    "b [0] = 10\n",
    "print(\"a = \", a, \";\\tb = \", b)"
   ]
  },
  {
   "cell_type": "markdown",
   "metadata": {
    "id": "fVLo1jmzbftZ"
   },
   "source": [
    "### Elemek és résztömbök"
   ]
  },
  {
   "cell_type": "code",
   "execution_count": 88,
   "metadata": {
    "executionInfo": {
     "elapsed": 646,
     "status": "ok",
     "timestamp": 1684853580600,
     "user": {
      "displayName": "Piroska Dömötör",
      "userId": "03696721308245428945"
     },
     "user_tz": -120
    },
    "id": "ZpQD-bOlbfta"
   },
   "outputs": [],
   "source": [
    "# Hozzunk létre egy példamátrixot!\n",
    "a = np.array([[3, 4, 5],\n",
    "              [6, 7, 8]])"
   ]
  },
  {
   "cell_type": "code",
   "execution_count": 89,
   "metadata": {
    "colab": {
     "base_uri": "https://localhost:8080/"
    },
    "executionInfo": {
     "elapsed": 312,
     "status": "ok",
     "timestamp": 1684853629190,
     "user": {
      "displayName": "Piroska Dömötör",
      "userId": "03696721308245428945"
     },
     "user_tz": -120
    },
    "id": "BtoVG_BXbfta",
    "outputId": "7786940a-885a-4c85-baa8-f49fa704ca7a"
   },
   "outputs": [
    {
     "name": "stdout",
     "output_type": "stream",
     "text": [
      "2. sor 3. eleme 8\n"
     ]
    }
   ],
   "source": [
    "# Elem kiválasztása (az indexelés 0-tól indul).\n",
    "print(\"2. sor 3. eleme: \", a[1, 2])    # 1 a sorindex, 2 az oszlopindex"
   ]
  },
  {
   "cell_type": "code",
   "execution_count": 94,
   "metadata": {
    "colab": {
     "base_uri": "https://localhost:8080/"
    },
    "executionInfo": {
     "elapsed": 313,
     "status": "ok",
     "timestamp": 1684853675574,
     "user": {
      "displayName": "Piroska Dömötör",
      "userId": "03696721308245428945"
     },
     "user_tz": -120
    },
    "id": "Dcvm2-YVGj-I",
    "outputId": "27269959-6ff8-48e4-baff-536c76e6b964"
   },
   "outputs": [
    {
     "name": "stdout",
     "output_type": "stream",
     "text": [
      "1. sor 2. eleme:  4\n"
     ]
    }
   ],
   "source": [
    "print(\"1. sor 2. eleme: \", a[0, 1])"
   ]
  },
  {
   "cell_type": "code",
   "execution_count": 95,
   "metadata": {
    "colab": {
     "base_uri": "https://localhost:8080/"
    },
    "executionInfo": {
     "elapsed": 513,
     "status": "ok",
     "timestamp": 1684853695025,
     "user": {
      "displayName": "Piroska Dömötör",
      "userId": "03696721308245428945"
     },
     "user_tz": -120
    },
    "id": "JnZ0SyK7bftb",
    "outputId": "fcb2c4b5-efed-4b9d-8e67-cb218320aca6"
   },
   "outputs": [
    {
     "data": {
      "text/plain": [
       "array([6, 7, 8])"
      ]
     },
     "execution_count": 95,
     "metadata": {},
     "output_type": "execute_result"
    }
   ],
   "source": [
    "# Teljes sor kiválasztása.\n",
    "a[1,  ]"
   ]
  },
  {
   "cell_type": "code",
   "execution_count": 96,
   "metadata": {
    "colab": {
     "base_uri": "https://localhost:8080/"
    },
    "executionInfo": {
     "elapsed": 9,
     "status": "ok",
     "timestamp": 1684853704861,
     "user": {
      "displayName": "Piroska Dömötör",
      "userId": "03696721308245428945"
     },
     "user_tz": -120
    },
    "id": "XKx_pbH6bftb",
    "outputId": "de2094f8-a022-411a-a08c-3bff9a04ed10"
   },
   "outputs": [
    {
     "data": {
      "text/plain": [
       "array([6, 7, 8])"
      ]
     },
     "execution_count": 96,
     "metadata": {},
     "output_type": "execute_result"
    }
   ],
   "source": [
    "# Így is lehetne.\n",
    "a[1]"
   ]
  },
  {
   "cell_type": "code",
   "execution_count": 97,
   "metadata": {
    "colab": {
     "base_uri": "https://localhost:8080/"
    },
    "executionInfo": {
     "elapsed": 315,
     "status": "ok",
     "timestamp": 1684853741526,
     "user": {
      "displayName": "Piroska Dömötör",
      "userId": "03696721308245428945"
     },
     "user_tz": -120
    },
    "id": "x_PQ2e_7bftc",
    "outputId": "414d097d-6981-4736-af49-c12f19cabf53"
   },
   "outputs": [
    {
     "data": {
      "text/plain": [
       "array([4, 7])"
      ]
     },
     "execution_count": 97,
     "metadata": {},
     "output_type": "execute_result"
    }
   ],
   "source": [
    "# Oszlop kiválasztása.\n",
    "a[:, 1]"
   ]
  },
  {
   "cell_type": "code",
   "execution_count": 98,
   "metadata": {
    "colab": {
     "base_uri": "https://localhost:8080/"
    },
    "executionInfo": {
     "elapsed": 319,
     "status": "ok",
     "timestamp": 1684853812998,
     "user": {
      "displayName": "Piroska Dömötör",
      "userId": "03696721308245428945"
     },
     "user_tz": -120
    },
    "id": "NipSVw4ubftc",
    "outputId": "9a8984c9-3148-4de3-d8ac-c3a78c3974d1"
   },
   "outputs": [
    {
     "data": {
      "text/plain": [
       "array([[3, 5],\n",
       "       [6, 8]])"
      ]
     },
     "execution_count": 98,
     "metadata": {},
     "output_type": "execute_result"
    }
   ],
   "source": [
    "# Adott indexű oszlopok kiválasztása.\n",
    "a[:, [0, 2]]"
   ]
  },
  {
   "cell_type": "code",
   "execution_count": 99,
   "metadata": {
    "colab": {
     "base_uri": "https://localhost:8080/"
    },
    "executionInfo": {
     "elapsed": 436,
     "status": "ok",
     "timestamp": 1684853942649,
     "user": {
      "displayName": "Piroska Dömötör",
      "userId": "03696721308245428945"
     },
     "user_tz": -120
    },
    "id": "AzWWwlN6bftd",
    "outputId": "1fc9d54a-99ce-4f50-e070-0fcf29458dd4"
   },
   "outputs": [
    {
     "data": {
      "text/plain": [
       "array([4, 6, 8])"
      ]
     },
     "execution_count": 99,
     "metadata": {},
     "output_type": "execute_result"
    }
   ],
   "source": [
    "# Elemek kiválasztása logikai feltétel alapján.\n",
    "a[a % 2 == 0]     # páros elemek kiválasztása"
   ]
  },
  {
   "cell_type": "code",
   "execution_count": 100,
   "metadata": {
    "colab": {
     "base_uri": "https://localhost:8080/"
    },
    "executionInfo": {
     "elapsed": 518,
     "status": "ok",
     "timestamp": 1684853887749,
     "user": {
      "displayName": "Piroska Dömötör",
      "userId": "03696721308245428945"
     },
     "user_tz": -120
    },
    "id": "x2Uz4sahHgAL",
    "outputId": "57f0d22a-a8da-477c-e046-e5f5868cae4c"
   },
   "outputs": [
    {
     "data": {
      "text/plain": [
       "array([[False,  True, False],\n",
       "       [ True, False,  True]])"
      ]
     },
     "execution_count": 100,
     "metadata": {},
     "output_type": "execute_result"
    }
   ],
   "source": [
    "a % 2 == 0"
   ]
  },
  {
   "cell_type": "code",
   "execution_count": 101,
   "metadata": {
    "colab": {
     "base_uri": "https://localhost:8080/"
    },
    "executionInfo": {
     "elapsed": 268,
     "status": "ok",
     "timestamp": 1684853987027,
     "user": {
      "displayName": "Piroska Dömötör",
      "userId": "03696721308245428945"
     },
     "user_tz": -120
    },
    "id": "Wfa0kRyUHyRH",
    "outputId": "6e23127e-548b-4a51-88df-65b556a33485"
   },
   "outputs": [
    {
     "data": {
      "text/plain": [
       "array([6, 7, 8])"
      ]
     },
     "execution_count": 101,
     "metadata": {},
     "output_type": "execute_result"
    }
   ],
   "source": [
    "a[a > 5]"
   ]
  },
  {
   "cell_type": "code",
   "execution_count": 104,
   "metadata": {
    "colab": {
     "base_uri": "https://localhost:8080/"
    },
    "executionInfo": {
     "elapsed": 419,
     "status": "ok",
     "timestamp": 1684854075656,
     "user": {
      "displayName": "Piroska Dömötör",
      "userId": "03696721308245428945"
     },
     "user_tz": -120
    },
    "id": "cvT4YDbdbftd",
    "outputId": "6ea216b0-c051-4405-cf6f-fde63c6cf092"
   },
   "outputs": [
    {
     "data": {
      "text/plain": [
       "array([[  3,   4, 100],\n",
       "       [  6,   7,   8]])"
      ]
     },
     "execution_count": 104,
     "metadata": {},
     "output_type": "execute_result"
    }
   ],
   "source": [
    "# A tömb elemei módosíthatóak.\n",
    "a[0, -1] = 100\n",
    "a"
   ]
  },
  {
   "cell_type": "code",
   "execution_count": 75,
   "metadata": {
    "colab": {
     "base_uri": "https://localhost:8080/"
    },
    "executionInfo": {
     "elapsed": 311,
     "status": "ok",
     "timestamp": 1684854105453,
     "user": {
      "displayName": "Piroska Dömötör",
      "userId": "03696721308245428945"
     },
     "user_tz": -120
    },
    "id": "sr82dAKDIVtX",
    "outputId": "24c1307b-2574-4d7e-983e-641d0cfa307a"
   },
   "outputs": [
    {
     "data": {
      "text/plain": [
       "array([100,   8])"
      ]
     },
     "execution_count": 75,
     "metadata": {},
     "output_type": "execute_result"
    }
   ],
   "source": [
    "a[:, -1]"
   ]
  },
  {
   "cell_type": "code",
   "execution_count": 76,
   "metadata": {
    "colab": {
     "base_uri": "https://localhost:8080/"
    },
    "executionInfo": {
     "elapsed": 525,
     "status": "ok",
     "timestamp": 1684854135354,
     "user": {
      "displayName": "Piroska Dömötör",
      "userId": "03696721308245428945"
     },
     "user_tz": -120
    },
    "id": "uWv0mV6wbfte",
    "outputId": "c32e6833-30a2-48ca-dde6-1fca5902811b"
   },
   "outputs": [
    {
     "data": {
      "text/plain": [
       "array([[100,   4,  40],\n",
       "       [  6,   7,  70]])"
      ]
     },
     "execution_count": 76,
     "metadata": {},
     "output_type": "execute_result"
    }
   ],
   "source": [
    "# Oszlop módosítása.\n",
    "a[:, -1] = 40, 70\n",
    "a"
   ]
  },
  {
   "cell_type": "markdown",
   "metadata": {
    "id": "uKDcBH6Tbfte"
   },
   "source": [
    "### Vektor műveletek (Tömbműveletek) Koordinátánként"
   ]
  },
  {
   "cell_type": "code",
   "execution_count": 77,
   "metadata": {
    "executionInfo": {
     "elapsed": 1147,
     "status": "ok",
     "timestamp": 1684854195371,
     "user": {
      "displayName": "Piroska Dömötör",
      "userId": "03696721308245428945"
     },
     "user_tz": -120
    },
    "id": "o9AwI3XLbftf"
   },
   "outputs": [],
   "source": [
    "# Hozzunk létre 2 példatömböt!\n",
    "a = np.array([1, 7 ,3])\n",
    "b = np.array([1, 1, 1])"
   ]
  },
  {
   "cell_type": "code",
   "execution_count": 78,
   "metadata": {
    "colab": {
     "base_uri": "https://localhost:8080/"
    },
    "executionInfo": {
     "elapsed": 315,
     "status": "ok",
     "timestamp": 1684854209494,
     "user": {
      "displayName": "Piroska Dömötör",
      "userId": "03696721308245428945"
     },
     "user_tz": -120
    },
    "id": "2pTKUN05bftf",
    "outputId": "599acdea-4ea1-4611-c853-f36cdddd71f5"
   },
   "outputs": [
    {
     "data": {
      "text/plain": [
       "array([2, 8, 4])"
      ]
     },
     "execution_count": 78,
     "metadata": {},
     "output_type": "execute_result"
    }
   ],
   "source": [
    "# Elemenkénti összeadás.\n",
    "a + b"
   ]
  },
  {
   "cell_type": "code",
   "execution_count": 79,
   "metadata": {
    "colab": {
     "base_uri": "https://localhost:8080/"
    },
    "executionInfo": {
     "elapsed": 528,
     "status": "ok",
     "timestamp": 1684854253847,
     "user": {
      "displayName": "Piroska Dömötör",
      "userId": "03696721308245428945"
     },
     "user_tz": -120
    },
    "id": "3yu11Pmlbftf",
    "outputId": "7c4be203-3141-42fe-b8ae-8e7cf7cfe6a3"
   },
   "outputs": [
    {
     "data": {
      "text/plain": [
       "array([0, 6, 2])"
      ]
     },
     "execution_count": 79,
     "metadata": {},
     "output_type": "execute_result"
    }
   ],
   "source": [
    "# Elemenkénti kivonás.\n",
    "a - b"
   ]
  },
  {
   "cell_type": "code",
   "execution_count": 80,
   "metadata": {
    "colab": {
     "base_uri": "https://localhost:8080/"
    },
    "executionInfo": {
     "elapsed": 419,
     "status": "ok",
     "timestamp": 1684854271139,
     "user": {
      "displayName": "Piroska Dömötör",
      "userId": "03696721308245428945"
     },
     "user_tz": -120
    },
    "id": "idTJakJvdOOy",
    "outputId": "e4bc7d95-158f-4504-e350-f91e99d762fb"
   },
   "outputs": [
    {
     "data": {
      "text/plain": [
       "array([ 2, 14,  6])"
      ]
     },
     "execution_count": 80,
     "metadata": {},
     "output_type": "execute_result"
    }
   ],
   "source": [
    "# számmal szorzás \n",
    "2 * a"
   ]
  },
  {
   "cell_type": "code",
   "execution_count": 82,
   "metadata": {
    "colab": {
     "base_uri": "https://localhost:8080/"
    },
    "executionInfo": {
     "elapsed": 338,
     "status": "ok",
     "timestamp": 1684854325201,
     "user": {
      "displayName": "Piroska Dömötör",
      "userId": "03696721308245428945"
     },
     "user_tz": -120
    },
    "id": "IGY8e_wxbftf",
    "outputId": "c5bc38cc-242f-41bc-8d2c-4484da15bfca"
   },
   "outputs": [
    {
     "name": "stdout",
     "output_type": "stream",
     "text": [
      "[1 7 3] [1 1 1]\n"
     ]
    },
    {
     "data": {
      "text/plain": [
       "array([1, 7, 3])"
      ]
     },
     "execution_count": 82,
     "metadata": {},
     "output_type": "execute_result"
    }
   ],
   "source": [
    "# Elemenkénti szorzás.\n",
    "print(a,b)\n",
    "a*b"
   ]
  },
  {
   "cell_type": "code",
   "execution_count": 83,
   "metadata": {
    "colab": {
     "base_uri": "https://localhost:8080/"
    },
    "executionInfo": {
     "elapsed": 326,
     "status": "ok",
     "timestamp": 1684854355214,
     "user": {
      "displayName": "Piroska Dömötör",
      "userId": "03696721308245428945"
     },
     "user_tz": -120
    },
    "id": "EEvYHfAWbftg",
    "outputId": "5c1a77c8-4b48-4e68-b78b-34df1b54a708"
   },
   "outputs": [
    {
     "data": {
      "text/plain": [
       "array([1., 7., 3.])"
      ]
     },
     "execution_count": 83,
     "metadata": {},
     "output_type": "execute_result"
    }
   ],
   "source": [
    "# Elemenkénti osztás. \n",
    "a/b"
   ]
  },
  {
   "cell_type": "code",
   "execution_count": 85,
   "metadata": {
    "colab": {
     "base_uri": "https://localhost:8080/"
    },
    "executionInfo": {
     "elapsed": 335,
     "status": "ok",
     "timestamp": 1684854385416,
     "user": {
      "displayName": "Piroska Dömötör",
      "userId": "03696721308245428945"
     },
     "user_tz": -120
    },
    "id": "YRnPTQ8lbftg",
    "outputId": "cafda5ed-f188-4e60-c219-d54392c9b738"
   },
   "outputs": [
    {
     "data": {
      "text/plain": [
       "array([1, 0, 0])"
      ]
     },
     "execution_count": 85,
     "metadata": {},
     "output_type": "execute_result"
    }
   ],
   "source": [
    "# Elemenkénti egészosztás.\n",
    "b//a"
   ]
  },
  {
   "cell_type": "code",
   "execution_count": 86,
   "metadata": {
    "colab": {
     "base_uri": "https://localhost:8080/"
    },
    "executionInfo": {
     "elapsed": 427,
     "status": "ok",
     "timestamp": 1684854417274,
     "user": {
      "displayName": "Piroska Dömötör",
      "userId": "03696721308245428945"
     },
     "user_tz": -120
    },
    "id": "DtBkR8_Ibftg",
    "outputId": "5f56efd9-e129-4e8b-f83f-c4faa9bfa4d3"
   },
   "outputs": [
    {
     "data": {
      "text/plain": [
       "array([ 1, 49,  9])"
      ]
     },
     "execution_count": 86,
     "metadata": {},
     "output_type": "execute_result"
    }
   ],
   "source": [
    "# Elemenkénti hatványozás.\n",
    "a**2"
   ]
  },
  {
   "cell_type": "code",
   "execution_count": 87,
   "metadata": {
    "colab": {
     "base_uri": "https://localhost:8080/",
     "height": 206
    },
    "executionInfo": {
     "elapsed": 420,
     "status": "error",
     "timestamp": 1684854450347,
     "user": {
      "displayName": "Piroska Dömötör",
      "userId": "03696721308245428945"
     },
     "user_tz": -120
    },
    "id": "_3Wg6LZ_bfth",
    "outputId": "a7e1845f-eed0-43d2-c164-098556a5ddc7"
   },
   "outputs": [
    {
     "ename": "ValueError",
     "evalue": "ignored",
     "output_type": "error",
     "traceback": [
      "\u001b[0;31m---------------------------------------------------------------------------\u001b[0m",
      "\u001b[0;31mValueError\u001b[0m                                Traceback (most recent call last)",
      "\u001b[0;32m<ipython-input-87-52107b4937c9>\u001b[0m in \u001b[0;36m<cell line: 4>\u001b[0;34m()\u001b[0m\n\u001b[1;32m      2\u001b[0m \u001b[0mc\u001b[0m \u001b[0;34m=\u001b[0m \u001b[0mnp\u001b[0m\u001b[0;34m.\u001b[0m\u001b[0marray\u001b[0m\u001b[0;34m(\u001b[0m\u001b[0;34m[\u001b[0m\u001b[0;36m2\u001b[0m\u001b[0;34m,\u001b[0m \u001b[0;36m3\u001b[0m\u001b[0;34m,\u001b[0m \u001b[0;36m4\u001b[0m\u001b[0;34m]\u001b[0m\u001b[0;34m)\u001b[0m \u001b[0;31m# 3 hosszú tömb\u001b[0m\u001b[0;34m\u001b[0m\u001b[0;34m\u001b[0m\u001b[0m\n\u001b[1;32m      3\u001b[0m \u001b[0md\u001b[0m \u001b[0;34m=\u001b[0m \u001b[0mnp\u001b[0m\u001b[0;34m.\u001b[0m\u001b[0marray\u001b[0m\u001b[0;34m(\u001b[0m\u001b[0;34m[\u001b[0m\u001b[0;36m10\u001b[0m\u001b[0;34m,\u001b[0m \u001b[0;36m20\u001b[0m\u001b[0;34m]\u001b[0m\u001b[0;34m)\u001b[0m  \u001b[0;31m# 2 hosszú tömb\u001b[0m\u001b[0;34m\u001b[0m\u001b[0;34m\u001b[0m\u001b[0m\n\u001b[0;32m----> 4\u001b[0;31m \u001b[0mc\u001b[0m \u001b[0;34m+\u001b[0m \u001b[0md\u001b[0m\u001b[0;34m\u001b[0m\u001b[0;34m\u001b[0m\u001b[0m\n\u001b[0m",
      "\u001b[0;31mValueError\u001b[0m: operands could not be broadcast together with shapes (3,) (2,) "
     ]
    }
   ],
   "source": [
    "# A művelet nem feltétlenül végezhető el.\n",
    "c = np.array([2, 3, 4]) # 3 hosszú tömb\n",
    "d = np.array([10, 20])  # 2 hosszú tömb\n",
    "c + d"
   ]
  },
  {
   "cell_type": "code",
   "execution_count": null,
   "metadata": {
    "id": "KjpUB1KFbftr"
   },
   "outputs": [],
   "source": [
    "# Két vektor skaláris szorzata.\n",
    "a = np.array([3, 4, 5])\n",
    "b = np.array([2, 2, 2])\n",
    "a @ b"
   ]
  },
  {
   "cell_type": "markdown",
   "metadata": {},
   "source": [
    "### Függvények és tömbök"
   ]
  },
  {
   "cell_type": "code",
   "execution_count": 105,
   "metadata": {},
   "outputs": [],
   "source": [
    "# Hozzunk létre egy példamátrixot!\n",
    "a = np.array([[3, 4, 5],\n",
    "              [6, 7, 8]])"
   ]
  },
  {
   "cell_type": "code",
   "execution_count": 106,
   "metadata": {
    "colab": {
     "base_uri": "https://localhost:8080/"
    },
    "executionInfo": {
     "elapsed": 931,
     "status": "ok",
     "timestamp": 1684854943290,
     "user": {
      "displayName": "Piroska Dömötör",
      "userId": "03696721308245428945"
     },
     "user_tz": -120
    },
    "id": "KLoGVjlQbfth",
    "outputId": "56ef892d-530b-4ba9-f9eb-505a0d4a2336"
   },
   "outputs": [
    {
     "data": {
      "text/plain": [
       "array([[-0.9899925 , -0.65364362,  0.28366219],\n",
       "       [ 0.96017029,  0.75390225, -0.14550003]])"
      ]
     },
     "execution_count": 106,
     "metadata": {},
     "output_type": "execute_result"
    }
   ],
   "source": [
    "# Elemenkénti függvények (exp, log, sin, cos, ...).\n",
    "np.cos(a) # koszinusz"
   ]
  },
  {
   "cell_type": "code",
   "execution_count": 107,
   "metadata": {
    "id": "0Mb71C8tbfth"
   },
   "outputs": [
    {
     "data": {
      "text/plain": [
       "array([[1.09861229, 1.38629436, 1.60943791],\n",
       "       [1.79175947, 1.94591015, 2.07944154]])"
      ]
     },
     "execution_count": 107,
     "metadata": {},
     "output_type": "execute_result"
    }
   ],
   "source": [
    "np.log(a) # természetes alapú logaritmus"
   ]
  },
  {
   "cell_type": "code",
   "execution_count": 108,
   "metadata": {
    "colab": {
     "base_uri": "https://localhost:8080/"
    },
    "executionInfo": {
     "elapsed": 273,
     "status": "ok",
     "timestamp": 1684855046670,
     "user": {
      "displayName": "Piroska Dömötör",
      "userId": "03696721308245428945"
     },
     "user_tz": -120
    },
    "id": "jDQSb757jbrA",
    "outputId": "f0e98d27-58aa-4ad5-f7b2-6c1eb39e3447"
   },
   "outputs": [
    {
     "name": "stdout",
     "output_type": "stream",
     "text": [
      "2.25\n",
      "[[ 1  4  9]\n",
      " [16 25 36]]\n"
     ]
    }
   ],
   "source": [
    "# álltalunk megadott függvény is alkalmazható array-re:\n",
    "def f(x):\n",
    "    return (x-2)**2\n",
    "print(f(0.5))\n",
    "print(f(a))"
   ]
  },
  {
   "cell_type": "markdown",
   "metadata": {},
   "source": [
    "### Statisztikai műveletek (min, max, sum, mean, std).\n"
   ]
  },
  {
   "cell_type": "code",
   "execution_count": 109,
   "metadata": {},
   "outputs": [],
   "source": [
    "# Hozzunk létre egy példamátrixot!\n",
    "a = np.array([[3, 4, 5],\n",
    "              [6, 7, 8]])"
   ]
  },
  {
   "cell_type": "code",
   "execution_count": 110,
   "metadata": {
    "colab": {
     "base_uri": "https://localhost:8080/"
    },
    "executionInfo": {
     "elapsed": 311,
     "status": "ok",
     "timestamp": 1684855129875,
     "user": {
      "displayName": "Piroska Dömötör",
      "userId": "03696721308245428945"
     },
     "user_tz": -120
    },
    "id": "vsOpJKqgbfti",
    "outputId": "6a13a67c-2b78-403b-82b8-de766c95cbe7"
   },
   "outputs": [
    {
     "data": {
      "text/plain": [
       "33"
      ]
     },
     "execution_count": 110,
     "metadata": {},
     "output_type": "execute_result"
    }
   ],
   "source": [
    "a.sum()"
   ]
  },
  {
   "cell_type": "code",
   "execution_count": 111,
   "metadata": {
    "colab": {
     "base_uri": "https://localhost:8080/"
    },
    "executionInfo": {
     "elapsed": 1342,
     "status": "ok",
     "timestamp": 1684855157725,
     "user": {
      "displayName": "Piroska Dömötör",
      "userId": "03696721308245428945"
     },
     "user_tz": -120
    },
    "id": "FvBjny9TMTTk",
    "outputId": "6a597931-2040-4425-90e1-66e3f0713ccf"
   },
   "outputs": [
    {
     "data": {
      "text/plain": [
       "(3, 8)"
      ]
     },
     "execution_count": 111,
     "metadata": {},
     "output_type": "execute_result"
    }
   ],
   "source": [
    "a.min(), a.max()"
   ]
  },
  {
   "cell_type": "code",
   "execution_count": 112,
   "metadata": {
    "colab": {
     "base_uri": "https://localhost:8080/"
    },
    "executionInfo": {
     "elapsed": 322,
     "status": "ok",
     "timestamp": 1684855168782,
     "user": {
      "displayName": "Piroska Dömötör",
      "userId": "03696721308245428945"
     },
     "user_tz": -120
    },
    "id": "0EePnbFIMX1-",
    "outputId": "1b5e95c2-5fcf-4a22-db3e-741cf8017155"
   },
   "outputs": [
    {
     "data": {
      "text/plain": [
       "5.5"
      ]
     },
     "execution_count": 112,
     "metadata": {},
     "output_type": "execute_result"
    }
   ],
   "source": [
    "a.mean()"
   ]
  },
  {
   "cell_type": "code",
   "execution_count": 113,
   "metadata": {
    "colab": {
     "base_uri": "https://localhost:8080/"
    },
    "executionInfo": {
     "elapsed": 304,
     "status": "ok",
     "timestamp": 1684855226537,
     "user": {
      "displayName": "Piroska Dömötör",
      "userId": "03696721308245428945"
     },
     "user_tz": -120
    },
    "id": "5dVjkQXKwPu5",
    "outputId": "ba28489b-8620-4412-9b49-107ae49515dc"
   },
   "outputs": [
    {
     "data": {
      "text/plain": [
       "5"
      ]
     },
     "execution_count": 113,
     "metadata": {},
     "output_type": "execute_result"
    }
   ],
   "source": [
    "# minimum és maximum hely (argmin,argmax)\n",
    "a.argmax()"
   ]
  },
  {
   "cell_type": "markdown",
   "metadata": {},
   "source": [
    "### Keresés - np.where()"
   ]
  },
  {
   "cell_type": "code",
   "execution_count": 101,
   "metadata": {
    "colab": {
     "base_uri": "https://localhost:8080/"
    },
    "executionInfo": {
     "elapsed": 313,
     "status": "ok",
     "timestamp": 1684855306304,
     "user": {
      "displayName": "Piroska Dömötör",
      "userId": "03696721308245428945"
     },
     "user_tz": -120
    },
    "id": "7KheWdZRbftn",
    "outputId": "a0e7c170-d9d8-42ee-f81c-ec0f1d37808c"
   },
   "outputs": [
    {
     "name": "stdout",
     "output_type": "stream",
     "text": [
      "[3 4]\n"
     ]
    },
    {
     "data": {
      "text/plain": [
       "(array([0, 3]),)"
      ]
     },
     "execution_count": 101,
     "metadata": {},
     "output_type": "execute_result"
    }
   ],
   "source": [
    "# Példa: Mely indexeknél találhatók az 5-nél kisebb elemek?\n",
    "a = np.array([3, 10, 11, 4, 7, 8])\n",
    "\n",
    "print(a[a<5])\n",
    "np.where(a<5)"
   ]
  },
  {
   "cell_type": "markdown",
   "metadata": {},
   "source": [
    "### Rendezés"
   ]
  },
  {
   "cell_type": "code",
   "execution_count": 118,
   "metadata": {
    "colab": {
     "base_uri": "https://localhost:8080/"
    },
    "executionInfo": {
     "elapsed": 384,
     "status": "ok",
     "timestamp": 1684855329717,
     "user": {
      "displayName": "Piroska Dömötör",
      "userId": "03696721308245428945"
     },
     "user_tz": -120
    },
    "id": "1g-Kd0acbfto",
    "outputId": "ea70e9ff-d840-4b18-fe05-b3377c015fce"
   },
   "outputs": [],
   "source": [
    "# Rendezés helyben.\n",
    "a = np.array([3, 10, 11, 4, 7, 8])\n",
    "a.sort()"
   ]
  },
  {
   "cell_type": "code",
   "execution_count": 119,
   "metadata": {},
   "outputs": [
    {
     "name": "stdout",
     "output_type": "stream",
     "text": [
      "[ 3  4  7  8 10 11]\n"
     ]
    }
   ],
   "source": [
    "print(a)"
   ]
  },
  {
   "cell_type": "code",
   "execution_count": 121,
   "metadata": {
    "colab": {
     "base_uri": "https://localhost:8080/"
    },
    "executionInfo": {
     "elapsed": 315,
     "status": "ok",
     "timestamp": 1684855352380,
     "user": {
      "displayName": "Piroska Dömötör",
      "userId": "03696721308245428945"
     },
     "user_tz": -120
    },
    "id": "CTEdTsHabfto",
    "outputId": "6e6d4fe0-caae-490d-d20b-3e3e4d98631c"
   },
   "outputs": [
    {
     "data": {
      "text/plain": [
       "array([ 3,  4,  7,  8, 10, 11])"
      ]
     },
     "execution_count": 121,
     "metadata": {},
     "output_type": "execute_result"
    }
   ],
   "source": [
    "# Rendezés új tömbbe.\n",
    "a = np.array([3, 10, 11, 4, 7, 8])\n",
    "np.sort(a)"
   ]
  },
  {
   "cell_type": "code",
   "execution_count": 122,
   "metadata": {
    "colab": {
     "base_uri": "https://localhost:8080/"
    },
    "executionInfo": {
     "elapsed": 313,
     "status": "ok",
     "timestamp": 1684855405838,
     "user": {
      "displayName": "Piroska Dömötör",
      "userId": "03696721308245428945"
     },
     "user_tz": -120
    },
    "id": "k5vh9ApYbftp",
    "outputId": "8788f60d-bb34-4f37-c1f2-f8b58387769c"
   },
   "outputs": [
    {
     "data": {
      "text/plain": [
       "array([11, 10,  8,  7,  4,  3])"
      ]
     },
     "execution_count": 122,
     "metadata": {},
     "output_type": "execute_result"
    }
   ],
   "source": [
    "# Rendezés csökkenő sorrendbe.\n",
    "np.sort(a)[::-1]"
   ]
  },
  {
   "cell_type": "markdown",
   "metadata": {
    "id": "cLwnBVpbrFJc"
   },
   "source": [
    "## [Matplotlib](https://matplotlib.org/)\n",
    "\n",
    "A Matplotlib adatok ábrázolásához hasznos csomag.\n",
    "\n",
    "- Nyomdai minőségben testreszabható grafikon rajzolás\n",
    "- Sokféle képfájlként kimenthető eredmény\n",
    "- De animációt is lehet vele készíteni\n",
    "\n",
    "A Matplotlib is külső csomag. A Colab felületén ez is elérhető. \n",
    "\n",
    "De a saját gépünkön szükség van telepítésére. Többféle lehetőség van, például:\n",
    "- `pip install matplotlib --user`\n",
    "- `conda install -c conda-forge matplotlib`"
   ]
  },
  {
   "cell_type": "code",
   "execution_count": 124,
   "metadata": {
    "executionInfo": {
     "elapsed": 498,
     "status": "ok",
     "timestamp": 1684855598553,
     "user": {
      "displayName": "Piroska Dömötör",
      "userId": "03696721308245428945"
     },
     "user_tz": -120
    },
    "id": "pkED4aPfsYWH"
   },
   "outputs": [],
   "source": [
    "import matplotlib.pyplot as plt\n",
    "\n",
    "# Colab /Jupyter notebook speciális beállítás\n",
    "%matplotlib inline  "
   ]
  },
  {
   "cell_type": "code",
   "execution_count": 125,
   "metadata": {
    "colab": {
     "base_uri": "https://localhost:8080/",
     "height": 452
    },
    "executionInfo": {
     "elapsed": 684,
     "status": "ok",
     "timestamp": 1684855930697,
     "user": {
      "displayName": "Piroska Dömötör",
      "userId": "03696721308245428945"
     },
     "user_tz": -120
    },
    "id": "s8A2JdmNsjKQ",
    "outputId": "d1971289-9e86-4778-d965-a675ce4abb28"
   },
   "outputs": [
    {
     "data": {
      "image/png": "[encoded data removed]",
      "text/plain": [
       "<Figure size 432x288 with 1 Axes>"
      ]
     },
     "metadata": {
      "needs_background": "light"
     },
     "output_type": "display_data"
    }
   ],
   "source": [
    "# kreáljunk egy adatsort és plt.plot() függvénnyel rajzoljuk ki\n",
    "data = np.array([2,4,1,6,2,7,8,9] )\n",
    "# data.size\n",
    "\n",
    "plt.plot(data , \"x-\")\n",
    "plt.title(\"Eza  cím\")\n",
    "plt.show()\n"
   ]
  },
  {
   "cell_type": "markdown",
   "metadata": {
    "id": "EyMT5eZ1zIwO"
   },
   "source": [
    "# Alkalmazás: Gyorsulás adatok feldolgozása"
   ]
  },
  {
   "cell_type": "markdown",
   "metadata": {
    "id": "eJjT7FtCzIwS"
   },
   "source": [
    "Ez a notebook egy lift mozgása során a telefon gyorsulásmérőjével gyűjtött adatok \n",
    "- beolvasását, \n",
    "- ábrázolásást, \n",
    "- majd a pillanatnyi sebesség és helyzet kiszámítását tartalmazza"
   ]
  },
  {
   "cell_type": "markdown",
   "metadata": {
    "id": "_wI338aHzIwS"
   },
   "source": [
    "### Hogyan mozog, hely, sebesség és gyorsulás kapcsolata egyenes mentén"
   ]
  },
  {
   "cell_type": "markdown",
   "metadata": {
    "id": "ECNLiruLzIwT"
   },
   "source": [
    "**Hely adatok:** \n",
    " - Minden időpontban tudom a helykoordinátát: $x(t)$ függvény\n",
    " - Sok időpontban tudom a helykoordinátát (MÉRÉS): $x_i = x(t_i)$ adatok"
   ]
  },
  {
   "cell_type": "markdown",
   "metadata": {
    "id": "Qu3wqdPAzIwT"
   },
   "source": [
    "**Hely adatokból sebesség:** \n",
    " - Pillanatnyi sebesség $v(t)=\\dfrac{\\Delta x}{\\Delta t}=\\dfrac{x(t)-x(t-\\Delta t)}{\\Delta t}$, ahol $\\Delta t$ nagyon rövid.\n",
    " - Adatokkal $v_i=\\dfrac{x_i-x_{i-1}}{\\Delta t}$, ahol $\\Delta t$ kellően rövid"
   ]
  },
  {
   "cell_type": "markdown",
   "metadata": {
    "id": "5gvq1w_ozIwU"
   },
   "source": [
    "**Sebesség adatokból gyorsulás:** \n",
    " - Pillanatnyi gyorsulás $a(t)=\\dfrac{\\Delta v}{\\Delta t}=\\dfrac{v(t)-v(t-\\Delta t)}{\\Delta t}$, ahol $\\Delta t$ nagyon rövid.\n",
    " - Adatokkal $a_i=\\dfrac{v_i-v_{i-1}}{\\Delta t}$, ahol $\\Delta t$ kellően rövid"
   ]
  },
  {
   "cell_type": "markdown",
   "metadata": {
    "id": "kI-V-RtTzIwU"
   },
   "source": [
    "**Gyorsulás adatokból sebesség:** Az előző összefüggést átrendezve \n",
    " - Adatokkal $v_i= v_{i-1}+a_i\\cdot \\Delta t=v_{i-1}+a_i\\cdot (t_i-t_{i-1})$\n",
    "\n",
    "**Sebesség adatokból hely adat:**  teljesen hasonló számítással\n",
    " - Adatokkal $x_i= x_{i-1}+v_i\\cdot \\Delta t=x_{i-1}+v_i\\cdot (t_i-t_{i-1})$"
   ]
  },
  {
   "cell_type": "markdown",
   "metadata": {
    "id": "aFW8CMaUzIwU"
   },
   "source": [
    "### A szükséges csomagok importálása"
   ]
  },
  {
   "cell_type": "code",
   "execution_count": 2,
   "metadata": {
    "executionInfo": {
     "elapsed": 830,
     "status": "ok",
     "timestamp": 1685456171851,
     "user": {
      "displayName": "Piroska Dömötör",
      "userId": "03696721308245428945"
     },
     "user_tz": -120
    },
    "id": "UqD01fm9zIwV",
    "metadata": {}
   },
   "outputs": [],
   "source": [
    "import pandas as pd        # Pandas csomag - adatkezelés \n",
    "import numpy as np         # Numpy  csomag - numerikus számítások\n",
    "import matplotlib.pyplot as plt    # MatPlotLib - ábrázolás\n",
    "%matplotlib inline    "
   ]
  },
  {
   "cell_type": "markdown",
   "metadata": {
    "id": "mer6BdaqzIwW"
   },
   "source": [
    "### Fájl beolvasása \n",
    "Előtte győződjünk meg róla, hogy az aktuálisan használt könyvtárunkba már bemásoltuk a fájlt\n",
    " - A fájl letölthető innen: [Lift_gyorsulas_adatok_nyers.xlsx\"](https://docs.google.com/spreadsheets/d/1PaktxuC3vQzUHro_duL7rIVy2qx6YO6Q/edit?usp=drive_link&ouid=112348174761591399736&rtpof=true&sd=true)\n",
    "\n",
    "- pandas csomag ```read_excel()``` eljárása "
   ]
  },
  {
   "cell_type": "code",
   "execution_count": 2,
   "metadata": {
    "executionInfo": {
     "elapsed": 723,
     "status": "ok",
     "timestamp": 1685456243739,
     "user": {
      "displayName": "Piroska Dömötör",
      "userId": "03696721308245428945"
     },
     "user_tz": -120
    },
    "id": "wcBLetg1zIwX"
   },
   "outputs": [],
   "source": [
    "input_file=\"Lift_gyorsulas_adatok_nyers.xlsx\" \n",
    "\n",
    "adata = pd.read_excel(input_file)"
   ]
  },
  {
   "cell_type": "code",
   "execution_count": 3,
   "metadata": {
    "colab": {
     "base_uri": "https://localhost:8080/",
     "height": 423
    },
    "executionInfo": {
     "elapsed": 326,
     "status": "ok",
     "timestamp": 1685456255555,
     "user": {
      "displayName": "Piroska Dömötör",
      "userId": "03696721308245428945"
     },
     "user_tz": -120
    },
    "id": "KGEE12HEBVqn",
    "outputId": "d5d9e996-fa2e-4980-d91b-9e64fddab127"
   },
   "outputs": [
    {
     "data": {
      "text/html": [
       "<div>\n",
       "<style scoped>\n",
       "    .dataframe tbody tr th:only-of-type {\n",
       "        vertical-align: middle;\n",
       "    }\n",
       "\n",
       "    .dataframe tbody tr th {\n",
       "        vertical-align: top;\n",
       "    }\n",
       "\n",
       "    .dataframe thead th {\n",
       "        text-align: right;\n",
       "    }\n",
       "</style>\n",
       "<table border=\"1\" class=\"dataframe\">\n",
       "  <thead>\n",
       "    <tr style=\"text-align: right;\">\n",
       "      <th></th>\n",
       "      <th>Time (s)</th>\n",
       "      <th>Acceleration x (m/s^2)</th>\n",
       "      <th>Acceleration y (m/s^2)</th>\n",
       "      <th>Acceleration z (m/s^2)</th>\n",
       "      <th>Absolute acceleration (m/s^2)</th>\n",
       "    </tr>\n",
       "  </thead>\n",
       "  <tbody>\n",
       "    <tr>\n",
       "      <th>0</th>\n",
       "      <td>0.015842</td>\n",
       "      <td>0.099</td>\n",
       "      <td>-0.024</td>\n",
       "      <td>9.797</td>\n",
       "      <td>9.797530</td>\n",
       "    </tr>\n",
       "    <tr>\n",
       "      <th>1</th>\n",
       "      <td>0.020933</td>\n",
       "      <td>-0.015</td>\n",
       "      <td>0.052</td>\n",
       "      <td>9.969</td>\n",
       "      <td>9.969147</td>\n",
       "    </tr>\n",
       "    <tr>\n",
       "      <th>2</th>\n",
       "      <td>0.026023</td>\n",
       "      <td>0.118</td>\n",
       "      <td>0.052</td>\n",
       "      <td>9.912</td>\n",
       "      <td>9.912838</td>\n",
       "    </tr>\n",
       "    <tr>\n",
       "      <th>3</th>\n",
       "      <td>0.031113</td>\n",
       "      <td>0.060</td>\n",
       "      <td>0.032</td>\n",
       "      <td>9.988</td>\n",
       "      <td>9.988231</td>\n",
       "    </tr>\n",
       "    <tr>\n",
       "      <th>4</th>\n",
       "      <td>0.036203</td>\n",
       "      <td>0.099</td>\n",
       "      <td>0.109</td>\n",
       "      <td>9.912</td>\n",
       "      <td>9.913093</td>\n",
       "    </tr>\n",
       "    <tr>\n",
       "      <th>...</th>\n",
       "      <td>...</td>\n",
       "      <td>...</td>\n",
       "      <td>...</td>\n",
       "      <td>...</td>\n",
       "      <td>...</td>\n",
       "    </tr>\n",
       "    <tr>\n",
       "      <th>3298</th>\n",
       "      <td>16.800199</td>\n",
       "      <td>0.079</td>\n",
       "      <td>0.090</td>\n",
       "      <td>10.084</td>\n",
       "      <td>10.084711</td>\n",
       "    </tr>\n",
       "    <tr>\n",
       "      <th>3299</th>\n",
       "      <td>16.805289</td>\n",
       "      <td>0.079</td>\n",
       "      <td>0.052</td>\n",
       "      <td>9.816</td>\n",
       "      <td>9.816456</td>\n",
       "    </tr>\n",
       "    <tr>\n",
       "      <th>3300</th>\n",
       "      <td>16.810379</td>\n",
       "      <td>0.022</td>\n",
       "      <td>0.071</td>\n",
       "      <td>9.816</td>\n",
       "      <td>9.816281</td>\n",
       "    </tr>\n",
       "    <tr>\n",
       "      <th>3301</th>\n",
       "      <td>16.815469</td>\n",
       "      <td>0.099</td>\n",
       "      <td>0.013</td>\n",
       "      <td>9.893</td>\n",
       "      <td>9.893504</td>\n",
       "    </tr>\n",
       "    <tr>\n",
       "      <th>3302</th>\n",
       "      <td>16.820558</td>\n",
       "      <td>0.079</td>\n",
       "      <td>0.032</td>\n",
       "      <td>10.008</td>\n",
       "      <td>10.008363</td>\n",
       "    </tr>\n",
       "  </tbody>\n",
       "</table>\n",
       "<p>3303 rows × 5 columns</p>\n",
       "</div>"
      ],
      "text/plain": [
       "       Time (s)  Acceleration x (m/s^2)  Acceleration y (m/s^2)  \\\n",
       "0      0.015842                   0.099                  -0.024   \n",
       "1      0.020933                  -0.015                   0.052   \n",
       "2      0.026023                   0.118                   0.052   \n",
       "3      0.031113                   0.060                   0.032   \n",
       "4      0.036203                   0.099                   0.109   \n",
       "...         ...                     ...                     ...   \n",
       "3298  16.800199                   0.079                   0.090   \n",
       "3299  16.805289                   0.079                   0.052   \n",
       "3300  16.810379                   0.022                   0.071   \n",
       "3301  16.815469                   0.099                   0.013   \n",
       "3302  16.820558                   0.079                   0.032   \n",
       "\n",
       "      Acceleration z (m/s^2)  Absolute acceleration (m/s^2)  \n",
       "0                      9.797                       9.797530  \n",
       "1                      9.969                       9.969147  \n",
       "2                      9.912                       9.912838  \n",
       "3                      9.988                       9.988231  \n",
       "4                      9.912                       9.913093  \n",
       "...                      ...                            ...  \n",
       "3298                  10.084                      10.084711  \n",
       "3299                   9.816                       9.816456  \n",
       "3300                   9.816                       9.816281  \n",
       "3301                   9.893                       9.893504  \n",
       "3302                  10.008                      10.008363  \n",
       "\n",
       "[3303 rows x 5 columns]"
      ]
     },
     "execution_count": 3,
     "metadata": {},
     "output_type": "execute_result"
    }
   ],
   "source": [
    "adata"
   ]
  },
  {
   "cell_type": "markdown",
   "metadata": {
    "id": "XcucSKYlzIwX"
   },
   "source": [
    "#### A beolvasott adatok DataFrame-je\n",
    "- ```.head()``` és ```.tail()``` segít az adatok egy részét megjeleníteni\n",
    "- síma ```[ : ]``` is működik most, de jobb az ```.iloc[ : ]```"
   ]
  },
  {
   "cell_type": "code",
   "execution_count": 4,
   "metadata": {
    "colab": {
     "base_uri": "https://localhost:8080/",
     "height": 363
    },
    "executionInfo": {
     "elapsed": 338,
     "status": "ok",
     "timestamp": 1685456481001,
     "user": {
      "displayName": "Piroska Dömötör",
      "userId": "03696721308245428945"
     },
     "user_tz": -120
    },
    "id": "85pPcPyJzIwX",
    "outputId": "c7f284bb-2b73-4c3c-ccda-9fefeef8d233"
   },
   "outputs": [
    {
     "data": {
      "text/html": [
       "<div>\n",
       "<style scoped>\n",
       "    .dataframe tbody tr th:only-of-type {\n",
       "        vertical-align: middle;\n",
       "    }\n",
       "\n",
       "    .dataframe tbody tr th {\n",
       "        vertical-align: top;\n",
       "    }\n",
       "\n",
       "    .dataframe thead th {\n",
       "        text-align: right;\n",
       "    }\n",
       "</style>\n",
       "<table border=\"1\" class=\"dataframe\">\n",
       "  <thead>\n",
       "    <tr style=\"text-align: right;\">\n",
       "      <th></th>\n",
       "      <th>Time (s)</th>\n",
       "      <th>Acceleration x (m/s^2)</th>\n",
       "      <th>Acceleration y (m/s^2)</th>\n",
       "      <th>Acceleration z (m/s^2)</th>\n",
       "      <th>Absolute acceleration (m/s^2)</th>\n",
       "    </tr>\n",
       "  </thead>\n",
       "  <tbody>\n",
       "    <tr>\n",
       "      <th>0</th>\n",
       "      <td>0.015842</td>\n",
       "      <td>0.099</td>\n",
       "      <td>-0.024</td>\n",
       "      <td>9.797</td>\n",
       "      <td>9.797530</td>\n",
       "    </tr>\n",
       "    <tr>\n",
       "      <th>1</th>\n",
       "      <td>0.020933</td>\n",
       "      <td>-0.015</td>\n",
       "      <td>0.052</td>\n",
       "      <td>9.969</td>\n",
       "      <td>9.969147</td>\n",
       "    </tr>\n",
       "    <tr>\n",
       "      <th>2</th>\n",
       "      <td>0.026023</td>\n",
       "      <td>0.118</td>\n",
       "      <td>0.052</td>\n",
       "      <td>9.912</td>\n",
       "      <td>9.912838</td>\n",
       "    </tr>\n",
       "    <tr>\n",
       "      <th>3</th>\n",
       "      <td>0.031113</td>\n",
       "      <td>0.060</td>\n",
       "      <td>0.032</td>\n",
       "      <td>9.988</td>\n",
       "      <td>9.988231</td>\n",
       "    </tr>\n",
       "    <tr>\n",
       "      <th>4</th>\n",
       "      <td>0.036203</td>\n",
       "      <td>0.099</td>\n",
       "      <td>0.109</td>\n",
       "      <td>9.912</td>\n",
       "      <td>9.913093</td>\n",
       "    </tr>\n",
       "    <tr>\n",
       "      <th>5</th>\n",
       "      <td>0.041294</td>\n",
       "      <td>0.003</td>\n",
       "      <td>0.071</td>\n",
       "      <td>9.893</td>\n",
       "      <td>9.893255</td>\n",
       "    </tr>\n",
       "    <tr>\n",
       "      <th>6</th>\n",
       "      <td>0.046384</td>\n",
       "      <td>0.099</td>\n",
       "      <td>0.128</td>\n",
       "      <td>9.873</td>\n",
       "      <td>9.874326</td>\n",
       "    </tr>\n",
       "    <tr>\n",
       "      <th>7</th>\n",
       "      <td>0.051475</td>\n",
       "      <td>0.118</td>\n",
       "      <td>0.128</td>\n",
       "      <td>10.008</td>\n",
       "      <td>10.009514</td>\n",
       "    </tr>\n",
       "    <tr>\n",
       "      <th>8</th>\n",
       "      <td>0.056565</td>\n",
       "      <td>0.099</td>\n",
       "      <td>-0.024</td>\n",
       "      <td>9.835</td>\n",
       "      <td>9.835528</td>\n",
       "    </tr>\n",
       "    <tr>\n",
       "      <th>9</th>\n",
       "      <td>0.061654</td>\n",
       "      <td>0.003</td>\n",
       "      <td>0.109</td>\n",
       "      <td>9.873</td>\n",
       "      <td>9.873602</td>\n",
       "    </tr>\n",
       "  </tbody>\n",
       "</table>\n",
       "</div>"
      ],
      "text/plain": [
       "   Time (s)  Acceleration x (m/s^2)  Acceleration y (m/s^2)  \\\n",
       "0  0.015842                   0.099                  -0.024   \n",
       "1  0.020933                  -0.015                   0.052   \n",
       "2  0.026023                   0.118                   0.052   \n",
       "3  0.031113                   0.060                   0.032   \n",
       "4  0.036203                   0.099                   0.109   \n",
       "5  0.041294                   0.003                   0.071   \n",
       "6  0.046384                   0.099                   0.128   \n",
       "7  0.051475                   0.118                   0.128   \n",
       "8  0.056565                   0.099                  -0.024   \n",
       "9  0.061654                   0.003                   0.109   \n",
       "\n",
       "   Acceleration z (m/s^2)  Absolute acceleration (m/s^2)  \n",
       "0                   9.797                       9.797530  \n",
       "1                   9.969                       9.969147  \n",
       "2                   9.912                       9.912838  \n",
       "3                   9.988                       9.988231  \n",
       "4                   9.912                       9.913093  \n",
       "5                   9.893                       9.893255  \n",
       "6                   9.873                       9.874326  \n",
       "7                  10.008                      10.009514  \n",
       "8                   9.835                       9.835528  \n",
       "9                   9.873                       9.873602  "
      ]
     },
     "execution_count": 4,
     "metadata": {},
     "output_type": "execute_result"
    }
   ],
   "source": [
    "adata.iloc[0:10]"
   ]
  },
  {
   "cell_type": "markdown",
   "metadata": {
    "id": "r6J6w0b4zIwY"
   },
   "source": [
    "#### A beolvasott adatok néhány jellemzője:\n",
    "- ```.shape``` --  méretek\n",
    "- ```.columns``` -- oszlop nevek\n",
    "- ```.dtypes``` -- oszlopok adatípusai\n",
    "- ```.describe()```  -- statisztikai jellemzők"
   ]
  },
  {
   "cell_type": "code",
   "execution_count": 5,
   "metadata": {
    "colab": {
     "base_uri": "https://localhost:8080/"
    },
    "executionInfo": {
     "elapsed": 312,
     "status": "ok",
     "timestamp": 1685456959342,
     "user": {
      "displayName": "Piroska Dömötör",
      "userId": "03696721308245428945"
     },
     "user_tz": -120
    },
    "id": "jQ0G9k2vzIwY",
    "outputId": "97d8e023-adf7-4164-e1c0-c1e78af1472c"
   },
   "outputs": [
    {
     "data": {
      "text/plain": [
       "3303"
      ]
     },
     "execution_count": 5,
     "metadata": {},
     "output_type": "execute_result"
    }
   ],
   "source": [
    "# méretek\n",
    "len(adata)"
   ]
  },
  {
   "cell_type": "code",
   "execution_count": 6,
   "metadata": {
    "id": "dxoug1mNzIwY"
   },
   "outputs": [
    {
     "data": {
      "text/html": [
       "<div>\n",
       "<style scoped>\n",
       "    .dataframe tbody tr th:only-of-type {\n",
       "        vertical-align: middle;\n",
       "    }\n",
       "\n",
       "    .dataframe tbody tr th {\n",
       "        vertical-align: top;\n",
       "    }\n",
       "\n",
       "    .dataframe thead th {\n",
       "        text-align: right;\n",
       "    }\n",
       "</style>\n",
       "<table border=\"1\" class=\"dataframe\">\n",
       "  <thead>\n",
       "    <tr style=\"text-align: right;\">\n",
       "      <th></th>\n",
       "      <th>Time (s)</th>\n",
       "      <th>Acceleration x (m/s^2)</th>\n",
       "      <th>Acceleration y (m/s^2)</th>\n",
       "      <th>Acceleration z (m/s^2)</th>\n",
       "      <th>Absolute acceleration (m/s^2)</th>\n",
       "    </tr>\n",
       "  </thead>\n",
       "  <tbody>\n",
       "    <tr>\n",
       "      <th>count</th>\n",
       "      <td>3303.000000</td>\n",
       "      <td>3303.000000</td>\n",
       "      <td>3303.000000</td>\n",
       "      <td>3303.000000</td>\n",
       "      <td>3303.000000</td>\n",
       "    </tr>\n",
       "    <tr>\n",
       "      <th>mean</th>\n",
       "      <td>8.418001</td>\n",
       "      <td>0.076068</td>\n",
       "      <td>0.078240</td>\n",
       "      <td>9.896643</td>\n",
       "      <td>9.897527</td>\n",
       "    </tr>\n",
       "    <tr>\n",
       "      <th>std</th>\n",
       "      <td>4.853175</td>\n",
       "      <td>0.047409</td>\n",
       "      <td>0.057631</td>\n",
       "      <td>0.251682</td>\n",
       "      <td>0.251619</td>\n",
       "    </tr>\n",
       "    <tr>\n",
       "      <th>min</th>\n",
       "      <td>0.015842</td>\n",
       "      <td>-0.150000</td>\n",
       "      <td>-0.196000</td>\n",
       "      <td>7.843000</td>\n",
       "      <td>7.848925</td>\n",
       "    </tr>\n",
       "    <tr>\n",
       "      <th>25%</th>\n",
       "      <td>4.217066</td>\n",
       "      <td>0.041000</td>\n",
       "      <td>0.032000</td>\n",
       "      <td>9.835000</td>\n",
       "      <td>9.835584</td>\n",
       "    </tr>\n",
       "    <tr>\n",
       "      <th>50%</th>\n",
       "      <td>8.417952</td>\n",
       "      <td>0.079000</td>\n",
       "      <td>0.071000</td>\n",
       "      <td>9.893000</td>\n",
       "      <td>9.894010</td>\n",
       "    </tr>\n",
       "    <tr>\n",
       "      <th>75%</th>\n",
       "      <td>12.618917</td>\n",
       "      <td>0.099000</td>\n",
       "      <td>0.109000</td>\n",
       "      <td>9.969000</td>\n",
       "      <td>9.969316</td>\n",
       "    </tr>\n",
       "    <tr>\n",
       "      <th>max</th>\n",
       "      <td>16.820558</td>\n",
       "      <td>0.252000</td>\n",
       "      <td>0.473000</td>\n",
       "      <td>10.601000</td>\n",
       "      <td>10.601933</td>\n",
       "    </tr>\n",
       "  </tbody>\n",
       "</table>\n",
       "</div>"
      ],
      "text/plain": [
       "          Time (s)  Acceleration x (m/s^2)  Acceleration y (m/s^2)  \\\n",
       "count  3303.000000             3303.000000             3303.000000   \n",
       "mean      8.418001                0.076068                0.078240   \n",
       "std       4.853175                0.047409                0.057631   \n",
       "min       0.015842               -0.150000               -0.196000   \n",
       "25%       4.217066                0.041000                0.032000   \n",
       "50%       8.417952                0.079000                0.071000   \n",
       "75%      12.618917                0.099000                0.109000   \n",
       "max      16.820558                0.252000                0.473000   \n",
       "\n",
       "       Acceleration z (m/s^2)  Absolute acceleration (m/s^2)  \n",
       "count             3303.000000                    3303.000000  \n",
       "mean                 9.896643                       9.897527  \n",
       "std                  0.251682                       0.251619  \n",
       "min                  7.843000                       7.848925  \n",
       "25%                  9.835000                       9.835584  \n",
       "50%                  9.893000                       9.894010  \n",
       "75%                  9.969000                       9.969316  \n",
       "max                 10.601000                      10.601933  "
      ]
     },
     "execution_count": 6,
     "metadata": {},
     "output_type": "execute_result"
    }
   ],
   "source": [
    "# összefoglaló\n",
    "adata.describe()"
   ]
  },
  {
   "cell_type": "code",
   "execution_count": 9,
   "metadata": {
    "colab": {
     "base_uri": "https://localhost:8080/"
    },
    "executionInfo": {
     "elapsed": 327,
     "status": "ok",
     "timestamp": 1685456923296,
     "user": {
      "displayName": "Piroska Dömötör",
      "userId": "03696721308245428945"
     },
     "user_tz": -120
    },
    "id": "flHsVIwVzIwY",
    "outputId": "834db5a6-a078-490f-94ba-d1383d6b8b31"
   },
   "outputs": [
    {
     "data": {
      "text/plain": [
       "Index(['Time (s)', 'Acceleration x (m/s^2)', 'Acceleration y (m/s^2)',\n",
       "       'Acceleration z (m/s^2)', 'Absolute acceleration (m/s^2)'],\n",
       "      dtype='object')"
      ]
     },
     "execution_count": 9,
     "metadata": {},
     "output_type": "execute_result"
    }
   ],
   "source": [
    "# oszlopnevek\n",
    "adata.columns"
   ]
  },
  {
   "cell_type": "code",
   "execution_count": 8,
   "metadata": {
    "colab": {
     "base_uri": "https://localhost:8080/"
    },
    "executionInfo": {
     "elapsed": 298,
     "status": "ok",
     "timestamp": 1685456854702,
     "user": {
      "displayName": "Piroska Dömötör",
      "userId": "03696721308245428945"
     },
     "user_tz": -120
    },
    "id": "RnYEo9gMzIwZ",
    "outputId": "908090b7-69e3-44de-939c-f9129dc823cc"
   },
   "outputs": [
    {
     "data": {
      "text/plain": [
       "Time (s)                         float64\n",
       "Acceleration x (m/s^2)           float64\n",
       "Acceleration y (m/s^2)           float64\n",
       "Acceleration z (m/s^2)           float64\n",
       "Absolute acceleration (m/s^2)    float64\n",
       "dtype: object"
      ]
     },
     "execution_count": 8,
     "metadata": {},
     "output_type": "execute_result"
    }
   ],
   "source": [
    "  # adatípusok  \n",
    "adata.dtypes   "
   ]
  },
  {
   "cell_type": "markdown",
   "metadata": {
    "id": "D1gYqUiCzIwZ"
   },
   "source": [
    "#### Nevezzük át az oszlopkat használhatóbb (rövidebb, nem szóközös) nevekre\n",
    "szótárral érdemes magadni a kapcsolatot az új és a régi oszlop nevek közt\n",
    " - ```.rename(columns = ...)```\n",
    " - ```inplace = True``` kulcs paraméter igazra állítva ezzel át is írja az adatokat"
   ]
  },
  {
   "cell_type": "code",
   "execution_count": 11,
   "metadata": {
    "executionInfo": {
     "elapsed": 271,
     "status": "ok",
     "timestamp": 1685457072756,
     "user": {
      "displayName": "Piroska Dömötör",
      "userId": "03696721308245428945"
     },
     "user_tz": -120
    },
    "id": "7mYdAuq4zIwZ"
   },
   "outputs": [],
   "source": [
    "# új oszlopnevek listája\n",
    "uj_oszlop = [\"t\", \"ax\", \"ay\", \"az\", \"aabs\"]"
   ]
  },
  {
   "cell_type": "code",
   "execution_count": 18,
   "metadata": {
    "colab": {
     "base_uri": "https://localhost:8080/"
    },
    "executionInfo": {
     "elapsed": 321,
     "status": "ok",
     "timestamp": 1685457346934,
     "user": {
      "displayName": "Piroska Dömötör",
      "userId": "03696721308245428945"
     },
     "user_tz": -120
    },
    "id": "t2sY6U9bzIwa",
    "outputId": "defb2038-fc2e-42c0-ba43-7d71fcc9c406"
   },
   "outputs": [
    {
     "data": {
      "text/plain": [
       "{'Time (s)': 't',\n",
       " 'Acceleration x (m/s^2)': 'ax',\n",
       " 'Acceleration y (m/s^2)': 'ay',\n",
       " 'Acceleration z (m/s^2)': 'az',\n",
       " 'Absolute acceleration (m/s^2)': 'aabs'}"
      ]
     },
     "execution_count": 18,
     "metadata": {},
     "output_type": "execute_result"
    }
   ],
   "source": [
    "# érdemes a zippelést használni a szótár előállításáshoz:\n",
    "atnevez = dict(zip(adata.columns, uj_oszlop))\n",
    "atnevez"
   ]
  },
  {
   "cell_type": "code",
   "execution_count": 21,
   "metadata": {
    "executionInfo": {
     "elapsed": 308,
     "status": "ok",
     "timestamp": 1685457409573,
     "user": {
      "displayName": "Piroska Dömötör",
      "userId": "03696721308245428945"
     },
     "user_tz": -120
    },
    "id": "nVIUIJNIzIwa"
   },
   "outputs": [],
   "source": [
    "# átnevezés\n",
    "adata.rename(columns = atnevez, inplace = True)"
   ]
  },
  {
   "cell_type": "code",
   "execution_count": 22,
   "metadata": {
    "colab": {
     "base_uri": "https://localhost:8080/",
     "height": 423
    },
    "executionInfo": {
     "elapsed": 422,
     "status": "ok",
     "timestamp": 1685457415646,
     "user": {
      "displayName": "Piroska Dömötör",
      "userId": "03696721308245428945"
     },
     "user_tz": -120
    },
    "id": "qfm60HsEFqah",
    "outputId": "0b7ac47f-2fba-4918-8a99-0feaac473c53"
   },
   "outputs": [
    {
     "data": {
      "text/html": [
       "\n",
       "  <div id=\"df-d766a13a-d959-4f49-9bfb-4a2d9eb3867f\">\n",
       "    <div class=\"colab-df-container\">\n",
       "      <div>\n",
       "<style scoped>\n",
       "    .dataframe tbody tr th:only-of-type {\n",
       "        vertical-align: middle;\n",
       "    }\n",
       "\n",
       "    .dataframe tbody tr th {\n",
       "        vertical-align: top;\n",
       "    }\n",
       "\n",
       "    .dataframe thead th {\n",
       "        text-align: right;\n",
       "    }\n",
       "</style>\n",
       "<table border=\"1\" class=\"dataframe\">\n",
       "  <thead>\n",
       "    <tr style=\"text-align: right;\">\n",
       "      <th></th>\n",
       "      <th>t</th>\n",
       "      <th>ax</th>\n",
       "      <th>ay</th>\n",
       "      <th>az</th>\n",
       "      <th>aabs</th>\n",
       "    </tr>\n",
       "  </thead>\n",
       "  <tbody>\n",
       "    <tr>\n",
       "      <th>0</th>\n",
       "      <td>0.015842</td>\n",
       "      <td>0.099</td>\n",
       "      <td>-0.024</td>\n",
       "      <td>9.797</td>\n",
       "      <td>9.797530</td>\n",
       "    </tr>\n",
       "    <tr>\n",
       "      <th>1</th>\n",
       "      <td>0.020933</td>\n",
       "      <td>-0.015</td>\n",
       "      <td>0.052</td>\n",
       "      <td>9.969</td>\n",
       "      <td>9.969147</td>\n",
       "    </tr>\n",
       "    <tr>\n",
       "      <th>2</th>\n",
       "      <td>0.026023</td>\n",
       "      <td>0.118</td>\n",
       "      <td>0.052</td>\n",
       "      <td>9.912</td>\n",
       "      <td>9.912838</td>\n",
       "    </tr>\n",
       "    <tr>\n",
       "      <th>3</th>\n",
       "      <td>0.031113</td>\n",
       "      <td>0.060</td>\n",
       "      <td>0.032</td>\n",
       "      <td>9.988</td>\n",
       "      <td>9.988231</td>\n",
       "    </tr>\n",
       "    <tr>\n",
       "      <th>4</th>\n",
       "      <td>0.036203</td>\n",
       "      <td>0.099</td>\n",
       "      <td>0.109</td>\n",
       "      <td>9.912</td>\n",
       "      <td>9.913093</td>\n",
       "    </tr>\n",
       "    <tr>\n",
       "      <th>...</th>\n",
       "      <td>...</td>\n",
       "      <td>...</td>\n",
       "      <td>...</td>\n",
       "      <td>...</td>\n",
       "      <td>...</td>\n",
       "    </tr>\n",
       "    <tr>\n",
       "      <th>3298</th>\n",
       "      <td>16.800199</td>\n",
       "      <td>0.079</td>\n",
       "      <td>0.090</td>\n",
       "      <td>10.084</td>\n",
       "      <td>10.084711</td>\n",
       "    </tr>\n",
       "    <tr>\n",
       "      <th>3299</th>\n",
       "      <td>16.805289</td>\n",
       "      <td>0.079</td>\n",
       "      <td>0.052</td>\n",
       "      <td>9.816</td>\n",
       "      <td>9.816456</td>\n",
       "    </tr>\n",
       "    <tr>\n",
       "      <th>3300</th>\n",
       "      <td>16.810379</td>\n",
       "      <td>0.022</td>\n",
       "      <td>0.071</td>\n",
       "      <td>9.816</td>\n",
       "      <td>9.816281</td>\n",
       "    </tr>\n",
       "    <tr>\n",
       "      <th>3301</th>\n",
       "      <td>16.815469</td>\n",
       "      <td>0.099</td>\n",
       "      <td>0.013</td>\n",
       "      <td>9.893</td>\n",
       "      <td>9.893504</td>\n",
       "    </tr>\n",
       "    <tr>\n",
       "      <th>3302</th>\n",
       "      <td>16.820558</td>\n",
       "      <td>0.079</td>\n",
       "      <td>0.032</td>\n",
       "      <td>10.008</td>\n",
       "      <td>10.008363</td>\n",
       "    </tr>\n",
       "  </tbody>\n",
       "</table>\n",
       "<p>3303 rows × 5 columns</p>\n",
       "</div>\n",
       "      <button class=\"colab-df-convert\" onclick=\"convertToInteractive('df-d766a13a-d959-4f49-9bfb-4a2d9eb3867f')\"\n",
       "              title=\"Convert this dataframe to an interactive table.\"\n",
       "              style=\"display:none;\">\n",
       "        \n",
       "  <svg xmlns=\"http://www.w3.org/2000/svg\" height=\"24px\"viewBox=\"0 0 24 24\"\n",
       "       width=\"24px\">\n",
       "    <path d=\"M0 0h24v24H0V0z\" fill=\"none\"/>\n",
       "    <path d=\"M18.56 5.44l.94 2.06.94-2.06 2.06-.94-2.06-.94-.94-2.06-.94 2.06-2.06.94zm-11 1L8.5 8.5l.94-2.06 2.06-.94-2.06-.94L8.5 2.5l-.94 2.06-2.06.94zm10 10l.94 2.06.94-2.06 2.06-.94-2.06-.94-.94-2.06-.94 2.06-2.06.94z\"/><path d=\"M17.41 7.96l-1.37-1.37c-.4-.4-.92-.59-1.43-.59-.52 0-1.04.2-1.43.59L10.3 9.45l-7.72 7.72c-.78.78-.78 2.05 0 2.83L4 21.41c.39.39.9.59 1.41.59.51 0 1.02-.2 1.41-.59l7.78-7.78 2.81-2.81c.8-.78.8-2.07 0-2.86zM5.41 20L4 18.59l7.72-7.72 1.47 1.35L5.41 20z\"/>\n",
       "  </svg>\n",
       "      </button>\n",
       "      \n",
       "  <style>\n",
       "    .colab-df-container {\n",
       "      display:flex;\n",
       "      flex-wrap:wrap;\n",
       "      gap: 12px;\n",
       "    }\n",
       "\n",
       "    .colab-df-convert {\n",
       "      background-color: #E8F0FE;\n",
       "      border: none;\n",
       "      border-radius: 50%;\n",
       "      cursor: pointer;\n",
       "      display: none;\n",
       "      fill: #1967D2;\n",
       "      height: 32px;\n",
       "      padding: 0 0 0 0;\n",
       "      width: 32px;\n",
       "    }\n",
       "\n",
       "    .colab-df-convert:hover {\n",
       "      background-color: #E2EBFA;\n",
       "      box-shadow: 0px 1px 2px rgba(60, 64, 67, 0.3), 0px 1px 3px 1px rgba(60, 64, 67, 0.15);\n",
       "      fill: #174EA6;\n",
       "    }\n",
       "\n",
       "    [theme=dark] .colab-df-convert {\n",
       "      background-color: #3B4455;\n",
       "      fill: #D2E3FC;\n",
       "    }\n",
       "\n",
       "    [theme=dark] .colab-df-convert:hover {\n",
       "      background-color: #434B5C;\n",
       "      box-shadow: 0px 1px 3px 1px rgba(0, 0, 0, 0.15);\n",
       "      filter: drop-shadow(0px 1px 2px rgba(0, 0, 0, 0.3));\n",
       "      fill: #FFFFFF;\n",
       "    }\n",
       "  </style>\n",
       "\n",
       "      <script>\n",
       "        const buttonEl =\n",
       "          document.querySelector('#df-d766a13a-d959-4f49-9bfb-4a2d9eb3867f button.colab-df-convert');\n",
       "        buttonEl.style.display =\n",
       "          google.colab.kernel.accessAllowed ? 'block' : 'none';\n",
       "\n",
       "        async function convertToInteractive(key) {\n",
       "          const element = document.querySelector('#df-d766a13a-d959-4f49-9bfb-4a2d9eb3867f');\n",
       "          const dataTable =\n",
       "            await google.colab.kernel.invokeFunction('convertToInteractive',\n",
       "                                                     [key], {});\n",
       "          if (!dataTable) return;\n",
       "\n",
       "          const docLinkHtml = 'Like what you see? Visit the ' +\n",
       "            '<a target=\"_blank\" href=https://colab.research.google.com/notebooks/data_table.ipynb>data table notebook</a>'\n",
       "            + ' to learn more about interactive tables.';\n",
       "          element.innerHTML = '';\n",
       "          dataTable['output_type'] = 'display_data';\n",
       "          await google.colab.output.renderOutput(dataTable, element);\n",
       "          const docLink = document.createElement('div');\n",
       "          docLink.innerHTML = docLinkHtml;\n",
       "          element.appendChild(docLink);\n",
       "        }\n",
       "      </script>\n",
       "    </div>\n",
       "  </div>\n",
       "  "
      ],
      "text/plain": [
       "              t     ax     ay      az       aabs\n",
       "0      0.015842  0.099 -0.024   9.797   9.797530\n",
       "1      0.020933 -0.015  0.052   9.969   9.969147\n",
       "2      0.026023  0.118  0.052   9.912   9.912838\n",
       "3      0.031113  0.060  0.032   9.988   9.988231\n",
       "4      0.036203  0.099  0.109   9.912   9.913093\n",
       "...         ...    ...    ...     ...        ...\n",
       "3298  16.800199  0.079  0.090  10.084  10.084711\n",
       "3299  16.805289  0.079  0.052   9.816   9.816456\n",
       "3300  16.810379  0.022  0.071   9.816   9.816281\n",
       "3301  16.815469  0.099  0.013   9.893   9.893504\n",
       "3302  16.820558  0.079  0.032  10.008  10.008363\n",
       "\n",
       "[3303 rows x 5 columns]"
      ]
     },
     "execution_count": 22,
     "metadata": {},
     "output_type": "execute_result"
    }
   ],
   "source": [
    "adata"
   ]
  },
  {
   "cell_type": "markdown",
   "metadata": {
    "id": "bomOX_kyzIwa"
   },
   "source": [
    "#### Hívatkozás egy-egy oszlopra\n",
    "- ```adata[\"cimke\"]```\n",
    "- ```adata.cimke```   -- ha nincs benne szóköz furcsa karakter..."
   ]
  },
  {
   "cell_type": "code",
   "execution_count": 24,
   "metadata": {
    "colab": {
     "base_uri": "https://localhost:8080/"
    },
    "executionInfo": {
     "elapsed": 293,
     "status": "ok",
     "timestamp": 1685457480493,
     "user": {
      "displayName": "Piroska Dömötör",
      "userId": "03696721308245428945"
     },
     "user_tz": -120
    },
    "id": "TPl2D2CYzIwa",
    "outputId": "db2d6d6c-47c6-4f38-ad05-5bcab73c3c71"
   },
   "outputs": [
    {
     "data": {
      "text/plain": [
       "0        9.797530\n",
       "1        9.969147\n",
       "2        9.912838\n",
       "3        9.988231\n",
       "4        9.913093\n",
       "          ...    \n",
       "3298    10.084711\n",
       "3299     9.816456\n",
       "3300     9.816281\n",
       "3301     9.893504\n",
       "3302    10.008363\n",
       "Name: aabs, Length: 3303, dtype: float64"
      ]
     },
     "execution_count": 24,
     "metadata": {},
     "output_type": "execute_result"
    }
   ],
   "source": [
    "adata[\"aabs\"]"
   ]
  },
  {
   "cell_type": "code",
   "execution_count": 26,
   "metadata": {
    "colab": {
     "base_uri": "https://localhost:8080/",
     "height": 112
    },
    "executionInfo": {
     "elapsed": 416,
     "status": "ok",
     "timestamp": 1685457624847,
     "user": {
      "displayName": "Piroska Dömötör",
      "userId": "03696721308245428945"
     },
     "user_tz": -120
    },
    "id": "L4B7iaFMzIwa",
    "outputId": "10ba5e4f-2a22-45dc-e097-c4ae22411fdb"
   },
   "outputs": [
    {
     "data": {
      "text/html": [
       "\n",
       "  <div id=\"df-3ac69933-260f-4844-baba-397c6cb3f976\">\n",
       "    <div class=\"colab-df-container\">\n",
       "      <div>\n",
       "<style scoped>\n",
       "    .dataframe tbody tr th:only-of-type {\n",
       "        vertical-align: middle;\n",
       "    }\n",
       "\n",
       "    .dataframe tbody tr th {\n",
       "        vertical-align: top;\n",
       "    }\n",
       "\n",
       "    .dataframe thead th {\n",
       "        text-align: right;\n",
       "    }\n",
       "</style>\n",
       "<table border=\"1\" class=\"dataframe\">\n",
       "  <thead>\n",
       "    <tr style=\"text-align: right;\">\n",
       "      <th></th>\n",
       "      <th>t</th>\n",
       "      <th>az</th>\n",
       "    </tr>\n",
       "  </thead>\n",
       "  <tbody>\n",
       "    <tr>\n",
       "      <th>0</th>\n",
       "      <td>0.015842</td>\n",
       "      <td>9.797</td>\n",
       "    </tr>\n",
       "    <tr>\n",
       "      <th>1</th>\n",
       "      <td>0.020933</td>\n",
       "      <td>9.969</td>\n",
       "    </tr>\n",
       "  </tbody>\n",
       "</table>\n",
       "</div>\n",
       "      <button class=\"colab-df-convert\" onclick=\"convertToInteractive('df-3ac69933-260f-4844-baba-397c6cb3f976')\"\n",
       "              title=\"Convert this dataframe to an interactive table.\"\n",
       "              style=\"display:none;\">\n",
       "        \n",
       "  <svg xmlns=\"http://www.w3.org/2000/svg\" height=\"24px\"viewBox=\"0 0 24 24\"\n",
       "       width=\"24px\">\n",
       "    <path d=\"M0 0h24v24H0V0z\" fill=\"none\"/>\n",
       "    <path d=\"M18.56 5.44l.94 2.06.94-2.06 2.06-.94-2.06-.94-.94-2.06-.94 2.06-2.06.94zm-11 1L8.5 8.5l.94-2.06 2.06-.94-2.06-.94L8.5 2.5l-.94 2.06-2.06.94zm10 10l.94 2.06.94-2.06 2.06-.94-2.06-.94-.94-2.06-.94 2.06-2.06.94z\"/><path d=\"M17.41 7.96l-1.37-1.37c-.4-.4-.92-.59-1.43-.59-.52 0-1.04.2-1.43.59L10.3 9.45l-7.72 7.72c-.78.78-.78 2.05 0 2.83L4 21.41c.39.39.9.59 1.41.59.51 0 1.02-.2 1.41-.59l7.78-7.78 2.81-2.81c.8-.78.8-2.07 0-2.86zM5.41 20L4 18.59l7.72-7.72 1.47 1.35L5.41 20z\"/>\n",
       "  </svg>\n",
       "      </button>\n",
       "      \n",
       "  <style>\n",
       "    .colab-df-container {\n",
       "      display:flex;\n",
       "      flex-wrap:wrap;\n",
       "      gap: 12px;\n",
       "    }\n",
       "\n",
       "    .colab-df-convert {\n",
       "      background-color: #E8F0FE;\n",
       "      border: none;\n",
       "      border-radius: 50%;\n",
       "      cursor: pointer;\n",
       "      display: none;\n",
       "      fill: #1967D2;\n",
       "      height: 32px;\n",
       "      padding: 0 0 0 0;\n",
       "      width: 32px;\n",
       "    }\n",
       "\n",
       "    .colab-df-convert:hover {\n",
       "      background-color: #E2EBFA;\n",
       "      box-shadow: 0px 1px 2px rgba(60, 64, 67, 0.3), 0px 1px 3px 1px rgba(60, 64, 67, 0.15);\n",
       "      fill: #174EA6;\n",
       "    }\n",
       "\n",
       "    [theme=dark] .colab-df-convert {\n",
       "      background-color: #3B4455;\n",
       "      fill: #D2E3FC;\n",
       "    }\n",
       "\n",
       "    [theme=dark] .colab-df-convert:hover {\n",
       "      background-color: #434B5C;\n",
       "      box-shadow: 0px 1px 3px 1px rgba(0, 0, 0, 0.15);\n",
       "      filter: drop-shadow(0px 1px 2px rgba(0, 0, 0, 0.3));\n",
       "      fill: #FFFFFF;\n",
       "    }\n",
       "  </style>\n",
       "\n",
       "      <script>\n",
       "        const buttonEl =\n",
       "          document.querySelector('#df-3ac69933-260f-4844-baba-397c6cb3f976 button.colab-df-convert');\n",
       "        buttonEl.style.display =\n",
       "          google.colab.kernel.accessAllowed ? 'block' : 'none';\n",
       "\n",
       "        async function convertToInteractive(key) {\n",
       "          const element = document.querySelector('#df-3ac69933-260f-4844-baba-397c6cb3f976');\n",
       "          const dataTable =\n",
       "            await google.colab.kernel.invokeFunction('convertToInteractive',\n",
       "                                                     [key], {});\n",
       "          if (!dataTable) return;\n",
       "\n",
       "          const docLinkHtml = 'Like what you see? Visit the ' +\n",
       "            '<a target=\"_blank\" href=https://colab.research.google.com/notebooks/data_table.ipynb>data table notebook</a>'\n",
       "            + ' to learn more about interactive tables.';\n",
       "          element.innerHTML = '';\n",
       "          dataTable['output_type'] = 'display_data';\n",
       "          await google.colab.output.renderOutput(dataTable, element);\n",
       "          const docLink = document.createElement('div');\n",
       "          docLink.innerHTML = docLinkHtml;\n",
       "          element.appendChild(docLink);\n",
       "        }\n",
       "      </script>\n",
       "    </div>\n",
       "  </div>\n",
       "  "
      ],
      "text/plain": [
       "          t     az\n",
       "0  0.015842  9.797\n",
       "1  0.020933  9.969"
      ]
     },
     "execution_count": 26,
     "metadata": {},
     "output_type": "execute_result"
    }
   ],
   "source": [
    "adata[[\"t\", \"az\"]].head(2)"
   ]
  },
  {
   "cell_type": "code",
   "execution_count": 27,
   "metadata": {
    "colab": {
     "base_uri": "https://localhost:8080/"
    },
    "executionInfo": {
     "elapsed": 409,
     "status": "ok",
     "timestamp": 1685457666206,
     "user": {
      "displayName": "Piroska Dömötör",
      "userId": "03696721308245428945"
     },
     "user_tz": -120
    },
    "id": "yRRYP40CGs26",
    "outputId": "2f1c20c1-26a9-42dd-8104-927f9a357dc5"
   },
   "outputs": [
    {
     "data": {
      "text/plain": [
       "0        9.797\n",
       "1        9.969\n",
       "2        9.912\n",
       "3        9.988\n",
       "4        9.912\n",
       "         ...  \n",
       "3298    10.084\n",
       "3299     9.816\n",
       "3300     9.816\n",
       "3301     9.893\n",
       "3302    10.008\n",
       "Name: az, Length: 3303, dtype: float64"
      ]
     },
     "execution_count": 27,
     "metadata": {},
     "output_type": "execute_result"
    }
   ],
   "source": [
    "adata.az"
   ]
  },
  {
   "cell_type": "markdown",
   "metadata": {
    "id": "ApgSoAyUzIwb"
   },
   "source": [
    "#### Ábrázoljuk a z irányú gyorsulás adatokat\n",
    " - ```plt.plot()```   -- matplotlib ábrázolás\n",
    " - ```plt.xlabel()``` --  tengely nevek\n",
    " - ```plt.title()```  -- grafikon cím"
   ]
  },
  {
   "cell_type": "code",
   "execution_count": 43,
   "metadata": {
    "colab": {
     "base_uri": "https://localhost:8080/",
     "height": 472
    },
    "executionInfo": {
     "elapsed": 632,
     "status": "ok",
     "timestamp": 1685458619582,
     "user": {
      "displayName": "Piroska Dömötör",
      "userId": "03696721308245428945"
     },
     "user_tz": -120
    },
    "id": "ZXomZkyNzIwb",
    "outputId": "d50c0440-04e1-498b-e922-ea4508dd5d43"
   },
   "outputs": [
    {
     "data": {
      "image/png": "[encoded data removed]",
      "text/plain": [
       "<Figure size 640x480 with 1 Axes>"
      ]
     },
     "metadata": {},
     "output_type": "display_data"
    }
   ],
   "source": [
    "plt.plot(adata.t, adata[\"az\"])\n",
    "plt.title(\"gyorsulás-idő grafikon\")\n",
    "plt.xlabel(\"t (s)\")\n",
    "plt.ylabel(\"a_z (m/s^2)\")\n",
    "plt.show()"
   ]
  },
  {
   "cell_type": "markdown",
   "metadata": {
    "id": "WqucnZHAzIwb"
   },
   "source": [
    "### Az adatok feldolgozása"
   ]
  },
  {
   "cell_type": "markdown",
   "metadata": {
    "id": "jlQqyVEuzIwb"
   },
   "source": [
    "#### fölösleges oszlopok törlése\n",
    "- ```del``` vagy \n",
    "- ```.drop(columns=  )``` használata"
   ]
  },
  {
   "cell_type": "code",
   "execution_count": 31,
   "metadata": {
    "executionInfo": {
     "elapsed": 485,
     "status": "ok",
     "timestamp": 1685458153502,
     "user": {
      "displayName": "Piroska Dömötör",
      "userId": "03696721308245428945"
     },
     "user_tz": -120
    },
    "id": "Pz11ZvxgzIwb"
   },
   "outputs": [],
   "source": [
    "# fölösleges oszlopok törlése\n",
    "del adata[\"ax\"]"
   ]
  },
  {
   "cell_type": "code",
   "execution_count": 34,
   "metadata": {
    "executionInfo": {
     "elapsed": 300,
     "status": "ok",
     "timestamp": 1685458211705,
     "user": {
      "displayName": "Piroska Dömötör",
      "userId": "03696721308245428945"
     },
     "user_tz": -120
    },
    "id": "lWB1zg4bIoS_"
   },
   "outputs": [],
   "source": [
    "adata.drop(columns=[\"ay\",\"aabs\"],inplace = True)"
   ]
  },
  {
   "cell_type": "code",
   "execution_count": 35,
   "metadata": {
    "colab": {
     "base_uri": "https://localhost:8080/",
     "height": 423
    },
    "executionInfo": {
     "elapsed": 304,
     "status": "ok",
     "timestamp": 1685458218567,
     "user": {
      "displayName": "Piroska Dömötör",
      "userId": "03696721308245428945"
     },
     "user_tz": -120
    },
    "id": "294439EuI126",
    "outputId": "1a85c875-28b9-4eab-90b5-7e357a6659f1"
   },
   "outputs": [
    {
     "data": {
      "text/html": [
       "\n",
       "  <div id=\"df-10bdff41-24a9-468a-8d33-3860aec829b4\">\n",
       "    <div class=\"colab-df-container\">\n",
       "      <div>\n",
       "<style scoped>\n",
       "    .dataframe tbody tr th:only-of-type {\n",
       "        vertical-align: middle;\n",
       "    }\n",
       "\n",
       "    .dataframe tbody tr th {\n",
       "        vertical-align: top;\n",
       "    }\n",
       "\n",
       "    .dataframe thead th {\n",
       "        text-align: right;\n",
       "    }\n",
       "</style>\n",
       "<table border=\"1\" class=\"dataframe\">\n",
       "  <thead>\n",
       "    <tr style=\"text-align: right;\">\n",
       "      <th></th>\n",
       "      <th>t</th>\n",
       "      <th>az</th>\n",
       "    </tr>\n",
       "  </thead>\n",
       "  <tbody>\n",
       "    <tr>\n",
       "      <th>0</th>\n",
       "      <td>0.015842</td>\n",
       "      <td>9.797</td>\n",
       "    </tr>\n",
       "    <tr>\n",
       "      <th>1</th>\n",
       "      <td>0.020933</td>\n",
       "      <td>9.969</td>\n",
       "    </tr>\n",
       "    <tr>\n",
       "      <th>2</th>\n",
       "      <td>0.026023</td>\n",
       "      <td>9.912</td>\n",
       "    </tr>\n",
       "    <tr>\n",
       "      <th>3</th>\n",
       "      <td>0.031113</td>\n",
       "      <td>9.988</td>\n",
       "    </tr>\n",
       "    <tr>\n",
       "      <th>4</th>\n",
       "      <td>0.036203</td>\n",
       "      <td>9.912</td>\n",
       "    </tr>\n",
       "    <tr>\n",
       "      <th>...</th>\n",
       "      <td>...</td>\n",
       "      <td>...</td>\n",
       "    </tr>\n",
       "    <tr>\n",
       "      <th>3298</th>\n",
       "      <td>16.800199</td>\n",
       "      <td>10.084</td>\n",
       "    </tr>\n",
       "    <tr>\n",
       "      <th>3299</th>\n",
       "      <td>16.805289</td>\n",
       "      <td>9.816</td>\n",
       "    </tr>\n",
       "    <tr>\n",
       "      <th>3300</th>\n",
       "      <td>16.810379</td>\n",
       "      <td>9.816</td>\n",
       "    </tr>\n",
       "    <tr>\n",
       "      <th>3301</th>\n",
       "      <td>16.815469</td>\n",
       "      <td>9.893</td>\n",
       "    </tr>\n",
       "    <tr>\n",
       "      <th>3302</th>\n",
       "      <td>16.820558</td>\n",
       "      <td>10.008</td>\n",
       "    </tr>\n",
       "  </tbody>\n",
       "</table>\n",
       "<p>3303 rows × 2 columns</p>\n",
       "</div>\n",
       "      <button class=\"colab-df-convert\" onclick=\"convertToInteractive('df-10bdff41-24a9-468a-8d33-3860aec829b4')\"\n",
       "              title=\"Convert this dataframe to an interactive table.\"\n",
       "              style=\"display:none;\">\n",
       "        \n",
       "  <svg xmlns=\"http://www.w3.org/2000/svg\" height=\"24px\"viewBox=\"0 0 24 24\"\n",
       "       width=\"24px\">\n",
       "    <path d=\"M0 0h24v24H0V0z\" fill=\"none\"/>\n",
       "    <path d=\"M18.56 5.44l.94 2.06.94-2.06 2.06-.94-2.06-.94-.94-2.06-.94 2.06-2.06.94zm-11 1L8.5 8.5l.94-2.06 2.06-.94-2.06-.94L8.5 2.5l-.94 2.06-2.06.94zm10 10l.94 2.06.94-2.06 2.06-.94-2.06-.94-.94-2.06-.94 2.06-2.06.94z\"/><path d=\"M17.41 7.96l-1.37-1.37c-.4-.4-.92-.59-1.43-.59-.52 0-1.04.2-1.43.59L10.3 9.45l-7.72 7.72c-.78.78-.78 2.05 0 2.83L4 21.41c.39.39.9.59 1.41.59.51 0 1.02-.2 1.41-.59l7.78-7.78 2.81-2.81c.8-.78.8-2.07 0-2.86zM5.41 20L4 18.59l7.72-7.72 1.47 1.35L5.41 20z\"/>\n",
       "  </svg>\n",
       "      </button>\n",
       "      \n",
       "  <style>\n",
       "    .colab-df-container {\n",
       "      display:flex;\n",
       "      flex-wrap:wrap;\n",
       "      gap: 12px;\n",
       "    }\n",
       "\n",
       "    .colab-df-convert {\n",
       "      background-color: #E8F0FE;\n",
       "      border: none;\n",
       "      border-radius: 50%;\n",
       "      cursor: pointer;\n",
       "      display: none;\n",
       "      fill: #1967D2;\n",
       "      height: 32px;\n",
       "      padding: 0 0 0 0;\n",
       "      width: 32px;\n",
       "    }\n",
       "\n",
       "    .colab-df-convert:hover {\n",
       "      background-color: #E2EBFA;\n",
       "      box-shadow: 0px 1px 2px rgba(60, 64, 67, 0.3), 0px 1px 3px 1px rgba(60, 64, 67, 0.15);\n",
       "      fill: #174EA6;\n",
       "    }\n",
       "\n",
       "    [theme=dark] .colab-df-convert {\n",
       "      background-color: #3B4455;\n",
       "      fill: #D2E3FC;\n",
       "    }\n",
       "\n",
       "    [theme=dark] .colab-df-convert:hover {\n",
       "      background-color: #434B5C;\n",
       "      box-shadow: 0px 1px 3px 1px rgba(0, 0, 0, 0.15);\n",
       "      filter: drop-shadow(0px 1px 2px rgba(0, 0, 0, 0.3));\n",
       "      fill: #FFFFFF;\n",
       "    }\n",
       "  </style>\n",
       "\n",
       "      <script>\n",
       "        const buttonEl =\n",
       "          document.querySelector('#df-10bdff41-24a9-468a-8d33-3860aec829b4 button.colab-df-convert');\n",
       "        buttonEl.style.display =\n",
       "          google.colab.kernel.accessAllowed ? 'block' : 'none';\n",
       "\n",
       "        async function convertToInteractive(key) {\n",
       "          const element = document.querySelector('#df-10bdff41-24a9-468a-8d33-3860aec829b4');\n",
       "          const dataTable =\n",
       "            await google.colab.kernel.invokeFunction('convertToInteractive',\n",
       "                                                     [key], {});\n",
       "          if (!dataTable) return;\n",
       "\n",
       "          const docLinkHtml = 'Like what you see? Visit the ' +\n",
       "            '<a target=\"_blank\" href=https://colab.research.google.com/notebooks/data_table.ipynb>data table notebook</a>'\n",
       "            + ' to learn more about interactive tables.';\n",
       "          element.innerHTML = '';\n",
       "          dataTable['output_type'] = 'display_data';\n",
       "          await google.colab.output.renderOutput(dataTable, element);\n",
       "          const docLink = document.createElement('div');\n",
       "          docLink.innerHTML = docLinkHtml;\n",
       "          element.appendChild(docLink);\n",
       "        }\n",
       "      </script>\n",
       "    </div>\n",
       "  </div>\n",
       "  "
      ],
      "text/plain": [
       "              t      az\n",
       "0      0.015842   9.797\n",
       "1      0.020933   9.969\n",
       "2      0.026023   9.912\n",
       "3      0.031113   9.988\n",
       "4      0.036203   9.912\n",
       "...         ...     ...\n",
       "3298  16.800199  10.084\n",
       "3299  16.805289   9.816\n",
       "3300  16.810379   9.816\n",
       "3301  16.815469   9.893\n",
       "3302  16.820558  10.008\n",
       "\n",
       "[3303 rows x 2 columns]"
      ]
     },
     "execution_count": 35,
     "metadata": {},
     "output_type": "execute_result"
    }
   ],
   "source": [
    "adata"
   ]
  },
  {
   "cell_type": "markdown",
   "metadata": {
    "id": "T0GIV8_0zIwc"
   },
   "source": [
    "#### a nehézségi gyorsulás állandó értékének levonása"
   ]
  },
  {
   "cell_type": "code",
   "execution_count": 38,
   "metadata": {
    "executionInfo": {
     "elapsed": 392,
     "status": "ok",
     "timestamp": 1685458402555,
     "user": {
      "displayName": "Piroska Dömötör",
      "userId": "03696721308245428945"
     },
     "user_tz": -120
    },
    "id": "dN4YLQTdzIwc"
   },
   "outputs": [],
   "source": [
    "g = adata[\"az\"][0:1000].mean()"
   ]
  },
  {
   "cell_type": "code",
   "execution_count": 40,
   "metadata": {
    "executionInfo": {
     "elapsed": 281,
     "status": "ok",
     "timestamp": 1685458497193,
     "user": {
      "displayName": "Piroska Dömötör",
      "userId": "03696721308245428945"
     },
     "user_tz": -120
    },
    "id": "4XKv9xU4zIwc"
   },
   "outputs": [],
   "source": [
    "adata[\"az0\"] = adata[\"az\"]-g"
   ]
  },
  {
   "cell_type": "code",
   "execution_count": 41,
   "metadata": {
    "colab": {
     "base_uri": "https://localhost:8080/",
     "height": 423
    },
    "executionInfo": {
     "elapsed": 326,
     "status": "ok",
     "timestamp": 1685458505088,
     "user": {
      "displayName": "Piroska Dömötör",
      "userId": "03696721308245428945"
     },
     "user_tz": -120
    },
    "id": "qCiqKnz-J7gR",
    "outputId": "29bca364-660a-4376-fff5-c5209d51d8f6"
   },
   "outputs": [
    {
     "data": {
      "text/html": [
       "\n",
       "  <div id=\"df-db01fae0-62c4-401c-9d4d-c7263d4eec5e\">\n",
       "    <div class=\"colab-df-container\">\n",
       "      <div>\n",
       "<style scoped>\n",
       "    .dataframe tbody tr th:only-of-type {\n",
       "        vertical-align: middle;\n",
       "    }\n",
       "\n",
       "    .dataframe tbody tr th {\n",
       "        vertical-align: top;\n",
       "    }\n",
       "\n",
       "    .dataframe thead th {\n",
       "        text-align: right;\n",
       "    }\n",
       "</style>\n",
       "<table border=\"1\" class=\"dataframe\">\n",
       "  <thead>\n",
       "    <tr style=\"text-align: right;\">\n",
       "      <th></th>\n",
       "      <th>t</th>\n",
       "      <th>az</th>\n",
       "      <th>az0</th>\n",
       "    </tr>\n",
       "  </thead>\n",
       "  <tbody>\n",
       "    <tr>\n",
       "      <th>0</th>\n",
       "      <td>0.015842</td>\n",
       "      <td>9.797</td>\n",
       "      <td>-0.092017</td>\n",
       "    </tr>\n",
       "    <tr>\n",
       "      <th>1</th>\n",
       "      <td>0.020933</td>\n",
       "      <td>9.969</td>\n",
       "      <td>0.079983</td>\n",
       "    </tr>\n",
       "    <tr>\n",
       "      <th>2</th>\n",
       "      <td>0.026023</td>\n",
       "      <td>9.912</td>\n",
       "      <td>0.022983</td>\n",
       "    </tr>\n",
       "    <tr>\n",
       "      <th>3</th>\n",
       "      <td>0.031113</td>\n",
       "      <td>9.988</td>\n",
       "      <td>0.098983</td>\n",
       "    </tr>\n",
       "    <tr>\n",
       "      <th>4</th>\n",
       "      <td>0.036203</td>\n",
       "      <td>9.912</td>\n",
       "      <td>0.022983</td>\n",
       "    </tr>\n",
       "    <tr>\n",
       "      <th>...</th>\n",
       "      <td>...</td>\n",
       "      <td>...</td>\n",
       "      <td>...</td>\n",
       "    </tr>\n",
       "    <tr>\n",
       "      <th>3298</th>\n",
       "      <td>16.800199</td>\n",
       "      <td>10.084</td>\n",
       "      <td>0.194983</td>\n",
       "    </tr>\n",
       "    <tr>\n",
       "      <th>3299</th>\n",
       "      <td>16.805289</td>\n",
       "      <td>9.816</td>\n",
       "      <td>-0.073017</td>\n",
       "    </tr>\n",
       "    <tr>\n",
       "      <th>3300</th>\n",
       "      <td>16.810379</td>\n",
       "      <td>9.816</td>\n",
       "      <td>-0.073017</td>\n",
       "    </tr>\n",
       "    <tr>\n",
       "      <th>3301</th>\n",
       "      <td>16.815469</td>\n",
       "      <td>9.893</td>\n",
       "      <td>0.003983</td>\n",
       "    </tr>\n",
       "    <tr>\n",
       "      <th>3302</th>\n",
       "      <td>16.820558</td>\n",
       "      <td>10.008</td>\n",
       "      <td>0.118983</td>\n",
       "    </tr>\n",
       "  </tbody>\n",
       "</table>\n",
       "<p>3303 rows × 3 columns</p>\n",
       "</div>\n",
       "      <button class=\"colab-df-convert\" onclick=\"convertToInteractive('df-db01fae0-62c4-401c-9d4d-c7263d4eec5e')\"\n",
       "              title=\"Convert this dataframe to an interactive table.\"\n",
       "              style=\"display:none;\">\n",
       "        \n",
       "  <svg xmlns=\"http://www.w3.org/2000/svg\" height=\"24px\"viewBox=\"0 0 24 24\"\n",
       "       width=\"24px\">\n",
       "    <path d=\"M0 0h24v24H0V0z\" fill=\"none\"/>\n",
       "    <path d=\"M18.56 5.44l.94 2.06.94-2.06 2.06-.94-2.06-.94-.94-2.06-.94 2.06-2.06.94zm-11 1L8.5 8.5l.94-2.06 2.06-.94-2.06-.94L8.5 2.5l-.94 2.06-2.06.94zm10 10l.94 2.06.94-2.06 2.06-.94-2.06-.94-.94-2.06-.94 2.06-2.06.94z\"/><path d=\"M17.41 7.96l-1.37-1.37c-.4-.4-.92-.59-1.43-.59-.52 0-1.04.2-1.43.59L10.3 9.45l-7.72 7.72c-.78.78-.78 2.05 0 2.83L4 21.41c.39.39.9.59 1.41.59.51 0 1.02-.2 1.41-.59l7.78-7.78 2.81-2.81c.8-.78.8-2.07 0-2.86zM5.41 20L4 18.59l7.72-7.72 1.47 1.35L5.41 20z\"/>\n",
       "  </svg>\n",
       "      </button>\n",
       "      \n",
       "  <style>\n",
       "    .colab-df-container {\n",
       "      display:flex;\n",
       "      flex-wrap:wrap;\n",
       "      gap: 12px;\n",
       "    }\n",
       "\n",
       "    .colab-df-convert {\n",
       "      background-color: #E8F0FE;\n",
       "      border: none;\n",
       "      border-radius: 50%;\n",
       "      cursor: pointer;\n",
       "      display: none;\n",
       "      fill: #1967D2;\n",
       "      height: 32px;\n",
       "      padding: 0 0 0 0;\n",
       "      width: 32px;\n",
       "    }\n",
       "\n",
       "    .colab-df-convert:hover {\n",
       "      background-color: #E2EBFA;\n",
       "      box-shadow: 0px 1px 2px rgba(60, 64, 67, 0.3), 0px 1px 3px 1px rgba(60, 64, 67, 0.15);\n",
       "      fill: #174EA6;\n",
       "    }\n",
       "\n",
       "    [theme=dark] .colab-df-convert {\n",
       "      background-color: #3B4455;\n",
       "      fill: #D2E3FC;\n",
       "    }\n",
       "\n",
       "    [theme=dark] .colab-df-convert:hover {\n",
       "      background-color: #434B5C;\n",
       "      box-shadow: 0px 1px 3px 1px rgba(0, 0, 0, 0.15);\n",
       "      filter: drop-shadow(0px 1px 2px rgba(0, 0, 0, 0.3));\n",
       "      fill: #FFFFFF;\n",
       "    }\n",
       "  </style>\n",
       "\n",
       "      <script>\n",
       "        const buttonEl =\n",
       "          document.querySelector('#df-db01fae0-62c4-401c-9d4d-c7263d4eec5e button.colab-df-convert');\n",
       "        buttonEl.style.display =\n",
       "          google.colab.kernel.accessAllowed ? 'block' : 'none';\n",
       "\n",
       "        async function convertToInteractive(key) {\n",
       "          const element = document.querySelector('#df-db01fae0-62c4-401c-9d4d-c7263d4eec5e');\n",
       "          const dataTable =\n",
       "            await google.colab.kernel.invokeFunction('convertToInteractive',\n",
       "                                                     [key], {});\n",
       "          if (!dataTable) return;\n",
       "\n",
       "          const docLinkHtml = 'Like what you see? Visit the ' +\n",
       "            '<a target=\"_blank\" href=https://colab.research.google.com/notebooks/data_table.ipynb>data table notebook</a>'\n",
       "            + ' to learn more about interactive tables.';\n",
       "          element.innerHTML = '';\n",
       "          dataTable['output_type'] = 'display_data';\n",
       "          await google.colab.output.renderOutput(dataTable, element);\n",
       "          const docLink = document.createElement('div');\n",
       "          docLink.innerHTML = docLinkHtml;\n",
       "          element.appendChild(docLink);\n",
       "        }\n",
       "      </script>\n",
       "    </div>\n",
       "  </div>\n",
       "  "
      ],
      "text/plain": [
       "              t      az       az0\n",
       "0      0.015842   9.797 -0.092017\n",
       "1      0.020933   9.969  0.079983\n",
       "2      0.026023   9.912  0.022983\n",
       "3      0.031113   9.988  0.098983\n",
       "4      0.036203   9.912  0.022983\n",
       "...         ...     ...       ...\n",
       "3298  16.800199  10.084  0.194983\n",
       "3299  16.805289   9.816 -0.073017\n",
       "3300  16.810379   9.816 -0.073017\n",
       "3301  16.815469   9.893  0.003983\n",
       "3302  16.820558  10.008  0.118983\n",
       "\n",
       "[3303 rows x 3 columns]"
      ]
     },
     "execution_count": 41,
     "metadata": {},
     "output_type": "execute_result"
    }
   ],
   "source": [
    "adata"
   ]
  },
  {
   "cell_type": "markdown",
   "metadata": {
    "id": "9nphJFUazIwc"
   },
   "source": [
    "#### \"Integrálás\""
   ]
  },
  {
   "cell_type": "code",
   "execution_count": 46,
   "metadata": {
    "executionInfo": {
     "elapsed": 365,
     "status": "ok",
     "timestamp": 1685459341891,
     "user": {
      "displayName": "Piroska Dömötör",
      "userId": "03696721308245428945"
     },
     "user_tz": -120
    },
    "id": "1s6_GHG7zIwc"
   },
   "outputs": [],
   "source": [
    "def dint(time,a,v0=0.0):\n",
    "    N=len(time)                    # a tömb első dimenziója\n",
    "    intt=np.zeros(N)           # az integrál értékek tömbje\n",
    "    # Ide jön a lényegi rész\n",
    "    intt[0] = v0\n",
    "    for i in range(1,N):\n",
    "        intt[i] = a[i]*(time[i] - time[i-1])+intt[i-1]\n",
    "    return intt"
   ]
  },
  {
   "cell_type": "markdown",
   "metadata": {
    "id": "vjvU0IsszIwc"
   },
   "source": [
    "#### pillanatnyi sebesség v(t) kiszámítása és ábrázolása"
   ]
  },
  {
   "cell_type": "code",
   "execution_count": 48,
   "metadata": {
    "executionInfo": {
     "elapsed": 266,
     "status": "ok",
     "timestamp": 1685459398583,
     "user": {
      "displayName": "Piroska Dömötör",
      "userId": "03696721308245428945"
     },
     "user_tz": -120
    },
    "id": "-54laM4tzIwd"
   },
   "outputs": [],
   "source": [
    "adata[\"v\"] =  dint(adata[\"t\"], adata[\"az0\"])"
   ]
  },
  {
   "cell_type": "code",
   "execution_count": 49,
   "metadata": {
    "colab": {
     "base_uri": "https://localhost:8080/",
     "height": 206
    },
    "executionInfo": {
     "elapsed": 430,
     "status": "ok",
     "timestamp": 1685459407140,
     "user": {
      "displayName": "Piroska Dömötör",
      "userId": "03696721308245428945"
     },
     "user_tz": -120
    },
    "id": "og0Ed97GNXml",
    "outputId": "52a08719-a4c2-40fd-81e3-ce81a2bb3f74"
   },
   "outputs": [
    {
     "data": {
      "text/html": [
       "\n",
       "  <div id=\"df-99fddbe5-1a64-4c76-b121-8048936d52f8\">\n",
       "    <div class=\"colab-df-container\">\n",
       "      <div>\n",
       "<style scoped>\n",
       "    .dataframe tbody tr th:only-of-type {\n",
       "        vertical-align: middle;\n",
       "    }\n",
       "\n",
       "    .dataframe tbody tr th {\n",
       "        vertical-align: top;\n",
       "    }\n",
       "\n",
       "    .dataframe thead th {\n",
       "        text-align: right;\n",
       "    }\n",
       "</style>\n",
       "<table border=\"1\" class=\"dataframe\">\n",
       "  <thead>\n",
       "    <tr style=\"text-align: right;\">\n",
       "      <th></th>\n",
       "      <th>t</th>\n",
       "      <th>az</th>\n",
       "      <th>az0</th>\n",
       "      <th>v</th>\n",
       "    </tr>\n",
       "  </thead>\n",
       "  <tbody>\n",
       "    <tr>\n",
       "      <th>0</th>\n",
       "      <td>0.015842</td>\n",
       "      <td>9.797</td>\n",
       "      <td>-0.092017</td>\n",
       "      <td>0.000000</td>\n",
       "    </tr>\n",
       "    <tr>\n",
       "      <th>1</th>\n",
       "      <td>0.020933</td>\n",
       "      <td>9.969</td>\n",
       "      <td>0.079983</td>\n",
       "      <td>0.000407</td>\n",
       "    </tr>\n",
       "    <tr>\n",
       "      <th>2</th>\n",
       "      <td>0.026023</td>\n",
       "      <td>9.912</td>\n",
       "      <td>0.022983</td>\n",
       "      <td>0.000524</td>\n",
       "    </tr>\n",
       "    <tr>\n",
       "      <th>3</th>\n",
       "      <td>0.031113</td>\n",
       "      <td>9.988</td>\n",
       "      <td>0.098983</td>\n",
       "      <td>0.001028</td>\n",
       "    </tr>\n",
       "    <tr>\n",
       "      <th>4</th>\n",
       "      <td>0.036203</td>\n",
       "      <td>9.912</td>\n",
       "      <td>0.022983</td>\n",
       "      <td>0.001145</td>\n",
       "    </tr>\n",
       "  </tbody>\n",
       "</table>\n",
       "</div>\n",
       "      <button class=\"colab-df-convert\" onclick=\"convertToInteractive('df-99fddbe5-1a64-4c76-b121-8048936d52f8')\"\n",
       "              title=\"Convert this dataframe to an interactive table.\"\n",
       "              style=\"display:none;\">\n",
       "        \n",
       "  <svg xmlns=\"http://www.w3.org/2000/svg\" height=\"24px\"viewBox=\"0 0 24 24\"\n",
       "       width=\"24px\">\n",
       "    <path d=\"M0 0h24v24H0V0z\" fill=\"none\"/>\n",
       "    <path d=\"M18.56 5.44l.94 2.06.94-2.06 2.06-.94-2.06-.94-.94-2.06-.94 2.06-2.06.94zm-11 1L8.5 8.5l.94-2.06 2.06-.94-2.06-.94L8.5 2.5l-.94 2.06-2.06.94zm10 10l.94 2.06.94-2.06 2.06-.94-2.06-.94-.94-2.06-.94 2.06-2.06.94z\"/><path d=\"M17.41 7.96l-1.37-1.37c-.4-.4-.92-.59-1.43-.59-.52 0-1.04.2-1.43.59L10.3 9.45l-7.72 7.72c-.78.78-.78 2.05 0 2.83L4 21.41c.39.39.9.59 1.41.59.51 0 1.02-.2 1.41-.59l7.78-7.78 2.81-2.81c.8-.78.8-2.07 0-2.86zM5.41 20L4 18.59l7.72-7.72 1.47 1.35L5.41 20z\"/>\n",
       "  </svg>\n",
       "      </button>\n",
       "      \n",
       "  <style>\n",
       "    .colab-df-container {\n",
       "      display:flex;\n",
       "      flex-wrap:wrap;\n",
       "      gap: 12px;\n",
       "    }\n",
       "\n",
       "    .colab-df-convert {\n",
       "      background-color: #E8F0FE;\n",
       "      border: none;\n",
       "      border-radius: 50%;\n",
       "      cursor: pointer;\n",
       "      display: none;\n",
       "      fill: #1967D2;\n",
       "      height: 32px;\n",
       "      padding: 0 0 0 0;\n",
       "      width: 32px;\n",
       "    }\n",
       "\n",
       "    .colab-df-convert:hover {\n",
       "      background-color: #E2EBFA;\n",
       "      box-shadow: 0px 1px 2px rgba(60, 64, 67, 0.3), 0px 1px 3px 1px rgba(60, 64, 67, 0.15);\n",
       "      fill: #174EA6;\n",
       "    }\n",
       "\n",
       "    [theme=dark] .colab-df-convert {\n",
       "      background-color: #3B4455;\n",
       "      fill: #D2E3FC;\n",
       "    }\n",
       "\n",
       "    [theme=dark] .colab-df-convert:hover {\n",
       "      background-color: #434B5C;\n",
       "      box-shadow: 0px 1px 3px 1px rgba(0, 0, 0, 0.15);\n",
       "      filter: drop-shadow(0px 1px 2px rgba(0, 0, 0, 0.3));\n",
       "      fill: #FFFFFF;\n",
       "    }\n",
       "  </style>\n",
       "\n",
       "      <script>\n",
       "        const buttonEl =\n",
       "          document.querySelector('#df-99fddbe5-1a64-4c76-b121-8048936d52f8 button.colab-df-convert');\n",
       "        buttonEl.style.display =\n",
       "          google.colab.kernel.accessAllowed ? 'block' : 'none';\n",
       "\n",
       "        async function convertToInteractive(key) {\n",
       "          const element = document.querySelector('#df-99fddbe5-1a64-4c76-b121-8048936d52f8');\n",
       "          const dataTable =\n",
       "            await google.colab.kernel.invokeFunction('convertToInteractive',\n",
       "                                                     [key], {});\n",
       "          if (!dataTable) return;\n",
       "\n",
       "          const docLinkHtml = 'Like what you see? Visit the ' +\n",
       "            '<a target=\"_blank\" href=https://colab.research.google.com/notebooks/data_table.ipynb>data table notebook</a>'\n",
       "            + ' to learn more about interactive tables.';\n",
       "          element.innerHTML = '';\n",
       "          dataTable['output_type'] = 'display_data';\n",
       "          await google.colab.output.renderOutput(dataTable, element);\n",
       "          const docLink = document.createElement('div');\n",
       "          docLink.innerHTML = docLinkHtml;\n",
       "          element.appendChild(docLink);\n",
       "        }\n",
       "      </script>\n",
       "    </div>\n",
       "  </div>\n",
       "  "
      ],
      "text/plain": [
       "          t     az       az0         v\n",
       "0  0.015842  9.797 -0.092017  0.000000\n",
       "1  0.020933  9.969  0.079983  0.000407\n",
       "2  0.026023  9.912  0.022983  0.000524\n",
       "3  0.031113  9.988  0.098983  0.001028\n",
       "4  0.036203  9.912  0.022983  0.001145"
      ]
     },
     "execution_count": 49,
     "metadata": {},
     "output_type": "execute_result"
    }
   ],
   "source": [
    "adata.head(5)"
   ]
  },
  {
   "cell_type": "code",
   "execution_count": 50,
   "metadata": {
    "colab": {
     "base_uri": "https://localhost:8080/",
     "height": 472
    },
    "executionInfo": {
     "elapsed": 343,
     "status": "ok",
     "timestamp": 1685459503828,
     "user": {
      "displayName": "Piroska Dömötör",
      "userId": "03696721308245428945"
     },
     "user_tz": -120
    },
    "id": "znxnzlwKNpwt",
    "outputId": "34a93397-a490-4607-e500-bf930983d56a"
   },
   "outputs": [
    {
     "data": {
      "image/png": "[encoded data removed]",
      "text/plain": [
       "<Figure size 640x480 with 1 Axes>"
      ]
     },
     "metadata": {},
     "output_type": "display_data"
    }
   ],
   "source": [
    "plt.plot(adata.t, adata[\"v\"])\n",
    "plt.title(\"sebesség-idő grafikon\")\n",
    "plt.xlabel(\"t (s)\")\n",
    "plt.ylabel(\"v_z (m/s)\")\n",
    "plt.show()"
   ]
  },
  {
   "cell_type": "markdown",
   "metadata": {
    "id": "yQNMogWceePs"
   },
   "source": [
    "**Megjegyzés:** A grafikon nem tökéletes, hiszen a liftnek meg kellene állnia, azaz a mozgás végén is 0 m/s sebesség kellene, ami enyhén emelkedik. \n",
    "\n",
    "A hiba fő oka a mérés hibájában keresendő. A telefonok gyorsulás mérője egy hoszzabb idejű mérés során elállítódik. A mérés végén, már nem ugyan az a $g$ értéket méri"
   ]
  },
  {
   "cell_type": "markdown",
   "metadata": {
    "id": "JduE_f-9zIwd"
   },
   "source": [
    "#### pillanatnyi hely x(t) kiszámítása és ábrázolása"
   ]
  },
  {
   "cell_type": "code",
   "execution_count": 51,
   "metadata": {
    "executionInfo": {
     "elapsed": 566,
     "status": "ok",
     "timestamp": 1685460272383,
     "user": {
      "displayName": "Piroska Dömötör",
      "userId": "03696721308245428945"
     },
     "user_tz": -120
    },
    "id": "CDomRi0NzIwd"
   },
   "outputs": [],
   "source": [
    "adata[\"z\"] =  dint(adata[\"t\"], adata[\"v\"])"
   ]
  },
  {
   "cell_type": "code",
   "execution_count": 52,
   "metadata": {
    "colab": {
     "base_uri": "https://localhost:8080/",
     "height": 472
    },
    "executionInfo": {
     "elapsed": 1251,
     "status": "ok",
     "timestamp": 1685460295673,
     "user": {
      "displayName": "Piroska Dömötör",
      "userId": "03696721308245428945"
     },
     "user_tz": -120
    },
    "id": "V1L8Ne8_QsF8",
    "outputId": "a50005d3-3af9-474c-eb00-bdbe349940bd"
   },
   "outputs": [
    {
     "data": {
      "image/png": "[encoded data removed]",
      "text/plain": [
       "<Figure size 640x480 with 1 Axes>"
      ]
     },
     "metadata": {},
     "output_type": "display_data"
    }
   ],
   "source": [
    "plt.plot(adata.t, adata[\"z\"])\n",
    "plt.title(\"hely-idő grafikon\")\n",
    "plt.xlabel(\"t (s)\")\n",
    "plt.ylabel(\"z (m)\")\n",
    "plt.show()"
   ]
  },
  {
   "cell_type": "code",
   "execution_count": null,
   "metadata": {
    "id": "htBm1dU-Qxln"
   },
   "outputs": [],
   "source": []
  },
  {
   "cell_type": "markdown",
   "metadata": {
    "id": "EHRIADZj680y"
   },
   "source": [
    "# Mozgásegyenlet megoldása 1 dimenzióban (egyenes menti mozgások)"
   ]
  },
  {
   "cell_type": "markdown",
   "metadata": {
    "id": "kg2vcRk_6804"
   },
   "source": [
    "Ez a notebook különböző egyenes menti erőhatások esetén numerikusan megodlja a mozgásegyenletet.\n",
    "\n",
    "Az erők ismeretében már tudjuk a gyorsulás aktuális értékét. Innen pedig az előző alkalommal használt számítások logikáját követjük.\n",
    "Tehát kiválasztott $\\Delta t$ időlépésekben ki tudjuk számítani a   \n",
    "- pillanatnyi sebesség és\n",
    "- hely adatokat\n",
    "- Illetve ezeket tudjuk ábrázolni az idő függvényében\n"
   ]
  },
  {
   "cell_type": "markdown",
   "metadata": {
    "id": "uvO4slOo6806"
   },
   "source": [
    "## Elmélet"
   ]
  },
  {
   "cell_type": "markdown",
   "metadata": {
    "id": "9YrUXLFQ6807"
   },
   "source": [
    "### Emlékeztetőül"
   ]
  },
  {
   "cell_type": "markdown",
   "metadata": {
    "id": "1PFg-E3c6807"
   },
   "source": [
    "Gyorsulás adatokból sebesség: $\\boxed{v_i= v_{i-1}+a_i\\cdot \\Delta t}$\n",
    "\n",
    "Sebesség adatokból helyzet: $\\boxed{x_i= x_{i-1}+v_i\\cdot \\Delta t}$\n",
    "\n",
    "Ehhez persze kell egy ismert $v_0$ kezdő sebesség és $x_0$ kezdő helyzet! (**kezdeti feltételek**)"
   ]
  },
  {
   "cell_type": "markdown",
   "metadata": {
    "id": "3g6LDJ1f6808"
   },
   "source": [
    "### Newton törvények alapján a mozgásegyenlet"
   ]
  },
  {
   "cell_type": "markdown",
   "metadata": {
    "id": "Or8Hb-IU6808"
   },
   "source": [
    "**Model**: pontszerű test\n",
    "$$\\boxed{\\sum\\vec{F}=m \\cdot \\vec{a}}$$\n",
    "\n",
    "- Az egyes kölcsönhatásokat egy-egy F erővel tudjuk leírni (erőtörvények), amelyek vektori módon összegződnek. (egynes mentén előjelesen!)\n",
    "- Az így kapott eredő erő okozza a test gyorsulását.\n",
    "- Ez a gyorsulás arányos az eredő erővel és\n",
    "- az arányossági tényező a testre jellemző állandó, amit tömegnek hívunk."
   ]
  },
  {
   "cell_type": "markdown",
   "metadata": {
    "id": "QBH5GPQR6809"
   },
   "source": [
    "### Néhány hasznos erőtörvény"
   ]
  },
  {
   "cell_type": "markdown",
   "metadata": {
    "id": "5baNg61a6809"
   },
   "source": [
    "Ezeket kísérleteket elemezve kapjuk, a Newton törvények nem mondják meg.\n",
    "\n",
    "- Nehézségi erő a Földfelszín közelében: $\\vec{F}=m\\cdot\\vec{g}$\n",
    "- Rugóban ébredő erő (egyenes mentén): $ F=-D\\cdot x$\n",
    "- Közegellenállás kis sebességek: $\\vec{F}=-C\\cdot\\vec{v}$\n",
    "- Közegellenállás nagy sebességek: $\\vec{F}=-C\\cdot\\vec{v}\\cdot|\\vec{v}|$  pontosabban  $\\vec{F}=-\\frac{1}{2}\\cdot C\\cdot \\rho \\cdot A \\cdot \\vec{v}\\cdot|\\vec{v}|$, ahol $C$ az alaktényező, $\\rho$ a közeg sűrűsége, $A$ a homlokfelület (mozgásirányra merőleges felület).\n",
    "- Csúszási súrlódás: felületet összenyomó erővel arányos nagyságú mozgást akadályozó $F=\\mu_0\\cdot N$\n",
    "\n"
   ]
  },
  {
   "cell_type": "markdown",
   "metadata": {
    "id": "7bOrjnzC680-"
   },
   "source": [
    "## Egyszerű mozgásegyenlet-megoldó"
   ]
  },
  {
   "cell_type": "markdown",
   "metadata": {
    "id": "ixlxIBnW680-"
   },
   "source": [
    "### A szükséges csomagok importálása"
   ]
  },
  {
   "cell_type": "code",
   "execution_count": 2,
   "metadata": {
    "executionInfo": {
     "elapsed": 323,
     "status": "ok",
     "timestamp": 1716467343961,
     "user": {
      "displayName": "Piroska Dömötör",
      "userId": "03696721308245428945"
     },
     "user_tz": -120
    },
    "id": "L_Ay40eT680-"
   },
   "outputs": [],
   "source": [
    "import numpy as np                 # Numpy  csomag - numerikus számítások\n",
    "import matplotlib.pyplot as plt    # MatPlotLib - ábrázolás\n",
    "%matplotlib inline"
   ]
  },
  {
   "cell_type": "markdown",
   "metadata": {
    "id": "qR6BLTpZ681A"
   },
   "source": [
    "### A léptetés megvalósítása függvénnyel\n",
    "Mik a releváns paraméterek?\n",
    "\n",
    "- aktuális helyzet $x$\n",
    "- aktuális sebesség $v$\n",
    "- erők eredője: $F$ függhet a tömegtől, sebességtől, helyzettől.\n",
    "- tömeg, mert a gyorsulás $a=\\dfrac{F}{m}$,\n",
    "- időlépés: $\\Delta t$\n",
    "\n",
    "Mit ad meg a függvény?\n",
    "- az új, $\\Delta t$ idővel későbbi helyzetet és sebességet"
   ]
  },
  {
   "cell_type": "code",
   "execution_count": 3,
   "metadata": {
    "executionInfo": {
     "elapsed": 347,
     "status": "ok",
     "timestamp": 1716467347429,
     "user": {
      "displayName": "Piroska Dömötör",
      "userId": "03696721308245428945"
     },
     "user_tz": -120
    },
    "id": "9U8cDZyT681A"
   },
   "outputs": [],
   "source": [
    "# Egyszerű, józan eszes léptetés: x és v értékek számítása gyorsulás alapján\n",
    "# F(xt,vt,m)\n",
    "\n",
    "def lepes(xt, vt, dt, F, m):\n",
    "\n",
    "    at = F(xt, vt, m) / m       # gyorsulás mozgásegyenletből\n",
    "    v_new = vt + at * dt        # új sebesség\n",
    "    x_new = xt + v_new * dt     # új helyzet\n",
    "    return (x_new , v_new)"
   ]
  },
  {
   "cell_type": "code",
   "execution_count": 5,
   "metadata": {
    "executionInfo": {
     "elapsed": 308,
     "status": "ok",
     "timestamp": 1716467505026,
     "user": {
      "displayName": "Piroska Dömötör",
      "userId": "03696721308245428945"
     },
     "user_tz": -120
    },
    "id": "VsRrtzCu681A"
   },
   "outputs": [],
   "source": [
    "# Néhány eredő erő erőfüggvénye\n",
    "# Alakra megfelel a léptetésnél használt erőfüggvény alaknak\n",
    "\n",
    "# F(xt,vt,m)\n",
    "\n",
    "# 1D rugóerő -------------------------------------\n",
    "def F_rugo(x, v, m):\n",
    "    D = 50.0\n",
    "    return -D*x\n",
    "\n",
    "# szabadesés közegellenállással -------------------\n",
    "def F_eses(x, v, m):\n",
    "    g = 9.81  # grav gyorsulás\n",
    "    C = 0.47  # alaktényező\n",
    "    A = 0.01  # keresztmetszet mozgásirányban\n",
    "    rho = 1.2 # közeg sűrűség\n",
    "    F = m * g\n",
    "    if v > 0:\n",
    "        F -= 0.5 * C * A * rho * v * abs(v)\n",
    "    return F"
   ]
  },
  {
   "cell_type": "markdown",
   "metadata": {
    "id": "jvI1z5NT681B"
   },
   "source": [
    "## Harmonikus rezgőmozgás (F_rugo)"
   ]
  },
  {
   "cell_type": "code",
   "execution_count": 17,
   "metadata": {
    "executionInfo": {
     "elapsed": 314,
     "status": "ok",
     "timestamp": 1716468566518,
     "user": {
      "displayName": "Piroska Dömötör",
      "userId": "03696721308245428945"
     },
     "user_tz": -120
    },
    "id": "WsD7hIRmccNo"
   },
   "outputs": [],
   "source": [
    "# kezdőértékek: kezdeti hely, sebesség ...\n",
    "x0 = 0.0     # kezdeti hely\n",
    "v0 = 2.0     # kezdő sebesség\n",
    "m = 16.0     # tömeg\n",
    "dt = 0.01    # időlépés\n",
    "t_max = 5.0  # végső időpont\n",
    "t0 = 0.0     # kezdeti időpont\n",
    "\n",
    "# változók inicializálása\n",
    "t, x, v = t0, x0, v0\n",
    "\n",
    "# Mi legyen az erő függvény?\n",
    "F = F_rugo"
   ]
  },
  {
   "cell_type": "code",
   "execution_count": 18,
   "metadata": {
    "executionInfo": {
     "elapsed": 7,
     "status": "ok",
     "timestamp": 1716468566763,
     "user": {
      "displayName": "Piroska Dömötör",
      "userId": "03696721308245428945"
     },
     "user_tz": -120
    },
    "id": "uIhodCu_ce-t"
   },
   "outputs": [],
   "source": [
    "# listákba gyűjtjük az eredményt\n",
    "t_list = []\n",
    "x_list = []\n",
    "v_list = []"
   ]
  },
  {
   "cell_type": "code",
   "execution_count": 19,
   "metadata": {
    "executionInfo": {
     "elapsed": 6,
     "status": "ok",
     "timestamp": 1716468567828,
     "user": {
      "displayName": "Piroska Dömötör",
      "userId": "03696721308245428945"
     },
     "user_tz": -120
    },
    "id": "esCSu7xw681B"
   },
   "outputs": [],
   "source": [
    "# tényleges futtatás CIKLUS\n",
    "while (t <= t_max):\n",
    "    x_list.append(x)\n",
    "    v_list.append(v)\n",
    "    x, v = lepes(x, v, dt, F, m)      #hely és sebesség léptetése F_eredo erőfüggvénnyel\n",
    "\n",
    "    t_list.append(t)\n",
    "    t += dt                             # idő léptetése"
   ]
  },
  {
   "cell_type": "code",
   "execution_count": 20,
   "metadata": {
    "colab": {
     "base_uri": "https://localhost:8080/",
     "height": 721
    },
    "executionInfo": {
     "elapsed": 1118,
     "status": "ok",
     "timestamp": 1716468571935,
     "user": {
      "displayName": "Piroska Dömötör",
      "userId": "03696721308245428945"
     },
     "user_tz": -120
    },
    "id": "lAJyUMKoclA9",
    "outputId": "d7d8a252-ee8d-40b1-d5bc-5532ff326032"
   },
   "outputs": [
    {
     "data": {
      "image/png": "[encoded data removed]",
      "text/plain": [
       "<Figure size 1800x1200 with 2 Axes>"
      ]
     },
     "metadata": {},
     "output_type": "display_data"
    }
   ],
   "source": [
    "# most kirajzoljuk: egy ábrán több grafikon\n",
    "fig = plt.figure(figsize=(18,12))\n",
    "# két rész-grafikon\n",
    "ax1 = fig.add_subplot(211)\n",
    "ax2 = fig.add_subplot(212)\n",
    "ax1.plot(t_list, x_list, color = \"red\") # az elsőbe az rx(t)\n",
    "ax2.plot(t_list, v_list, color = \"blue\") # a másodikba a vx(t)\n",
    "# grafikonok testreszabása\n",
    "ax1.grid()\n",
    "ax2.grid()\n",
    "ax1.set_xlabel(\"t\")\n",
    "ax1.set_ylabel(\"x(t)\")\n",
    "ax2.set_xlabel(\"t\")\n",
    "ax2.set_ylabel(\"v_x(t)\")\n",
    "plt.show()"
   ]
  },
  {
   "cell_type": "markdown",
   "metadata": {
    "id": "kCLmwTMw681D"
   },
   "source": [
    "## Szervezzük ki ezt az munkafolyamatot függvények segítségével\n",
    "\n",
    "- Egy függvény, ami elvégzi a számolást (eredménye az idő, hely sebesség adatok)\n",
    "- És egy másik ami listák/tömbök alapján ábrázol"
   ]
  },
  {
   "cell_type": "markdown",
   "metadata": {
    "id": "9aT0PzlmhwKI"
   },
   "source": [
    "### Számoló függvény\n",
    "\n",
    "Mik a számoló függvény paraméterei?\n",
    "- kezdeti hely,kezdő sebesség\n",
    "- időlépés, végső időpont\n",
    "- tömeg\n",
    "- használandó erőfüggvény (Előző F_rugo helyett tetszőleges F)\n",
    "\n",
    "Mi legyen a visszatérési érték?\n",
    "- idő adatok\n",
    "- hely adatok\n",
    "- sebesség adatok"
   ]
  },
  {
   "cell_type": "code",
   "execution_count": 21,
   "metadata": {
    "executionInfo": {
     "elapsed": 349,
     "status": "ok",
     "timestamp": 1716468618760,
     "user": {
      "displayName": "Piroska Dömötör",
      "userId": "03696721308245428945"
     },
     "user_tz": -120
    },
    "id": "CgPcQxAqoZXF"
   },
   "outputs": [],
   "source": [
    "def data_x_v(x0, v0 ,dt ,t_max, m, F):\n",
    "    t0 = 0.0\n",
    "\n",
    "    # változók inicializálása\n",
    "    t,x,v = t0, x0, v0\n",
    "\n",
    "    # listákba gyűjtjük az eredményt\n",
    "    t_list=[]\n",
    "    x_list=[]\n",
    "    v_list=[]\n",
    "\n",
    "    # tényleges futtatás CIKLUS\n",
    "    while (t <= t_max):\n",
    "        x_list.append(x)\n",
    "        v_list.append(v)\n",
    "        x , v = lepes(x,v,dt,F,m)       # tetszőleges F függvény\n",
    "\n",
    "        t_list.append(t)\n",
    "        t += dt\n",
    "\n",
    "    # tömbbé alakítjuk az eredményt\n",
    "    x_arr=np.asarray(x_list)\n",
    "    v_arr=np.asarray(v_list)\n",
    "    t_arr=np.asarray(t_list)           # legyen az idő is tömbben\n",
    "\n",
    "    return t_arr, x_arr, v_arr"
   ]
  },
  {
   "cell_type": "markdown",
   "metadata": {
    "id": "l1wnCXF8frCU"
   },
   "source": [
    "### Ábrázoló függvény\n",
    "\n",
    "Mik az ábrázoló függvény paraméterei?\n",
    "- idő adatok\n",
    "- hely adatok\n",
    "- sebesség adatok\n",
    "\n",
    "Mi legyen a visszatérési érték?\n",
    "- semmi\n",
    "- \"mellékahtásként\" készüljön el az ábra"
   ]
  },
  {
   "cell_type": "code",
   "execution_count": 22,
   "metadata": {
    "executionInfo": {
     "elapsed": 308,
     "status": "ok",
     "timestamp": 1716468695021,
     "user": {
      "displayName": "Piroska Dömötör",
      "userId": "03696721308245428945"
     },
     "user_tz": -120
    },
    "id": "5UANFhe3niI2"
   },
   "outputs": [],
   "source": [
    "def abra_1D_mozgas(t_data,x_data,v_data):\n",
    "    # most kirajzoljuk: egy ábrán több grafikon\n",
    "    fig=plt.figure(figsize=(14,8))\n",
    "    # két rész-grafikon\n",
    "    ax1=fig.add_subplot(211)\n",
    "    ax2=fig.add_subplot(212)\n",
    "    ax1.plot(t_data, x_data, color=\"red\") # az elsőbe az rx(t)\n",
    "    ax2.plot(t_data, v_data, color=\"blue\") # a másodikba a vx(t)\n",
    "    # grafikonok testreszabása\n",
    "    ax1.grid()\n",
    "    ax2.grid()\n",
    "    ax1.set_xlabel(\"t\")\n",
    "    ax1.set_ylabel(\"x(t)\")\n",
    "    ax2.set_xlabel(\"t\")\n",
    "    ax2.set_ylabel(\"v_x(t)\")\n",
    "    plt.show()"
   ]
  },
  {
   "cell_type": "markdown",
   "metadata": {
    "id": "mu0LYutjgoOY"
   },
   "source": [
    "### Harmonikus rezgőmozgás újra"
   ]
  },
  {
   "cell_type": "code",
   "execution_count": 23,
   "metadata": {
    "colab": {
     "base_uri": "https://localhost:8080/",
     "height": 630
    },
    "executionInfo": {
     "elapsed": 1324,
     "status": "ok",
     "timestamp": 1716468699837,
     "user": {
      "displayName": "Piroska Dömötör",
      "userId": "03696721308245428945"
     },
     "user_tz": -120
    },
    "id": "00ljvpI-oGMj",
    "outputId": "ac25e7bf-ed5a-4d82-98a2-cb90fc25e884"
   },
   "outputs": [
    {
     "data": {
      "image/png": "[encoded data removed]",
      "text/plain": [
       "<Figure size 1400x800 with 2 Axes>"
      ]
     },
     "metadata": {},
     "output_type": "display_data"
    }
   ],
   "source": [
    "x0 = 0.0     # kezdeti hely\n",
    "v0 = 2.0     # kezdő sebesség\n",
    "m = 1.0     # tömeg\n",
    "dt = 0.01    # időlépés\n",
    "t_max = 20.0  # végső időpont\n",
    "\n",
    "t_data,x_data,v_data = data_x_v(x0,v0,dt,t_max, m, F_rugo)\n",
    "\n",
    "abra_1D_mozgas(t_data,x_data,v_data)"
   ]
  },
  {
   "cell_type": "markdown",
   "metadata": {
    "id": "T6hANnmFiRAO"
   },
   "source": [
    "### Szabadesés közegellenállással (F_eses)\n",
    "Kellően hosszú idő alatt a sebesség állandósul\n",
    "\n",
    "- De mikor következik ez be adott paraméterek esetén?\n",
    "- Mekkora magasságból esve állandosul a sebesség?\n",
    "\n",
    "**Játszunk a paraméterekkel**: Mi történik, ha a tömeget változtatom?"
   ]
  },
  {
   "cell_type": "code",
   "execution_count": 24,
   "metadata": {
    "colab": {
     "base_uri": "https://localhost:8080/",
     "height": 634
    },
    "executionInfo": {
     "elapsed": 1006,
     "status": "ok",
     "timestamp": 1716468843402,
     "user": {
      "displayName": "Piroska Dömötör",
      "userId": "03696721308245428945"
     },
     "user_tz": -120
    },
    "id": "83_XrlRdiZyN",
    "outputId": "4d2eb7e5-3def-4452-ca9d-84e9e7b7b94c"
   },
   "outputs": [
    {
     "data": {
      "image/png": "[encoded data removed]",
      "text/plain": [
       "<Figure size 1400x800 with 2 Axes>"
      ]
     },
     "metadata": {},
     "output_type": "display_data"
    }
   ],
   "source": [
    "x0 = 0.0     # kezdeti hely\n",
    "v0 = 2.0     # kezdő sebesség\n",
    "m = 1.0     # tömeg\n",
    "dt = 0.01    # időlépés\n",
    "t_max = 20.0  # végső időpont\n",
    "\n",
    "t_data, x_data, v_data = data_x_v(x0,v0,dt,t_max, m, F_eses)\n",
    "\n",
    "abra_1D_mozgas(t_data,x_data,v_data)"
   ]
  },
  {
   "cell_type": "markdown",
   "metadata": {
    "id": "rQLlcel8681E"
   },
   "source": [
    "## Harmonikus rezgőmozgás\n",
    "**Játszunk a paraméterekkel** Mi történik ha a tömeget változtatom? Vagy ha az időlépés $dt$ túl nagy?\n"
   ]
  },
  {
   "cell_type": "code",
   "execution_count": 26,
   "metadata": {
    "colab": {
     "base_uri": "https://localhost:8080/",
     "height": 630
    },
    "executionInfo": {
     "elapsed": 1861,
     "status": "ok",
     "timestamp": 1716468891462,
     "user": {
      "displayName": "Piroska Dömötör",
      "userId": "03696721308245428945"
     },
     "user_tz": -120
    },
    "id": "k-8K5tDyglXd",
    "outputId": "793574fd-8ceb-4069-e922-311c49084696"
   },
   "outputs": [
    {
     "data": {
      "image/png": "[encoded data removed]",
      "text/plain": [
       "<Figure size 1400x800 with 2 Axes>"
      ]
     },
     "metadata": {},
     "output_type": "display_data"
    }
   ],
   "source": [
    "x0 = 0.0     # kezdeti hely\n",
    "v0 = 2.0     # kezdő sebesség\n",
    "m = 1.0     # tömeg\n",
    "dt = 0.1    # időlépés\n",
    "t_max = 5.0  # végső időpont\n",
    "\n",
    "t_data,x_data,v_data = data_x_v(x0,v0,dt,t_max, m, F_rugo)\n",
    "abra_1D_mozgas(t_data,x_data,v_data)"
   ]
  },
  {
   "cell_type": "markdown",
   "metadata": {
    "id": "NRFB9GFO681F"
   },
   "source": [
    "### mekkora a rezgés amplitúdója, maximális sebessége?"
   ]
  },
  {
   "cell_type": "code",
   "execution_count": 27,
   "metadata": {
    "colab": {
     "base_uri": "https://localhost:8080/"
    },
    "executionInfo": {
     "elapsed": 844,
     "status": "ok",
     "timestamp": 1716468976148,
     "user": {
      "displayName": "Piroska Dömötör",
      "userId": "03696721308245428945"
     },
     "user_tz": -120
    },
    "id": "oh_BCqxr8z7i",
    "outputId": "07f887ad-c6e6-4069-f548-21f099a78353"
   },
   "outputs": [
    {
     "data": {
      "text/plain": [
       "0.30215752643125615"
      ]
     },
     "execution_count": 27,
     "metadata": {},
     "output_type": "execute_result"
    }
   ],
   "source": [
    "x_data.max()   # amplitudo"
   ]
  },
  {
   "cell_type": "code",
   "execution_count": 28,
   "metadata": {
    "colab": {
     "base_uri": "https://localhost:8080/"
    },
    "executionInfo": {
     "elapsed": 7,
     "status": "ok",
     "timestamp": 1716468976456,
     "user": {
      "displayName": "Piroska Dömötör",
      "userId": "03696721308245428945"
     },
     "user_tz": -120
    },
    "id": "KGQ9r1Pqljop",
    "outputId": "62f1a1a2-9425-40ad-a971-f2c424dae5ff"
   },
   "outputs": [
    {
     "data": {
      "text/plain": [
       "-0.30236091873805915"
      ]
     },
     "execution_count": 28,
     "metadata": {},
     "output_type": "execute_result"
    }
   ],
   "source": [
    "x_data.min()"
   ]
  },
  {
   "cell_type": "code",
   "execution_count": 29,
   "metadata": {
    "colab": {
     "base_uri": "https://localhost:8080/"
    },
    "executionInfo": {
     "elapsed": 397,
     "status": "ok",
     "timestamp": 1716468977967,
     "user": {
      "displayName": "Piroska Dömötör",
      "userId": "03696721308245428945"
     },
     "user_tz": -120
    },
    "id": "0Sp2cvSpg2p2",
    "outputId": "da7b7e59-a02d-4931-eda9-0a1b2389322f"
   },
   "outputs": [
    {
     "data": {
      "text/plain": [
       "2.137523784024098"
      ]
     },
     "execution_count": 29,
     "metadata": {},
     "output_type": "execute_result"
    }
   ],
   "source": [
    "v_data.max()  # maximális sebesség"
   ]
  },
  {
   "cell_type": "code",
   "execution_count": 30,
   "metadata": {
    "colab": {
     "base_uri": "https://localhost:8080/"
    },
    "executionInfo": {
     "elapsed": 6,
     "status": "ok",
     "timestamp": 1716468978955,
     "user": {
      "displayName": "Piroska Dömötör",
      "userId": "03696721308245428945"
     },
     "user_tz": -120
    },
    "id": "6SS1yMngg6ZH",
    "outputId": "d065b7d9-9264-4864-8f7f-abbf6f0b3faa"
   },
   "outputs": [
    {
     "name": "stdout",
     "output_type": "stream",
     "text": [
      "A rezgés amplitúdója: 0.30 m\n",
      "A rezgés maximális sebessége: 2.14 m/s\n"
     ]
    }
   ],
   "source": [
    "# szebben kiíratva:\n",
    "print(f\"A rezgés amplitúdója: {x_data.max():0.2f} m\")\n",
    "print(f\"A rezgés maximális sebessége: {v_data.max():0.2f} m/s\")"
   ]
  },
  {
   "cell_type": "markdown",
   "metadata": {
    "id": "3D6ZUugo681F"
   },
   "source": [
    "### Mekkora volt a periódusidő?\n",
    "2 szomszédos maximumhely időbeli távolsága\n",
    "\n",
    "De hol vannak a maximum helyek?\n",
    "\n",
    "Ott maximális egy függvény értéke, ahol előtte nőtt, utána pedig csökkent. Azaz $x_i$-ben helyi maximum van, ha:  $x_i> x_{i-1}$ és $x_i > x_{i+1}$."
   ]
  },
  {
   "cell_type": "code",
   "execution_count": 31,
   "metadata": {
    "colab": {
     "base_uri": "https://localhost:8080/"
    },
    "executionInfo": {
     "elapsed": 326,
     "status": "ok",
     "timestamp": 1716468981861,
     "user": {
      "displayName": "Piroska Dömötör",
      "userId": "03696721308245428945"
     },
     "user_tz": -120
    },
    "id": "cScY289xkHC8",
    "outputId": "fc9e5347-9027-40af-d324-22bb983fe8d0"
   },
   "outputs": [
    {
     "name": "stdout",
     "output_type": "stream",
     "text": [
      "Maximumhelyek: [0.2 1.1 2.  2.8 3.7 4.6]\n"
     ]
    }
   ],
   "source": [
    "# x helyi maximumainak kiválasztása\n",
    "x_loc_max = np.zeros(x_data.shape, dtype=bool)  # x_arr-ral egy méretű bool (logikai) tömb foglalása\n",
    "\n",
    "# legyen az érték nagyobb, mint az előtte és a utána levő is:\n",
    "x_loc_max[1:-1] = (x_data[1:-1]>x_data[0:-2])  & (x_data[1:-1] > x_data[2:])\n",
    "# x_loc_max: ott True, ahol helyi maximum van\n",
    "\n",
    "# maximumok időpontjai\n",
    "t_loc_max = t_data[x_loc_max]\n",
    "\n",
    "print(\"Maximumhelyek:\", t_loc_max)"
   ]
  },
  {
   "cell_type": "code",
   "execution_count": 32,
   "metadata": {
    "colab": {
     "base_uri": "https://localhost:8080/"
    },
    "executionInfo": {
     "elapsed": 417,
     "status": "ok",
     "timestamp": 1716468983600,
     "user": {
      "displayName": "Piroska Dömötör",
      "userId": "03696721308245428945"
     },
     "user_tz": -120
    },
    "id": "6DEa1-JwnBuA",
    "outputId": "ec114e01-0dee-4dbe-b1da-3a3a771fc592"
   },
   "outputs": [
    {
     "name": "stdout",
     "output_type": "stream",
     "text": [
      "Első két maximum különbsége: 0.9000000 s\n"
     ]
    }
   ],
   "source": [
    "# első két max különbsége:\n",
    "print(f\"Első két maximum különbsége: {t_loc_max[1]-t_loc_max[0]:0.7f} s\")"
   ]
  },
  {
   "cell_type": "code",
   "execution_count": 33,
   "metadata": {
    "colab": {
     "base_uri": "https://localhost:8080/"
    },
    "executionInfo": {
     "elapsed": 420,
     "status": "ok",
     "timestamp": 1716468987077,
     "user": {
      "displayName": "Piroska Dömötör",
      "userId": "03696721308245428945"
     },
     "user_tz": -120
    },
    "id": "54F0Bq9Ym0ql",
    "outputId": "f78ac741-64b0-43bb-c01a-2ea4316fb1ed"
   },
   "outputs": [
    {
     "name": "stdout",
     "output_type": "stream",
     "text": [
      "Szomszédos maximumok különbsége: [0.9 0.9 0.8 0.9 0.9]\n"
     ]
    }
   ],
   "source": [
    "# tényleg változatlan a periódusidő?\n",
    "print(\"Szomszédos maximumok különbsége:\",t_loc_max[1:]-t_loc_max[0:-1])"
   ]
  },
  {
   "cell_type": "code",
   "execution_count": 34,
   "metadata": {
    "colab": {
     "base_uri": "https://localhost:8080/"
    },
    "executionInfo": {
     "elapsed": 307,
     "status": "ok",
     "timestamp": 1716468995574,
     "user": {
      "displayName": "Piroska Dömötör",
      "userId": "03696721308245428945"
     },
     "user_tz": -120
    },
    "id": "5O7PZ-_Tm3YE",
    "outputId": "322bd8cf-09c4-4de2-b166-449581031157"
   },
   "outputs": [
    {
     "name": "stdout",
     "output_type": "stream",
     "text": [
      "Pontosabb periódusidő:0.8800000 s\n"
     ]
    }
   ],
   "source": [
    "# pontosabb periódusidő:\n",
    "T=(t_loc_max[-1]-t_loc_max[0])/(len(t_loc_max)-1)\n",
    "print(f\"Pontosabb periódusidő:{T:0.7f} s\")"
   ]
  },
  {
   "cell_type": "markdown",
   "metadata": {
    "id": "_nBV06ww681H"
   },
   "source": [
    "## Csillapodó rezgőmozgás"
   ]
  },
  {
   "cell_type": "code",
   "execution_count": 36,
   "metadata": {
    "executionInfo": {
     "elapsed": 244,
     "status": "ok",
     "timestamp": 1716469043629,
     "user": {
      "displayName": "Piroska Dömötör",
      "userId": "03696721308245428945"
     },
     "user_tz": -120
    },
    "id": "kxJfQicU681I"
   },
   "outputs": [],
   "source": [
    "# 1D rugó, lineáris közegellenállás\n",
    "\n",
    "def F_rugo_kozeg_lin(r,v,m):\n",
    "    C_lin = 1.0   #   F_közeg= -C_lin*v\n",
    "    F=F_rugo(r,v,m) - C_lin*v\n",
    "    return F\n",
    "\n",
    "\n",
    "# 1D rugó, négyzetes közegellenállás\n",
    "\n",
    "def F_rugo_kozeg_negyz(r,v,m):\n",
    "    C_negyz=0.47\n",
    "    A = 0.5\n",
    "    rho = 1.2\n",
    "    F=F_rugo(r,v,m) - 0.5*C_negyz*A*rho*v*np.abs(v)\n",
    "    return F\n",
    "\n",
    "\n",
    "# 1D rugó, súrlódásos fékeződés\n",
    "\n",
    "def F_rugo_surl(r,v,m):\n",
    "    mu  = 0.15\n",
    "    g = 9.81\n",
    "    if np.abs(v)<1e-10:\n",
    "        F=F_rugo(r,v,m)\n",
    "    else:\n",
    "        F=F_rugo(r,v,m) - mu*m*g*v/(np.abs(v))\n",
    "    return F"
   ]
  },
  {
   "cell_type": "code",
   "execution_count": 37,
   "metadata": {
    "colab": {
     "base_uri": "https://localhost:8080/",
     "height": 630
    },
    "executionInfo": {
     "elapsed": 912,
     "status": "ok",
     "timestamp": 1716469045246,
     "user": {
      "displayName": "Piroska Dömötör",
      "userId": "03696721308245428945"
     },
     "user_tz": -120
    },
    "id": "Rb5Qbb9RkMET",
    "outputId": "8089ac5d-4102-42ef-c346-10d75cdb562f"
   },
   "outputs": [
    {
     "data": {
      "image/png": "[encoded data removed]",
      "text/plain": [
       "<Figure size 1400x800 with 2 Axes>"
      ]
     },
     "metadata": {},
     "output_type": "display_data"
    }
   ],
   "source": [
    "x0 = 0.0     # kezdeti hely\n",
    "v0 = 2.0     # kezdő sebesség\n",
    "m = 5.0     # tömeg\n",
    "dt = 0.01    # időlépés\n",
    "t_max = 20.0  # végső időpont\n",
    "\n",
    "t_data,x_data,v_data = data_x_v(x0,v0,dt,t_max, m, F_rugo_kozeg_lin)\n",
    "abra_1D_mozgas(t_data,x_data,v_data)"
   ]
  }
 ],
 "metadata": {
  "colab": {
   "provenance": [
    {
     "file_id": "1IS3vscUfHJF3bnN2CODTU6QW_dVdFqMr",
     "timestamp": 1681799254315
    }
   ]
  },
  "kernelspec": {
   "display_name": "Python 3 (ipykernel)",
   "language": "python",
   "name": "python3"
  },
  "language_info": {
   "codemirror_mode": {
    "name": "ipython",
    "version": 3
   },
   "file_extension": ".py",
   "mimetype": "text/x-python",
   "name": "python",
   "nbconvert_exporter": "python",
   "pygments_lexer": "ipython3",
   "version": "3.9.15"
  }
 },
 "nbformat": 4,
 "nbformat_minor": 4
}
