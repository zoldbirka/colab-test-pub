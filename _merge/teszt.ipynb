{
 "cells": [
  {
   "cell_type": "code",
   "execution_count": 3,
   "metadata": {},
   "outputs": [
    {
     "name": "stdout",
     "output_type": "stream",
     "text": [
      "--2024-08-23 11:00:22--  https://github.com/zoldbirka/colab-test-pub/blob/master/_pdf/01_PythonBev_adat_alapmuv.pdf?raw=true\n",
      "github.com (github.com) feloldása… 140.82.121.4\n",
      "Csatlakozás a következőhöz: github.com (github.com)[140.82.121.4]:443… kapcsolódva.\n",
      "HTTP kérés elküldve, várakozás válaszra… 302 Found\n",
      "Hely: https://github.com/zoldbirka/colab-test-pub/raw/master/_pdf/01_PythonBev_adat_alapmuv.pdf [következik]\n",
      "--2024-08-23 11:00:22--  https://github.com/zoldbirka/colab-test-pub/raw/master/_pdf/01_PythonBev_adat_alapmuv.pdf\n",
      "Meglévő kapcsolat újrafelhasználása a következőhöz: github.com:443.\n",
      "HTTP kérés elküldve, várakozás válaszra… 302 Found\n",
      "Hely: https://raw.githubusercontent.com/zoldbirka/colab-test-pub/master/_pdf/01_PythonBev_adat_alapmuv.pdf [következik]\n",
      "--2024-08-23 11:00:22--  https://raw.githubusercontent.com/zoldbirka/colab-test-pub/master/_pdf/01_PythonBev_adat_alapmuv.pdf\n",
      "raw.githubusercontent.com (raw.githubusercontent.com) feloldása… 185.199.108.133, 185.199.111.133, 185.199.109.133, ...\n",
      "Csatlakozás a következőhöz: raw.githubusercontent.com (raw.githubusercontent.com)[185.199.108.133]:443… kapcsolódva.\n",
      "HTTP kérés elküldve, várakozás válaszra… 200 OK\n",
      "Hossz: 90281 (88K) [application/octet-stream]\n",
      "Mentés ide: „01_PythonBev_adat_alapmuv.pdf?raw=true”\n",
      "\n",
      "01_PythonBev_adat_a 100%[===================>]  88,17K  --.-KB/s    idő 0,04s  \n",
      "\n",
      "2024-08-23 11:00:23 (2,04 MB/s) -- „01_PythonBev_adat_alapmuv.pdf?raw=true” mentve [90281/90281]\n",
      "\n"
     ]
    }
   ],
   "source": [
    "!wget https://github.com/zoldbirka/colab-test-pub/blob/master/_pdf/01_PythonBev_adat_alapmuv.pdf?raw=true"
   ]
  },
  {
   "cell_type": "code",
   "execution_count": 4,
   "metadata": {},
   "outputs": [
    {
     "name": "stdout",
     "output_type": "stream",
     "text": [
      "--2024-08-23 11:01:37--  https://raw.githubusercontent.com/zoldbirka/colab-test-pub/master/_pdf/01_PythonBev_adat_alapmuv.pdf\n",
      "raw.githubusercontent.com (raw.githubusercontent.com) feloldása… 185.199.108.133, 185.199.111.133, 185.199.109.133, ...\n",
      "Csatlakozás a következőhöz: raw.githubusercontent.com (raw.githubusercontent.com)[185.199.108.133]:443… kapcsolódva.\n",
      "HTTP kérés elküldve, várakozás válaszra… 200 OK\n",
      "Hossz: 90281 (88K) [application/octet-stream]\n",
      "Mentés ide: „01_PythonBev_adat_alapmuv.pdf”\n",
      "\n",
      "01_PythonBev_adat_a 100%[===================>]  88,17K  --.-KB/s    idő 0,03s  \n",
      "\n",
      "2024-08-23 11:01:37 (2,70 MB/s) -- „01_PythonBev_adat_alapmuv.pdf” mentve [90281/90281]\n",
      "\n"
     ]
    }
   ],
   "source": [
    "!wget https://raw.githubusercontent.com/zoldbirka/colab-test-pub/master/_pdf/01_PythonBev_adat_alapmuv.pdf"
   ]
  },
  {
   "cell_type": "code",
   "execution_count": null,
   "metadata": {},
   "outputs": [],
   "source": []
  }
 ],
 "metadata": {
  "kernelspec": {
   "display_name": "pylatest",
   "language": "python",
   "name": "python3"
  },
  "language_info": {
   "codemirror_mode": {
    "name": "ipython",
    "version": 3
   },
   "file_extension": ".py",
   "mimetype": "text/x-python",
   "name": "python",
   "nbconvert_exporter": "python",
   "pygments_lexer": "ipython3",
   "version": "3.9.15"
  }
 },
 "nbformat": 4,
 "nbformat_minor": 2
}
